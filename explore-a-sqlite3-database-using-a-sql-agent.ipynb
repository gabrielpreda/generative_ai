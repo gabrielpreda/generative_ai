{
 "cells": [
  {
   "cell_type": "markdown",
   "id": "14f118d4",
   "metadata": {
    "papermill": {
     "duration": 0.006219,
     "end_time": "2023-10-29T09:13:47.108683",
     "exception": false,
     "start_time": "2023-10-29T09:13:47.102464",
     "status": "completed"
    },
    "tags": []
   },
   "source": [
    "# Introduction  \n",
    "\n",
    "Let's investigate how we can use a Langchain SQL Agent to explore a database."
   ]
  },
  {
   "cell_type": "markdown",
   "id": "6c1021bf",
   "metadata": {
    "papermill": {
     "duration": 0.005713,
     "end_time": "2023-10-29T09:13:47.120392",
     "exception": false,
     "start_time": "2023-10-29T09:13:47.114679",
     "status": "completed"
    },
    "tags": []
   },
   "source": [
    "# Packages installation and import"
   ]
  },
  {
   "cell_type": "code",
   "execution_count": 1,
   "id": "23aec109",
   "metadata": {
    "execution": {
     "iopub.execute_input": "2023-10-29T09:13:47.134061Z",
     "iopub.status.busy": "2023-10-29T09:13:47.133522Z",
     "iopub.status.idle": "2023-10-29T09:14:25.290693Z",
     "shell.execute_reply": "2023-10-29T09:14:25.289544Z"
    },
    "papermill": {
     "duration": 38.167424,
     "end_time": "2023-10-29T09:14:25.293659",
     "exception": false,
     "start_time": "2023-10-29T09:13:47.126235",
     "status": "completed"
    },
    "tags": []
   },
   "outputs": [],
   "source": [
    "!pip install -q -U langchain\n",
    "!pip install -q -U openai"
   ]
  },
  {
   "cell_type": "code",
   "execution_count": 2,
   "id": "4d09514f",
   "metadata": {
    "execution": {
     "iopub.execute_input": "2023-10-29T09:14:25.307418Z",
     "iopub.status.busy": "2023-10-29T09:14:25.307034Z",
     "iopub.status.idle": "2023-10-29T09:14:28.471467Z",
     "shell.execute_reply": "2023-10-29T09:14:28.470308Z"
    },
    "papermill": {
     "duration": 3.174186,
     "end_time": "2023-10-29T09:14:28.473978",
     "exception": false,
     "start_time": "2023-10-29T09:14:25.299792",
     "status": "completed"
    },
    "tags": []
   },
   "outputs": [],
   "source": [
    "from langchain.agents import create_sql_agent \n",
    "from langchain.agents.agent_toolkits import SQLDatabaseToolkit \n",
    "from langchain.sql_database import SQLDatabase \n",
    "from langchain.llms.openai import OpenAI \n",
    "from langchain.agents import AgentExecutor \n",
    "from langchain.agents.agent_types import AgentType\n",
    "from langchain.chat_models import ChatOpenAI"
   ]
  },
  {
   "cell_type": "markdown",
   "id": "fe84d924",
   "metadata": {
    "papermill": {
     "duration": 0.005677,
     "end_time": "2023-10-29T09:14:28.485901",
     "exception": false,
     "start_time": "2023-10-29T09:14:28.480224",
     "status": "completed"
    },
    "tags": []
   },
   "source": [
    "# Setup the database connection"
   ]
  },
  {
   "cell_type": "code",
   "execution_count": 3,
   "id": "80c0d2a2",
   "metadata": {
    "execution": {
     "iopub.execute_input": "2023-10-29T09:14:28.499846Z",
     "iopub.status.busy": "2023-10-29T09:14:28.499268Z",
     "iopub.status.idle": "2023-10-29T09:14:28.504315Z",
     "shell.execute_reply": "2023-10-29T09:14:28.503380Z"
    },
    "papermill": {
     "duration": 0.014685,
     "end_time": "2023-10-29T09:14:28.506530",
     "exception": false,
     "start_time": "2023-10-29T09:14:28.491845",
     "status": "completed"
    },
    "tags": []
   },
   "outputs": [],
   "source": [
    "sqlite_path = \"/kaggle/input/24169-pitchfork-reviews/data.sqlite3\"\n",
    "sqlite_uri = f\"sqlite:///{sqlite_path}\""
   ]
  },
  {
   "cell_type": "code",
   "execution_count": 4,
   "id": "11424462",
   "metadata": {
    "execution": {
     "iopub.execute_input": "2023-10-29T09:14:28.520008Z",
     "iopub.status.busy": "2023-10-29T09:14:28.519613Z",
     "iopub.status.idle": "2023-10-29T09:14:28.758406Z",
     "shell.execute_reply": "2023-10-29T09:14:28.757401Z"
    },
    "papermill": {
     "duration": 0.248943,
     "end_time": "2023-10-29T09:14:28.761412",
     "exception": false,
     "start_time": "2023-10-29T09:14:28.512469",
     "status": "completed"
    },
    "tags": []
   },
   "outputs": [],
   "source": [
    "db = SQLDatabase.from_uri(sqlite_uri)"
   ]
  },
  {
   "cell_type": "markdown",
   "id": "e7ea0d90",
   "metadata": {
    "papermill": {
     "duration": 0.00609,
     "end_time": "2023-10-29T09:14:28.773583",
     "exception": false,
     "start_time": "2023-10-29T09:14:28.767493",
     "status": "completed"
    },
    "tags": []
   },
   "source": [
    "# Configure ChatOpenAI"
   ]
  },
  {
   "cell_type": "markdown",
   "id": "021bc503",
   "metadata": {
    "papermill": {
     "duration": 0.00576,
     "end_time": "2023-10-29T09:14:28.785407",
     "exception": false,
     "start_time": "2023-10-29T09:14:28.779647",
     "status": "completed"
    },
    "tags": []
   },
   "source": [
    "We will need the connection token for OpenAI. We extract it from the secrets."
   ]
  },
  {
   "cell_type": "code",
   "execution_count": 5,
   "id": "673234ae",
   "metadata": {
    "execution": {
     "iopub.execute_input": "2023-10-29T09:14:28.798864Z",
     "iopub.status.busy": "2023-10-29T09:14:28.798466Z",
     "iopub.status.idle": "2023-10-29T09:14:28.809397Z",
     "shell.execute_reply": "2023-10-29T09:14:28.808346Z"
    },
    "papermill": {
     "duration": 0.020509,
     "end_time": "2023-10-29T09:14:28.811789",
     "exception": false,
     "start_time": "2023-10-29T09:14:28.791280",
     "status": "completed"
    },
    "tags": []
   },
   "outputs": [],
   "source": [
    "from kaggle_secrets import UserSecretsClient\n",
    "user_secrets = UserSecretsClient()"
   ]
  },
  {
   "cell_type": "markdown",
   "id": "b98f3f06",
   "metadata": {
    "papermill": {
     "duration": 0.005597,
     "end_time": "2023-10-29T09:14:28.823439",
     "exception": false,
     "start_time": "2023-10-29T09:14:28.817842",
     "status": "completed"
    },
    "tags": []
   },
   "source": [
    "We initialize the LLM that will be used to power the SQLAgent.\n",
    "For this experiment, we will use ChatGPT (`gpt-3.5-turbo`)."
   ]
  },
  {
   "cell_type": "code",
   "execution_count": 6,
   "id": "7c3662f9",
   "metadata": {
    "execution": {
     "iopub.execute_input": "2023-10-29T09:14:28.836726Z",
     "iopub.status.busy": "2023-10-29T09:14:28.836327Z",
     "iopub.status.idle": "2023-10-29T09:14:29.174962Z",
     "shell.execute_reply": "2023-10-29T09:14:29.174087Z"
    },
    "papermill": {
     "duration": 0.348202,
     "end_time": "2023-10-29T09:14:29.177484",
     "exception": false,
     "start_time": "2023-10-29T09:14:28.829282",
     "status": "completed"
    },
    "tags": []
   },
   "outputs": [],
   "source": [
    "llm = ChatOpenAI(temperature=0, \n",
    "                 openai_api_key=user_secrets.get_secret(\"OPENAI_API_KEY\"), \n",
    "                 model_name='gpt-3.5-turbo')"
   ]
  },
  {
   "cell_type": "markdown",
   "id": "b96b5c37",
   "metadata": {
    "papermill": {
     "duration": 0.005601,
     "end_time": "2023-10-29T09:14:29.189180",
     "exception": false,
     "start_time": "2023-10-29T09:14:29.183579",
     "status": "completed"
    },
    "tags": []
   },
   "source": [
    "We initialize now the SQL toolkit with the LLM and with the database connection."
   ]
  },
  {
   "cell_type": "code",
   "execution_count": 7,
   "id": "8549afb6",
   "metadata": {
    "execution": {
     "iopub.execute_input": "2023-10-29T09:14:29.202773Z",
     "iopub.status.busy": "2023-10-29T09:14:29.201924Z",
     "iopub.status.idle": "2023-10-29T09:14:29.206421Z",
     "shell.execute_reply": "2023-10-29T09:14:29.205546Z"
    },
    "papermill": {
     "duration": 0.013417,
     "end_time": "2023-10-29T09:14:29.208377",
     "exception": false,
     "start_time": "2023-10-29T09:14:29.194960",
     "status": "completed"
    },
    "tags": []
   },
   "outputs": [],
   "source": [
    "toolkit = SQLDatabaseToolkit(db=db, \n",
    "                             llm=llm)"
   ]
  },
  {
   "cell_type": "markdown",
   "id": "21ef1eb7",
   "metadata": {
    "papermill": {
     "duration": 0.005616,
     "end_time": "2023-10-29T09:14:29.220046",
     "exception": false,
     "start_time": "2023-10-29T09:14:29.214430",
     "status": "completed"
    },
    "tags": []
   },
   "source": [
    "# Prepare the SQL Agent"
   ]
  },
  {
   "cell_type": "markdown",
   "id": "aaad337d",
   "metadata": {
    "papermill": {
     "duration": 0.005501,
     "end_time": "2023-10-29T09:14:29.231314",
     "exception": false,
     "start_time": "2023-10-29T09:14:29.225813",
     "status": "completed"
    },
    "tags": []
   },
   "source": [
    "The Agent executor is initialized with `create_sql_agent` from Langchain, setting the LLM parameter, the toolkit parameter, and the agent type.\n",
    "We want to be able to monitor the entire process, therefore we set the parameter `verbose` to `True`."
   ]
  },
  {
   "cell_type": "code",
   "execution_count": 8,
   "id": "0e45f39c",
   "metadata": {
    "execution": {
     "iopub.execute_input": "2023-10-29T09:14:29.244816Z",
     "iopub.status.busy": "2023-10-29T09:14:29.244246Z",
     "iopub.status.idle": "2023-10-29T09:14:29.250498Z",
     "shell.execute_reply": "2023-10-29T09:14:29.249716Z"
    },
    "papermill": {
     "duration": 0.015386,
     "end_time": "2023-10-29T09:14:29.252590",
     "exception": false,
     "start_time": "2023-10-29T09:14:29.237204",
     "status": "completed"
    },
    "tags": []
   },
   "outputs": [],
   "source": [
    "agent_executor = create_sql_agent(\n",
    "    llm=llm,\n",
    "    toolkit=toolkit,\n",
    "    verbose=True,\n",
    "    agent_type=AgentType.ZERO_SHOT_REACT_DESCRIPTION,\n",
    ")"
   ]
  },
  {
   "cell_type": "markdown",
   "id": "ac0b63a3",
   "metadata": {
    "papermill": {
     "duration": 0.005684,
     "end_time": "2023-10-29T09:14:29.264208",
     "exception": false,
     "start_time": "2023-10-29T09:14:29.258524",
     "status": "completed"
    },
    "tags": []
   },
   "source": [
    "# Test the agent"
   ]
  },
  {
   "cell_type": "markdown",
   "id": "8d500d46",
   "metadata": {
    "papermill": {
     "duration": 0.005395,
     "end_time": "2023-10-29T09:14:29.275512",
     "exception": false,
     "start_time": "2023-10-29T09:14:29.270117",
     "status": "completed"
    },
    "tags": []
   },
   "source": [
    "Now we will test the agent with few simple tasks."
   ]
  },
  {
   "cell_type": "code",
   "execution_count": 9,
   "id": "9dda2751",
   "metadata": {
    "execution": {
     "iopub.execute_input": "2023-10-29T09:14:29.288827Z",
     "iopub.status.busy": "2023-10-29T09:14:29.288275Z",
     "iopub.status.idle": "2023-10-29T09:14:30.716042Z",
     "shell.execute_reply": "2023-10-29T09:14:30.715190Z"
    },
    "papermill": {
     "duration": 1.437127,
     "end_time": "2023-10-29T09:14:30.718356",
     "exception": false,
     "start_time": "2023-10-29T09:14:29.281229",
     "status": "completed"
    },
    "tags": []
   },
   "outputs": [
    {
     "name": "stdout",
     "output_type": "stream",
     "text": [
      "\n",
      "\n",
      "\u001b[1m> Entering new AgentExecutor chain...\u001b[0m\n",
      "\u001b[32;1m\u001b[1;3mAction: sql_db_list_tables\n",
      "Action Input: \"\"\u001b[0m\n",
      "Observation: \u001b[38;5;200m\u001b[1;3martist_review_map, artists, author_review_map, genre_review_map, label_review_map, reviews, tombstone_release_year_map, tombstones\u001b[0m\n",
      "Thought:\u001b[32;1m\u001b[1;3mI now know the tables in the database.\n",
      "Final Answer: The tables in the database are artist_review_map, artists, author_review_map, genre_review_map, label_review_map, reviews, tombstone_release_year_map, and tombstones.\u001b[0m\n",
      "\n",
      "\u001b[1m> Finished chain.\u001b[0m\n"
     ]
    },
    {
     "data": {
      "text/plain": [
       "'The tables in the database are artist_review_map, artists, author_review_map, genre_review_map, label_review_map, reviews, tombstone_release_year_map, and tombstones.'"
      ]
     },
     "execution_count": 9,
     "metadata": {},
     "output_type": "execute_result"
    }
   ],
   "source": [
    "question = \"Just list the tables in the database\"\n",
    "agent_executor.run(question)"
   ]
  },
  {
   "cell_type": "code",
   "execution_count": 10,
   "id": "f32ff182",
   "metadata": {
    "execution": {
     "iopub.execute_input": "2023-10-29T09:14:30.733451Z",
     "iopub.status.busy": "2023-10-29T09:14:30.733096Z",
     "iopub.status.idle": "2023-10-29T09:14:33.190577Z",
     "shell.execute_reply": "2023-10-29T09:14:33.189344Z"
    },
    "papermill": {
     "duration": 2.467717,
     "end_time": "2023-10-29T09:14:33.192778",
     "exception": false,
     "start_time": "2023-10-29T09:14:30.725061",
     "status": "completed"
    },
    "tags": []
   },
   "outputs": [
    {
     "name": "stdout",
     "output_type": "stream",
     "text": [
      "\n",
      "\n",
      "\u001b[1m> Entering new AgentExecutor chain...\u001b[0m\n",
      "\u001b[32;1m\u001b[1;3mAction: sql_db_list_tables\n",
      "Action Input: \"\"\u001b[0m\n",
      "Observation: \u001b[38;5;200m\u001b[1;3martist_review_map, artists, author_review_map, genre_review_map, label_review_map, reviews, tombstone_release_year_map, tombstones\u001b[0m\n",
      "Thought:\u001b[32;1m\u001b[1;3mThe 'artists' table exists in the database. I can now query the schema of the 'artists' table.\n",
      "Action: sql_db_schema\n",
      "Action Input: \"artists\"\u001b[0m\n",
      "Observation: \u001b[33;1m\u001b[1;3m\n",
      "CREATE TABLE artists (\n",
      "\tartist_id VARCHAR NOT NULL, \n",
      "\tname VARCHAR NOT NULL, \n",
      "\tartist_url VARCHAR, \n",
      "\tPRIMARY KEY (artist_id)\n",
      ")\n",
      "\n",
      "/*\n",
      "3 rows from artists table:\n",
      "artist_id\tname\tartist_url\n",
      "4847-avarus\tAvarus\t/artists/4847-avarus/\n",
      "33420-pinegrove\tPinegrove\t/artists/33420-pinegrove/\n",
      "2438-le-tigre\tLe Tigre\t/artists/2438-le-tigre/\n",
      "*/\u001b[0m\n",
      "Thought:\u001b[32;1m\u001b[1;3mThe 'artists' table has the following structure:\n",
      "- artist_id (VARCHAR)\n",
      "- name (VARCHAR)\n",
      "- artist_url (VARCHAR)\n",
      "\n",
      "The table contains 3 rows with the columns artist_id, name, and artist_url.\n",
      "\n",
      "Final Answer: The structure of the 'artists' table is:\n",
      "- artist_id (VARCHAR)\n",
      "- name (VARCHAR)\n",
      "- artist_url (VARCHAR)\u001b[0m\n",
      "\n",
      "\u001b[1m> Finished chain.\u001b[0m\n"
     ]
    },
    {
     "data": {
      "text/plain": [
       "\"The structure of the 'artists' table is:\\n- artist_id (VARCHAR)\\n- name (VARCHAR)\\n- artist_url (VARCHAR)\""
      ]
     },
     "execution_count": 10,
     "metadata": {},
     "output_type": "execute_result"
    }
   ],
   "source": [
    "question = \"What is the structure of table 'artists'\"\n",
    "agent_executor.run(question)"
   ]
  },
  {
   "cell_type": "markdown",
   "id": "f855f700",
   "metadata": {
    "papermill": {
     "duration": 0.006451,
     "end_time": "2023-10-29T09:14:33.206038",
     "exception": false,
     "start_time": "2023-10-29T09:14:33.199587",
     "status": "completed"
    },
    "tags": []
   },
   "source": [
    "Now we will start exploring the database using more advanced queries."
   ]
  },
  {
   "cell_type": "code",
   "execution_count": 11,
   "id": "7d2142e9",
   "metadata": {
    "execution": {
     "iopub.execute_input": "2023-10-29T09:14:33.221574Z",
     "iopub.status.busy": "2023-10-29T09:14:33.221213Z",
     "iopub.status.idle": "2023-10-29T09:14:35.805361Z",
     "shell.execute_reply": "2023-10-29T09:14:35.804162Z"
    },
    "papermill": {
     "duration": 2.594571,
     "end_time": "2023-10-29T09:14:35.807484",
     "exception": false,
     "start_time": "2023-10-29T09:14:33.212913",
     "status": "completed"
    },
    "tags": []
   },
   "outputs": [
    {
     "name": "stdout",
     "output_type": "stream",
     "text": [
      "\n",
      "\n",
      "\u001b[1m> Entering new AgentExecutor chain...\u001b[0m\n",
      "\u001b[32;1m\u001b[1;3mAction: sql_db_list_tables\n",
      "Action Input: \"\"\u001b[0m\n",
      "Observation: \u001b[38;5;200m\u001b[1;3martist_review_map, artists, author_review_map, genre_review_map, label_review_map, reviews, tombstone_release_year_map, tombstones\u001b[0m\n",
      "Thought:\u001b[32;1m\u001b[1;3mI can query the \"artists\" table to get the number of artists in the database.\n",
      "Action: sql_db_schema\n",
      "Action Input: \"artists\"\u001b[0m\n",
      "Observation: \u001b[33;1m\u001b[1;3m\n",
      "CREATE TABLE artists (\n",
      "\tartist_id VARCHAR NOT NULL, \n",
      "\tname VARCHAR NOT NULL, \n",
      "\tartist_url VARCHAR, \n",
      "\tPRIMARY KEY (artist_id)\n",
      ")\n",
      "\n",
      "/*\n",
      "3 rows from artists table:\n",
      "artist_id\tname\tartist_url\n",
      "4847-avarus\tAvarus\t/artists/4847-avarus/\n",
      "33420-pinegrove\tPinegrove\t/artists/33420-pinegrove/\n",
      "2438-le-tigre\tLe Tigre\t/artists/2438-le-tigre/\n",
      "*/\u001b[0m\n",
      "Thought:\u001b[32;1m\u001b[1;3mI can use the \"artists\" table to count the number of artists in the database.\n",
      "Action: sql_db_query\n",
      "Action Input: \"SELECT COUNT(*) FROM artists\"\u001b[0m\n",
      "Observation: \u001b[36;1m\u001b[1;3m[(11013,)]\u001b[0m\n",
      "Thought:\u001b[32;1m\u001b[1;3mI now know the final answer.\n",
      "Final Answer: There are 11,013 artists in the database.\u001b[0m\n",
      "\n",
      "\u001b[1m> Finished chain.\u001b[0m\n"
     ]
    },
    {
     "data": {
      "text/plain": [
       "'There are 11,013 artists in the database.'"
      ]
     },
     "execution_count": 11,
     "metadata": {},
     "output_type": "execute_result"
    }
   ],
   "source": [
    "question = \"How many artists are in the database\"\n",
    "agent_executor.run(question)"
   ]
  },
  {
   "cell_type": "code",
   "execution_count": 12,
   "id": "42209bcd",
   "metadata": {
    "execution": {
     "iopub.execute_input": "2023-10-29T09:14:35.824841Z",
     "iopub.status.busy": "2023-10-29T09:14:35.824471Z",
     "iopub.status.idle": "2023-10-29T09:14:40.974422Z",
     "shell.execute_reply": "2023-10-29T09:14:40.973234Z"
    },
    "papermill": {
     "duration": 5.161186,
     "end_time": "2023-10-29T09:14:40.976585",
     "exception": false,
     "start_time": "2023-10-29T09:14:35.815399",
     "status": "completed"
    },
    "tags": []
   },
   "outputs": [
    {
     "name": "stdout",
     "output_type": "stream",
     "text": [
      "\n",
      "\n",
      "\u001b[1m> Entering new AgentExecutor chain...\u001b[0m\n",
      "\u001b[32;1m\u001b[1;3mAction: sql_db_list_tables\n",
      "Action Input: \"\"\u001b[0m\n",
      "Observation: \u001b[38;5;200m\u001b[1;3martist_review_map, artists, author_review_map, genre_review_map, label_review_map, reviews, tombstone_release_year_map, tombstones\u001b[0m\n",
      "Thought:\u001b[32;1m\u001b[1;3mI can query the tables \"artist_review_map\" and \"artists\" to find the artist with the most reviews. I should check the schema of these tables to see which columns are relevant.\n",
      "Action: sql_db_schema\n",
      "Action Input: \"artist_review_map, artists\"\u001b[0m\n",
      "Observation: \u001b[33;1m\u001b[1;3m\n",
      "CREATE TABLE artist_review_map (\n",
      "\treview_url VARCHAR NOT NULL, \n",
      "\tartist_id VARCHAR NOT NULL, \n",
      "\tPRIMARY KEY (review_url, artist_id), \n",
      "\tFOREIGN KEY(review_url) REFERENCES reviews (review_url), \n",
      "\tFOREIGN KEY(artist_id) REFERENCES artists (artist_id)\n",
      ")\n",
      "\n",
      "/*\n",
      "3 rows from artist_review_map table:\n",
      "review_url\tartist_id\n",
      "/reviews/albums/9232-vesikansi/\t4847-avarus\n",
      "/reviews/albums/22823-elsewhere/\t33420-pinegrove\n",
      "/reviews/albums/4703-le-tigre/\t2438-le-tigre\n",
      "*/\n",
      "\n",
      "\n",
      "CREATE TABLE artists (\n",
      "\tartist_id VARCHAR NOT NULL, \n",
      "\tname VARCHAR NOT NULL, \n",
      "\tartist_url VARCHAR, \n",
      "\tPRIMARY KEY (artist_id)\n",
      ")\n",
      "\n",
      "/*\n",
      "3 rows from artists table:\n",
      "artist_id\tname\tartist_url\n",
      "4847-avarus\tAvarus\t/artists/4847-avarus/\n",
      "33420-pinegrove\tPinegrove\t/artists/33420-pinegrove/\n",
      "2438-le-tigre\tLe Tigre\t/artists/2438-le-tigre/\n",
      "*/\u001b[0m\n",
      "Thought:\u001b[32;1m\u001b[1;3mI can use the \"artist_review_map\" table to count the number of reviews for each artist. Then I can join it with the \"artists\" table to get the artist name.\n",
      "Action: sql_db_query\n",
      "Action Input: \"SELECT artists.name, COUNT(artist_review_map.review_url) AS review_count FROM artists JOIN artist_review_map ON artists.artist_id = artist_review_map.artist_id GROUP BY artists.name ORDER BY review_count DESC LIMIT 1\"\u001b[0m\n",
      "Observation: \u001b[36;1m\u001b[1;3m[('Various Artists', 808)]\u001b[0m\n",
      "Thought:\u001b[32;1m\u001b[1;3mThe artist with the most reviews is \"Various Artists\" with 808 reviews.\n",
      "Final Answer: Various Artists\u001b[0m\n",
      "\n",
      "\u001b[1m> Finished chain.\u001b[0m\n"
     ]
    },
    {
     "data": {
      "text/plain": [
       "'Various Artists'"
      ]
     },
     "execution_count": 12,
     "metadata": {},
     "output_type": "execute_result"
    }
   ],
   "source": [
    "question = \"Which artist has most reviews?\"\n",
    "agent_executor.run(question)"
   ]
  },
  {
   "cell_type": "code",
   "execution_count": 13,
   "id": "ec5e3a1e",
   "metadata": {
    "execution": {
     "iopub.execute_input": "2023-10-29T09:14:40.995702Z",
     "iopub.status.busy": "2023-10-29T09:14:40.994277Z",
     "iopub.status.idle": "2023-10-29T09:14:44.773123Z",
     "shell.execute_reply": "2023-10-29T09:14:44.772080Z"
    },
    "papermill": {
     "duration": 3.79085,
     "end_time": "2023-10-29T09:14:44.775374",
     "exception": false,
     "start_time": "2023-10-29T09:14:40.984524",
     "status": "completed"
    },
    "tags": []
   },
   "outputs": [
    {
     "name": "stdout",
     "output_type": "stream",
     "text": [
      "\n",
      "\n",
      "\u001b[1m> Entering new AgentExecutor chain...\u001b[0m\n",
      "\u001b[32;1m\u001b[1;3mAction: sql_db_list_tables\n",
      "Action Input: \"\"\u001b[0m\n",
      "Observation: \u001b[38;5;200m\u001b[1;3martist_review_map, artists, author_review_map, genre_review_map, label_review_map, reviews, tombstone_release_year_map, tombstones\u001b[0m\n",
      "Thought:\u001b[32;1m\u001b[1;3mI can query the \"reviews\" table to get the total number of reviews.\n",
      "Action: sql_db_schema\n",
      "Action Input: \"reviews\"\u001b[0m\n",
      "Observation: \u001b[33;1m\u001b[1;3m\n",
      "CREATE TABLE reviews (\n",
      "\treview_url VARCHAR NOT NULL, \n",
      "\tis_standard_review BOOLEAN NOT NULL, \n",
      "\tpub_date DATETIME NOT NULL, \n",
      "\tbody TEXT NOT NULL, \n",
      "\tPRIMARY KEY (review_url)\n",
      ")\n",
      "\n",
      "/*\n",
      "3 rows from reviews table:\n",
      "review_url\tis_standard_review\tpub_date\tbody\n",
      "/reviews/albums/9232-vesikansi/\tTrue\t2006-07-27 06:00:04\tOver the past few years, several of Finland's various interrelated underground acts-- Kemialliset Ys\n",
      "/reviews/albums/22823-elsewhere/\tTrue\t2017-01-27 06:00:00\tIt's hard not to root for Pinegrove. Even before they raised more than $21,000 for Planned Parenthoo\n",
      "/reviews/albums/4703-le-tigre/\tTrue\t1999-10-26 05:00:03\tKathleen Hanna is best known as the former leader of Bikini Kill, the band that defined the early '9\n",
      "*/\u001b[0m\n",
      "Thought:\u001b[32;1m\u001b[1;3mI can use the \"reviews\" table to count the total number of reviews.\n",
      "Action: sql_db_query\n",
      "Action Input: \"SELECT COUNT(*) FROM reviews\"\u001b[0m\n",
      "Observation: \u001b[36;1m\u001b[1;3m[(24169,)]\u001b[0m\n",
      "Thought:\u001b[32;1m\u001b[1;3mI now know the final answer.\n",
      "Final Answer: There are 24,169 reviews in total.\u001b[0m\n",
      "\n",
      "\u001b[1m> Finished chain.\u001b[0m\n"
     ]
    },
    {
     "data": {
      "text/plain": [
       "'There are 24,169 reviews in total.'"
      ]
     },
     "execution_count": 13,
     "metadata": {},
     "output_type": "execute_result"
    }
   ],
   "source": [
    "question = \"How many reviews are in total?\"\n",
    "agent_executor.run(question)"
   ]
  },
  {
   "cell_type": "code",
   "execution_count": 14,
   "id": "77b91825",
   "metadata": {
    "execution": {
     "iopub.execute_input": "2023-10-29T09:14:44.793627Z",
     "iopub.status.busy": "2023-10-29T09:14:44.793258Z",
     "iopub.status.idle": "2023-10-29T09:14:49.384897Z",
     "shell.execute_reply": "2023-10-29T09:14:49.384000Z"
    },
    "papermill": {
     "duration": 4.603474,
     "end_time": "2023-10-29T09:14:49.387486",
     "exception": false,
     "start_time": "2023-10-29T09:14:44.784012",
     "status": "completed"
    },
    "tags": []
   },
   "outputs": [
    {
     "name": "stdout",
     "output_type": "stream",
     "text": [
      "\n",
      "\n",
      "\u001b[1m> Entering new AgentExecutor chain...\u001b[0m\n",
      "\u001b[32;1m\u001b[1;3mAction: sql_db_list_tables\n",
      "Action Input: \"\"\u001b[0m\n",
      "Observation: \u001b[38;5;200m\u001b[1;3martist_review_map, artists, author_review_map, genre_review_map, label_review_map, reviews, tombstone_release_year_map, tombstones\u001b[0m\n",
      "Thought:\u001b[32;1m\u001b[1;3mI can query the tables \"artist_review_map\" and \"artists\" to find the artist with the most reviews. Then I can query the \"reviews\" table to count the number of reviews for that artist.\n",
      "Action: sql_db_schema\n",
      "Action Input: \"artist_review_map, artists, reviews\"\u001b[0m\n",
      "Observation: \u001b[33;1m\u001b[1;3m\n",
      "CREATE TABLE artist_review_map (\n",
      "\treview_url VARCHAR NOT NULL, \n",
      "\tartist_id VARCHAR NOT NULL, \n",
      "\tPRIMARY KEY (review_url, artist_id), \n",
      "\tFOREIGN KEY(review_url) REFERENCES reviews (review_url), \n",
      "\tFOREIGN KEY(artist_id) REFERENCES artists (artist_id)\n",
      ")\n",
      "\n",
      "/*\n",
      "3 rows from artist_review_map table:\n",
      "review_url\tartist_id\n",
      "/reviews/albums/9232-vesikansi/\t4847-avarus\n",
      "/reviews/albums/22823-elsewhere/\t33420-pinegrove\n",
      "/reviews/albums/4703-le-tigre/\t2438-le-tigre\n",
      "*/\n",
      "\n",
      "\n",
      "CREATE TABLE artists (\n",
      "\tartist_id VARCHAR NOT NULL, \n",
      "\tname VARCHAR NOT NULL, \n",
      "\tartist_url VARCHAR, \n",
      "\tPRIMARY KEY (artist_id)\n",
      ")\n",
      "\n",
      "/*\n",
      "3 rows from artists table:\n",
      "artist_id\tname\tartist_url\n",
      "4847-avarus\tAvarus\t/artists/4847-avarus/\n",
      "33420-pinegrove\tPinegrove\t/artists/33420-pinegrove/\n",
      "2438-le-tigre\tLe Tigre\t/artists/2438-le-tigre/\n",
      "*/\n",
      "\n",
      "\n",
      "CREATE TABLE reviews (\n",
      "\treview_url VARCHAR NOT NULL, \n",
      "\tis_standard_review BOOLEAN NOT NULL, \n",
      "\tpub_date DATETIME NOT NULL, \n",
      "\tbody TEXT NOT NULL, \n",
      "\tPRIMARY KEY (review_url)\n",
      ")\n",
      "\n",
      "/*\n",
      "3 rows from reviews table:\n",
      "review_url\tis_standard_review\tpub_date\tbody\n",
      "/reviews/albums/9232-vesikansi/\tTrue\t2006-07-27 06:00:04\tOver the past few years, several of Finland's various interrelated underground acts-- Kemialliset Ys\n",
      "/reviews/albums/22823-elsewhere/\tTrue\t2017-01-27 06:00:00\tIt's hard not to root for Pinegrove. Even before they raised more than $21,000 for Planned Parenthoo\n",
      "/reviews/albums/4703-le-tigre/\tTrue\t1999-10-26 05:00:03\tKathleen Hanna is best known as the former leader of Bikini Kill, the band that defined the early '9\n",
      "*/\u001b[0m\n",
      "Thought:\u001b[32;1m\u001b[1;3mI can join the \"artist_review_map\" table with the \"artists\" table to get the artist with the most reviews. Then I can count the number of reviews for that artist in the \"reviews\" table.\n",
      "Action: sql_db_query\n",
      "Action Input: \"SELECT COUNT(*) FROM reviews WHERE review_url IN (SELECT review_url FROM artist_review_map WHERE artist_id = (SELECT artist_id FROM artist_review_map GROUP BY artist_id ORDER BY COUNT(*) DESC LIMIT 1))\"\u001b[0m\n",
      "Observation: \u001b[36;1m\u001b[1;3m[(782,)]\u001b[0m\n",
      "Thought:\u001b[32;1m\u001b[1;3mThe artist with the most reviews has a total of 782 reviews.\n",
      "Final Answer: 782\u001b[0m\n",
      "\n",
      "\u001b[1m> Finished chain.\u001b[0m\n"
     ]
    },
    {
     "data": {
      "text/plain": [
       "'782'"
      ]
     },
     "execution_count": 14,
     "metadata": {},
     "output_type": "execute_result"
    }
   ],
   "source": [
    "question = \"How many reviews have the artist with most of the reviews?\"\n",
    "agent_executor.run(question)"
   ]
  },
  {
   "cell_type": "code",
   "execution_count": 15,
   "id": "647d3f04",
   "metadata": {
    "execution": {
     "iopub.execute_input": "2023-10-29T09:14:49.406858Z",
     "iopub.status.busy": "2023-10-29T09:14:49.406472Z",
     "iopub.status.idle": "2023-10-29T09:14:53.218552Z",
     "shell.execute_reply": "2023-10-29T09:14:53.217287Z"
    },
    "papermill": {
     "duration": 3.824423,
     "end_time": "2023-10-29T09:14:53.220821",
     "exception": false,
     "start_time": "2023-10-29T09:14:49.396398",
     "status": "completed"
    },
    "tags": []
   },
   "outputs": [
    {
     "name": "stdout",
     "output_type": "stream",
     "text": [
      "\n",
      "\n",
      "\u001b[1m> Entering new AgentExecutor chain...\u001b[0m\n",
      "\u001b[32;1m\u001b[1;3mAction: sql_db_list_tables\n",
      "Action Input: \"\"\u001b[0m\n",
      "Observation: \u001b[38;5;200m\u001b[1;3martist_review_map, artists, author_review_map, genre_review_map, label_review_map, reviews, tombstone_release_year_map, tombstones\u001b[0m\n",
      "Thought:\u001b[32;1m\u001b[1;3mI can query the \"genre_review_map\" table to get the genres.\n",
      "Action: sql_db_schema\n",
      "Action Input: \"genre_review_map\"\u001b[0m\n",
      "Observation: \u001b[33;1m\u001b[1;3m\n",
      "CREATE TABLE genre_review_map (\n",
      "\treview_url VARCHAR NOT NULL, \n",
      "\tgenre VARCHAR NOT NULL, \n",
      "\tPRIMARY KEY (review_url, genre), \n",
      "\tFOREIGN KEY(review_url) REFERENCES reviews (review_url)\n",
      ")\n",
      "\n",
      "/*\n",
      "3 rows from genre_review_map table:\n",
      "review_url\tgenre\n",
      "/reviews/albums/9232-vesikansi/\tExperimental\n",
      "/reviews/albums/9232-vesikansi/\tRock\n",
      "/reviews/albums/22823-elsewhere/\tRock\n",
      "*/\u001b[0m\n",
      "Thought:\u001b[32;1m\u001b[1;3mThe genres can be found in the \"genre_review_map\" table.\n",
      "Action: sql_db_query\n",
      "Action Input: \"SELECT DISTINCT genre FROM genre_review_map LIMIT 10\"\u001b[0m\n",
      "Observation: \u001b[36;1m\u001b[1;3m[('Experimental',), ('Rock',), ('Electronic',), ('Folk/Country',), ('Rap',), ('Metal',), ('Pop/R&B',), ('Jazz',), ('Global',)]\u001b[0m\n",
      "Thought:\u001b[32;1m\u001b[1;3mThe genres are Experimental, Rock, Electronic, Folk/Country, Rap, Metal, Pop/R&B, Jazz, and Global.\n",
      "Final Answer: Experimental, Rock, Electronic, Folk/Country, Rap, Metal, Pop/R&B, Jazz, Global\u001b[0m\n",
      "\n",
      "\u001b[1m> Finished chain.\u001b[0m\n"
     ]
    },
    {
     "data": {
      "text/plain": [
       "'Experimental, Rock, Electronic, Folk/Country, Rap, Metal, Pop/R&B, Jazz, Global'"
      ]
     },
     "execution_count": 15,
     "metadata": {},
     "output_type": "execute_result"
    }
   ],
   "source": [
    "question = \"Which are the genres?\"\n",
    "agent_executor.run(question)"
   ]
  },
  {
   "cell_type": "code",
   "execution_count": 16,
   "id": "b0eb16f5",
   "metadata": {
    "execution": {
     "iopub.execute_input": "2023-10-29T09:14:53.242061Z",
     "iopub.status.busy": "2023-10-29T09:14:53.241229Z",
     "iopub.status.idle": "2023-10-29T09:14:57.246829Z",
     "shell.execute_reply": "2023-10-29T09:14:57.245744Z"
    },
    "papermill": {
     "duration": 4.01883,
     "end_time": "2023-10-29T09:14:57.249025",
     "exception": false,
     "start_time": "2023-10-29T09:14:53.230195",
     "status": "completed"
    },
    "tags": []
   },
   "outputs": [
    {
     "name": "stdout",
     "output_type": "stream",
     "text": [
      "\n",
      "\n",
      "\u001b[1m> Entering new AgentExecutor chain...\u001b[0m\n",
      "\u001b[32;1m\u001b[1;3mAction: sql_db_list_tables\n",
      "Action Input: \"\"\u001b[0m\n",
      "Observation: \u001b[38;5;200m\u001b[1;3martist_review_map, artists, author_review_map, genre_review_map, label_review_map, reviews, tombstone_release_year_map, tombstones\u001b[0m\n",
      "Thought:\u001b[32;1m\u001b[1;3mI see that there are tables related to reviews, genres, and artists. I should query the schema of these tables to see what columns are available.\n",
      "Action: sql_db_schema\n",
      "Action Input: \"genre_review_map, genres\"\u001b[0m\n",
      "Observation: \u001b[33;1m\u001b[1;3mError: table_names {'genres'} not found in database\u001b[0m\n",
      "Thought:\u001b[32;1m\u001b[1;3mIt seems that the table \"genres\" does not exist in the database. I should try querying the schema of the other relevant tables.\n",
      "Action: sql_db_schema\n",
      "Action Input: \"genre_review_map, reviews, artists\"\u001b[0m\n",
      "Observation: \u001b[33;1m\u001b[1;3m\n",
      "CREATE TABLE artists (\n",
      "\tartist_id VARCHAR NOT NULL, \n",
      "\tname VARCHAR NOT NULL, \n",
      "\tartist_url VARCHAR, \n",
      "\tPRIMARY KEY (artist_id)\n",
      ")\n",
      "\n",
      "/*\n",
      "3 rows from artists table:\n",
      "artist_id\tname\tartist_url\n",
      "4847-avarus\tAvarus\t/artists/4847-avarus/\n",
      "33420-pinegrove\tPinegrove\t/artists/33420-pinegrove/\n",
      "2438-le-tigre\tLe Tigre\t/artists/2438-le-tigre/\n",
      "*/\n",
      "\n",
      "\n",
      "CREATE TABLE genre_review_map (\n",
      "\treview_url VARCHAR NOT NULL, \n",
      "\tgenre VARCHAR NOT NULL, \n",
      "\tPRIMARY KEY (review_url, genre), \n",
      "\tFOREIGN KEY(review_url) REFERENCES reviews (review_url)\n",
      ")\n",
      "\n",
      "/*\n",
      "3 rows from genre_review_map table:\n",
      "review_url\tgenre\n",
      "/reviews/albums/9232-vesikansi/\tExperimental\n",
      "/reviews/albums/9232-vesikansi/\tRock\n",
      "/reviews/albums/22823-elsewhere/\tRock\n",
      "*/\n",
      "\n",
      "\n",
      "CREATE TABLE reviews (\n",
      "\treview_url VARCHAR NOT NULL, \n",
      "\tis_standard_review BOOLEAN NOT NULL, \n",
      "\tpub_date DATETIME NOT NULL, \n",
      "\tbody TEXT NOT NULL, \n",
      "\tPRIMARY KEY (review_url)\n",
      ")\n",
      "\n",
      "/*\n",
      "3 rows from reviews table:\n",
      "review_url\tis_standard_review\tpub_date\tbody\n",
      "/reviews/albums/9232-vesikansi/\tTrue\t2006-07-27 06:00:04\tOver the past few years, several of Finland's various interrelated underground acts-- Kemialliset Ys\n",
      "/reviews/albums/22823-elsewhere/\tTrue\t2017-01-27 06:00:00\tIt's hard not to root for Pinegrove. Even before they raised more than $21,000 for Planned Parenthoo\n",
      "/reviews/albums/4703-le-tigre/\tTrue\t1999-10-26 05:00:03\tKathleen Hanna is best known as the former leader of Bikini Kill, the band that defined the early '9\n",
      "*/\u001b[0m\n",
      "Thought:\u001b[32;1m\u001b[1;3mI can query the genre_review_map table to count the number of reviews for each genre. I can then order the results by the count in descending order and limit the results to 1 to get the genre with the most reviews.\n",
      "Action: sql_db_query\n",
      "Action Input: \"SELECT genre, COUNT(*) as review_count FROM genre_review_map GROUP BY genre ORDER BY review_count DESC LIMIT 1\"\u001b[0m\n",
      "Observation: \u001b[36;1m\u001b[1;3m[('Rock', 11185)]\u001b[0m\n",
      "Thought:\u001b[32;1m\u001b[1;3mThe genre with the most reviews is Rock.\n",
      "Final Answer: Rock\u001b[0m\n",
      "\n",
      "\u001b[1m> Finished chain.\u001b[0m\n"
     ]
    },
    {
     "data": {
      "text/plain": [
       "'Rock'"
      ]
     },
     "execution_count": 16,
     "metadata": {},
     "output_type": "execute_result"
    }
   ],
   "source": [
    "question = \"Which is the genre with most reviews?\"\n",
    "agent_executor.run(question)"
   ]
  },
  {
   "cell_type": "markdown",
   "id": "99cba740",
   "metadata": {
    "papermill": {
     "duration": 0.009296,
     "end_time": "2023-10-29T09:14:57.268253",
     "exception": false,
     "start_time": "2023-10-29T09:14:57.258957",
     "status": "completed"
    },
    "tags": []
   },
   "source": [
    "# Conclusions\n",
    "\n",
    "We experimented the SQL Agent with a sqlite3 database on Kaggle.  \n",
    "For this I am using at this point the ChatOpenAI model.   \n",
    "The SQL Agent seems to be working well and provides accurate results.  \n",
    "As a next step, I would like to check if it is possible to use Kaggle Models as a replacement for OpenAI LLLM to power the SQL Agent.  \n",
    "To get more insights into this database, you can also consult this Notebook: https://www.kaggle.com/code/gpreda/explore-a-sqlite3-database \n"
   ]
  }
 ],
 "metadata": {
  "kernelspec": {
   "display_name": "Python 3",
   "language": "python",
   "name": "python3"
  },
  "language_info": {
   "codemirror_mode": {
    "name": "ipython",
    "version": 3
   },
   "file_extension": ".py",
   "mimetype": "text/x-python",
   "name": "python",
   "nbconvert_exporter": "python",
   "pygments_lexer": "ipython3",
   "version": "3.10.12"
  },
  "papermill": {
   "default_parameters": {},
   "duration": 73.999548,
   "end_time": "2023-10-29T09:14:57.999857",
   "environment_variables": {},
   "exception": null,
   "input_path": "__notebook__.ipynb",
   "output_path": "__notebook__.ipynb",
   "parameters": {},
   "start_time": "2023-10-29T09:13:44.000309",
   "version": "2.4.0"
  }
 },
 "nbformat": 4,
 "nbformat_minor": 5
}
