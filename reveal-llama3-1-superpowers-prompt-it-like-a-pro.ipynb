{
 "cells": [
  {
   "cell_type": "markdown",
   "id": "f249a123",
   "metadata": {
    "_cell_guid": "b1076dfc-b9ad-4769-8c92-a6c4dae69d19",
    "_uuid": "8f2839f25d086af736a60e9eeb907d3b93b6e0e5",
    "papermill": {
     "duration": 0.012292,
     "end_time": "2024-08-17T16:14:52.008781",
     "exception": false,
     "start_time": "2024-08-17T16:14:51.996489",
     "status": "completed"
    },
    "tags": []
   },
   "source": [
    "# Introduction\n",
    "\n",
    "Llama 3.1 is currently (as of Aug 2024) the latest model from Meta. Let's try and see what this model is bringing.\n",
    "\n",
    "Will test now the following model:\n",
    "\n",
    "* **Model**: Llama3.1\n",
    "* **Version**: 8b-instruct\n",
    "* **Framework**: Transformers\n",
    "* **Version**: V1\n",
    "\n",
    "This is what we will test:\n",
    "\n",
    "* Simple prompts with general information questions\n",
    "* Poetry (haiku, sonets) writing\n",
    "* Code writing (Python, C++, Java)\n",
    "* Software design (simple problems)\n",
    "* Multi-parameter questions\n",
    "* Chain of reasoning\n",
    "* A more complex reasoning problem\n",
    "\n",
    "\n",
    "**Note**: this notebook is organized to facilitate a comparison of **Llama3.1** with **Gemma 2**. Corresponding notebook is [Unlock the Power of Gemma 2: Prompt it like a Pro](https://www.kaggle.com/code/gpreda/unlock-the-power-of-gemma-2-prompt-it-like-a-pro). At the end of current notebook we are reviewing the performance of the two notebooks for the list of tasks submitted to both."
   ]
  },
  {
   "cell_type": "markdown",
   "id": "518ec1f1",
   "metadata": {
    "papermill": {
     "duration": 0.011517,
     "end_time": "2024-08-17T16:14:52.032300",
     "exception": false,
     "start_time": "2024-08-17T16:14:52.020783",
     "status": "completed"
    },
    "tags": []
   },
   "source": [
    "# Preparation\n",
    "\n",
    "We import the libraries we need, and we set the model to be ready for testing.  \n",
    "\n",
    "We will use `transformers` library from HuggingFace. We will also need to install `accelerate`.\n",
    "\n",
    "## Import packages"
   ]
  },
  {
   "cell_type": "code",
   "execution_count": 1,
   "id": "a07cab28",
   "metadata": {
    "execution": {
     "iopub.execute_input": "2024-08-17T16:14:52.057967Z",
     "iopub.status.busy": "2024-08-17T16:14:52.057576Z",
     "iopub.status.idle": "2024-08-17T16:15:18.529594Z",
     "shell.execute_reply": "2024-08-17T16:15:18.528522Z"
    },
    "papermill": {
     "duration": 26.487706,
     "end_time": "2024-08-17T16:15:18.532122",
     "exception": false,
     "start_time": "2024-08-17T16:14:52.044416",
     "status": "completed"
    },
    "tags": []
   },
   "outputs": [],
   "source": [
    "%%capture\n",
    "%pip install -U transformers accelerate"
   ]
  },
  {
   "cell_type": "code",
   "execution_count": 2,
   "id": "9ad33d9b",
   "metadata": {
    "execution": {
     "iopub.execute_input": "2024-08-17T16:15:18.559862Z",
     "iopub.status.busy": "2024-08-17T16:15:18.559432Z",
     "iopub.status.idle": "2024-08-17T16:15:37.848814Z",
     "shell.execute_reply": "2024-08-17T16:15:37.847962Z"
    },
    "papermill": {
     "duration": 19.30563,
     "end_time": "2024-08-17T16:15:37.851134",
     "exception": false,
     "start_time": "2024-08-17T16:15:18.545504",
     "status": "completed"
    },
    "tags": []
   },
   "outputs": [
    {
     "name": "stderr",
     "output_type": "stream",
     "text": [
      "2024-08-17 16:15:25.623986: E external/local_xla/xla/stream_executor/cuda/cuda_dnn.cc:9261] Unable to register cuDNN factory: Attempting to register factory for plugin cuDNN when one has already been registered\n",
      "2024-08-17 16:15:25.624140: E external/local_xla/xla/stream_executor/cuda/cuda_fft.cc:607] Unable to register cuFFT factory: Attempting to register factory for plugin cuFFT when one has already been registered\n",
      "2024-08-17 16:15:25.763439: E external/local_xla/xla/stream_executor/cuda/cuda_blas.cc:1515] Unable to register cuBLAS factory: Attempting to register factory for plugin cuBLAS when one has already been registered\n"
     ]
    }
   ],
   "source": [
    "from time import time\n",
    "from transformers import AutoTokenizer, AutoModelForCausalLM, pipeline\n",
    "import torch\n",
    "from IPython.display import display, Markdown"
   ]
  },
  {
   "cell_type": "markdown",
   "id": "d9db393a",
   "metadata": {
    "papermill": {
     "duration": 0.011675,
     "end_time": "2024-08-17T16:15:37.875360",
     "exception": false,
     "start_time": "2024-08-17T16:15:37.863685",
     "status": "completed"
    },
    "tags": []
   },
   "source": [
    "## Define model\n",
    "\n",
    "This step might take a bit more time, around 2 minutes."
   ]
  },
  {
   "cell_type": "code",
   "execution_count": 3,
   "id": "139e5e67",
   "metadata": {
    "execution": {
     "iopub.execute_input": "2024-08-17T16:15:37.901527Z",
     "iopub.status.busy": "2024-08-17T16:15:37.900479Z",
     "iopub.status.idle": "2024-08-17T16:17:19.475557Z",
     "shell.execute_reply": "2024-08-17T16:17:19.474549Z"
    },
    "papermill": {
     "duration": 101.590672,
     "end_time": "2024-08-17T16:17:19.478011",
     "exception": false,
     "start_time": "2024-08-17T16:15:37.887339",
     "status": "completed"
    },
    "tags": []
   },
   "outputs": [
    {
     "data": {
      "application/vnd.jupyter.widget-view+json": {
       "model_id": "960737baf1194709a68c70426201a0c1",
       "version_major": 2,
       "version_minor": 0
      },
      "text/plain": [
       "Loading checkpoint shards:   0%|          | 0/4 [00:00<?, ?it/s]"
      ]
     },
     "metadata": {},
     "output_type": "display_data"
    }
   ],
   "source": [
    "model_id = \"/kaggle/input/llama-3.1/transformers/8b-instruct/1\"\n",
    "\n",
    "tokenizer = AutoTokenizer.from_pretrained(model_id)\n",
    "\n",
    "model = AutoModelForCausalLM.from_pretrained(\n",
    "        model_id,\n",
    "        return_dict=True,\n",
    "        low_cpu_mem_usage=True,\n",
    "        torch_dtype=torch.float16,\n",
    "        device_map=\"auto\",\n",
    "        trust_remote_code=True,\n",
    ")"
   ]
  },
  {
   "cell_type": "code",
   "execution_count": 4,
   "id": "0cb06ef2",
   "metadata": {
    "execution": {
     "iopub.execute_input": "2024-08-17T16:17:19.505104Z",
     "iopub.status.busy": "2024-08-17T16:17:19.504175Z",
     "iopub.status.idle": "2024-08-17T16:17:19.509608Z",
     "shell.execute_reply": "2024-08-17T16:17:19.508693Z"
    },
    "papermill": {
     "duration": 0.021289,
     "end_time": "2024-08-17T16:17:19.511746",
     "exception": false,
     "start_time": "2024-08-17T16:17:19.490457",
     "status": "completed"
    },
    "tags": []
   },
   "outputs": [],
   "source": [
    "llama31_pipeline = pipeline(\n",
    "    \"text-generation\",\n",
    "    model=model,\n",
    "    tokenizer=tokenizer,\n",
    "    torch_dtype=torch.float16,\n",
    "    device_map=\"auto\",\n",
    ")"
   ]
  },
  {
   "cell_type": "markdown",
   "id": "c9c523a6",
   "metadata": {
    "papermill": {
     "duration": 0.012451,
     "end_time": "2024-08-17T16:17:19.536583",
     "exception": false,
     "start_time": "2024-08-17T16:17:19.524132",
     "status": "completed"
    },
    "tags": []
   },
   "source": [
    "## Prepare query function"
   ]
  },
  {
   "cell_type": "code",
   "execution_count": 5,
   "id": "0feae9b8",
   "metadata": {
    "execution": {
     "iopub.execute_input": "2024-08-17T16:17:19.563404Z",
     "iopub.status.busy": "2024-08-17T16:17:19.562521Z",
     "iopub.status.idle": "2024-08-17T16:17:19.571551Z",
     "shell.execute_reply": "2024-08-17T16:17:19.570578Z"
    },
    "papermill": {
     "duration": 0.024694,
     "end_time": "2024-08-17T16:17:19.573585",
     "exception": false,
     "start_time": "2024-08-17T16:17:19.548891",
     "status": "completed"
    },
    "tags": []
   },
   "outputs": [],
   "source": [
    "def query_model(\n",
    "        system_message,\n",
    "        user_message,\n",
    "        temperature=0.7,\n",
    "        max_length=1024\n",
    "        ):\n",
    "    start_time = time()\n",
    "    user_message = \"Question: \" + user_message + \" Answer:\"\n",
    "    messages = [\n",
    "        {\"role\": \"system\", \"content\": system_message},\n",
    "        {\"role\": \"user\", \"content\": user_message},\n",
    "        ]\n",
    "    prompt = llama31_pipeline.tokenizer.apply_chat_template(\n",
    "        messages, \n",
    "        tokenize=False, \n",
    "        add_generation_prompt=True\n",
    "        )\n",
    "    terminators = [\n",
    "        llama31_pipeline.tokenizer.eos_token_id,\n",
    "        llama31_pipeline.tokenizer.convert_tokens_to_ids(\"<|eot_id|>\")\n",
    "    ]\n",
    "    sequences = llama31_pipeline(\n",
    "        prompt,\n",
    "        do_sample=True,\n",
    "        top_p=0.9,\n",
    "        temperature=temperature,\n",
    "        num_return_sequences=1,\n",
    "        eos_token_id=terminators,\n",
    "        max_new_tokens=max_length,\n",
    "        return_full_text=False,\n",
    "        pad_token_id=terminators[0]\n",
    "    )\n",
    "    #answer = f\"{sequences[0]['generated_text'][len(prompt):]}\\n\"\n",
    "    answer = sequences[0]['generated_text']\n",
    "    end_time = time()\n",
    "    ttime = f\"Total time: {round(end_time-start_time, 2)} sec.\"\n",
    "\n",
    "    return user_message + \" \" + answer  + \" \" +  ttime\n",
    "\n",
    "\n",
    "system_message = \"\"\"\n",
    "You are an AI assistant designed to answer simple questions.\n",
    "Please restrict your answer to the exact question asked.\n",
    "\"\"\""
   ]
  },
  {
   "cell_type": "markdown",
   "id": "74dd7a77",
   "metadata": {
    "papermill": {
     "duration": 0.011912,
     "end_time": "2024-08-17T16:17:19.597717",
     "exception": false,
     "start_time": "2024-08-17T16:17:19.585805",
     "status": "completed"
    },
    "tags": []
   },
   "source": [
    "## Utility function for formatting the output\n"
   ]
  },
  {
   "cell_type": "code",
   "execution_count": 6,
   "id": "fb9e03d6",
   "metadata": {
    "execution": {
     "iopub.execute_input": "2024-08-17T16:17:19.624224Z",
     "iopub.status.busy": "2024-08-17T16:17:19.623368Z",
     "iopub.status.idle": "2024-08-17T16:17:19.628789Z",
     "shell.execute_reply": "2024-08-17T16:17:19.627828Z"
    },
    "papermill": {
     "duration": 0.02068,
     "end_time": "2024-08-17T16:17:19.630658",
     "exception": false,
     "start_time": "2024-08-17T16:17:19.609978",
     "status": "completed"
    },
    "tags": []
   },
   "outputs": [],
   "source": [
    "def colorize_text(text):\n",
    "    for word, color in zip([\"Reasoning\", \"Question\", \"Answer\", \"Total time\"], [\"blue\", \"red\", \"green\", \"magenta\"]):\n",
    "        text = text.replace(f\"{word}:\", f\"\\n\\n**<font color='{color}'>{word}:</font>**\")\n",
    "    return text"
   ]
  },
  {
   "cell_type": "markdown",
   "id": "5b4ecc0f",
   "metadata": {
    "papermill": {
     "duration": 0.011829,
     "end_time": "2024-08-17T16:17:19.654796",
     "exception": false,
     "start_time": "2024-08-17T16:17:19.642967",
     "status": "completed"
    },
    "tags": []
   },
   "source": [
    "# Test the model\n",
    "\n",
    "\n",
    "## Test with few simple geography and history questions"
   ]
  },
  {
   "cell_type": "code",
   "execution_count": 7,
   "id": "9ea87bd7",
   "metadata": {
    "execution": {
     "iopub.execute_input": "2024-08-17T16:17:19.681094Z",
     "iopub.status.busy": "2024-08-17T16:17:19.680333Z",
     "iopub.status.idle": "2024-08-17T16:18:12.392009Z",
     "shell.execute_reply": "2024-08-17T16:18:12.391065Z"
    },
    "papermill": {
     "duration": 52.739658,
     "end_time": "2024-08-17T16:18:12.406662",
     "exception": false,
     "start_time": "2024-08-17T16:17:19.667004",
     "status": "completed"
    },
    "tags": []
   },
   "outputs": [
    {
     "data": {
      "text/markdown": [
       "\n",
       "\n",
       "**<font color='red'>Question:</font>** What is the surface temperature of the Moon? \n",
       "\n",
       "**<font color='green'>Answer:</font>** The surface temperature of the Moon varies greatly between day and night. During the lunar day, which lasts about 29.5 Earth days, the surface temperature can reach as high as 127°C (261°F) in the direct sunlight. In contrast, during the lunar night, the temperature can drop to as low as -173°C (-279°F) in the permanently shadowed craters near the lunar poles. \n",
       "\n",
       "**<font color='magenta'>Total time:</font>** 52.7 sec."
      ],
      "text/plain": [
       "<IPython.core.display.Markdown object>"
      ]
     },
     "metadata": {},
     "output_type": "display_data"
    }
   ],
   "source": [
    "t1 = time()\n",
    "response = query_model(\n",
    "    system_message,\n",
    "    user_message=\"What is the surface temperature of the Moon?\",\n",
    "    temperature=0.1,\n",
    "    max_length=256)\n",
    "display(Markdown(colorize_text(f\"{response}\")))"
   ]
  },
  {
   "cell_type": "markdown",
   "id": "427e6212",
   "metadata": {
    "papermill": {
     "duration": 0.012396,
     "end_time": "2024-08-17T16:18:12.431468",
     "exception": false,
     "start_time": "2024-08-17T16:18:12.419072",
     "status": "completed"
    },
    "tags": []
   },
   "source": [
    "Let's ask a more simple question, from European geography."
   ]
  },
  {
   "cell_type": "code",
   "execution_count": 8,
   "id": "25f7d26a",
   "metadata": {
    "execution": {
     "iopub.execute_input": "2024-08-17T16:18:12.458190Z",
     "iopub.status.busy": "2024-08-17T16:18:12.457238Z",
     "iopub.status.idle": "2024-08-17T16:18:21.218480Z",
     "shell.execute_reply": "2024-08-17T16:18:21.217575Z"
    },
    "papermill": {
     "duration": 8.776742,
     "end_time": "2024-08-17T16:18:21.220576",
     "exception": false,
     "start_time": "2024-08-17T16:18:12.443834",
     "status": "completed"
    },
    "tags": []
   },
   "outputs": [
    {
     "data": {
      "text/markdown": [
       "\n",
       "\n",
       "**<font color='red'>Question:</font>** What is the surface of France? \n",
       "\n",
       "**<font color='green'>Answer:</font>** The surface of France is approximately 643,801 square kilometers. \n",
       "\n",
       "**<font color='magenta'>Total time:</font>** 8.75 sec."
      ],
      "text/plain": [
       "<IPython.core.display.Markdown object>"
      ]
     },
     "metadata": {},
     "output_type": "display_data"
    }
   ],
   "source": [
    "response = query_model(    \n",
    "    system_message,\n",
    "    user_message=\"What is the surface of France?\",\n",
    "    temperature=0.1,\n",
    "    max_length=128)\n",
    "display(Markdown(colorize_text(response)))"
   ]
  },
  {
   "cell_type": "markdown",
   "id": "39703ca4",
   "metadata": {
    "papermill": {
     "duration": 0.012074,
     "end_time": "2024-08-17T16:18:21.245345",
     "exception": false,
     "start_time": "2024-08-17T16:18:21.233271",
     "status": "completed"
    },
    "tags": []
   },
   "source": [
    "Now, let's continue with some realy tough questions, from Ancient Greece, medieval Japan and more."
   ]
  },
  {
   "cell_type": "code",
   "execution_count": 9,
   "id": "7f70b308",
   "metadata": {
    "execution": {
     "iopub.execute_input": "2024-08-17T16:18:21.272136Z",
     "iopub.status.busy": "2024-08-17T16:18:21.271723Z",
     "iopub.status.idle": "2024-08-17T16:18:34.371643Z",
     "shell.execute_reply": "2024-08-17T16:18:34.370760Z"
    },
    "papermill": {
     "duration": 13.116119,
     "end_time": "2024-08-17T16:18:34.373854",
     "exception": false,
     "start_time": "2024-08-17T16:18:21.257735",
     "status": "completed"
    },
    "tags": []
   },
   "outputs": [
    {
     "data": {
      "text/markdown": [
       "\n",
       "\n",
       "**<font color='red'>Question:</font>** When was the 30 years war? \n",
       "\n",
       "**<font color='green'>Answer:</font>** The 30 Years War was a complex conflict that lasted from 1618 to 1648. \n",
       "\n",
       "**<font color='magenta'>Total time:</font>** 13.09 sec."
      ],
      "text/plain": [
       "<IPython.core.display.Markdown object>"
      ]
     },
     "metadata": {},
     "output_type": "display_data"
    }
   ],
   "source": [
    "response = query_model(\n",
    "    system_message,\n",
    "    user_message=\"When was the 30 years war?\",\n",
    "    temperature=0.1, \n",
    "    max_length=128)\n",
    "display(Markdown(colorize_text(response)))"
   ]
  },
  {
   "cell_type": "code",
   "execution_count": 10,
   "id": "bad7043f",
   "metadata": {
    "execution": {
     "iopub.execute_input": "2024-08-17T16:18:34.400950Z",
     "iopub.status.busy": "2024-08-17T16:18:34.400118Z",
     "iopub.status.idle": "2024-08-17T16:19:07.197580Z",
     "shell.execute_reply": "2024-08-17T16:19:07.196645Z"
    },
    "papermill": {
     "duration": 32.826091,
     "end_time": "2024-08-17T16:19:07.212498",
     "exception": false,
     "start_time": "2024-08-17T16:18:34.386407",
     "status": "completed"
    },
    "tags": []
   },
   "outputs": [
    {
     "data": {
      "text/markdown": [
       "\n",
       "\n",
       "**<font color='red'>Question:</font>** What is graphe paranomon? \n",
       "\n",
       "**<font color='green'>Answer:</font>** Graphe paranomon is a term used in ancient Greek law. It refers to a type of impeachment in ancient Athens, where a citizen could bring a charge against a magistrate for proposing a law that was unconstitutional or contrary to the laws of the city-state. \n",
       "\n",
       "**<font color='magenta'>Total time:</font>** 32.79 sec."
      ],
      "text/plain": [
       "<IPython.core.display.Markdown object>"
      ]
     },
     "metadata": {},
     "output_type": "display_data"
    }
   ],
   "source": [
    "response = query_model(\n",
    "    system_message,\n",
    "    user_message=\"What is graphe paranomon?\",\n",
    "    temperature=0.1, \n",
    "    max_length=256)\n",
    "display(Markdown(colorize_text(response)))"
   ]
  },
  {
   "cell_type": "code",
   "execution_count": 11,
   "id": "b3ac65d9",
   "metadata": {
    "execution": {
     "iopub.execute_input": "2024-08-17T16:19:07.239978Z",
     "iopub.status.busy": "2024-08-17T16:19:07.238980Z",
     "iopub.status.idle": "2024-08-17T16:19:12.927932Z",
     "shell.execute_reply": "2024-08-17T16:19:12.926962Z"
    },
    "papermill": {
     "duration": 5.704992,
     "end_time": "2024-08-17T16:19:12.930110",
     "exception": false,
     "start_time": "2024-08-17T16:19:07.225118",
     "status": "completed"
    },
    "tags": []
   },
   "outputs": [
    {
     "data": {
      "text/markdown": [
       "\n",
       "\n",
       "**<font color='red'>Question:</font>** Who was the next shogun after Tokugawa Ieyasu? \n",
       "\n",
       "**<font color='green'>Answer:</font>** Tokugawa Hidetada. \n",
       "\n",
       "**<font color='magenta'>Total time:</font>** 5.68 sec."
      ],
      "text/plain": [
       "<IPython.core.display.Markdown object>"
      ]
     },
     "metadata": {},
     "output_type": "display_data"
    }
   ],
   "source": [
    "response = query_model(\n",
    "    system_message,\n",
    "    user_message=\"Who was the next shogun after Tokugawa Ieyasu?\",\n",
    "    temperature=0.1, \n",
    "    max_length=256)\n",
    "display(Markdown(colorize_text(response)))"
   ]
  },
  {
   "cell_type": "code",
   "execution_count": 12,
   "id": "c71ebd3c",
   "metadata": {
    "execution": {
     "iopub.execute_input": "2024-08-17T16:19:13.013506Z",
     "iopub.status.busy": "2024-08-17T16:19:13.012598Z",
     "iopub.status.idle": "2024-08-17T16:19:16.212116Z",
     "shell.execute_reply": "2024-08-17T16:19:16.211145Z"
    },
    "papermill": {
     "duration": 3.216064,
     "end_time": "2024-08-17T16:19:16.214164",
     "exception": false,
     "start_time": "2024-08-17T16:19:12.998100",
     "status": "completed"
    },
    "tags": []
   },
   "outputs": [
    {
     "data": {
      "text/markdown": [
       "\n",
       "\n",
       "**<font color='red'>Question:</font>** What was the name of the Chinese dinasty during 1st century B.C.? \n",
       "\n",
       "**<font color='green'>Answer:</font>** The Han Dynasty. \n",
       "\n",
       "**<font color='magenta'>Total time:</font>** 3.19 sec."
      ],
      "text/plain": [
       "<IPython.core.display.Markdown object>"
      ]
     },
     "metadata": {},
     "output_type": "display_data"
    }
   ],
   "source": [
    "response = query_model(\n",
    "    system_message,\n",
    "    user_message=\"What was the name of the Chinese dinasty during 1st century B.C.?\",\n",
    "    temperature=0.1, \n",
    "    max_length=256)\n",
    "display(Markdown(colorize_text(response)))"
   ]
  },
  {
   "cell_type": "markdown",
   "id": "e5ff85af",
   "metadata": {
    "papermill": {
     "duration": 0.01293,
     "end_time": "2024-08-17T16:19:16.240205",
     "exception": false,
     "start_time": "2024-08-17T16:19:16.227275",
     "status": "completed"
    },
    "tags": []
   },
   "source": [
    "Let's try now some questions from American history. These must be simpler."
   ]
  },
  {
   "cell_type": "code",
   "execution_count": 13,
   "id": "3ab97904",
   "metadata": {
    "execution": {
     "iopub.execute_input": "2024-08-17T16:19:16.268052Z",
     "iopub.status.busy": "2024-08-17T16:19:16.267300Z",
     "iopub.status.idle": "2024-08-17T16:19:18.868037Z",
     "shell.execute_reply": "2024-08-17T16:19:18.867153Z"
    },
    "papermill": {
     "duration": 2.617094,
     "end_time": "2024-08-17T16:19:18.870288",
     "exception": false,
     "start_time": "2024-08-17T16:19:16.253194",
     "status": "completed"
    },
    "tags": []
   },
   "outputs": [
    {
     "data": {
      "text/markdown": [
       "\n",
       "\n",
       "**<font color='red'>Question:</font>** Who was the first American president? \n",
       "\n",
       "**<font color='green'>Answer:</font>** George Washington. \n",
       "\n",
       "**<font color='magenta'>Total time:</font>** 2.59 sec."
      ],
      "text/plain": [
       "<IPython.core.display.Markdown object>"
      ]
     },
     "metadata": {},
     "output_type": "display_data"
    }
   ],
   "source": [
    "response = query_model(\n",
    "    system_message,\n",
    "    user_message=\"Who was the first American president?\",\n",
    "    temperature=0.1, \n",
    "    max_length=256)\n",
    "display(Markdown(colorize_text(response)))"
   ]
  },
  {
   "cell_type": "code",
   "execution_count": 14,
   "id": "62146d68",
   "metadata": {
    "execution": {
     "iopub.execute_input": "2024-08-17T16:19:18.899462Z",
     "iopub.status.busy": "2024-08-17T16:19:18.898615Z",
     "iopub.status.idle": "2024-08-17T16:19:28.938531Z",
     "shell.execute_reply": "2024-08-17T16:19:28.937581Z"
    },
    "papermill": {
     "duration": 10.056609,
     "end_time": "2024-08-17T16:19:28.940610",
     "exception": false,
     "start_time": "2024-08-17T16:19:18.884001",
     "status": "completed"
    },
    "tags": []
   },
   "outputs": [
    {
     "data": {
      "text/markdown": [
       "\n",
       "\n",
       "**<font color='red'>Question:</font>** When took place the Civil War in United States of America? \n",
       "\n",
       "**<font color='green'>Answer:</font>** The American Civil War took place from 1861 to 1865. \n",
       "\n",
       "**<font color='magenta'>Total time:</font>** 10.03 sec."
      ],
      "text/plain": [
       "<IPython.core.display.Markdown object>"
      ]
     },
     "metadata": {},
     "output_type": "display_data"
    }
   ],
   "source": [
    "response = query_model(\n",
    "    system_message,\n",
    "    user_message=\"When took place the Civil War in United States of America?\",\n",
    "    temperature=0.1, \n",
    "    max_length=256)\n",
    "display(Markdown(colorize_text(response)))"
   ]
  },
  {
   "cell_type": "markdown",
   "id": "f2e319fb",
   "metadata": {
    "papermill": {
     "duration": 0.013023,
     "end_time": "2024-08-17T16:19:28.967208",
     "exception": false,
     "start_time": "2024-08-17T16:19:28.954185",
     "status": "completed"
    },
    "tags": []
   },
   "source": [
    "## Let's write poetry now"
   ]
  },
  {
   "cell_type": "code",
   "execution_count": 15,
   "id": "1af35308",
   "metadata": {
    "execution": {
     "iopub.execute_input": "2024-08-17T16:19:28.995744Z",
     "iopub.status.busy": "2024-08-17T16:19:28.994952Z",
     "iopub.status.idle": "2024-08-17T16:19:42.144307Z",
     "shell.execute_reply": "2024-08-17T16:19:42.143401Z"
    },
    "papermill": {
     "duration": 13.165974,
     "end_time": "2024-08-17T16:19:42.146433",
     "exception": false,
     "start_time": "2024-08-17T16:19:28.980459",
     "status": "completed"
    },
    "tags": []
   },
   "outputs": [
    {
     "data": {
      "text/markdown": [
       "\n",
       "\n",
       "**<font color='red'>Question:</font>** Please write a poem about Boris Becker wins in tennis \n",
       "\n",
       "**<font color='green'>Answer:</font>** Racket's mighty swing falls\n",
       "Golden ace on Wimbledon's grass\n",
       "Becker's triumphant cry \n",
       "\n",
       "**<font color='magenta'>Total time:</font>** 13.14 sec."
      ],
      "text/plain": [
       "<IPython.core.display.Markdown object>"
      ]
     },
     "metadata": {},
     "output_type": "display_data"
    }
   ],
   "source": [
    "system_message = \"\"\"\n",
    "You are an AI assistant designed to write poetry.\n",
    "Please answer with a haiku format (17 words poems).\n",
    "Question: {question}\n",
    "Answer:\n",
    "\"\"\"\n",
    "response = query_model(\n",
    "    system_message,\n",
    "    user_message=\"Please write a poem about Boris Becker wins in tennis\",\n",
    "    temperature=0.1, \n",
    "    max_length=256)\n",
    "display(Markdown(colorize_text(response)))"
   ]
  },
  {
   "cell_type": "code",
   "execution_count": 16,
   "id": "7d3ba79d",
   "metadata": {
    "execution": {
     "iopub.execute_input": "2024-08-17T16:19:42.175713Z",
     "iopub.status.busy": "2024-08-17T16:19:42.174854Z",
     "iopub.status.idle": "2024-08-17T16:19:57.072050Z",
     "shell.execute_reply": "2024-08-17T16:19:57.071099Z"
    },
    "papermill": {
     "duration": 14.914031,
     "end_time": "2024-08-17T16:19:57.074163",
     "exception": false,
     "start_time": "2024-08-17T16:19:42.160132",
     "status": "completed"
    },
    "tags": []
   },
   "outputs": [
    {
     "data": {
      "text/markdown": [
       "\n",
       "\n",
       "**<font color='red'>Question:</font>** Please write a poem about Shakespeare being lame at playing poker \n",
       "\n",
       "**<font color='green'>Answer:</font>** Bard's bluffing fails miserably\n",
       "Shakespeare's poker face a joke\n",
       "Lame, his royal flush \n",
       "\n",
       "**<font color='magenta'>Total time:</font>** 14.89 sec."
      ],
      "text/plain": [
       "<IPython.core.display.Markdown object>"
      ]
     },
     "metadata": {},
     "output_type": "display_data"
    }
   ],
   "source": [
    "response = query_model(\n",
    "    system_message,\n",
    "    user_message=\"Please write a poem about Shakespeare being lame at playing poker\",\n",
    "    temperature=0.1, \n",
    "    max_length=256)\n",
    "display(Markdown(colorize_text(response)))"
   ]
  },
  {
   "cell_type": "code",
   "execution_count": 17,
   "id": "9451e0a5",
   "metadata": {
    "execution": {
     "iopub.execute_input": "2024-08-17T16:19:57.103166Z",
     "iopub.status.busy": "2024-08-17T16:19:57.102807Z",
     "iopub.status.idle": "2024-08-17T16:21:50.187132Z",
     "shell.execute_reply": "2024-08-17T16:21:50.186052Z"
    },
    "papermill": {
     "duration": 113.115658,
     "end_time": "2024-08-17T16:21:50.203686",
     "exception": false,
     "start_time": "2024-08-17T16:19:57.088028",
     "status": "completed"
    },
    "tags": []
   },
   "outputs": [
    {
     "name": "stderr",
     "output_type": "stream",
     "text": [
      "You seem to be using the pipelines sequentially on GPU. In order to maximize efficiency please use a dataset\n"
     ]
    },
    {
     "data": {
      "text/markdown": [
       "\n",
       "\n",
       "**<font color='red'>Question:</font>** Please write a poem about Nadia Comaneci winning Montreal Olympiad \n",
       "\n",
       "**<font color='green'>Answer:</font>** O, fairest Nadia, with thy skills so fine,\n",
       "Didst conquer Montreal's Olympic shrine.\n",
       "Thy gymnastics prowess, a wondrous sight,\n",
       "Didst earn thee perfect tens, in morning light.\n",
       "\n",
       "Thy routines, a symphony of motion true,\n",
       "Didst dance upon the floor, with steps anew.\n",
       "The judges' scores, a chorus of delight,\n",
       "Didst sing thy praises, through the Montreal night.\n",
       "\n",
       "Thy name, a byword for excellence and might,\n",
       "Didst echo through the halls, of Olympic light.\n",
       "The crowd, a sea of faces, aglow,\n",
       "Didst cheer thy triumph, as the scores didst flow.\n",
       "\n",
       "Thou wert the first, to score a perfect score,\n",
       "A feat most rare, and one to adore.\n",
       "Thy legacy, a shining star, that doth abide,\n",
       "A testament to thy skill, and thy gymnast's pride. \n",
       "\n",
       "**<font color='magenta'>Total time:</font>** 113.08 sec."
      ],
      "text/plain": [
       "<IPython.core.display.Markdown object>"
      ]
     },
     "metadata": {},
     "output_type": "display_data"
    }
   ],
   "source": [
    "system_message = \"\"\"\n",
    "You are an AI assistant designed to write poetry.\n",
    "Please answer with a short poem, with rime, in the style of Shakespeare's poems.\n",
    "Question: {question}\n",
    "Answer:\n",
    "\"\"\"\n",
    "response = query_model(\n",
    "    system_message,\n",
    "    user_message=\"Please write a poem about Nadia Comaneci winning Montreal Olympiad\",\n",
    "    temperature=0.1, \n",
    "    max_length=512)\n",
    "display(Markdown(colorize_text(response)))"
   ]
  },
  {
   "cell_type": "markdown",
   "id": "7145500b",
   "metadata": {
    "papermill": {
     "duration": 0.01362,
     "end_time": "2024-08-17T16:21:50.231247",
     "exception": false,
     "start_time": "2024-08-17T16:21:50.217627",
     "status": "completed"
    },
    "tags": []
   },
   "source": [
    "## Math problems and Python code\n",
    "\n",
    "Let's continue now with some math problems for which the response should be given by Python code."
   ]
  },
  {
   "cell_type": "code",
   "execution_count": 18,
   "id": "059ebfc3",
   "metadata": {
    "execution": {
     "iopub.execute_input": "2024-08-17T16:21:50.260754Z",
     "iopub.status.busy": "2024-08-17T16:21:50.260100Z",
     "iopub.status.idle": "2024-08-17T16:22:52.744039Z",
     "shell.execute_reply": "2024-08-17T16:22:52.743074Z"
    },
    "papermill": {
     "duration": 62.514947,
     "end_time": "2024-08-17T16:22:52.760046",
     "exception": false,
     "start_time": "2024-08-17T16:21:50.245099",
     "status": "completed"
    },
    "tags": []
   },
   "outputs": [
    {
     "data": {
      "text/markdown": [
       "\n",
       "\n",
       "**<font color='red'>Question:</font>** Please write a function in Python to calculate the area of a circle of radius r \n",
       "\n",
       "**<font color='green'>Answer:</font>** ```python\n",
       "import math\n",
       "\n",
       "def calculate_circle_area(r):\n",
       "    \"\"\"\n",
       "    Calculate the area of a circle given its radius.\n",
       "\n",
       "    Args:\n",
       "        r (float): The radius of the circle.\n",
       "\n",
       "    Returns:\n",
       "        float: The area of the circle.\n",
       "    \"\"\"\n",
       "    return math.pi * (r ** 2)\n",
       "\n",
       "# Example usage:\n",
       "radius = 5\n",
       "area = calculate_circle_area(radius)\n",
       "print(f\"The area of the circle with radius {radius} is {area:.2f}\")\n",
       "``` \n",
       "\n",
       "**<font color='magenta'>Total time:</font>** 62.48 sec."
      ],
      "text/plain": [
       "<IPython.core.display.Markdown object>"
      ]
     },
     "metadata": {},
     "output_type": "display_data"
    }
   ],
   "source": [
    "system_message = \"\"\"\n",
    "You are an AI assistant designed to write simple Python code.\n",
    "Please answer with the listing of the Python code.\n",
    "Question: {question}\n",
    "Answer:\n",
    "\"\"\"\n",
    "response = query_model(\n",
    "    system_message,\n",
    "    user_message=\"Please write a function in Python to calculate the area of a circle of radius r\",\n",
    "    temperature=0.1, \n",
    "    max_length=256)\n",
    "display(Markdown(colorize_text(response)))"
   ]
  },
  {
   "cell_type": "code",
   "execution_count": 19,
   "id": "50cae40a",
   "metadata": {
    "execution": {
     "iopub.execute_input": "2024-08-17T16:22:52.790523Z",
     "iopub.status.busy": "2024-08-17T16:22:52.789607Z",
     "iopub.status.idle": "2024-08-17T16:24:07.413226Z",
     "shell.execute_reply": "2024-08-17T16:24:07.412353Z"
    },
    "papermill": {
     "duration": 74.655414,
     "end_time": "2024-08-17T16:24:07.429443",
     "exception": false,
     "start_time": "2024-08-17T16:22:52.774029",
     "status": "completed"
    },
    "tags": []
   },
   "outputs": [
    {
     "data": {
      "text/markdown": [
       "\n",
       "\n",
       "**<font color='red'>Question:</font>** Please write a function in Python to order a list \n",
       "\n",
       "**<font color='green'>Answer:</font>** ```python\n",
       "def order_list(input_list):\n",
       "    \"\"\"\n",
       "    This function takes a list as input and returns the list in sorted order.\n",
       "    \n",
       "    Args:\n",
       "        input_list (list): The list to be sorted.\n",
       "    \n",
       "    Returns:\n",
       "        list: The sorted list.\n",
       "    \"\"\"\n",
       "    return sorted(input_list)\n",
       "\n",
       "# Example usage:\n",
       "numbers = [64, 34, 25, 12, 22, 11, 90]\n",
       "print(order_list(numbers))  # Output: [11, 12, 22, 25, 34, 64, 90]\n",
       "``` \n",
       "\n",
       "**<font color='magenta'>Total time:</font>** 74.62 sec."
      ],
      "text/plain": [
       "<IPython.core.display.Markdown object>"
      ]
     },
     "metadata": {},
     "output_type": "display_data"
    }
   ],
   "source": [
    "response = query_model(\n",
    "    system_message,\n",
    "    user_message=\"Please write a function in Python to order a list\",\n",
    "    temperature=0.1, \n",
    "    max_length=256)\n",
    "display(Markdown(colorize_text(response)))\n"
   ]
  },
  {
   "cell_type": "markdown",
   "id": "b9125487",
   "metadata": {
    "papermill": {
     "duration": 0.01431,
     "end_time": "2024-08-17T16:24:07.457808",
     "exception": false,
     "start_time": "2024-08-17T16:24:07.443498",
     "status": "completed"
    },
    "tags": []
   },
   "source": [
    "## Software design"
   ]
  },
  {
   "cell_type": "code",
   "execution_count": 20,
   "id": "6df85298",
   "metadata": {
    "execution": {
     "iopub.execute_input": "2024-08-17T16:24:07.487800Z",
     "iopub.status.busy": "2024-08-17T16:24:07.487433Z",
     "iopub.status.idle": "2024-08-17T16:28:31.450308Z",
     "shell.execute_reply": "2024-08-17T16:28:31.449367Z"
    },
    "papermill": {
     "duration": 263.994679,
     "end_time": "2024-08-17T16:28:31.466592",
     "exception": false,
     "start_time": "2024-08-17T16:24:07.471913",
     "status": "completed"
    },
    "tags": []
   },
   "outputs": [
    {
     "data": {
      "text/markdown": [
       "\n",
       "\n",
       "**<font color='red'>Question:</font>** Please write a class in Python \n",
       "                        to model a phone book (storing name, surname, address, phone) \n",
       "                        with add, delete, order by name, search operations.\n",
       "                        The class should store a list of contacts, each\n",
       "                        with name, surname, address, phone information stored.\n",
       "                         \n",
       "\n",
       "**<font color='green'>Answer:</font>** ```python\n",
       "class Contact:\n",
       "    def __init__(self, name, surname, address, phone):\n",
       "        self.name = name\n",
       "        self.surname = surname\n",
       "        self.address = address\n",
       "        self.phone = phone\n",
       "\n",
       "class PhoneBook:\n",
       "    def __init__(self):\n",
       "        self.contacts = []\n",
       "\n",
       "    def add_contact(self, name, surname, address, phone):\n",
       "        new_contact = Contact(name, surname, address, phone)\n",
       "        self.contacts.append(new_contact)\n",
       "\n",
       "    def delete_contact(self, name, surname):\n",
       "        for contact in self.contacts:\n",
       "            if contact.name == name and contact.surname == surname:\n",
       "                self.contacts.remove(contact)\n",
       "                print(f\"Contact {name} {surname} deleted successfully.\")\n",
       "                return\n",
       "        print(f\"Contact {name} {surname} not found.\")\n",
       "\n",
       "    def order_by_name(self):\n",
       "        self.contacts.sort(key=lambda x: (x.name, x.surname))\n",
       "\n",
       "    def search_contact(self, name, surname):\n",
       "        for contact in self.contacts:\n",
       "            if contact.name == name and contact.surname == surname:\n",
       "                return contact\n",
       "        return None\n",
       "\n",
       "    def print_contacts(self):\n",
       "        for contact in self.contacts:\n",
       "            print(f\"Name: {contact.name} {contact.surname}, Address: {contact.address}, Phone: {contact.phone}\")\n",
       "\n",
       "# Example usage:\n",
       "phone_book = PhoneBook()\n",
       "phone_book.add_contact(\"John\", \"Doe\", \"123 Main St\", \"123-456-7890\")\n",
       "phone_book.add_contact(\"Jane\", \"Doe\", \"456 Elm St\", \"987-654-3210\")\n",
       "phone_book.add_contact(\"Alice\", \"Smith\", \"789 Oak St\", \"555-555-5555\")\n",
       "\n",
       "phone_book.order_by_name()\n",
       "phone_book.print_contacts()\n",
       "\n",
       "found_contact = phone_book.search_contact(\"John\", \"Doe\")\n",
       "if found_contact:\n",
       "    print(f\"Found contact: {found_contact.name} {found_contact.surname}, Address: {found_contact.address}, Phone: {found_contact.phone}\")\n",
       "else:\n",
       "    print(\"Contact not found.\")\n",
       "\n",
       "phone_book.delete_contact(\"Jane\", \"Doe\")\n",
       "phone_book.print_contacts()\n",
       "``` \n",
       "\n",
       "**<font color='magenta'>Total time:</font>** 263.96 sec."
      ],
      "text/plain": [
       "<IPython.core.display.Markdown object>"
      ]
     },
     "metadata": {},
     "output_type": "display_data"
    }
   ],
   "source": [
    "response = query_model(\n",
    "    system_message,\n",
    "    user_message=\"\"\"Please write a class in Python \n",
    "                        to model a phone book (storing name, surname, address, phone) \n",
    "                        with add, delete, order by name, search operations.\n",
    "                        The class should store a list of contacts, each\n",
    "                        with name, surname, address, phone information stored.\n",
    "                        \"\"\",\n",
    "    temperature=0.1, \n",
    "    max_length=1024)\n",
    "display(Markdown(colorize_text(response)))\n"
   ]
  },
  {
   "cell_type": "code",
   "execution_count": 21,
   "id": "41edd582",
   "metadata": {
    "execution": {
     "iopub.execute_input": "2024-08-17T16:28:31.497122Z",
     "iopub.status.busy": "2024-08-17T16:28:31.496299Z",
     "iopub.status.idle": "2024-08-17T16:31:09.759570Z",
     "shell.execute_reply": "2024-08-17T16:31:09.758586Z"
    },
    "papermill": {
     "duration": 158.29512,
     "end_time": "2024-08-17T16:31:09.775909",
     "exception": false,
     "start_time": "2024-08-17T16:28:31.480789",
     "status": "completed"
    },
    "tags": []
   },
   "outputs": [
    {
     "data": {
      "text/markdown": [
       "\n",
       "\n",
       "**<font color='red'>Question:</font>** Please write a small Python module that creates a REST API service\n",
       "                        with two endpoints: \n",
       "                        * get_status (GET)\n",
       "                        * prediction (POST)\n",
       "                        The prediction endpoint receives the payload, extract three fields: city, street and number\n",
       "                        and returns a field called price_estimate\n",
       "                        \n",
       "                         \n",
       "\n",
       "**<font color='green'>Answer:</font>** ```python\n",
       "from flask import Flask, request, jsonify\n",
       "\n",
       "app = Flask(__name__)\n",
       "\n",
       "# Sample data for demonstration purposes\n",
       "data = {\n",
       "    \"New York\": {\"street\": \"Main St\", \"number\": 123, \"price_estimate\": 1000},\n",
       "    \"Los Angeles\": {\"street\": \"Sunset Blvd\", \"number\": 456, \"price_estimate\": 800},\n",
       "    \"Chicago\": {\"street\": \"Michigan Ave\", \"number\": 789, \"price_estimate\": 1200}\n",
       "}\n",
       "\n",
       "@app.route('/status', methods=['GET'])\n",
       "def get_status():\n",
       "    \"\"\"Return a simple status message\"\"\"\n",
       "    return jsonify({\"status\": \"OK\"})\n",
       "\n",
       "@app.route('/prediction', methods=['POST'])\n",
       "def prediction():\n",
       "    \"\"\"Make a prediction based on the provided data\"\"\"\n",
       "    try:\n",
       "        city = request.json['city']\n",
       "        street = request.json['street']\n",
       "        number = request.json['number']\n",
       "        \n",
       "        if city in data and data[city]['street'] == street and data[city]['number'] == number:\n",
       "            return jsonify({\"price_estimate\": data[city]['price_estimate']})\n",
       "        else:\n",
       "            return jsonify({\"error\": \"City, street or number not found\"}), 404\n",
       "    except KeyError:\n",
       "        return jsonify \n",
       "\n",
       "**<font color='magenta'>Total time:</font>** 158.26 sec."
      ],
      "text/plain": [
       "<IPython.core.display.Markdown object>"
      ]
     },
     "metadata": {},
     "output_type": "display_data"
    }
   ],
   "source": [
    "response = query_model(\n",
    "    system_message,\n",
    "    user_message=\"\"\"Please write a small Python module that creates a REST API service\n",
    "                        with two endpoints: \n",
    "                        * get_status (GET)\n",
    "                        * prediction (POST)\n",
    "                        The prediction endpoint receives the payload, extract three fields: city, street and number\n",
    "                        and returns a field called price_estimate\n",
    "                        \n",
    "                        \"\"\",\n",
    "    temperature=0.1, \n",
    "    max_length=256)\n",
    "display(Markdown(colorize_text(response)))"
   ]
  },
  {
   "cell_type": "markdown",
   "id": "55f5b297",
   "metadata": {
    "papermill": {
     "duration": 0.014933,
     "end_time": "2024-08-17T16:31:09.805835",
     "exception": false,
     "start_time": "2024-08-17T16:31:09.790902",
     "status": "completed"
    },
    "tags": []
   },
   "source": [
    "## C++ code\n",
    "\n",
    "We continue now with some C++ code."
   ]
  },
  {
   "cell_type": "code",
   "execution_count": 22,
   "id": "71d8d5b7",
   "metadata": {
    "execution": {
     "iopub.execute_input": "2024-08-17T16:31:09.837404Z",
     "iopub.status.busy": "2024-08-17T16:31:09.836532Z",
     "iopub.status.idle": "2024-08-17T16:31:57.300031Z",
     "shell.execute_reply": "2024-08-17T16:31:57.299113Z"
    },
    "papermill": {
     "duration": 47.505106,
     "end_time": "2024-08-17T16:31:57.325718",
     "exception": false,
     "start_time": "2024-08-17T16:31:09.820612",
     "status": "completed"
    },
    "tags": []
   },
   "outputs": [
    {
     "data": {
      "text/markdown": [
       "\n",
       "\n",
       "**<font color='red'>Question:</font>** Please write a function in C++ to calculate the area of a circle of radius r \n",
       "\n",
       "**<font color='green'>Answer:</font>** ```cpp\n",
       "#include <iostream>\n",
       "#include <cmath>\n",
       "\n",
       "double calculate_circle_area(double r) {\n",
       "    return M_PI * pow(r, 2);\n",
       "}\n",
       "\n",
       "int main() {\n",
       "    double r = 5.0;\n",
       "    std::cout << \"The area of the circle is: \" << calculate_circle_area(r) << std::endl;\n",
       "    return 0;\n",
       "}\n",
       "``` \n",
       "\n",
       "**<font color='magenta'>Total time:</font>** 47.46 sec."
      ],
      "text/plain": [
       "<IPython.core.display.Markdown object>"
      ]
     },
     "metadata": {},
     "output_type": "display_data"
    }
   ],
   "source": [
    "system_message = \"\"\"\n",
    "You are an AI assistant designed to write simple C++ code.\n",
    "Please answer with the listing of the C++ code.\n",
    "Question: {question}\n",
    "Answer:\n",
    "\"\"\"\n",
    "response = query_model(\n",
    "    system_message,\n",
    "    user_message=\"Please write a function in C++ to calculate the area of a circle of radius r\", \n",
    "    temperature=0.1, \n",
    "    max_length=256)\n",
    "display(Markdown(colorize_text(response)))"
   ]
  },
  {
   "cell_type": "code",
   "execution_count": 23,
   "id": "c3e48281",
   "metadata": {
    "execution": {
     "iopub.execute_input": "2024-08-17T16:31:57.372821Z",
     "iopub.status.busy": "2024-08-17T16:31:57.371993Z",
     "iopub.status.idle": "2024-08-17T16:32:51.595039Z",
     "shell.execute_reply": "2024-08-17T16:32:51.594065Z"
    },
    "papermill": {
     "duration": 54.265711,
     "end_time": "2024-08-17T16:32:51.611911",
     "exception": false,
     "start_time": "2024-08-17T16:31:57.346200",
     "status": "completed"
    },
    "tags": []
   },
   "outputs": [
    {
     "data": {
      "text/markdown": [
       "\n",
       "\n",
       "**<font color='red'>Question:</font>** Please write a function in C++ to calculate the volume of a cylinder with radius r and height h \n",
       "\n",
       "**<font color='green'>Answer:</font>** ```cpp\n",
       "#include <iostream>\n",
       "\n",
       "double cylinder_volume(double r, double h) {\n",
       "    return 3.14159 * r * r * h;\n",
       "}\n",
       "\n",
       "int main() {\n",
       "    double r = 5.0;\n",
       "    double h = 10.0;\n",
       "    std::cout << \"The volume of the cylinder is: \" << cylinder_volume(r, h) << std::endl;\n",
       "    return 0;\n",
       "}\n",
       "``` \n",
       "\n",
       "**<font color='magenta'>Total time:</font>** 54.22 sec."
      ],
      "text/plain": [
       "<IPython.core.display.Markdown object>"
      ]
     },
     "metadata": {},
     "output_type": "display_data"
    }
   ],
   "source": [
    "system_message = \"\"\"\n",
    "You are an AI assistant designed to write simple C++ code.\n",
    "Please answer with the listing of the C++ code.\n",
    "Question: {question}\n",
    "Answer:\n",
    "\"\"\"\n",
    "response = query_model(\n",
    "    system_message,\n",
    "    user_message=\"Please write a function in C++ to calculate the volume of a cylinder with radius r and height h\",\n",
    "    temperature=0.1,\n",
    "    max_length=512)\n",
    "display(Markdown(colorize_text(response)))"
   ]
  },
  {
   "cell_type": "code",
   "execution_count": 24,
   "id": "68a3c6eb",
   "metadata": {
    "execution": {
     "iopub.execute_input": "2024-08-17T16:32:51.642683Z",
     "iopub.status.busy": "2024-08-17T16:32:51.642316Z",
     "iopub.status.idle": "2024-08-17T16:34:05.574258Z",
     "shell.execute_reply": "2024-08-17T16:34:05.573315Z"
    },
    "papermill": {
     "duration": 73.964409,
     "end_time": "2024-08-17T16:34:05.590946",
     "exception": false,
     "start_time": "2024-08-17T16:32:51.626537",
     "status": "completed"
    },
    "tags": []
   },
   "outputs": [
    {
     "data": {
      "text/markdown": [
       "\n",
       "\n",
       "**<font color='red'>Question:</font>** Please write a function in C++ to order a list \n",
       "\n",
       "**<font color='green'>Answer:</font>** ```cpp\n",
       "#include <iostream>\n",
       "#include <vector>\n",
       "#include <algorithm>\n",
       "\n",
       "std::vector<int> orderList(std::vector<int> lst) {\n",
       "    std::sort(lst.begin(), lst.end());\n",
       "    return lst;\n",
       "}\n",
       "\n",
       "int main() {\n",
       "    std::vector<int> numbers = {64, 34, 25, 12, 22, 11, 90};\n",
       "    std::vector<int> orderedNumbers = orderList(numbers);\n",
       "    for (int num : orderedNumbers) {\n",
       "        std::cout << num << \" \";\n",
       "    }\n",
       "    return 0;\n",
       "}\n",
       "``` \n",
       "\n",
       "**<font color='magenta'>Total time:</font>** 73.93 sec."
      ],
      "text/plain": [
       "<IPython.core.display.Markdown object>"
      ]
     },
     "metadata": {},
     "output_type": "display_data"
    }
   ],
   "source": [
    "response = query_model(\n",
    "    system_message,\n",
    "    user_message=\"Please write a function in C++ to order a list\", \n",
    "    temperature=0.1, \n",
    "    max_length=256)\n",
    "display(Markdown(colorize_text(response)))"
   ]
  },
  {
   "cell_type": "markdown",
   "id": "d5b2a3c2",
   "metadata": {
    "papermill": {
     "duration": 0.014739,
     "end_time": "2024-08-17T16:34:05.620663",
     "exception": false,
     "start_time": "2024-08-17T16:34:05.605924",
     "status": "completed"
    },
    "tags": []
   },
   "source": [
    "## Multiple parameters questions\n",
    "\n",
    "### Best food in France"
   ]
  },
  {
   "cell_type": "code",
   "execution_count": 25,
   "id": "a0c08a98",
   "metadata": {
    "execution": {
     "iopub.execute_input": "2024-08-17T16:34:05.653839Z",
     "iopub.status.busy": "2024-08-17T16:34:05.653130Z",
     "iopub.status.idle": "2024-08-17T16:36:20.630650Z",
     "shell.execute_reply": "2024-08-17T16:36:20.629605Z"
    },
    "papermill": {
     "duration": 135.011681,
     "end_time": "2024-08-17T16:36:20.648613",
     "exception": false,
     "start_time": "2024-08-17T16:34:05.636932",
     "status": "completed"
    },
    "tags": []
   },
   "outputs": [
    {
     "data": {
      "text/markdown": [
       "\n",
       "\n",
       "**<font color='red'>Question:</font>** \n",
       "What are the best 3 food from France?\n",
       " \n",
       "\n",
       "**<font color='green'>Answer:</font>** Bon appétit! Here are the top 3 iconic French foods that you should try:\n",
       "\n",
       "* **Escargots (Snails in Garlic Butter)**: A classic French appetizer, typically served as an entrée, escargots are snails cooked in garlic butter, parsley, and white wine. They're a delicacy that's both rich and flavorful.\n",
       "* **Coq au Vin (Chicken Braised in Red Wine)**: A classic French dish from the Burgundy region, Coq au Vin is a braised chicken cooked in red wine, mushrooms, onions, and bacon. The result is a tender, flavorful chicken dish that's fall-off-the-bone delicious.\n",
       "* **Croissants**: Flaky, buttery, and crispy, croissants are a quintessential French pastry. Whether plain or filled with chocolate, jam, or ham and cheese, croissants are a delicious breakfast or snack option that's perfect for any time of day.\n",
       "\n",
       "These three dishes showcase the rich flavors and techniques that make French cuisine so renowned worldwide. Bon appétit! \n",
       "\n",
       "**<font color='magenta'>Total time:</font>** 134.97 sec."
      ],
      "text/plain": [
       "<IPython.core.display.Markdown object>"
      ]
     },
     "metadata": {},
     "output_type": "display_data"
    }
   ],
   "source": [
    "system_message = \"\"\"\n",
    "You are an AI assistant designed to answer questions with parameters.\n",
    "Return the answer formated nicely, for example with bullet points.\n",
    "\"\"\"\n",
    "user_message = \"\"\"\n",
    "What are the {adjective} {number} {items} from {place}?\n",
    "\"\"\"\n",
    "response = query_model(\n",
    "    system_message,\n",
    "    user_message.format(\n",
    "    adjective=\"best\",\n",
    "    number=\"3\",\n",
    "    items=\"food\",\n",
    "    place=\"France\"\n",
    "    ), \n",
    "    max_length=256)\n",
    "display(Markdown(colorize_text(response)))"
   ]
  },
  {
   "cell_type": "markdown",
   "id": "473053e9",
   "metadata": {
    "papermill": {
     "duration": 0.014927,
     "end_time": "2024-08-17T16:36:20.679153",
     "exception": false,
     "start_time": "2024-08-17T16:36:20.664226",
     "status": "completed"
    },
    "tags": []
   },
   "source": [
    "### Best attractions in Italy"
   ]
  },
  {
   "cell_type": "code",
   "execution_count": 26,
   "id": "822486d9",
   "metadata": {
    "execution": {
     "iopub.execute_input": "2024-08-17T16:36:20.711097Z",
     "iopub.status.busy": "2024-08-17T16:36:20.710745Z",
     "iopub.status.idle": "2024-08-17T16:38:58.331693Z",
     "shell.execute_reply": "2024-08-17T16:38:58.330677Z"
    },
    "papermill": {
     "duration": 157.655597,
     "end_time": "2024-08-17T16:38:58.349974",
     "exception": false,
     "start_time": "2024-08-17T16:36:20.694377",
     "status": "completed"
    },
    "tags": []
   },
   "outputs": [
    {
     "data": {
      "text/markdown": [
       "\n",
       "\n",
       "**<font color='red'>Question:</font>** \n",
       "What are the best five attractions from Italy?\n",
       " \n",
       "\n",
       "**<font color='green'>Answer:</font>** Italy, a country known for its rich history, art, architecture, fashion, and delicious food! Here are the top 5 attractions to visit in Italy:\n",
       "\n",
       "* **The Colosseum (Rome)**: This ancient amphitheater is one of Rome's most iconic landmarks and a must-visit attraction. Learn about the history of gladiators and the Roman Empire while exploring the ancient structure.\n",
       "* **The Leaning Tower of Pisa (Pisa)**: This famous tower is a marvel of engineering and a popular spot for photos. Take a stroll through the Piazza dei Miracoli and admire the beautiful architecture of the surrounding buildings.\n",
       "* **The Grand Canal (Venice)**: A romantic gondola ride through the canals of Venice is a quintessential Italian experience. Admire the stunning architecture, bridges, and ornate bridges of this unique city.\n",
       "* **The Uffizi Gallery (Florence)**: This world-renowned museum is home to some of the most famous paintings in the world, including Botticelli's \"The Birth of Venus\" and Leonardo da Vinci's \"Annunciation.\"\n",
       "* **The Amalfi Coast (Amalfi Coast)**: This stunning coastline is a paradise for beach lovers and nature enthusiasts. \n",
       "\n",
       "**<font color='magenta'>Total time:</font>** 157.61 sec."
      ],
      "text/plain": [
       "<IPython.core.display.Markdown object>"
      ]
     },
     "metadata": {},
     "output_type": "display_data"
    }
   ],
   "source": [
    "response = query_model(    \n",
    "    system_message,\n",
    "    user_message.format(\n",
    "    adjective=\"best\",\n",
    "    number=\"five\",\n",
    "    items=\"attractions\",\n",
    "    place=\"Italy\"\n",
    "    ), \n",
    "    max_length=256)\n",
    "display(Markdown(colorize_text(response)))"
   ]
  },
  {
   "cell_type": "markdown",
   "id": "9e0ffbc5",
   "metadata": {
    "papermill": {
     "duration": 0.015299,
     "end_time": "2024-08-17T16:38:58.380737",
     "exception": false,
     "start_time": "2024-08-17T16:38:58.365438",
     "status": "completed"
    },
    "tags": []
   },
   "source": [
    "### Most affordable places to stay in Spain "
   ]
  },
  {
   "cell_type": "code",
   "execution_count": 27,
   "id": "26fc9193",
   "metadata": {
    "execution": {
     "iopub.execute_input": "2024-08-17T16:38:58.413790Z",
     "iopub.status.busy": "2024-08-17T16:38:58.413112Z",
     "iopub.status.idle": "2024-08-17T16:41:36.394488Z",
     "shell.execute_reply": "2024-08-17T16:41:36.393468Z"
    },
    "papermill": {
     "duration": 158.016127,
     "end_time": "2024-08-17T16:41:36.412325",
     "exception": false,
     "start_time": "2024-08-17T16:38:58.396198",
     "status": "completed"
    },
    "tags": []
   },
   "outputs": [
    {
     "data": {
      "text/markdown": [
       "\n",
       "\n",
       "**<font color='red'>Question:</font>** \n",
       "What are the most affordable two places to retire from Spain?\n",
       " \n",
       "\n",
       "**<font color='green'>Answer:</font>** Here are two affordable places to retire in Spain:\n",
       "\n",
       "**Top 2 Affordable Places to Retire in Spain:**\n",
       "\n",
       "* **1. Málaga, Andalusia**\n",
       "\t+ Average cost of living index: 73.25 (compared to 100 in Madrid)\n",
       "\t+ Rent: €400-€600 per month for a one-bedroom apartment\n",
       "\t+ Food: €3-€5 per meal at a local restaurant\n",
       "\t+ Healthcare: Access to public healthcare and some private options\n",
       "\t+ Weather: Mild Mediterranean climate, with warm winters and hot summers\n",
       "\t+ Culture: Rich cultural heritage, beautiful beaches, and a vibrant expat community\n",
       "* **2. Gran Canaria, Canary Islands**\n",
       "\t+ Average cost of living index: 69.25 (compared to 100 in Madrid)\n",
       "\t+ Rent: €300-€500 per month for a one-bedroom apartment\n",
       "\t+ Food: €2-€4 per meal at a local restaurant\n",
       "\t+ Healthcare: Access to public healthcare and some private options\n",
       "\t+ Weather: Subtropical climate, with mild winters and warm summers\n",
       "\t+ Culture: Lush landscapes, beautiful beaches, and a growing expat community\n",
       "\n",
       "Note: Prices may vary depending on the specific \n",
       "\n",
       "**<font color='magenta'>Total time:</font>** 157.97 sec."
      ],
      "text/plain": [
       "<IPython.core.display.Markdown object>"
      ]
     },
     "metadata": {},
     "output_type": "display_data"
    }
   ],
   "source": [
    "response = query_model(\n",
    "    system_message,\n",
    "    user_message.format(\n",
    "    adjective=\"most affordable\",\n",
    "    number=\"two\",\n",
    "    items=\"places to retire\",\n",
    "    place=\"Spain\"\n",
    "    ), \n",
    "    max_length=256)\n",
    "display(Markdown(colorize_text(response)))"
   ]
  },
  {
   "cell_type": "markdown",
   "id": "d1097444",
   "metadata": {
    "papermill": {
     "duration": 0.015439,
     "end_time": "2024-08-17T16:41:36.443477",
     "exception": false,
     "start_time": "2024-08-17T16:41:36.428038",
     "status": "completed"
    },
    "tags": []
   },
   "source": [
    "### Less known but great places to stay in Romania"
   ]
  },
  {
   "cell_type": "code",
   "execution_count": 28,
   "id": "82fb1a21",
   "metadata": {
    "execution": {
     "iopub.execute_input": "2024-08-17T16:41:36.476876Z",
     "iopub.status.busy": "2024-08-17T16:41:36.476159Z",
     "iopub.status.idle": "2024-08-17T16:44:14.355455Z",
     "shell.execute_reply": "2024-08-17T16:44:14.354494Z"
    },
    "papermill": {
     "duration": 157.915018,
     "end_time": "2024-08-17T16:44:14.374322",
     "exception": false,
     "start_time": "2024-08-17T16:41:36.459304",
     "status": "completed"
    },
    "tags": []
   },
   "outputs": [
    {
     "data": {
      "text/markdown": [
       "\n",
       "\n",
       "**<font color='red'>Question:</font>** \n",
       "What are the Less known but great 4 places to stay from Romania?\n",
       " \n",
       "\n",
       "**<font color='green'>Answer:</font>** Here are some lesser-known but great places to stay in Romania:\n",
       "\n",
       "• **Sighisoara Medieval Citadel**: A UNESCO World Heritage Site and one of the best-preserved medieval towns in Europe, Sighisoara is a hidden gem in the heart of Transylvania. Its colorful buildings, cobblestone streets, and stunning architecture make it a unique destination for history buffs and photographers.\n",
       "\n",
       "• **Maramures County**: Located in the north of Romania, Maramures is a region known for its traditional wooden churches, vibrant culture, and stunning natural beauty. Stay in the town of Sighetu Marmației, which offers a glimpse into traditional Romanian life, or in the village of Breb, which is famous for its wooden churches and traditional festivals.\n",
       "\n",
       "• **Bran Castle**: While many people visit the nearby Bran Castle, which is often mistakenly referred to as Dracula's Castle, few know about the nearby town of Bran, which offers a more authentic and peaceful experience. Stay in one of the local guesthouses and explore the surrounding forests, mountains, and traditional villages.\n",
       "\n",
       "• **Oradea**: Located in the northwest of Romania, Oradea is a charming city with a rich history, stunning architecture, and a vibrant cultural scene. Its baroque buildings \n",
       "\n",
       "**<font color='magenta'>Total time:</font>** 157.87 sec."
      ],
      "text/plain": [
       "<IPython.core.display.Markdown object>"
      ]
     },
     "metadata": {},
     "output_type": "display_data"
    }
   ],
   "source": [
    "response = query_model(    \n",
    "    system_message,\n",
    "    user_message.format(\n",
    "    adjective=\"Less known but great\",\n",
    "    number=\"4\",\n",
    "    items=\"places to stay\",\n",
    "    place=\"Romania\"\n",
    "    ), \n",
    "    max_length=256)\n",
    "display(Markdown(colorize_text(response)))"
   ]
  },
  {
   "cell_type": "markdown",
   "id": "f14e3c03",
   "metadata": {
    "papermill": {
     "duration": 0.015681,
     "end_time": "2024-08-17T16:44:14.406421",
     "exception": false,
     "start_time": "2024-08-17T16:44:14.390740",
     "status": "completed"
    },
    "tags": []
   },
   "source": [
    "### Best commedies by Shakespeare\n"
   ]
  },
  {
   "cell_type": "code",
   "execution_count": 29,
   "id": "88f12339",
   "metadata": {
    "execution": {
     "iopub.execute_input": "2024-08-17T16:44:14.440411Z",
     "iopub.status.busy": "2024-08-17T16:44:14.439535Z",
     "iopub.status.idle": "2024-08-17T16:46:52.012136Z",
     "shell.execute_reply": "2024-08-17T16:46:52.011159Z"
    },
    "papermill": {
     "duration": 157.608527,
     "end_time": "2024-08-17T16:46:52.030801",
     "exception": false,
     "start_time": "2024-08-17T16:44:14.422274",
     "status": "completed"
    },
    "tags": []
   },
   "outputs": [
    {
     "data": {
      "text/markdown": [
       "\n",
       "\n",
       "**<font color='red'>Question:</font>** \n",
       "What are the best 3 commedies from Shakespeare entire creation?\n",
       " \n",
       "\n",
       "**<font color='green'>Answer:</font>** A question that sparks debate among Shakespeare enthusiasts! While opinions may vary, here are three of the most popular comedies from Shakespeare's works, widely regarded as some of the greatest comedies in the English language:\n",
       "\n",
       "* **A Midsummer Night's Dream**:\n",
       "\t+ A lighthearted and enchanting play that weaves together love, magic, and mischief in a forest inhabited by fairies, humans, and wild creatures.\n",
       "\t+ Features a star-crossed lovers' story, comedic misunderstandings, and a bumbling weaver named Bottom.\n",
       "* **Twelfth Night**:\n",
       "\t+ A witty and charming comedy that explores themes of love, identity, and deception in a shipwrecked world.\n",
       "\t+ Follows the story of Viola, a young woman who disguises herself as a man to serve the lovesick Orsino, leading to a series of hilarious misunderstandings and romantic entanglements.\n",
       "* **As You Like It**:\n",
       "\t+ A pastoral comedy that celebrates the power of love, friendship, and redemption in a forest setting.\n",
       "\t+ Features a strong-willed heroine, Rosalind, who disguises herself as a man to escape her unrequited love and find her own happiness in the company of her banished uncle \n",
       "\n",
       "**<font color='magenta'>Total time:</font>** 157.57 sec."
      ],
      "text/plain": [
       "<IPython.core.display.Markdown object>"
      ]
     },
     "metadata": {},
     "output_type": "display_data"
    }
   ],
   "source": [
    "response = query_model(\n",
    "    system_message,\n",
    "    user_message.format(\n",
    "    adjective=\"best\",\n",
    "    number=\"3\",\n",
    "    items=\"commedies\",\n",
    "    place=\"Shakespeare entire creation\"\n",
    "    ), \n",
    "    max_length=256)\n",
    "display(Markdown(colorize_text(response)))"
   ]
  },
  {
   "cell_type": "markdown",
   "id": "9f4d6647",
   "metadata": {
    "papermill": {
     "duration": 0.015909,
     "end_time": "2024-08-17T16:46:52.062919",
     "exception": false,
     "start_time": "2024-08-17T16:46:52.047010",
     "status": "completed"
    },
    "tags": []
   },
   "source": [
    "### Most important battles fromn WW2"
   ]
  },
  {
   "cell_type": "code",
   "execution_count": 30,
   "id": "e3274ebc",
   "metadata": {
    "execution": {
     "iopub.execute_input": "2024-08-17T16:46:52.097479Z",
     "iopub.status.busy": "2024-08-17T16:46:52.096619Z",
     "iopub.status.idle": "2024-08-17T16:51:20.820110Z",
     "shell.execute_reply": "2024-08-17T16:51:20.819110Z"
    },
    "papermill": {
     "duration": 268.758941,
     "end_time": "2024-08-17T16:51:20.838126",
     "exception": false,
     "start_time": "2024-08-17T16:46:52.079185",
     "status": "completed"
    },
    "tags": []
   },
   "outputs": [
    {
     "data": {
      "text/markdown": [
       "\n",
       "\n",
       "**<font color='red'>Question:</font>** \n",
       "What are the most important 5 battles from WW2?\n",
       " \n",
       "\n",
       "**<font color='green'>Answer:</font>** Here are the top 5 most important battles of World War II:\n",
       "\n",
       "**The Top 5 Most Important Battles of World War II:**\n",
       "\n",
       "1. **Battle of Stalingrad (August 1942 - February 1943)\n",
       "\t* A decisive turning point on the Eastern Front, where Soviet forces defeated the German Sixth Army, marking a major shift in the war's momentum.\n",
       "\t* Resulted in the loss of over 300,000 German soldiers and a significant weakening of the German army.\n",
       "2. **Battle of Midway (June 1942)\n",
       "\t* A naval battle in the Pacific, where the United States Navy defeated a Japanese fleet, preventing a potential invasion of Hawaii and the West Coast of the United States.\n",
       "\t* Considered a turning point in the war in the Pacific, as it halted Japanese expansion and set the stage for the Allied counterattack.\n",
       "3. **Battle of Normandy (D-Day) (June 6, 1944)\n",
       "\t* The largest seaborne invasion in history, where Allied forces landed on the beaches of Normandy, France, and began the liberation of Western Europe from German occupation.\n",
       "\t* A crucial turning point in the war in Europe, as it paved the way for the Allied invasion of the continent.\n",
       "4. **Battle of El Alamein (October - November 1942)\n",
       "\t* A decisive battle in North Africa, where British forces led by General Bernard Montgomery defeated the German and Italian armies, marking a major shift in the desert war.\n",
       "\t* Resulted in the surrender of Axis forces in North Africa and the eventual Allied invasion of Italy.\n",
       "5. **Battle of Moscow (October 1941 - January 1942)\n",
       "\t* A prolonged battle in which Soviet forces defended Moscow against a German invasion, marking a significant turning point on the Eastern Front.\n",
       "\t* The Soviet victory at Moscow halted the German advance and set the stage for the Soviet counterattack that would eventually push the Germans back.\n",
       "\n",
       "These five battles were crucial in shaping the outcome of World War II, with each one having a significant impact on the war's trajectory and the ultimate defeat of the Axis powers. \n",
       "\n",
       "**<font color='magenta'>Total time:</font>** 268.72 sec."
      ],
      "text/plain": [
       "<IPython.core.display.Markdown object>"
      ]
     },
     "metadata": {},
     "output_type": "display_data"
    }
   ],
   "source": [
    "response = query_model(\n",
    "    system_message,\n",
    "    user_message.format(\n",
    "    adjective=\"most important\",\n",
    "    number=\"5\",\n",
    "    items=\"battles\",\n",
    "    place=\"WW2\"\n",
    "    ), \n",
    "    max_length=512)\n",
    "display(Markdown(colorize_text(response)))"
   ]
  },
  {
   "cell_type": "markdown",
   "id": "7db59c50",
   "metadata": {
    "papermill": {
     "duration": 0.01639,
     "end_time": "2024-08-17T16:51:20.871151",
     "exception": false,
     "start_time": "2024-08-17T16:51:20.854761",
     "status": "completed"
    },
    "tags": []
   },
   "source": [
    "## Multiple steps reasoning (task chain)"
   ]
  },
  {
   "cell_type": "code",
   "execution_count": 31,
   "id": "868b8d0a",
   "metadata": {
    "execution": {
     "iopub.execute_input": "2024-08-17T16:51:20.906407Z",
     "iopub.status.busy": "2024-08-17T16:51:20.905525Z",
     "iopub.status.idle": "2024-08-17T16:56:37.473983Z",
     "shell.execute_reply": "2024-08-17T16:56:37.472909Z"
    },
    "papermill": {
     "duration": 316.606941,
     "end_time": "2024-08-17T16:56:37.494722",
     "exception": false,
     "start_time": "2024-08-17T16:51:20.887781",
     "status": "completed"
    },
    "tags": []
   },
   "outputs": [
    {
     "data": {
      "text/markdown": [
       "\n",
       "\n",
       "**<font color='red'>Question:</font>** \n",
       "What are the most important 5 battles from WW2?\n",
       " \n",
       "\n",
       "**<font color='green'>Answer:</font>** Here are the top 5 most important battles of World War 2, in no particular order, along with their significance and outcomes:\n",
       "\n",
       "• **Battle of Stalingrad (August 1942 - February 1943)**\n",
       "\t+ Location: Stalingrad, Russia\n",
       "\t+ Significance: Marked a major turning point on the Eastern Front, as the Soviet Red Army defeated the German Sixth Army, marking a significant loss for the Axis powers and a crucial victory for the Allies.\n",
       "\t+ Outcome: The Soviet Union gained control of the city, and the German army suffered heavy losses, setting the stage for the eventual defeat of Nazi Germany.\n",
       "\n",
       "• **Battle of Midway (June 4-7, 1942)**\n",
       "\t+ Location: Midway Atoll, Pacific Ocean\n",
       "\t+ Significance: Considered a turning point in the Pacific Theater, as the United States Navy defeated a Japanese naval force, preventing a potential invasion of Hawaii and halting Japanese expansion in the Pacific.\n",
       "\t+ Outcome: The Japanese lost four aircraft carriers, while the United States lost one, giving the Allies a crucial advantage in the Pacific.\n",
       "\n",
       "• **Battle of El Alamein (October 23 - November 5, 1942)**\n",
       "\t+ Location: El Alamein, Egypt\n",
       "\t+ Significance: Marked a decisive victory for the Allies in North Africa, as British and Commonwealth forces defeated the German and Italian armies, paving the way for the eventual defeat of the Axis powers in Africa.\n",
       "\t+ Outcome: The Axis powers were forced to retreat, and the Allies gained control of North Africa, setting the stage for the invasion of Italy.\n",
       "\n",
       "• **Battle of Moscow (October 1941 - January 1942)**\n",
       "\t+ Location: Moscow, Russia\n",
       "\t+ Significance: A crucial battle in the Eastern Front, as the Soviet Red Army defeated the German army's attempt to capture Moscow, preventing a potential collapse of the Soviet government.\n",
       "\t+ Outcome: The Soviet Union gained control of the city, and the German army suffered heavy losses, setting the stage for the eventual defeat of Nazi Germany.\n",
       "\n",
       "• **Battle of Normandy (June 6, 1944)**\n",
       "\t+ Location: Normandy, France\n",
       "\t+ Significance: Marked the beginning of the end of Nazi Germany's control over Western Europe, as Allied forces landed on the beaches of Normandy and began the liberation of Western Europe.\n",
       "\t+ Outcome: The Allies established a foothold on the continent, and the German army \n",
       "\n",
       "**<font color='magenta'>Total time:</font>** 316.56 sec."
      ],
      "text/plain": [
       "<IPython.core.display.Markdown object>"
      ]
     },
     "metadata": {},
     "output_type": "display_data"
    }
   ],
   "source": [
    "response = query_model(\n",
    "    system_message,\n",
    "    user_message.format(\n",
    "    adjective=\"most important\",\n",
    "    number=\"5\",\n",
    "    items=\"battles\",\n",
    "    place=\"WW2\"\n",
    "    ), \n",
    "    max_length=512)\n",
    "display(Markdown(colorize_text(response)))"
   ]
  },
  {
   "cell_type": "markdown",
   "id": "6f44a6d9",
   "metadata": {
    "papermill": {
     "duration": 0.024527,
     "end_time": "2024-08-17T16:56:37.540782",
     "exception": false,
     "start_time": "2024-08-17T16:56:37.516255",
     "status": "completed"
    },
    "tags": []
   },
   "source": [
    "## Reasoning like Einstein will do"
   ]
  },
  {
   "cell_type": "code",
   "execution_count": 32,
   "id": "ad4f1e63",
   "metadata": {
    "execution": {
     "iopub.execute_input": "2024-08-17T16:56:37.579030Z",
     "iopub.status.busy": "2024-08-17T16:56:37.578179Z",
     "iopub.status.idle": "2024-08-17T17:01:55.375487Z",
     "shell.execute_reply": "2024-08-17T17:01:55.374578Z"
    },
    "papermill": {
     "duration": 317.835105,
     "end_time": "2024-08-17T17:01:55.394624",
     "exception": false,
     "start_time": "2024-08-17T16:56:37.559519",
     "status": "completed"
    },
    "tags": []
   },
   "outputs": [
    {
     "data": {
      "text/markdown": [
       "\n",
       "\n",
       "**<font color='red'>Question:</font>** How many kilometers will travel totally the swallow? \n",
       "\n",
       "**<font color='green'>Answer:</font>** What a classic problem!\n",
       "\n",
       "Let's break it down step by step:\n",
       "\n",
       "1. The train travels from Bucharest to Ploiesti at a speed of 60 km/h, and the distance between the two cities is 60 km. To find the time it takes for the train to reach Ploiesti, we can use the formula:\n",
       "\n",
       "Time = Distance / Speed\n",
       "Time = 60 km / 60 km/h = 1 hour\n",
       "\n",
       "So, the train will reach Ploiesti in 1 hour.\n",
       "\n",
       "2. The swallow flies from Ploiesti to the train at a speed of 90 km/h. Since the train is moving at 60 km/h, the relative speed of the swallow with respect to the train is 90 km/h - 60 km/h = 30 km/h.\n",
       "\n",
       "3. The swallow flies back and forth between the train and Ploiesti, so it will cover the distance between the train and Ploiesti twice in each round trip. The distance between the train and Ploiesti is decreasing at a rate of 60 km/h (the speed of the train), so the distance between the train and Ploiesti is decreasing by 60 km every hour.\n",
       "\n",
       "4. Since the train takes 1 hour to reach Ploiesti, the distance between the train and Ploiesti is decreasing by 60 km in 1 hour. The swallow flies at a speed of 30 km/h relative to the train, so it will cover this distance in:\n",
       "\n",
       "Time = Distance / Speed\n",
       "Time = 60 km / 30 km/h = 2 hours\n",
       "\n",
       "However, this is the time it takes for the swallow to cover the distance between the train and Ploiesti once. Since the train is moving, the distance between the train and Ploiesti is decreasing, so the swallow will need to make multiple trips to cover the entire distance.\n",
       "\n",
       "5. To find the total distance traveled by the swallow, we need to find the total time it takes for the swallow to cover the entire distance between the train and Ploiesti. Since the train takes 1 hour to reach Ploiesti, and the swallow takes 2 hours to cover the distance between the train and Ploiesti once, the swallow will make 1/2 trips in 1 hour (since it takes 2 hours to cover the distance once).\n",
       "\n",
       "6. Since the train takes 1 hour to reach Ploiesti, the swallow will make 1 \n",
       "\n",
       "**<font color='magenta'>Total time:</font>** 317.79 sec."
      ],
      "text/plain": [
       "<IPython.core.display.Markdown object>"
      ]
     },
     "metadata": {},
     "output_type": "display_data"
    }
   ],
   "source": [
    "system_message = \"\"\"\n",
    "You are a math professor, smart but cool.\n",
    "Background: A train traveling from Bucharest to Ploiesti (60 km distance) has the speed of 60 km/h. \n",
    "The train starts in Bucharest and travels until Ploiesti, once, only in this direction.\n",
    "A swallow, flying with 90 km/h, fly from Ploiesti to the moving train.\n",
    "When it reaches the train, the swallow flies back toward Ploiesti,\n",
    "ahead of the train. At Ploiesti turns again back and continues to fly back and forth \n",
    "(between the train approaching Ploiesti and Ploiesti) until the train reaches Ploiesti. \n",
    "The swallow will fly continously all the time the train is traveling from Bucharest to Ploiesti.\n",
    "Reasoning: Think step by step. Explain your reasoning.\n",
    "Question: {question}\n",
    "Answer:\n",
    "\"\"\"\n",
    "response = query_model(\n",
    "    system_message,\n",
    "    user_message=\"How many kilometers will travel totally the swallow?\", \n",
    "    temperature=0.1,\n",
    "    max_length=512)\n",
    "display(Markdown(colorize_text(response)))"
   ]
  }
 ],
 "metadata": {
  "kaggle": {
   "accelerator": "gpu",
   "dataSources": [
    {
     "isSourceIdPinned": true,
     "modelId": 91102,
     "modelInstanceId": 68809,
     "sourceId": 81881,
     "sourceType": "modelInstanceVersion"
    }
   ],
   "dockerImageVersionId": 30747,
   "isGpuEnabled": true,
   "isInternetEnabled": true,
   "language": "python",
   "sourceType": "notebook"
  },
  "kernelspec": {
   "display_name": "Python 3",
   "language": "python",
   "name": "python3"
  },
  "language_info": {
   "codemirror_mode": {
    "name": "ipython",
    "version": 3
   },
   "file_extension": ".py",
   "mimetype": "text/x-python",
   "name": "python",
   "nbconvert_exporter": "python",
   "pygments_lexer": "ipython3",
   "version": "3.10.13"
  },
  "papermill": {
   "default_parameters": {},
   "duration": 2829.638761,
   "end_time": "2024-08-17T17:01:58.725061",
   "environment_variables": {},
   "exception": null,
   "input_path": "__notebook__.ipynb",
   "output_path": "__notebook__.ipynb",
   "parameters": {},
   "start_time": "2024-08-17T16:14:49.086300",
   "version": "2.5.0"
  },
  "widgets": {
   "application/vnd.jupyter.widget-state+json": {
    "state": {
     "01296bb4feb34b21b66315a8b0c4434d": {
      "model_module": "@jupyter-widgets/controls",
      "model_module_version": "1.5.0",
      "model_name": "DescriptionStyleModel",
      "state": {
       "_model_module": "@jupyter-widgets/controls",
       "_model_module_version": "1.5.0",
       "_model_name": "DescriptionStyleModel",
       "_view_count": null,
       "_view_module": "@jupyter-widgets/base",
       "_view_module_version": "1.2.0",
       "_view_name": "StyleView",
       "description_width": ""
      }
     },
     "017266d5cc3a4b2baf14854cb1aac998": {
      "model_module": "@jupyter-widgets/base",
      "model_module_version": "1.2.0",
      "model_name": "LayoutModel",
      "state": {
       "_model_module": "@jupyter-widgets/base",
       "_model_module_version": "1.2.0",
       "_model_name": "LayoutModel",
       "_view_count": null,
       "_view_module": "@jupyter-widgets/base",
       "_view_module_version": "1.2.0",
       "_view_name": "LayoutView",
       "align_content": null,
       "align_items": null,
       "align_self": null,
       "border": null,
       "bottom": null,
       "display": null,
       "flex": null,
       "flex_flow": null,
       "grid_area": null,
       "grid_auto_columns": null,
       "grid_auto_flow": null,
       "grid_auto_rows": null,
       "grid_column": null,
       "grid_gap": null,
       "grid_row": null,
       "grid_template_areas": null,
       "grid_template_columns": null,
       "grid_template_rows": null,
       "height": null,
       "justify_content": null,
       "justify_items": null,
       "left": null,
       "margin": null,
       "max_height": null,
       "max_width": null,
       "min_height": null,
       "min_width": null,
       "object_fit": null,
       "object_position": null,
       "order": null,
       "overflow": null,
       "overflow_x": null,
       "overflow_y": null,
       "padding": null,
       "right": null,
       "top": null,
       "visibility": null,
       "width": null
      }
     },
     "1c393184bef046cc9665ad311c8e2bdf": {
      "model_module": "@jupyter-widgets/base",
      "model_module_version": "1.2.0",
      "model_name": "LayoutModel",
      "state": {
       "_model_module": "@jupyter-widgets/base",
       "_model_module_version": "1.2.0",
       "_model_name": "LayoutModel",
       "_view_count": null,
       "_view_module": "@jupyter-widgets/base",
       "_view_module_version": "1.2.0",
       "_view_name": "LayoutView",
       "align_content": null,
       "align_items": null,
       "align_self": null,
       "border": null,
       "bottom": null,
       "display": null,
       "flex": null,
       "flex_flow": null,
       "grid_area": null,
       "grid_auto_columns": null,
       "grid_auto_flow": null,
       "grid_auto_rows": null,
       "grid_column": null,
       "grid_gap": null,
       "grid_row": null,
       "grid_template_areas": null,
       "grid_template_columns": null,
       "grid_template_rows": null,
       "height": null,
       "justify_content": null,
       "justify_items": null,
       "left": null,
       "margin": null,
       "max_height": null,
       "max_width": null,
       "min_height": null,
       "min_width": null,
       "object_fit": null,
       "object_position": null,
       "order": null,
       "overflow": null,
       "overflow_x": null,
       "overflow_y": null,
       "padding": null,
       "right": null,
       "top": null,
       "visibility": null,
       "width": null
      }
     },
     "2df91f1b5e7f4c24b918115dd2da6265": {
      "model_module": "@jupyter-widgets/controls",
      "model_module_version": "1.5.0",
      "model_name": "HTMLModel",
      "state": {
       "_dom_classes": [],
       "_model_module": "@jupyter-widgets/controls",
       "_model_module_version": "1.5.0",
       "_model_name": "HTMLModel",
       "_view_count": null,
       "_view_module": "@jupyter-widgets/controls",
       "_view_module_version": "1.5.0",
       "_view_name": "HTMLView",
       "description": "",
       "description_tooltip": null,
       "layout": "IPY_MODEL_6dfc3a267c50449c849dda662db222d1",
       "placeholder": "​",
       "style": "IPY_MODEL_9de35764bba649a9b60bab375b765358",
       "value": "Loading checkpoint shards: 100%"
      }
     },
     "30f74c6dd9b5489e8fc71e70415e15db": {
      "model_module": "@jupyter-widgets/controls",
      "model_module_version": "1.5.0",
      "model_name": "ProgressStyleModel",
      "state": {
       "_model_module": "@jupyter-widgets/controls",
       "_model_module_version": "1.5.0",
       "_model_name": "ProgressStyleModel",
       "_view_count": null,
       "_view_module": "@jupyter-widgets/base",
       "_view_module_version": "1.2.0",
       "_view_name": "StyleView",
       "bar_color": null,
       "description_width": ""
      }
     },
     "6dfc3a267c50449c849dda662db222d1": {
      "model_module": "@jupyter-widgets/base",
      "model_module_version": "1.2.0",
      "model_name": "LayoutModel",
      "state": {
       "_model_module": "@jupyter-widgets/base",
       "_model_module_version": "1.2.0",
       "_model_name": "LayoutModel",
       "_view_count": null,
       "_view_module": "@jupyter-widgets/base",
       "_view_module_version": "1.2.0",
       "_view_name": "LayoutView",
       "align_content": null,
       "align_items": null,
       "align_self": null,
       "border": null,
       "bottom": null,
       "display": null,
       "flex": null,
       "flex_flow": null,
       "grid_area": null,
       "grid_auto_columns": null,
       "grid_auto_flow": null,
       "grid_auto_rows": null,
       "grid_column": null,
       "grid_gap": null,
       "grid_row": null,
       "grid_template_areas": null,
       "grid_template_columns": null,
       "grid_template_rows": null,
       "height": null,
       "justify_content": null,
       "justify_items": null,
       "left": null,
       "margin": null,
       "max_height": null,
       "max_width": null,
       "min_height": null,
       "min_width": null,
       "object_fit": null,
       "object_position": null,
       "order": null,
       "overflow": null,
       "overflow_x": null,
       "overflow_y": null,
       "padding": null,
       "right": null,
       "top": null,
       "visibility": null,
       "width": null
      }
     },
     "7d4eb1aec4a842adb17abd24198ed44a": {
      "model_module": "@jupyter-widgets/base",
      "model_module_version": "1.2.0",
      "model_name": "LayoutModel",
      "state": {
       "_model_module": "@jupyter-widgets/base",
       "_model_module_version": "1.2.0",
       "_model_name": "LayoutModel",
       "_view_count": null,
       "_view_module": "@jupyter-widgets/base",
       "_view_module_version": "1.2.0",
       "_view_name": "LayoutView",
       "align_content": null,
       "align_items": null,
       "align_self": null,
       "border": null,
       "bottom": null,
       "display": null,
       "flex": null,
       "flex_flow": null,
       "grid_area": null,
       "grid_auto_columns": null,
       "grid_auto_flow": null,
       "grid_auto_rows": null,
       "grid_column": null,
       "grid_gap": null,
       "grid_row": null,
       "grid_template_areas": null,
       "grid_template_columns": null,
       "grid_template_rows": null,
       "height": null,
       "justify_content": null,
       "justify_items": null,
       "left": null,
       "margin": null,
       "max_height": null,
       "max_width": null,
       "min_height": null,
       "min_width": null,
       "object_fit": null,
       "object_position": null,
       "order": null,
       "overflow": null,
       "overflow_x": null,
       "overflow_y": null,
       "padding": null,
       "right": null,
       "top": null,
       "visibility": null,
       "width": null
      }
     },
     "960737baf1194709a68c70426201a0c1": {
      "model_module": "@jupyter-widgets/controls",
      "model_module_version": "1.5.0",
      "model_name": "HBoxModel",
      "state": {
       "_dom_classes": [],
       "_model_module": "@jupyter-widgets/controls",
       "_model_module_version": "1.5.0",
       "_model_name": "HBoxModel",
       "_view_count": null,
       "_view_module": "@jupyter-widgets/controls",
       "_view_module_version": "1.5.0",
       "_view_name": "HBoxView",
       "box_style": "",
       "children": [
        "IPY_MODEL_2df91f1b5e7f4c24b918115dd2da6265",
        "IPY_MODEL_d0b6c4c07f4049a0ad53fb70f2ec0b09",
        "IPY_MODEL_f455344b44dc4d78b8e908933ba13a83"
       ],
       "layout": "IPY_MODEL_017266d5cc3a4b2baf14854cb1aac998"
      }
     },
     "9de35764bba649a9b60bab375b765358": {
      "model_module": "@jupyter-widgets/controls",
      "model_module_version": "1.5.0",
      "model_name": "DescriptionStyleModel",
      "state": {
       "_model_module": "@jupyter-widgets/controls",
       "_model_module_version": "1.5.0",
       "_model_name": "DescriptionStyleModel",
       "_view_count": null,
       "_view_module": "@jupyter-widgets/base",
       "_view_module_version": "1.2.0",
       "_view_name": "StyleView",
       "description_width": ""
      }
     },
     "d0b6c4c07f4049a0ad53fb70f2ec0b09": {
      "model_module": "@jupyter-widgets/controls",
      "model_module_version": "1.5.0",
      "model_name": "FloatProgressModel",
      "state": {
       "_dom_classes": [],
       "_model_module": "@jupyter-widgets/controls",
       "_model_module_version": "1.5.0",
       "_model_name": "FloatProgressModel",
       "_view_count": null,
       "_view_module": "@jupyter-widgets/controls",
       "_view_module_version": "1.5.0",
       "_view_name": "ProgressView",
       "bar_style": "success",
       "description": "",
       "description_tooltip": null,
       "layout": "IPY_MODEL_7d4eb1aec4a842adb17abd24198ed44a",
       "max": 4.0,
       "min": 0.0,
       "orientation": "horizontal",
       "style": "IPY_MODEL_30f74c6dd9b5489e8fc71e70415e15db",
       "value": 4.0
      }
     },
     "f455344b44dc4d78b8e908933ba13a83": {
      "model_module": "@jupyter-widgets/controls",
      "model_module_version": "1.5.0",
      "model_name": "HTMLModel",
      "state": {
       "_dom_classes": [],
       "_model_module": "@jupyter-widgets/controls",
       "_model_module_version": "1.5.0",
       "_model_name": "HTMLModel",
       "_view_count": null,
       "_view_module": "@jupyter-widgets/controls",
       "_view_module_version": "1.5.0",
       "_view_name": "HTMLView",
       "description": "",
       "description_tooltip": null,
       "layout": "IPY_MODEL_1c393184bef046cc9665ad311c8e2bdf",
       "placeholder": "​",
       "style": "IPY_MODEL_01296bb4feb34b21b66315a8b0c4434d",
       "value": " 4/4 [01:40&lt;00:00, 21.92s/it]"
      }
     }
    },
    "version_major": 2,
    "version_minor": 0
   }
  }
 },
 "nbformat": 4,
 "nbformat_minor": 5
}
