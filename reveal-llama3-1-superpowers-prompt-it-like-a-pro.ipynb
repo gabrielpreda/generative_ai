{
 "cells": [
  {
   "cell_type": "markdown",
   "id": "a02e5f36",
   "metadata": {
    "_cell_guid": "b1076dfc-b9ad-4769-8c92-a6c4dae69d19",
    "_uuid": "8f2839f25d086af736a60e9eeb907d3b93b6e0e5",
    "papermill": {
     "duration": 0.01221,
     "end_time": "2024-08-11T16:26:20.059349",
     "exception": false,
     "start_time": "2024-08-11T16:26:20.047139",
     "status": "completed"
    },
    "tags": []
   },
   "source": [
    "# Introduction\n",
    "\n",
    "Llama 3.1 is currently (as of Aug 2024) the latest model from Meta. Let's try and see what this model is bringing.\n",
    "\n",
    "Will test now the following model:\n",
    "\n",
    "* **Model**: Llama3.1\n",
    "* **Version**: 8b-instruct\n",
    "* **Framework**: Transformers\n",
    "* **Version**: V1\n",
    "\n",
    "This is what we will test:\n",
    "\n",
    "* Simple prompts with general information questions\n",
    "* Poetry (haiku, sonets) writing\n",
    "* Code writing (Python, C++, Java)\n",
    "* Software design (simple problems)\n",
    "* Multi-parameter questions\n",
    "* Chain of reasoning\n",
    "* A more complex reasoning problem\n",
    "\n",
    "\n",
    "**Note**: this notebook is organized to facilitate a comparison of **Llama3.1** with **Gemma 2**. Corresponding notebook is [Unlock the Power of Gemma 2: Prompt it like a Pro](https://www.kaggle.com/code/gpreda/unlock-the-power-of-gemma-2-prompt-it-like-a-pro). At the end of current notebook we are reviewing the performance of the two notebooks for the list of tasks submitted to both."
   ]
  },
  {
   "cell_type": "markdown",
   "id": "e8dd7260",
   "metadata": {
    "papermill": {
     "duration": 0.011463,
     "end_time": "2024-08-11T16:26:20.082755",
     "exception": false,
     "start_time": "2024-08-11T16:26:20.071292",
     "status": "completed"
    },
    "tags": []
   },
   "source": [
    "# Preparation\n",
    "\n",
    "We import the libraries we need, and we set the model to be ready for testing.\n",
    "\n",
    "## Import packages"
   ]
  },
  {
   "cell_type": "code",
   "execution_count": 1,
   "id": "ae3afd62",
   "metadata": {
    "execution": {
     "iopub.execute_input": "2024-08-11T16:26:20.107349Z",
     "iopub.status.busy": "2024-08-11T16:26:20.107008Z",
     "iopub.status.idle": "2024-08-11T16:26:45.578652Z",
     "shell.execute_reply": "2024-08-11T16:26:45.577551Z"
    },
    "papermill": {
     "duration": 25.486818,
     "end_time": "2024-08-11T16:26:45.581097",
     "exception": false,
     "start_time": "2024-08-11T16:26:20.094279",
     "status": "completed"
    },
    "tags": []
   },
   "outputs": [],
   "source": [
    "%%capture\n",
    "%pip install -U transformers accelerate"
   ]
  },
  {
   "cell_type": "code",
   "execution_count": 2,
   "id": "6339b91f",
   "metadata": {
    "execution": {
     "iopub.execute_input": "2024-08-11T16:26:45.607195Z",
     "iopub.status.busy": "2024-08-11T16:26:45.606869Z",
     "iopub.status.idle": "2024-08-11T16:27:04.359496Z",
     "shell.execute_reply": "2024-08-11T16:27:04.358706Z"
    },
    "papermill": {
     "duration": 18.767739,
     "end_time": "2024-08-11T16:27:04.361795",
     "exception": false,
     "start_time": "2024-08-11T16:26:45.594056",
     "status": "completed"
    },
    "tags": []
   },
   "outputs": [
    {
     "name": "stderr",
     "output_type": "stream",
     "text": [
      "2024-08-11 16:26:52.712968: E external/local_xla/xla/stream_executor/cuda/cuda_dnn.cc:9261] Unable to register cuDNN factory: Attempting to register factory for plugin cuDNN when one has already been registered\n",
      "2024-08-11 16:26:52.713081: E external/local_xla/xla/stream_executor/cuda/cuda_fft.cc:607] Unable to register cuFFT factory: Attempting to register factory for plugin cuFFT when one has already been registered\n",
      "2024-08-11 16:26:52.851326: E external/local_xla/xla/stream_executor/cuda/cuda_blas.cc:1515] Unable to register cuBLAS factory: Attempting to register factory for plugin cuBLAS when one has already been registered\n"
     ]
    }
   ],
   "source": [
    "from time import time\n",
    "from transformers import AutoTokenizer, AutoModelForCausalLM, pipeline\n",
    "import torch\n",
    "from IPython.display import display, Markdown"
   ]
  },
  {
   "cell_type": "markdown",
   "id": "e3e4a57f",
   "metadata": {
    "papermill": {
     "duration": 0.011718,
     "end_time": "2024-08-11T16:27:04.385650",
     "exception": false,
     "start_time": "2024-08-11T16:27:04.373932",
     "status": "completed"
    },
    "tags": []
   },
   "source": [
    "## Define model\n",
    "\n",
    "This step might take a bit more time, around 2 minutes."
   ]
  },
  {
   "cell_type": "code",
   "execution_count": 3,
   "id": "2152e229",
   "metadata": {
    "execution": {
     "iopub.execute_input": "2024-08-11T16:27:04.411987Z",
     "iopub.status.busy": "2024-08-11T16:27:04.410762Z",
     "iopub.status.idle": "2024-08-11T16:28:43.022392Z",
     "shell.execute_reply": "2024-08-11T16:28:43.021602Z"
    },
    "papermill": {
     "duration": 98.627168,
     "end_time": "2024-08-11T16:28:43.024740",
     "exception": false,
     "start_time": "2024-08-11T16:27:04.397572",
     "status": "completed"
    },
    "tags": []
   },
   "outputs": [
    {
     "data": {
      "application/vnd.jupyter.widget-view+json": {
       "model_id": "a2317179d9814f5b9859108ef8ea485e",
       "version_major": 2,
       "version_minor": 0
      },
      "text/plain": [
       "Loading checkpoint shards:   0%|          | 0/4 [00:00<?, ?it/s]"
      ]
     },
     "metadata": {},
     "output_type": "display_data"
    }
   ],
   "source": [
    "model_id = \"/kaggle/input/llama-3.1/transformers/8b-instruct/1\"\n",
    "\n",
    "tokenizer = AutoTokenizer.from_pretrained(model_id)\n",
    "\n",
    "model = AutoModelForCausalLM.from_pretrained(\n",
    "        model_id,\n",
    "        return_dict=True,\n",
    "        low_cpu_mem_usage=True,\n",
    "        torch_dtype=torch.float16,\n",
    "        device_map=\"auto\",\n",
    "        trust_remote_code=True,\n",
    ")"
   ]
  },
  {
   "cell_type": "code",
   "execution_count": 4,
   "id": "50b34452",
   "metadata": {
    "execution": {
     "iopub.execute_input": "2024-08-11T16:28:43.050204Z",
     "iopub.status.busy": "2024-08-11T16:28:43.049905Z",
     "iopub.status.idle": "2024-08-11T16:28:43.054486Z",
     "shell.execute_reply": "2024-08-11T16:28:43.053594Z"
    },
    "papermill": {
     "duration": 0.019485,
     "end_time": "2024-08-11T16:28:43.056403",
     "exception": false,
     "start_time": "2024-08-11T16:28:43.036918",
     "status": "completed"
    },
    "tags": []
   },
   "outputs": [],
   "source": [
    "llama31_pipeline = pipeline(\n",
    "    \"text-generation\",\n",
    "    model=model,\n",
    "    tokenizer=tokenizer,\n",
    "    torch_dtype=torch.float16,\n",
    "    device_map=\"auto\",\n",
    ")"
   ]
  },
  {
   "cell_type": "markdown",
   "id": "7ae87d59",
   "metadata": {
    "papermill": {
     "duration": 0.01187,
     "end_time": "2024-08-11T16:28:43.080162",
     "exception": false,
     "start_time": "2024-08-11T16:28:43.068292",
     "status": "completed"
    },
    "tags": []
   },
   "source": [
    "## Prepare query function"
   ]
  },
  {
   "cell_type": "code",
   "execution_count": 5,
   "id": "2e5ff42e",
   "metadata": {
    "execution": {
     "iopub.execute_input": "2024-08-11T16:28:43.105615Z",
     "iopub.status.busy": "2024-08-11T16:28:43.105266Z",
     "iopub.status.idle": "2024-08-11T16:28:43.113617Z",
     "shell.execute_reply": "2024-08-11T16:28:43.112845Z"
    },
    "papermill": {
     "duration": 0.023223,
     "end_time": "2024-08-11T16:28:43.115497",
     "exception": false,
     "start_time": "2024-08-11T16:28:43.092274",
     "status": "completed"
    },
    "tags": []
   },
   "outputs": [],
   "source": [
    "def query_model(\n",
    "        system_message,\n",
    "        user_message,\n",
    "        temperature=0.7,\n",
    "        max_length=1024\n",
    "        ):\n",
    "    start_time = time()\n",
    "    user_message = \"Question: \" + user_message + \" Answer:\"\n",
    "    messages = [\n",
    "        {\"role\": \"system\", \"content\": system_message},\n",
    "        {\"role\": \"user\", \"content\": user_message},\n",
    "        ]\n",
    "    prompt = llama31_pipeline.tokenizer.apply_chat_template(\n",
    "        messages, \n",
    "        tokenize=False, \n",
    "        add_generation_prompt=True\n",
    "        )\n",
    "    terminators = [\n",
    "        llama31_pipeline.tokenizer.eos_token_id,\n",
    "        llama31_pipeline.tokenizer.convert_tokens_to_ids(\"<|eot_id|>\")\n",
    "    ]\n",
    "    sequences = llama31_pipeline(\n",
    "        prompt,\n",
    "        do_sample=True,\n",
    "        top_p=0.9,\n",
    "        temperature=temperature,\n",
    "        num_return_sequences=1,\n",
    "        eos_token_id=terminators,\n",
    "        max_new_tokens=max_length,\n",
    "        return_full_text=False,\n",
    "        pad_token_id=terminators[0]\n",
    "    )\n",
    "    #answer = f\"{sequences[0]['generated_text'][len(prompt):]}\\n\"\n",
    "    answer = sequences[0]['generated_text']\n",
    "    end_time = time()\n",
    "    ttime = f\"Total time: {round(end_time-start_time, 2)} sec.\"\n",
    "\n",
    "    return user_message + \" \" + answer  + \" \" +  ttime\n",
    "\n",
    "\n",
    "system_message = \"\"\"\n",
    "You are an AI assistant designed to answer simple questions.\n",
    "Please restrict your answer to the exact question asked.\n",
    "\"\"\""
   ]
  },
  {
   "cell_type": "markdown",
   "id": "a953e18d",
   "metadata": {
    "papermill": {
     "duration": 0.011905,
     "end_time": "2024-08-11T16:28:43.139341",
     "exception": false,
     "start_time": "2024-08-11T16:28:43.127436",
     "status": "completed"
    },
    "tags": []
   },
   "source": [
    "## Utility function for formatting the output\n"
   ]
  },
  {
   "cell_type": "code",
   "execution_count": 6,
   "id": "47fed0ef",
   "metadata": {
    "execution": {
     "iopub.execute_input": "2024-08-11T16:28:43.164472Z",
     "iopub.status.busy": "2024-08-11T16:28:43.164146Z",
     "iopub.status.idle": "2024-08-11T16:28:43.169121Z",
     "shell.execute_reply": "2024-08-11T16:28:43.168298Z"
    },
    "papermill": {
     "duration": 0.019744,
     "end_time": "2024-08-11T16:28:43.170998",
     "exception": false,
     "start_time": "2024-08-11T16:28:43.151254",
     "status": "completed"
    },
    "tags": []
   },
   "outputs": [],
   "source": [
    "def colorize_text(text):\n",
    "    for word, color in zip([\"Reasoning\", \"Question\", \"Answer\", \"Total time\"], [\"blue\", \"red\", \"green\", \"magenta\"]):\n",
    "        text = text.replace(f\"{word}:\", f\"\\n\\n**<font color='{color}'>{word}:</font>**\")\n",
    "    return text"
   ]
  },
  {
   "cell_type": "markdown",
   "id": "02f3aaa0",
   "metadata": {
    "papermill": {
     "duration": 0.011738,
     "end_time": "2024-08-11T16:28:43.194530",
     "exception": false,
     "start_time": "2024-08-11T16:28:43.182792",
     "status": "completed"
    },
    "tags": []
   },
   "source": [
    "# Test the model\n",
    "\n",
    "\n",
    "## Test with few simple geography and history questions"
   ]
  },
  {
   "cell_type": "code",
   "execution_count": 7,
   "id": "cb07ef90",
   "metadata": {
    "execution": {
     "iopub.execute_input": "2024-08-11T16:28:43.219597Z",
     "iopub.status.busy": "2024-08-11T16:28:43.219314Z",
     "iopub.status.idle": "2024-08-11T16:29:35.751502Z",
     "shell.execute_reply": "2024-08-11T16:29:35.750592Z"
    },
    "papermill": {
     "duration": 52.558849,
     "end_time": "2024-08-11T16:29:35.765565",
     "exception": false,
     "start_time": "2024-08-11T16:28:43.206716",
     "status": "completed"
    },
    "tags": []
   },
   "outputs": [
    {
     "data": {
      "text/markdown": [
       "\n",
       "\n",
       "**<font color='red'>Question:</font>** What is the surface temperature of the Moon? \n",
       "\n",
       "**<font color='green'>Answer:</font>** The surface temperature of the Moon varies greatly between day and night. During the lunar day, which lasts about 29.5 Earth days, the surface temperature can reach as high as 127°C (261°F) in the direct sunlight. In contrast, during the lunar night, the temperature can drop to as low as -173°C (-279°F) in the permanently shadowed craters near the lunar poles. \n",
       "\n",
       "**<font color='magenta'>Total time:</font>** 52.53 sec."
      ],
      "text/plain": [
       "<IPython.core.display.Markdown object>"
      ]
     },
     "metadata": {},
     "output_type": "display_data"
    }
   ],
   "source": [
    "t1 = time()\n",
    "response = query_model(\n",
    "    system_message,\n",
    "    user_message=\"What is the surface temperature of the Moon?\",\n",
    "    temperature=0.1,\n",
    "    max_length=256)\n",
    "display(Markdown(colorize_text(f\"{response}\")))"
   ]
  },
  {
   "cell_type": "markdown",
   "id": "bc03ce85",
   "metadata": {
    "papermill": {
     "duration": 0.011806,
     "end_time": "2024-08-11T16:29:35.789349",
     "exception": false,
     "start_time": "2024-08-11T16:29:35.777543",
     "status": "completed"
    },
    "tags": []
   },
   "source": [
    "Let's ask a more simple question, from European geography."
   ]
  },
  {
   "cell_type": "code",
   "execution_count": 8,
   "id": "faf6e003",
   "metadata": {
    "execution": {
     "iopub.execute_input": "2024-08-11T16:29:35.816104Z",
     "iopub.status.busy": "2024-08-11T16:29:35.814810Z",
     "iopub.status.idle": "2024-08-11T16:29:44.574762Z",
     "shell.execute_reply": "2024-08-11T16:29:44.573898Z"
    },
    "papermill": {
     "duration": 8.775337,
     "end_time": "2024-08-11T16:29:44.576817",
     "exception": false,
     "start_time": "2024-08-11T16:29:35.801480",
     "status": "completed"
    },
    "tags": []
   },
   "outputs": [
    {
     "data": {
      "text/markdown": [
       "\n",
       "\n",
       "**<font color='red'>Question:</font>** What is the surface of France? \n",
       "\n",
       "**<font color='green'>Answer:</font>** The surface of France is approximately 643,801 square kilometers. \n",
       "\n",
       "**<font color='magenta'>Total time:</font>** 8.75 sec."
      ],
      "text/plain": [
       "<IPython.core.display.Markdown object>"
      ]
     },
     "metadata": {},
     "output_type": "display_data"
    }
   ],
   "source": [
    "response = query_model(    \n",
    "    system_message,\n",
    "    user_message=\"What is the surface of France?\",\n",
    "    temperature=0.1,\n",
    "    max_length=128)\n",
    "display(Markdown(colorize_text(response)))"
   ]
  },
  {
   "cell_type": "markdown",
   "id": "29a8657b",
   "metadata": {
    "papermill": {
     "duration": 0.011897,
     "end_time": "2024-08-11T16:29:44.601042",
     "exception": false,
     "start_time": "2024-08-11T16:29:44.589145",
     "status": "completed"
    },
    "tags": []
   },
   "source": [
    "Now, let's continue with some realy tough questions, from Ancient Greece, medieval Japan and more."
   ]
  },
  {
   "cell_type": "code",
   "execution_count": 9,
   "id": "802c39d5",
   "metadata": {
    "execution": {
     "iopub.execute_input": "2024-08-11T16:29:44.626324Z",
     "iopub.status.busy": "2024-08-11T16:29:44.626004Z",
     "iopub.status.idle": "2024-08-11T16:29:57.771309Z",
     "shell.execute_reply": "2024-08-11T16:29:57.770436Z"
    },
    "papermill": {
     "duration": 13.160579,
     "end_time": "2024-08-11T16:29:57.773607",
     "exception": false,
     "start_time": "2024-08-11T16:29:44.613028",
     "status": "completed"
    },
    "tags": []
   },
   "outputs": [
    {
     "data": {
      "text/markdown": [
       "\n",
       "\n",
       "**<font color='red'>Question:</font>** When was the 30 years war? \n",
       "\n",
       "**<font color='green'>Answer:</font>** The 30 Years War was a complex conflict that lasted from 1618 to 1648. \n",
       "\n",
       "**<font color='magenta'>Total time:</font>** 13.14 sec."
      ],
      "text/plain": [
       "<IPython.core.display.Markdown object>"
      ]
     },
     "metadata": {},
     "output_type": "display_data"
    }
   ],
   "source": [
    "response = query_model(\n",
    "    system_message,\n",
    "    user_message=\"When was the 30 years war?\",\n",
    "    temperature=0.1, \n",
    "    max_length=128)\n",
    "display(Markdown(colorize_text(response)))"
   ]
  },
  {
   "cell_type": "code",
   "execution_count": 10,
   "id": "d6d915c2",
   "metadata": {
    "execution": {
     "iopub.execute_input": "2024-08-11T16:29:57.801044Z",
     "iopub.status.busy": "2024-08-11T16:29:57.800441Z",
     "iopub.status.idle": "2024-08-11T16:30:20.686530Z",
     "shell.execute_reply": "2024-08-11T16:30:20.685677Z"
    },
    "papermill": {
     "duration": 22.901918,
     "end_time": "2024-08-11T16:30:20.688707",
     "exception": false,
     "start_time": "2024-08-11T16:29:57.786789",
     "status": "completed"
    },
    "tags": []
   },
   "outputs": [
    {
     "data": {
      "text/markdown": [
       "\n",
       "\n",
       "**<font color='red'>Question:</font>** What is graphe paranomon? \n",
       "\n",
       "**<font color='green'>Answer:</font>** Graphe paranomon is a term used in ancient Greek law. It refers to a type of impeachment or indictment that was brought against a magistrate or public official in ancient Athens. \n",
       "\n",
       "**<font color='magenta'>Total time:</font>** 22.88 sec."
      ],
      "text/plain": [
       "<IPython.core.display.Markdown object>"
      ]
     },
     "metadata": {},
     "output_type": "display_data"
    }
   ],
   "source": [
    "response = query_model(\n",
    "    system_message,\n",
    "    user_message=\"What is graphe paranomon?\",\n",
    "    temperature=0.1, \n",
    "    max_length=256)\n",
    "display(Markdown(colorize_text(response)))"
   ]
  },
  {
   "cell_type": "code",
   "execution_count": 11,
   "id": "9e5bc10c",
   "metadata": {
    "execution": {
     "iopub.execute_input": "2024-08-11T16:30:20.715864Z",
     "iopub.status.busy": "2024-08-11T16:30:20.715229Z",
     "iopub.status.idle": "2024-08-11T16:30:26.389657Z",
     "shell.execute_reply": "2024-08-11T16:30:26.388813Z"
    },
    "papermill": {
     "duration": 5.690307,
     "end_time": "2024-08-11T16:30:26.391791",
     "exception": false,
     "start_time": "2024-08-11T16:30:20.701484",
     "status": "completed"
    },
    "tags": []
   },
   "outputs": [
    {
     "data": {
      "text/markdown": [
       "\n",
       "\n",
       "**<font color='red'>Question:</font>** Who was the next shogun after Tokugawa Ieyasu? \n",
       "\n",
       "**<font color='green'>Answer:</font>** Tokugawa Hidetada. \n",
       "\n",
       "**<font color='magenta'>Total time:</font>** 5.67 sec."
      ],
      "text/plain": [
       "<IPython.core.display.Markdown object>"
      ]
     },
     "metadata": {},
     "output_type": "display_data"
    }
   ],
   "source": [
    "response = query_model(\n",
    "    system_message,\n",
    "    user_message=\"Who was the next shogun after Tokugawa Ieyasu?\",\n",
    "    temperature=0.1, \n",
    "    max_length=256)\n",
    "display(Markdown(colorize_text(response)))"
   ]
  },
  {
   "cell_type": "code",
   "execution_count": 12,
   "id": "0250300d",
   "metadata": {
    "execution": {
     "iopub.execute_input": "2024-08-11T16:30:26.419360Z",
     "iopub.status.busy": "2024-08-11T16:30:26.418802Z",
     "iopub.status.idle": "2024-08-11T16:30:29.633388Z",
     "shell.execute_reply": "2024-08-11T16:30:29.632455Z"
    },
    "papermill": {
     "duration": 3.230627,
     "end_time": "2024-08-11T16:30:29.635545",
     "exception": false,
     "start_time": "2024-08-11T16:30:26.404918",
     "status": "completed"
    },
    "tags": []
   },
   "outputs": [
    {
     "data": {
      "text/markdown": [
       "\n",
       "\n",
       "**<font color='red'>Question:</font>** What was the name of the Chinese dinasty during 1st century B.C.? \n",
       "\n",
       "**<font color='green'>Answer:</font>** The Han Dynasty. \n",
       "\n",
       "**<font color='magenta'>Total time:</font>** 3.21 sec."
      ],
      "text/plain": [
       "<IPython.core.display.Markdown object>"
      ]
     },
     "metadata": {},
     "output_type": "display_data"
    }
   ],
   "source": [
    "response = query_model(\n",
    "    system_message,\n",
    "    user_message=\"What was the name of the Chinese dinasty during 1st century B.C.?\",\n",
    "    temperature=0.1, \n",
    "    max_length=256)\n",
    "display(Markdown(colorize_text(response)))"
   ]
  },
  {
   "cell_type": "markdown",
   "id": "d4239303",
   "metadata": {
    "papermill": {
     "duration": 0.012699,
     "end_time": "2024-08-11T16:30:29.709892",
     "exception": false,
     "start_time": "2024-08-11T16:30:29.697193",
     "status": "completed"
    },
    "tags": []
   },
   "source": [
    "Let's try now some questions from American history. These must be simpler."
   ]
  },
  {
   "cell_type": "code",
   "execution_count": 13,
   "id": "acdaa224",
   "metadata": {
    "execution": {
     "iopub.execute_input": "2024-08-11T16:30:29.737465Z",
     "iopub.status.busy": "2024-08-11T16:30:29.736852Z",
     "iopub.status.idle": "2024-08-11T16:30:32.312153Z",
     "shell.execute_reply": "2024-08-11T16:30:32.311256Z"
    },
    "papermill": {
     "duration": 2.591423,
     "end_time": "2024-08-11T16:30:32.314202",
     "exception": false,
     "start_time": "2024-08-11T16:30:29.722779",
     "status": "completed"
    },
    "tags": []
   },
   "outputs": [
    {
     "data": {
      "text/markdown": [
       "\n",
       "\n",
       "**<font color='red'>Question:</font>** Who was the first American president? \n",
       "\n",
       "**<font color='green'>Answer:</font>** George Washington. \n",
       "\n",
       "**<font color='magenta'>Total time:</font>** 2.57 sec."
      ],
      "text/plain": [
       "<IPython.core.display.Markdown object>"
      ]
     },
     "metadata": {},
     "output_type": "display_data"
    }
   ],
   "source": [
    "response = query_model(\n",
    "    system_message,\n",
    "    user_message=\"Who was the first American president?\",\n",
    "    temperature=0.1, \n",
    "    max_length=256)\n",
    "display(Markdown(colorize_text(response)))"
   ]
  },
  {
   "cell_type": "code",
   "execution_count": 14,
   "id": "acad14c4",
   "metadata": {
    "execution": {
     "iopub.execute_input": "2024-08-11T16:30:32.342395Z",
     "iopub.status.busy": "2024-08-11T16:30:32.341831Z",
     "iopub.status.idle": "2024-08-11T16:30:42.278199Z",
     "shell.execute_reply": "2024-08-11T16:30:42.277180Z"
    },
    "papermill": {
     "duration": 9.952843,
     "end_time": "2024-08-11T16:30:42.280315",
     "exception": false,
     "start_time": "2024-08-11T16:30:32.327472",
     "status": "completed"
    },
    "tags": []
   },
   "outputs": [
    {
     "data": {
      "text/markdown": [
       "\n",
       "\n",
       "**<font color='red'>Question:</font>** When took place the Civil War in United States of America? \n",
       "\n",
       "**<font color='green'>Answer:</font>** The American Civil War took place from 1861 to 1865. \n",
       "\n",
       "**<font color='magenta'>Total time:</font>** 9.93 sec."
      ],
      "text/plain": [
       "<IPython.core.display.Markdown object>"
      ]
     },
     "metadata": {},
     "output_type": "display_data"
    }
   ],
   "source": [
    "response = query_model(\n",
    "    system_message,\n",
    "    user_message=\"When took place the Civil War in United States of America?\",\n",
    "    temperature=0.1, \n",
    "    max_length=256)\n",
    "display(Markdown(colorize_text(response)))"
   ]
  },
  {
   "cell_type": "markdown",
   "id": "1ad8d5ac",
   "metadata": {
    "papermill": {
     "duration": 0.013043,
     "end_time": "2024-08-11T16:30:42.306741",
     "exception": false,
     "start_time": "2024-08-11T16:30:42.293698",
     "status": "completed"
    },
    "tags": []
   },
   "source": [
    "## Let's write poetry now"
   ]
  },
  {
   "cell_type": "code",
   "execution_count": 15,
   "id": "60ae0cd3",
   "metadata": {
    "execution": {
     "iopub.execute_input": "2024-08-11T16:30:42.335469Z",
     "iopub.status.busy": "2024-08-11T16:30:42.334553Z",
     "iopub.status.idle": "2024-08-11T16:30:54.760959Z",
     "shell.execute_reply": "2024-08-11T16:30:54.760084Z"
    },
    "papermill": {
     "duration": 12.443167,
     "end_time": "2024-08-11T16:30:54.763283",
     "exception": false,
     "start_time": "2024-08-11T16:30:42.320116",
     "status": "completed"
    },
    "tags": []
   },
   "outputs": [
    {
     "data": {
      "text/markdown": [
       "\n",
       "\n",
       "**<font color='red'>Question:</font>** Please write a poem about Boris Becker wins in tennis \n",
       "\n",
       "**<font color='green'>Answer:</font>** Racket's mighty swing falls\n",
       "Golden ace on Wimbledon's grass\n",
       "Victory's sweet cry \n",
       "\n",
       "**<font color='magenta'>Total time:</font>** 12.42 sec."
      ],
      "text/plain": [
       "<IPython.core.display.Markdown object>"
      ]
     },
     "metadata": {},
     "output_type": "display_data"
    }
   ],
   "source": [
    "system_message = \"\"\"\n",
    "You are an AI assistant designed to write poetry.\n",
    "Please answer with a haiku format (17 words poems).\n",
    "Question: {question}\n",
    "Answer:\n",
    "\"\"\"\n",
    "response = query_model(\n",
    "    system_message,\n",
    "    user_message=\"Please write a poem about Boris Becker wins in tennis\",\n",
    "    temperature=0.1, \n",
    "    max_length=256)\n",
    "display(Markdown(colorize_text(response)))"
   ]
  },
  {
   "cell_type": "code",
   "execution_count": 16,
   "id": "974f7a5e",
   "metadata": {
    "execution": {
     "iopub.execute_input": "2024-08-11T16:30:54.790868Z",
     "iopub.status.busy": "2024-08-11T16:30:54.790557Z",
     "iopub.status.idle": "2024-08-11T16:31:09.621965Z",
     "shell.execute_reply": "2024-08-11T16:31:09.621076Z"
    },
    "papermill": {
     "duration": 14.847378,
     "end_time": "2024-08-11T16:31:09.623994",
     "exception": false,
     "start_time": "2024-08-11T16:30:54.776616",
     "status": "completed"
    },
    "tags": []
   },
   "outputs": [
    {
     "data": {
      "text/markdown": [
       "\n",
       "\n",
       "**<font color='red'>Question:</font>** Please write a poem about Shakespeare being lame at playing poker \n",
       "\n",
       "**<font color='green'>Answer:</font>** Bard's bluffing fails miserably\n",
       "Shakespeare's poker face a joke\n",
       "Lame, his royal flush \n",
       "\n",
       "**<font color='magenta'>Total time:</font>** 14.83 sec."
      ],
      "text/plain": [
       "<IPython.core.display.Markdown object>"
      ]
     },
     "metadata": {},
     "output_type": "display_data"
    }
   ],
   "source": [
    "response = query_model(\n",
    "    system_message,\n",
    "    user_message=\"Please write a poem about Shakespeare being lame at playing poker\",\n",
    "    temperature=0.1, \n",
    "    max_length=256)\n",
    "display(Markdown(colorize_text(response)))"
   ]
  },
  {
   "cell_type": "code",
   "execution_count": 17,
   "id": "6feea6f7",
   "metadata": {
    "execution": {
     "iopub.execute_input": "2024-08-11T16:31:09.652899Z",
     "iopub.status.busy": "2024-08-11T16:31:09.652099Z",
     "iopub.status.idle": "2024-08-11T16:33:14.265217Z",
     "shell.execute_reply": "2024-08-11T16:33:14.264222Z"
    },
    "papermill": {
     "duration": 124.642589,
     "end_time": "2024-08-11T16:33:14.280292",
     "exception": false,
     "start_time": "2024-08-11T16:31:09.637703",
     "status": "completed"
    },
    "tags": []
   },
   "outputs": [
    {
     "name": "stderr",
     "output_type": "stream",
     "text": [
      "You seem to be using the pipelines sequentially on GPU. In order to maximize efficiency please use a dataset\n"
     ]
    },
    {
     "data": {
      "text/markdown": [
       "\n",
       "\n",
       "**<font color='red'>Question:</font>** Please write a poem about Nadia Comaneci winning Montreal Olympiad \n",
       "\n",
       "**<font color='green'>Answer:</font>** O, fairest Nadia, thou didst shine so bright,\n",
       "At Montreal's games, where glory doth take flight.\n",
       "Thy gymnastics skills, a wondrous sight to see,\n",
       "Didst earn thee perfect tens, a feat most rare to be.\n",
       "\n",
       "Thy body, lithe and strong, didst dance with ease,\n",
       "Through routines, a symphony of skill and peace.\n",
       "The judges' scores, a chorus of delight,\n",
       "Didst proclaim thee perfect, in that moment's light.\n",
       "\n",
       "The crowd, in awe, didst cheer and shout thy name,\n",
       "As thou didst claim the gold, and Olympic fame.\n",
       "Thy country's pride, didst swell with joy and cheer,\n",
       "For thou, fair Nadia, hadst brought them near.\n",
       "\n",
       "To greatness, thou didst rise, like morning sun,\n",
       "And in the annals of time, thy name is won.\n",
       "A legend born, of skill and youthful might,\n",
       "Nadia Comaneci, shining bright, in Olympic light. \n",
       "\n",
       "**<font color='magenta'>Total time:</font>** 124.61 sec."
      ],
      "text/plain": [
       "<IPython.core.display.Markdown object>"
      ]
     },
     "metadata": {},
     "output_type": "display_data"
    }
   ],
   "source": [
    "system_message = \"\"\"\n",
    "You are an AI assistant designed to write poetry.\n",
    "Please answer with a short poem, with rime, in the style of Shakespeare's poems.\n",
    "Question: {question}\n",
    "Answer:\n",
    "\"\"\"\n",
    "response = query_model(\n",
    "    system_message,\n",
    "    user_message=\"Please write a poem about Nadia Comaneci winning Montreal Olympiad\",\n",
    "    temperature=0.1, \n",
    "    max_length=512)\n",
    "display(Markdown(colorize_text(response)))"
   ]
  },
  {
   "cell_type": "markdown",
   "id": "cb44fa60",
   "metadata": {
    "papermill": {
     "duration": 0.013434,
     "end_time": "2024-08-11T16:33:14.307055",
     "exception": false,
     "start_time": "2024-08-11T16:33:14.293621",
     "status": "completed"
    },
    "tags": []
   },
   "source": [
    "## Math problems and Python code\n",
    "\n",
    "Let's continue now with some math problems for which the response should be given by Python code."
   ]
  },
  {
   "cell_type": "code",
   "execution_count": 18,
   "id": "8f51c844",
   "metadata": {
    "execution": {
     "iopub.execute_input": "2024-08-11T16:33:14.335985Z",
     "iopub.status.busy": "2024-08-11T16:33:14.335111Z",
     "iopub.status.idle": "2024-08-11T16:34:16.830293Z",
     "shell.execute_reply": "2024-08-11T16:34:16.829366Z"
    },
    "papermill": {
     "duration": 62.526067,
     "end_time": "2024-08-11T16:34:16.846408",
     "exception": false,
     "start_time": "2024-08-11T16:33:14.320341",
     "status": "completed"
    },
    "tags": []
   },
   "outputs": [
    {
     "data": {
      "text/markdown": [
       "\n",
       "\n",
       "**<font color='red'>Question:</font>** Please write a function in Python to calculate the area of a circle of radius r \n",
       "\n",
       "**<font color='green'>Answer:</font>** ```python\n",
       "import math\n",
       "\n",
       "def calculate_circle_area(r):\n",
       "    \"\"\"\n",
       "    Calculate the area of a circle given its radius.\n",
       "\n",
       "    Args:\n",
       "        r (float): The radius of the circle.\n",
       "\n",
       "    Returns:\n",
       "        float: The area of the circle.\n",
       "    \"\"\"\n",
       "    return math.pi * (r ** 2)\n",
       "\n",
       "# Example usage:\n",
       "radius = 5\n",
       "area = calculate_circle_area(radius)\n",
       "print(f\"The area of the circle with radius {radius} is {area:.2f}\")\n",
       "``` \n",
       "\n",
       "**<font color='magenta'>Total time:</font>** 62.49 sec."
      ],
      "text/plain": [
       "<IPython.core.display.Markdown object>"
      ]
     },
     "metadata": {},
     "output_type": "display_data"
    }
   ],
   "source": [
    "system_message = \"\"\"\n",
    "You are an AI assistant designed to write simple Python code.\n",
    "Please answer with the listing of the Python code.\n",
    "Question: {question}\n",
    "Answer:\n",
    "\"\"\"\n",
    "response = query_model(\n",
    "    system_message,\n",
    "    user_message=\"Please write a function in Python to calculate the area of a circle of radius r\",\n",
    "    temperature=0.1, \n",
    "    max_length=256)\n",
    "display(Markdown(colorize_text(response)))"
   ]
  },
  {
   "cell_type": "code",
   "execution_count": 19,
   "id": "0a7fb5e7",
   "metadata": {
    "execution": {
     "iopub.execute_input": "2024-08-11T16:34:16.875551Z",
     "iopub.status.busy": "2024-08-11T16:34:16.875238Z",
     "iopub.status.idle": "2024-08-11T16:35:30.899364Z",
     "shell.execute_reply": "2024-08-11T16:35:30.898396Z"
    },
    "papermill": {
     "duration": 74.054723,
     "end_time": "2024-08-11T16:35:30.915124",
     "exception": false,
     "start_time": "2024-08-11T16:34:16.860401",
     "status": "completed"
    },
    "tags": []
   },
   "outputs": [
    {
     "data": {
      "text/markdown": [
       "\n",
       "\n",
       "**<font color='red'>Question:</font>** Please write a function in Python to order a list \n",
       "\n",
       "**<font color='green'>Answer:</font>** ```python\n",
       "def order_list(input_list):\n",
       "    \"\"\"\n",
       "    This function takes a list as input and returns the list in sorted order.\n",
       "    \n",
       "    Args:\n",
       "        input_list (list): The list to be sorted.\n",
       "    \n",
       "    Returns:\n",
       "        list: The sorted list.\n",
       "    \"\"\"\n",
       "    return sorted(input_list)\n",
       "\n",
       "# Example usage:\n",
       "numbers = [64, 34, 25, 12, 22, 11, 90]\n",
       "print(order_list(numbers))  # Output: [11, 12, 22, 25, 34, 64, 90]\n",
       "``` \n",
       "\n",
       "**<font color='magenta'>Total time:</font>** 74.02 sec."
      ],
      "text/plain": [
       "<IPython.core.display.Markdown object>"
      ]
     },
     "metadata": {},
     "output_type": "display_data"
    }
   ],
   "source": [
    "response = query_model(\n",
    "    system_message,\n",
    "    user_message=\"Please write a function in Python to order a list\",\n",
    "    temperature=0.1, \n",
    "    max_length=256)\n",
    "display(Markdown(colorize_text(response)))\n"
   ]
  },
  {
   "cell_type": "markdown",
   "id": "15969ae3",
   "metadata": {
    "papermill": {
     "duration": 0.013549,
     "end_time": "2024-08-11T16:35:30.942691",
     "exception": false,
     "start_time": "2024-08-11T16:35:30.929142",
     "status": "completed"
    },
    "tags": []
   },
   "source": [
    "## Software design"
   ]
  },
  {
   "cell_type": "code",
   "execution_count": 20,
   "id": "c46fb87e",
   "metadata": {
    "execution": {
     "iopub.execute_input": "2024-08-11T16:35:30.971449Z",
     "iopub.status.busy": "2024-08-11T16:35:30.971144Z",
     "iopub.status.idle": "2024-08-11T16:40:56.445958Z",
     "shell.execute_reply": "2024-08-11T16:40:56.445019Z"
    },
    "papermill": {
     "duration": 325.505208,
     "end_time": "2024-08-11T16:40:56.461589",
     "exception": false,
     "start_time": "2024-08-11T16:35:30.956381",
     "status": "completed"
    },
    "tags": []
   },
   "outputs": [
    {
     "data": {
      "text/markdown": [
       "\n",
       "\n",
       "**<font color='red'>Question:</font>** Please write a class in Python \n",
       "                        to model a phone book (storing name, surname, address, phone) \n",
       "                        with add, delete, order by name, search operations.\n",
       "                        The class should store a list of contacts, each\n",
       "                        with name, surname, address, phone information stored.\n",
       "                         \n",
       "\n",
       "**<font color='green'>Answer:</font>** ```python\n",
       "class Contact:\n",
       "    def __init__(self, name, surname, address, phone):\n",
       "        self.name = name\n",
       "        self.surname = surname\n",
       "        self.address = address\n",
       "        self.phone = phone\n",
       "\n",
       "    def __str__(self):\n",
       "        return f\"{self.name} {self.surname}, {self.address}, {self.phone}\"\n",
       "\n",
       "\n",
       "class PhoneBook:\n",
       "    def __init__(self):\n",
       "        self.contacts = []\n",
       "\n",
       "    def add_contact(self, name, surname, address, phone):\n",
       "        new_contact = Contact(name, surname, address, phone)\n",
       "        self.contacts.append(new_contact)\n",
       "\n",
       "    def delete_contact(self, name, surname):\n",
       "        for contact in self.contacts:\n",
       "            if contact.name == name and contact.surname == surname:\n",
       "                self.contacts.remove(contact)\n",
       "                print(f\"Contact {name} {surname} deleted.\")\n",
       "                return\n",
       "        print(f\"Contact {name} {surname} not found.\")\n",
       "\n",
       "    def order_by_name(self):\n",
       "        self.contacts.sort(key=lambda x: (x.name, x.surname))\n",
       "\n",
       "    def search_contact(self, name, surname):\n",
       "        for contact in self.contacts:\n",
       "            if contact.name == name and contact.surname == surname:\n",
       "                return contact\n",
       "        return None\n",
       "\n",
       "    def display_contacts(self):\n",
       "        self.order_by_name()\n",
       "        for contact in self.contacts:\n",
       "            print(contact)\n",
       "\n",
       "\n",
       "# Example usage:\n",
       "phone_book = PhoneBook()\n",
       "\n",
       "while True:\n",
       "    print(\"\\n1. Add contact\")\n",
       "    print(\"2. Delete contact\")\n",
       "    print(\"3. Order by name\")\n",
       "    print(\"4. Search contact\")\n",
       "    print(\"5. Display contacts\")\n",
       "    print(\"6. Exit\")\n",
       "\n",
       "    choice = input(\"Choose an option: \")\n",
       "\n",
       "    if choice == \"1\":\n",
       "        name = input(\"Enter name: \")\n",
       "        surname = input(\"Enter surname: \")\n",
       "        address = input(\"Enter address: \")\n",
       "        phone = input(\"Enter phone: \")\n",
       "        phone_book.add_contact(name, surname, address, phone)\n",
       "    elif choice == \"2\":\n",
       "        name = input(\"Enter name: \")\n",
       "        surname = input(\"Enter surname: \")\n",
       "        phone_book.delete_contact(name, surname)\n",
       "    elif choice == \"3\":\n",
       "        phone_book.order_by_name()\n",
       "    elif choice == \"4\":\n",
       "        name = input(\"Enter name: \")\n",
       "        surname = input(\"Enter surname: \")\n",
       "        contact = phone_book.search_contact(name, surname)\n",
       "        if contact:\n",
       "            print(contact)\n",
       "        else:\n",
       "            print(\"Contact not found.\")\n",
       "    elif choice == \"5\":\n",
       "        phone_book.display_contacts()\n",
       "    elif choice == \"6\":\n",
       "        break\n",
       "    else:\n",
       "        print(\"Invalid option.\")\n",
       "``` \n",
       "\n",
       "**<font color='magenta'>Total time:</font>** 325.47 sec."
      ],
      "text/plain": [
       "<IPython.core.display.Markdown object>"
      ]
     },
     "metadata": {},
     "output_type": "display_data"
    }
   ],
   "source": [
    "response = query_model(\n",
    "    system_message,\n",
    "    user_message=\"\"\"Please write a class in Python \n",
    "                        to model a phone book (storing name, surname, address, phone) \n",
    "                        with add, delete, order by name, search operations.\n",
    "                        The class should store a list of contacts, each\n",
    "                        with name, surname, address, phone information stored.\n",
    "                        \"\"\",\n",
    "    temperature=0.1, \n",
    "    max_length=1024)\n",
    "display(Markdown(colorize_text(response)))\n"
   ]
  },
  {
   "cell_type": "code",
   "execution_count": 21,
   "id": "353ea67b",
   "metadata": {
    "execution": {
     "iopub.execute_input": "2024-08-11T16:40:56.490690Z",
     "iopub.status.busy": "2024-08-11T16:40:56.490119Z",
     "iopub.status.idle": "2024-08-11T16:43:32.272075Z",
     "shell.execute_reply": "2024-08-11T16:43:32.271061Z"
    },
    "papermill": {
     "duration": 155.812629,
     "end_time": "2024-08-11T16:43:32.288075",
     "exception": false,
     "start_time": "2024-08-11T16:40:56.475446",
     "status": "completed"
    },
    "tags": []
   },
   "outputs": [
    {
     "data": {
      "text/markdown": [
       "\n",
       "\n",
       "**<font color='red'>Question:</font>** Please write a small Python module that creates a REST API service\n",
       "                        with two endpoints: \n",
       "                        * get_status (GET)\n",
       "                        * prediction (POST)\n",
       "                        The prediction endpoint receives the payload, extract three fields: city, street and number\n",
       "                        and returns a field called price_estimate\n",
       "                        \n",
       "                         \n",
       "\n",
       "**<font color='green'>Answer:</font>** ```python\n",
       "from flask import Flask, request, jsonify\n",
       "from flask_restful import Api, Resource\n",
       "\n",
       "app = Flask(__name__)\n",
       "api = Api(app)\n",
       "\n",
       "class Status(Resource):\n",
       "    def get(self):\n",
       "        return {'status': 'ok'}\n",
       "\n",
       "class Prediction(Resource):\n",
       "    def post(self):\n",
       "        data = request.json\n",
       "        if 'city' not in data or'street' not in data or 'number' not in data:\n",
       "            return {'error': 'Missing required fields'}, 400\n",
       "        city = data['city']\n",
       "        street = data['street']\n",
       "        number = data['number']\n",
       "        # For simplicity, let's assume we have a function that estimates the price based on the input\n",
       "        def estimate_price(city, street, number):\n",
       "            # This is a placeholder function, you should replace it with your actual logic\n",
       "            return 1000 + int(number) * 10 + len(city) * 5 + len(street) * 2\n",
       "\n",
       "        price_estimate = estimate_price(city, street, number)\n",
       "        return {'price_estimate': price_estimate}\n",
       "\n",
       "api.add_resource(Status, '/')\n",
       "api.add_resource(Prediction, '/predict')\n",
       "\n",
       "if __name__ == '__main__':\n",
       "    app.run(debug=True)\n",
       "```\n",
       "\n",
       "This code creates a simple REST \n",
       "\n",
       "**<font color='magenta'>Total time:</font>** 155.78 sec."
      ],
      "text/plain": [
       "<IPython.core.display.Markdown object>"
      ]
     },
     "metadata": {},
     "output_type": "display_data"
    }
   ],
   "source": [
    "response = query_model(\n",
    "    system_message,\n",
    "    user_message=\"\"\"Please write a small Python module that creates a REST API service\n",
    "                        with two endpoints: \n",
    "                        * get_status (GET)\n",
    "                        * prediction (POST)\n",
    "                        The prediction endpoint receives the payload, extract three fields: city, street and number\n",
    "                        and returns a field called price_estimate\n",
    "                        \n",
    "                        \"\"\",\n",
    "    temperature=0.1, \n",
    "    max_length=256)\n",
    "display(Markdown(colorize_text(response)))"
   ]
  },
  {
   "cell_type": "markdown",
   "id": "5fc27473",
   "metadata": {
    "papermill": {
     "duration": 0.015039,
     "end_time": "2024-08-11T16:43:32.317657",
     "exception": false,
     "start_time": "2024-08-11T16:43:32.302618",
     "status": "completed"
    },
    "tags": []
   },
   "source": [
    "## C++ code\n",
    "\n",
    "We continue now with some C++ code."
   ]
  },
  {
   "cell_type": "code",
   "execution_count": 22,
   "id": "fc2d1216",
   "metadata": {
    "execution": {
     "iopub.execute_input": "2024-08-11T16:43:32.348226Z",
     "iopub.status.busy": "2024-08-11T16:43:32.347412Z",
     "iopub.status.idle": "2024-08-11T16:44:22.816696Z",
     "shell.execute_reply": "2024-08-11T16:44:22.815784Z"
    },
    "papermill": {
     "duration": 50.501343,
     "end_time": "2024-08-11T16:44:22.833199",
     "exception": false,
     "start_time": "2024-08-11T16:43:32.331856",
     "status": "completed"
    },
    "tags": []
   },
   "outputs": [
    {
     "data": {
      "text/markdown": [
       "\n",
       "\n",
       "**<font color='red'>Question:</font>** Please write a function in C++ to calculate the area of a circle of radius r \n",
       "\n",
       "**<font color='green'>Answer:</font>** ```cpp\n",
       "#include <iostream>\n",
       "#include <cmath>\n",
       "\n",
       "double calculate_circle_area(double r) {\n",
       "    return M_PI * pow(r, 2);\n",
       "}\n",
       "\n",
       "int main() {\n",
       "    double radius = 5.0;\n",
       "    std::cout << \"The area of the circle with radius \" << radius << \" is \" << calculate_circle_area(radius) << std::endl;\n",
       "    return 0;\n",
       "}\n",
       "``` \n",
       "\n",
       "**<font color='magenta'>Total time:</font>** 50.46 sec."
      ],
      "text/plain": [
       "<IPython.core.display.Markdown object>"
      ]
     },
     "metadata": {},
     "output_type": "display_data"
    }
   ],
   "source": [
    "system_message = \"\"\"\n",
    "You are an AI assistant designed to write simple C++ code.\n",
    "Please answer with the listing of the C++ code.\n",
    "Question: {question}\n",
    "Answer:\n",
    "\"\"\"\n",
    "response = query_model(\n",
    "    system_message,\n",
    "    user_message=\"Please write a function in C++ to calculate the area of a circle of radius r\", \n",
    "    temperature=0.1, \n",
    "    max_length=256)\n",
    "display(Markdown(colorize_text(response)))"
   ]
  },
  {
   "cell_type": "code",
   "execution_count": 23,
   "id": "b821937c",
   "metadata": {
    "execution": {
     "iopub.execute_input": "2024-08-11T16:44:22.863705Z",
     "iopub.status.busy": "2024-08-11T16:44:22.862977Z",
     "iopub.status.idle": "2024-08-11T16:45:16.413664Z",
     "shell.execute_reply": "2024-08-11T16:45:16.412776Z"
    },
    "papermill": {
     "duration": 53.583035,
     "end_time": "2024-08-11T16:45:16.430604",
     "exception": false,
     "start_time": "2024-08-11T16:44:22.847569",
     "status": "completed"
    },
    "tags": []
   },
   "outputs": [
    {
     "data": {
      "text/markdown": [
       "\n",
       "\n",
       "**<font color='red'>Question:</font>** Please write a function in C++ to calculate the volume of a cylinder with radius r and height h \n",
       "\n",
       "**<font color='green'>Answer:</font>** ```cpp\n",
       "#include <iostream>\n",
       "\n",
       "double cylinder_volume(double r, double h) {\n",
       "    return 3.14159 * r * r * h;\n",
       "}\n",
       "\n",
       "int main() {\n",
       "    double r = 5.0;\n",
       "    double h = 10.0;\n",
       "    std::cout << \"The volume of the cylinder is: \" << cylinder_volume(r, h) << std::endl;\n",
       "    return 0;\n",
       "}\n",
       "``` \n",
       "\n",
       "**<font color='magenta'>Total time:</font>** 53.54 sec."
      ],
      "text/plain": [
       "<IPython.core.display.Markdown object>"
      ]
     },
     "metadata": {},
     "output_type": "display_data"
    }
   ],
   "source": [
    "system_message = \"\"\"\n",
    "You are an AI assistant designed to write simple C++ code.\n",
    "Please answer with the listing of the C++ code.\n",
    "Question: {question}\n",
    "Answer:\n",
    "\"\"\"\n",
    "response = query_model(\n",
    "    system_message,\n",
    "    user_message=\"Please write a function in C++ to calculate the volume of a cylinder with radius r and height h\",\n",
    "    temperature=0.1,\n",
    "    max_length=512)\n",
    "display(Markdown(colorize_text(response)))"
   ]
  },
  {
   "cell_type": "code",
   "execution_count": 24,
   "id": "7e50cd8d",
   "metadata": {
    "execution": {
     "iopub.execute_input": "2024-08-11T16:45:16.460493Z",
     "iopub.status.busy": "2024-08-11T16:45:16.460211Z",
     "iopub.status.idle": "2024-08-11T16:46:29.400805Z",
     "shell.execute_reply": "2024-08-11T16:46:29.399785Z"
    },
    "papermill": {
     "duration": 72.9725,
     "end_time": "2024-08-11T16:46:29.417491",
     "exception": false,
     "start_time": "2024-08-11T16:45:16.444991",
     "status": "completed"
    },
    "tags": []
   },
   "outputs": [
    {
     "data": {
      "text/markdown": [
       "\n",
       "\n",
       "**<font color='red'>Question:</font>** Please write a function in C++ to order a list \n",
       "\n",
       "**<font color='green'>Answer:</font>** ```cpp\n",
       "#include <iostream>\n",
       "#include <vector>\n",
       "#include <algorithm>\n",
       "\n",
       "std::vector<int> orderList(std::vector<int> lst) {\n",
       "    std::sort(lst.begin(), lst.end());\n",
       "    return lst;\n",
       "}\n",
       "\n",
       "int main() {\n",
       "    std::vector<int> numbers = {64, 34, 25, 12, 22, 11, 90};\n",
       "    std::vector<int> orderedNumbers = orderList(numbers);\n",
       "    for (int num : orderedNumbers) {\n",
       "        std::cout << num << \" \";\n",
       "    }\n",
       "    return 0;\n",
       "}\n",
       "``` \n",
       "\n",
       "**<font color='magenta'>Total time:</font>** 72.93 sec."
      ],
      "text/plain": [
       "<IPython.core.display.Markdown object>"
      ]
     },
     "metadata": {},
     "output_type": "display_data"
    }
   ],
   "source": [
    "response = query_model(\n",
    "    system_message,\n",
    "    user_message=\"Please write a function in C++ to order a list\", \n",
    "    temperature=0.1, \n",
    "    max_length=256)\n",
    "display(Markdown(colorize_text(response)))"
   ]
  },
  {
   "cell_type": "markdown",
   "id": "99716228",
   "metadata": {
    "papermill": {
     "duration": 0.014457,
     "end_time": "2024-08-11T16:46:29.446810",
     "exception": false,
     "start_time": "2024-08-11T16:46:29.432353",
     "status": "completed"
    },
    "tags": []
   },
   "source": [
    "## Multiple parameters questions\n",
    "\n",
    "### Best food in France"
   ]
  },
  {
   "cell_type": "code",
   "execution_count": 25,
   "id": "d08be155",
   "metadata": {
    "execution": {
     "iopub.execute_input": "2024-08-11T16:46:29.477367Z",
     "iopub.status.busy": "2024-08-11T16:46:29.477080Z",
     "iopub.status.idle": "2024-08-11T16:48:05.567844Z",
     "shell.execute_reply": "2024-08-11T16:48:05.566705Z"
    },
    "papermill": {
     "duration": 96.123748,
     "end_time": "2024-08-11T16:48:05.585042",
     "exception": false,
     "start_time": "2024-08-11T16:46:29.461294",
     "status": "completed"
    },
    "tags": []
   },
   "outputs": [
    {
     "data": {
      "text/markdown": [
       "\n",
       "\n",
       "**<font color='red'>Question:</font>** \n",
       "What are the best 3 food from France?\n",
       " \n",
       "\n",
       "**<font color='green'>Answer:</font>** Bonjour! Here are three of the most iconic and delicious foods from France:\n",
       "\n",
       "* **Escargots (Snails in Garlic Butter)**: A classic French appetizer made from snails cooked in garlic butter, parsley, and white wine. Typically served as an appetizer or starter.\n",
       "* **Coq au Vin (Chicken in Red Wine)**: A braised chicken dish cooked in red wine, mushrooms, onions, and bacon, resulting in tender and flavorful meat. Often served with boiled potatoes and vegetables.\n",
       "* **Crème Brûlée (Burnt Cream)**: A rich dessert consisting of creamy custard base topped with a layer of caramelized sugar. The texture and flavors of the creamy custard and caramelized sugar create a delightful contrast.\n",
       "\n",
       "Bon appétit! \n",
       "\n",
       "**<font color='magenta'>Total time:</font>** 96.08 sec."
      ],
      "text/plain": [
       "<IPython.core.display.Markdown object>"
      ]
     },
     "metadata": {},
     "output_type": "display_data"
    }
   ],
   "source": [
    "system_message = \"\"\"\n",
    "You are an AI assistant designed to answer questions with parameters.\n",
    "Return the answer formated nicely, for example with bullet points.\n",
    "\"\"\"\n",
    "user_message = \"\"\"\n",
    "What are the {adjective} {number} {items} from {place}?\n",
    "\"\"\"\n",
    "response = query_model(\n",
    "    system_message,\n",
    "    user_message.format(\n",
    "    adjective=\"best\",\n",
    "    number=\"3\",\n",
    "    items=\"food\",\n",
    "    place=\"France\"\n",
    "    ), \n",
    "    max_length=256)\n",
    "display(Markdown(colorize_text(response)))"
   ]
  },
  {
   "cell_type": "markdown",
   "id": "0dd3cd92",
   "metadata": {
    "papermill": {
     "duration": 0.014776,
     "end_time": "2024-08-11T16:48:05.614840",
     "exception": false,
     "start_time": "2024-08-11T16:48:05.600064",
     "status": "completed"
    },
    "tags": []
   },
   "source": [
    "### Best attractions in Italy"
   ]
  },
  {
   "cell_type": "code",
   "execution_count": 26,
   "id": "b123af6b",
   "metadata": {
    "execution": {
     "iopub.execute_input": "2024-08-11T16:48:05.646985Z",
     "iopub.status.busy": "2024-08-11T16:48:05.646072Z",
     "iopub.status.idle": "2024-08-11T16:50:41.323290Z",
     "shell.execute_reply": "2024-08-11T16:50:41.322208Z"
    },
    "papermill": {
     "duration": 155.711257,
     "end_time": "2024-08-11T16:50:41.341002",
     "exception": false,
     "start_time": "2024-08-11T16:48:05.629745",
     "status": "completed"
    },
    "tags": []
   },
   "outputs": [
    {
     "data": {
      "text/markdown": [
       "\n",
       "\n",
       "**<font color='red'>Question:</font>** \n",
       "What are the best five attractions from Italy?\n",
       " \n",
       "\n",
       "**<font color='green'>Answer:</font>** Here are the top 5 attractions in Italy:\n",
       "\n",
       "• **The Colosseum (Rome)**: This ancient amphitheater is one of Rome's most iconic landmarks and a testament to the city's rich history. Built in the 1st century AD, it could hold up to 50,000 spectators and hosted gladiator battles, animal hunts, and public executions.\n",
       "\n",
       "• **The Leaning Tower of Pisa (Pisa)**: This famous tower is a marvel of medieval engineering and a popular tourist destination. Built in the 12th century, it's known for its unintended tilt, which has become a symbol of the city of Pisa.\n",
       "\n",
       "• **The Uffizi Gallery (Florence)**: This world-renowned art museum is home to some of the most famous paintings in history, including Botticelli's \"The Birth of Venus\" and Leonardo da Vinci's \"Annunciation.\" The gallery is located in a 16th-century palace and features a stunning courtyard and ornate decorations.\n",
       "\n",
       "• **The Grand Canal (Venice)**: This serene waterway is the main thoroughfare of Venice, lined with beautiful palaces, ornate bridges, and picturesque piazzas. Take a romantic gondola ride or stroll along the canal \n",
       "\n",
       "**<font color='magenta'>Total time:</font>** 155.67 sec."
      ],
      "text/plain": [
       "<IPython.core.display.Markdown object>"
      ]
     },
     "metadata": {},
     "output_type": "display_data"
    }
   ],
   "source": [
    "response = query_model(    \n",
    "    system_message,\n",
    "    user_message.format(\n",
    "    adjective=\"best\",\n",
    "    number=\"five\",\n",
    "    items=\"attractions\",\n",
    "    place=\"Italy\"\n",
    "    ), \n",
    "    max_length=256)\n",
    "display(Markdown(colorize_text(response)))"
   ]
  },
  {
   "cell_type": "markdown",
   "id": "b28730ae",
   "metadata": {
    "papermill": {
     "duration": 0.014987,
     "end_time": "2024-08-11T16:50:41.371871",
     "exception": false,
     "start_time": "2024-08-11T16:50:41.356884",
     "status": "completed"
    },
    "tags": []
   },
   "source": [
    "### Most affordable places to stay in Spain "
   ]
  },
  {
   "cell_type": "code",
   "execution_count": 27,
   "id": "cedd561e",
   "metadata": {
    "execution": {
     "iopub.execute_input": "2024-08-11T16:50:41.403364Z",
     "iopub.status.busy": "2024-08-11T16:50:41.403048Z",
     "iopub.status.idle": "2024-08-11T16:53:16.874974Z",
     "shell.execute_reply": "2024-08-11T16:53:16.873921Z"
    },
    "papermill": {
     "duration": 155.505836,
     "end_time": "2024-08-11T16:53:16.892704",
     "exception": false,
     "start_time": "2024-08-11T16:50:41.386868",
     "status": "completed"
    },
    "tags": []
   },
   "outputs": [
    {
     "data": {
      "text/markdown": [
       "\n",
       "\n",
       "**<font color='red'>Question:</font>** \n",
       "What are the most affordable two places to retire from Spain?\n",
       " \n",
       "\n",
       "**<font color='green'>Answer:</font>** Here are two of the most affordable places to retire from Spain:\n",
       "\n",
       "**1. Valencia Region**\n",
       "\n",
       "* **Cost of living index:** 74.25 (compared to the national average of 100)\n",
       "* **Rent:** €400-€600 per month for a one-bedroom apartment\n",
       "* **Food:** Meals from €5-€10\n",
       "* **Transportation:** €1.50 for a single bus ticket\n",
       "* **Healthcare:** Excellent public healthcare system with low costs\n",
       "* **Climate:** Mild Mediterranean climate with warm summers and mild winters\n",
       "\n",
       "The Valencia region is a popular destination for retirees due to its low cost of living, beautiful beaches, and rich cultural heritage. The city of Valencia is a great place to live, with a vibrant atmosphere and a wide range of cultural and recreational activities.\n",
       "\n",
       "**2. Málaga Province**\n",
       "\n",
       "* **Cost of living index:** 71.25 (compared to the national average of 100)\n",
       "* **Rent:** €350-€550 per month for a one-bedroom apartment\n",
       "* **Food:** Meals from €3-€8\n",
       "* **Transportation:** €1.20 for a single bus ticket\n",
       "* **Healthcare:** Excellent public healthcare system with low costs\n",
       "* **Climate:** Mild Mediterranean climate \n",
       "\n",
       "**<font color='magenta'>Total time:</font>** 155.46 sec."
      ],
      "text/plain": [
       "<IPython.core.display.Markdown object>"
      ]
     },
     "metadata": {},
     "output_type": "display_data"
    }
   ],
   "source": [
    "response = query_model(\n",
    "    system_message,\n",
    "    user_message.format(\n",
    "    adjective=\"most affordable\",\n",
    "    number=\"two\",\n",
    "    items=\"places to retire\",\n",
    "    place=\"Spain\"\n",
    "    ), \n",
    "    max_length=256)\n",
    "display(Markdown(colorize_text(response)))"
   ]
  },
  {
   "cell_type": "markdown",
   "id": "17c7d57a",
   "metadata": {
    "papermill": {
     "duration": 0.015362,
     "end_time": "2024-08-11T16:53:16.923431",
     "exception": false,
     "start_time": "2024-08-11T16:53:16.908069",
     "status": "completed"
    },
    "tags": []
   },
   "source": [
    "### Less known but great places to stay in Romania"
   ]
  },
  {
   "cell_type": "code",
   "execution_count": 28,
   "id": "52c1c5bc",
   "metadata": {
    "execution": {
     "iopub.execute_input": "2024-08-11T16:53:16.955757Z",
     "iopub.status.busy": "2024-08-11T16:53:16.954955Z",
     "iopub.status.idle": "2024-08-11T16:55:52.507529Z",
     "shell.execute_reply": "2024-08-11T16:55:52.506609Z"
    },
    "papermill": {
     "duration": 155.586605,
     "end_time": "2024-08-11T16:55:52.525299",
     "exception": false,
     "start_time": "2024-08-11T16:53:16.938694",
     "status": "completed"
    },
    "tags": []
   },
   "outputs": [
    {
     "data": {
      "text/markdown": [
       "\n",
       "\n",
       "**<font color='red'>Question:</font>** \n",
       "What are the Less known but great 4 places to stay from Romania?\n",
       " \n",
       "\n",
       "**<font color='green'>Answer:</font>** Here are some lesser-known but great places to stay in Romania:\n",
       "\n",
       "* **Maramureș County:**\n",
       "\t+ **Bârsana**: A small village in the heart of the Maramureș region, known for its traditional wooden churches and folk culture. Stay at a traditional guesthouse or a local family-run pension.\n",
       "\t+ **Sighetu Marmației**: A charming town with a rich history and culture, featuring a beautiful synagogue, a museum, and a lively market. Stay at a cozy hotel or a boutique guesthouse.\n",
       "* **Bistrița-Năsăud County:**\n",
       "\t+ **Bistrița**: A historic city with a rich cultural heritage, featuring a beautiful old town and a stunning castle. Stay at a hotel or a guesthouse in the city center.\n",
       "\t+ **Râșca**: A picturesque village surrounded by the Carpathian Mountains, known for its traditional wooden churches and folk culture. Stay at a guesthouse or a local family-run pension.\n",
       "* **Dolj County:**\n",
       "\t+ **Craiova**: A charming city with a rich history and culture, featuring a beautiful old town and a stunning castle. Stay at a hotel or a boutique guesthouse.\n",
       "\t \n",
       "\n",
       "**<font color='magenta'>Total time:</font>** 155.55 sec."
      ],
      "text/plain": [
       "<IPython.core.display.Markdown object>"
      ]
     },
     "metadata": {},
     "output_type": "display_data"
    }
   ],
   "source": [
    "response = query_model(    \n",
    "    system_message,\n",
    "    user_message.format(\n",
    "    adjective=\"Less known but great\",\n",
    "    number=\"4\",\n",
    "    items=\"places to stay\",\n",
    "    place=\"Romania\"\n",
    "    ), \n",
    "    max_length=256)\n",
    "display(Markdown(colorize_text(response)))"
   ]
  },
  {
   "cell_type": "markdown",
   "id": "f2ff8e80",
   "metadata": {
    "papermill": {
     "duration": 0.015198,
     "end_time": "2024-08-11T16:55:52.556180",
     "exception": false,
     "start_time": "2024-08-11T16:55:52.540982",
     "status": "completed"
    },
    "tags": []
   },
   "source": [
    "### Best commedies by Shakespeare\n"
   ]
  },
  {
   "cell_type": "code",
   "execution_count": 29,
   "id": "bff384ef",
   "metadata": {
    "execution": {
     "iopub.execute_input": "2024-08-11T16:55:52.588779Z",
     "iopub.status.busy": "2024-08-11T16:55:52.588402Z",
     "iopub.status.idle": "2024-08-11T16:58:28.049319Z",
     "shell.execute_reply": "2024-08-11T16:58:28.048443Z"
    },
    "papermill": {
     "duration": 155.495771,
     "end_time": "2024-08-11T16:58:28.067398",
     "exception": false,
     "start_time": "2024-08-11T16:55:52.571627",
     "status": "completed"
    },
    "tags": []
   },
   "outputs": [
    {
     "data": {
      "text/markdown": [
       "\n",
       "\n",
       "**<font color='red'>Question:</font>** \n",
       "What are the best 3 commedies from Shakespeare entire creation?\n",
       " \n",
       "\n",
       "**<font color='green'>Answer:</font>** A delightful question! While opinions may vary, here are three of the most popular and enduring comedies from Shakespeare's works, widely regarded as among the best:\n",
       "\n",
       "• **A Midsummer Night's Dream** (1595-96)\n",
       "\t+ A lighthearted and enchanting tale of love, magic, and mischief in the forest, featuring the iconic characters of Puck, Oberon, and the lovestruck young lovers.\n",
       "\t+ Features some of Shakespeare's most beautiful and poetic language, including the famous \"What fools these mortals be\" soliloquy.\n",
       "\n",
       "• **Twelfth Night** (1599-1602)\n",
       "\t+ A witty and charming comedy of mistaken identities, love triangles, and disguise, set in the court of Duke Orsino.\n",
       "\t+ Includes some of Shakespeare's most memorable characters, such as the quick-witted Viola, the lovestruck Orsino, and the bumbling Malvolio.\n",
       "\n",
       "• **As You Like It** (1599-1600)\n",
       "\t+ A pastoral comedy of love, family, and identity, set in the Forest of Arden, where the young Rosalind disguises herself as a man to escape her uncle's tyranny and find her true love.\n",
       "\t \n",
       "\n",
       "**<font color='magenta'>Total time:</font>** 155.45 sec."
      ],
      "text/plain": [
       "<IPython.core.display.Markdown object>"
      ]
     },
     "metadata": {},
     "output_type": "display_data"
    }
   ],
   "source": [
    "response = query_model(\n",
    "    system_message,\n",
    "    user_message.format(\n",
    "    adjective=\"best\",\n",
    "    number=\"3\",\n",
    "    items=\"commedies\",\n",
    "    place=\"Shakespeare entire creation\"\n",
    "    ), \n",
    "    max_length=256)\n",
    "display(Markdown(colorize_text(response)))"
   ]
  },
  {
   "cell_type": "markdown",
   "id": "2f0fa9b8",
   "metadata": {
    "papermill": {
     "duration": 0.015624,
     "end_time": "2024-08-11T16:58:28.099494",
     "exception": false,
     "start_time": "2024-08-11T16:58:28.083870",
     "status": "completed"
    },
    "tags": []
   },
   "source": [
    "### Most important battles fromn WW2"
   ]
  },
  {
   "cell_type": "code",
   "execution_count": 30,
   "id": "b3c17441",
   "metadata": {
    "execution": {
     "iopub.execute_input": "2024-08-11T16:58:28.132442Z",
     "iopub.status.busy": "2024-08-11T16:58:28.131902Z",
     "iopub.status.idle": "2024-08-11T17:03:21.971005Z",
     "shell.execute_reply": "2024-08-11T17:03:21.969995Z"
    },
    "papermill": {
     "duration": 293.874681,
     "end_time": "2024-08-11T17:03:21.989906",
     "exception": false,
     "start_time": "2024-08-11T16:58:28.115225",
     "status": "completed"
    },
    "tags": []
   },
   "outputs": [
    {
     "data": {
      "text/markdown": [
       "\n",
       "\n",
       "**<font color='red'>Question:</font>** \n",
       "What are the most important 5 battles from WW2?\n",
       " \n",
       "\n",
       "**<font color='green'>Answer:</font>** Here are the top 5 most important battles of World War II:\n",
       "\n",
       "**Top 5 Most Important Battles of World War II:**\n",
       "\n",
       "* **1. **The Battle of Stalingrad (August 1942 - February 1943)**:\n",
       "\t+ Location: Stalingrad, Russia\n",
       "\t+ Outcome: Decisive Soviet victory, marked a major turning point on the Eastern Front, and led to the eventual defeat of Nazi Germany\n",
       "\t+ Significance: Largest battle in history, with over 1.8 million casualties, and marked a shift in momentum in favor of the Allies\n",
       "* **2. **The Battle of Midway (June 4-7, 1942)**:\n",
       "\t+ Location: Midway Atoll, Hawaii\n",
       "\t+ Outcome: Decisive American victory, prevented a potential Japanese invasion of Hawaii and halted Japanese expansion in the Pacific\n",
       "\t+ Significance: Considered a turning point in the Pacific War, as it thwarted Japan's plans for further expansion and set the stage for the Allied counterattack\n",
       "* **3. **The Battle of Normandy (June 6, 1944 - August 21, 1944)**:\n",
       "\t+ Location: Normandy, France\n",
       "\t+ Outcome: Allied victory, marked the beginning of the end of Germany's control over Western Europe\n",
       "\t+ Significance: Largest seaborne invasion in history, led to the liberation of Western Europe and paved the way for the Allied advance into Germany\n",
       "* **4. **The Battle of Berlin (April 16 - May 2, 1945)**:\n",
       "\t+ Location: Berlin, Germany\n",
       "\t+ Outcome: Soviet victory, led to the capture of Berlin and the eventual surrender of Germany\n",
       "\t+ Significance: Marked the end of World War II in Europe, and led to the division of Germany and the beginning of the Cold War\n",
       "* **5. **The Battle of El Alamein (October 23 - November 11, 1942)**:\n",
       "\t+ Location: El Alamein, Egypt\n",
       "\t+ Outcome: Decisive British victory, marked a major turning point in the North African Campaign and led to the defeat of Axis forces in Africa\n",
       "\t+ Significance: First major victory for the Allies in North Africa, and set the stage for the eventual invasion of Italy and the Mediterranean region \n",
       "\n",
       "**<font color='magenta'>Total time:</font>** 293.83 sec."
      ],
      "text/plain": [
       "<IPython.core.display.Markdown object>"
      ]
     },
     "metadata": {},
     "output_type": "display_data"
    }
   ],
   "source": [
    "response = query_model(\n",
    "    system_message,\n",
    "    user_message.format(\n",
    "    adjective=\"most important\",\n",
    "    number=\"5\",\n",
    "    items=\"battles\",\n",
    "    place=\"WW2\"\n",
    "    ), \n",
    "    max_length=512)\n",
    "display(Markdown(colorize_text(response)))"
   ]
  },
  {
   "cell_type": "markdown",
   "id": "68ab63b8",
   "metadata": {
    "papermill": {
     "duration": 0.015673,
     "end_time": "2024-08-11T17:03:22.021556",
     "exception": false,
     "start_time": "2024-08-11T17:03:22.005883",
     "status": "completed"
    },
    "tags": []
   },
   "source": [
    "## Multiple steps reasoning (task chain)"
   ]
  },
  {
   "cell_type": "code",
   "execution_count": 31,
   "id": "7cfa6cf0",
   "metadata": {
    "execution": {
     "iopub.execute_input": "2024-08-11T17:03:22.054589Z",
     "iopub.status.busy": "2024-08-11T17:03:22.054274Z",
     "iopub.status.idle": "2024-08-11T17:07:31.552451Z",
     "shell.execute_reply": "2024-08-11T17:07:31.551508Z"
    },
    "papermill": {
     "duration": 249.533023,
     "end_time": "2024-08-11T17:07:31.570408",
     "exception": false,
     "start_time": "2024-08-11T17:03:22.037385",
     "status": "completed"
    },
    "tags": []
   },
   "outputs": [
    {
     "data": {
      "text/markdown": [
       "\n",
       "\n",
       "**<font color='red'>Question:</font>** \n",
       "What are the most important 5 battles from WW2?\n",
       " \n",
       "\n",
       "**<font color='green'>Answer:</font>** Here are the top 5 most important battles of World War 2, in no particular order:\n",
       "\n",
       "**The Top 5 Most Important Battles of World War 2:**\n",
       "\n",
       "* **Battle of Stalingrad (August 1942 - February 1943)**:\n",
       "\t+ A major turning point on the Eastern Front, where the Soviet Union defeated Nazi Germany, marking a significant shift in the war's momentum.\n",
       "\t+ Resulted in the loss of over 300,000 German soldiers and a major blow to Hitler's military strategy.\n",
       "* **Battle of Midway (June 4-7, 1942)**:\n",
       "\t+ A naval battle in the Pacific that prevented a Japanese invasion of Hawaii and turned the tide of the war in the Pacific.\n",
       "\t+ The Japanese lost four aircraft carriers, a significant blow to their naval power, while the US lost one aircraft carrier and a destroyer.\n",
       "* **Battle of El Alamein (October-November 1942)**:\n",
       "\t+ A decisive British victory in North Africa that halted the Axis advance and led to the eventual defeat of German and Italian forces in Africa.\n",
       "\t+ Marked a major shift in the balance of power in the Mediterranean and set the stage for the Allied invasion of Italy.\n",
       "* **Battle of Normandy (D-Day, June 6, 1944)**:\n",
       "\t+ The largest seaborne invasion in history, where Allied forces landed in Normandy, France, marking a crucial turning point in the war.\n",
       "\t+ Led to the liberation of Western Europe and the beginning of the end of Germany's control over the continent.\n",
       "* **Battle of Berlin (April-May 1945)**:\n",
       "\t+ The final major battle of the war in Europe, where Soviet forces captured the German capital and led to the surrender of Germany.\n",
       "\t+ Marked the end of World War 2 in Europe and led to the division of Germany and the beginning of the Cold War.\n",
       "\n",
       "These battles had a significant impact on the outcome of the war and the course of history. \n",
       "\n",
       "**<font color='magenta'>Total time:</font>** 249.49 sec."
      ],
      "text/plain": [
       "<IPython.core.display.Markdown object>"
      ]
     },
     "metadata": {},
     "output_type": "display_data"
    }
   ],
   "source": [
    "response = query_model(\n",
    "    system_message,\n",
    "    user_message.format(\n",
    "    adjective=\"most important\",\n",
    "    number=\"5\",\n",
    "    items=\"battles\",\n",
    "    place=\"WW2\"\n",
    "    ), \n",
    "    max_length=512)\n",
    "display(Markdown(colorize_text(response)))"
   ]
  },
  {
   "cell_type": "markdown",
   "id": "9edc4caf",
   "metadata": {
    "papermill": {
     "duration": 0.015971,
     "end_time": "2024-08-11T17:07:31.602592",
     "exception": false,
     "start_time": "2024-08-11T17:07:31.586621",
     "status": "completed"
    },
    "tags": []
   },
   "source": [
    "## Reasoning like Einstein will do"
   ]
  },
  {
   "cell_type": "code",
   "execution_count": 32,
   "id": "8b51c821",
   "metadata": {
    "execution": {
     "iopub.execute_input": "2024-08-11T17:07:31.636678Z",
     "iopub.status.busy": "2024-08-11T17:07:31.636330Z",
     "iopub.status.idle": "2024-08-11T17:12:14.832285Z",
     "shell.execute_reply": "2024-08-11T17:12:14.831373Z"
    },
    "papermill": {
     "duration": 283.231812,
     "end_time": "2024-08-11T17:12:14.851090",
     "exception": false,
     "start_time": "2024-08-11T17:07:31.619278",
     "status": "completed"
    },
    "tags": []
   },
   "outputs": [
    {
     "data": {
      "text/markdown": [
       "\n",
       "\n",
       "**<font color='red'>Question:</font>** How many kilometers will travel totally the swallow? \n",
       "\n",
       "**<font color='green'>Answer:</font>** My friend, let's break this down step by step.\n",
       "\n",
       "First, let's calculate the time it takes for the train to travel from Bucharest to Ploiesti. The distance is 60 km, and the train's speed is 60 km/h, so the time it takes is:\n",
       "\n",
       "Time = Distance / Speed = 60 km / 60 km/h = 1 hour\n",
       "\n",
       "Now, let's consider the swallow's flight. When the swallow reaches the train, it flies back towards Ploiesti, which means it's flying at a speed of 90 km/h relative to the train. Since the train is moving at 60 km/h, the effective speed of the swallow relative to the ground is:\n",
       "\n",
       "Effective speed = 90 km/h (swallow's speed) + 60 km/h (train's speed) = 150 km/h\n",
       "\n",
       "The distance between the train and Ploiesti is 60 km, so the time it takes for the swallow to fly from the train to Ploiesti and back is:\n",
       "\n",
       "Time = Distance / Effective speed = 60 km / 150 km/h = 0.4 hours\n",
       "\n",
       "Since the swallow flies back and forth, it makes two trips for every hour the train travels. In 1 hour, the train travels 60 km, so the swallow makes 2 trips in that hour. In 0.4 hours, the swallow makes:\n",
       "\n",
       "Number of trips = 0.4 hours x 2 trips/hour = 0.8 trips\n",
       "\n",
       "The distance traveled by the swallow in one trip is the same as the distance between the train and Ploiesti, which is 60 km. Since the swallow makes 0.8 trips, the total distance traveled by the swallow is:\n",
       "\n",
       "Total distance = Number of trips x Distance per trip = 0.8 trips x 60 km/trip = 48 km\n",
       "\n",
       "However, this is not the total distance traveled by the swallow. The swallow also travels the distance between the train and Ploiesti in the last trip, which is 60 km. So, the total distance traveled by the swallow is:\n",
       "\n",
       "Total distance = 48 km + 60 km = 108 km\n",
       "\n",
       "Therefore, the swallow will travel a total of 108 kilometers. \n",
       "\n",
       "**<font color='magenta'>Total time:</font>** 283.19 sec."
      ],
      "text/plain": [
       "<IPython.core.display.Markdown object>"
      ]
     },
     "metadata": {},
     "output_type": "display_data"
    }
   ],
   "source": [
    "system_message = \"\"\"\n",
    "You are a math professor, smart but cool.\n",
    "Background: A train traveling from Bucharest to Ploiesti (60 km distance) has the speed of 60 km/h. \n",
    "The train starts in Bucharest and travels until Ploiesti, once, only in this direction.\n",
    "A swallow, flying with 90 km/h, fly from Ploiesti to the moving train.\n",
    "When it reaches the train, the swallow flies back toward Ploiesti,\n",
    "ahead of the train. At Ploiesti turns again back and continues to fly back and forth \n",
    "(between the train approaching Ploiesti and Ploiesti) until the train reaches Ploiesti. \n",
    "The swallow will fly continously all the time the train is traveling from Bucharest to Ploiesti.\n",
    "Reasoning: Think step by step. Explain your reasoning.\n",
    "Question: {question}\n",
    "Answer:\n",
    "\"\"\"\n",
    "response = query_model(\n",
    "    system_message,\n",
    "    user_message=\"How many kilometers will travel totally the swallow?\", \n",
    "    temperature=0.1,\n",
    "    max_length=512)\n",
    "display(Markdown(colorize_text(response)))"
   ]
  }
 ],
 "metadata": {
  "kaggle": {
   "accelerator": "gpu",
   "dataSources": [
    {
     "isSourceIdPinned": true,
     "modelId": 91102,
     "modelInstanceId": 68809,
     "sourceId": 81881,
     "sourceType": "modelInstanceVersion"
    }
   ],
   "dockerImageVersionId": 30747,
   "isGpuEnabled": true,
   "isInternetEnabled": true,
   "language": "python",
   "sourceType": "notebook"
  },
  "kernelspec": {
   "display_name": "Python 3",
   "language": "python",
   "name": "python3"
  },
  "language_info": {
   "codemirror_mode": {
    "name": "ipython",
    "version": 3
   },
   "file_extension": ".py",
   "mimetype": "text/x-python",
   "name": "python",
   "nbconvert_exporter": "python",
   "pygments_lexer": "ipython3",
   "version": "3.10.13"
  },
  "papermill": {
   "default_parameters": {},
   "duration": 2760.530341,
   "end_time": "2024-08-11T17:12:17.757001",
   "environment_variables": {},
   "exception": null,
   "input_path": "__notebook__.ipynb",
   "output_path": "__notebook__.ipynb",
   "parameters": {},
   "start_time": "2024-08-11T16:26:17.226660",
   "version": "2.5.0"
  },
  "widgets": {
   "application/vnd.jupyter.widget-state+json": {
    "state": {
     "003a8e172ed6449099501ad2f1df8aa6": {
      "model_module": "@jupyter-widgets/base",
      "model_module_version": "1.2.0",
      "model_name": "LayoutModel",
      "state": {
       "_model_module": "@jupyter-widgets/base",
       "_model_module_version": "1.2.0",
       "_model_name": "LayoutModel",
       "_view_count": null,
       "_view_module": "@jupyter-widgets/base",
       "_view_module_version": "1.2.0",
       "_view_name": "LayoutView",
       "align_content": null,
       "align_items": null,
       "align_self": null,
       "border": null,
       "bottom": null,
       "display": null,
       "flex": null,
       "flex_flow": null,
       "grid_area": null,
       "grid_auto_columns": null,
       "grid_auto_flow": null,
       "grid_auto_rows": null,
       "grid_column": null,
       "grid_gap": null,
       "grid_row": null,
       "grid_template_areas": null,
       "grid_template_columns": null,
       "grid_template_rows": null,
       "height": null,
       "justify_content": null,
       "justify_items": null,
       "left": null,
       "margin": null,
       "max_height": null,
       "max_width": null,
       "min_height": null,
       "min_width": null,
       "object_fit": null,
       "object_position": null,
       "order": null,
       "overflow": null,
       "overflow_x": null,
       "overflow_y": null,
       "padding": null,
       "right": null,
       "top": null,
       "visibility": null,
       "width": null
      }
     },
     "061f6f96a8244729acd7d5ae15be7269": {
      "model_module": "@jupyter-widgets/base",
      "model_module_version": "1.2.0",
      "model_name": "LayoutModel",
      "state": {
       "_model_module": "@jupyter-widgets/base",
       "_model_module_version": "1.2.0",
       "_model_name": "LayoutModel",
       "_view_count": null,
       "_view_module": "@jupyter-widgets/base",
       "_view_module_version": "1.2.0",
       "_view_name": "LayoutView",
       "align_content": null,
       "align_items": null,
       "align_self": null,
       "border": null,
       "bottom": null,
       "display": null,
       "flex": null,
       "flex_flow": null,
       "grid_area": null,
       "grid_auto_columns": null,
       "grid_auto_flow": null,
       "grid_auto_rows": null,
       "grid_column": null,
       "grid_gap": null,
       "grid_row": null,
       "grid_template_areas": null,
       "grid_template_columns": null,
       "grid_template_rows": null,
       "height": null,
       "justify_content": null,
       "justify_items": null,
       "left": null,
       "margin": null,
       "max_height": null,
       "max_width": null,
       "min_height": null,
       "min_width": null,
       "object_fit": null,
       "object_position": null,
       "order": null,
       "overflow": null,
       "overflow_x": null,
       "overflow_y": null,
       "padding": null,
       "right": null,
       "top": null,
       "visibility": null,
       "width": null
      }
     },
     "2891fe046c26419db7b9529f1e1fc8ad": {
      "model_module": "@jupyter-widgets/controls",
      "model_module_version": "1.5.0",
      "model_name": "DescriptionStyleModel",
      "state": {
       "_model_module": "@jupyter-widgets/controls",
       "_model_module_version": "1.5.0",
       "_model_name": "DescriptionStyleModel",
       "_view_count": null,
       "_view_module": "@jupyter-widgets/base",
       "_view_module_version": "1.2.0",
       "_view_name": "StyleView",
       "description_width": ""
      }
     },
     "3f229457eb4d48cc9136b3b3b9c5abfd": {
      "model_module": "@jupyter-widgets/controls",
      "model_module_version": "1.5.0",
      "model_name": "FloatProgressModel",
      "state": {
       "_dom_classes": [],
       "_model_module": "@jupyter-widgets/controls",
       "_model_module_version": "1.5.0",
       "_model_name": "FloatProgressModel",
       "_view_count": null,
       "_view_module": "@jupyter-widgets/controls",
       "_view_module_version": "1.5.0",
       "_view_name": "ProgressView",
       "bar_style": "success",
       "description": "",
       "description_tooltip": null,
       "layout": "IPY_MODEL_003a8e172ed6449099501ad2f1df8aa6",
       "max": 4.0,
       "min": 0.0,
       "orientation": "horizontal",
       "style": "IPY_MODEL_78300b2fa01c458499d1d19df19c94dc",
       "value": 4.0
      }
     },
     "5dffe8c244b44c32846564253c8050fc": {
      "model_module": "@jupyter-widgets/controls",
      "model_module_version": "1.5.0",
      "model_name": "DescriptionStyleModel",
      "state": {
       "_model_module": "@jupyter-widgets/controls",
       "_model_module_version": "1.5.0",
       "_model_name": "DescriptionStyleModel",
       "_view_count": null,
       "_view_module": "@jupyter-widgets/base",
       "_view_module_version": "1.2.0",
       "_view_name": "StyleView",
       "description_width": ""
      }
     },
     "5fc95e43f45640e085f5c9dc23a89af5": {
      "model_module": "@jupyter-widgets/base",
      "model_module_version": "1.2.0",
      "model_name": "LayoutModel",
      "state": {
       "_model_module": "@jupyter-widgets/base",
       "_model_module_version": "1.2.0",
       "_model_name": "LayoutModel",
       "_view_count": null,
       "_view_module": "@jupyter-widgets/base",
       "_view_module_version": "1.2.0",
       "_view_name": "LayoutView",
       "align_content": null,
       "align_items": null,
       "align_self": null,
       "border": null,
       "bottom": null,
       "display": null,
       "flex": null,
       "flex_flow": null,
       "grid_area": null,
       "grid_auto_columns": null,
       "grid_auto_flow": null,
       "grid_auto_rows": null,
       "grid_column": null,
       "grid_gap": null,
       "grid_row": null,
       "grid_template_areas": null,
       "grid_template_columns": null,
       "grid_template_rows": null,
       "height": null,
       "justify_content": null,
       "justify_items": null,
       "left": null,
       "margin": null,
       "max_height": null,
       "max_width": null,
       "min_height": null,
       "min_width": null,
       "object_fit": null,
       "object_position": null,
       "order": null,
       "overflow": null,
       "overflow_x": null,
       "overflow_y": null,
       "padding": null,
       "right": null,
       "top": null,
       "visibility": null,
       "width": null
      }
     },
     "78300b2fa01c458499d1d19df19c94dc": {
      "model_module": "@jupyter-widgets/controls",
      "model_module_version": "1.5.0",
      "model_name": "ProgressStyleModel",
      "state": {
       "_model_module": "@jupyter-widgets/controls",
       "_model_module_version": "1.5.0",
       "_model_name": "ProgressStyleModel",
       "_view_count": null,
       "_view_module": "@jupyter-widgets/base",
       "_view_module_version": "1.2.0",
       "_view_name": "StyleView",
       "bar_color": null,
       "description_width": ""
      }
     },
     "9e0e9c63ea874623a63baa1691e7d11d": {
      "model_module": "@jupyter-widgets/controls",
      "model_module_version": "1.5.0",
      "model_name": "HTMLModel",
      "state": {
       "_dom_classes": [],
       "_model_module": "@jupyter-widgets/controls",
       "_model_module_version": "1.5.0",
       "_model_name": "HTMLModel",
       "_view_count": null,
       "_view_module": "@jupyter-widgets/controls",
       "_view_module_version": "1.5.0",
       "_view_name": "HTMLView",
       "description": "",
       "description_tooltip": null,
       "layout": "IPY_MODEL_061f6f96a8244729acd7d5ae15be7269",
       "placeholder": "​",
       "style": "IPY_MODEL_2891fe046c26419db7b9529f1e1fc8ad",
       "value": " 4/4 [01:37&lt;00:00, 20.94s/it]"
      }
     },
     "a2317179d9814f5b9859108ef8ea485e": {
      "model_module": "@jupyter-widgets/controls",
      "model_module_version": "1.5.0",
      "model_name": "HBoxModel",
      "state": {
       "_dom_classes": [],
       "_model_module": "@jupyter-widgets/controls",
       "_model_module_version": "1.5.0",
       "_model_name": "HBoxModel",
       "_view_count": null,
       "_view_module": "@jupyter-widgets/controls",
       "_view_module_version": "1.5.0",
       "_view_name": "HBoxView",
       "box_style": "",
       "children": [
        "IPY_MODEL_a7fbbeba54e94924a6005e76157e3062",
        "IPY_MODEL_3f229457eb4d48cc9136b3b3b9c5abfd",
        "IPY_MODEL_9e0e9c63ea874623a63baa1691e7d11d"
       ],
       "layout": "IPY_MODEL_5fc95e43f45640e085f5c9dc23a89af5"
      }
     },
     "a7fbbeba54e94924a6005e76157e3062": {
      "model_module": "@jupyter-widgets/controls",
      "model_module_version": "1.5.0",
      "model_name": "HTMLModel",
      "state": {
       "_dom_classes": [],
       "_model_module": "@jupyter-widgets/controls",
       "_model_module_version": "1.5.0",
       "_model_name": "HTMLModel",
       "_view_count": null,
       "_view_module": "@jupyter-widgets/controls",
       "_view_module_version": "1.5.0",
       "_view_name": "HTMLView",
       "description": "",
       "description_tooltip": null,
       "layout": "IPY_MODEL_bf37bc6bfa4a428f999688a68d30e97f",
       "placeholder": "​",
       "style": "IPY_MODEL_5dffe8c244b44c32846564253c8050fc",
       "value": "Loading checkpoint shards: 100%"
      }
     },
     "bf37bc6bfa4a428f999688a68d30e97f": {
      "model_module": "@jupyter-widgets/base",
      "model_module_version": "1.2.0",
      "model_name": "LayoutModel",
      "state": {
       "_model_module": "@jupyter-widgets/base",
       "_model_module_version": "1.2.0",
       "_model_name": "LayoutModel",
       "_view_count": null,
       "_view_module": "@jupyter-widgets/base",
       "_view_module_version": "1.2.0",
       "_view_name": "LayoutView",
       "align_content": null,
       "align_items": null,
       "align_self": null,
       "border": null,
       "bottom": null,
       "display": null,
       "flex": null,
       "flex_flow": null,
       "grid_area": null,
       "grid_auto_columns": null,
       "grid_auto_flow": null,
       "grid_auto_rows": null,
       "grid_column": null,
       "grid_gap": null,
       "grid_row": null,
       "grid_template_areas": null,
       "grid_template_columns": null,
       "grid_template_rows": null,
       "height": null,
       "justify_content": null,
       "justify_items": null,
       "left": null,
       "margin": null,
       "max_height": null,
       "max_width": null,
       "min_height": null,
       "min_width": null,
       "object_fit": null,
       "object_position": null,
       "order": null,
       "overflow": null,
       "overflow_x": null,
       "overflow_y": null,
       "padding": null,
       "right": null,
       "top": null,
       "visibility": null,
       "width": null
      }
     }
    },
    "version_major": 2,
    "version_minor": 0
   }
  }
 },
 "nbformat": 4,
 "nbformat_minor": 5
}
