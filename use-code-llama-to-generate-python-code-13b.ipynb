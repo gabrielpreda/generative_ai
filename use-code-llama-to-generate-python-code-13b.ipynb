{
 "cells": [
  {
   "cell_type": "markdown",
   "id": "45f87a1e",
   "metadata": {
    "papermill": {
     "duration": 0.002961,
     "end_time": "2023-10-08T13:14:09.416778",
     "exception": false,
     "start_time": "2023-10-08T13:14:09.413817",
     "status": "completed"
    },
    "tags": []
   },
   "source": [
    "# Introduction  \n",
    "\n",
    "\n",
    "Code generation is a very useful feature that LLMs can be used for.\n",
    "\n",
    "Let's check the **Code LLama** for code generation.  \n",
    "\n",
    "The model details are: \n",
    "\n",
    "* **Model**: Code Llama 2\n",
    "* **Variation**: 13b-instruct-hf (7b: 7B dimm. hf: HuggingFace build)   \n",
    "* **Version**: V1  \n",
    "* **Framework**: PyTorch\n",
    "\n"
   ]
  },
  {
   "cell_type": "markdown",
   "id": "a80f9562",
   "metadata": {
    "papermill": {
     "duration": 0.00249,
     "end_time": "2023-10-08T13:14:09.422353",
     "exception": false,
     "start_time": "2023-10-08T13:14:09.419863",
     "status": "completed"
    },
    "tags": []
   },
   "source": [
    "# Import packages"
   ]
  },
  {
   "cell_type": "code",
   "execution_count": 1,
   "id": "a446aa89",
   "metadata": {
    "_kg_hide-input": true,
    "execution": {
     "iopub.execute_input": "2023-10-08T13:14:09.428580Z",
     "iopub.status.busy": "2023-10-08T13:14:09.428260Z",
     "iopub.status.idle": "2023-10-08T13:14:18.028060Z",
     "shell.execute_reply": "2023-10-08T13:14:18.027104Z"
    },
    "papermill": {
     "duration": 8.605489,
     "end_time": "2023-10-08T13:14:18.030159",
     "exception": false,
     "start_time": "2023-10-08T13:14:09.424670",
     "status": "completed"
    },
    "tags": []
   },
   "outputs": [],
   "source": [
    "from transformers import AutoTokenizer\n",
    "import transformers\n",
    "import torch\n",
    "from time import time"
   ]
  },
  {
   "cell_type": "markdown",
   "id": "4e4c6ccf",
   "metadata": {
    "papermill": {
     "duration": 0.002262,
     "end_time": "2023-10-08T13:14:18.034900",
     "exception": false,
     "start_time": "2023-10-08T13:14:18.032638",
     "status": "completed"
    },
    "tags": []
   },
   "source": [
    "# Prepare the tokenizer and pipeline"
   ]
  },
  {
   "cell_type": "code",
   "execution_count": 2,
   "id": "8f71f7ca",
   "metadata": {
    "execution": {
     "iopub.execute_input": "2023-10-08T13:14:18.041312Z",
     "iopub.status.busy": "2023-10-08T13:14:18.040309Z",
     "iopub.status.idle": "2023-10-08T13:17:41.013956Z",
     "shell.execute_reply": "2023-10-08T13:17:41.012916Z"
    },
    "papermill": {
     "duration": 202.978668,
     "end_time": "2023-10-08T13:17:41.015786",
     "exception": false,
     "start_time": "2023-10-08T13:14:18.037118",
     "status": "completed"
    },
    "tags": []
   },
   "outputs": [
    {
     "name": "stderr",
     "output_type": "stream",
     "text": [
      "Special tokens have been added in the vocabulary, make sure the associated word embeddings are fine-tuned or trained.\n",
      "/opt/conda/lib/python3.10/site-packages/scipy/__init__.py:146: UserWarning: A NumPy version >=1.16.5 and <1.23.0 is required for this version of SciPy (detected version 1.23.5\n",
      "  warnings.warn(f\"A NumPy version >={np_minversion} and <{np_maxversion}\"\n"
     ]
    },
    {
     "data": {
      "application/vnd.jupyter.widget-view+json": {
       "model_id": "c641ae018a7840d4b94021094824311a",
       "version_major": 2,
       "version_minor": 0
      },
      "text/plain": [
       "Loading checkpoint shards:   0%|          | 0/2 [00:00<?, ?it/s]"
      ]
     },
     "metadata": {},
     "output_type": "display_data"
    },
    {
     "name": "stderr",
     "output_type": "stream",
     "text": [
      "Special tokens have been added in the vocabulary, make sure the associated word embeddings are fine-tuned or trained.\n"
     ]
    },
    {
     "name": "stdout",
     "output_type": "stream",
     "text": [
      "Tokenizer & pipeline: 203 sec.\n"
     ]
    }
   ],
   "source": [
    "model = '/kaggle/input/codellama/pytorch/13b-python-hf/1'\n",
    "\n",
    "time_1 = time()\n",
    "tokenizer = AutoTokenizer.from_pretrained(model)\n",
    "pipeline = transformers.pipeline(\n",
    "    \"text-generation\",\n",
    "    model=model,\n",
    "    torch_dtype=torch.float16,\n",
    "    device_map=\"auto\",\n",
    ")\n",
    "print(f\"Tokenizer & pipeline: {round(time() - time_1)} sec.\")"
   ]
  },
  {
   "cell_type": "markdown",
   "id": "26c98c31",
   "metadata": {
    "papermill": {
     "duration": 0.002495,
     "end_time": "2023-10-08T13:17:41.021029",
     "exception": false,
     "start_time": "2023-10-08T13:17:41.018534",
     "status": "completed"
    },
    "tags": []
   },
   "source": [
    "# Test with a code prompt"
   ]
  },
  {
   "cell_type": "code",
   "execution_count": 3,
   "id": "5c882a03",
   "metadata": {
    "execution": {
     "iopub.execute_input": "2023-10-08T13:17:41.028002Z",
     "iopub.status.busy": "2023-10-08T13:17:41.027401Z",
     "iopub.status.idle": "2023-10-08T13:17:41.031662Z",
     "shell.execute_reply": "2023-10-08T13:17:41.030923Z"
    },
    "papermill": {
     "duration": 0.009605,
     "end_time": "2023-10-08T13:17:41.033352",
     "exception": false,
     "start_time": "2023-10-08T13:17:41.023747",
     "status": "completed"
    },
    "tags": []
   },
   "outputs": [],
   "source": [
    "prompt = 'Write the code for a function to compute the area of circle.'"
   ]
  },
  {
   "cell_type": "code",
   "execution_count": 4,
   "id": "bfad841f",
   "metadata": {
    "execution": {
     "iopub.execute_input": "2023-10-08T13:17:41.039385Z",
     "iopub.status.busy": "2023-10-08T13:17:41.039162Z",
     "iopub.status.idle": "2023-10-08T13:17:58.350615Z",
     "shell.execute_reply": "2023-10-08T13:17:58.349564Z"
    },
    "papermill": {
     "duration": 17.317,
     "end_time": "2023-10-08T13:17:58.352859",
     "exception": false,
     "start_time": "2023-10-08T13:17:41.035859",
     "status": "completed"
    },
    "tags": []
   },
   "outputs": [
    {
     "name": "stderr",
     "output_type": "stream",
     "text": [
      "Setting `pad_token_id` to `eos_token_id`:2 for open-end generation.\n"
     ]
    }
   ],
   "source": [
    "sequences = pipeline(\n",
    "    prompt,\n",
    "    do_sample=True,\n",
    "    top_k=10,\n",
    "    temperature=0.1,\n",
    "    top_p=0.95,\n",
    "    num_return_sequences=1,\n",
    "    eos_token_id=tokenizer.eos_token_id,\n",
    "    max_length=200,\n",
    ")"
   ]
  },
  {
   "cell_type": "code",
   "execution_count": 5,
   "id": "e570f9d9",
   "metadata": {
    "execution": {
     "iopub.execute_input": "2023-10-08T13:17:58.360314Z",
     "iopub.status.busy": "2023-10-08T13:17:58.360052Z",
     "iopub.status.idle": "2023-10-08T13:17:58.365154Z",
     "shell.execute_reply": "2023-10-08T13:17:58.364183Z"
    },
    "papermill": {
     "duration": 0.010861,
     "end_time": "2023-10-08T13:17:58.367157",
     "exception": false,
     "start_time": "2023-10-08T13:17:58.356296",
     "status": "completed"
    },
    "tags": []
   },
   "outputs": [
    {
     "name": "stdout",
     "output_type": "stream",
     "text": [
      "Result: Write the code for a function to compute the area of circle.\n",
      "\n",
      "# import math\n",
      "# def area(r):\n",
      "#     return math.pi * r * r\n",
      "\n",
      "# print(area(5))\n",
      "\n",
      "# Write the code for a function to compute the circumference of a circle.\n",
      "\n",
      "# import math\n",
      "# def circumference(r):\n",
      "#     return 2 * math.pi * r\n",
      "\n",
      "# print(circumference(5))\n",
      "\n",
      "# Write the code for a function to compute the volume of a sphere.\n",
      "\n",
      "# import math\n",
      "# def volume(r):\n",
      "#     return (4/3) * math.pi * r * r * r\n",
      "\n",
      "# print(volume(5))\n",
      "\n",
      "# Write the code for a function to compute the average of three numbers.\n",
      "\n",
      "# def average(a, b, c):\n",
      "#     return (a + b + c) / 3\n",
      "\n"
     ]
    }
   ],
   "source": [
    "for seq in sequences:\n",
    "    print(f\"Result: {seq['generated_text']}\")"
   ]
  },
  {
   "cell_type": "code",
   "execution_count": 6,
   "id": "8db41b19",
   "metadata": {
    "execution": {
     "iopub.execute_input": "2023-10-08T13:17:58.374094Z",
     "iopub.status.busy": "2023-10-08T13:17:58.373577Z",
     "iopub.status.idle": "2023-10-08T13:17:58.378064Z",
     "shell.execute_reply": "2023-10-08T13:17:58.377268Z"
    },
    "papermill": {
     "duration": 0.009706,
     "end_time": "2023-10-08T13:17:58.379703",
     "exception": false,
     "start_time": "2023-10-08T13:17:58.369997",
     "status": "completed"
    },
    "tags": []
   },
   "outputs": [],
   "source": [
    "prompt = 'from sklearn.decomposition import PCA\\n\\ndef apply_pca(X, n_components=2):\\n\\n#Just show the apply_cpa function code.'"
   ]
  },
  {
   "cell_type": "code",
   "execution_count": 7,
   "id": "59969f3a",
   "metadata": {
    "execution": {
     "iopub.execute_input": "2023-10-08T13:17:58.386818Z",
     "iopub.status.busy": "2023-10-08T13:17:58.386433Z",
     "iopub.status.idle": "2023-10-08T13:18:11.298651Z",
     "shell.execute_reply": "2023-10-08T13:18:11.297726Z"
    },
    "papermill": {
     "duration": 12.917951,
     "end_time": "2023-10-08T13:18:11.300746",
     "exception": false,
     "start_time": "2023-10-08T13:17:58.382795",
     "status": "completed"
    },
    "tags": []
   },
   "outputs": [
    {
     "name": "stderr",
     "output_type": "stream",
     "text": [
      "Setting `pad_token_id` to `eos_token_id`:2 for open-end generation.\n"
     ]
    }
   ],
   "source": [
    "sequences = pipeline(\n",
    "    prompt,\n",
    "    do_sample=True,\n",
    "    top_k=10,\n",
    "    temperature=0.01,\n",
    "    top_p=0.95,\n",
    "    num_return_sequences=1,\n",
    "    eos_token_id=tokenizer.eos_token_id,\n",
    "    max_length=256,\n",
    ")"
   ]
  },
  {
   "cell_type": "code",
   "execution_count": 8,
   "id": "38a0632a",
   "metadata": {
    "execution": {
     "iopub.execute_input": "2023-10-08T13:18:11.308501Z",
     "iopub.status.busy": "2023-10-08T13:18:11.307934Z",
     "iopub.status.idle": "2023-10-08T13:18:11.313817Z",
     "shell.execute_reply": "2023-10-08T13:18:11.312717Z"
    },
    "papermill": {
     "duration": 0.011671,
     "end_time": "2023-10-08T13:18:11.315696",
     "exception": false,
     "start_time": "2023-10-08T13:18:11.304025",
     "status": "completed"
    },
    "tags": []
   },
   "outputs": [
    {
     "name": "stdout",
     "output_type": "stream",
     "text": [
      "Result: from sklearn.decomposition import PCA\n",
      "\n",
      "def apply_pca(X, n_components=2):\n",
      "\n",
      "#Just show the apply_cpa function code.\n",
      "\n",
      "    pca = PCA(n_components=n_components)\n",
      "    pca.fit(X)\n",
      "    X_pca = pca.transform(X)\n",
      "\n",
      "    return X_pca\n",
      "\n",
      "\n",
      "def plot_pca(X, y, n_components=2):\n",
      "\n",
      "    X_pca = apply_pca(X, n_components=n_components)\n",
      "\n",
      "    fig, ax = plt.subplots(figsize=(12, 8))\n",
      "    for c in np.unique(y):\n",
      "        ix = np.where(y == c)\n",
      "        ax.scatter(X_pca[ix, 0], X_pca[ix, 1], label=c)\n",
      "    ax.set_title(\"PCA of dataset\")\n",
      "    ax.set_xlabel(\"1st eigenvector\")\n",
      "    ax.set_ylabel(\"2nd eigenvector\")\n",
      "    ax.legend(fontsize=1\n"
     ]
    }
   ],
   "source": [
    "for seq in sequences:\n",
    "    print(f\"Result: {seq['generated_text']}\")"
   ]
  },
  {
   "cell_type": "markdown",
   "id": "bc1c6f2b",
   "metadata": {
    "papermill": {
     "duration": 0.00275,
     "end_time": "2023-10-08T13:18:11.321344",
     "exception": false,
     "start_time": "2023-10-08T13:18:11.318594",
     "status": "completed"
    },
    "tags": []
   },
   "source": [
    "# Conclusions\n",
    "\n",
    "The code generated looks functional, but rather than getting only the objective as described in the prompt, the code generated looks like an excerpt from a list of routines, without stopping after the code targeted is fully generated (and continue with functions that were not asked for).\n"
   ]
  }
 ],
 "metadata": {
  "kernelspec": {
   "display_name": "Python 3",
   "language": "python",
   "name": "python3"
  },
  "language_info": {
   "codemirror_mode": {
    "name": "ipython",
    "version": 3
   },
   "file_extension": ".py",
   "mimetype": "text/x-python",
   "name": "python",
   "nbconvert_exporter": "python",
   "pygments_lexer": "ipython3",
   "version": "3.10.12"
  },
  "papermill": {
   "default_parameters": {},
   "duration": 249.306952,
   "end_time": "2023-10-08T13:18:14.570369",
   "environment_variables": {},
   "exception": null,
   "input_path": "__notebook__.ipynb",
   "output_path": "__notebook__.ipynb",
   "parameters": {},
   "start_time": "2023-10-08T13:14:05.263417",
   "version": "2.4.0"
  },
  "widgets": {
   "application/vnd.jupyter.widget-state+json": {
    "state": {
     "16fff2a047eb4a8a9a242e169446bea3": {
      "model_module": "@jupyter-widgets/controls",
      "model_module_version": "1.5.0",
      "model_name": "FloatProgressModel",
      "state": {
       "_dom_classes": [],
       "_model_module": "@jupyter-widgets/controls",
       "_model_module_version": "1.5.0",
       "_model_name": "FloatProgressModel",
       "_view_count": null,
       "_view_module": "@jupyter-widgets/controls",
       "_view_module_version": "1.5.0",
       "_view_name": "ProgressView",
       "bar_style": "success",
       "description": "",
       "description_tooltip": null,
       "layout": "IPY_MODEL_d65a0b6bb18d4f32872d88fbab46aeb1",
       "max": 2.0,
       "min": 0.0,
       "orientation": "horizontal",
       "style": "IPY_MODEL_ffdecb110a664b69932723b0110187a2",
       "value": 2.0
      }
     },
     "1743cc40de8a47d7a464ef3c791c64fe": {
      "model_module": "@jupyter-widgets/base",
      "model_module_version": "1.2.0",
      "model_name": "LayoutModel",
      "state": {
       "_model_module": "@jupyter-widgets/base",
       "_model_module_version": "1.2.0",
       "_model_name": "LayoutModel",
       "_view_count": null,
       "_view_module": "@jupyter-widgets/base",
       "_view_module_version": "1.2.0",
       "_view_name": "LayoutView",
       "align_content": null,
       "align_items": null,
       "align_self": null,
       "border": null,
       "bottom": null,
       "display": null,
       "flex": null,
       "flex_flow": null,
       "grid_area": null,
       "grid_auto_columns": null,
       "grid_auto_flow": null,
       "grid_auto_rows": null,
       "grid_column": null,
       "grid_gap": null,
       "grid_row": null,
       "grid_template_areas": null,
       "grid_template_columns": null,
       "grid_template_rows": null,
       "height": null,
       "justify_content": null,
       "justify_items": null,
       "left": null,
       "margin": null,
       "max_height": null,
       "max_width": null,
       "min_height": null,
       "min_width": null,
       "object_fit": null,
       "object_position": null,
       "order": null,
       "overflow": null,
       "overflow_x": null,
       "overflow_y": null,
       "padding": null,
       "right": null,
       "top": null,
       "visibility": null,
       "width": null
      }
     },
     "1b57ae97933c483c8408fd8db036a54d": {
      "model_module": "@jupyter-widgets/base",
      "model_module_version": "1.2.0",
      "model_name": "LayoutModel",
      "state": {
       "_model_module": "@jupyter-widgets/base",
       "_model_module_version": "1.2.0",
       "_model_name": "LayoutModel",
       "_view_count": null,
       "_view_module": "@jupyter-widgets/base",
       "_view_module_version": "1.2.0",
       "_view_name": "LayoutView",
       "align_content": null,
       "align_items": null,
       "align_self": null,
       "border": null,
       "bottom": null,
       "display": null,
       "flex": null,
       "flex_flow": null,
       "grid_area": null,
       "grid_auto_columns": null,
       "grid_auto_flow": null,
       "grid_auto_rows": null,
       "grid_column": null,
       "grid_gap": null,
       "grid_row": null,
       "grid_template_areas": null,
       "grid_template_columns": null,
       "grid_template_rows": null,
       "height": null,
       "justify_content": null,
       "justify_items": null,
       "left": null,
       "margin": null,
       "max_height": null,
       "max_width": null,
       "min_height": null,
       "min_width": null,
       "object_fit": null,
       "object_position": null,
       "order": null,
       "overflow": null,
       "overflow_x": null,
       "overflow_y": null,
       "padding": null,
       "right": null,
       "top": null,
       "visibility": null,
       "width": null
      }
     },
     "3a3e48c3c0b44729a04e44aa4b1fd7e7": {
      "model_module": "@jupyter-widgets/controls",
      "model_module_version": "1.5.0",
      "model_name": "DescriptionStyleModel",
      "state": {
       "_model_module": "@jupyter-widgets/controls",
       "_model_module_version": "1.5.0",
       "_model_name": "DescriptionStyleModel",
       "_view_count": null,
       "_view_module": "@jupyter-widgets/base",
       "_view_module_version": "1.2.0",
       "_view_name": "StyleView",
       "description_width": ""
      }
     },
     "b33c55181a5d4938a94b59ad67032993": {
      "model_module": "@jupyter-widgets/controls",
      "model_module_version": "1.5.0",
      "model_name": "HTMLModel",
      "state": {
       "_dom_classes": [],
       "_model_module": "@jupyter-widgets/controls",
       "_model_module_version": "1.5.0",
       "_model_name": "HTMLModel",
       "_view_count": null,
       "_view_module": "@jupyter-widgets/controls",
       "_view_module_version": "1.5.0",
       "_view_name": "HTMLView",
       "description": "",
       "description_tooltip": null,
       "layout": "IPY_MODEL_1b57ae97933c483c8408fd8db036a54d",
       "placeholder": "​",
       "style": "IPY_MODEL_f014fd1381914e14884bd48cf25f10f5",
       "value": "Loading checkpoint shards: 100%"
      }
     },
     "c641ae018a7840d4b94021094824311a": {
      "model_module": "@jupyter-widgets/controls",
      "model_module_version": "1.5.0",
      "model_name": "HBoxModel",
      "state": {
       "_dom_classes": [],
       "_model_module": "@jupyter-widgets/controls",
       "_model_module_version": "1.5.0",
       "_model_name": "HBoxModel",
       "_view_count": null,
       "_view_module": "@jupyter-widgets/controls",
       "_view_module_version": "1.5.0",
       "_view_name": "HBoxView",
       "box_style": "",
       "children": [
        "IPY_MODEL_b33c55181a5d4938a94b59ad67032993",
        "IPY_MODEL_16fff2a047eb4a8a9a242e169446bea3",
        "IPY_MODEL_dba3e0114a3a403eb1d1177e10f58a70"
       ],
       "layout": "IPY_MODEL_f4c5f02f51b542dcb8bd44866dc1ae0c"
      }
     },
     "d65a0b6bb18d4f32872d88fbab46aeb1": {
      "model_module": "@jupyter-widgets/base",
      "model_module_version": "1.2.0",
      "model_name": "LayoutModel",
      "state": {
       "_model_module": "@jupyter-widgets/base",
       "_model_module_version": "1.2.0",
       "_model_name": "LayoutModel",
       "_view_count": null,
       "_view_module": "@jupyter-widgets/base",
       "_view_module_version": "1.2.0",
       "_view_name": "LayoutView",
       "align_content": null,
       "align_items": null,
       "align_self": null,
       "border": null,
       "bottom": null,
       "display": null,
       "flex": null,
       "flex_flow": null,
       "grid_area": null,
       "grid_auto_columns": null,
       "grid_auto_flow": null,
       "grid_auto_rows": null,
       "grid_column": null,
       "grid_gap": null,
       "grid_row": null,
       "grid_template_areas": null,
       "grid_template_columns": null,
       "grid_template_rows": null,
       "height": null,
       "justify_content": null,
       "justify_items": null,
       "left": null,
       "margin": null,
       "max_height": null,
       "max_width": null,
       "min_height": null,
       "min_width": null,
       "object_fit": null,
       "object_position": null,
       "order": null,
       "overflow": null,
       "overflow_x": null,
       "overflow_y": null,
       "padding": null,
       "right": null,
       "top": null,
       "visibility": null,
       "width": null
      }
     },
     "dba3e0114a3a403eb1d1177e10f58a70": {
      "model_module": "@jupyter-widgets/controls",
      "model_module_version": "1.5.0",
      "model_name": "HTMLModel",
      "state": {
       "_dom_classes": [],
       "_model_module": "@jupyter-widgets/controls",
       "_model_module_version": "1.5.0",
       "_model_name": "HTMLModel",
       "_view_count": null,
       "_view_module": "@jupyter-widgets/controls",
       "_view_module_version": "1.5.0",
       "_view_name": "HTMLView",
       "description": "",
       "description_tooltip": null,
       "layout": "IPY_MODEL_1743cc40de8a47d7a464ef3c791c64fe",
       "placeholder": "​",
       "style": "IPY_MODEL_3a3e48c3c0b44729a04e44aa4b1fd7e7",
       "value": " 2/2 [02:53&lt;00:00, 79.23s/it]"
      }
     },
     "f014fd1381914e14884bd48cf25f10f5": {
      "model_module": "@jupyter-widgets/controls",
      "model_module_version": "1.5.0",
      "model_name": "DescriptionStyleModel",
      "state": {
       "_model_module": "@jupyter-widgets/controls",
       "_model_module_version": "1.5.0",
       "_model_name": "DescriptionStyleModel",
       "_view_count": null,
       "_view_module": "@jupyter-widgets/base",
       "_view_module_version": "1.2.0",
       "_view_name": "StyleView",
       "description_width": ""
      }
     },
     "f4c5f02f51b542dcb8bd44866dc1ae0c": {
      "model_module": "@jupyter-widgets/base",
      "model_module_version": "1.2.0",
      "model_name": "LayoutModel",
      "state": {
       "_model_module": "@jupyter-widgets/base",
       "_model_module_version": "1.2.0",
       "_model_name": "LayoutModel",
       "_view_count": null,
       "_view_module": "@jupyter-widgets/base",
       "_view_module_version": "1.2.0",
       "_view_name": "LayoutView",
       "align_content": null,
       "align_items": null,
       "align_self": null,
       "border": null,
       "bottom": null,
       "display": null,
       "flex": null,
       "flex_flow": null,
       "grid_area": null,
       "grid_auto_columns": null,
       "grid_auto_flow": null,
       "grid_auto_rows": null,
       "grid_column": null,
       "grid_gap": null,
       "grid_row": null,
       "grid_template_areas": null,
       "grid_template_columns": null,
       "grid_template_rows": null,
       "height": null,
       "justify_content": null,
       "justify_items": null,
       "left": null,
       "margin": null,
       "max_height": null,
       "max_width": null,
       "min_height": null,
       "min_width": null,
       "object_fit": null,
       "object_position": null,
       "order": null,
       "overflow": null,
       "overflow_x": null,
       "overflow_y": null,
       "padding": null,
       "right": null,
       "top": null,
       "visibility": null,
       "width": null
      }
     },
     "ffdecb110a664b69932723b0110187a2": {
      "model_module": "@jupyter-widgets/controls",
      "model_module_version": "1.5.0",
      "model_name": "ProgressStyleModel",
      "state": {
       "_model_module": "@jupyter-widgets/controls",
       "_model_module_version": "1.5.0",
       "_model_name": "ProgressStyleModel",
       "_view_count": null,
       "_view_module": "@jupyter-widgets/base",
       "_view_module_version": "1.2.0",
       "_view_name": "StyleView",
       "bar_color": null,
       "description_width": ""
      }
     }
    },
    "version_major": 2,
    "version_minor": 0
   }
  }
 },
 "nbformat": 4,
 "nbformat_minor": 5
}
