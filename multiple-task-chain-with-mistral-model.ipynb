{
 "cells": [
  {
   "cell_type": "markdown",
   "id": "6f48868a",
   "metadata": {
    "papermill": {
     "duration": 0.006622,
     "end_time": "2024-04-15T19:40:36.403559",
     "exception": false,
     "start_time": "2024-04-15T19:40:36.396937",
     "status": "completed"
    },
    "tags": []
   },
   "source": [
    "# Introduction   \n",
    "\n",
    "\n",
    "We will experiment now with the Mistral model.\n",
    "\n",
    "\n",
    "## Model specification  \n",
    "\n",
    "The model details are:\n",
    "\n",
    "* **Model**: Mistral\n",
    "* **Variation**: 7b-v0.1-hf (7b: 7B dimm. hf: HuggingFace build)\n",
    "* **Version**: V1\n",
    "* **Framework**: PyTorch"
   ]
  },
  {
   "cell_type": "markdown",
   "id": "de564d95",
   "metadata": {
    "papermill": {
     "duration": 0.00592,
     "end_time": "2024-04-15T19:40:36.416182",
     "exception": false,
     "start_time": "2024-04-15T19:40:36.410262",
     "status": "completed"
    },
    "tags": []
   },
   "source": [
    "# Install and import packages  "
   ]
  },
  {
   "cell_type": "code",
   "execution_count": 1,
   "id": "7f0f2fbc",
   "metadata": {
    "_kg_hide-input": true,
    "_kg_hide-output": true,
    "execution": {
     "iopub.execute_input": "2024-04-15T19:40:36.430223Z",
     "iopub.status.busy": "2024-04-15T19:40:36.429924Z",
     "iopub.status.idle": "2024-04-15T19:41:38.107023Z",
     "shell.execute_reply": "2024-04-15T19:41:38.105818Z"
    },
    "papermill": {
     "duration": 61.686879,
     "end_time": "2024-04-15T19:41:38.109385",
     "exception": false,
     "start_time": "2024-04-15T19:40:36.422506",
     "status": "completed"
    },
    "tags": []
   },
   "outputs": [],
   "source": [
    "!pip install -q -U transformers\n",
    "!pip install -q -U accelerate\n",
    "!pip install -q -U bitsandbytes"
   ]
  },
  {
   "cell_type": "code",
   "execution_count": 2,
   "id": "9012ceaf",
   "metadata": {
    "_kg_hide-input": true,
    "_kg_hide-output": true,
    "execution": {
     "iopub.execute_input": "2024-04-15T19:41:38.124253Z",
     "iopub.status.busy": "2024-04-15T19:41:38.123933Z",
     "iopub.status.idle": "2024-04-15T19:42:27.476437Z",
     "shell.execute_reply": "2024-04-15T19:42:27.475538Z"
    },
    "papermill": {
     "duration": 49.362772,
     "end_time": "2024-04-15T19:42:27.478891",
     "exception": false,
     "start_time": "2024-04-15T19:41:38.116119",
     "status": "completed"
    },
    "tags": []
   },
   "outputs": [
    {
     "name": "stdout",
     "output_type": "stream",
     "text": [
      "\u001b[31mERROR: pip's dependency resolver does not currently take into account all the packages that are installed. This behaviour is the source of the following dependency conflicts.\r\n",
      "cudf 23.8.0 requires cupy-cuda11x>=12.0.0, which is not installed.\r\n",
      "cuml 23.8.0 requires cupy-cuda11x>=12.0.0, which is not installed.\r\n",
      "dask-cudf 23.8.0 requires cupy-cuda11x>=12.0.0, which is not installed.\r\n",
      "apache-beam 2.46.0 requires dill<0.3.2,>=0.3.1.1, but you have dill 0.3.7 which is incompatible.\r\n",
      "apache-beam 2.46.0 requires pyarrow<10.0.0,>=3.0.0, but you have pyarrow 11.0.0 which is incompatible.\r\n",
      "cudf 23.8.0 requires pandas<1.6.0dev0,>=1.3, but you have pandas 2.0.2 which is incompatible.\r\n",
      "cudf 23.8.0 requires protobuf<5,>=4.21, but you have protobuf 3.20.3 which is incompatible.\r\n",
      "cuml 23.8.0 requires dask==2023.7.1, but you have dask 2023.9.0 which is incompatible.\r\n",
      "dask-cuda 23.8.0 requires dask==2023.7.1, but you have dask 2023.9.0 which is incompatible.\r\n",
      "dask-cuda 23.8.0 requires pandas<1.6.0dev0,>=1.3, but you have pandas 2.0.2 which is incompatible.\r\n",
      "dask-cudf 23.8.0 requires dask==2023.7.1, but you have dask 2023.9.0 which is incompatible.\r\n",
      "dask-cudf 23.8.0 requires pandas<1.6.0dev0,>=1.3, but you have pandas 2.0.2 which is incompatible.\r\n",
      "distributed 2023.7.1 requires dask==2023.7.1, but you have dask 2023.9.0 which is incompatible.\r\n",
      "google-cloud-bigquery 2.34.4 requires packaging<22.0dev,>=14.3, but you have packaging 23.2 which is incompatible.\r\n",
      "jupyterlab-lsp 4.2.0 requires jupyter-lsp>=2.0.0, but you have jupyter-lsp 1.5.1 which is incompatible.\r\n",
      "momepy 0.6.0 requires shapely>=2, but you have shapely 1.8.5.post1 which is incompatible.\r\n",
      "pymc3 3.11.5 requires numpy<1.22.2,>=1.15.0, but you have numpy 1.23.5 which is incompatible.\r\n",
      "pymc3 3.11.5 requires scipy<1.8.0,>=1.7.3, but you have scipy 1.11.2 which is incompatible.\r\n",
      "raft-dask 23.8.0 requires dask==2023.7.1, but you have dask 2023.9.0 which is incompatible.\r\n",
      "ydata-profiling 4.3.1 requires scipy<1.11,>=1.4.1, but you have scipy 1.11.2 which is incompatible.\u001b[0m\u001b[31m\r\n",
      "\u001b[0m"
     ]
    }
   ],
   "source": [
    "!pip install -q -U langchain"
   ]
  },
  {
   "cell_type": "code",
   "execution_count": 3,
   "id": "cd6a7054",
   "metadata": {
    "_kg_hide-input": true,
    "execution": {
     "iopub.execute_input": "2024-04-15T19:42:27.493010Z",
     "iopub.status.busy": "2024-04-15T19:42:27.492679Z",
     "iopub.status.idle": "2024-04-15T19:42:49.443999Z",
     "shell.execute_reply": "2024-04-15T19:42:49.443142Z"
    },
    "papermill": {
     "duration": 21.961186,
     "end_time": "2024-04-15T19:42:49.446412",
     "exception": false,
     "start_time": "2024-04-15T19:42:27.485226",
     "status": "completed"
    },
    "tags": []
   },
   "outputs": [
    {
     "name": "stderr",
     "output_type": "stream",
     "text": [
      "/opt/conda/lib/python3.10/site-packages/scipy/__init__.py:146: UserWarning: A NumPy version >=1.16.5 and <1.23.0 is required for this version of SciPy (detected version 1.23.5\n",
      "  warnings.warn(f\"A NumPy version >={np_minversion} and <{np_maxversion}\"\n"
     ]
    }
   ],
   "source": [
    "import torch\n",
    "from time import time\n",
    "from transformers import AutoTokenizer, AutoModelForCausalLM, pipeline\n",
    "from transformers import pipeline\n",
    "from langchain.llms import HuggingFacePipeline\n",
    "from langchain.chains import LLMChain, SimpleSequentialChain\n",
    "from langchain import PromptTemplate"
   ]
  },
  {
   "cell_type": "markdown",
   "id": "d6462d99",
   "metadata": {
    "papermill": {
     "duration": 0.00601,
     "end_time": "2024-04-15T19:42:49.459123",
     "exception": false,
     "start_time": "2024-04-15T19:42:49.453113",
     "status": "completed"
    },
    "tags": []
   },
   "source": [
    "# Define model  "
   ]
  },
  {
   "cell_type": "code",
   "execution_count": 4,
   "id": "f4e18da4",
   "metadata": {
    "_kg_hide-input": true,
    "execution": {
     "iopub.execute_input": "2024-04-15T19:42:49.473320Z",
     "iopub.status.busy": "2024-04-15T19:42:49.472829Z",
     "iopub.status.idle": "2024-04-15T19:45:46.999472Z",
     "shell.execute_reply": "2024-04-15T19:45:46.998442Z"
    },
    "papermill": {
     "duration": 177.53602,
     "end_time": "2024-04-15T19:45:47.001462",
     "exception": false,
     "start_time": "2024-04-15T19:42:49.465442",
     "status": "completed"
    },
    "tags": []
   },
   "outputs": [
    {
     "data": {
      "application/vnd.jupyter.widget-view+json": {
       "model_id": "ddbd976427f24adc991fa51d4ea52df1",
       "version_major": 2,
       "version_minor": 0
      },
      "text/plain": [
       "Loading checkpoint shards:   0%|          | 0/2 [00:00<?, ?it/s]"
      ]
     },
     "metadata": {},
     "output_type": "display_data"
    },
    {
     "name": "stderr",
     "output_type": "stream",
     "text": [
      "/opt/conda/lib/python3.10/site-packages/torch/_utils.py:776: UserWarning: TypedStorage is deprecated. It will be removed in the future and UntypedStorage will be the only storage class. This should only matter to you if you are using storages directly.  To access UntypedStorage directly, use tensor.untyped_storage() instead of tensor.storage()\n",
      "  return self.fget.__get__(instance, owner)()\n"
     ]
    },
    {
     "name": "stdout",
     "output_type": "stream",
     "text": [
      "Tokenizer & pipeline: 178 sec.\n"
     ]
    }
   ],
   "source": [
    "model_id = '/kaggle/input/mistral/pytorch/7b-instruct-v0.1-hf/1'\n",
    "time_1 = time()\n",
    "tokenizer = AutoTokenizer.from_pretrained(model_id)\n",
    "model_name = AutoModelForCausalLM.from_pretrained(\n",
    "        model_id,\n",
    "        torch_dtype=torch.bfloat16,\n",
    "        device_map=\"auto\",\n",
    "        trust_remote_code=True,\n",
    "    )\n",
    "print(f\"Tokenizer & pipeline: {round(time() - time_1)} sec.\")"
   ]
  },
  {
   "cell_type": "markdown",
   "id": "14f9cd07",
   "metadata": {
    "papermill": {
     "duration": 0.006418,
     "end_time": "2024-04-15T19:45:47.014870",
     "exception": false,
     "start_time": "2024-04-15T19:45:47.008452",
     "status": "completed"
    },
    "tags": []
   },
   "source": [
    "# Test model  \n",
    "\n",
    "Let's test the model."
   ]
  },
  {
   "cell_type": "code",
   "execution_count": 5,
   "id": "6dfb3649",
   "metadata": {
    "_kg_hide-input": true,
    "execution": {
     "iopub.execute_input": "2024-04-15T19:45:47.029517Z",
     "iopub.status.busy": "2024-04-15T19:45:47.029208Z",
     "iopub.status.idle": "2024-04-15T19:45:47.035318Z",
     "shell.execute_reply": "2024-04-15T19:45:47.034407Z"
    },
    "papermill": {
     "duration": 0.015774,
     "end_time": "2024-04-15T19:45:47.037350",
     "exception": false,
     "start_time": "2024-04-15T19:45:47.021576",
     "status": "completed"
    },
    "tags": []
   },
   "outputs": [
    {
     "name": "stdout",
     "output_type": "stream",
     "text": [
      "Prepare pipeline: 0.0 sec.\n"
     ]
    }
   ],
   "source": [
    "time_1 = time()\n",
    "query_pipeline = pipeline(\n",
    "        \"text-generation\",\n",
    "        model=model_name,\n",
    "        tokenizer=tokenizer,\n",
    "        do_sample=True,\n",
    "        top_k=50,\n",
    "        top_p=0.95,\n",
    "        temperature=0.1,\n",
    "        num_return_sequences=1,\n",
    "        eos_token_id=tokenizer.eos_token_id,\n",
    "        torch_dtype=torch.float16,\n",
    "        device_map=\"auto\",\n",
    "        max_length=256,)\n",
    "time_2 = time()\n",
    "print(f\"Prepare pipeline: {round(time_2-time_1, 3)} sec.\")"
   ]
  },
  {
   "cell_type": "markdown",
   "id": "d52e746b",
   "metadata": {
    "papermill": {
     "duration": 0.006629,
     "end_time": "2024-04-15T19:45:47.050651",
     "exception": false,
     "start_time": "2024-04-15T19:45:47.044022",
     "status": "completed"
    },
    "tags": []
   },
   "source": [
    "\n",
    "Let's define a function to test the query pipeline.\n"
   ]
  },
  {
   "cell_type": "code",
   "execution_count": 6,
   "id": "8f559990",
   "metadata": {
    "_kg_hide-input": true,
    "execution": {
     "iopub.execute_input": "2024-04-15T19:45:47.065368Z",
     "iopub.status.busy": "2024-04-15T19:45:47.065090Z",
     "iopub.status.idle": "2024-04-15T19:45:47.071347Z",
     "shell.execute_reply": "2024-04-15T19:45:47.070637Z"
    },
    "papermill": {
     "duration": 0.016014,
     "end_time": "2024-04-15T19:45:47.073155",
     "exception": false,
     "start_time": "2024-04-15T19:45:47.057141",
     "status": "completed"
    },
    "tags": []
   },
   "outputs": [],
   "source": [
    "def test_model(tokenizer, pipeline, prompt_to_test):\n",
    "    \"\"\"\n",
    "    Perform a query\n",
    "    print the result\n",
    "    Args:\n",
    "        tokenizer: the tokenizer\n",
    "        pipeline: the pipeline\n",
    "        prompt_to_test: the prompt\n",
    "    Returns\n",
    "        None\n",
    "    \"\"\"\n",
    "    # adapted from https://huggingface.co/blog/llama2#using-transformers\n",
    "    time_1 = time()\n",
    "    sequences = pipeline(\n",
    "        prompt_to_test,\n",
    "        do_sample=True,\n",
    "        top_k=50,\n",
    "        top_p=0.95,\n",
    "        temperature=0.1,\n",
    "        num_return_sequences=1,\n",
    "        eos_token_id=tokenizer.eos_token_id,\n",
    "        max_length=200,)\n",
    "    time_2 = time()\n",
    "    print(f\"Test inference: {round(time_2-time_1, 3)} sec.\")\n",
    "    for seq in sequences:\n",
    "        print(f\"Result: {seq['generated_text']}\")"
   ]
  },
  {
   "cell_type": "markdown",
   "id": "d9d4d601",
   "metadata": {
    "papermill": {
     "duration": 0.006431,
     "end_time": "2024-04-15T19:45:47.086789",
     "exception": false,
     "start_time": "2024-04-15T19:45:47.080358",
     "status": "completed"
    },
    "tags": []
   },
   "source": [
    "Let's try a question about touristic attractions in France."
   ]
  },
  {
   "cell_type": "code",
   "execution_count": 7,
   "id": "2ecc8e6e",
   "metadata": {
    "execution": {
     "iopub.execute_input": "2024-04-15T19:45:47.101317Z",
     "iopub.status.busy": "2024-04-15T19:45:47.101061Z",
     "iopub.status.idle": "2024-04-15T19:46:02.633377Z",
     "shell.execute_reply": "2024-04-15T19:46:02.632339Z"
    },
    "papermill": {
     "duration": 15.542129,
     "end_time": "2024-04-15T19:46:02.635608",
     "exception": false,
     "start_time": "2024-04-15T19:45:47.093479",
     "status": "completed"
    },
    "tags": []
   },
   "outputs": [
    {
     "name": "stderr",
     "output_type": "stream",
     "text": [
      "Truncation was not explicitly activated but `max_length` is provided a specific value, please use `truncation=True` to explicitly truncate examples to max length. Defaulting to 'longest_first' truncation strategy. If you encode pairs of sequences (GLUE-style) with the tokenizer you can select this strategy more precisely by providing a specific strategy to `truncation`.\n",
      "Setting `pad_token_id` to `eos_token_id`:2 for open-end generation.\n"
     ]
    },
    {
     "name": "stdout",
     "output_type": "stream",
     "text": [
      "Test inference: 15.528 sec.\n",
      "Result: Please let me know which cities are mostly visited in France.\n",
      "\n",
      "Comment: I'm not sure if you're asking about the most visited cities in France or the most visited cities in the world.\n",
      "\n",
      "Comment: @JonathanReez I'm asking about the most visited cities in France.\n",
      "\n",
      "Comment: @JonathanReez I'm asking about the most visited cities in France.\n",
      "\n",
      "Comment: @JonathanReez I'm asking about the most visited cities in France.\n",
      "\n",
      "Comment: @JonathanReez I'm asking about the most visited cities in France.\n",
      "\n",
      "Comment: @JonathanReez I'm asking about the most visited cities in France.\n",
      "\n",
      "Comment: @JonathanReez I'm asking about the most visited cities in France.\n",
      "\n",
      "Comment: @JonathanReez I'm asking about the most visited cities in France.\n",
      "\n",
      "Comment:\n"
     ]
    }
   ],
   "source": [
    "test_model(tokenizer,\n",
    "           query_pipeline,\n",
    "           \"Please let me know which cities are mostly visited in France.\")"
   ]
  },
  {
   "cell_type": "markdown",
   "id": "80f4363c",
   "metadata": {
    "papermill": {
     "duration": 0.007109,
     "end_time": "2024-04-15T19:46:02.650093",
     "exception": false,
     "start_time": "2024-04-15T19:46:02.642984",
     "status": "completed"
    },
    "tags": []
   },
   "source": [
    "Let's adjust the prompt, since we ar not really happy with this answer."
   ]
  },
  {
   "cell_type": "code",
   "execution_count": 8,
   "id": "e0b42d71",
   "metadata": {
    "execution": {
     "iopub.execute_input": "2024-04-15T19:46:02.665222Z",
     "iopub.status.busy": "2024-04-15T19:46:02.664918Z",
     "iopub.status.idle": "2024-04-15T19:46:04.292210Z",
     "shell.execute_reply": "2024-04-15T19:46:04.291292Z"
    },
    "papermill": {
     "duration": 1.637658,
     "end_time": "2024-04-15T19:46:04.294668",
     "exception": false,
     "start_time": "2024-04-15T19:46:02.657010",
     "status": "completed"
    },
    "tags": []
   },
   "outputs": [
    {
     "name": "stderr",
     "output_type": "stream",
     "text": [
      "Setting `pad_token_id` to `eos_token_id`:2 for open-end generation.\n"
     ]
    },
    {
     "name": "stdout",
     "output_type": "stream",
     "text": [
      "Test inference: 1.623 sec.\n",
      "Result: What are the three most visited cities in France?\n",
      "\n",
      "The three most visited cities in France are Paris, Marseille, and Lyon.\n"
     ]
    }
   ],
   "source": [
    "test_model(tokenizer,\n",
    "           query_pipeline,\n",
    "           \"What are the three most visited cities in France?\")"
   ]
  },
  {
   "cell_type": "code",
   "execution_count": 9,
   "id": "d8a45091",
   "metadata": {
    "_kg_hide-input": true,
    "execution": {
     "iopub.execute_input": "2024-04-15T19:46:04.312211Z",
     "iopub.status.busy": "2024-04-15T19:46:04.311875Z",
     "iopub.status.idle": "2024-04-15T19:46:06.690802Z",
     "shell.execute_reply": "2024-04-15T19:46:06.689657Z"
    },
    "papermill": {
     "duration": 2.390363,
     "end_time": "2024-04-15T19:46:06.692993",
     "exception": false,
     "start_time": "2024-04-15T19:46:04.302630",
     "status": "completed"
    },
    "tags": []
   },
   "outputs": [
    {
     "name": "stderr",
     "output_type": "stream",
     "text": [
      "Setting `pad_token_id` to `eos_token_id`:2 for open-end generation.\n"
     ]
    },
    {
     "name": "stdout",
     "output_type": "stream",
     "text": [
      "Test inference: 2.374 sec.\n",
      "Result: What are the three most visited tourist attractions in Paris?\n",
      "\n",
      "The three most visited tourist attractions in Paris are the Eiffel Tower, the Louvre Museum, and Notre-Dame Cathedral.\n"
     ]
    }
   ],
   "source": [
    "test_model(tokenizer,\n",
    "           query_pipeline,\n",
    "           \"What are the three most visited tourist attractions in Paris?\")"
   ]
  },
  {
   "cell_type": "markdown",
   "id": "8ac2e398",
   "metadata": {
    "papermill": {
     "duration": 0.00782,
     "end_time": "2024-04-15T19:46:06.708780",
     "exception": false,
     "start_time": "2024-04-15T19:46:06.700960",
     "status": "completed"
    },
    "tags": []
   },
   "source": [
    "It looks like how the prompt is created is really important."
   ]
  },
  {
   "cell_type": "markdown",
   "id": "68d49676",
   "metadata": {
    "papermill": {
     "duration": 0.008126,
     "end_time": "2024-04-15T19:46:06.725016",
     "exception": false,
     "start_time": "2024-04-15T19:46:06.716890",
     "status": "completed"
    },
    "tags": []
   },
   "source": [
    "# Define and execute the sequential chain  \n",
    "\n"
   ]
  },
  {
   "cell_type": "code",
   "execution_count": 10,
   "id": "6900d965",
   "metadata": {
    "_kg_hide-input": true,
    "execution": {
     "iopub.execute_input": "2024-04-15T19:46:06.742449Z",
     "iopub.status.busy": "2024-04-15T19:46:06.742112Z",
     "iopub.status.idle": "2024-04-15T19:46:06.747750Z",
     "shell.execute_reply": "2024-04-15T19:46:06.747038Z"
    },
    "papermill": {
     "duration": 0.016796,
     "end_time": "2024-04-15T19:46:06.749726",
     "exception": false,
     "start_time": "2024-04-15T19:46:06.732930",
     "status": "completed"
    },
    "tags": []
   },
   "outputs": [],
   "source": [
    "llm = HuggingFacePipeline(pipeline=query_pipeline)"
   ]
  },
  {
   "cell_type": "code",
   "execution_count": 11,
   "id": "fd2fc5d2",
   "metadata": {
    "execution": {
     "iopub.execute_input": "2024-04-15T19:46:06.766385Z",
     "iopub.status.busy": "2024-04-15T19:46:06.766108Z",
     "iopub.status.idle": "2024-04-15T19:46:09.071107Z",
     "shell.execute_reply": "2024-04-15T19:46:09.070111Z"
    },
    "papermill": {
     "duration": 2.315798,
     "end_time": "2024-04-15T19:46:09.073360",
     "exception": false,
     "start_time": "2024-04-15T19:46:06.757562",
     "status": "completed"
    },
    "tags": []
   },
   "outputs": [
    {
     "name": "stderr",
     "output_type": "stream",
     "text": [
      "/opt/conda/lib/python3.10/site-packages/langchain_core/_api/deprecation.py:117: LangChainDeprecationWarning: The function `__call__` was deprecated in LangChain 0.1.7 and will be removed in 0.2.0. Use invoke instead.\n",
      "  warn_deprecated(\n",
      "Setting `pad_token_id` to `eos_token_id`:2 for open-end generation.\n"
     ]
    },
    {
     "data": {
      "text/plain": [
       "'What are the three most visited cities in France?\\n\\nThe three most visited cities in France are Paris, Marseille, and Lyon.'"
      ]
     },
     "execution_count": 11,
     "metadata": {},
     "output_type": "execute_result"
    }
   ],
   "source": [
    "llm(\"What are the three most visited cities in France?\")"
   ]
  },
  {
   "cell_type": "code",
   "execution_count": 12,
   "id": "84fcff7a",
   "metadata": {
    "_kg_hide-input": true,
    "execution": {
     "iopub.execute_input": "2024-04-15T19:46:09.090754Z",
     "iopub.status.busy": "2024-04-15T19:46:09.090422Z",
     "iopub.status.idle": "2024-04-15T19:46:09.096990Z",
     "shell.execute_reply": "2024-04-15T19:46:09.096223Z"
    },
    "papermill": {
     "duration": 0.017007,
     "end_time": "2024-04-15T19:46:09.098832",
     "exception": false,
     "start_time": "2024-04-15T19:46:09.081825",
     "status": "completed"
    },
    "tags": []
   },
   "outputs": [],
   "source": [
    "def sequential_chain(country, llm):\n",
    "    \"\"\"\n",
    "    Args:\n",
    "        country: country selected\n",
    "    Returns:\n",
    "        None\n",
    "    \"\"\"\n",
    "    time_1 = time()\n",
    "    template = \"What is the name of the most popular city in {country} for tourists?\"\n",
    "\n",
    "    #  first task in chain\n",
    "    first_prompt = PromptTemplate(\n",
    "        input_variables=[\"country\"],\n",
    "        template=template)\n",
    "\n",
    "    city = LLMChain(llm = llm, prompt = first_prompt)\n",
    "\n",
    "    # second step in chain\n",
    "    second_prompt = PromptTemplate(\n",
    "        input_variables=[\"city\"],\n",
    "        template=\"What are the top three things to do in this {city} for tourists?\")\n",
    "\n",
    "    chain_two = LLMChain(llm=llm, prompt=second_prompt)\n",
    "\n",
    "    # combine the two steps and run the chain sequence\n",
    "    overall_chain = SimpleSequentialChain(chains=[city, chain_two], verbose=True)\n",
    "    overall_chain.run(country)\n",
    "    time_2 = time()\n",
    "    print(f\"Run sequential chain: {round(time_2-time_1, 3)} sec.\")"
   ]
  },
  {
   "cell_type": "code",
   "execution_count": 13,
   "id": "238d20d4",
   "metadata": {
    "_kg_hide-input": true,
    "execution": {
     "iopub.execute_input": "2024-04-15T19:46:09.114648Z",
     "iopub.status.busy": "2024-04-15T19:46:09.114370Z",
     "iopub.status.idle": "2024-04-15T19:46:24.829893Z",
     "shell.execute_reply": "2024-04-15T19:46:24.828804Z"
    },
    "papermill": {
     "duration": 15.725806,
     "end_time": "2024-04-15T19:46:24.832049",
     "exception": false,
     "start_time": "2024-04-15T19:46:09.106243",
     "status": "completed"
    },
    "tags": []
   },
   "outputs": [
    {
     "name": "stderr",
     "output_type": "stream",
     "text": [
      "/opt/conda/lib/python3.10/site-packages/langchain_core/_api/deprecation.py:117: LangChainDeprecationWarning: The function `run` was deprecated in LangChain 0.1.0 and will be removed in 0.2.0. Use invoke instead.\n",
      "  warn_deprecated(\n",
      "Setting `pad_token_id` to `eos_token_id`:2 for open-end generation.\n"
     ]
    },
    {
     "name": "stdout",
     "output_type": "stream",
     "text": [
      "\n",
      "\n",
      "\u001b[1m> Entering new SimpleSequentialChain chain...\u001b[0m\n"
     ]
    },
    {
     "name": "stderr",
     "output_type": "stream",
     "text": [
      "Setting `pad_token_id` to `eos_token_id`:2 for open-end generation.\n"
     ]
    },
    {
     "name": "stdout",
     "output_type": "stream",
     "text": [
      "\u001b[36;1m\u001b[1;3mWhat is the name of the most popular city in France for tourists?\n",
      "\n",
      "Paris is the most popular city in France for tourists. Known as the City of Light, Paris is famous for its iconic landmarks such as the Eiffel Tower, the Louvre Museum, and Notre-Dame Cathedral. The city is also known for its romantic atmosphere, world-class cuisine, and fashion.\u001b[0m\n",
      "\u001b[33;1m\u001b[1;3mWhat are the top three things to do in this What is the name of the most popular city in France for tourists?\n",
      "\n",
      "Paris is the most popular city in France for tourists. Known as the City of Light, Paris is famous for its iconic landmarks such as the Eiffel Tower, the Louvre Museum, and Notre-Dame Cathedral. The city is also known for its romantic atmosphere, world-class cuisine, and fashion. for tourists?\n",
      "\n",
      "1. Visit the Eiffel Tower: The Eiffel Tower is one of the most famous landmarks in the world and a must-see attraction for tourists in Paris. Visitors can take an elevator to the top of the tower for stunning views of the city.\n",
      "2. Explore the Louvre Museum: The Louvre Museum is one of the largest and most famous art museums in the world, housing thousands of works of art including the Mona Lisa. Visitors can spend days exploring the museum's vast collection.\n",
      "3. Take a stroll along the Seine River: The Seine River is a beautiful and romantic way to explore Paris. Visitors can take a boat tour or simply stroll along the riverbank, enjoying the city's\u001b[0m\n",
      "\n",
      "\u001b[1m> Finished chain.\u001b[0m\n",
      "Run sequential chain: 15.711 sec.\n"
     ]
    }
   ],
   "source": [
    "final_answer = sequential_chain(\"France\", llm)"
   ]
  },
  {
   "cell_type": "code",
   "execution_count": 14,
   "id": "67d28726",
   "metadata": {
    "execution": {
     "iopub.execute_input": "2024-04-15T19:46:24.850471Z",
     "iopub.status.busy": "2024-04-15T19:46:24.850148Z",
     "iopub.status.idle": "2024-04-15T19:46:40.505406Z",
     "shell.execute_reply": "2024-04-15T19:46:40.504521Z"
    },
    "papermill": {
     "duration": 15.66688,
     "end_time": "2024-04-15T19:46:40.507626",
     "exception": false,
     "start_time": "2024-04-15T19:46:24.840746",
     "status": "completed"
    },
    "tags": []
   },
   "outputs": [
    {
     "name": "stderr",
     "output_type": "stream",
     "text": [
      "Setting `pad_token_id` to `eos_token_id`:2 for open-end generation.\n"
     ]
    },
    {
     "name": "stdout",
     "output_type": "stream",
     "text": [
      "\n",
      "\n",
      "\u001b[1m> Entering new SimpleSequentialChain chain...\u001b[0m\n"
     ]
    },
    {
     "name": "stderr",
     "output_type": "stream",
     "text": [
      "Setting `pad_token_id` to `eos_token_id`:2 for open-end generation.\n"
     ]
    },
    {
     "name": "stdout",
     "output_type": "stream",
     "text": [
      "\u001b[36;1m\u001b[1;3mWhat is the name of the most popular city in Italy for tourists?\n",
      "\n",
      "The most popular city in Italy for tourists is Rome. Known for its ancient history, stunning architecture, and world-renowned landmarks such as the Colosseum and the Vatican, Rome attracts millions of visitors every year.\u001b[0m\n",
      "\u001b[33;1m\u001b[1;3mWhat are the top three things to do in this What is the name of the most popular city in Italy for tourists?\n",
      "\n",
      "The most popular city in Italy for tourists is Rome. Known for its ancient history, stunning architecture, and world-renowned landmarks such as the Colosseum and the Vatican, Rome attracts millions of visitors every year. for tourists?\n",
      "\n",
      "1. Visit the Colosseum: The Colosseum is one of the most iconic landmarks in Rome and a must-see for any visitor. This ancient amphitheater was built over 2,000 years ago and was used for gladiatorial contests, public spectacles, and dramas based on classical mythology.\n",
      "2. Explore the Vatican: The Vatican is a sovereign city-state located within Rome and is the smallest country in the world. It is home to some of the most famous landmarks in the world, including St. Peter's Basilica, the Sistine Chapel, and the Vatican Museums.\n",
      "3. Stroll through the Piazza Navona: The Piazza Navona is a beautiful square in the heart\u001b[0m\n",
      "\n",
      "\u001b[1m> Finished chain.\u001b[0m\n",
      "Run sequential chain: 15.65 sec.\n"
     ]
    }
   ],
   "source": [
    "final_answer = sequential_chain(\"Italy\", llm)"
   ]
  },
  {
   "cell_type": "markdown",
   "id": "45645789",
   "metadata": {
    "papermill": {
     "duration": 0.008833,
     "end_time": "2024-04-15T19:46:40.525283",
     "exception": false,
     "start_time": "2024-04-15T19:46:40.516450",
     "status": "completed"
    },
    "tags": []
   },
   "source": [
    "# Conclusions   \n",
    "\n",
    "\n",
    "Mistral `7b-instruct-hf`, with careful adjusted queries, seems to work just fine.  \n",
    "We had to adjust carefully the prompts to get a correct answer."
   ]
  }
 ],
 "metadata": {
  "kaggle": {
   "accelerator": "nvidiaTeslaT4",
   "dataSources": [
    {
     "isSourceIdPinned": true,
     "modelInstanceId": 3900,
     "sourceId": 5112,
     "sourceType": "modelInstanceVersion"
    }
   ],
   "dockerImageVersionId": 30558,
   "isGpuEnabled": true,
   "isInternetEnabled": true,
   "language": "python",
   "sourceType": "notebook"
  },
  "kernelspec": {
   "display_name": "Python 3",
   "language": "python",
   "name": "python3"
  },
  "language_info": {
   "codemirror_mode": {
    "name": "ipython",
    "version": 3
   },
   "file_extension": ".py",
   "mimetype": "text/x-python",
   "name": "python",
   "nbconvert_exporter": "python",
   "pygments_lexer": "ipython3",
   "version": "3.10.12"
  },
  "papermill": {
   "default_parameters": {},
   "duration": 371.561466,
   "end_time": "2024-04-15T19:46:43.258136",
   "environment_variables": {},
   "exception": null,
   "input_path": "__notebook__.ipynb",
   "output_path": "__notebook__.ipynb",
   "parameters": {},
   "start_time": "2024-04-15T19:40:31.696670",
   "version": "2.4.0"
  },
  "widgets": {
   "application/vnd.jupyter.widget-state+json": {
    "state": {
     "080e87b2ffda42259a4a04d05e77f43e": {
      "model_module": "@jupyter-widgets/base",
      "model_module_version": "1.2.0",
      "model_name": "LayoutModel",
      "state": {
       "_model_module": "@jupyter-widgets/base",
       "_model_module_version": "1.2.0",
       "_model_name": "LayoutModel",
       "_view_count": null,
       "_view_module": "@jupyter-widgets/base",
       "_view_module_version": "1.2.0",
       "_view_name": "LayoutView",
       "align_content": null,
       "align_items": null,
       "align_self": null,
       "border": null,
       "bottom": null,
       "display": null,
       "flex": null,
       "flex_flow": null,
       "grid_area": null,
       "grid_auto_columns": null,
       "grid_auto_flow": null,
       "grid_auto_rows": null,
       "grid_column": null,
       "grid_gap": null,
       "grid_row": null,
       "grid_template_areas": null,
       "grid_template_columns": null,
       "grid_template_rows": null,
       "height": null,
       "justify_content": null,
       "justify_items": null,
       "left": null,
       "margin": null,
       "max_height": null,
       "max_width": null,
       "min_height": null,
       "min_width": null,
       "object_fit": null,
       "object_position": null,
       "order": null,
       "overflow": null,
       "overflow_x": null,
       "overflow_y": null,
       "padding": null,
       "right": null,
       "top": null,
       "visibility": null,
       "width": null
      }
     },
     "2744eb4cbaa6444a99b8584f731d48f1": {
      "model_module": "@jupyter-widgets/controls",
      "model_module_version": "1.5.0",
      "model_name": "HTMLModel",
      "state": {
       "_dom_classes": [],
       "_model_module": "@jupyter-widgets/controls",
       "_model_module_version": "1.5.0",
       "_model_name": "HTMLModel",
       "_view_count": null,
       "_view_module": "@jupyter-widgets/controls",
       "_view_module_version": "1.5.0",
       "_view_name": "HTMLView",
       "description": "",
       "description_tooltip": null,
       "layout": "IPY_MODEL_8fc4f65b9a7d4728ab46a9ab3bfe18d7",
       "placeholder": "​",
       "style": "IPY_MODEL_e12c6a8bf6034e62a1180f591b834746",
       "value": "Loading checkpoint shards: 100%"
      }
     },
     "2978c5f2847949fa8604e79705779980": {
      "model_module": "@jupyter-widgets/controls",
      "model_module_version": "1.5.0",
      "model_name": "ProgressStyleModel",
      "state": {
       "_model_module": "@jupyter-widgets/controls",
       "_model_module_version": "1.5.0",
       "_model_name": "ProgressStyleModel",
       "_view_count": null,
       "_view_module": "@jupyter-widgets/base",
       "_view_module_version": "1.2.0",
       "_view_name": "StyleView",
       "bar_color": null,
       "description_width": ""
      }
     },
     "389f2d5e8034456ba2eb0823b5872056": {
      "model_module": "@jupyter-widgets/controls",
      "model_module_version": "1.5.0",
      "model_name": "FloatProgressModel",
      "state": {
       "_dom_classes": [],
       "_model_module": "@jupyter-widgets/controls",
       "_model_module_version": "1.5.0",
       "_model_name": "FloatProgressModel",
       "_view_count": null,
       "_view_module": "@jupyter-widgets/controls",
       "_view_module_version": "1.5.0",
       "_view_name": "ProgressView",
       "bar_style": "success",
       "description": "",
       "description_tooltip": null,
       "layout": "IPY_MODEL_080e87b2ffda42259a4a04d05e77f43e",
       "max": 2.0,
       "min": 0.0,
       "orientation": "horizontal",
       "style": "IPY_MODEL_2978c5f2847949fa8604e79705779980",
       "value": 2.0
      }
     },
     "64a73b23451441d1bc351e3b8ef04576": {
      "model_module": "@jupyter-widgets/controls",
      "model_module_version": "1.5.0",
      "model_name": "HTMLModel",
      "state": {
       "_dom_classes": [],
       "_model_module": "@jupyter-widgets/controls",
       "_model_module_version": "1.5.0",
       "_model_name": "HTMLModel",
       "_view_count": null,
       "_view_module": "@jupyter-widgets/controls",
       "_view_module_version": "1.5.0",
       "_view_name": "HTMLView",
       "description": "",
       "description_tooltip": null,
       "layout": "IPY_MODEL_c3b1edf082f443b38f4b710c7cfc2a74",
       "placeholder": "​",
       "style": "IPY_MODEL_93b775de7a8a45089b59e0cc10d4801f",
       "value": " 2/2 [02:54&lt;00:00, 82.52s/it]"
      }
     },
     "8fc4f65b9a7d4728ab46a9ab3bfe18d7": {
      "model_module": "@jupyter-widgets/base",
      "model_module_version": "1.2.0",
      "model_name": "LayoutModel",
      "state": {
       "_model_module": "@jupyter-widgets/base",
       "_model_module_version": "1.2.0",
       "_model_name": "LayoutModel",
       "_view_count": null,
       "_view_module": "@jupyter-widgets/base",
       "_view_module_version": "1.2.0",
       "_view_name": "LayoutView",
       "align_content": null,
       "align_items": null,
       "align_self": null,
       "border": null,
       "bottom": null,
       "display": null,
       "flex": null,
       "flex_flow": null,
       "grid_area": null,
       "grid_auto_columns": null,
       "grid_auto_flow": null,
       "grid_auto_rows": null,
       "grid_column": null,
       "grid_gap": null,
       "grid_row": null,
       "grid_template_areas": null,
       "grid_template_columns": null,
       "grid_template_rows": null,
       "height": null,
       "justify_content": null,
       "justify_items": null,
       "left": null,
       "margin": null,
       "max_height": null,
       "max_width": null,
       "min_height": null,
       "min_width": null,
       "object_fit": null,
       "object_position": null,
       "order": null,
       "overflow": null,
       "overflow_x": null,
       "overflow_y": null,
       "padding": null,
       "right": null,
       "top": null,
       "visibility": null,
       "width": null
      }
     },
     "93b775de7a8a45089b59e0cc10d4801f": {
      "model_module": "@jupyter-widgets/controls",
      "model_module_version": "1.5.0",
      "model_name": "DescriptionStyleModel",
      "state": {
       "_model_module": "@jupyter-widgets/controls",
       "_model_module_version": "1.5.0",
       "_model_name": "DescriptionStyleModel",
       "_view_count": null,
       "_view_module": "@jupyter-widgets/base",
       "_view_module_version": "1.2.0",
       "_view_name": "StyleView",
       "description_width": ""
      }
     },
     "b6a412849652430592d1855ab828a333": {
      "model_module": "@jupyter-widgets/base",
      "model_module_version": "1.2.0",
      "model_name": "LayoutModel",
      "state": {
       "_model_module": "@jupyter-widgets/base",
       "_model_module_version": "1.2.0",
       "_model_name": "LayoutModel",
       "_view_count": null,
       "_view_module": "@jupyter-widgets/base",
       "_view_module_version": "1.2.0",
       "_view_name": "LayoutView",
       "align_content": null,
       "align_items": null,
       "align_self": null,
       "border": null,
       "bottom": null,
       "display": null,
       "flex": null,
       "flex_flow": null,
       "grid_area": null,
       "grid_auto_columns": null,
       "grid_auto_flow": null,
       "grid_auto_rows": null,
       "grid_column": null,
       "grid_gap": null,
       "grid_row": null,
       "grid_template_areas": null,
       "grid_template_columns": null,
       "grid_template_rows": null,
       "height": null,
       "justify_content": null,
       "justify_items": null,
       "left": null,
       "margin": null,
       "max_height": null,
       "max_width": null,
       "min_height": null,
       "min_width": null,
       "object_fit": null,
       "object_position": null,
       "order": null,
       "overflow": null,
       "overflow_x": null,
       "overflow_y": null,
       "padding": null,
       "right": null,
       "top": null,
       "visibility": null,
       "width": null
      }
     },
     "c3b1edf082f443b38f4b710c7cfc2a74": {
      "model_module": "@jupyter-widgets/base",
      "model_module_version": "1.2.0",
      "model_name": "LayoutModel",
      "state": {
       "_model_module": "@jupyter-widgets/base",
       "_model_module_version": "1.2.0",
       "_model_name": "LayoutModel",
       "_view_count": null,
       "_view_module": "@jupyter-widgets/base",
       "_view_module_version": "1.2.0",
       "_view_name": "LayoutView",
       "align_content": null,
       "align_items": null,
       "align_self": null,
       "border": null,
       "bottom": null,
       "display": null,
       "flex": null,
       "flex_flow": null,
       "grid_area": null,
       "grid_auto_columns": null,
       "grid_auto_flow": null,
       "grid_auto_rows": null,
       "grid_column": null,
       "grid_gap": null,
       "grid_row": null,
       "grid_template_areas": null,
       "grid_template_columns": null,
       "grid_template_rows": null,
       "height": null,
       "justify_content": null,
       "justify_items": null,
       "left": null,
       "margin": null,
       "max_height": null,
       "max_width": null,
       "min_height": null,
       "min_width": null,
       "object_fit": null,
       "object_position": null,
       "order": null,
       "overflow": null,
       "overflow_x": null,
       "overflow_y": null,
       "padding": null,
       "right": null,
       "top": null,
       "visibility": null,
       "width": null
      }
     },
     "ddbd976427f24adc991fa51d4ea52df1": {
      "model_module": "@jupyter-widgets/controls",
      "model_module_version": "1.5.0",
      "model_name": "HBoxModel",
      "state": {
       "_dom_classes": [],
       "_model_module": "@jupyter-widgets/controls",
       "_model_module_version": "1.5.0",
       "_model_name": "HBoxModel",
       "_view_count": null,
       "_view_module": "@jupyter-widgets/controls",
       "_view_module_version": "1.5.0",
       "_view_name": "HBoxView",
       "box_style": "",
       "children": [
        "IPY_MODEL_2744eb4cbaa6444a99b8584f731d48f1",
        "IPY_MODEL_389f2d5e8034456ba2eb0823b5872056",
        "IPY_MODEL_64a73b23451441d1bc351e3b8ef04576"
       ],
       "layout": "IPY_MODEL_b6a412849652430592d1855ab828a333"
      }
     },
     "e12c6a8bf6034e62a1180f591b834746": {
      "model_module": "@jupyter-widgets/controls",
      "model_module_version": "1.5.0",
      "model_name": "DescriptionStyleModel",
      "state": {
       "_model_module": "@jupyter-widgets/controls",
       "_model_module_version": "1.5.0",
       "_model_name": "DescriptionStyleModel",
       "_view_count": null,
       "_view_module": "@jupyter-widgets/base",
       "_view_module_version": "1.2.0",
       "_view_name": "StyleView",
       "description_width": ""
      }
     }
    },
    "version_major": 2,
    "version_minor": 0
   }
  }
 },
 "nbformat": 4,
 "nbformat_minor": 5
}
