{
 "cells": [
  {
   "cell_type": "markdown",
   "id": "8d0b9ca0",
   "metadata": {
    "papermill": {
     "duration": 0.007114,
     "end_time": "2024-04-14T18:13:34.594413",
     "exception": false,
     "start_time": "2024-04-14T18:13:34.587299",
     "status": "completed"
    },
    "tags": []
   },
   "source": [
    "# Introduction   \n",
    "\n",
    "\n",
    "We will experiment now with the Mistral model.\n",
    "\n",
    "\n",
    "## Model specification  \n",
    "\n",
    "The model details are:\n",
    "\n",
    "* **Model**: Mistral\n",
    "* **Variation**: 7b-v0.1-hf (7b: 7B dimm. hf: HuggingFace build)\n",
    "* **Version**: V1\n",
    "* **Framework**: PyTorch"
   ]
  },
  {
   "cell_type": "markdown",
   "id": "b05d6bec",
   "metadata": {
    "papermill": {
     "duration": 0.006129,
     "end_time": "2024-04-14T18:13:34.607029",
     "exception": false,
     "start_time": "2024-04-14T18:13:34.600900",
     "status": "completed"
    },
    "tags": []
   },
   "source": [
    "# Install and import packages  "
   ]
  },
  {
   "cell_type": "code",
   "execution_count": 1,
   "id": "c5cb240a",
   "metadata": {
    "_kg_hide-input": true,
    "_kg_hide-output": true,
    "execution": {
     "iopub.execute_input": "2024-04-14T18:13:34.621218Z",
     "iopub.status.busy": "2024-04-14T18:13:34.620872Z",
     "iopub.status.idle": "2024-04-14T18:14:32.382347Z",
     "shell.execute_reply": "2024-04-14T18:14:32.381127Z"
    },
    "papermill": {
     "duration": 57.771764,
     "end_time": "2024-04-14T18:14:32.385178",
     "exception": false,
     "start_time": "2024-04-14T18:13:34.613414",
     "status": "completed"
    },
    "tags": []
   },
   "outputs": [],
   "source": [
    "!pip install -q -U transformers\n",
    "!pip install -q -U accelerate\n",
    "!pip install -q -U bitsandbytes"
   ]
  },
  {
   "cell_type": "code",
   "execution_count": 2,
   "id": "a5e3157e",
   "metadata": {
    "_kg_hide-input": true,
    "_kg_hide-output": true,
    "execution": {
     "iopub.execute_input": "2024-04-14T18:14:32.401555Z",
     "iopub.status.busy": "2024-04-14T18:14:32.401203Z",
     "iopub.status.idle": "2024-04-14T18:15:03.438412Z",
     "shell.execute_reply": "2024-04-14T18:15:03.437399Z"
    },
    "papermill": {
     "duration": 31.048097,
     "end_time": "2024-04-14T18:15:03.440836",
     "exception": false,
     "start_time": "2024-04-14T18:14:32.392739",
     "status": "completed"
    },
    "tags": []
   },
   "outputs": [
    {
     "name": "stdout",
     "output_type": "stream",
     "text": [
      "\u001b[31mERROR: pip's dependency resolver does not currently take into account all the packages that are installed. This behaviour is the source of the following dependency conflicts.\r\n",
      "cudf 23.8.0 requires cupy-cuda11x>=12.0.0, which is not installed.\r\n",
      "cuml 23.8.0 requires cupy-cuda11x>=12.0.0, which is not installed.\r\n",
      "dask-cudf 23.8.0 requires cupy-cuda11x>=12.0.0, which is not installed.\r\n",
      "apache-beam 2.46.0 requires dill<0.3.2,>=0.3.1.1, but you have dill 0.3.7 which is incompatible.\r\n",
      "apache-beam 2.46.0 requires pyarrow<10.0.0,>=3.0.0, but you have pyarrow 11.0.0 which is incompatible.\r\n",
      "cudf 23.8.0 requires pandas<1.6.0dev0,>=1.3, but you have pandas 2.0.2 which is incompatible.\r\n",
      "cudf 23.8.0 requires protobuf<5,>=4.21, but you have protobuf 3.20.3 which is incompatible.\r\n",
      "cuml 23.8.0 requires dask==2023.7.1, but you have dask 2023.9.0 which is incompatible.\r\n",
      "dask-cuda 23.8.0 requires dask==2023.7.1, but you have dask 2023.9.0 which is incompatible.\r\n",
      "dask-cuda 23.8.0 requires pandas<1.6.0dev0,>=1.3, but you have pandas 2.0.2 which is incompatible.\r\n",
      "dask-cudf 23.8.0 requires dask==2023.7.1, but you have dask 2023.9.0 which is incompatible.\r\n",
      "dask-cudf 23.8.0 requires pandas<1.6.0dev0,>=1.3, but you have pandas 2.0.2 which is incompatible.\r\n",
      "distributed 2023.7.1 requires dask==2023.7.1, but you have dask 2023.9.0 which is incompatible.\r\n",
      "google-cloud-bigquery 2.34.4 requires packaging<22.0dev,>=14.3, but you have packaging 23.2 which is incompatible.\r\n",
      "jupyterlab-lsp 4.2.0 requires jupyter-lsp>=2.0.0, but you have jupyter-lsp 1.5.1 which is incompatible.\r\n",
      "momepy 0.6.0 requires shapely>=2, but you have shapely 1.8.5.post1 which is incompatible.\r\n",
      "pymc3 3.11.5 requires numpy<1.22.2,>=1.15.0, but you have numpy 1.23.5 which is incompatible.\r\n",
      "pymc3 3.11.5 requires scipy<1.8.0,>=1.7.3, but you have scipy 1.11.2 which is incompatible.\r\n",
      "raft-dask 23.8.0 requires dask==2023.7.1, but you have dask 2023.9.0 which is incompatible.\r\n",
      "ydata-profiling 4.3.1 requires scipy<1.11,>=1.4.1, but you have scipy 1.11.2 which is incompatible.\u001b[0m\u001b[31m\r\n",
      "\u001b[0m"
     ]
    }
   ],
   "source": [
    "!pip install -q -U langchain"
   ]
  },
  {
   "cell_type": "code",
   "execution_count": 3,
   "id": "0d18915a",
   "metadata": {
    "_kg_hide-input": true,
    "execution": {
     "iopub.execute_input": "2024-04-14T18:15:03.455542Z",
     "iopub.status.busy": "2024-04-14T18:15:03.455226Z",
     "iopub.status.idle": "2024-04-14T18:15:19.061157Z",
     "shell.execute_reply": "2024-04-14T18:15:19.060274Z"
    },
    "papermill": {
     "duration": 15.616175,
     "end_time": "2024-04-14T18:15:19.063485",
     "exception": false,
     "start_time": "2024-04-14T18:15:03.447310",
     "status": "completed"
    },
    "tags": []
   },
   "outputs": [
    {
     "name": "stderr",
     "output_type": "stream",
     "text": [
      "/opt/conda/lib/python3.10/site-packages/scipy/__init__.py:146: UserWarning: A NumPy version >=1.16.5 and <1.23.0 is required for this version of SciPy (detected version 1.23.5\n",
      "  warnings.warn(f\"A NumPy version >={np_minversion} and <{np_maxversion}\"\n"
     ]
    }
   ],
   "source": [
    "import torch\n",
    "from time import time\n",
    "from transformers import AutoTokenizer, AutoModelForCausalLM, pipeline\n",
    "from transformers import pipeline\n",
    "from langchain.llms import HuggingFacePipeline\n",
    "from langchain.chains import LLMChain, SimpleSequentialChain\n",
    "from langchain import PromptTemplate"
   ]
  },
  {
   "cell_type": "markdown",
   "id": "4124a17d",
   "metadata": {
    "papermill": {
     "duration": 0.0063,
     "end_time": "2024-04-14T18:15:19.076689",
     "exception": false,
     "start_time": "2024-04-14T18:15:19.070389",
     "status": "completed"
    },
    "tags": []
   },
   "source": [
    "# Define model  "
   ]
  },
  {
   "cell_type": "code",
   "execution_count": 4,
   "id": "c103a6cf",
   "metadata": {
    "_kg_hide-input": true,
    "execution": {
     "iopub.execute_input": "2024-04-14T18:15:19.091015Z",
     "iopub.status.busy": "2024-04-14T18:15:19.090473Z",
     "iopub.status.idle": "2024-04-14T18:17:30.291895Z",
     "shell.execute_reply": "2024-04-14T18:17:30.290920Z"
    },
    "papermill": {
     "duration": 131.211219,
     "end_time": "2024-04-14T18:17:30.294180",
     "exception": false,
     "start_time": "2024-04-14T18:15:19.082961",
     "status": "completed"
    },
    "tags": []
   },
   "outputs": [
    {
     "data": {
      "application/vnd.jupyter.widget-view+json": {
       "model_id": "a06184dc82df43eba559fc02c0b71c6f",
       "version_major": 2,
       "version_minor": 0
      },
      "text/plain": [
       "Loading checkpoint shards:   0%|          | 0/2 [00:00<?, ?it/s]"
      ]
     },
     "metadata": {},
     "output_type": "display_data"
    },
    {
     "name": "stderr",
     "output_type": "stream",
     "text": [
      "/opt/conda/lib/python3.10/site-packages/torch/_utils.py:776: UserWarning: TypedStorage is deprecated. It will be removed in the future and UntypedStorage will be the only storage class. This should only matter to you if you are using storages directly.  To access UntypedStorage directly, use tensor.untyped_storage() instead of tensor.storage()\n",
      "  return self.fget.__get__(instance, owner)()\n"
     ]
    },
    {
     "name": "stdout",
     "output_type": "stream",
     "text": [
      "Tokenizer & pipeline: 131 sec.\n"
     ]
    }
   ],
   "source": [
    "model_id = '/kaggle/input/mistral/pytorch/7b-instruct-v0.1-hf/1'\n",
    "time_1 = time()\n",
    "tokenizer = AutoTokenizer.from_pretrained(model_id)\n",
    "model_name = AutoModelForCausalLM.from_pretrained(\n",
    "        model_id,\n",
    "        torch_dtype=torch.bfloat16,\n",
    "        device_map=\"auto\",\n",
    "        trust_remote_code=True,\n",
    "    )\n",
    "print(f\"Tokenizer & pipeline: {round(time() - time_1)} sec.\")"
   ]
  },
  {
   "cell_type": "markdown",
   "id": "7056303e",
   "metadata": {
    "papermill": {
     "duration": 0.006501,
     "end_time": "2024-04-14T18:17:30.307794",
     "exception": false,
     "start_time": "2024-04-14T18:17:30.301293",
     "status": "completed"
    },
    "tags": []
   },
   "source": [
    "# Test model  \n",
    "\n",
    "Let's test the model."
   ]
  },
  {
   "cell_type": "code",
   "execution_count": 5,
   "id": "3484abc3",
   "metadata": {
    "_kg_hide-input": true,
    "execution": {
     "iopub.execute_input": "2024-04-14T18:17:30.322626Z",
     "iopub.status.busy": "2024-04-14T18:17:30.322280Z",
     "iopub.status.idle": "2024-04-14T18:17:30.328527Z",
     "shell.execute_reply": "2024-04-14T18:17:30.327719Z"
    },
    "papermill": {
     "duration": 0.015978,
     "end_time": "2024-04-14T18:17:30.330582",
     "exception": false,
     "start_time": "2024-04-14T18:17:30.314604",
     "status": "completed"
    },
    "tags": []
   },
   "outputs": [
    {
     "name": "stdout",
     "output_type": "stream",
     "text": [
      "Prepare pipeline: 0.0 sec.\n"
     ]
    }
   ],
   "source": [
    "time_1 = time()\n",
    "query_pipeline = pipeline(\n",
    "        \"text-generation\",\n",
    "        model=model_name,\n",
    "        tokenizer=tokenizer,\n",
    "        do_sample=True,\n",
    "        top_k=50,\n",
    "        top_p=0.95,\n",
    "        temperature=0.1,\n",
    "        num_return_sequences=1,\n",
    "        eos_token_id=tokenizer.eos_token_id,\n",
    "        torch_dtype=torch.float16,\n",
    "        device_map=\"auto\",\n",
    "        max_length=256,)\n",
    "time_2 = time()\n",
    "print(f\"Prepare pipeline: {round(time_2-time_1, 3)} sec.\")"
   ]
  },
  {
   "cell_type": "markdown",
   "id": "bcddf7b1",
   "metadata": {
    "papermill": {
     "duration": 0.006595,
     "end_time": "2024-04-14T18:17:30.343912",
     "exception": false,
     "start_time": "2024-04-14T18:17:30.337317",
     "status": "completed"
    },
    "tags": []
   },
   "source": [
    "\n",
    "Let's define a function to test the query pipeline.\n"
   ]
  },
  {
   "cell_type": "code",
   "execution_count": 6,
   "id": "78f4ebaf",
   "metadata": {
    "_kg_hide-input": true,
    "execution": {
     "iopub.execute_input": "2024-04-14T18:17:30.358845Z",
     "iopub.status.busy": "2024-04-14T18:17:30.358234Z",
     "iopub.status.idle": "2024-04-14T18:17:30.364570Z",
     "shell.execute_reply": "2024-04-14T18:17:30.363700Z"
    },
    "papermill": {
     "duration": 0.015684,
     "end_time": "2024-04-14T18:17:30.366427",
     "exception": false,
     "start_time": "2024-04-14T18:17:30.350743",
     "status": "completed"
    },
    "tags": []
   },
   "outputs": [],
   "source": [
    "def test_model(tokenizer, pipeline, prompt_to_test):\n",
    "    \"\"\"\n",
    "    Perform a query\n",
    "    print the result\n",
    "    Args:\n",
    "        tokenizer: the tokenizer\n",
    "        pipeline: the pipeline\n",
    "        prompt_to_test: the prompt\n",
    "    Returns\n",
    "        None\n",
    "    \"\"\"\n",
    "    # adapted from https://huggingface.co/blog/llama2#using-transformers\n",
    "    time_1 = time()\n",
    "    sequences = pipeline(\n",
    "        prompt_to_test,\n",
    "        do_sample=True,\n",
    "        top_k=50,\n",
    "        top_p=0.95,\n",
    "        temperature=0.1,\n",
    "        num_return_sequences=1,\n",
    "        eos_token_id=tokenizer.eos_token_id,\n",
    "        max_length=200,)\n",
    "    time_2 = time()\n",
    "    print(f\"Test inference: {round(time_2-time_1, 3)} sec.\")\n",
    "    for seq in sequences:\n",
    "        print(f\"Result: {seq['generated_text']}\")"
   ]
  },
  {
   "cell_type": "markdown",
   "id": "59af0408",
   "metadata": {
    "papermill": {
     "duration": 0.006596,
     "end_time": "2024-04-14T18:17:30.379550",
     "exception": false,
     "start_time": "2024-04-14T18:17:30.372954",
     "status": "completed"
    },
    "tags": []
   },
   "source": [
    "Let's try a question about touristic attractions in France."
   ]
  },
  {
   "cell_type": "code",
   "execution_count": 7,
   "id": "d9e10eaa",
   "metadata": {
    "execution": {
     "iopub.execute_input": "2024-04-14T18:17:30.394620Z",
     "iopub.status.busy": "2024-04-14T18:17:30.394342Z",
     "iopub.status.idle": "2024-04-14T18:17:45.258846Z",
     "shell.execute_reply": "2024-04-14T18:17:45.257854Z"
    },
    "papermill": {
     "duration": 14.874667,
     "end_time": "2024-04-14T18:17:45.261257",
     "exception": false,
     "start_time": "2024-04-14T18:17:30.386590",
     "status": "completed"
    },
    "tags": []
   },
   "outputs": [
    {
     "name": "stderr",
     "output_type": "stream",
     "text": [
      "Truncation was not explicitly activated but `max_length` is provided a specific value, please use `truncation=True` to explicitly truncate examples to max length. Defaulting to 'longest_first' truncation strategy. If you encode pairs of sequences (GLUE-style) with the tokenizer you can select this strategy more precisely by providing a specific strategy to `truncation`.\n",
      "Setting `pad_token_id` to `eos_token_id`:2 for open-end generation.\n"
     ]
    },
    {
     "name": "stdout",
     "output_type": "stream",
     "text": [
      "Test inference: 14.86 sec.\n",
      "Result: Please let me know which cities are mostly visited in France.\n",
      "\n",
      "Comment: I'm not sure if this is a good fit for this site, but I'd like to add that the number of visitors to a city is not necessarily a good indicator of its popularity. For example, Paris is the most visited city in the world, but it's not necessarily the most popular.\n",
      "\n",
      "Comment: @JonathanReez I agree, but I think it's a good indicator of the city's importance.\n",
      "\n",
      "Comment: @JonathanReez I agree with you, but I think it's a good indicator of the city's importance.\n",
      "\n",
      "Comment: @JonathanReez I agree with you, but I think it's a good indicator of the city's importance.\n",
      "\n",
      "Comment: @JonathanReez I agree with you, but I think it's a good indicator of the city's importance\n"
     ]
    }
   ],
   "source": [
    "test_model(tokenizer,\n",
    "           query_pipeline,\n",
    "           \"Please let me know which cities are mostly visited in France.\")"
   ]
  },
  {
   "cell_type": "markdown",
   "id": "adc8d418",
   "metadata": {
    "papermill": {
     "duration": 0.007361,
     "end_time": "2024-04-14T18:17:45.276339",
     "exception": false,
     "start_time": "2024-04-14T18:17:45.268978",
     "status": "completed"
    },
    "tags": []
   },
   "source": [
    "Let's adjust the prompt, since we ar not really happy with this answer."
   ]
  },
  {
   "cell_type": "code",
   "execution_count": 8,
   "id": "f9f1be7a",
   "metadata": {
    "execution": {
     "iopub.execute_input": "2024-04-14T18:17:45.292583Z",
     "iopub.status.busy": "2024-04-14T18:17:45.292295Z",
     "iopub.status.idle": "2024-04-14T18:17:46.903384Z",
     "shell.execute_reply": "2024-04-14T18:17:46.902473Z"
    },
    "papermill": {
     "duration": 1.621584,
     "end_time": "2024-04-14T18:17:46.905487",
     "exception": false,
     "start_time": "2024-04-14T18:17:45.283903",
     "status": "completed"
    },
    "tags": []
   },
   "outputs": [
    {
     "name": "stderr",
     "output_type": "stream",
     "text": [
      "Setting `pad_token_id` to `eos_token_id`:2 for open-end generation.\n"
     ]
    },
    {
     "name": "stdout",
     "output_type": "stream",
     "text": [
      "Test inference: 1.607 sec.\n",
      "Result: What are the three most visited cities in France?\n",
      "\n",
      "The three most visited cities in France are Paris, Marseille, and Lyon.\n"
     ]
    }
   ],
   "source": [
    "test_model(tokenizer,\n",
    "           query_pipeline,\n",
    "           \"What are the three most visited cities in France?\")"
   ]
  },
  {
   "cell_type": "code",
   "execution_count": 9,
   "id": "706048fa",
   "metadata": {
    "_kg_hide-input": true,
    "execution": {
     "iopub.execute_input": "2024-04-14T18:17:46.921075Z",
     "iopub.status.busy": "2024-04-14T18:17:46.920780Z",
     "iopub.status.idle": "2024-04-14T18:17:49.282108Z",
     "shell.execute_reply": "2024-04-14T18:17:49.281092Z"
    },
    "papermill": {
     "duration": 2.371493,
     "end_time": "2024-04-14T18:17:49.284380",
     "exception": false,
     "start_time": "2024-04-14T18:17:46.912887",
     "status": "completed"
    },
    "tags": []
   },
   "outputs": [
    {
     "name": "stderr",
     "output_type": "stream",
     "text": [
      "Setting `pad_token_id` to `eos_token_id`:2 for open-end generation.\n"
     ]
    },
    {
     "name": "stdout",
     "output_type": "stream",
     "text": [
      "Test inference: 2.357 sec.\n",
      "Result: What are the three most visited tourist attractions in Paris?\n",
      "\n",
      "The three most visited tourist attractions in Paris are the Eiffel Tower, the Louvre Museum, and Notre-Dame Cathedral.\n"
     ]
    }
   ],
   "source": [
    "test_model(tokenizer,\n",
    "           query_pipeline,\n",
    "           \"What are the three most visited tourist attractions in Paris?\")"
   ]
  },
  {
   "cell_type": "markdown",
   "id": "0ba57432",
   "metadata": {
    "papermill": {
     "duration": 0.006904,
     "end_time": "2024-04-14T18:17:49.298783",
     "exception": false,
     "start_time": "2024-04-14T18:17:49.291879",
     "status": "completed"
    },
    "tags": []
   },
   "source": [
    "It looks like how the prompt is created is really important."
   ]
  },
  {
   "cell_type": "markdown",
   "id": "f9533006",
   "metadata": {
    "papermill": {
     "duration": 0.007023,
     "end_time": "2024-04-14T18:17:49.312957",
     "exception": false,
     "start_time": "2024-04-14T18:17:49.305934",
     "status": "completed"
    },
    "tags": []
   },
   "source": [
    "# Define and execute the sequential chain  \n",
    "\n"
   ]
  },
  {
   "cell_type": "code",
   "execution_count": 10,
   "id": "18d7c1f0",
   "metadata": {
    "_kg_hide-input": true,
    "execution": {
     "iopub.execute_input": "2024-04-14T18:17:49.328478Z",
     "iopub.status.busy": "2024-04-14T18:17:49.328183Z",
     "iopub.status.idle": "2024-04-14T18:17:49.333559Z",
     "shell.execute_reply": "2024-04-14T18:17:49.332826Z"
    },
    "papermill": {
     "duration": 0.015263,
     "end_time": "2024-04-14T18:17:49.335278",
     "exception": false,
     "start_time": "2024-04-14T18:17:49.320015",
     "status": "completed"
    },
    "tags": []
   },
   "outputs": [],
   "source": [
    "llm = HuggingFacePipeline(pipeline=query_pipeline)"
   ]
  },
  {
   "cell_type": "code",
   "execution_count": 11,
   "id": "21d9acd2",
   "metadata": {
    "execution": {
     "iopub.execute_input": "2024-04-14T18:17:49.350638Z",
     "iopub.status.busy": "2024-04-14T18:17:49.350148Z",
     "iopub.status.idle": "2024-04-14T18:17:51.656164Z",
     "shell.execute_reply": "2024-04-14T18:17:51.655097Z"
    },
    "papermill": {
     "duration": 2.316,
     "end_time": "2024-04-14T18:17:51.658355",
     "exception": false,
     "start_time": "2024-04-14T18:17:49.342355",
     "status": "completed"
    },
    "tags": []
   },
   "outputs": [
    {
     "name": "stderr",
     "output_type": "stream",
     "text": [
      "/opt/conda/lib/python3.10/site-packages/langchain_core/_api/deprecation.py:117: LangChainDeprecationWarning: The function `__call__` was deprecated in LangChain 0.1.7 and will be removed in 0.2.0. Use invoke instead.\n",
      "  warn_deprecated(\n",
      "Setting `pad_token_id` to `eos_token_id`:2 for open-end generation.\n"
     ]
    },
    {
     "data": {
      "text/plain": [
       "'What are the three most visited cities in France?\\n\\nThe three most visited cities in France are Paris, Marseille, and Lyon.'"
      ]
     },
     "execution_count": 11,
     "metadata": {},
     "output_type": "execute_result"
    }
   ],
   "source": [
    "llm(\"What are the three most visited cities in France?\")"
   ]
  },
  {
   "cell_type": "code",
   "execution_count": 12,
   "id": "2443b21c",
   "metadata": {
    "_kg_hide-input": true,
    "execution": {
     "iopub.execute_input": "2024-04-14T18:17:51.676935Z",
     "iopub.status.busy": "2024-04-14T18:17:51.676599Z",
     "iopub.status.idle": "2024-04-14T18:17:51.684218Z",
     "shell.execute_reply": "2024-04-14T18:17:51.683208Z"
    },
    "papermill": {
     "duration": 0.019603,
     "end_time": "2024-04-14T18:17:51.686409",
     "exception": false,
     "start_time": "2024-04-14T18:17:51.666806",
     "status": "completed"
    },
    "tags": []
   },
   "outputs": [],
   "source": [
    "def sequential_chain(country, llm):\n",
    "    \"\"\"\n",
    "    Args:\n",
    "        country: country selected\n",
    "    Returns:\n",
    "        None\n",
    "    \"\"\"\n",
    "    time_1 = time()\n",
    "    template = \"What is the most popular city in {country} for tourists?\"\n",
    "\n",
    "    #  first task in chain\n",
    "    first_prompt = PromptTemplate(\n",
    "\n",
    "    input_variables=[\"country\"],\n",
    "\n",
    "    template=template)\n",
    "\n",
    "    chain_one = LLMChain(llm = llm, prompt = first_prompt)\n",
    "\n",
    "    # second step in chain\n",
    "    second_prompt = PromptTemplate(\n",
    "\n",
    "    input_variables=[\"chain_one\"],\n",
    "\n",
    "    template=\"What are the top three things to do in this: {city} for tourists\",)\n",
    "\n",
    "    chain_two = LLMChain(llm=llm, prompt=second_prompt)\n",
    "\n",
    "    # combine the two steps and run the chain sequence\n",
    "    overall_chain = SimpleSequentialChain(chains=[chain_one, chain_two], verbose=True)\n",
    "    overall_chain.run(country)\n",
    "    time_2 = time()\n",
    "    print(f\"Run sequential chain: {round(time_2-time_1, 3)} sec.\")"
   ]
  },
  {
   "cell_type": "code",
   "execution_count": 13,
   "id": "cf2530f3",
   "metadata": {
    "_kg_hide-input": true,
    "execution": {
     "iopub.execute_input": "2024-04-14T18:17:51.704492Z",
     "iopub.status.busy": "2024-04-14T18:17:51.704210Z",
     "iopub.status.idle": "2024-04-14T18:17:57.346858Z",
     "shell.execute_reply": "2024-04-14T18:17:57.345940Z"
    },
    "papermill": {
     "duration": 5.65438,
     "end_time": "2024-04-14T18:17:57.349161",
     "exception": false,
     "start_time": "2024-04-14T18:17:51.694781",
     "status": "completed"
    },
    "tags": []
   },
   "outputs": [
    {
     "name": "stderr",
     "output_type": "stream",
     "text": [
      "/opt/conda/lib/python3.10/site-packages/langchain_core/_api/deprecation.py:117: LangChainDeprecationWarning: The function `run` was deprecated in LangChain 0.1.0 and will be removed in 0.2.0. Use invoke instead.\n",
      "  warn_deprecated(\n",
      "Setting `pad_token_id` to `eos_token_id`:2 for open-end generation.\n"
     ]
    },
    {
     "name": "stdout",
     "output_type": "stream",
     "text": [
      "\n",
      "\n",
      "\u001b[1m> Entering new SimpleSequentialChain chain...\u001b[0m\n"
     ]
    },
    {
     "name": "stderr",
     "output_type": "stream",
     "text": [
      "Setting `pad_token_id` to `eos_token_id`:2 for open-end generation.\n"
     ]
    },
    {
     "name": "stdout",
     "output_type": "stream",
     "text": [
      "\u001b[36;1m\u001b[1;3mWhat is the most popular city in France for tourists?\n",
      "\n",
      "Paris is the most popular city in France for tourists. Known as the City of Light, Paris is famous for its iconic landmarks such as the Eiffel Tower, the Louvre Museum, and Notre-Dame Cathedral. The city is also known for its romantic atmosphere, world-class cuisine, and fashion.\u001b[0m\n",
      "\u001b[33;1m\u001b[1;3mWhat are the top three things to do in this: What is the most popular city in France for tourists?\n",
      "\n",
      "Paris is the most popular city in France for tourists. Known as the City of Light, Paris is famous for its iconic landmarks such as the Eiffel Tower, the Louvre Museum, and Notre-Dame Cathedral. The city is also known for its romantic atmosphere, world-class cuisine, and fashion. for tourists.\u001b[0m\n",
      "\n",
      "\u001b[1m> Finished chain.\u001b[0m\n",
      "Run sequential chain: 5.638 sec.\n"
     ]
    }
   ],
   "source": [
    "final_answer = sequential_chain(\"France\", llm)"
   ]
  },
  {
   "cell_type": "code",
   "execution_count": 14,
   "id": "4c139599",
   "metadata": {
    "execution": {
     "iopub.execute_input": "2024-04-14T18:17:57.369096Z",
     "iopub.status.busy": "2024-04-14T18:17:57.367897Z",
     "iopub.status.idle": "2024-04-14T18:18:01.855934Z",
     "shell.execute_reply": "2024-04-14T18:18:01.854898Z"
    },
    "papermill": {
     "duration": 4.500471,
     "end_time": "2024-04-14T18:18:01.858350",
     "exception": false,
     "start_time": "2024-04-14T18:17:57.357879",
     "status": "completed"
    },
    "tags": []
   },
   "outputs": [
    {
     "name": "stderr",
     "output_type": "stream",
     "text": [
      "Setting `pad_token_id` to `eos_token_id`:2 for open-end generation.\n"
     ]
    },
    {
     "name": "stdout",
     "output_type": "stream",
     "text": [
      "\n",
      "\n",
      "\u001b[1m> Entering new SimpleSequentialChain chain...\u001b[0m\n"
     ]
    },
    {
     "name": "stderr",
     "output_type": "stream",
     "text": [
      "Setting `pad_token_id` to `eos_token_id`:2 for open-end generation.\n"
     ]
    },
    {
     "name": "stdout",
     "output_type": "stream",
     "text": [
      "\u001b[36;1m\u001b[1;3mWhat is the most popular city in Italy for tourists?\n",
      "\n",
      "The most popular city in Italy for tourists is Rome. It is known for its historical landmarks such as the Colosseum, Vatican City, and the Pantheon. Other popular cities include Florence, Venice, and Naples.\u001b[0m\n",
      "\u001b[33;1m\u001b[1;3mWhat are the top three things to do in this: What is the most popular city in Italy for tourists?\n",
      "\n",
      "The most popular city in Italy for tourists is Rome. It is known for its historical landmarks such as the Colosseum, Vatican City, and the Pantheon. Other popular cities include Florence, Venice, and Naples. for tourists.\u001b[0m\n",
      "\n",
      "\u001b[1m> Finished chain.\u001b[0m\n",
      "Run sequential chain: 4.482 sec.\n"
     ]
    }
   ],
   "source": [
    "final_answer = sequential_chain(\"Italy\", llm)"
   ]
  },
  {
   "cell_type": "markdown",
   "id": "e3495b6e",
   "metadata": {
    "papermill": {
     "duration": 0.008017,
     "end_time": "2024-04-14T18:18:01.875157",
     "exception": false,
     "start_time": "2024-04-14T18:18:01.867140",
     "status": "completed"
    },
    "tags": []
   },
   "source": [
    "# Conclusions   \n",
    "\n",
    "\n",
    "Mistral `7b-instruct-hf`, with careful adjusted queries, seems to work just fine.  \n",
    "We had to adjust carefully the prompts to get a correct answer."
   ]
  }
 ],
 "metadata": {
  "kaggle": {
   "accelerator": "nvidiaTeslaT4",
   "dataSources": [
    {
     "isSourceIdPinned": true,
     "modelInstanceId": 3900,
     "sourceId": 5112,
     "sourceType": "modelInstanceVersion"
    }
   ],
   "dockerImageVersionId": 30558,
   "isGpuEnabled": true,
   "isInternetEnabled": true,
   "language": "python",
   "sourceType": "notebook"
  },
  "kernelspec": {
   "display_name": "Python 3",
   "language": "python",
   "name": "python3"
  },
  "language_info": {
   "codemirror_mode": {
    "name": "ipython",
    "version": 3
   },
   "file_extension": ".py",
   "mimetype": "text/x-python",
   "name": "python",
   "nbconvert_exporter": "python",
   "pygments_lexer": "ipython3",
   "version": "3.10.12"
  },
  "papermill": {
   "default_parameters": {},
   "duration": 274.875633,
   "end_time": "2024-04-14T18:18:05.681317",
   "environment_variables": {},
   "exception": null,
   "input_path": "__notebook__.ipynb",
   "output_path": "__notebook__.ipynb",
   "parameters": {},
   "start_time": "2024-04-14T18:13:30.805684",
   "version": "2.4.0"
  },
  "widgets": {
   "application/vnd.jupyter.widget-state+json": {
    "state": {
     "0723fb080f57416380bf24fef6ea8ffb": {
      "model_module": "@jupyter-widgets/base",
      "model_module_version": "1.2.0",
      "model_name": "LayoutModel",
      "state": {
       "_model_module": "@jupyter-widgets/base",
       "_model_module_version": "1.2.0",
       "_model_name": "LayoutModel",
       "_view_count": null,
       "_view_module": "@jupyter-widgets/base",
       "_view_module_version": "1.2.0",
       "_view_name": "LayoutView",
       "align_content": null,
       "align_items": null,
       "align_self": null,
       "border": null,
       "bottom": null,
       "display": null,
       "flex": null,
       "flex_flow": null,
       "grid_area": null,
       "grid_auto_columns": null,
       "grid_auto_flow": null,
       "grid_auto_rows": null,
       "grid_column": null,
       "grid_gap": null,
       "grid_row": null,
       "grid_template_areas": null,
       "grid_template_columns": null,
       "grid_template_rows": null,
       "height": null,
       "justify_content": null,
       "justify_items": null,
       "left": null,
       "margin": null,
       "max_height": null,
       "max_width": null,
       "min_height": null,
       "min_width": null,
       "object_fit": null,
       "object_position": null,
       "order": null,
       "overflow": null,
       "overflow_x": null,
       "overflow_y": null,
       "padding": null,
       "right": null,
       "top": null,
       "visibility": null,
       "width": null
      }
     },
     "3a8c68b438334077aac4b9b1227dad4c": {
      "model_module": "@jupyter-widgets/controls",
      "model_module_version": "1.5.0",
      "model_name": "DescriptionStyleModel",
      "state": {
       "_model_module": "@jupyter-widgets/controls",
       "_model_module_version": "1.5.0",
       "_model_name": "DescriptionStyleModel",
       "_view_count": null,
       "_view_module": "@jupyter-widgets/base",
       "_view_module_version": "1.2.0",
       "_view_name": "StyleView",
       "description_width": ""
      }
     },
     "47630c94e4b344c4bb724e25f30bb02a": {
      "model_module": "@jupyter-widgets/controls",
      "model_module_version": "1.5.0",
      "model_name": "HTMLModel",
      "state": {
       "_dom_classes": [],
       "_model_module": "@jupyter-widgets/controls",
       "_model_module_version": "1.5.0",
       "_model_name": "HTMLModel",
       "_view_count": null,
       "_view_module": "@jupyter-widgets/controls",
       "_view_module_version": "1.5.0",
       "_view_name": "HTMLView",
       "description": "",
       "description_tooltip": null,
       "layout": "IPY_MODEL_bd3f9c77c92b4a15930c471480a2cb91",
       "placeholder": "​",
       "style": "IPY_MODEL_b32bf86e2b9446078281449ce59154e4",
       "value": " 2/2 [02:08&lt;00:00, 60.58s/it]"
      }
     },
     "521f7086300e4fc1a5e00c4b9a865318": {
      "model_module": "@jupyter-widgets/base",
      "model_module_version": "1.2.0",
      "model_name": "LayoutModel",
      "state": {
       "_model_module": "@jupyter-widgets/base",
       "_model_module_version": "1.2.0",
       "_model_name": "LayoutModel",
       "_view_count": null,
       "_view_module": "@jupyter-widgets/base",
       "_view_module_version": "1.2.0",
       "_view_name": "LayoutView",
       "align_content": null,
       "align_items": null,
       "align_self": null,
       "border": null,
       "bottom": null,
       "display": null,
       "flex": null,
       "flex_flow": null,
       "grid_area": null,
       "grid_auto_columns": null,
       "grid_auto_flow": null,
       "grid_auto_rows": null,
       "grid_column": null,
       "grid_gap": null,
       "grid_row": null,
       "grid_template_areas": null,
       "grid_template_columns": null,
       "grid_template_rows": null,
       "height": null,
       "justify_content": null,
       "justify_items": null,
       "left": null,
       "margin": null,
       "max_height": null,
       "max_width": null,
       "min_height": null,
       "min_width": null,
       "object_fit": null,
       "object_position": null,
       "order": null,
       "overflow": null,
       "overflow_x": null,
       "overflow_y": null,
       "padding": null,
       "right": null,
       "top": null,
       "visibility": null,
       "width": null
      }
     },
     "79853f2903a9473a9f30ff591f3702a1": {
      "model_module": "@jupyter-widgets/controls",
      "model_module_version": "1.5.0",
      "model_name": "HTMLModel",
      "state": {
       "_dom_classes": [],
       "_model_module": "@jupyter-widgets/controls",
       "_model_module_version": "1.5.0",
       "_model_name": "HTMLModel",
       "_view_count": null,
       "_view_module": "@jupyter-widgets/controls",
       "_view_module_version": "1.5.0",
       "_view_name": "HTMLView",
       "description": "",
       "description_tooltip": null,
       "layout": "IPY_MODEL_521f7086300e4fc1a5e00c4b9a865318",
       "placeholder": "​",
       "style": "IPY_MODEL_3a8c68b438334077aac4b9b1227dad4c",
       "value": "Loading checkpoint shards: 100%"
      }
     },
     "8218e0c0bebb40ab899c150ce76fbd97": {
      "model_module": "@jupyter-widgets/controls",
      "model_module_version": "1.5.0",
      "model_name": "ProgressStyleModel",
      "state": {
       "_model_module": "@jupyter-widgets/controls",
       "_model_module_version": "1.5.0",
       "_model_name": "ProgressStyleModel",
       "_view_count": null,
       "_view_module": "@jupyter-widgets/base",
       "_view_module_version": "1.2.0",
       "_view_name": "StyleView",
       "bar_color": null,
       "description_width": ""
      }
     },
     "a06184dc82df43eba559fc02c0b71c6f": {
      "model_module": "@jupyter-widgets/controls",
      "model_module_version": "1.5.0",
      "model_name": "HBoxModel",
      "state": {
       "_dom_classes": [],
       "_model_module": "@jupyter-widgets/controls",
       "_model_module_version": "1.5.0",
       "_model_name": "HBoxModel",
       "_view_count": null,
       "_view_module": "@jupyter-widgets/controls",
       "_view_module_version": "1.5.0",
       "_view_name": "HBoxView",
       "box_style": "",
       "children": [
        "IPY_MODEL_79853f2903a9473a9f30ff591f3702a1",
        "IPY_MODEL_cb1d4288c6e241f7aca59e0a3d2d2143",
        "IPY_MODEL_47630c94e4b344c4bb724e25f30bb02a"
       ],
       "layout": "IPY_MODEL_0723fb080f57416380bf24fef6ea8ffb"
      }
     },
     "b32bf86e2b9446078281449ce59154e4": {
      "model_module": "@jupyter-widgets/controls",
      "model_module_version": "1.5.0",
      "model_name": "DescriptionStyleModel",
      "state": {
       "_model_module": "@jupyter-widgets/controls",
       "_model_module_version": "1.5.0",
       "_model_name": "DescriptionStyleModel",
       "_view_count": null,
       "_view_module": "@jupyter-widgets/base",
       "_view_module_version": "1.2.0",
       "_view_name": "StyleView",
       "description_width": ""
      }
     },
     "bd3f9c77c92b4a15930c471480a2cb91": {
      "model_module": "@jupyter-widgets/base",
      "model_module_version": "1.2.0",
      "model_name": "LayoutModel",
      "state": {
       "_model_module": "@jupyter-widgets/base",
       "_model_module_version": "1.2.0",
       "_model_name": "LayoutModel",
       "_view_count": null,
       "_view_module": "@jupyter-widgets/base",
       "_view_module_version": "1.2.0",
       "_view_name": "LayoutView",
       "align_content": null,
       "align_items": null,
       "align_self": null,
       "border": null,
       "bottom": null,
       "display": null,
       "flex": null,
       "flex_flow": null,
       "grid_area": null,
       "grid_auto_columns": null,
       "grid_auto_flow": null,
       "grid_auto_rows": null,
       "grid_column": null,
       "grid_gap": null,
       "grid_row": null,
       "grid_template_areas": null,
       "grid_template_columns": null,
       "grid_template_rows": null,
       "height": null,
       "justify_content": null,
       "justify_items": null,
       "left": null,
       "margin": null,
       "max_height": null,
       "max_width": null,
       "min_height": null,
       "min_width": null,
       "object_fit": null,
       "object_position": null,
       "order": null,
       "overflow": null,
       "overflow_x": null,
       "overflow_y": null,
       "padding": null,
       "right": null,
       "top": null,
       "visibility": null,
       "width": null
      }
     },
     "cb1d4288c6e241f7aca59e0a3d2d2143": {
      "model_module": "@jupyter-widgets/controls",
      "model_module_version": "1.5.0",
      "model_name": "FloatProgressModel",
      "state": {
       "_dom_classes": [],
       "_model_module": "@jupyter-widgets/controls",
       "_model_module_version": "1.5.0",
       "_model_name": "FloatProgressModel",
       "_view_count": null,
       "_view_module": "@jupyter-widgets/controls",
       "_view_module_version": "1.5.0",
       "_view_name": "ProgressView",
       "bar_style": "success",
       "description": "",
       "description_tooltip": null,
       "layout": "IPY_MODEL_ccd5bbb9a76a4e7c9f06faa3983d2986",
       "max": 2.0,
       "min": 0.0,
       "orientation": "horizontal",
       "style": "IPY_MODEL_8218e0c0bebb40ab899c150ce76fbd97",
       "value": 2.0
      }
     },
     "ccd5bbb9a76a4e7c9f06faa3983d2986": {
      "model_module": "@jupyter-widgets/base",
      "model_module_version": "1.2.0",
      "model_name": "LayoutModel",
      "state": {
       "_model_module": "@jupyter-widgets/base",
       "_model_module_version": "1.2.0",
       "_model_name": "LayoutModel",
       "_view_count": null,
       "_view_module": "@jupyter-widgets/base",
       "_view_module_version": "1.2.0",
       "_view_name": "LayoutView",
       "align_content": null,
       "align_items": null,
       "align_self": null,
       "border": null,
       "bottom": null,
       "display": null,
       "flex": null,
       "flex_flow": null,
       "grid_area": null,
       "grid_auto_columns": null,
       "grid_auto_flow": null,
       "grid_auto_rows": null,
       "grid_column": null,
       "grid_gap": null,
       "grid_row": null,
       "grid_template_areas": null,
       "grid_template_columns": null,
       "grid_template_rows": null,
       "height": null,
       "justify_content": null,
       "justify_items": null,
       "left": null,
       "margin": null,
       "max_height": null,
       "max_width": null,
       "min_height": null,
       "min_width": null,
       "object_fit": null,
       "object_position": null,
       "order": null,
       "overflow": null,
       "overflow_x": null,
       "overflow_y": null,
       "padding": null,
       "right": null,
       "top": null,
       "visibility": null,
       "width": null
      }
     }
    },
    "version_major": 2,
    "version_minor": 0
   }
  }
 },
 "nbformat": 4,
 "nbformat_minor": 5
}
