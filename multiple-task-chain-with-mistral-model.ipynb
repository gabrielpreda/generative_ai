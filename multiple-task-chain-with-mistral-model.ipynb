{
 "cells": [
  {
   "cell_type": "markdown",
   "id": "1d1fdf96",
   "metadata": {
    "papermill": {
     "duration": 0.006923,
     "end_time": "2024-04-15T21:21:58.391579",
     "exception": false,
     "start_time": "2024-04-15T21:21:58.384656",
     "status": "completed"
    },
    "tags": []
   },
   "source": [
    "# Introduction   \n",
    "\n",
    "\n",
    "We will experiment now with the Mistral model.\n",
    "\n",
    "\n",
    "## Model specification  \n",
    "\n",
    "The model details are:\n",
    "\n",
    "* **Model**: Mistral\n",
    "* **Variation**: 7b-instruct-v0.1-hf (7b: 7B dimm. hf: HuggingFace build)\n",
    "* **Version**: V1\n",
    "* **Framework**: PyTorch"
   ]
  },
  {
   "cell_type": "markdown",
   "id": "a8e57eca",
   "metadata": {
    "papermill": {
     "duration": 0.006109,
     "end_time": "2024-04-15T21:21:58.404139",
     "exception": false,
     "start_time": "2024-04-15T21:21:58.398030",
     "status": "completed"
    },
    "tags": []
   },
   "source": [
    "# Install and import packages  "
   ]
  },
  {
   "cell_type": "code",
   "execution_count": 1,
   "id": "a497f00a",
   "metadata": {
    "_kg_hide-input": true,
    "_kg_hide-output": true,
    "execution": {
     "iopub.execute_input": "2024-04-15T21:21:58.418319Z",
     "iopub.status.busy": "2024-04-15T21:21:58.417940Z",
     "iopub.status.idle": "2024-04-15T21:22:54.505395Z",
     "shell.execute_reply": "2024-04-15T21:22:54.504304Z"
    },
    "papermill": {
     "duration": 56.097642,
     "end_time": "2024-04-15T21:22:54.508036",
     "exception": false,
     "start_time": "2024-04-15T21:21:58.410394",
     "status": "completed"
    },
    "tags": []
   },
   "outputs": [],
   "source": [
    "!pip install -q -U transformers\n",
    "!pip install -q -U accelerate\n",
    "!pip install -q -U bitsandbytes"
   ]
  },
  {
   "cell_type": "code",
   "execution_count": 2,
   "id": "9ac0a91b",
   "metadata": {
    "_kg_hide-input": true,
    "_kg_hide-output": true,
    "execution": {
     "iopub.execute_input": "2024-04-15T21:22:54.522239Z",
     "iopub.status.busy": "2024-04-15T21:22:54.521924Z",
     "iopub.status.idle": "2024-04-15T21:23:25.819749Z",
     "shell.execute_reply": "2024-04-15T21:23:25.818756Z"
    },
    "papermill": {
     "duration": 31.307345,
     "end_time": "2024-04-15T21:23:25.822110",
     "exception": false,
     "start_time": "2024-04-15T21:22:54.514765",
     "status": "completed"
    },
    "tags": []
   },
   "outputs": [
    {
     "name": "stdout",
     "output_type": "stream",
     "text": [
      "\u001b[31mERROR: pip's dependency resolver does not currently take into account all the packages that are installed. This behaviour is the source of the following dependency conflicts.\r\n",
      "cudf 23.8.0 requires cupy-cuda11x>=12.0.0, which is not installed.\r\n",
      "cuml 23.8.0 requires cupy-cuda11x>=12.0.0, which is not installed.\r\n",
      "dask-cudf 23.8.0 requires cupy-cuda11x>=12.0.0, which is not installed.\r\n",
      "apache-beam 2.46.0 requires dill<0.3.2,>=0.3.1.1, but you have dill 0.3.7 which is incompatible.\r\n",
      "apache-beam 2.46.0 requires pyarrow<10.0.0,>=3.0.0, but you have pyarrow 11.0.0 which is incompatible.\r\n",
      "cudf 23.8.0 requires pandas<1.6.0dev0,>=1.3, but you have pandas 2.0.2 which is incompatible.\r\n",
      "cudf 23.8.0 requires protobuf<5,>=4.21, but you have protobuf 3.20.3 which is incompatible.\r\n",
      "cuml 23.8.0 requires dask==2023.7.1, but you have dask 2023.9.0 which is incompatible.\r\n",
      "dask-cuda 23.8.0 requires dask==2023.7.1, but you have dask 2023.9.0 which is incompatible.\r\n",
      "dask-cuda 23.8.0 requires pandas<1.6.0dev0,>=1.3, but you have pandas 2.0.2 which is incompatible.\r\n",
      "dask-cudf 23.8.0 requires dask==2023.7.1, but you have dask 2023.9.0 which is incompatible.\r\n",
      "dask-cudf 23.8.0 requires pandas<1.6.0dev0,>=1.3, but you have pandas 2.0.2 which is incompatible.\r\n",
      "distributed 2023.7.1 requires dask==2023.7.1, but you have dask 2023.9.0 which is incompatible.\r\n",
      "google-cloud-bigquery 2.34.4 requires packaging<22.0dev,>=14.3, but you have packaging 23.2 which is incompatible.\r\n",
      "jupyterlab-lsp 4.2.0 requires jupyter-lsp>=2.0.0, but you have jupyter-lsp 1.5.1 which is incompatible.\r\n",
      "momepy 0.6.0 requires shapely>=2, but you have shapely 1.8.5.post1 which is incompatible.\r\n",
      "pymc3 3.11.5 requires numpy<1.22.2,>=1.15.0, but you have numpy 1.23.5 which is incompatible.\r\n",
      "pymc3 3.11.5 requires scipy<1.8.0,>=1.7.3, but you have scipy 1.11.2 which is incompatible.\r\n",
      "raft-dask 23.8.0 requires dask==2023.7.1, but you have dask 2023.9.0 which is incompatible.\r\n",
      "ydata-profiling 4.3.1 requires scipy<1.11,>=1.4.1, but you have scipy 1.11.2 which is incompatible.\u001b[0m\u001b[31m\r\n",
      "\u001b[0m"
     ]
    }
   ],
   "source": [
    "!pip install -q -U langchain"
   ]
  },
  {
   "cell_type": "code",
   "execution_count": 3,
   "id": "66ef7c1d",
   "metadata": {
    "_kg_hide-input": true,
    "execution": {
     "iopub.execute_input": "2024-04-15T21:23:25.836268Z",
     "iopub.status.busy": "2024-04-15T21:23:25.835959Z",
     "iopub.status.idle": "2024-04-15T21:23:40.719366Z",
     "shell.execute_reply": "2024-04-15T21:23:40.718481Z"
    },
    "papermill": {
     "duration": 14.893245,
     "end_time": "2024-04-15T21:23:40.721753",
     "exception": false,
     "start_time": "2024-04-15T21:23:25.828508",
     "status": "completed"
    },
    "tags": []
   },
   "outputs": [
    {
     "name": "stderr",
     "output_type": "stream",
     "text": [
      "/opt/conda/lib/python3.10/site-packages/scipy/__init__.py:146: UserWarning: A NumPy version >=1.16.5 and <1.23.0 is required for this version of SciPy (detected version 1.23.5\n",
      "  warnings.warn(f\"A NumPy version >={np_minversion} and <{np_maxversion}\"\n"
     ]
    }
   ],
   "source": [
    "import torch\n",
    "from time import time\n",
    "from transformers import AutoTokenizer, AutoModelForCausalLM, pipeline\n",
    "from transformers import pipeline\n",
    "from langchain.llms import HuggingFacePipeline\n",
    "from langchain.chains import LLMChain, SimpleSequentialChain\n",
    "from langchain import PromptTemplate"
   ]
  },
  {
   "cell_type": "markdown",
   "id": "d9f16605",
   "metadata": {
    "papermill": {
     "duration": 0.006199,
     "end_time": "2024-04-15T21:23:40.734613",
     "exception": false,
     "start_time": "2024-04-15T21:23:40.728414",
     "status": "completed"
    },
    "tags": []
   },
   "source": [
    "# Define model  "
   ]
  },
  {
   "cell_type": "code",
   "execution_count": 4,
   "id": "defc7904",
   "metadata": {
    "_kg_hide-input": true,
    "execution": {
     "iopub.execute_input": "2024-04-15T21:23:40.748624Z",
     "iopub.status.busy": "2024-04-15T21:23:40.748129Z",
     "iopub.status.idle": "2024-04-15T21:26:54.284955Z",
     "shell.execute_reply": "2024-04-15T21:26:54.283949Z"
    },
    "papermill": {
     "duration": 193.546041,
     "end_time": "2024-04-15T21:26:54.286906",
     "exception": false,
     "start_time": "2024-04-15T21:23:40.740865",
     "status": "completed"
    },
    "tags": []
   },
   "outputs": [
    {
     "data": {
      "application/vnd.jupyter.widget-view+json": {
       "model_id": "11484796b28c43e090b750097db5453a",
       "version_major": 2,
       "version_minor": 0
      },
      "text/plain": [
       "Loading checkpoint shards:   0%|          | 0/2 [00:00<?, ?it/s]"
      ]
     },
     "metadata": {},
     "output_type": "display_data"
    },
    {
     "name": "stderr",
     "output_type": "stream",
     "text": [
      "/opt/conda/lib/python3.10/site-packages/torch/_utils.py:776: UserWarning: TypedStorage is deprecated. It will be removed in the future and UntypedStorage will be the only storage class. This should only matter to you if you are using storages directly.  To access UntypedStorage directly, use tensor.untyped_storage() instead of tensor.storage()\n",
      "  return self.fget.__get__(instance, owner)()\n"
     ]
    },
    {
     "name": "stdout",
     "output_type": "stream",
     "text": [
      "Tokenizer & pipeline: 194 sec.\n"
     ]
    }
   ],
   "source": [
    "model_id = '/kaggle/input/mistral/pytorch/7b-instruct-v0.1-hf/1'\n",
    "time_1 = time()\n",
    "tokenizer = AutoTokenizer.from_pretrained(model_id)\n",
    "model_name = AutoModelForCausalLM.from_pretrained(\n",
    "        model_id,\n",
    "        torch_dtype=torch.bfloat16,\n",
    "        device_map=\"auto\",\n",
    "        trust_remote_code=True,\n",
    "    )\n",
    "print(f\"Tokenizer & pipeline: {round(time() - time_1)} sec.\")"
   ]
  },
  {
   "cell_type": "markdown",
   "id": "e431736b",
   "metadata": {
    "papermill": {
     "duration": 0.006451,
     "end_time": "2024-04-15T21:26:54.300117",
     "exception": false,
     "start_time": "2024-04-15T21:26:54.293666",
     "status": "completed"
    },
    "tags": []
   },
   "source": [
    "# Test model  \n",
    "\n",
    "Let's test the model."
   ]
  },
  {
   "cell_type": "code",
   "execution_count": 5,
   "id": "7e471a9c",
   "metadata": {
    "_kg_hide-input": true,
    "execution": {
     "iopub.execute_input": "2024-04-15T21:26:54.314740Z",
     "iopub.status.busy": "2024-04-15T21:26:54.314464Z",
     "iopub.status.idle": "2024-04-15T21:26:54.320489Z",
     "shell.execute_reply": "2024-04-15T21:26:54.319599Z"
    },
    "papermill": {
     "duration": 0.015272,
     "end_time": "2024-04-15T21:26:54.322383",
     "exception": false,
     "start_time": "2024-04-15T21:26:54.307111",
     "status": "completed"
    },
    "tags": []
   },
   "outputs": [
    {
     "name": "stdout",
     "output_type": "stream",
     "text": [
      "Prepare pipeline: 0.0 sec.\n"
     ]
    }
   ],
   "source": [
    "time_1 = time()\n",
    "query_pipeline = pipeline(\n",
    "        \"text-generation\",\n",
    "        model=model_name,\n",
    "        tokenizer=tokenizer,\n",
    "        do_sample=True,\n",
    "        top_k=50,\n",
    "        top_p=0.95,\n",
    "        temperature=0.1,\n",
    "        num_return_sequences=1,\n",
    "        eos_token_id=tokenizer.eos_token_id,\n",
    "        torch_dtype=torch.float16,\n",
    "        device_map=\"auto\",\n",
    "        max_length=256,)\n",
    "time_2 = time()\n",
    "print(f\"Prepare pipeline: {round(time_2-time_1, 3)} sec.\")"
   ]
  },
  {
   "cell_type": "markdown",
   "id": "21ea39b6",
   "metadata": {
    "papermill": {
     "duration": 0.006421,
     "end_time": "2024-04-15T21:26:54.335333",
     "exception": false,
     "start_time": "2024-04-15T21:26:54.328912",
     "status": "completed"
    },
    "tags": []
   },
   "source": [
    "\n",
    "Let's define a function to test the query pipeline.\n"
   ]
  },
  {
   "cell_type": "code",
   "execution_count": 6,
   "id": "c1eea8c1",
   "metadata": {
    "_kg_hide-input": true,
    "execution": {
     "iopub.execute_input": "2024-04-15T21:26:54.349921Z",
     "iopub.status.busy": "2024-04-15T21:26:54.349375Z",
     "iopub.status.idle": "2024-04-15T21:26:54.355534Z",
     "shell.execute_reply": "2024-04-15T21:26:54.354684Z"
    },
    "papermill": {
     "duration": 0.015451,
     "end_time": "2024-04-15T21:26:54.357298",
     "exception": false,
     "start_time": "2024-04-15T21:26:54.341847",
     "status": "completed"
    },
    "tags": []
   },
   "outputs": [],
   "source": [
    "def test_model(tokenizer, pipeline, prompt_to_test):\n",
    "    \"\"\"\n",
    "    Perform a query\n",
    "    print the result\n",
    "    Args:\n",
    "        tokenizer: the tokenizer\n",
    "        pipeline: the pipeline\n",
    "        prompt_to_test: the prompt\n",
    "    Returns\n",
    "        None\n",
    "    \"\"\"\n",
    "    # adapted from https://huggingface.co/blog/llama2#using-transformers\n",
    "    time_1 = time()\n",
    "    sequences = pipeline(\n",
    "        prompt_to_test,\n",
    "        do_sample=True,\n",
    "        top_k=50,\n",
    "        top_p=0.95,\n",
    "        temperature=0.1,\n",
    "        num_return_sequences=1,\n",
    "        eos_token_id=tokenizer.eos_token_id,\n",
    "        max_length=200,)\n",
    "    time_2 = time()\n",
    "    print(f\"Test inference: {round(time_2-time_1, 3)} sec.\")\n",
    "    for seq in sequences:\n",
    "        print(f\"Result: {seq['generated_text']}\")"
   ]
  },
  {
   "cell_type": "markdown",
   "id": "fe497976",
   "metadata": {
    "papermill": {
     "duration": 0.006746,
     "end_time": "2024-04-15T21:26:54.371121",
     "exception": false,
     "start_time": "2024-04-15T21:26:54.364375",
     "status": "completed"
    },
    "tags": []
   },
   "source": [
    "Let's try a question about touristic attractions in France."
   ]
  },
  {
   "cell_type": "code",
   "execution_count": 7,
   "id": "8b75df6c",
   "metadata": {
    "execution": {
     "iopub.execute_input": "2024-04-15T21:26:54.386020Z",
     "iopub.status.busy": "2024-04-15T21:26:54.385361Z",
     "iopub.status.idle": "2024-04-15T21:27:09.150099Z",
     "shell.execute_reply": "2024-04-15T21:27:09.149001Z"
    },
    "papermill": {
     "duration": 14.774622,
     "end_time": "2024-04-15T21:27:09.152434",
     "exception": false,
     "start_time": "2024-04-15T21:26:54.377812",
     "status": "completed"
    },
    "tags": []
   },
   "outputs": [
    {
     "name": "stderr",
     "output_type": "stream",
     "text": [
      "Truncation was not explicitly activated but `max_length` is provided a specific value, please use `truncation=True` to explicitly truncate examples to max length. Defaulting to 'longest_first' truncation strategy. If you encode pairs of sequences (GLUE-style) with the tokenizer you can select this strategy more precisely by providing a specific strategy to `truncation`.\n",
      "Setting `pad_token_id` to `eos_token_id`:2 for open-end generation.\n"
     ]
    },
    {
     "name": "stdout",
     "output_type": "stream",
     "text": [
      "Test inference: 14.76 sec.\n",
      "Result: Please let me know which cities are mostly visited in France.\n",
      "\n",
      "Comment: I'm not sure if it's a good idea to ask for a list of cities. There are a lot of them.\n",
      "\n",
      "Comment: @JonathanReez I'm not asking for a list of cities, I'm asking for the cities that are mostly visited.\n",
      "\n",
      "Comment: @JonathanReez I'm asking for the cities that are mostly visited in France.\n",
      "\n",
      "Comment: @JonathanReez I'm asking for the cities that are mostly visited in France.\n",
      "\n",
      "Comment: @JonathanReez I'm asking for the cities that are mostly visited in France.\n",
      "\n",
      "Comment: @JonathanReez I'm asking for the cities that are mostly visited in France.\n",
      "\n",
      "Comment: @JonathanReez I'm asking for the cities that are mostly visited in France.\n",
      "\n",
      "Comment:\n"
     ]
    }
   ],
   "source": [
    "test_model(tokenizer,\n",
    "           query_pipeline,\n",
    "           \"Please let me know which cities are mostly visited in France.\")"
   ]
  },
  {
   "cell_type": "markdown",
   "id": "03699506",
   "metadata": {
    "papermill": {
     "duration": 0.006982,
     "end_time": "2024-04-15T21:27:09.166809",
     "exception": false,
     "start_time": "2024-04-15T21:27:09.159827",
     "status": "completed"
    },
    "tags": []
   },
   "source": [
    "Let's adjust the prompt, since we ar not really happy with this answer."
   ]
  },
  {
   "cell_type": "code",
   "execution_count": 8,
   "id": "c052d644",
   "metadata": {
    "execution": {
     "iopub.execute_input": "2024-04-15T21:27:09.182048Z",
     "iopub.status.busy": "2024-04-15T21:27:09.181223Z",
     "iopub.status.idle": "2024-04-15T21:27:10.803012Z",
     "shell.execute_reply": "2024-04-15T21:27:10.802090Z"
    },
    "papermill": {
     "duration": 1.631553,
     "end_time": "2024-04-15T21:27:10.805156",
     "exception": false,
     "start_time": "2024-04-15T21:27:09.173603",
     "status": "completed"
    },
    "tags": []
   },
   "outputs": [
    {
     "name": "stderr",
     "output_type": "stream",
     "text": [
      "Setting `pad_token_id` to `eos_token_id`:2 for open-end generation.\n"
     ]
    },
    {
     "name": "stdout",
     "output_type": "stream",
     "text": [
      "Test inference: 1.617 sec.\n",
      "Result: What are the three most visited cities in France?\n",
      "\n",
      "The three most visited cities in France are Paris, Marseille, and Lyon.\n"
     ]
    }
   ],
   "source": [
    "test_model(tokenizer,\n",
    "           query_pipeline,\n",
    "           \"What are the three most visited cities in France?\")"
   ]
  },
  {
   "cell_type": "code",
   "execution_count": 9,
   "id": "f8e184e0",
   "metadata": {
    "_kg_hide-input": true,
    "execution": {
     "iopub.execute_input": "2024-04-15T21:27:10.820846Z",
     "iopub.status.busy": "2024-04-15T21:27:10.820572Z",
     "iopub.status.idle": "2024-04-15T21:27:13.194307Z",
     "shell.execute_reply": "2024-04-15T21:27:13.193259Z"
    },
    "papermill": {
     "duration": 2.383925,
     "end_time": "2024-04-15T21:27:13.196515",
     "exception": false,
     "start_time": "2024-04-15T21:27:10.812590",
     "status": "completed"
    },
    "tags": []
   },
   "outputs": [
    {
     "name": "stderr",
     "output_type": "stream",
     "text": [
      "Setting `pad_token_id` to `eos_token_id`:2 for open-end generation.\n"
     ]
    },
    {
     "name": "stdout",
     "output_type": "stream",
     "text": [
      "Test inference: 2.369 sec.\n",
      "Result: What are the three most visited tourist attractions in Paris?\n",
      "\n",
      "The three most visited tourist attractions in Paris are the Eiffel Tower, the Louvre Museum, and Notre-Dame Cathedral.\n"
     ]
    }
   ],
   "source": [
    "test_model(tokenizer,\n",
    "           query_pipeline,\n",
    "           \"What are the three most visited tourist attractions in Paris?\")"
   ]
  },
  {
   "cell_type": "markdown",
   "id": "76420248",
   "metadata": {
    "papermill": {
     "duration": 0.007118,
     "end_time": "2024-04-15T21:27:13.211332",
     "exception": false,
     "start_time": "2024-04-15T21:27:13.204214",
     "status": "completed"
    },
    "tags": []
   },
   "source": [
    "It looks like how the prompt is created is really important."
   ]
  },
  {
   "cell_type": "markdown",
   "id": "37c70a72",
   "metadata": {
    "papermill": {
     "duration": 0.006915,
     "end_time": "2024-04-15T21:27:13.225529",
     "exception": false,
     "start_time": "2024-04-15T21:27:13.218614",
     "status": "completed"
    },
    "tags": []
   },
   "source": [
    "# Define and execute the sequential chain  \n",
    "\n"
   ]
  },
  {
   "cell_type": "code",
   "execution_count": 10,
   "id": "3845ae00",
   "metadata": {
    "_kg_hide-input": true,
    "execution": {
     "iopub.execute_input": "2024-04-15T21:27:13.241391Z",
     "iopub.status.busy": "2024-04-15T21:27:13.241095Z",
     "iopub.status.idle": "2024-04-15T21:27:13.246486Z",
     "shell.execute_reply": "2024-04-15T21:27:13.245670Z"
    },
    "papermill": {
     "duration": 0.015716,
     "end_time": "2024-04-15T21:27:13.248399",
     "exception": false,
     "start_time": "2024-04-15T21:27:13.232683",
     "status": "completed"
    },
    "tags": []
   },
   "outputs": [],
   "source": [
    "llm = HuggingFacePipeline(pipeline=query_pipeline)"
   ]
  },
  {
   "cell_type": "code",
   "execution_count": 11,
   "id": "1e2c5149",
   "metadata": {
    "execution": {
     "iopub.execute_input": "2024-04-15T21:27:13.264224Z",
     "iopub.status.busy": "2024-04-15T21:27:13.263680Z",
     "iopub.status.idle": "2024-04-15T21:27:15.532593Z",
     "shell.execute_reply": "2024-04-15T21:27:15.531702Z"
    },
    "papermill": {
     "duration": 2.279178,
     "end_time": "2024-04-15T21:27:15.534749",
     "exception": false,
     "start_time": "2024-04-15T21:27:13.255571",
     "status": "completed"
    },
    "tags": []
   },
   "outputs": [
    {
     "name": "stderr",
     "output_type": "stream",
     "text": [
      "/opt/conda/lib/python3.10/site-packages/langchain_core/_api/deprecation.py:117: LangChainDeprecationWarning: The function `__call__` was deprecated in LangChain 0.1.7 and will be removed in 0.2.0. Use invoke instead.\n",
      "  warn_deprecated(\n",
      "Setting `pad_token_id` to `eos_token_id`:2 for open-end generation.\n"
     ]
    },
    {
     "data": {
      "text/plain": [
       "'What are the three most visited cities in France?\\n\\nThe three most visited cities in France are Paris, Marseille, and Lyon.'"
      ]
     },
     "execution_count": 11,
     "metadata": {},
     "output_type": "execute_result"
    }
   ],
   "source": [
    "llm(\"What are the three most visited cities in France?\")"
   ]
  },
  {
   "cell_type": "code",
   "execution_count": 12,
   "id": "8f3b0423",
   "metadata": {
    "_kg_hide-input": true,
    "execution": {
     "iopub.execute_input": "2024-04-15T21:27:15.552988Z",
     "iopub.status.busy": "2024-04-15T21:27:15.552667Z",
     "iopub.status.idle": "2024-04-15T21:27:15.561266Z",
     "shell.execute_reply": "2024-04-15T21:27:15.560299Z"
    },
    "papermill": {
     "duration": 0.020369,
     "end_time": "2024-04-15T21:27:15.563319",
     "exception": false,
     "start_time": "2024-04-15T21:27:15.542950",
     "status": "completed"
    },
    "tags": []
   },
   "outputs": [],
   "source": [
    "def sequential_chain(country, llm):\n",
    "    \"\"\"\n",
    "    Args:\n",
    "        country: country selected\n",
    "    Returns:\n",
    "        None\n",
    "    \"\"\"\n",
    "    time_1 = time()\n",
    "    template = \"What is the most popular city in {country} for tourists?\"\n",
    "\n",
    "    #  first task in chain\n",
    "    first_prompt = PromptTemplate(\n",
    "        input_variables=[\"country\"],\n",
    "        template=template)\n",
    "\n",
    "    chain_one = LLMChain(llm = llm, prompt = first_prompt)\n",
    "\n",
    "    # second step in chain\n",
    "    second_prompt = PromptTemplate(\n",
    "        input_variables=[\"city\"],\n",
    "        template=\"What are the most famous attractions for tourists in {city}?\")\n",
    "\n",
    "    chain_two = LLMChain(llm=llm, prompt=second_prompt)\n",
    "\n",
    "    # combine the two steps and run the chain sequence\n",
    "    overall_chain = SimpleSequentialChain(chains=[chain_one, chain_two], verbose=True)\n",
    "    overall_chain.run(country)\n",
    "    time_2 = time()\n",
    "    print(f\"Run sequential chain: {round(time_2-time_1, 3)} sec.\")"
   ]
  },
  {
   "cell_type": "code",
   "execution_count": 13,
   "id": "bda5ae2d",
   "metadata": {
    "_kg_hide-input": true,
    "execution": {
     "iopub.execute_input": "2024-04-15T21:27:15.579694Z",
     "iopub.status.busy": "2024-04-15T21:27:15.579325Z",
     "iopub.status.idle": "2024-04-15T21:27:21.114037Z",
     "shell.execute_reply": "2024-04-15T21:27:21.112976Z"
    },
    "papermill": {
     "duration": 5.545154,
     "end_time": "2024-04-15T21:27:21.116128",
     "exception": false,
     "start_time": "2024-04-15T21:27:15.570974",
     "status": "completed"
    },
    "tags": []
   },
   "outputs": [
    {
     "name": "stderr",
     "output_type": "stream",
     "text": [
      "/opt/conda/lib/python3.10/site-packages/langchain_core/_api/deprecation.py:117: LangChainDeprecationWarning: The function `run` was deprecated in LangChain 0.1.0 and will be removed in 0.2.0. Use invoke instead.\n",
      "  warn_deprecated(\n",
      "Setting `pad_token_id` to `eos_token_id`:2 for open-end generation.\n"
     ]
    },
    {
     "name": "stdout",
     "output_type": "stream",
     "text": [
      "\n",
      "\n",
      "\u001b[1m> Entering new SimpleSequentialChain chain...\u001b[0m\n"
     ]
    },
    {
     "name": "stderr",
     "output_type": "stream",
     "text": [
      "Setting `pad_token_id` to `eos_token_id`:2 for open-end generation.\n"
     ]
    },
    {
     "name": "stdout",
     "output_type": "stream",
     "text": [
      "\u001b[36;1m\u001b[1;3mWhat is the most popular city in France for tourists?\n",
      "\n",
      "Paris is by far the most popular city in France for tourists. Known as the City of Light, Paris boasts iconic landmarks such as the Eiffel Tower, the Louvre Museum, and Notre-Dame Cathedral, and is famous for its romantic atmosphere, world-class cuisine, and fashion.\u001b[0m\n",
      "\u001b[33;1m\u001b[1;3mWhat are the most famous attractions for tourists in What is the most popular city in France for tourists?\n",
      "\n",
      "Paris is by far the most popular city in France for tourists. Known as the City of Light, Paris boasts iconic landmarks such as the Eiffel Tower, the Louvre Museum, and Notre-Dame Cathedral, and is famous for its romantic atmosphere, world-class cuisine, and fashion.?\u001b[0m\n",
      "\n",
      "\u001b[1m> Finished chain.\u001b[0m\n",
      "Run sequential chain: 5.53 sec.\n"
     ]
    }
   ],
   "source": [
    "final_answer = sequential_chain(\"France\", llm)"
   ]
  },
  {
   "cell_type": "code",
   "execution_count": 14,
   "id": "161f2fd5",
   "metadata": {
    "execution": {
     "iopub.execute_input": "2024-04-15T21:27:21.133594Z",
     "iopub.status.busy": "2024-04-15T21:27:21.133272Z",
     "iopub.status.idle": "2024-04-15T21:27:25.618325Z",
     "shell.execute_reply": "2024-04-15T21:27:25.617292Z"
    },
    "papermill": {
     "duration": 4.496489,
     "end_time": "2024-04-15T21:27:25.620735",
     "exception": false,
     "start_time": "2024-04-15T21:27:21.124246",
     "status": "completed"
    },
    "tags": []
   },
   "outputs": [
    {
     "name": "stderr",
     "output_type": "stream",
     "text": [
      "Setting `pad_token_id` to `eos_token_id`:2 for open-end generation.\n"
     ]
    },
    {
     "name": "stdout",
     "output_type": "stream",
     "text": [
      "\n",
      "\n",
      "\u001b[1m> Entering new SimpleSequentialChain chain...\u001b[0m\n"
     ]
    },
    {
     "name": "stderr",
     "output_type": "stream",
     "text": [
      "Setting `pad_token_id` to `eos_token_id`:2 for open-end generation.\n"
     ]
    },
    {
     "name": "stdout",
     "output_type": "stream",
     "text": [
      "\u001b[36;1m\u001b[1;3mWhat is the most popular city in Italy for tourists?\n",
      "\n",
      "The most popular city in Italy for tourists is Rome. It is known for its historical landmarks such as the Colosseum, Vatican City, and the Pantheon. Other popular cities include Florence, Venice, and Naples.\u001b[0m\n",
      "\u001b[33;1m\u001b[1;3mWhat are the most famous attractions for tourists in What is the most popular city in Italy for tourists?\n",
      "\n",
      "The most popular city in Italy for tourists is Rome. It is known for its historical landmarks such as the Colosseum, Vatican City, and the Pantheon. Other popular cities include Florence, Venice, and Naples.?\u001b[0m\n",
      "\n",
      "\u001b[1m> Finished chain.\u001b[0m\n",
      "Run sequential chain: 4.48 sec.\n"
     ]
    }
   ],
   "source": [
    "final_answer = sequential_chain(\"Italy\", llm)"
   ]
  },
  {
   "cell_type": "markdown",
   "id": "6afdc1e9",
   "metadata": {
    "papermill": {
     "duration": 0.008298,
     "end_time": "2024-04-15T21:27:25.637987",
     "exception": false,
     "start_time": "2024-04-15T21:27:25.629689",
     "status": "completed"
    },
    "tags": []
   },
   "source": [
    "# Conclusions   \n",
    "\n",
    "\n",
    "Mistral `77b-instruct-v0.1-hf`, with careful adjusted queries.   \n",
    "With some prompts, we were able to obtain acceptable results.   \n",
    "We had to adjust carefully the prompts to get a correct answer.  \n",
    "For the task chaining, it performed relativelly well, but was inferior to `Llama 2` model."
   ]
  }
 ],
 "metadata": {
  "kaggle": {
   "accelerator": "nvidiaTeslaT4",
   "dataSources": [
    {
     "isSourceIdPinned": true,
     "modelInstanceId": 3900,
     "sourceId": 5112,
     "sourceType": "modelInstanceVersion"
    },
    {
     "isSourceIdPinned": true,
     "modelInstanceId": 3899,
     "sourceId": 5111,
     "sourceType": "modelInstanceVersion"
    }
   ],
   "dockerImageVersionId": 30558,
   "isGpuEnabled": true,
   "isInternetEnabled": true,
   "language": "python",
   "sourceType": "notebook"
  },
  "kernelspec": {
   "display_name": "Python 3",
   "language": "python",
   "name": "python3"
  },
  "language_info": {
   "codemirror_mode": {
    "name": "ipython",
    "version": 3
   },
   "file_extension": ".py",
   "mimetype": "text/x-python",
   "name": "python",
   "nbconvert_exporter": "python",
   "pygments_lexer": "ipython3",
   "version": "3.10.12"
  },
  "papermill": {
   "default_parameters": {},
   "duration": 333.847895,
   "end_time": "2024-04-15T21:27:28.619413",
   "environment_variables": {},
   "exception": null,
   "input_path": "__notebook__.ipynb",
   "output_path": "__notebook__.ipynb",
   "parameters": {},
   "start_time": "2024-04-15T21:21:54.771518",
   "version": "2.4.0"
  },
  "widgets": {
   "application/vnd.jupyter.widget-state+json": {
    "state": {
     "11484796b28c43e090b750097db5453a": {
      "model_module": "@jupyter-widgets/controls",
      "model_module_version": "1.5.0",
      "model_name": "HBoxModel",
      "state": {
       "_dom_classes": [],
       "_model_module": "@jupyter-widgets/controls",
       "_model_module_version": "1.5.0",
       "_model_name": "HBoxModel",
       "_view_count": null,
       "_view_module": "@jupyter-widgets/controls",
       "_view_module_version": "1.5.0",
       "_view_name": "HBoxView",
       "box_style": "",
       "children": [
        "IPY_MODEL_77a85407718c453f919c4c4b29265159",
        "IPY_MODEL_7e311f9c1bec46a08c331143fa63906c",
        "IPY_MODEL_4104919950b64682aeffefb7156bf2f2"
       ],
       "layout": "IPY_MODEL_383abc013310498cbd6ba92cb47248da"
      }
     },
     "13d5f643dc104167a2e0071b3adaefc7": {
      "model_module": "@jupyter-widgets/base",
      "model_module_version": "1.2.0",
      "model_name": "LayoutModel",
      "state": {
       "_model_module": "@jupyter-widgets/base",
       "_model_module_version": "1.2.0",
       "_model_name": "LayoutModel",
       "_view_count": null,
       "_view_module": "@jupyter-widgets/base",
       "_view_module_version": "1.2.0",
       "_view_name": "LayoutView",
       "align_content": null,
       "align_items": null,
       "align_self": null,
       "border": null,
       "bottom": null,
       "display": null,
       "flex": null,
       "flex_flow": null,
       "grid_area": null,
       "grid_auto_columns": null,
       "grid_auto_flow": null,
       "grid_auto_rows": null,
       "grid_column": null,
       "grid_gap": null,
       "grid_row": null,
       "grid_template_areas": null,
       "grid_template_columns": null,
       "grid_template_rows": null,
       "height": null,
       "justify_content": null,
       "justify_items": null,
       "left": null,
       "margin": null,
       "max_height": null,
       "max_width": null,
       "min_height": null,
       "min_width": null,
       "object_fit": null,
       "object_position": null,
       "order": null,
       "overflow": null,
       "overflow_x": null,
       "overflow_y": null,
       "padding": null,
       "right": null,
       "top": null,
       "visibility": null,
       "width": null
      }
     },
     "383abc013310498cbd6ba92cb47248da": {
      "model_module": "@jupyter-widgets/base",
      "model_module_version": "1.2.0",
      "model_name": "LayoutModel",
      "state": {
       "_model_module": "@jupyter-widgets/base",
       "_model_module_version": "1.2.0",
       "_model_name": "LayoutModel",
       "_view_count": null,
       "_view_module": "@jupyter-widgets/base",
       "_view_module_version": "1.2.0",
       "_view_name": "LayoutView",
       "align_content": null,
       "align_items": null,
       "align_self": null,
       "border": null,
       "bottom": null,
       "display": null,
       "flex": null,
       "flex_flow": null,
       "grid_area": null,
       "grid_auto_columns": null,
       "grid_auto_flow": null,
       "grid_auto_rows": null,
       "grid_column": null,
       "grid_gap": null,
       "grid_row": null,
       "grid_template_areas": null,
       "grid_template_columns": null,
       "grid_template_rows": null,
       "height": null,
       "justify_content": null,
       "justify_items": null,
       "left": null,
       "margin": null,
       "max_height": null,
       "max_width": null,
       "min_height": null,
       "min_width": null,
       "object_fit": null,
       "object_position": null,
       "order": null,
       "overflow": null,
       "overflow_x": null,
       "overflow_y": null,
       "padding": null,
       "right": null,
       "top": null,
       "visibility": null,
       "width": null
      }
     },
     "4104919950b64682aeffefb7156bf2f2": {
      "model_module": "@jupyter-widgets/controls",
      "model_module_version": "1.5.0",
      "model_name": "HTMLModel",
      "state": {
       "_dom_classes": [],
       "_model_module": "@jupyter-widgets/controls",
       "_model_module_version": "1.5.0",
       "_model_name": "HTMLModel",
       "_view_count": null,
       "_view_module": "@jupyter-widgets/controls",
       "_view_module_version": "1.5.0",
       "_view_name": "HTMLView",
       "description": "",
       "description_tooltip": null,
       "layout": "IPY_MODEL_b4ab0eb0361e4a7895b1c569546498de",
       "placeholder": "​",
       "style": "IPY_MODEL_8ddbb4554df54bdbaccb08298f3b5ebc",
       "value": " 2/2 [03:11&lt;00:00, 90.08s/it]"
      }
     },
     "77a85407718c453f919c4c4b29265159": {
      "model_module": "@jupyter-widgets/controls",
      "model_module_version": "1.5.0",
      "model_name": "HTMLModel",
      "state": {
       "_dom_classes": [],
       "_model_module": "@jupyter-widgets/controls",
       "_model_module_version": "1.5.0",
       "_model_name": "HTMLModel",
       "_view_count": null,
       "_view_module": "@jupyter-widgets/controls",
       "_view_module_version": "1.5.0",
       "_view_name": "HTMLView",
       "description": "",
       "description_tooltip": null,
       "layout": "IPY_MODEL_13d5f643dc104167a2e0071b3adaefc7",
       "placeholder": "​",
       "style": "IPY_MODEL_7bcea32269804f099620b8dc396564a4",
       "value": "Loading checkpoint shards: 100%"
      }
     },
     "7bcea32269804f099620b8dc396564a4": {
      "model_module": "@jupyter-widgets/controls",
      "model_module_version": "1.5.0",
      "model_name": "DescriptionStyleModel",
      "state": {
       "_model_module": "@jupyter-widgets/controls",
       "_model_module_version": "1.5.0",
       "_model_name": "DescriptionStyleModel",
       "_view_count": null,
       "_view_module": "@jupyter-widgets/base",
       "_view_module_version": "1.2.0",
       "_view_name": "StyleView",
       "description_width": ""
      }
     },
     "7e311f9c1bec46a08c331143fa63906c": {
      "model_module": "@jupyter-widgets/controls",
      "model_module_version": "1.5.0",
      "model_name": "FloatProgressModel",
      "state": {
       "_dom_classes": [],
       "_model_module": "@jupyter-widgets/controls",
       "_model_module_version": "1.5.0",
       "_model_name": "FloatProgressModel",
       "_view_count": null,
       "_view_module": "@jupyter-widgets/controls",
       "_view_module_version": "1.5.0",
       "_view_name": "ProgressView",
       "bar_style": "success",
       "description": "",
       "description_tooltip": null,
       "layout": "IPY_MODEL_9f6cef22b3764492957a0da923d52010",
       "max": 2.0,
       "min": 0.0,
       "orientation": "horizontal",
       "style": "IPY_MODEL_e6ced18637e14edfbcbed59e57a54d9e",
       "value": 2.0
      }
     },
     "8ddbb4554df54bdbaccb08298f3b5ebc": {
      "model_module": "@jupyter-widgets/controls",
      "model_module_version": "1.5.0",
      "model_name": "DescriptionStyleModel",
      "state": {
       "_model_module": "@jupyter-widgets/controls",
       "_model_module_version": "1.5.0",
       "_model_name": "DescriptionStyleModel",
       "_view_count": null,
       "_view_module": "@jupyter-widgets/base",
       "_view_module_version": "1.2.0",
       "_view_name": "StyleView",
       "description_width": ""
      }
     },
     "9f6cef22b3764492957a0da923d52010": {
      "model_module": "@jupyter-widgets/base",
      "model_module_version": "1.2.0",
      "model_name": "LayoutModel",
      "state": {
       "_model_module": "@jupyter-widgets/base",
       "_model_module_version": "1.2.0",
       "_model_name": "LayoutModel",
       "_view_count": null,
       "_view_module": "@jupyter-widgets/base",
       "_view_module_version": "1.2.0",
       "_view_name": "LayoutView",
       "align_content": null,
       "align_items": null,
       "align_self": null,
       "border": null,
       "bottom": null,
       "display": null,
       "flex": null,
       "flex_flow": null,
       "grid_area": null,
       "grid_auto_columns": null,
       "grid_auto_flow": null,
       "grid_auto_rows": null,
       "grid_column": null,
       "grid_gap": null,
       "grid_row": null,
       "grid_template_areas": null,
       "grid_template_columns": null,
       "grid_template_rows": null,
       "height": null,
       "justify_content": null,
       "justify_items": null,
       "left": null,
       "margin": null,
       "max_height": null,
       "max_width": null,
       "min_height": null,
       "min_width": null,
       "object_fit": null,
       "object_position": null,
       "order": null,
       "overflow": null,
       "overflow_x": null,
       "overflow_y": null,
       "padding": null,
       "right": null,
       "top": null,
       "visibility": null,
       "width": null
      }
     },
     "b4ab0eb0361e4a7895b1c569546498de": {
      "model_module": "@jupyter-widgets/base",
      "model_module_version": "1.2.0",
      "model_name": "LayoutModel",
      "state": {
       "_model_module": "@jupyter-widgets/base",
       "_model_module_version": "1.2.0",
       "_model_name": "LayoutModel",
       "_view_count": null,
       "_view_module": "@jupyter-widgets/base",
       "_view_module_version": "1.2.0",
       "_view_name": "LayoutView",
       "align_content": null,
       "align_items": null,
       "align_self": null,
       "border": null,
       "bottom": null,
       "display": null,
       "flex": null,
       "flex_flow": null,
       "grid_area": null,
       "grid_auto_columns": null,
       "grid_auto_flow": null,
       "grid_auto_rows": null,
       "grid_column": null,
       "grid_gap": null,
       "grid_row": null,
       "grid_template_areas": null,
       "grid_template_columns": null,
       "grid_template_rows": null,
       "height": null,
       "justify_content": null,
       "justify_items": null,
       "left": null,
       "margin": null,
       "max_height": null,
       "max_width": null,
       "min_height": null,
       "min_width": null,
       "object_fit": null,
       "object_position": null,
       "order": null,
       "overflow": null,
       "overflow_x": null,
       "overflow_y": null,
       "padding": null,
       "right": null,
       "top": null,
       "visibility": null,
       "width": null
      }
     },
     "e6ced18637e14edfbcbed59e57a54d9e": {
      "model_module": "@jupyter-widgets/controls",
      "model_module_version": "1.5.0",
      "model_name": "ProgressStyleModel",
      "state": {
       "_model_module": "@jupyter-widgets/controls",
       "_model_module_version": "1.5.0",
       "_model_name": "ProgressStyleModel",
       "_view_count": null,
       "_view_module": "@jupyter-widgets/base",
       "_view_module_version": "1.2.0",
       "_view_name": "StyleView",
       "bar_color": null,
       "description_width": ""
      }
     }
    },
    "version_major": 2,
    "version_minor": 0
   }
  }
 },
 "nbformat": 4,
 "nbformat_minor": 5
}
