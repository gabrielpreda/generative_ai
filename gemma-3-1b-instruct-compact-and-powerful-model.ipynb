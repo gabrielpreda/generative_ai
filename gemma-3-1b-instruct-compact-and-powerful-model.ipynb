{
 "cells": [
  {
   "cell_type": "markdown",
   "id": "7c2033ce",
   "metadata": {
    "_cell_guid": "b1076dfc-b9ad-4769-8c92-a6c4dae69d19",
    "_uuid": "8f2839f25d086af736a60e9eeb907d3b93b6e0e5",
    "papermill": {
     "duration": 0.010287,
     "end_time": "2025-04-07T05:36:58.451258",
     "exception": false,
     "start_time": "2025-04-07T05:36:58.440971",
     "status": "completed"
    },
    "tags": []
   },
   "source": [
    "<center><img src=\"https://www.geeky-gadgets.com/wp-content/uploads/2025/03/google-gemma-3-advanced-ai-models.webp\"></img></center>\n",
    "\n",
    "# Introduction\n",
    "This Notebook will explore how to prompt Gemma 3 1B instruct (fine-tuned), using KerasNLP. \n",
    "In a previous work, we explored the features of Gemma 3 1B (pre-trained): [Talk to Me Nice: Pro-Level Prompting for Gemma 3](https://www.kaggle.com/code/gpreda/talk-to-me-nice-pro-level-prompting-for-gemma-3)\n",
    "\n",
    "## What is Gemma?\n",
    "Gemma is a family of lightweight, state-of-the art open models built from the same research and technology used to create the Gemini models. At the 3rd generation now, Gemma 3 comes in 4 sizes, **1B**, **4B**, **12B** and **27B**, both pretrained and instruction finetuned versions.   \n",
    "\n",
    "Models **4B**, **12B**, **27B** brings an extended context window (up to **128K**) as well as **multi-modality** (text and image). \n",
    "\n",
    "The **1B** model, although incredibly compact, is not only very fast but is also quite powerful.\n",
    "\n",
    "As in the previous Notebook mentioned above, we will use the **1B intruct** model, on CPU only, without any accelerator.\n",
    "\n",
    "## How we will test the model?\n",
    "\n",
    "We will first initize the model and then we will test with simple common knowledge questions, followed by algebra and equations. Then we will test the model for writing code.\n",
    "\n",
    "\n",
    "# Prerequisites\n",
    "\n",
    "## Install packages\n",
    "\n",
    "We will install Keras and KerasNLP.\n"
   ]
  },
  {
   "cell_type": "code",
   "execution_count": 1,
   "id": "d24afab3",
   "metadata": {
    "execution": {
     "iopub.execute_input": "2025-04-07T05:36:58.471025Z",
     "iopub.status.busy": "2025-04-07T05:36:58.470566Z",
     "iopub.status.idle": "2025-04-07T05:37:13.366558Z",
     "shell.execute_reply": "2025-04-07T05:37:13.365092Z"
    },
    "papermill": {
     "duration": 14.908129,
     "end_time": "2025-04-07T05:37:13.368667",
     "exception": false,
     "start_time": "2025-04-07T05:36:58.460538",
     "status": "completed"
    },
    "tags": []
   },
   "outputs": [
    {
     "name": "stdout",
     "output_type": "stream",
     "text": [
      "\u001b[2K   \u001b[90m━━━━━━━━━━━━━━━━━━━━━━━━━━━━━━━━━━━━━━━━\u001b[0m \u001b[32m792.1/792.1 kB\u001b[0m \u001b[31m10.5 MB/s\u001b[0m eta \u001b[36m0:00:00\u001b[0m\r\n",
      "\u001b[2K   \u001b[90m━━━━━━━━━━━━━━━━━━━━━━━━━━━━━━━━━━━━━━━━\u001b[0m \u001b[32m1.3/1.3 MB\u001b[0m \u001b[31m15.7 MB/s\u001b[0m eta \u001b[36m0:00:00\u001b[0m\r\n",
      "\u001b[?25h\u001b[31mERROR: pip's dependency resolver does not currently take into account all the packages that are installed. This behaviour is the source of the following dependency conflicts.\r\n",
      "tensorflow-decision-forests 1.10.0 requires tensorflow==2.17.0, but you have tensorflow 2.17.1 which is incompatible.\u001b[0m\u001b[31m\r\n",
      "\u001b[0m"
     ]
    }
   ],
   "source": [
    "!pip install -q -U keras-nlp\n",
    "!pip install -q -U keras"
   ]
  },
  {
   "cell_type": "markdown",
   "id": "d8b022f3",
   "metadata": {
    "papermill": {
     "duration": 0.010426,
     "end_time": "2025-04-07T05:37:13.389708",
     "exception": false,
     "start_time": "2025-04-07T05:37:13.379282",
     "status": "completed"
    },
    "tags": []
   },
   "source": [
    "## Import packages"
   ]
  },
  {
   "cell_type": "code",
   "execution_count": 2,
   "id": "c62862ce",
   "metadata": {
    "execution": {
     "iopub.execute_input": "2025-04-07T05:37:13.411454Z",
     "iopub.status.busy": "2025-04-07T05:37:13.411090Z",
     "iopub.status.idle": "2025-04-07T05:37:31.724116Z",
     "shell.execute_reply": "2025-04-07T05:37:31.723098Z"
    },
    "papermill": {
     "duration": 18.325814,
     "end_time": "2025-04-07T05:37:31.725921",
     "exception": false,
     "start_time": "2025-04-07T05:37:13.400107",
     "status": "completed"
    },
    "tags": []
   },
   "outputs": [],
   "source": [
    "import keras\n",
    "import keras_nlp\n",
    "from keras_nlp.samplers import TopKSampler\n",
    "from time import time"
   ]
  },
  {
   "cell_type": "markdown",
   "id": "8ad9bb8e",
   "metadata": {
    "papermill": {
     "duration": 0.009361,
     "end_time": "2025-04-07T05:37:31.745096",
     "exception": false,
     "start_time": "2025-04-07T05:37:31.735735",
     "status": "completed"
    },
    "tags": []
   },
   "source": [
    "# Prepare the model"
   ]
  },
  {
   "cell_type": "markdown",
   "id": "a37e59ae",
   "metadata": {
    "papermill": {
     "duration": 0.009257,
     "end_time": "2025-04-07T05:37:31.763897",
     "exception": false,
     "start_time": "2025-04-07T05:37:31.754640",
     "status": "completed"
    },
    "tags": []
   },
   "source": [
    "## Select the backend \n",
    "\n",
    "Keras is a high-level, multi-framework deep learning API designed for simplicity and ease of use.   \n",
    "Keras 3 lets you choose the backend: \n",
    "* TensorFlow\n",
    "* JAX\n",
    "* PyTorch\n",
    "\n",
    "\n",
    "For this Notebook, we will choose **JAX** as backend."
   ]
  },
  {
   "cell_type": "code",
   "execution_count": 3,
   "id": "926a81a4",
   "metadata": {
    "execution": {
     "iopub.execute_input": "2025-04-07T05:37:31.784442Z",
     "iopub.status.busy": "2025-04-07T05:37:31.783706Z",
     "iopub.status.idle": "2025-04-07T05:37:31.788291Z",
     "shell.execute_reply": "2025-04-07T05:37:31.787299Z"
    },
    "papermill": {
     "duration": 0.016315,
     "end_time": "2025-04-07T05:37:31.789704",
     "exception": false,
     "start_time": "2025-04-07T05:37:31.773389",
     "status": "completed"
    },
    "tags": []
   },
   "outputs": [],
   "source": [
    "import os\n",
    "os.environ[\"KERAS_BACKEND\"] = \"jax\"\n",
    "os.environ[\"XLA_PYTHON_CLIENT_MEM_FRACTION\"] = \"0.9\""
   ]
  },
  {
   "cell_type": "markdown",
   "id": "c7e9b966",
   "metadata": {
    "papermill": {
     "duration": 0.009199,
     "end_time": "2025-04-07T05:37:31.808628",
     "exception": false,
     "start_time": "2025-04-07T05:37:31.799429",
     "status": "completed"
    },
    "tags": []
   },
   "source": [
    "## Initialize the model"
   ]
  },
  {
   "cell_type": "code",
   "execution_count": 4,
   "id": "3cb35c62",
   "metadata": {
    "execution": {
     "iopub.execute_input": "2025-04-07T05:37:31.829366Z",
     "iopub.status.busy": "2025-04-07T05:37:31.829019Z",
     "iopub.status.idle": "2025-04-07T05:38:03.579088Z",
     "shell.execute_reply": "2025-04-07T05:38:03.578002Z"
    },
    "papermill": {
     "duration": 31.762846,
     "end_time": "2025-04-07T05:38:03.580977",
     "exception": false,
     "start_time": "2025-04-07T05:37:31.818131",
     "status": "completed"
    },
    "tags": []
   },
   "outputs": [],
   "source": [
    "gemma_lm = keras_nlp.models.Gemma3CausalLM.from_preset(\"/kaggle/input/gemma3/keras/gemma3_instruct_1b/3\")\n",
    "tokenizer = keras_nlp.models.Gemma3Tokenizer.from_preset(\"/kaggle/input/gemma3/keras/gemma3_instruct_1b/3\")"
   ]
  },
  {
   "cell_type": "markdown",
   "id": "26d5330b",
   "metadata": {
    "papermill": {
     "duration": 0.009109,
     "end_time": "2025-04-07T05:38:03.599782",
     "exception": false,
     "start_time": "2025-04-07T05:38:03.590673",
     "status": "completed"
    },
    "tags": []
   },
   "source": [
    "## Verify the model"
   ]
  },
  {
   "cell_type": "code",
   "execution_count": 5,
   "id": "1de92ef5",
   "metadata": {
    "execution": {
     "iopub.execute_input": "2025-04-07T05:38:03.619980Z",
     "iopub.status.busy": "2025-04-07T05:38:03.619567Z",
     "iopub.status.idle": "2025-04-07T05:38:03.654582Z",
     "shell.execute_reply": "2025-04-07T05:38:03.653531Z"
    },
    "papermill": {
     "duration": 0.047191,
     "end_time": "2025-04-07T05:38:03.656292",
     "exception": false,
     "start_time": "2025-04-07T05:38:03.609101",
     "status": "completed"
    },
    "tags": []
   },
   "outputs": [
    {
     "data": {
      "text/html": [
       "<pre style=\"white-space:pre;overflow-x:auto;line-height:normal;font-family:Menlo,'DejaVu Sans Mono',consolas,'Courier New',monospace\"><span style=\"font-weight: bold\">Preprocessor: \"gemma3_causal_lm_preprocessor\"</span>\n",
       "</pre>\n"
      ],
      "text/plain": [
       "\u001b[1mPreprocessor: \"gemma3_causal_lm_preprocessor\"\u001b[0m\n"
      ]
     },
     "metadata": {},
     "output_type": "display_data"
    },
    {
     "data": {
      "text/html": [
       "<pre style=\"white-space:pre;overflow-x:auto;line-height:normal;font-family:Menlo,'DejaVu Sans Mono',consolas,'Courier New',monospace\">┏━━━━━━━━━━━━━━━━━━━━━━━━━━━━━━━━━━━━━━━━━━━━━━━━━━━━━━━━━━━━━━━┳━━━━━━━━━━━━━━━━━━━━━━━━━━━━━━━━━━━━━━━━━━┓\n",
       "┃<span style=\"font-weight: bold\"> Layer (type)                                                  </span>┃<span style=\"font-weight: bold\">                                   Config </span>┃\n",
       "┡━━━━━━━━━━━━━━━━━━━━━━━━━━━━━━━━━━━━━━━━━━━━━━━━━━━━━━━━━━━━━━━╇━━━━━━━━━━━━━━━━━━━━━━━━━━━━━━━━━━━━━━━━━━┩\n",
       "│ gemma3_tokenizer (<span style=\"color: #0087ff; text-decoration-color: #0087ff\">Gemma3Tokenizer</span>)                            │                      Vocab size: <span style=\"color: #00af00; text-decoration-color: #00af00\">262,144</span> │\n",
       "└───────────────────────────────────────────────────────────────┴──────────────────────────────────────────┘\n",
       "</pre>\n"
      ],
      "text/plain": [
       "┏━━━━━━━━━━━━━━━━━━━━━━━━━━━━━━━━━━━━━━━━━━━━━━━━━━━━━━━━━━━━━━━┳━━━━━━━━━━━━━━━━━━━━━━━━━━━━━━━━━━━━━━━━━━┓\n",
       "┃\u001b[1m \u001b[0m\u001b[1mLayer (type)                                                 \u001b[0m\u001b[1m \u001b[0m┃\u001b[1m \u001b[0m\u001b[1m                                  Config\u001b[0m\u001b[1m \u001b[0m┃\n",
       "┡━━━━━━━━━━━━━━━━━━━━━━━━━━━━━━━━━━━━━━━━━━━━━━━━━━━━━━━━━━━━━━━╇━━━━━━━━━━━━━━━━━━━━━━━━━━━━━━━━━━━━━━━━━━┩\n",
       "│ gemma3_tokenizer (\u001b[38;5;33mGemma3Tokenizer\u001b[0m)                            │                      Vocab size: \u001b[38;5;34m262,144\u001b[0m │\n",
       "└───────────────────────────────────────────────────────────────┴──────────────────────────────────────────┘\n"
      ]
     },
     "metadata": {},
     "output_type": "display_data"
    },
    {
     "data": {
      "text/html": [
       "<pre style=\"white-space:pre;overflow-x:auto;line-height:normal;font-family:Menlo,'DejaVu Sans Mono',consolas,'Courier New',monospace\"><span style=\"font-weight: bold\">Model: \"gemma3_causal_lm\"</span>\n",
       "</pre>\n"
      ],
      "text/plain": [
       "\u001b[1mModel: \"gemma3_causal_lm\"\u001b[0m\n"
      ]
     },
     "metadata": {},
     "output_type": "display_data"
    },
    {
     "data": {
      "text/html": [
       "<pre style=\"white-space:pre;overflow-x:auto;line-height:normal;font-family:Menlo,'DejaVu Sans Mono',consolas,'Courier New',monospace\">┏━━━━━━━━━━━━━━━━━━━━━━━━━━━━━━━┳━━━━━━━━━━━━━━━━━━━━━━━━━━━┳━━━━━━━━━━━━━━━━━┳━━━━━━━━━━━━━━━━━━━━━━━━━━━━┓\n",
       "┃<span style=\"font-weight: bold\"> Layer (type)                  </span>┃<span style=\"font-weight: bold\"> Output Shape              </span>┃<span style=\"font-weight: bold\">         Param # </span>┃<span style=\"font-weight: bold\"> Connected to               </span>┃\n",
       "┡━━━━━━━━━━━━━━━━━━━━━━━━━━━━━━━╇━━━━━━━━━━━━━━━━━━━━━━━━━━━╇━━━━━━━━━━━━━━━━━╇━━━━━━━━━━━━━━━━━━━━━━━━━━━━┩\n",
       "│ padding_mask (<span style=\"color: #0087ff; text-decoration-color: #0087ff\">InputLayer</span>)     │ (<span style=\"color: #00d7ff; text-decoration-color: #00d7ff\">None</span>, <span style=\"color: #00d7ff; text-decoration-color: #00d7ff\">None</span>)              │               <span style=\"color: #00af00; text-decoration-color: #00af00\">0</span> │ -                          │\n",
       "├───────────────────────────────┼───────────────────────────┼─────────────────┼────────────────────────────┤\n",
       "│ token_ids (<span style=\"color: #0087ff; text-decoration-color: #0087ff\">InputLayer</span>)        │ (<span style=\"color: #00d7ff; text-decoration-color: #00d7ff\">None</span>, <span style=\"color: #00d7ff; text-decoration-color: #00d7ff\">None</span>)              │               <span style=\"color: #00af00; text-decoration-color: #00af00\">0</span> │ -                          │\n",
       "├───────────────────────────────┼───────────────────────────┼─────────────────┼────────────────────────────┤\n",
       "│ gemma3_backbone               │ (<span style=\"color: #00d7ff; text-decoration-color: #00d7ff\">None</span>, <span style=\"color: #00d7ff; text-decoration-color: #00d7ff\">None</span>, <span style=\"color: #00af00; text-decoration-color: #00af00\">1152</span>)        │     <span style=\"color: #00af00; text-decoration-color: #00af00\">999,885,952</span> │ padding_mask[<span style=\"color: #00af00; text-decoration-color: #00af00\">0</span>][<span style=\"color: #00af00; text-decoration-color: #00af00\">0</span>],        │\n",
       "│ (<span style=\"color: #0087ff; text-decoration-color: #0087ff\">Gemma3Backbone</span>)              │                           │                 │ token_ids[<span style=\"color: #00af00; text-decoration-color: #00af00\">0</span>][<span style=\"color: #00af00; text-decoration-color: #00af00\">0</span>]            │\n",
       "├───────────────────────────────┼───────────────────────────┼─────────────────┼────────────────────────────┤\n",
       "│ token_embedding               │ (<span style=\"color: #00d7ff; text-decoration-color: #00d7ff\">None</span>, <span style=\"color: #00d7ff; text-decoration-color: #00d7ff\">None</span>, <span style=\"color: #00af00; text-decoration-color: #00af00\">262144</span>)      │     <span style=\"color: #00af00; text-decoration-color: #00af00\">301,989,888</span> │ gemma3_backbone[<span style=\"color: #00af00; text-decoration-color: #00af00\">0</span>][<span style=\"color: #00af00; text-decoration-color: #00af00\">0</span>]      │\n",
       "│ (<span style=\"color: #0087ff; text-decoration-color: #0087ff\">ReversibleEmbedding</span>)         │                           │                 │                            │\n",
       "└───────────────────────────────┴───────────────────────────┴─────────────────┴────────────────────────────┘\n",
       "</pre>\n"
      ],
      "text/plain": [
       "┏━━━━━━━━━━━━━━━━━━━━━━━━━━━━━━━┳━━━━━━━━━━━━━━━━━━━━━━━━━━━┳━━━━━━━━━━━━━━━━━┳━━━━━━━━━━━━━━━━━━━━━━━━━━━━┓\n",
       "┃\u001b[1m \u001b[0m\u001b[1mLayer (type)                 \u001b[0m\u001b[1m \u001b[0m┃\u001b[1m \u001b[0m\u001b[1mOutput Shape             \u001b[0m\u001b[1m \u001b[0m┃\u001b[1m \u001b[0m\u001b[1m        Param #\u001b[0m\u001b[1m \u001b[0m┃\u001b[1m \u001b[0m\u001b[1mConnected to              \u001b[0m\u001b[1m \u001b[0m┃\n",
       "┡━━━━━━━━━━━━━━━━━━━━━━━━━━━━━━━╇━━━━━━━━━━━━━━━━━━━━━━━━━━━╇━━━━━━━━━━━━━━━━━╇━━━━━━━━━━━━━━━━━━━━━━━━━━━━┩\n",
       "│ padding_mask (\u001b[38;5;33mInputLayer\u001b[0m)     │ (\u001b[38;5;45mNone\u001b[0m, \u001b[38;5;45mNone\u001b[0m)              │               \u001b[38;5;34m0\u001b[0m │ -                          │\n",
       "├───────────────────────────────┼───────────────────────────┼─────────────────┼────────────────────────────┤\n",
       "│ token_ids (\u001b[38;5;33mInputLayer\u001b[0m)        │ (\u001b[38;5;45mNone\u001b[0m, \u001b[38;5;45mNone\u001b[0m)              │               \u001b[38;5;34m0\u001b[0m │ -                          │\n",
       "├───────────────────────────────┼───────────────────────────┼─────────────────┼────────────────────────────┤\n",
       "│ gemma3_backbone               │ (\u001b[38;5;45mNone\u001b[0m, \u001b[38;5;45mNone\u001b[0m, \u001b[38;5;34m1152\u001b[0m)        │     \u001b[38;5;34m999,885,952\u001b[0m │ padding_mask[\u001b[38;5;34m0\u001b[0m][\u001b[38;5;34m0\u001b[0m],        │\n",
       "│ (\u001b[38;5;33mGemma3Backbone\u001b[0m)              │                           │                 │ token_ids[\u001b[38;5;34m0\u001b[0m][\u001b[38;5;34m0\u001b[0m]            │\n",
       "├───────────────────────────────┼───────────────────────────┼─────────────────┼────────────────────────────┤\n",
       "│ token_embedding               │ (\u001b[38;5;45mNone\u001b[0m, \u001b[38;5;45mNone\u001b[0m, \u001b[38;5;34m262144\u001b[0m)      │     \u001b[38;5;34m301,989,888\u001b[0m │ gemma3_backbone[\u001b[38;5;34m0\u001b[0m][\u001b[38;5;34m0\u001b[0m]      │\n",
       "│ (\u001b[38;5;33mReversibleEmbedding\u001b[0m)         │                           │                 │                            │\n",
       "└───────────────────────────────┴───────────────────────────┴─────────────────┴────────────────────────────┘\n"
      ]
     },
     "metadata": {},
     "output_type": "display_data"
    },
    {
     "data": {
      "text/html": [
       "<pre style=\"white-space:pre;overflow-x:auto;line-height:normal;font-family:Menlo,'DejaVu Sans Mono',consolas,'Courier New',monospace\"><span style=\"font-weight: bold\"> Total params: </span><span style=\"color: #00af00; text-decoration-color: #00af00\">999,885,952</span> (3.72 GB)\n",
       "</pre>\n"
      ],
      "text/plain": [
       "\u001b[1m Total params: \u001b[0m\u001b[38;5;34m999,885,952\u001b[0m (3.72 GB)\n"
      ]
     },
     "metadata": {},
     "output_type": "display_data"
    },
    {
     "data": {
      "text/html": [
       "<pre style=\"white-space:pre;overflow-x:auto;line-height:normal;font-family:Menlo,'DejaVu Sans Mono',consolas,'Courier New',monospace\"><span style=\"font-weight: bold\"> Trainable params: </span><span style=\"color: #00af00; text-decoration-color: #00af00\">999,885,952</span> (3.72 GB)\n",
       "</pre>\n"
      ],
      "text/plain": [
       "\u001b[1m Trainable params: \u001b[0m\u001b[38;5;34m999,885,952\u001b[0m (3.72 GB)\n"
      ]
     },
     "metadata": {},
     "output_type": "display_data"
    },
    {
     "data": {
      "text/html": [
       "<pre style=\"white-space:pre;overflow-x:auto;line-height:normal;font-family:Menlo,'DejaVu Sans Mono',consolas,'Courier New',monospace\"><span style=\"font-weight: bold\"> Non-trainable params: </span><span style=\"color: #00af00; text-decoration-color: #00af00\">0</span> (0.00 B)\n",
       "</pre>\n"
      ],
      "text/plain": [
       "\u001b[1m Non-trainable params: \u001b[0m\u001b[38;5;34m0\u001b[0m (0.00 B)\n"
      ]
     },
     "metadata": {},
     "output_type": "display_data"
    }
   ],
   "source": [
    "gemma_lm.summary()"
   ]
  },
  {
   "cell_type": "markdown",
   "id": "f2ea47f9",
   "metadata": {
    "papermill": {
     "duration": 0.010129,
     "end_time": "2025-04-07T05:38:03.677073",
     "exception": false,
     "start_time": "2025-04-07T05:38:03.666944",
     "status": "completed"
    },
    "tags": []
   },
   "source": [
    "# Prompt the model\n",
    "\n",
    "We define a simple prompt."
   ]
  },
  {
   "cell_type": "code",
   "execution_count": 6,
   "id": "d7e019c5",
   "metadata": {
    "execution": {
     "iopub.execute_input": "2025-04-07T05:38:03.699412Z",
     "iopub.status.busy": "2025-04-07T05:38:03.699047Z",
     "iopub.status.idle": "2025-04-07T05:38:25.958084Z",
     "shell.execute_reply": "2025-04-07T05:38:25.957135Z"
    },
    "papermill": {
     "duration": 22.272745,
     "end_time": "2025-04-07T05:38:25.960214",
     "exception": false,
     "start_time": "2025-04-07T05:38:03.687469",
     "status": "completed"
    },
    "tags": []
   },
   "outputs": [],
   "source": [
    "instructions = \"You are an AI that answers in short, complete sentences only.\\n\"\n",
    "prompt = (\n",
    "    f\"{instructions}\"\n",
    "    \"Question: {question}\\n\"\n",
    "    \"Answer:\"\n",
    ")\n",
    "\n",
    "output = gemma_lm.generate(\n",
    "    prompt.format(question=\"What is the temperature of the Moon?\"),\n",
    "    max_length=40, \n",
    "    stop_token_ids=[tokenizer.token_to_id(\"\\n\")]\n",
    ")\n"
   ]
  },
  {
   "cell_type": "code",
   "execution_count": 7,
   "id": "36ef3e1c",
   "metadata": {
    "execution": {
     "iopub.execute_input": "2025-04-07T05:38:25.983107Z",
     "iopub.status.busy": "2025-04-07T05:38:25.982696Z",
     "iopub.status.idle": "2025-04-07T05:38:25.987914Z",
     "shell.execute_reply": "2025-04-07T05:38:25.986772Z"
    },
    "papermill": {
     "duration": 0.018113,
     "end_time": "2025-04-07T05:38:25.989576",
     "exception": false,
     "start_time": "2025-04-07T05:38:25.971463",
     "status": "completed"
    },
    "tags": []
   },
   "outputs": [
    {
     "name": "stdout",
     "output_type": "stream",
     "text": [
      "Question: What is the temperature of the Moon?\n",
      "Answer: 0°C\n"
     ]
    }
   ],
   "source": [
    "answer = output.replace(instructions, \"\").strip()\n",
    "print(answer)"
   ]
  },
  {
   "cell_type": "markdown",
   "id": "1a27a988",
   "metadata": {
    "papermill": {
     "duration": 0.010167,
     "end_time": "2025-04-07T05:38:26.010464",
     "exception": false,
     "start_time": "2025-04-07T05:38:26.000297",
     "status": "completed"
    },
    "tags": []
   },
   "source": [
    "Well, the answer doesn't look correct. Let's try more questions."
   ]
  },
  {
   "cell_type": "markdown",
   "id": "a2f8438a",
   "metadata": {
    "papermill": {
     "duration": 0.010456,
     "end_time": "2025-04-07T05:38:26.031628",
     "exception": false,
     "start_time": "2025-04-07T05:38:26.021172",
     "status": "completed"
    },
    "tags": []
   },
   "source": [
    "## Functions to generate and format the output\n",
    "\n",
    "We define a function to generate the answer."
   ]
  },
  {
   "cell_type": "code",
   "execution_count": 8,
   "id": "c80ff541",
   "metadata": {
    "execution": {
     "iopub.execute_input": "2025-04-07T05:38:26.054712Z",
     "iopub.status.busy": "2025-04-07T05:38:26.054355Z",
     "iopub.status.idle": "2025-04-07T05:38:26.060059Z",
     "shell.execute_reply": "2025-04-07T05:38:26.058846Z"
    },
    "papermill": {
     "duration": 0.019585,
     "end_time": "2025-04-07T05:38:26.061898",
     "exception": false,
     "start_time": "2025-04-07T05:38:26.042313",
     "status": "completed"
    },
    "tags": []
   },
   "outputs": [],
   "source": [
    "def generate_answer(question, \n",
    "                    instructions=\"You are an AI that answers in short, complete sentences only.\\n\", \n",
    "                    max_length=40):\n",
    "    prompt = (\n",
    "        f\"{instructions}\"\n",
    "        \"Question: {question}\\n\"\n",
    "        \"Answer:\"\n",
    "    )\n",
    "    output = gemma_lm.generate(\n",
    "        prompt.format(question=question),\n",
    "        max_length=max_length, \n",
    "        stop_token_ids=[tokenizer.token_to_id(\"\\n\")]\n",
    "    )    \n",
    "    answer = output.replace(instructions, \"\").strip()\n",
    "    return answer"
   ]
  },
  {
   "cell_type": "markdown",
   "id": "d68c1943",
   "metadata": {
    "papermill": {
     "duration": 0.010384,
     "end_time": "2025-04-07T05:38:26.082910",
     "exception": false,
     "start_time": "2025-04-07T05:38:26.072526",
     "status": "completed"
    },
    "tags": []
   },
   "source": [
    "Next, we define a function to format the output."
   ]
  },
  {
   "cell_type": "code",
   "execution_count": 9,
   "id": "51ebdfa9",
   "metadata": {
    "execution": {
     "iopub.execute_input": "2025-04-07T05:38:26.106788Z",
     "iopub.status.busy": "2025-04-07T05:38:26.106415Z",
     "iopub.status.idle": "2025-04-07T05:38:26.111741Z",
     "shell.execute_reply": "2025-04-07T05:38:26.110539Z"
    },
    "papermill": {
     "duration": 0.019019,
     "end_time": "2025-04-07T05:38:26.113520",
     "exception": false,
     "start_time": "2025-04-07T05:38:26.094501",
     "status": "completed"
    },
    "tags": []
   },
   "outputs": [],
   "source": [
    "from IPython.display import display, Markdown\n",
    "\n",
    "def colorize_text(text):\n",
    "    for word, color in zip([\"Reasoning\", \"Question\", \"Answer\", \"Explanation\", \"Total time\"], [\"blue\", \"red\", \"green\", \"darkblue\",  \"magenta\"]):\n",
    "        text = text.replace(f\"{word}:\", f\"\\n\\n**<font color='{color}'>{word}:</font>**\")\n",
    "    return text"
   ]
  },
  {
   "cell_type": "markdown",
   "id": "faa3b0f8",
   "metadata": {
    "papermill": {
     "duration": 0.01014,
     "end_time": "2025-04-07T05:38:26.134347",
     "exception": false,
     "start_time": "2025-04-07T05:38:26.124207",
     "status": "completed"
    },
    "tags": []
   },
   "source": [
    "The following function combine both functions defined above."
   ]
  },
  {
   "cell_type": "code",
   "execution_count": 10,
   "id": "b286b7b3",
   "metadata": {
    "execution": {
     "iopub.execute_input": "2025-04-07T05:38:26.157630Z",
     "iopub.status.busy": "2025-04-07T05:38:26.157262Z",
     "iopub.status.idle": "2025-04-07T05:38:26.162265Z",
     "shell.execute_reply": "2025-04-07T05:38:26.161077Z"
    },
    "papermill": {
     "duration": 0.018989,
     "end_time": "2025-04-07T05:38:26.163898",
     "exception": false,
     "start_time": "2025-04-07T05:38:26.144909",
     "status": "completed"
    },
    "tags": []
   },
   "outputs": [],
   "source": [
    "def generate_format_answer(question, \n",
    "                    instructions=\"You are an AI that answers in short, complete sentences only.\\n\", \n",
    "                    max_length=40):\n",
    "    t = time()\n",
    "    answer = generate_answer(question, instructions, max_length)\n",
    "    display(Markdown(colorize_text(f\"{answer}\\n\\nTotal time: {round(time()-t, 2)} sec.\")))"
   ]
  },
  {
   "cell_type": "markdown",
   "id": "81c42e75",
   "metadata": {
    "papermill": {
     "duration": 0.010228,
     "end_time": "2025-04-07T05:38:26.184786",
     "exception": false,
     "start_time": "2025-04-07T05:38:26.174558",
     "status": "completed"
    },
    "tags": []
   },
   "source": [
    "## Test the model with simple common knowledge questions\n",
    "\n",
    "Will ask questions from history, arts, general culture and politics."
   ]
  },
  {
   "cell_type": "code",
   "execution_count": 11,
   "id": "7f71c36f",
   "metadata": {
    "execution": {
     "iopub.execute_input": "2025-04-07T05:38:26.207315Z",
     "iopub.status.busy": "2025-04-07T05:38:26.206904Z",
     "iopub.status.idle": "2025-04-07T05:38:29.683932Z",
     "shell.execute_reply": "2025-04-07T05:38:29.682885Z"
    },
    "papermill": {
     "duration": 3.490729,
     "end_time": "2025-04-07T05:38:29.686078",
     "exception": false,
     "start_time": "2025-04-07T05:38:26.195349",
     "status": "completed"
    },
    "tags": []
   },
   "outputs": [
    {
     "data": {
      "text/markdown": [
       "\n",
       "\n",
       "**<font color='red'>Question:</font>** When lived Alexander the Great?\n",
       "\n",
       "\n",
       "**<font color='green'>Answer:</font>** He lived in the 4th century BC.\n",
       "\n",
       "\n",
       "\n",
       "**<font color='magenta'>Total time:</font>** 3.47 sec."
      ],
      "text/plain": [
       "<IPython.core.display.Markdown object>"
      ]
     },
     "metadata": {},
     "output_type": "display_data"
    }
   ],
   "source": [
    "answer = generate_format_answer(\"When lived Alexander the Great?\")"
   ]
  },
  {
   "cell_type": "code",
   "execution_count": 12,
   "id": "370ae680",
   "metadata": {
    "execution": {
     "iopub.execute_input": "2025-04-07T05:38:29.708942Z",
     "iopub.status.busy": "2025-04-07T05:38:29.708529Z",
     "iopub.status.idle": "2025-04-07T05:38:33.211824Z",
     "shell.execute_reply": "2025-04-07T05:38:33.210726Z"
    },
    "papermill": {
     "duration": 3.516501,
     "end_time": "2025-04-07T05:38:33.213423",
     "exception": false,
     "start_time": "2025-04-07T05:38:29.696922",
     "status": "completed"
    },
    "tags": []
   },
   "outputs": [
    {
     "data": {
      "text/markdown": [
       "\n",
       "\n",
       "**<font color='red'>Question:</font>** When lived Julius Caesar?\n",
       "\n",
       "\n",
       "**<font color='green'>Answer:</font>** He lived in the 1st century BC.\n",
       "\n",
       "\n",
       "\n",
       "**<font color='magenta'>Total time:</font>** 3.5 sec."
      ],
      "text/plain": [
       "<IPython.core.display.Markdown object>"
      ]
     },
     "metadata": {},
     "output_type": "display_data"
    }
   ],
   "source": [
    "answer = generate_format_answer(\"When lived Julius Caesar?\")"
   ]
  },
  {
   "cell_type": "code",
   "execution_count": 13,
   "id": "30340f16",
   "metadata": {
    "execution": {
     "iopub.execute_input": "2025-04-07T05:38:33.236331Z",
     "iopub.status.busy": "2025-04-07T05:38:33.235933Z",
     "iopub.status.idle": "2025-04-07T05:38:35.688482Z",
     "shell.execute_reply": "2025-04-07T05:38:35.687192Z"
    },
    "papermill": {
     "duration": 2.465901,
     "end_time": "2025-04-07T05:38:35.690290",
     "exception": false,
     "start_time": "2025-04-07T05:38:33.224389",
     "status": "completed"
    },
    "tags": []
   },
   "outputs": [
    {
     "data": {
      "text/markdown": [
       "\n",
       "\n",
       "**<font color='red'>Question:</font>** When was the 1st Crusade?\n",
       "\n",
       "\n",
       "**<font color='green'>Answer:</font>** 11th century.\n",
       "\n",
       "\n",
       "\n",
       "**<font color='magenta'>Total time:</font>** 2.45 sec."
      ],
      "text/plain": [
       "<IPython.core.display.Markdown object>"
      ]
     },
     "metadata": {},
     "output_type": "display_data"
    }
   ],
   "source": [
    "answer = generate_format_answer(\"When was the 1st Crusade?\")"
   ]
  },
  {
   "cell_type": "code",
   "execution_count": 14,
   "id": "c819bf32",
   "metadata": {
    "execution": {
     "iopub.execute_input": "2025-04-07T05:38:35.714305Z",
     "iopub.status.busy": "2025-04-07T05:38:35.713954Z",
     "iopub.status.idle": "2025-04-07T05:38:38.205811Z",
     "shell.execute_reply": "2025-04-07T05:38:38.204730Z"
    },
    "papermill": {
     "duration": 2.505993,
     "end_time": "2025-04-07T05:38:38.207509",
     "exception": false,
     "start_time": "2025-04-07T05:38:35.701516",
     "status": "completed"
    },
    "tags": []
   },
   "outputs": [
    {
     "data": {
      "text/markdown": [
       "\n",
       "\n",
       "**<font color='red'>Question:</font>** When Henric VIII lived?\n",
       "\n",
       "\n",
       "**<font color='green'>Answer:</font>** 15th century.\n",
       "\n",
       "\n",
       "\n",
       "**<font color='magenta'>Total time:</font>** 2.49 sec."
      ],
      "text/plain": [
       "<IPython.core.display.Markdown object>"
      ]
     },
     "metadata": {},
     "output_type": "display_data"
    }
   ],
   "source": [
    "answer = generate_format_answer(\"When Henric VIII lived?\")"
   ]
  },
  {
   "cell_type": "markdown",
   "id": "2183f00d",
   "metadata": {
    "papermill": {
     "duration": 0.010632,
     "end_time": "2025-04-07T05:38:38.229257",
     "exception": false,
     "start_time": "2025-04-07T05:38:38.218625",
     "status": "completed"
    },
    "tags": []
   },
   "source": [
    "The answer is partially correct, he actually was born in 15th century, but lived most of his life in 16th century."
   ]
  },
  {
   "cell_type": "code",
   "execution_count": 15,
   "id": "6ddfc31c",
   "metadata": {
    "execution": {
     "iopub.execute_input": "2025-04-07T05:38:38.253079Z",
     "iopub.status.busy": "2025-04-07T05:38:38.252668Z",
     "iopub.status.idle": "2025-04-07T05:38:40.965061Z",
     "shell.execute_reply": "2025-04-07T05:38:40.963831Z"
    },
    "papermill": {
     "duration": 2.726369,
     "end_time": "2025-04-07T05:38:40.967086",
     "exception": false,
     "start_time": "2025-04-07T05:38:38.240717",
     "status": "completed"
    },
    "tags": []
   },
   "outputs": [
    {
     "data": {
      "text/markdown": [
       "\n",
       "\n",
       "**<font color='red'>Question:</font>** When started the rule of King Charles III?\n",
       "\n",
       "\n",
       "**<font color='green'>Answer:</font>** 2022\n",
       "\n",
       "---\n",
       "\n",
       "\n",
       "\n",
       "**<font color='magenta'>Total time:</font>** 2.71 sec."
      ],
      "text/plain": [
       "<IPython.core.display.Markdown object>"
      ]
     },
     "metadata": {},
     "output_type": "display_data"
    }
   ],
   "source": [
    "answer = generate_format_answer(\"When started the rule of King Charles III?\")"
   ]
  },
  {
   "cell_type": "code",
   "execution_count": 16,
   "id": "e9ccb59d",
   "metadata": {
    "execution": {
     "iopub.execute_input": "2025-04-07T05:38:40.990690Z",
     "iopub.status.busy": "2025-04-07T05:38:40.990289Z",
     "iopub.status.idle": "2025-04-07T05:38:42.213675Z",
     "shell.execute_reply": "2025-04-07T05:38:42.212675Z"
    },
    "papermill": {
     "duration": 1.237175,
     "end_time": "2025-04-07T05:38:42.215483",
     "exception": false,
     "start_time": "2025-04-07T05:38:40.978308",
     "status": "completed"
    },
    "tags": []
   },
   "outputs": [
    {
     "data": {
      "text/markdown": [
       "\n",
       "\n",
       "**<font color='red'>Question:</font>** In what continent is Albania?\n",
       "\n",
       "\n",
       "**<font color='green'>Answer:</font>** Europe\n",
       "\n",
       "\n",
       "\n",
       "**<font color='magenta'>Total time:</font>** 1.22 sec."
      ],
      "text/plain": [
       "<IPython.core.display.Markdown object>"
      ]
     },
     "metadata": {},
     "output_type": "display_data"
    }
   ],
   "source": [
    "answer = generate_format_answer(\"In what continent is Albania?\")"
   ]
  },
  {
   "cell_type": "code",
   "execution_count": 17,
   "id": "d65b53d6",
   "metadata": {
    "execution": {
     "iopub.execute_input": "2025-04-07T05:38:42.239474Z",
     "iopub.status.busy": "2025-04-07T05:38:42.239118Z",
     "iopub.status.idle": "2025-04-07T05:38:43.740310Z",
     "shell.execute_reply": "2025-04-07T05:38:43.739083Z"
    },
    "papermill": {
     "duration": 1.515457,
     "end_time": "2025-04-07T05:38:43.742470",
     "exception": false,
     "start_time": "2025-04-07T05:38:42.227013",
     "status": "completed"
    },
    "tags": []
   },
   "outputs": [
    {
     "data": {
      "text/markdown": [
       "\n",
       "\n",
       "**<font color='red'>Question:</font>** With which country in Asia has Europe border?\n",
       "\n",
       "\n",
       "**<font color='green'>Answer:</font>** Russia.\n",
       "\n",
       "\n",
       "\n",
       "**<font color='magenta'>Total time:</font>** 1.5 sec."
      ],
      "text/plain": [
       "<IPython.core.display.Markdown object>"
      ]
     },
     "metadata": {},
     "output_type": "display_data"
    }
   ],
   "source": [
    "answer = generate_format_answer(\"With which country in Asia has Europe border?\")"
   ]
  },
  {
   "cell_type": "code",
   "execution_count": 18,
   "id": "c33d974c",
   "metadata": {
    "execution": {
     "iopub.execute_input": "2025-04-07T05:38:43.767889Z",
     "iopub.status.busy": "2025-04-07T05:38:43.767485Z",
     "iopub.status.idle": "2025-04-07T05:38:46.719535Z",
     "shell.execute_reply": "2025-04-07T05:38:46.718441Z"
    },
    "papermill": {
     "duration": 2.967004,
     "end_time": "2025-04-07T05:38:46.721447",
     "exception": false,
     "start_time": "2025-04-07T05:38:43.754443",
     "status": "completed"
    },
    "tags": []
   },
   "outputs": [
    {
     "data": {
      "text/markdown": [
       "\n",
       "\n",
       "**<font color='red'>Question:</font>** On what continents is Turkye?\n",
       "\n",
       "\n",
       "**<font color='green'>Answer:</font>** Turkey is located on Europe and Asia.\n",
       "\n",
       "\n",
       "\n",
       "**<font color='magenta'>Total time:</font>** 2.95 sec."
      ],
      "text/plain": [
       "<IPython.core.display.Markdown object>"
      ]
     },
     "metadata": {},
     "output_type": "display_data"
    }
   ],
   "source": [
    "answer = generate_format_answer(\"On what continents is Turkye?\")"
   ]
  },
  {
   "cell_type": "code",
   "execution_count": 19,
   "id": "9dd2575f",
   "metadata": {
    "execution": {
     "iopub.execute_input": "2025-04-07T05:38:46.745683Z",
     "iopub.status.busy": "2025-04-07T05:38:46.745325Z",
     "iopub.status.idle": "2025-04-07T05:38:48.695128Z",
     "shell.execute_reply": "2025-04-07T05:38:48.693853Z"
    },
    "papermill": {
     "duration": 1.964019,
     "end_time": "2025-04-07T05:38:48.697061",
     "exception": false,
     "start_time": "2025-04-07T05:38:46.733042",
     "status": "completed"
    },
    "tags": []
   },
   "outputs": [
    {
     "data": {
      "text/markdown": [
       "\n",
       "\n",
       "**<font color='red'>Question:</font>** What compound powers nuclear reactors?\n",
       "\n",
       "\n",
       "**<font color='green'>Answer:</font>** Uranium\n",
       "\n",
       "<end_of_turn><end_of_turn>\n",
       "\n",
       "\n",
       "\n",
       "**<font color='magenta'>Total time:</font>** 1.94 sec."
      ],
      "text/plain": [
       "<IPython.core.display.Markdown object>"
      ]
     },
     "metadata": {},
     "output_type": "display_data"
    }
   ],
   "source": [
    "answer = generate_format_answer(\"What compound powers nuclear reactors?\")"
   ]
  },
  {
   "cell_type": "code",
   "execution_count": 20,
   "id": "ee00024a",
   "metadata": {
    "execution": {
     "iopub.execute_input": "2025-04-07T05:38:48.721923Z",
     "iopub.status.busy": "2025-04-07T05:38:48.721507Z",
     "iopub.status.idle": "2025-04-07T05:38:50.674368Z",
     "shell.execute_reply": "2025-04-07T05:38:50.673321Z"
    },
    "papermill": {
     "duration": 1.967345,
     "end_time": "2025-04-07T05:38:50.676262",
     "exception": false,
     "start_time": "2025-04-07T05:38:48.708917",
     "status": "completed"
    },
    "tags": []
   },
   "outputs": [
    {
     "data": {
      "text/markdown": [
       "\n",
       "\n",
       "**<font color='red'>Question:</font>** Who build the 1st atomic bomb?\n",
       "\n",
       "\n",
       "**<font color='green'>Answer:</font>** The United States.\n",
       "\n",
       "\n",
       "\n",
       "**<font color='magenta'>Total time:</font>** 1.95 sec."
      ],
      "text/plain": [
       "<IPython.core.display.Markdown object>"
      ]
     },
     "metadata": {},
     "output_type": "display_data"
    }
   ],
   "source": [
    "answer = generate_format_answer(\"Who build the 1st atomic bomb?\")"
   ]
  },
  {
   "cell_type": "code",
   "execution_count": 21,
   "id": "6b9fcaec",
   "metadata": {
    "execution": {
     "iopub.execute_input": "2025-04-07T05:38:50.700762Z",
     "iopub.status.busy": "2025-04-07T05:38:50.700414Z",
     "iopub.status.idle": "2025-04-07T05:38:53.438682Z",
     "shell.execute_reply": "2025-04-07T05:38:53.437662Z"
    },
    "papermill": {
     "duration": 2.752341,
     "end_time": "2025-04-07T05:38:53.440374",
     "exception": false,
     "start_time": "2025-04-07T05:38:50.688033",
     "status": "completed"
    },
    "tags": []
   },
   "outputs": [
    {
     "data": {
      "text/markdown": [
       "\n",
       "\n",
       "**<font color='red'>Question:</font>** Who was the 46th president of United States?\n",
       "\n",
       "\n",
       "**<font color='green'>Answer:</font>** Joe Biden\n",
       "\n",
       "\n",
       "\n",
       "**<font color='red'>Question:</font>** What is the\n",
       "\n",
       "\n",
       "\n",
       "**<font color='magenta'>Total time:</font>** 2.73 sec."
      ],
      "text/plain": [
       "<IPython.core.display.Markdown object>"
      ]
     },
     "metadata": {},
     "output_type": "display_data"
    }
   ],
   "source": [
    "answer = generate_format_answer(\"Who was the 46th president of United States?\")"
   ]
  },
  {
   "cell_type": "markdown",
   "id": "3e65698f",
   "metadata": {
    "papermill": {
     "duration": 0.011403,
     "end_time": "2025-04-07T05:38:53.463692",
     "exception": false,
     "start_time": "2025-04-07T05:38:53.452289",
     "status": "completed"
    },
    "tags": []
   },
   "source": [
    "There is an issue here, it looks like the model is initiating a conversation or just dumps sequences of Q & A.\n",
    "\n",
    "Let's test the model for a bit more complex tasks."
   ]
  },
  {
   "cell_type": "markdown",
   "id": "690424dc",
   "metadata": {
    "papermill": {
     "duration": 0.012091,
     "end_time": "2025-04-07T05:38:53.488379",
     "exception": false,
     "start_time": "2025-04-07T05:38:53.476288",
     "status": "completed"
    },
    "tags": []
   },
   "source": [
    "## Test the model with simple arithmetics"
   ]
  },
  {
   "cell_type": "code",
   "execution_count": 22,
   "id": "79f82eb5",
   "metadata": {
    "execution": {
     "iopub.execute_input": "2025-04-07T05:38:53.515088Z",
     "iopub.status.busy": "2025-04-07T05:38:53.514695Z",
     "iopub.status.idle": "2025-04-07T05:38:56.159039Z",
     "shell.execute_reply": "2025-04-07T05:38:56.157908Z"
    },
    "papermill": {
     "duration": 2.659582,
     "end_time": "2025-04-07T05:38:56.160777",
     "exception": false,
     "start_time": "2025-04-07T05:38:53.501195",
     "status": "completed"
    },
    "tags": []
   },
   "outputs": [
    {
     "data": {
      "text/markdown": [
       "\n",
       "\n",
       "**<font color='red'>Question:</font>** What is 144 + 25?\n",
       "\n",
       "\n",
       "**<font color='green'>Answer:</font>** 169\n",
       "\n",
       "<end_of_turn>\n",
       "\n",
       "\n",
       "\n",
       "**<font color='magenta'>Total time:</font>** 2.64 sec."
      ],
      "text/plain": [
       "<IPython.core.display.Markdown object>"
      ]
     },
     "metadata": {},
     "output_type": "display_data"
    }
   ],
   "source": [
    "generate_format_answer(\"What is 144 + 25?\")"
   ]
  },
  {
   "cell_type": "code",
   "execution_count": 23,
   "id": "5aad5fd2",
   "metadata": {
    "execution": {
     "iopub.execute_input": "2025-04-07T05:38:56.187698Z",
     "iopub.status.busy": "2025-04-07T05:38:56.187234Z",
     "iopub.status.idle": "2025-04-07T05:38:58.105380Z",
     "shell.execute_reply": "2025-04-07T05:38:58.104282Z"
    },
    "papermill": {
     "duration": 1.933888,
     "end_time": "2025-04-07T05:38:58.107197",
     "exception": false,
     "start_time": "2025-04-07T05:38:56.173309",
     "status": "completed"
    },
    "tags": []
   },
   "outputs": [
    {
     "data": {
      "text/markdown": [
       "\n",
       "\n",
       "**<font color='red'>Question:</font>** What is the square root of 169?\n",
       "\n",
       "\n",
       "**<font color='green'>Answer:</font>** 13\n",
       "\n",
       "\n",
       "\n",
       "**<font color='magenta'>Total time:</font>** 1.91 sec."
      ],
      "text/plain": [
       "<IPython.core.display.Markdown object>"
      ]
     },
     "metadata": {},
     "output_type": "display_data"
    }
   ],
   "source": [
    "generate_format_answer(\"What is the square root of 169?\")"
   ]
  },
  {
   "cell_type": "code",
   "execution_count": 24,
   "id": "116a1c9a",
   "metadata": {
    "execution": {
     "iopub.execute_input": "2025-04-07T05:38:58.133753Z",
     "iopub.status.busy": "2025-04-07T05:38:58.133345Z",
     "iopub.status.idle": "2025-04-07T05:39:01.588029Z",
     "shell.execute_reply": "2025-04-07T05:39:01.586760Z"
    },
    "papermill": {
     "duration": 3.470466,
     "end_time": "2025-04-07T05:39:01.589789",
     "exception": false,
     "start_time": "2025-04-07T05:38:58.119323",
     "status": "completed"
    },
    "tags": []
   },
   "outputs": [
    {
     "data": {
      "text/markdown": [
       "\n",
       "\n",
       "**<font color='red'>Question:</font>** What is the square of 14?\n",
       "\n",
       "\n",
       "**<font color='green'>Answer:</font>** 196\n",
       "\n",
       "\n",
       "\n",
       "**<font color='red'>Question:</font>** What is the sum\n",
       "\n",
       "\n",
       "\n",
       "**<font color='magenta'>Total time:</font>** 3.45 sec."
      ],
      "text/plain": [
       "<IPython.core.display.Markdown object>"
      ]
     },
     "metadata": {},
     "output_type": "display_data"
    }
   ],
   "source": [
    "generate_format_answer(\"What is the square of 14?\")"
   ]
  },
  {
   "cell_type": "markdown",
   "id": "ee9cd037",
   "metadata": {
    "papermill": {
     "duration": 0.012425,
     "end_time": "2025-04-07T05:39:01.614663",
     "exception": false,
     "start_time": "2025-04-07T05:39:01.602238",
     "status": "completed"
    },
    "tags": []
   },
   "source": [
    "Again, the model starts to dump Q & A sequences."
   ]
  },
  {
   "cell_type": "markdown",
   "id": "1d863ede",
   "metadata": {
    "papermill": {
     "duration": 0.011624,
     "end_time": "2025-04-07T05:39:01.638542",
     "exception": false,
     "start_time": "2025-04-07T05:39:01.626918",
     "status": "completed"
    },
    "tags": []
   },
   "source": [
    "## Test with more advanced math"
   ]
  },
  {
   "cell_type": "code",
   "execution_count": 25,
   "id": "0777e7f9",
   "metadata": {
    "execution": {
     "iopub.execute_input": "2025-04-07T05:39:01.663890Z",
     "iopub.status.busy": "2025-04-07T05:39:01.663472Z",
     "iopub.status.idle": "2025-04-07T05:39:01.667602Z",
     "shell.execute_reply": "2025-04-07T05:39:01.666575Z"
    },
    "papermill": {
     "duration": 0.018926,
     "end_time": "2025-04-07T05:39:01.669400",
     "exception": false,
     "start_time": "2025-04-07T05:39:01.650474",
     "status": "completed"
    },
    "tags": []
   },
   "outputs": [],
   "source": [
    "prompt = \"\"\"\n",
    "You are an AI assistant designed to solve math problems.\n",
    "Answer to the problem. Only when needed, include reasoning.\n",
    "Question: {question}\n",
    "Answer:\n",
    "\"\"\""
   ]
  },
  {
   "cell_type": "code",
   "execution_count": 26,
   "id": "0103d66f",
   "metadata": {
    "execution": {
     "iopub.execute_input": "2025-04-07T05:39:01.752284Z",
     "iopub.status.busy": "2025-04-07T05:39:01.751946Z",
     "iopub.status.idle": "2025-04-07T05:40:29.593237Z",
     "shell.execute_reply": "2025-04-07T05:40:29.592105Z"
    },
    "papermill": {
     "duration": 87.868958,
     "end_time": "2025-04-07T05:40:29.607853",
     "exception": false,
     "start_time": "2025-04-07T05:39:01.738895",
     "status": "completed"
    },
    "tags": []
   },
   "outputs": [
    {
     "data": {
      "text/markdown": [
       "\n",
       "You are an AI assistant designed to solve math problems.\n",
       "Answer to the problem. Only when needed, include reasoning.\n",
       "\n",
       "\n",
       "**<font color='red'>Question:</font>** Eduard and John are brothers. \n",
       "    They split 10 apples.\n",
       "    Eduard has 2 more apples than John. \n",
       "    How many apples have each?\n",
       "\n",
       "\n",
       "**<font color='green'>Answer:</font>**\n",
       "Let's solve this problem step by step.\n",
       "Let $E$ be the number of apples Eduard has and $J$ be the number of apples John has.\n",
       "We are given that they split 10 apples, so $E + J = 10$.\n",
       "We are also given that Eduard has 2 more apples than John, so $E = J + 2$.\n",
       "Now we can substitute the second equation into the first equation:\n",
       "$(J + 2) + J = 10$\n",
       "$2J + 2 = 10$\n",
       "$2J = 8$\n",
       "$J = 4$\n",
       "Now we can find the number of apples Eduard has:\n",
       "$E = J + 2 = 4 + 2 = 6$\n",
       "So Eduard has 6 apples and John has 4 apples.\n",
       "We can check our answer:\n",
       "$E + J = 6 + 4 = 10$\n",
       "$E = J + 2 \\Rightarrow 6 = 4 + 2$, which is true.\n",
       "Final \n",
       "\n",
       "**<font color='green'>Answer:</font>** The final answer is $\\boxed{6, 4}$<end_of_turn>\n",
       "\n",
       "\n",
       "\n",
       "**<font color='magenta'>Total time:</font>** 87.83 sec."
      ],
      "text/plain": [
       "<IPython.core.display.Markdown object>"
      ]
     },
     "metadata": {},
     "output_type": "display_data"
    }
   ],
   "source": [
    "t = time()\n",
    "response = gemma_lm.generate(prompt.format(\n",
    "    question=\"\"\"Eduard and John are brothers. \n",
    "    They split 10 apples.\n",
    "    Eduard has 2 more apples than John. \n",
    "    How many apples have each?\"\"\"), \n",
    "    max_length=400)\n",
    "display(Markdown(colorize_text(f\"{response}\\n\\nTotal time: {round(time()-t, 2)} sec.\")))"
   ]
  },
  {
   "cell_type": "code",
   "execution_count": 27,
   "id": "c443359e",
   "metadata": {
    "execution": {
     "iopub.execute_input": "2025-04-07T05:40:29.634194Z",
     "iopub.status.busy": "2025-04-07T05:40:29.633785Z",
     "iopub.status.idle": "2025-04-07T05:41:56.689066Z",
     "shell.execute_reply": "2025-04-07T05:41:56.687876Z"
    },
    "papermill": {
     "duration": 87.081371,
     "end_time": "2025-04-07T05:41:56.701656",
     "exception": false,
     "start_time": "2025-04-07T05:40:29.620285",
     "status": "completed"
    },
    "tags": []
   },
   "outputs": [
    {
     "data": {
      "text/markdown": [
       "\n",
       "You are an AI assistant designed to solve math problems.\n",
       "Answer to the problem. Only when needed, include reasoning.\n",
       "\n",
       "\n",
       "**<font color='red'>Question:</font>** 2x + 5y = 12\n",
       "                2y - x = 3\n",
       "                Solve the equation for x and y. \n",
       "                Hint: simplify first x.\n",
       "\n",
       "\n",
       "**<font color='green'>Answer:</font>**\n",
       "x = 3\n",
       "y = 2\n",
       "\n",
       "\n",
       "**<font color='darkblue'>Explanation:</font>**\n",
       "The given equations are:\n",
       "2x + 5y = 12\n",
       "2y - x = 3\n",
       "We can solve this system of equations by substitution.\n",
       "From the second equation, we can solve for x:\n",
       "2y - x = 3\n",
       "x = 2y - 3\n",
       "Substitute this expression for x into the first equation:\n",
       "2(2y - 3) + 5y = 12\n",
       "4y - 6 + 5y = 12\n",
       "9y - 6 = 12\n",
       "9y = 18\n",
       "y = 2\n",
       "Now, substitute y = 2 into the equation x = 2y - 3:\n",
       "x = 2(2) - 3\n",
       "x = 4 - 3\n",
       "x = 1\n",
       "Therefore, x = 1 and y = 2.\n",
       "The solution is x = 1, y = 2.\n",
       "Final \n",
       "\n",
       "**<font color='green'>Answer:</font>** The final answer is 1, 2.\n",
       "<end_of_turn>\n",
       "\n",
       "\n",
       "\n",
       "**<font color='magenta'>Total time:</font>** 87.05 sec."
      ],
      "text/plain": [
       "<IPython.core.display.Markdown object>"
      ]
     },
     "metadata": {},
     "output_type": "display_data"
    }
   ],
   "source": [
    "t = time()\n",
    "response = gemma_lm.generate(prompt.format(\n",
    "    question=\"\"\"2x + 5y = 12\n",
    "                2y - x = 3\n",
    "                Solve the equation for x and y. \n",
    "                Hint: simplify first x.\"\"\"), \n",
    "    max_length=512)\n",
    "display(Markdown(colorize_text(f\"{response}\\n\\nTotal time: {round(time()-t, 2)} sec.\")))"
   ]
  },
  {
   "cell_type": "code",
   "execution_count": 28,
   "id": "9e98f8c2",
   "metadata": {
    "execution": {
     "iopub.execute_input": "2025-04-07T05:41:56.727829Z",
     "iopub.status.busy": "2025-04-07T05:41:56.727397Z",
     "iopub.status.idle": "2025-04-07T05:43:17.603299Z",
     "shell.execute_reply": "2025-04-07T05:43:17.601989Z"
    },
    "papermill": {
     "duration": 80.901911,
     "end_time": "2025-04-07T05:43:17.616027",
     "exception": false,
     "start_time": "2025-04-07T05:41:56.714116",
     "status": "completed"
    },
    "tags": []
   },
   "outputs": [
    {
     "data": {
      "text/markdown": [
       "\n",
       "You are an AI assistant designed to solve math problems.\n",
       "Answer to the problem. Only when needed, include reasoning.\n",
       "\n",
       "\n",
       "**<font color='red'>Question:</font>** x^2 -5x + 6 = 0\n",
       "                Solve the equation for x. \n",
       "                \n",
       "\n",
       "\n",
       "**<font color='green'>Answer:</font>**\n",
       "The equation is a quadratic equation in the form ax^2 + bx + c = 0.\n",
       "In this case, a = 1, b = -5, and c = 6.\n",
       "We can use the quadratic formula to solve for x:\n",
       "x = (-b ± √(b^2 - 4ac)) / 2a\n",
       "Plugging in the values, we get:\n",
       "x = (-(-5) ± √((-5)^2 - 4 * 1 * 6)) / (2 * 1)\n",
       "x = (5 ± √(25 - 24)) / 2\n",
       "x = (5 ± √1) / 2\n",
       "x = (5 ± 1) / 2\n",
       "x1 = (5 + 1) / 2 = 6 / 2 = 3\n",
       "x2 = (5 - 1) / 2 = 4 / 2 = 2\n",
       "Therefore, the solutions are x = 3 and x = 2.\n",
       "The solutions are x =\n",
       "\n",
       "\n",
       "\n",
       "**<font color='magenta'>Total time:</font>** 80.87 sec."
      ],
      "text/plain": [
       "<IPython.core.display.Markdown object>"
      ]
     },
     "metadata": {},
     "output_type": "display_data"
    }
   ],
   "source": [
    "t = time()\n",
    "response = gemma_lm.generate(prompt.format(\n",
    "    question=\"\"\"x^2 -5x + 6 = 0\n",
    "                Solve the equation for x. \n",
    "                \"\"\"), \n",
    "    max_length=275)\n",
    "display(Markdown(colorize_text(f\"{response}\\n\\nTotal time: {round(time()-t, 2)} sec.\")))"
   ]
  },
  {
   "cell_type": "markdown",
   "id": "94af210f",
   "metadata": {
    "papermill": {
     "duration": 0.012251,
     "end_time": "2025-04-07T05:43:17.641520",
     "exception": false,
     "start_time": "2025-04-07T05:43:17.629269",
     "status": "completed"
    },
    "tags": []
   },
   "source": [
    "## Write code\n",
    "\n",
    "Let's test the model for writing code."
   ]
  },
  {
   "cell_type": "markdown",
   "id": "987952ae",
   "metadata": {
    "papermill": {
     "duration": 0.012339,
     "end_time": "2025-04-07T05:43:17.666333",
     "exception": false,
     "start_time": "2025-04-07T05:43:17.653994",
     "status": "completed"
    },
    "tags": []
   },
   "source": [
    "### Python code"
   ]
  },
  {
   "cell_type": "code",
   "execution_count": 29,
   "id": "537807c5",
   "metadata": {
    "execution": {
     "iopub.execute_input": "2025-04-07T05:43:17.693028Z",
     "iopub.status.busy": "2025-04-07T05:43:17.692484Z",
     "iopub.status.idle": "2025-04-07T05:43:17.697581Z",
     "shell.execute_reply": "2025-04-07T05:43:17.696483Z"
    },
    "papermill": {
     "duration": 0.020315,
     "end_time": "2025-04-07T05:43:17.699440",
     "exception": false,
     "start_time": "2025-04-07T05:43:17.679125",
     "status": "completed"
    },
    "tags": []
   },
   "outputs": [],
   "source": [
    "prompt = \"\"\"\n",
    "You are an AI assistant designed to write simple Python code.\n",
    "Please answer with the listing of the Python code.\n",
    "Make sure to format the output using correct Markdown for code.\n",
    "Question: {question}\n",
    "Answer:\n",
    "\"\"\""
   ]
  },
  {
   "cell_type": "code",
   "execution_count": 30,
   "id": "38834d69",
   "metadata": {
    "execution": {
     "iopub.execute_input": "2025-04-07T05:43:17.726250Z",
     "iopub.status.busy": "2025-04-07T05:43:17.725830Z",
     "iopub.status.idle": "2025-04-07T05:43:59.047854Z",
     "shell.execute_reply": "2025-04-07T05:43:59.046690Z"
    },
    "papermill": {
     "duration": 41.349737,
     "end_time": "2025-04-07T05:43:59.061964",
     "exception": false,
     "start_time": "2025-04-07T05:43:17.712227",
     "status": "completed"
    },
    "tags": []
   },
   "outputs": [
    {
     "data": {
      "text/markdown": [
       "\n",
       "You are an AI assistant designed to write simple Python code.\n",
       "Please answer with the listing of the Python code.\n",
       "Make sure to format the output using correct Markdown for code.\n",
       "\n",
       "\n",
       "**<font color='red'>Question:</font>** Please write a function in Python to calculate the area of a square with edge 'a'\n",
       "\n",
       "\n",
       "**<font color='green'>Answer:</font>**\n",
       "```python\n",
       "def calculate_square_area(a):\n",
       "    \"\"\"\n",
       "    Calculate the area of a square with edge 'a'.\n",
       "\n",
       "    Args:\n",
       "        a: The length of the side of the square.\n",
       "\n",
       "    Returns:\n",
       "        The area of the square.\n",
       "    \"\"\"\n",
       "    area = a * a\n",
       "    return area\n",
       "```\n",
       "<end_of_turn>\n",
       "\n",
       "\n",
       "\n",
       "**<font color='magenta'>Total time:</font>** 41.32 sec."
      ],
      "text/plain": [
       "<IPython.core.display.Markdown object>"
      ]
     },
     "metadata": {},
     "output_type": "display_data"
    }
   ],
   "source": [
    "t = time()\n",
    "response = gemma_lm.generate(prompt.format(question=\"Please write a function in Python to calculate the area of a square with edge 'a'\"), \n",
    "                             max_length=256)\n",
    "display(Markdown(colorize_text(f\"{response}\\n\\nTotal time: {round(time()-t, 2)} sec.\")))"
   ]
  },
  {
   "cell_type": "code",
   "execution_count": 31,
   "id": "5733f46f",
   "metadata": {
    "execution": {
     "iopub.execute_input": "2025-04-07T05:43:59.089206Z",
     "iopub.status.busy": "2025-04-07T05:43:59.088751Z",
     "iopub.status.idle": "2025-04-07T05:44:22.390594Z",
     "shell.execute_reply": "2025-04-07T05:44:22.389179Z"
    },
    "papermill": {
     "duration": 23.317917,
     "end_time": "2025-04-07T05:44:22.392646",
     "exception": false,
     "start_time": "2025-04-07T05:43:59.074729",
     "status": "completed"
    },
    "tags": []
   },
   "outputs": [
    {
     "data": {
      "text/markdown": [
       "\n",
       "You are an AI assistant designed to write simple Python code.\n",
       "Please answer with the listing of the Python code.\n",
       "Make sure to format the output using correct Markdown for code.\n",
       "\n",
       "\n",
       "**<font color='red'>Question:</font>** Write a function in Python to calculate the area of a circle of radius r\n",
       "\n",
       "\n",
       "**<font color='green'>Answer:</font>**\n",
       "```python\n",
       "import math\n",
       "\n",
       "def calculate_circle_area(r):\n",
       "  \"\"\"\n",
       "  Calculate the area of a circle.\n",
       "\n",
       "  Args:\n",
       "    r: The radius of the circle.\n",
       "\n",
       "  Returns:\n",
       "    The area of the circle.\n",
       "  \"\"\"\n",
       "  area = math.pi * r**2\n",
       "  return area\n",
       "```\n",
       "<end_of_turn>\n",
       "\n",
       "\n",
       "\n",
       "**<font color='magenta'>Total time:</font>** 23.29 sec."
      ],
      "text/plain": [
       "<IPython.core.display.Markdown object>"
      ]
     },
     "metadata": {},
     "output_type": "display_data"
    }
   ],
   "source": [
    "t = time()\n",
    "response = gemma_lm.generate(prompt.format(question=\"Write a function in Python to calculate the area of a circle of radius r\"), \n",
    "                             max_length=256)\n",
    "display(Markdown(colorize_text(f\"{response}\\n\\nTotal time: {round(time()-t, 2)} sec.\")))"
   ]
  },
  {
   "cell_type": "code",
   "execution_count": 32,
   "id": "f89296fe",
   "metadata": {
    "execution": {
     "iopub.execute_input": "2025-04-07T05:44:22.420065Z",
     "iopub.status.busy": "2025-04-07T05:44:22.419540Z",
     "iopub.status.idle": "2025-04-07T05:45:13.215984Z",
     "shell.execute_reply": "2025-04-07T05:45:13.214854Z"
    },
    "papermill": {
     "duration": 50.823493,
     "end_time": "2025-04-07T05:45:13.229338",
     "exception": false,
     "start_time": "2025-04-07T05:44:22.405845",
     "status": "completed"
    },
    "tags": []
   },
   "outputs": [
    {
     "data": {
      "text/markdown": [
       "\n",
       "You are an AI assistant designed to write simple Python code.\n",
       "Please answer with the listing of the Python code.\n",
       "Make sure to format the output using correct Markdown for code.\n",
       "\n",
       "\n",
       "**<font color='red'>Question:</font>** Write a function in Python to calculate cosine similarity of two vectors.\n",
       "\n",
       "\n",
       "**<font color='green'>Answer:</font>**\n",
       "```python\n",
       "import numpy as np\n",
       "\n",
       "def cosine_similarity(vec1, vec2):\n",
       "    \"\"\"\n",
       "    Calculate the cosine similarity of two vectors.\n",
       "\n",
       "    Args:\n",
       "        vec1 (numpy.ndarray): The first vector.\n",
       "        vec2 (numpy.ndarray): The second vector.\n",
       "\n",
       "    Returns:\n",
       "        float: The cosine similarity of the two vectors.\n",
       "    \"\"\"\n",
       "    dot_product = np.dot(vec1, vec2)\n",
       "    magnitude_vec1 = np.linalg.norm(vec1)\n",
       "    magnitude_vec2 = np.linalg.norm(vec2)\n",
       "    if magnitude_vec1 == 0 or magnitude_vec2 == 0:\n",
       "        return 0.0\n",
       "    return dot_product / (magnitude_vec1 * magnitude_vec2)\n",
       "```\n",
       "<end_of_turn>\n",
       "\n",
       "\n",
       "\n",
       "**<font color='magenta'>Total time:</font>** 50.79 sec."
      ],
      "text/plain": [
       "<IPython.core.display.Markdown object>"
      ]
     },
     "metadata": {},
     "output_type": "display_data"
    }
   ],
   "source": [
    "t = time()\n",
    "response = gemma_lm.generate(prompt.format(question=\"Write a function in Python to calculate cosine similarity of two vectors.\"), \n",
    "                             max_length=256)\n",
    "display(Markdown(colorize_text(f\"{response}\\n\\nTotal time: {round(time()-t, 2)} sec.\")))"
   ]
  },
  {
   "cell_type": "markdown",
   "id": "d5f925aa",
   "metadata": {
    "papermill": {
     "duration": 0.012635,
     "end_time": "2025-04-07T05:45:13.254957",
     "exception": false,
     "start_time": "2025-04-07T05:45:13.242322",
     "status": "completed"
    },
    "tags": []
   },
   "source": [
    "The code is correct, carefully documented and clean for all the examples above."
   ]
  },
  {
   "cell_type": "markdown",
   "id": "78baf936",
   "metadata": {
    "papermill": {
     "duration": 0.012767,
     "end_time": "2025-04-07T05:45:13.281322",
     "exception": false,
     "start_time": "2025-04-07T05:45:13.268555",
     "status": "completed"
    },
    "tags": []
   },
   "source": [
    "### C++ code\n",
    "\n",
    "Let's test now the model with writing C++ code."
   ]
  },
  {
   "cell_type": "code",
   "execution_count": 33,
   "id": "e15d5953",
   "metadata": {
    "execution": {
     "iopub.execute_input": "2025-04-07T05:45:13.308761Z",
     "iopub.status.busy": "2025-04-07T05:45:13.308369Z",
     "iopub.status.idle": "2025-04-07T05:45:13.312725Z",
     "shell.execute_reply": "2025-04-07T05:45:13.311490Z"
    },
    "papermill": {
     "duration": 0.020189,
     "end_time": "2025-04-07T05:45:13.314605",
     "exception": false,
     "start_time": "2025-04-07T05:45:13.294416",
     "status": "completed"
    },
    "tags": []
   },
   "outputs": [],
   "source": [
    "prompt = \"\"\"\n",
    "You are an AI assistant designed to write simple C++ code.\n",
    "Please answer with the listing of the C code.\n",
    "Make sure to format the output using correct Markdown for code.\n",
    "Question: {question}\n",
    "Answer:\n",
    "\"\"\""
   ]
  },
  {
   "cell_type": "code",
   "execution_count": 34,
   "id": "5dacfb5c",
   "metadata": {
    "execution": {
     "iopub.execute_input": "2025-04-07T05:45:13.342134Z",
     "iopub.status.busy": "2025-04-07T05:45:13.341633Z",
     "iopub.status.idle": "2025-04-07T05:46:21.893774Z",
     "shell.execute_reply": "2025-04-07T05:46:21.892476Z"
    },
    "papermill": {
     "duration": 68.580615,
     "end_time": "2025-04-07T05:46:21.908368",
     "exception": false,
     "start_time": "2025-04-07T05:45:13.327753",
     "status": "completed"
    },
    "tags": []
   },
   "outputs": [
    {
     "data": {
      "text/markdown": [
       "\n",
       "You are an AI assistant designed to write simple C++ code.\n",
       "Please answer with the listing of the C code.\n",
       "Make sure to format the output using correct Markdown for code.\n",
       "\n",
       "\n",
       "**<font color='red'>Question:</font>** Write a C++ function to calculate linear product of two vectors.\n",
       "\n",
       "\n",
       "**<font color='green'>Answer:</font>**\n",
       "```cpp\n",
       "#include <iostream>\n",
       "#include <vector>\n",
       "\n",
       "using namespace std;\n",
       "\n",
       "// Function to calculate the product of two vectors\n",
       "vector<int> productOfVectors(const vector<int>& vec1, const vector<int>& vec2) {\n",
       "  vector<int> result;\n",
       "  for (int i = 0; i < vec1.size(); ++i) {\n",
       "    result.push_back(vec1[i] * vec2[i]);\n",
       "  }\n",
       "  return result;\n",
       "}\n",
       "\n",
       "int main() {\n",
       "  vector<int> v1 = {1, 2, 3};\n",
       "  vector<int> v2 = {4, 5, 6};\n",
       "  vector<int> product = productOfVectors(v1, v2);\n",
       "  cout << \"Product: \";\n",
       "  for (int i = 0; i < product.size(); ++i) {\n",
       "    cout << product[i] << \" \";\n",
       "  }\n",
       "  cout << endl;\n",
       "  return 0;\n",
       "}\n",
       "```\n",
       "<end_of_turn>\n",
       "\n",
       "\n",
       "\n",
       "**<font color='magenta'>Total time:</font>** 68.54 sec."
      ],
      "text/plain": [
       "<IPython.core.display.Markdown object>"
      ]
     },
     "metadata": {},
     "output_type": "display_data"
    }
   ],
   "source": [
    "t = time()\n",
    "response = gemma_lm.generate(prompt.format(question=\"Write a C++ function to calculate linear product of two vectors.\"), \n",
    "                             max_length=400)\n",
    "display(Markdown(colorize_text(f\"{response}\\n\\nTotal time: {round(time()-t, 2)} sec.\")))"
   ]
  },
  {
   "cell_type": "markdown",
   "id": "15fecbae",
   "metadata": {
    "papermill": {
     "duration": 0.012626,
     "end_time": "2025-04-07T05:46:21.934366",
     "exception": false,
     "start_time": "2025-04-07T05:46:21.921740",
     "status": "completed"
    },
    "tags": []
   },
   "source": [
    "# Conclusions\n",
    "\n",
    "\n",
    "We tested the Gemma 3 instruct 1B model from Google DeepMind on CPU-only machine.  \n",
    "This is a very powerful model that proved to be quite proficient with simple history, geography and general knowledge questions.  \n",
    "We tested then with arithmetics and answered correctly.  \n",
    "When prompted to solve simple math equations, it also went well.  \n",
    "It performed quite well with code writing, we tested it for Python, and C++.  \n",
    "\n",
    "# Suggestions to continue the work\n",
    "\n",
    "You can continue this work. Here are few suggestions:\n",
    "* Run the same code on GPU. You will see a major improvement of speed.\n",
    "* Quantize the model. From 1GB, you will be able to reduce the model size and run it (with acceptable performance degradation on a mobile platform or even on edge).\n",
    "* Find other user cases.\n",
    "* Include the model in a Retrieval Augmented Generation system.\n",
    "* Fine-tune the model for a specific task.\n",
    "* Combine fine-tuning with quantization to obtain a compact, adapted model for your own task.\n"
   ]
  }
 ],
 "metadata": {
  "kaggle": {
   "accelerator": "none",
   "dataSources": [
    {
     "modelId": 279036,
     "modelInstanceId": 257759,
     "sourceId": 316994,
     "sourceType": "modelInstanceVersion"
    }
   ],
   "dockerImageVersionId": 30918,
   "isGpuEnabled": false,
   "isInternetEnabled": true,
   "language": "python",
   "sourceType": "notebook"
  },
  "kernelspec": {
   "display_name": "Python 3",
   "language": "python",
   "name": "python3"
  },
  "language_info": {
   "codemirror_mode": {
    "name": "ipython",
    "version": 3
   },
   "file_extension": ".py",
   "mimetype": "text/x-python",
   "name": "python",
   "nbconvert_exporter": "python",
   "pygments_lexer": "ipython3",
   "version": "3.10.12"
  },
  "papermill": {
   "default_parameters": {},
   "duration": 570.276636,
   "end_time": "2025-04-07T05:46:25.745662",
   "environment_variables": {},
   "exception": null,
   "input_path": "__notebook__.ipynb",
   "output_path": "__notebook__.ipynb",
   "parameters": {},
   "start_time": "2025-04-07T05:36:55.469026",
   "version": "2.6.0"
  }
 },
 "nbformat": 4,
 "nbformat_minor": 5
}
