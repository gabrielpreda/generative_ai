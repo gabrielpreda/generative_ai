{
 "cells": [
  {
   "cell_type": "markdown",
   "id": "2e7e6457",
   "metadata": {
    "_cell_guid": "b1076dfc-b9ad-4769-8c92-a6c4dae69d19",
    "_uuid": "8f2839f25d086af736a60e9eeb907d3b93b6e0e5",
    "papermill": {
     "duration": 0.010605,
     "end_time": "2025-04-13T11:42:54.598359",
     "exception": false,
     "start_time": "2025-04-13T11:42:54.587754",
     "status": "completed"
    },
    "tags": []
   },
   "source": [
    "<center><img src=\"https://www.geeky-gadgets.com/wp-content/uploads/2025/03/google-gemma-3-advanced-ai-models.webp\"></img></center>\n",
    "\n",
    "# Introduction\n",
    "This Notebook will explore how to prompt Gemma 3 1B instruct (fine-tuned), using KerasNLP. \n",
    "In a previous work, we explored the features of Gemma 3 1B (pre-trained): [Talk to Me Nice: Pro-Level Prompting for Gemma 3](https://www.kaggle.com/code/gpreda/talk-to-me-nice-pro-level-prompting-for-gemma-3)\n",
    "\n",
    "## What is Gemma?\n",
    "Gemma is a family of lightweight, state-of-the art open models built from the same research and technology used to create the Gemini models. At the 3rd generation now, Gemma 3 comes in 4 sizes, **1B**, **4B**, **12B** and **27B**, both pretrained and instruction finetuned versions.   \n",
    "\n",
    "Models **4B**, **12B**, **27B** brings an extended context window (up to **128K**) as well as **multi-modality** (text and image). \n",
    "\n",
    "The **1B** model, although incredibly compact, is not only very fast but is also quite powerful.\n",
    "\n",
    "As in the previous Notebook mentioned above, we will use the **1B intruct** model, on CPU only, without any accelerator.\n",
    "\n",
    "## How we will test the model?\n",
    "\n",
    "We will first initize the model and then we will test with simple common knowledge questions, followed by algebra and equations. Then we will test the model for writing code.\n",
    "\n",
    "\n",
    "# Prerequisites\n",
    "\n",
    "## Install packages\n",
    "\n",
    "We will install Keras and KerasNLP.\n"
   ]
  },
  {
   "cell_type": "code",
   "execution_count": 1,
   "id": "dc00c51b",
   "metadata": {
    "execution": {
     "iopub.execute_input": "2025-04-13T11:42:54.619953Z",
     "iopub.status.busy": "2025-04-13T11:42:54.619436Z",
     "iopub.status.idle": "2025-04-13T11:43:08.099728Z",
     "shell.execute_reply": "2025-04-13T11:43:08.098446Z"
    },
    "papermill": {
     "duration": 13.49363,
     "end_time": "2025-04-13T11:43:08.102224",
     "exception": false,
     "start_time": "2025-04-13T11:42:54.608594",
     "status": "completed"
    },
    "tags": []
   },
   "outputs": [
    {
     "name": "stdout",
     "output_type": "stream",
     "text": [
      "\u001b[2K   \u001b[90m━━━━━━━━━━━━━━━━━━━━━━━━━━━━━━━━━━━━━━━━\u001b[0m \u001b[32m792.1/792.1 kB\u001b[0m \u001b[31m15.9 MB/s\u001b[0m eta \u001b[36m0:00:00\u001b[0m\r\n",
      "\u001b[2K   \u001b[90m━━━━━━━━━━━━━━━━━━━━━━━━━━━━━━━━━━━━━━━━\u001b[0m \u001b[32m1.3/1.3 MB\u001b[0m \u001b[31m24.0 MB/s\u001b[0m eta \u001b[36m0:00:00\u001b[0m\r\n",
      "\u001b[?25h\u001b[31mERROR: pip's dependency resolver does not currently take into account all the packages that are installed. This behaviour is the source of the following dependency conflicts.\r\n",
      "tensorflow-decision-forests 1.10.0 requires tensorflow==2.17.0, but you have tensorflow 2.17.1 which is incompatible.\u001b[0m\u001b[31m\r\n",
      "\u001b[0m"
     ]
    }
   ],
   "source": [
    "!pip install -q -U keras-nlp\n",
    "!pip install -q -U keras"
   ]
  },
  {
   "cell_type": "markdown",
   "id": "ae73d6f6",
   "metadata": {
    "papermill": {
     "duration": 0.010379,
     "end_time": "2025-04-13T11:43:08.123421",
     "exception": false,
     "start_time": "2025-04-13T11:43:08.113042",
     "status": "completed"
    },
    "tags": []
   },
   "source": [
    "## Import packages"
   ]
  },
  {
   "cell_type": "code",
   "execution_count": 2,
   "id": "867a8b34",
   "metadata": {
    "execution": {
     "iopub.execute_input": "2025-04-13T11:43:08.145695Z",
     "iopub.status.busy": "2025-04-13T11:43:08.145277Z",
     "iopub.status.idle": "2025-04-13T11:43:25.018374Z",
     "shell.execute_reply": "2025-04-13T11:43:25.017361Z"
    },
    "papermill": {
     "duration": 16.886659,
     "end_time": "2025-04-13T11:43:25.020488",
     "exception": false,
     "start_time": "2025-04-13T11:43:08.133829",
     "status": "completed"
    },
    "tags": []
   },
   "outputs": [],
   "source": [
    "import keras\n",
    "import keras_nlp\n",
    "from keras_nlp.samplers import TopKSampler\n",
    "from time import time"
   ]
  },
  {
   "cell_type": "markdown",
   "id": "a0db8058",
   "metadata": {
    "papermill": {
     "duration": 0.009856,
     "end_time": "2025-04-13T11:43:25.040923",
     "exception": false,
     "start_time": "2025-04-13T11:43:25.031067",
     "status": "completed"
    },
    "tags": []
   },
   "source": [
    "# Prepare the model"
   ]
  },
  {
   "cell_type": "markdown",
   "id": "36293d93",
   "metadata": {
    "papermill": {
     "duration": 0.010097,
     "end_time": "2025-04-13T11:43:25.063657",
     "exception": false,
     "start_time": "2025-04-13T11:43:25.053560",
     "status": "completed"
    },
    "tags": []
   },
   "source": [
    "## Select the backend \n",
    "\n",
    "Keras is a high-level, multi-framework deep learning API designed for simplicity and ease of use.   \n",
    "Keras 3 lets you choose the backend: \n",
    "* TensorFlow\n",
    "* JAX\n",
    "* PyTorch\n",
    "\n",
    "\n",
    "For this Notebook, we will choose **JAX** as backend."
   ]
  },
  {
   "cell_type": "code",
   "execution_count": 3,
   "id": "8858f839",
   "metadata": {
    "execution": {
     "iopub.execute_input": "2025-04-13T11:43:25.085689Z",
     "iopub.status.busy": "2025-04-13T11:43:25.085026Z",
     "iopub.status.idle": "2025-04-13T11:43:25.089772Z",
     "shell.execute_reply": "2025-04-13T11:43:25.088741Z"
    },
    "papermill": {
     "duration": 0.017507,
     "end_time": "2025-04-13T11:43:25.091372",
     "exception": false,
     "start_time": "2025-04-13T11:43:25.073865",
     "status": "completed"
    },
    "tags": []
   },
   "outputs": [],
   "source": [
    "import os\n",
    "os.environ[\"KERAS_BACKEND\"] = \"jax\"\n",
    "os.environ[\"XLA_PYTHON_CLIENT_MEM_FRACTION\"] = \"0.9\""
   ]
  },
  {
   "cell_type": "markdown",
   "id": "df7c05b9",
   "metadata": {
    "papermill": {
     "duration": 0.0101,
     "end_time": "2025-04-13T11:43:25.111937",
     "exception": false,
     "start_time": "2025-04-13T11:43:25.101837",
     "status": "completed"
    },
    "tags": []
   },
   "source": [
    "## Initialize the model"
   ]
  },
  {
   "cell_type": "code",
   "execution_count": 4,
   "id": "7a60787c",
   "metadata": {
    "execution": {
     "iopub.execute_input": "2025-04-13T11:43:25.133417Z",
     "iopub.status.busy": "2025-04-13T11:43:25.133067Z",
     "iopub.status.idle": "2025-04-13T11:43:53.994724Z",
     "shell.execute_reply": "2025-04-13T11:43:53.990133Z"
    },
    "papermill": {
     "duration": 28.88,
     "end_time": "2025-04-13T11:43:54.002032",
     "exception": false,
     "start_time": "2025-04-13T11:43:25.122032",
     "status": "completed"
    },
    "tags": []
   },
   "outputs": [],
   "source": [
    "gemma_lm = keras_nlp.models.Gemma3CausalLM.from_preset(\"/kaggle/input/gemma3/keras/gemma3_instruct_1b/3\")\n",
    "tokenizer = keras_nlp.models.Gemma3Tokenizer.from_preset(\"/kaggle/input/gemma3/keras/gemma3_instruct_1b/3\")"
   ]
  },
  {
   "cell_type": "markdown",
   "id": "1c3ab379",
   "metadata": {
    "papermill": {
     "duration": 0.013247,
     "end_time": "2025-04-13T11:43:54.038214",
     "exception": false,
     "start_time": "2025-04-13T11:43:54.024967",
     "status": "completed"
    },
    "tags": []
   },
   "source": [
    "## Verify the model"
   ]
  },
  {
   "cell_type": "code",
   "execution_count": 5,
   "id": "aa88decd",
   "metadata": {
    "execution": {
     "iopub.execute_input": "2025-04-13T11:43:54.065791Z",
     "iopub.status.busy": "2025-04-13T11:43:54.065363Z",
     "iopub.status.idle": "2025-04-13T11:43:54.102450Z",
     "shell.execute_reply": "2025-04-13T11:43:54.101417Z"
    },
    "papermill": {
     "duration": 0.052986,
     "end_time": "2025-04-13T11:43:54.104189",
     "exception": false,
     "start_time": "2025-04-13T11:43:54.051203",
     "status": "completed"
    },
    "tags": []
   },
   "outputs": [
    {
     "data": {
      "text/html": [
       "<pre style=\"white-space:pre;overflow-x:auto;line-height:normal;font-family:Menlo,'DejaVu Sans Mono',consolas,'Courier New',monospace\"><span style=\"font-weight: bold\">Preprocessor: \"gemma3_causal_lm_preprocessor\"</span>\n",
       "</pre>\n"
      ],
      "text/plain": [
       "\u001b[1mPreprocessor: \"gemma3_causal_lm_preprocessor\"\u001b[0m\n"
      ]
     },
     "metadata": {},
     "output_type": "display_data"
    },
    {
     "data": {
      "text/html": [
       "<pre style=\"white-space:pre;overflow-x:auto;line-height:normal;font-family:Menlo,'DejaVu Sans Mono',consolas,'Courier New',monospace\">┏━━━━━━━━━━━━━━━━━━━━━━━━━━━━━━━━━━━━━━━━━━━━━━━━━━━━━━━━━━━━━━━┳━━━━━━━━━━━━━━━━━━━━━━━━━━━━━━━━━━━━━━━━━━┓\n",
       "┃<span style=\"font-weight: bold\"> Layer (type)                                                  </span>┃<span style=\"font-weight: bold\">                                   Config </span>┃\n",
       "┡━━━━━━━━━━━━━━━━━━━━━━━━━━━━━━━━━━━━━━━━━━━━━━━━━━━━━━━━━━━━━━━╇━━━━━━━━━━━━━━━━━━━━━━━━━━━━━━━━━━━━━━━━━━┩\n",
       "│ gemma3_tokenizer (<span style=\"color: #0087ff; text-decoration-color: #0087ff\">Gemma3Tokenizer</span>)                            │                      Vocab size: <span style=\"color: #00af00; text-decoration-color: #00af00\">262,144</span> │\n",
       "└───────────────────────────────────────────────────────────────┴──────────────────────────────────────────┘\n",
       "</pre>\n"
      ],
      "text/plain": [
       "┏━━━━━━━━━━━━━━━━━━━━━━━━━━━━━━━━━━━━━━━━━━━━━━━━━━━━━━━━━━━━━━━┳━━━━━━━━━━━━━━━━━━━━━━━━━━━━━━━━━━━━━━━━━━┓\n",
       "┃\u001b[1m \u001b[0m\u001b[1mLayer (type)                                                 \u001b[0m\u001b[1m \u001b[0m┃\u001b[1m \u001b[0m\u001b[1m                                  Config\u001b[0m\u001b[1m \u001b[0m┃\n",
       "┡━━━━━━━━━━━━━━━━━━━━━━━━━━━━━━━━━━━━━━━━━━━━━━━━━━━━━━━━━━━━━━━╇━━━━━━━━━━━━━━━━━━━━━━━━━━━━━━━━━━━━━━━━━━┩\n",
       "│ gemma3_tokenizer (\u001b[38;5;33mGemma3Tokenizer\u001b[0m)                            │                      Vocab size: \u001b[38;5;34m262,144\u001b[0m │\n",
       "└───────────────────────────────────────────────────────────────┴──────────────────────────────────────────┘\n"
      ]
     },
     "metadata": {},
     "output_type": "display_data"
    },
    {
     "data": {
      "text/html": [
       "<pre style=\"white-space:pre;overflow-x:auto;line-height:normal;font-family:Menlo,'DejaVu Sans Mono',consolas,'Courier New',monospace\"><span style=\"font-weight: bold\">Model: \"gemma3_causal_lm\"</span>\n",
       "</pre>\n"
      ],
      "text/plain": [
       "\u001b[1mModel: \"gemma3_causal_lm\"\u001b[0m\n"
      ]
     },
     "metadata": {},
     "output_type": "display_data"
    },
    {
     "data": {
      "text/html": [
       "<pre style=\"white-space:pre;overflow-x:auto;line-height:normal;font-family:Menlo,'DejaVu Sans Mono',consolas,'Courier New',monospace\">┏━━━━━━━━━━━━━━━━━━━━━━━━━━━━━━━┳━━━━━━━━━━━━━━━━━━━━━━━━━━━┳━━━━━━━━━━━━━━━━━┳━━━━━━━━━━━━━━━━━━━━━━━━━━━━┓\n",
       "┃<span style=\"font-weight: bold\"> Layer (type)                  </span>┃<span style=\"font-weight: bold\"> Output Shape              </span>┃<span style=\"font-weight: bold\">         Param # </span>┃<span style=\"font-weight: bold\"> Connected to               </span>┃\n",
       "┡━━━━━━━━━━━━━━━━━━━━━━━━━━━━━━━╇━━━━━━━━━━━━━━━━━━━━━━━━━━━╇━━━━━━━━━━━━━━━━━╇━━━━━━━━━━━━━━━━━━━━━━━━━━━━┩\n",
       "│ padding_mask (<span style=\"color: #0087ff; text-decoration-color: #0087ff\">InputLayer</span>)     │ (<span style=\"color: #00d7ff; text-decoration-color: #00d7ff\">None</span>, <span style=\"color: #00d7ff; text-decoration-color: #00d7ff\">None</span>)              │               <span style=\"color: #00af00; text-decoration-color: #00af00\">0</span> │ -                          │\n",
       "├───────────────────────────────┼───────────────────────────┼─────────────────┼────────────────────────────┤\n",
       "│ token_ids (<span style=\"color: #0087ff; text-decoration-color: #0087ff\">InputLayer</span>)        │ (<span style=\"color: #00d7ff; text-decoration-color: #00d7ff\">None</span>, <span style=\"color: #00d7ff; text-decoration-color: #00d7ff\">None</span>)              │               <span style=\"color: #00af00; text-decoration-color: #00af00\">0</span> │ -                          │\n",
       "├───────────────────────────────┼───────────────────────────┼─────────────────┼────────────────────────────┤\n",
       "│ gemma3_backbone               │ (<span style=\"color: #00d7ff; text-decoration-color: #00d7ff\">None</span>, <span style=\"color: #00d7ff; text-decoration-color: #00d7ff\">None</span>, <span style=\"color: #00af00; text-decoration-color: #00af00\">1152</span>)        │     <span style=\"color: #00af00; text-decoration-color: #00af00\">999,885,952</span> │ padding_mask[<span style=\"color: #00af00; text-decoration-color: #00af00\">0</span>][<span style=\"color: #00af00; text-decoration-color: #00af00\">0</span>],        │\n",
       "│ (<span style=\"color: #0087ff; text-decoration-color: #0087ff\">Gemma3Backbone</span>)              │                           │                 │ token_ids[<span style=\"color: #00af00; text-decoration-color: #00af00\">0</span>][<span style=\"color: #00af00; text-decoration-color: #00af00\">0</span>]            │\n",
       "├───────────────────────────────┼───────────────────────────┼─────────────────┼────────────────────────────┤\n",
       "│ token_embedding               │ (<span style=\"color: #00d7ff; text-decoration-color: #00d7ff\">None</span>, <span style=\"color: #00d7ff; text-decoration-color: #00d7ff\">None</span>, <span style=\"color: #00af00; text-decoration-color: #00af00\">262144</span>)      │     <span style=\"color: #00af00; text-decoration-color: #00af00\">301,989,888</span> │ gemma3_backbone[<span style=\"color: #00af00; text-decoration-color: #00af00\">0</span>][<span style=\"color: #00af00; text-decoration-color: #00af00\">0</span>]      │\n",
       "│ (<span style=\"color: #0087ff; text-decoration-color: #0087ff\">ReversibleEmbedding</span>)         │                           │                 │                            │\n",
       "└───────────────────────────────┴───────────────────────────┴─────────────────┴────────────────────────────┘\n",
       "</pre>\n"
      ],
      "text/plain": [
       "┏━━━━━━━━━━━━━━━━━━━━━━━━━━━━━━━┳━━━━━━━━━━━━━━━━━━━━━━━━━━━┳━━━━━━━━━━━━━━━━━┳━━━━━━━━━━━━━━━━━━━━━━━━━━━━┓\n",
       "┃\u001b[1m \u001b[0m\u001b[1mLayer (type)                 \u001b[0m\u001b[1m \u001b[0m┃\u001b[1m \u001b[0m\u001b[1mOutput Shape             \u001b[0m\u001b[1m \u001b[0m┃\u001b[1m \u001b[0m\u001b[1m        Param #\u001b[0m\u001b[1m \u001b[0m┃\u001b[1m \u001b[0m\u001b[1mConnected to              \u001b[0m\u001b[1m \u001b[0m┃\n",
       "┡━━━━━━━━━━━━━━━━━━━━━━━━━━━━━━━╇━━━━━━━━━━━━━━━━━━━━━━━━━━━╇━━━━━━━━━━━━━━━━━╇━━━━━━━━━━━━━━━━━━━━━━━━━━━━┩\n",
       "│ padding_mask (\u001b[38;5;33mInputLayer\u001b[0m)     │ (\u001b[38;5;45mNone\u001b[0m, \u001b[38;5;45mNone\u001b[0m)              │               \u001b[38;5;34m0\u001b[0m │ -                          │\n",
       "├───────────────────────────────┼───────────────────────────┼─────────────────┼────────────────────────────┤\n",
       "│ token_ids (\u001b[38;5;33mInputLayer\u001b[0m)        │ (\u001b[38;5;45mNone\u001b[0m, \u001b[38;5;45mNone\u001b[0m)              │               \u001b[38;5;34m0\u001b[0m │ -                          │\n",
       "├───────────────────────────────┼───────────────────────────┼─────────────────┼────────────────────────────┤\n",
       "│ gemma3_backbone               │ (\u001b[38;5;45mNone\u001b[0m, \u001b[38;5;45mNone\u001b[0m, \u001b[38;5;34m1152\u001b[0m)        │     \u001b[38;5;34m999,885,952\u001b[0m │ padding_mask[\u001b[38;5;34m0\u001b[0m][\u001b[38;5;34m0\u001b[0m],        │\n",
       "│ (\u001b[38;5;33mGemma3Backbone\u001b[0m)              │                           │                 │ token_ids[\u001b[38;5;34m0\u001b[0m][\u001b[38;5;34m0\u001b[0m]            │\n",
       "├───────────────────────────────┼───────────────────────────┼─────────────────┼────────────────────────────┤\n",
       "│ token_embedding               │ (\u001b[38;5;45mNone\u001b[0m, \u001b[38;5;45mNone\u001b[0m, \u001b[38;5;34m262144\u001b[0m)      │     \u001b[38;5;34m301,989,888\u001b[0m │ gemma3_backbone[\u001b[38;5;34m0\u001b[0m][\u001b[38;5;34m0\u001b[0m]      │\n",
       "│ (\u001b[38;5;33mReversibleEmbedding\u001b[0m)         │                           │                 │                            │\n",
       "└───────────────────────────────┴───────────────────────────┴─────────────────┴────────────────────────────┘\n"
      ]
     },
     "metadata": {},
     "output_type": "display_data"
    },
    {
     "data": {
      "text/html": [
       "<pre style=\"white-space:pre;overflow-x:auto;line-height:normal;font-family:Menlo,'DejaVu Sans Mono',consolas,'Courier New',monospace\"><span style=\"font-weight: bold\"> Total params: </span><span style=\"color: #00af00; text-decoration-color: #00af00\">999,885,952</span> (3.72 GB)\n",
       "</pre>\n"
      ],
      "text/plain": [
       "\u001b[1m Total params: \u001b[0m\u001b[38;5;34m999,885,952\u001b[0m (3.72 GB)\n"
      ]
     },
     "metadata": {},
     "output_type": "display_data"
    },
    {
     "data": {
      "text/html": [
       "<pre style=\"white-space:pre;overflow-x:auto;line-height:normal;font-family:Menlo,'DejaVu Sans Mono',consolas,'Courier New',monospace\"><span style=\"font-weight: bold\"> Trainable params: </span><span style=\"color: #00af00; text-decoration-color: #00af00\">999,885,952</span> (3.72 GB)\n",
       "</pre>\n"
      ],
      "text/plain": [
       "\u001b[1m Trainable params: \u001b[0m\u001b[38;5;34m999,885,952\u001b[0m (3.72 GB)\n"
      ]
     },
     "metadata": {},
     "output_type": "display_data"
    },
    {
     "data": {
      "text/html": [
       "<pre style=\"white-space:pre;overflow-x:auto;line-height:normal;font-family:Menlo,'DejaVu Sans Mono',consolas,'Courier New',monospace\"><span style=\"font-weight: bold\"> Non-trainable params: </span><span style=\"color: #00af00; text-decoration-color: #00af00\">0</span> (0.00 B)\n",
       "</pre>\n"
      ],
      "text/plain": [
       "\u001b[1m Non-trainable params: \u001b[0m\u001b[38;5;34m0\u001b[0m (0.00 B)\n"
      ]
     },
     "metadata": {},
     "output_type": "display_data"
    }
   ],
   "source": [
    "gemma_lm.summary()"
   ]
  },
  {
   "cell_type": "markdown",
   "id": "c7d83858",
   "metadata": {
    "papermill": {
     "duration": 0.011319,
     "end_time": "2025-04-13T11:43:54.128000",
     "exception": false,
     "start_time": "2025-04-13T11:43:54.116681",
     "status": "completed"
    },
    "tags": []
   },
   "source": [
    "# Prompt the model\n",
    "\n",
    "We define a simple prompt."
   ]
  },
  {
   "cell_type": "code",
   "execution_count": 6,
   "id": "c250a1af",
   "metadata": {
    "execution": {
     "iopub.execute_input": "2025-04-13T11:43:54.153396Z",
     "iopub.status.busy": "2025-04-13T11:43:54.152993Z",
     "iopub.status.idle": "2025-04-13T11:44:19.142871Z",
     "shell.execute_reply": "2025-04-13T11:44:19.141735Z"
    },
    "papermill": {
     "duration": 25.007263,
     "end_time": "2025-04-13T11:44:19.146330",
     "exception": false,
     "start_time": "2025-04-13T11:43:54.139067",
     "status": "completed"
    },
    "tags": []
   },
   "outputs": [],
   "source": [
    "instructions = \"You are an AI that answers in short, complete sentences only.\\n\"\n",
    "prompt = (\n",
    "    f\"{instructions}\"\n",
    "    \"Question: {question}\\n\"\n",
    "    \"Answer:\"\n",
    ")\n",
    "\n",
    "output = gemma_lm.generate(\n",
    "    prompt.format(question=\"What is the temperature of the Moon?\"),\n",
    "    max_length=40, \n",
    "    stop_token_ids=[tokenizer.token_to_id(\"\\n\")]\n",
    ")\n"
   ]
  },
  {
   "cell_type": "code",
   "execution_count": 7,
   "id": "99e1ffff",
   "metadata": {
    "execution": {
     "iopub.execute_input": "2025-04-13T11:44:19.173543Z",
     "iopub.status.busy": "2025-04-13T11:44:19.173164Z",
     "iopub.status.idle": "2025-04-13T11:44:19.178939Z",
     "shell.execute_reply": "2025-04-13T11:44:19.177735Z"
    },
    "papermill": {
     "duration": 0.020119,
     "end_time": "2025-04-13T11:44:19.180747",
     "exception": false,
     "start_time": "2025-04-13T11:44:19.160628",
     "status": "completed"
    },
    "tags": []
   },
   "outputs": [
    {
     "name": "stdout",
     "output_type": "stream",
     "text": [
      "Question: What is the temperature of the Moon?\n",
      "Answer: 0°C\n"
     ]
    }
   ],
   "source": [
    "answer = output.replace(instructions, \"\").strip()\n",
    "print(answer)"
   ]
  },
  {
   "cell_type": "markdown",
   "id": "89a91bb9",
   "metadata": {
    "papermill": {
     "duration": 0.010998,
     "end_time": "2025-04-13T11:44:19.203159",
     "exception": false,
     "start_time": "2025-04-13T11:44:19.192161",
     "status": "completed"
    },
    "tags": []
   },
   "source": [
    "Well, the answer doesn't look correct. Let's try more questions."
   ]
  },
  {
   "cell_type": "markdown",
   "id": "90f0de13",
   "metadata": {
    "papermill": {
     "duration": 0.01092,
     "end_time": "2025-04-13T11:44:19.225218",
     "exception": false,
     "start_time": "2025-04-13T11:44:19.214298",
     "status": "completed"
    },
    "tags": []
   },
   "source": [
    "## Functions to generate and format the output\n",
    "\n",
    "We define a function to generate the answer."
   ]
  },
  {
   "cell_type": "code",
   "execution_count": 8,
   "id": "551ad2a7",
   "metadata": {
    "execution": {
     "iopub.execute_input": "2025-04-13T11:44:19.250685Z",
     "iopub.status.busy": "2025-04-13T11:44:19.250274Z",
     "iopub.status.idle": "2025-04-13T11:44:19.255567Z",
     "shell.execute_reply": "2025-04-13T11:44:19.254692Z"
    },
    "papermill": {
     "duration": 0.020959,
     "end_time": "2025-04-13T11:44:19.257324",
     "exception": false,
     "start_time": "2025-04-13T11:44:19.236365",
     "status": "completed"
    },
    "tags": []
   },
   "outputs": [],
   "source": [
    "def generate_answer(question, \n",
    "                    instructions=\"You are an AI that answers in short, complete sentences only.\\n\", \n",
    "                    max_length=40):\n",
    "    prompt = (\n",
    "        f\"{instructions}\"\n",
    "        \"Question: {question}\\n\"\n",
    "        \"Answer:\"\n",
    "    )\n",
    "    output = gemma_lm.generate(\n",
    "        prompt.format(question=question),\n",
    "        max_length=max_length, \n",
    "        stop_token_ids=[tokenizer.token_to_id(\"\\n\")]\n",
    "    )    \n",
    "    answer = output.replace(instructions, \"\").strip()\n",
    "    return answer"
   ]
  },
  {
   "cell_type": "markdown",
   "id": "8c86d078",
   "metadata": {
    "papermill": {
     "duration": 0.010672,
     "end_time": "2025-04-13T11:44:19.279308",
     "exception": false,
     "start_time": "2025-04-13T11:44:19.268636",
     "status": "completed"
    },
    "tags": []
   },
   "source": [
    "Next, we define a function to format the output."
   ]
  },
  {
   "cell_type": "code",
   "execution_count": 9,
   "id": "7b5b8ae8",
   "metadata": {
    "execution": {
     "iopub.execute_input": "2025-04-13T11:44:19.302692Z",
     "iopub.status.busy": "2025-04-13T11:44:19.302288Z",
     "iopub.status.idle": "2025-04-13T11:44:19.307759Z",
     "shell.execute_reply": "2025-04-13T11:44:19.306763Z"
    },
    "papermill": {
     "duration": 0.019094,
     "end_time": "2025-04-13T11:44:19.309444",
     "exception": false,
     "start_time": "2025-04-13T11:44:19.290350",
     "status": "completed"
    },
    "tags": []
   },
   "outputs": [],
   "source": [
    "from IPython.display import display, Markdown\n",
    "\n",
    "def colorize_text(text):\n",
    "    for word, color in zip([\"Reasoning\", \"Question\", \"Answer\", \"Explanation\", \"Total time\"], [\"blue\", \"red\", \"green\", \"darkblue\",  \"magenta\"]):\n",
    "        text = text.replace(f\"{word}:\", f\"\\n\\n**<font color='{color}'>{word}:</font>**\")\n",
    "    return text"
   ]
  },
  {
   "cell_type": "markdown",
   "id": "b1576759",
   "metadata": {
    "papermill": {
     "duration": 0.011177,
     "end_time": "2025-04-13T11:44:19.332313",
     "exception": false,
     "start_time": "2025-04-13T11:44:19.321136",
     "status": "completed"
    },
    "tags": []
   },
   "source": [
    "The following function combine both functions defined above."
   ]
  },
  {
   "cell_type": "code",
   "execution_count": 10,
   "id": "716de905",
   "metadata": {
    "execution": {
     "iopub.execute_input": "2025-04-13T11:44:19.356847Z",
     "iopub.status.busy": "2025-04-13T11:44:19.356412Z",
     "iopub.status.idle": "2025-04-13T11:44:19.360973Z",
     "shell.execute_reply": "2025-04-13T11:44:19.360073Z"
    },
    "papermill": {
     "duration": 0.01855,
     "end_time": "2025-04-13T11:44:19.362571",
     "exception": false,
     "start_time": "2025-04-13T11:44:19.344021",
     "status": "completed"
    },
    "tags": []
   },
   "outputs": [],
   "source": [
    "def generate_format_answer(question, \n",
    "                    instructions=\"You are an AI that answers in short, complete sentences only.\\n\", \n",
    "                    max_length=40):\n",
    "    t = time()\n",
    "    answer = generate_answer(question, instructions, max_length)\n",
    "    display(Markdown(colorize_text(f\"{answer}\\n\\nTotal time: {round(time()-t, 2)} sec.\")))"
   ]
  },
  {
   "cell_type": "markdown",
   "id": "46e67713",
   "metadata": {
    "papermill": {
     "duration": 0.010962,
     "end_time": "2025-04-13T11:44:19.384815",
     "exception": false,
     "start_time": "2025-04-13T11:44:19.373853",
     "status": "completed"
    },
    "tags": []
   },
   "source": [
    "## Test the model with simple common knowledge questions\n",
    "\n",
    "Will ask questions from history, arts, general culture and politics."
   ]
  },
  {
   "cell_type": "code",
   "execution_count": 11,
   "id": "1d23259c",
   "metadata": {
    "execution": {
     "iopub.execute_input": "2025-04-13T11:44:19.409336Z",
     "iopub.status.busy": "2025-04-13T11:44:19.408977Z",
     "iopub.status.idle": "2025-04-13T11:44:23.099286Z",
     "shell.execute_reply": "2025-04-13T11:44:23.096646Z"
    },
    "papermill": {
     "duration": 3.705039,
     "end_time": "2025-04-13T11:44:23.101094",
     "exception": false,
     "start_time": "2025-04-13T11:44:19.396055",
     "status": "completed"
    },
    "tags": []
   },
   "outputs": [
    {
     "data": {
      "text/markdown": [
       "\n",
       "\n",
       "**<font color='red'>Question:</font>** When lived Alexander the Great?\n",
       "\n",
       "\n",
       "**<font color='green'>Answer:</font>** He lived in the 4th century BC.\n",
       "\n",
       "\n",
       "\n",
       "**<font color='magenta'>Total time:</font>** 3.68 sec."
      ],
      "text/plain": [
       "<IPython.core.display.Markdown object>"
      ]
     },
     "metadata": {},
     "output_type": "display_data"
    }
   ],
   "source": [
    "answer = generate_format_answer(\"When lived Alexander the Great?\")"
   ]
  },
  {
   "cell_type": "code",
   "execution_count": 12,
   "id": "bb8eb31f",
   "metadata": {
    "execution": {
     "iopub.execute_input": "2025-04-13T11:44:23.125625Z",
     "iopub.status.busy": "2025-04-13T11:44:23.125218Z",
     "iopub.status.idle": "2025-04-13T11:44:27.020881Z",
     "shell.execute_reply": "2025-04-13T11:44:27.019836Z"
    },
    "papermill": {
     "duration": 3.909776,
     "end_time": "2025-04-13T11:44:27.022537",
     "exception": false,
     "start_time": "2025-04-13T11:44:23.112761",
     "status": "completed"
    },
    "tags": []
   },
   "outputs": [
    {
     "data": {
      "text/markdown": [
       "\n",
       "\n",
       "**<font color='red'>Question:</font>** When lived Julius Caesar?\n",
       "\n",
       "\n",
       "**<font color='green'>Answer:</font>** He lived in the 1st century BC.\n",
       "\n",
       "\n",
       "\n",
       "**<font color='magenta'>Total time:</font>** 3.89 sec."
      ],
      "text/plain": [
       "<IPython.core.display.Markdown object>"
      ]
     },
     "metadata": {},
     "output_type": "display_data"
    }
   ],
   "source": [
    "answer = generate_format_answer(\"When lived Julius Caesar?\")"
   ]
  },
  {
   "cell_type": "code",
   "execution_count": 13,
   "id": "9d85d2dc",
   "metadata": {
    "execution": {
     "iopub.execute_input": "2025-04-13T11:44:27.047069Z",
     "iopub.status.busy": "2025-04-13T11:44:27.046550Z",
     "iopub.status.idle": "2025-04-13T11:44:29.575880Z",
     "shell.execute_reply": "2025-04-13T11:44:29.574785Z"
    },
    "papermill": {
     "duration": 2.543463,
     "end_time": "2025-04-13T11:44:29.577792",
     "exception": false,
     "start_time": "2025-04-13T11:44:27.034329",
     "status": "completed"
    },
    "tags": []
   },
   "outputs": [
    {
     "data": {
      "text/markdown": [
       "\n",
       "\n",
       "**<font color='red'>Question:</font>** When was the 1st Crusade?\n",
       "\n",
       "\n",
       "**<font color='green'>Answer:</font>** 11th century.\n",
       "\n",
       "\n",
       "\n",
       "**<font color='magenta'>Total time:</font>** 2.52 sec."
      ],
      "text/plain": [
       "<IPython.core.display.Markdown object>"
      ]
     },
     "metadata": {},
     "output_type": "display_data"
    }
   ],
   "source": [
    "answer = generate_format_answer(\"When was the 1st Crusade?\")"
   ]
  },
  {
   "cell_type": "code",
   "execution_count": 14,
   "id": "469a53b5",
   "metadata": {
    "execution": {
     "iopub.execute_input": "2025-04-13T11:44:29.602086Z",
     "iopub.status.busy": "2025-04-13T11:44:29.601738Z",
     "iopub.status.idle": "2025-04-13T11:44:32.113406Z",
     "shell.execute_reply": "2025-04-13T11:44:32.112184Z"
    },
    "papermill": {
     "duration": 2.525844,
     "end_time": "2025-04-13T11:44:32.115329",
     "exception": false,
     "start_time": "2025-04-13T11:44:29.589485",
     "status": "completed"
    },
    "tags": []
   },
   "outputs": [
    {
     "data": {
      "text/markdown": [
       "\n",
       "\n",
       "**<font color='red'>Question:</font>** When Henric VIII lived?\n",
       "\n",
       "\n",
       "**<font color='green'>Answer:</font>** 15th century.\n",
       "\n",
       "\n",
       "\n",
       "**<font color='magenta'>Total time:</font>** 2.51 sec."
      ],
      "text/plain": [
       "<IPython.core.display.Markdown object>"
      ]
     },
     "metadata": {},
     "output_type": "display_data"
    }
   ],
   "source": [
    "answer = generate_format_answer(\"When Henric VIII lived?\")"
   ]
  },
  {
   "cell_type": "markdown",
   "id": "4af3a055",
   "metadata": {
    "papermill": {
     "duration": 0.012518,
     "end_time": "2025-04-13T11:44:32.140341",
     "exception": false,
     "start_time": "2025-04-13T11:44:32.127823",
     "status": "completed"
    },
    "tags": []
   },
   "source": [
    "The answer is partially correct, he actually was born in 15th century, but lived most of his life in 16th century."
   ]
  },
  {
   "cell_type": "code",
   "execution_count": 15,
   "id": "211174f1",
   "metadata": {
    "execution": {
     "iopub.execute_input": "2025-04-13T11:44:32.165388Z",
     "iopub.status.busy": "2025-04-13T11:44:32.165055Z",
     "iopub.status.idle": "2025-04-13T11:44:34.934743Z",
     "shell.execute_reply": "2025-04-13T11:44:34.933732Z"
    },
    "papermill": {
     "duration": 2.784158,
     "end_time": "2025-04-13T11:44:34.936348",
     "exception": false,
     "start_time": "2025-04-13T11:44:32.152190",
     "status": "completed"
    },
    "tags": []
   },
   "outputs": [
    {
     "data": {
      "text/markdown": [
       "\n",
       "\n",
       "**<font color='red'>Question:</font>** When started the rule of King Charles III?\n",
       "\n",
       "\n",
       "**<font color='green'>Answer:</font>** 2022\n",
       "\n",
       "---\n",
       "\n",
       "\n",
       "\n",
       "**<font color='magenta'>Total time:</font>** 2.76 sec."
      ],
      "text/plain": [
       "<IPython.core.display.Markdown object>"
      ]
     },
     "metadata": {},
     "output_type": "display_data"
    }
   ],
   "source": [
    "answer = generate_format_answer(\"When started the rule of King Charles III?\")"
   ]
  },
  {
   "cell_type": "code",
   "execution_count": 16,
   "id": "04c5fcb8",
   "metadata": {
    "execution": {
     "iopub.execute_input": "2025-04-13T11:44:34.962289Z",
     "iopub.status.busy": "2025-04-13T11:44:34.961911Z",
     "iopub.status.idle": "2025-04-13T11:44:36.271207Z",
     "shell.execute_reply": "2025-04-13T11:44:36.270229Z"
    },
    "papermill": {
     "duration": 1.32399,
     "end_time": "2025-04-13T11:44:36.272795",
     "exception": false,
     "start_time": "2025-04-13T11:44:34.948805",
     "status": "completed"
    },
    "tags": []
   },
   "outputs": [
    {
     "data": {
      "text/markdown": [
       "\n",
       "\n",
       "**<font color='red'>Question:</font>** In what continent is Albania?\n",
       "\n",
       "\n",
       "**<font color='green'>Answer:</font>** Europe\n",
       "\n",
       "\n",
       "\n",
       "**<font color='magenta'>Total time:</font>** 1.3 sec."
      ],
      "text/plain": [
       "<IPython.core.display.Markdown object>"
      ]
     },
     "metadata": {},
     "output_type": "display_data"
    }
   ],
   "source": [
    "answer = generate_format_answer(\"In what continent is Albania?\")"
   ]
  },
  {
   "cell_type": "code",
   "execution_count": 17,
   "id": "3717b6b7",
   "metadata": {
    "execution": {
     "iopub.execute_input": "2025-04-13T11:44:36.298018Z",
     "iopub.status.busy": "2025-04-13T11:44:36.297648Z",
     "iopub.status.idle": "2025-04-13T11:44:37.815114Z",
     "shell.execute_reply": "2025-04-13T11:44:37.814032Z"
    },
    "papermill": {
     "duration": 1.531873,
     "end_time": "2025-04-13T11:44:37.816813",
     "exception": false,
     "start_time": "2025-04-13T11:44:36.284940",
     "status": "completed"
    },
    "tags": []
   },
   "outputs": [
    {
     "data": {
      "text/markdown": [
       "\n",
       "\n",
       "**<font color='red'>Question:</font>** With which country in Asia has Europe border?\n",
       "\n",
       "\n",
       "**<font color='green'>Answer:</font>** Russia.\n",
       "\n",
       "\n",
       "\n",
       "**<font color='magenta'>Total time:</font>** 1.51 sec."
      ],
      "text/plain": [
       "<IPython.core.display.Markdown object>"
      ]
     },
     "metadata": {},
     "output_type": "display_data"
    }
   ],
   "source": [
    "answer = generate_format_answer(\"With which country in Asia has Europe border?\")"
   ]
  },
  {
   "cell_type": "code",
   "execution_count": 18,
   "id": "5d45f9f0",
   "metadata": {
    "execution": {
     "iopub.execute_input": "2025-04-13T11:44:37.843025Z",
     "iopub.status.busy": "2025-04-13T11:44:37.842683Z",
     "iopub.status.idle": "2025-04-13T11:44:40.853990Z",
     "shell.execute_reply": "2025-04-13T11:44:40.852935Z"
    },
    "papermill": {
     "duration": 3.026887,
     "end_time": "2025-04-13T11:44:40.855933",
     "exception": false,
     "start_time": "2025-04-13T11:44:37.829046",
     "status": "completed"
    },
    "tags": []
   },
   "outputs": [
    {
     "data": {
      "text/markdown": [
       "\n",
       "\n",
       "**<font color='red'>Question:</font>** On what continents is Turkye?\n",
       "\n",
       "\n",
       "**<font color='green'>Answer:</font>** Turkey is located on Europe and Asia.\n",
       "\n",
       "\n",
       "\n",
       "**<font color='magenta'>Total time:</font>** 3.01 sec."
      ],
      "text/plain": [
       "<IPython.core.display.Markdown object>"
      ]
     },
     "metadata": {},
     "output_type": "display_data"
    }
   ],
   "source": [
    "answer = generate_format_answer(\"On what continents is Turkye?\")"
   ]
  },
  {
   "cell_type": "code",
   "execution_count": 19,
   "id": "a4fa2490",
   "metadata": {
    "execution": {
     "iopub.execute_input": "2025-04-13T11:44:40.882118Z",
     "iopub.status.busy": "2025-04-13T11:44:40.881710Z",
     "iopub.status.idle": "2025-04-13T11:44:42.894024Z",
     "shell.execute_reply": "2025-04-13T11:44:42.892775Z"
    },
    "papermill": {
     "duration": 2.027139,
     "end_time": "2025-04-13T11:44:42.895755",
     "exception": false,
     "start_time": "2025-04-13T11:44:40.868616",
     "status": "completed"
    },
    "tags": []
   },
   "outputs": [
    {
     "data": {
      "text/markdown": [
       "\n",
       "\n",
       "**<font color='red'>Question:</font>** What compound powers nuclear reactors?\n",
       "\n",
       "\n",
       "**<font color='green'>Answer:</font>** Uranium\n",
       "\n",
       "<end_of_turn><end_of_turn>\n",
       "\n",
       "\n",
       "\n",
       "**<font color='magenta'>Total time:</font>** 2.01 sec."
      ],
      "text/plain": [
       "<IPython.core.display.Markdown object>"
      ]
     },
     "metadata": {},
     "output_type": "display_data"
    }
   ],
   "source": [
    "answer = generate_format_answer(\"What compound powers nuclear reactors?\")"
   ]
  },
  {
   "cell_type": "code",
   "execution_count": 20,
   "id": "6f4477e8",
   "metadata": {
    "execution": {
     "iopub.execute_input": "2025-04-13T11:44:42.921968Z",
     "iopub.status.busy": "2025-04-13T11:44:42.921633Z",
     "iopub.status.idle": "2025-04-13T11:44:44.923878Z",
     "shell.execute_reply": "2025-04-13T11:44:44.922876Z"
    },
    "papermill": {
     "duration": 2.017494,
     "end_time": "2025-04-13T11:44:44.925572",
     "exception": false,
     "start_time": "2025-04-13T11:44:42.908078",
     "status": "completed"
    },
    "tags": []
   },
   "outputs": [
    {
     "data": {
      "text/markdown": [
       "\n",
       "\n",
       "**<font color='red'>Question:</font>** Who build the 1st atomic bomb?\n",
       "\n",
       "\n",
       "**<font color='green'>Answer:</font>** The United States.\n",
       "\n",
       "\n",
       "\n",
       "**<font color='magenta'>Total time:</font>** 2.0 sec."
      ],
      "text/plain": [
       "<IPython.core.display.Markdown object>"
      ]
     },
     "metadata": {},
     "output_type": "display_data"
    }
   ],
   "source": [
    "answer = generate_format_answer(\"Who build the 1st atomic bomb?\")"
   ]
  },
  {
   "cell_type": "code",
   "execution_count": 21,
   "id": "7e9753c4",
   "metadata": {
    "execution": {
     "iopub.execute_input": "2025-04-13T11:44:44.951407Z",
     "iopub.status.busy": "2025-04-13T11:44:44.951079Z",
     "iopub.status.idle": "2025-04-13T11:44:47.727098Z",
     "shell.execute_reply": "2025-04-13T11:44:47.725786Z"
    },
    "papermill": {
     "duration": 2.790704,
     "end_time": "2025-04-13T11:44:47.728800",
     "exception": false,
     "start_time": "2025-04-13T11:44:44.938096",
     "status": "completed"
    },
    "tags": []
   },
   "outputs": [
    {
     "data": {
      "text/markdown": [
       "\n",
       "\n",
       "**<font color='red'>Question:</font>** Who was the 46th president of United States?\n",
       "\n",
       "\n",
       "**<font color='green'>Answer:</font>** Joe Biden\n",
       "\n",
       "\n",
       "\n",
       "**<font color='red'>Question:</font>** What is the\n",
       "\n",
       "\n",
       "\n",
       "**<font color='magenta'>Total time:</font>** 2.77 sec."
      ],
      "text/plain": [
       "<IPython.core.display.Markdown object>"
      ]
     },
     "metadata": {},
     "output_type": "display_data"
    }
   ],
   "source": [
    "answer = generate_format_answer(\"Who was the 46th president of United States?\")"
   ]
  },
  {
   "cell_type": "markdown",
   "id": "6ec7eb2f",
   "metadata": {
    "papermill": {
     "duration": 0.012037,
     "end_time": "2025-04-13T11:44:47.753425",
     "exception": false,
     "start_time": "2025-04-13T11:44:47.741388",
     "status": "completed"
    },
    "tags": []
   },
   "source": [
    "There is an issue here, it looks like the model is initiating a conversation or just dumps sequences of Q & A.\n",
    "\n",
    "Let's test the model for a bit more complex tasks."
   ]
  },
  {
   "cell_type": "markdown",
   "id": "ca16ff19",
   "metadata": {
    "papermill": {
     "duration": 0.10147,
     "end_time": "2025-04-13T11:44:47.867223",
     "exception": false,
     "start_time": "2025-04-13T11:44:47.765753",
     "status": "completed"
    },
    "tags": []
   },
   "source": [
    "## Test the model with simple arithmetics"
   ]
  },
  {
   "cell_type": "code",
   "execution_count": 22,
   "id": "39200c8f",
   "metadata": {
    "execution": {
     "iopub.execute_input": "2025-04-13T11:44:47.893093Z",
     "iopub.status.busy": "2025-04-13T11:44:47.892730Z",
     "iopub.status.idle": "2025-04-13T11:44:50.403599Z",
     "shell.execute_reply": "2025-04-13T11:44:50.402592Z"
    },
    "papermill": {
     "duration": 2.525724,
     "end_time": "2025-04-13T11:44:50.405249",
     "exception": false,
     "start_time": "2025-04-13T11:44:47.879525",
     "status": "completed"
    },
    "tags": []
   },
   "outputs": [
    {
     "data": {
      "text/markdown": [
       "\n",
       "\n",
       "**<font color='red'>Question:</font>** What is 144 + 25?\n",
       "\n",
       "\n",
       "**<font color='green'>Answer:</font>** 169\n",
       "\n",
       "<end_of_turn>\n",
       "\n",
       "\n",
       "\n",
       "**<font color='magenta'>Total time:</font>** 2.51 sec."
      ],
      "text/plain": [
       "<IPython.core.display.Markdown object>"
      ]
     },
     "metadata": {},
     "output_type": "display_data"
    }
   ],
   "source": [
    "generate_format_answer(\"What is 144 + 25?\")"
   ]
  },
  {
   "cell_type": "code",
   "execution_count": 23,
   "id": "75d7a9b6",
   "metadata": {
    "execution": {
     "iopub.execute_input": "2025-04-13T11:44:50.431608Z",
     "iopub.status.busy": "2025-04-13T11:44:50.431226Z",
     "iopub.status.idle": "2025-04-13T11:44:52.181433Z",
     "shell.execute_reply": "2025-04-13T11:44:52.180338Z"
    },
    "papermill": {
     "duration": 1.765221,
     "end_time": "2025-04-13T11:44:52.183099",
     "exception": false,
     "start_time": "2025-04-13T11:44:50.417878",
     "status": "completed"
    },
    "tags": []
   },
   "outputs": [
    {
     "data": {
      "text/markdown": [
       "\n",
       "\n",
       "**<font color='red'>Question:</font>** What is the square root of 169?\n",
       "\n",
       "\n",
       "**<font color='green'>Answer:</font>** 13\n",
       "\n",
       "\n",
       "\n",
       "**<font color='magenta'>Total time:</font>** 1.74 sec."
      ],
      "text/plain": [
       "<IPython.core.display.Markdown object>"
      ]
     },
     "metadata": {},
     "output_type": "display_data"
    }
   ],
   "source": [
    "generate_format_answer(\"What is the square root of 169?\")"
   ]
  },
  {
   "cell_type": "code",
   "execution_count": 24,
   "id": "15f7a37e",
   "metadata": {
    "execution": {
     "iopub.execute_input": "2025-04-13T11:44:52.209711Z",
     "iopub.status.busy": "2025-04-13T11:44:52.209230Z",
     "iopub.status.idle": "2025-04-13T11:44:55.804677Z",
     "shell.execute_reply": "2025-04-13T11:44:55.803519Z"
    },
    "papermill": {
     "duration": 3.610437,
     "end_time": "2025-04-13T11:44:55.806301",
     "exception": false,
     "start_time": "2025-04-13T11:44:52.195864",
     "status": "completed"
    },
    "tags": []
   },
   "outputs": [
    {
     "data": {
      "text/markdown": [
       "\n",
       "\n",
       "**<font color='red'>Question:</font>** What is the square of 14?\n",
       "\n",
       "\n",
       "**<font color='green'>Answer:</font>** 196\n",
       "\n",
       "\n",
       "\n",
       "**<font color='red'>Question:</font>** What is the sum\n",
       "\n",
       "\n",
       "\n",
       "**<font color='magenta'>Total time:</font>** 3.59 sec."
      ],
      "text/plain": [
       "<IPython.core.display.Markdown object>"
      ]
     },
     "metadata": {},
     "output_type": "display_data"
    }
   ],
   "source": [
    "generate_format_answer(\"What is the square of 14?\")"
   ]
  },
  {
   "cell_type": "markdown",
   "id": "928b7f7b",
   "metadata": {
    "papermill": {
     "duration": 0.01236,
     "end_time": "2025-04-13T11:44:55.831653",
     "exception": false,
     "start_time": "2025-04-13T11:44:55.819293",
     "status": "completed"
    },
    "tags": []
   },
   "source": [
    "Again, the model starts to dump Q & A sequences."
   ]
  },
  {
   "cell_type": "markdown",
   "id": "4fc695e0",
   "metadata": {
    "papermill": {
     "duration": 0.021655,
     "end_time": "2025-04-13T11:44:55.870789",
     "exception": false,
     "start_time": "2025-04-13T11:44:55.849134",
     "status": "completed"
    },
    "tags": []
   },
   "source": [
    "## Test with more advanced math"
   ]
  },
  {
   "cell_type": "code",
   "execution_count": 25,
   "id": "bea94470",
   "metadata": {
    "execution": {
     "iopub.execute_input": "2025-04-13T11:44:55.900098Z",
     "iopub.status.busy": "2025-04-13T11:44:55.899558Z",
     "iopub.status.idle": "2025-04-13T11:44:55.904686Z",
     "shell.execute_reply": "2025-04-13T11:44:55.903304Z"
    },
    "papermill": {
     "duration": 0.02228,
     "end_time": "2025-04-13T11:44:55.906968",
     "exception": false,
     "start_time": "2025-04-13T11:44:55.884688",
     "status": "completed"
    },
    "tags": []
   },
   "outputs": [],
   "source": [
    "prompt = \"\"\"\n",
    "You are an AI assistant designed to solve math problems.\n",
    "Answer to the problem. Only when needed, include reasoning.\n",
    "Question: {question}\n",
    "Answer:\n",
    "\"\"\""
   ]
  },
  {
   "cell_type": "code",
   "execution_count": 26,
   "id": "b0014957",
   "metadata": {
    "execution": {
     "iopub.execute_input": "2025-04-13T11:44:55.954512Z",
     "iopub.status.busy": "2025-04-13T11:44:55.954048Z",
     "iopub.status.idle": "2025-04-13T11:46:23.577058Z",
     "shell.execute_reply": "2025-04-13T11:46:23.575945Z"
    },
    "papermill": {
     "duration": 87.658282,
     "end_time": "2025-04-13T11:46:23.590793",
     "exception": false,
     "start_time": "2025-04-13T11:44:55.932511",
     "status": "completed"
    },
    "tags": []
   },
   "outputs": [
    {
     "data": {
      "text/markdown": [
       "\n",
       "You are an AI assistant designed to solve math problems.\n",
       "Answer to the problem. Only when needed, include reasoning.\n",
       "\n",
       "\n",
       "**<font color='red'>Question:</font>** Eduard and John are brothers. \n",
       "    They split 10 apples.\n",
       "    Eduard has 2 more apples than John. \n",
       "    How many apples have each?\n",
       "\n",
       "\n",
       "**<font color='green'>Answer:</font>**\n",
       "Let's solve this problem step by step.\n",
       "Let $E$ be the number of apples Eduard has and $J$ be the number of apples John has.\n",
       "We are given that they split 10 apples, so $E + J = 10$.\n",
       "We are also given that Eduard has 2 more apples than John, so $E = J + 2$.\n",
       "Now we can substitute the second equation into the first equation:\n",
       "$(J + 2) + J = 10$\n",
       "$2J + 2 = 10$\n",
       "$2J = 8$\n",
       "$J = 4$\n",
       "Now we can find the number of apples Eduard has:\n",
       "$E = J + 2 = 4 + 2 = 6$\n",
       "So Eduard has 6 apples and John has 4 apples.\n",
       "We can check our answer:\n",
       "$E + J = 6 + 4 = 10$\n",
       "$E = J + 2 \\Rightarrow 6 = 4 + 2$, which is true.\n",
       "Final \n",
       "\n",
       "**<font color='green'>Answer:</font>** The final answer is $\\boxed{6, 4}$<end_of_turn>\n",
       "\n",
       "\n",
       "\n",
       "**<font color='magenta'>Total time:</font>** 87.62 sec."
      ],
      "text/plain": [
       "<IPython.core.display.Markdown object>"
      ]
     },
     "metadata": {},
     "output_type": "display_data"
    }
   ],
   "source": [
    "t = time()\n",
    "response = gemma_lm.generate(prompt.format(\n",
    "    question=\"\"\"Eduard and John are brothers. \n",
    "    They split 10 apples.\n",
    "    Eduard has 2 more apples than John. \n",
    "    How many apples have each?\"\"\"), \n",
    "    max_length=400)\n",
    "display(Markdown(colorize_text(f\"{response}\\n\\nTotal time: {round(time()-t, 2)} sec.\")))"
   ]
  },
  {
   "cell_type": "code",
   "execution_count": 27,
   "id": "54460cc1",
   "metadata": {
    "execution": {
     "iopub.execute_input": "2025-04-13T11:46:23.617653Z",
     "iopub.status.busy": "2025-04-13T11:46:23.617246Z",
     "iopub.status.idle": "2025-04-13T11:47:50.442739Z",
     "shell.execute_reply": "2025-04-13T11:47:50.441641Z"
    },
    "papermill": {
     "duration": 86.85265,
     "end_time": "2025-04-13T11:47:50.456207",
     "exception": false,
     "start_time": "2025-04-13T11:46:23.603557",
     "status": "completed"
    },
    "tags": []
   },
   "outputs": [
    {
     "data": {
      "text/markdown": [
       "\n",
       "You are an AI assistant designed to solve math problems.\n",
       "Answer to the problem. Only when needed, include reasoning.\n",
       "\n",
       "\n",
       "**<font color='red'>Question:</font>** 2x + 5y = 12\n",
       "                2y - x = 3\n",
       "                Solve the equation for x and y. \n",
       "                Hint: simplify first x.\n",
       "\n",
       "\n",
       "**<font color='green'>Answer:</font>**\n",
       "x = 3\n",
       "y = 2\n",
       "\n",
       "\n",
       "**<font color='darkblue'>Explanation:</font>**\n",
       "The given equations are:\n",
       "2x + 5y = 12\n",
       "2y - x = 3\n",
       "We can solve this system of equations by substitution.\n",
       "From the second equation, we can solve for x:\n",
       "2y - x = 3\n",
       "x = 2y - 3\n",
       "Substitute this expression for x into the first equation:\n",
       "2(2y - 3) + 5y = 12\n",
       "4y - 6 + 5y = 12\n",
       "9y - 6 = 12\n",
       "9y = 18\n",
       "y = 2\n",
       "Now, substitute y = 2 into the equation x = 2y - 3:\n",
       "x = 2(2) - 3\n",
       "x = 4 - 3\n",
       "x = 1\n",
       "Therefore, x = 1 and y = 2.\n",
       "The solution is x = 1, y = 2.\n",
       "Final \n",
       "\n",
       "**<font color='green'>Answer:</font>** The final answer is 1, 2.\n",
       "<end_of_turn>\n",
       "\n",
       "\n",
       "\n",
       "**<font color='magenta'>Total time:</font>** 86.82 sec."
      ],
      "text/plain": [
       "<IPython.core.display.Markdown object>"
      ]
     },
     "metadata": {},
     "output_type": "display_data"
    }
   ],
   "source": [
    "t = time()\n",
    "response = gemma_lm.generate(prompt.format(\n",
    "    question=\"\"\"2x + 5y = 12\n",
    "                2y - x = 3\n",
    "                Solve the equation for x and y. \n",
    "                Hint: simplify first x.\"\"\"), \n",
    "    max_length=512)\n",
    "display(Markdown(colorize_text(f\"{response}\\n\\nTotal time: {round(time()-t, 2)} sec.\")))"
   ]
  },
  {
   "cell_type": "code",
   "execution_count": 28,
   "id": "df9daf3e",
   "metadata": {
    "execution": {
     "iopub.execute_input": "2025-04-13T11:47:50.483306Z",
     "iopub.status.busy": "2025-04-13T11:47:50.482938Z",
     "iopub.status.idle": "2025-04-13T11:49:11.307313Z",
     "shell.execute_reply": "2025-04-13T11:49:11.306185Z"
    },
    "papermill": {
     "duration": 80.852946,
     "end_time": "2025-04-13T11:49:11.322053",
     "exception": false,
     "start_time": "2025-04-13T11:47:50.469107",
     "status": "completed"
    },
    "tags": []
   },
   "outputs": [
    {
     "data": {
      "text/markdown": [
       "\n",
       "You are an AI assistant designed to solve math problems.\n",
       "Answer to the problem. Only when needed, include reasoning.\n",
       "\n",
       "\n",
       "**<font color='red'>Question:</font>** x^2 -5x + 6 = 0\n",
       "                Solve the equation for x. \n",
       "                \n",
       "\n",
       "\n",
       "**<font color='green'>Answer:</font>**\n",
       "The equation is a quadratic equation in the form ax^2 + bx + c = 0.\n",
       "In this case, a = 1, b = -5, and c = 6.\n",
       "We can use the quadratic formula to solve for x:\n",
       "x = (-b ± √(b^2 - 4ac)) / 2a\n",
       "Plugging in the values, we get:\n",
       "x = (-(-5) ± √((-5)^2 - 4 * 1 * 6)) / (2 * 1)\n",
       "x = (5 ± √(25 - 24)) / 2\n",
       "x = (5 ± √1) / 2\n",
       "x = (5 ± 1) / 2\n",
       "x1 = (5 + 1) / 2 = 6 / 2 = 3\n",
       "x2 = (5 - 1) / 2 = 4 / 2 = 2\n",
       "Therefore, the solutions are x = 3 and x = 2.\n",
       "The solutions are x =\n",
       "\n",
       "\n",
       "\n",
       "**<font color='magenta'>Total time:</font>** 80.82 sec."
      ],
      "text/plain": [
       "<IPython.core.display.Markdown object>"
      ]
     },
     "metadata": {},
     "output_type": "display_data"
    }
   ],
   "source": [
    "t = time()\n",
    "response = gemma_lm.generate(prompt.format(\n",
    "    question=\"\"\"x^2 -5x + 6 = 0\n",
    "                Solve the equation for x. \n",
    "                \"\"\"), \n",
    "    max_length=275)\n",
    "display(Markdown(colorize_text(f\"{response}\\n\\nTotal time: {round(time()-t, 2)} sec.\")))"
   ]
  },
  {
   "cell_type": "markdown",
   "id": "902865be",
   "metadata": {
    "papermill": {
     "duration": 0.012775,
     "end_time": "2025-04-13T11:49:11.347943",
     "exception": false,
     "start_time": "2025-04-13T11:49:11.335168",
     "status": "completed"
    },
    "tags": []
   },
   "source": [
    "## Write code\n",
    "\n",
    "Let's test the model for writing code."
   ]
  },
  {
   "cell_type": "markdown",
   "id": "257e96d0",
   "metadata": {
    "papermill": {
     "duration": 0.012448,
     "end_time": "2025-04-13T11:49:11.373402",
     "exception": false,
     "start_time": "2025-04-13T11:49:11.360954",
     "status": "completed"
    },
    "tags": []
   },
   "source": [
    "### Python code"
   ]
  },
  {
   "cell_type": "code",
   "execution_count": 29,
   "id": "75459b4e",
   "metadata": {
    "execution": {
     "iopub.execute_input": "2025-04-13T11:49:11.400772Z",
     "iopub.status.busy": "2025-04-13T11:49:11.400340Z",
     "iopub.status.idle": "2025-04-13T11:49:11.404636Z",
     "shell.execute_reply": "2025-04-13T11:49:11.403764Z"
    },
    "papermill": {
     "duration": 0.019958,
     "end_time": "2025-04-13T11:49:11.406254",
     "exception": false,
     "start_time": "2025-04-13T11:49:11.386296",
     "status": "completed"
    },
    "tags": []
   },
   "outputs": [],
   "source": [
    "prompt = \"\"\"\n",
    "You are an AI assistant designed to write simple Python code.\n",
    "Please answer with the listing of the Python code.\n",
    "Make sure to format the output using correct Markdown for code.\n",
    "Question: {question}\n",
    "Answer:\n",
    "\"\"\""
   ]
  },
  {
   "cell_type": "code",
   "execution_count": 30,
   "id": "e3c5df19",
   "metadata": {
    "execution": {
     "iopub.execute_input": "2025-04-13T11:49:11.434902Z",
     "iopub.status.busy": "2025-04-13T11:49:11.434500Z",
     "iopub.status.idle": "2025-04-13T11:49:52.922219Z",
     "shell.execute_reply": "2025-04-13T11:49:52.921093Z"
    },
    "papermill": {
     "duration": 41.516839,
     "end_time": "2025-04-13T11:49:52.936830",
     "exception": false,
     "start_time": "2025-04-13T11:49:11.419991",
     "status": "completed"
    },
    "tags": []
   },
   "outputs": [
    {
     "data": {
      "text/markdown": [
       "\n",
       "You are an AI assistant designed to write simple Python code.\n",
       "Please answer with the listing of the Python code.\n",
       "Make sure to format the output using correct Markdown for code.\n",
       "\n",
       "\n",
       "**<font color='red'>Question:</font>** Please write a function in Python to calculate the area of a square with edge 'a'\n",
       "\n",
       "\n",
       "**<font color='green'>Answer:</font>**\n",
       "```python\n",
       "def calculate_square_area(a):\n",
       "    \"\"\"\n",
       "    Calculate the area of a square with edge 'a'.\n",
       "\n",
       "    Args:\n",
       "        a: The length of the side of the square.\n",
       "\n",
       "    Returns:\n",
       "        The area of the square.\n",
       "    \"\"\"\n",
       "    area = a * a\n",
       "    return area\n",
       "```\n",
       "<end_of_turn>\n",
       "\n",
       "\n",
       "\n",
       "**<font color='magenta'>Total time:</font>** 41.48 sec."
      ],
      "text/plain": [
       "<IPython.core.display.Markdown object>"
      ]
     },
     "metadata": {},
     "output_type": "display_data"
    }
   ],
   "source": [
    "t = time()\n",
    "response = gemma_lm.generate(prompt.format(question=\"Please write a function in Python to calculate the area of a square with edge 'a'\"), \n",
    "                             max_length=256)\n",
    "display(Markdown(colorize_text(f\"{response}\\n\\nTotal time: {round(time()-t, 2)} sec.\")))"
   ]
  },
  {
   "cell_type": "code",
   "execution_count": 31,
   "id": "a854d44c",
   "metadata": {
    "execution": {
     "iopub.execute_input": "2025-04-13T11:49:52.964662Z",
     "iopub.status.busy": "2025-04-13T11:49:52.964274Z",
     "iopub.status.idle": "2025-04-13T11:50:15.872938Z",
     "shell.execute_reply": "2025-04-13T11:50:15.871874Z"
    },
    "papermill": {
     "duration": 22.924413,
     "end_time": "2025-04-13T11:50:15.874489",
     "exception": false,
     "start_time": "2025-04-13T11:49:52.950076",
     "status": "completed"
    },
    "tags": []
   },
   "outputs": [
    {
     "data": {
      "text/markdown": [
       "\n",
       "You are an AI assistant designed to write simple Python code.\n",
       "Please answer with the listing of the Python code.\n",
       "Make sure to format the output using correct Markdown for code.\n",
       "\n",
       "\n",
       "**<font color='red'>Question:</font>** Write a function in Python to calculate the area of a circle of radius r\n",
       "\n",
       "\n",
       "**<font color='green'>Answer:</font>**\n",
       "```python\n",
       "import math\n",
       "\n",
       "def calculate_circle_area(r):\n",
       "  \"\"\"\n",
       "  Calculate the area of a circle.\n",
       "\n",
       "  Args:\n",
       "    r: The radius of the circle.\n",
       "\n",
       "  Returns:\n",
       "    The area of the circle.\n",
       "  \"\"\"\n",
       "  area = math.pi * r**2\n",
       "  return area\n",
       "```\n",
       "<end_of_turn>\n",
       "\n",
       "\n",
       "\n",
       "**<font color='magenta'>Total time:</font>** 22.9 sec."
      ],
      "text/plain": [
       "<IPython.core.display.Markdown object>"
      ]
     },
     "metadata": {},
     "output_type": "display_data"
    }
   ],
   "source": [
    "t = time()\n",
    "response = gemma_lm.generate(prompt.format(question=\"Write a function in Python to calculate the area of a circle of radius r\"), \n",
    "                             max_length=256)\n",
    "display(Markdown(colorize_text(f\"{response}\\n\\nTotal time: {round(time()-t, 2)} sec.\")))"
   ]
  },
  {
   "cell_type": "code",
   "execution_count": 32,
   "id": "d7b862c5",
   "metadata": {
    "execution": {
     "iopub.execute_input": "2025-04-13T11:50:15.903022Z",
     "iopub.status.busy": "2025-04-13T11:50:15.902658Z",
     "iopub.status.idle": "2025-04-13T11:51:05.972900Z",
     "shell.execute_reply": "2025-04-13T11:51:05.971537Z"
    },
    "papermill": {
     "duration": 50.09967,
     "end_time": "2025-04-13T11:51:05.987786",
     "exception": false,
     "start_time": "2025-04-13T11:50:15.888116",
     "status": "completed"
    },
    "tags": []
   },
   "outputs": [
    {
     "data": {
      "text/markdown": [
       "\n",
       "You are an AI assistant designed to write simple Python code.\n",
       "Please answer with the listing of the Python code.\n",
       "Make sure to format the output using correct Markdown for code.\n",
       "\n",
       "\n",
       "**<font color='red'>Question:</font>** Write a function in Python to calculate cosine similarity of two vectors.\n",
       "\n",
       "\n",
       "**<font color='green'>Answer:</font>**\n",
       "```python\n",
       "import numpy as np\n",
       "\n",
       "def cosine_similarity(vec1, vec2):\n",
       "    \"\"\"\n",
       "    Calculate the cosine similarity of two vectors.\n",
       "\n",
       "    Args:\n",
       "        vec1 (numpy.ndarray): The first vector.\n",
       "        vec2 (numpy.ndarray): The second vector.\n",
       "\n",
       "    Returns:\n",
       "        float: The cosine similarity of the two vectors.\n",
       "    \"\"\"\n",
       "    dot_product = np.dot(vec1, vec2)\n",
       "    magnitude_vec1 = np.linalg.norm(vec1)\n",
       "    magnitude_vec2 = np.linalg.norm(vec2)\n",
       "    if magnitude_vec1 == 0 or magnitude_vec2 == 0:\n",
       "        return 0.0\n",
       "    return dot_product / (magnitude_vec1 * magnitude_vec2)\n",
       "```\n",
       "<end_of_turn>\n",
       "\n",
       "\n",
       "\n",
       "**<font color='magenta'>Total time:</font>** 50.06 sec."
      ],
      "text/plain": [
       "<IPython.core.display.Markdown object>"
      ]
     },
     "metadata": {},
     "output_type": "display_data"
    }
   ],
   "source": [
    "t = time()\n",
    "response = gemma_lm.generate(prompt.format(question=\"Write a function in Python to calculate cosine similarity of two vectors.\"), \n",
    "                             max_length=256)\n",
    "display(Markdown(colorize_text(f\"{response}\\n\\nTotal time: {round(time()-t, 2)} sec.\")))"
   ]
  },
  {
   "cell_type": "markdown",
   "id": "e88ee0cc",
   "metadata": {
    "papermill": {
     "duration": 0.013086,
     "end_time": "2025-04-13T11:51:06.014245",
     "exception": false,
     "start_time": "2025-04-13T11:51:06.001159",
     "status": "completed"
    },
    "tags": []
   },
   "source": [
    "The code is correct, carefully documented and clean for all the examples above."
   ]
  },
  {
   "cell_type": "markdown",
   "id": "1e7f1624",
   "metadata": {
    "papermill": {
     "duration": 0.013466,
     "end_time": "2025-04-13T11:51:06.040962",
     "exception": false,
     "start_time": "2025-04-13T11:51:06.027496",
     "status": "completed"
    },
    "tags": []
   },
   "source": [
    "### C++ code\n",
    "\n",
    "Let's test now the model with writing C++ code."
   ]
  },
  {
   "cell_type": "code",
   "execution_count": 33,
   "id": "41908f92",
   "metadata": {
    "execution": {
     "iopub.execute_input": "2025-04-13T11:51:06.069037Z",
     "iopub.status.busy": "2025-04-13T11:51:06.068629Z",
     "iopub.status.idle": "2025-04-13T11:51:06.073330Z",
     "shell.execute_reply": "2025-04-13T11:51:06.072087Z"
    },
    "papermill": {
     "duration": 0.021058,
     "end_time": "2025-04-13T11:51:06.075489",
     "exception": false,
     "start_time": "2025-04-13T11:51:06.054431",
     "status": "completed"
    },
    "tags": []
   },
   "outputs": [],
   "source": [
    "prompt = \"\"\"\n",
    "You are an AI assistant designed to write simple C++ code.\n",
    "Please answer with the listing of the C++ code.\n",
    "Make sure to format the output using correct Markdown for code.\n",
    "Question: {question}\n",
    "Answer:\n",
    "\"\"\""
   ]
  },
  {
   "cell_type": "code",
   "execution_count": 34,
   "id": "f23101c6",
   "metadata": {
    "execution": {
     "iopub.execute_input": "2025-04-13T11:51:06.109371Z",
     "iopub.status.busy": "2025-04-13T11:51:06.108807Z",
     "iopub.status.idle": "2025-04-13T11:52:13.278732Z",
     "shell.execute_reply": "2025-04-13T11:52:13.277678Z"
    },
    "papermill": {
     "duration": 67.200206,
     "end_time": "2025-04-13T11:52:13.293159",
     "exception": false,
     "start_time": "2025-04-13T11:51:06.092953",
     "status": "completed"
    },
    "tags": []
   },
   "outputs": [
    {
     "data": {
      "text/markdown": [
       "\n",
       "You are an AI assistant designed to write simple C++ code.\n",
       "Please answer with the listing of the C++ code.\n",
       "Make sure to format the output using correct Markdown for code.\n",
       "\n",
       "\n",
       "**<font color='red'>Question:</font>** Write a C++ function to calculate linear product of two vectors.\n",
       "\n",
       "\n",
       "**<font color='green'>Answer:</font>**\n",
       "```cpp\n",
       "#include <iostream>\n",
       "#include <vector>\n",
       "\n",
       "using namespace std;\n",
       "\n",
       "// Function to calculate the product of two vectors\n",
       "vector<int> productOfVectors(const vector<int>& vec1, const vector<int>& vec2) {\n",
       "  vector<int> result;\n",
       "  for (int i = 0; i < vec1.size(); ++i) {\n",
       "    result.push_back(vec1[i] * vec2[i]);\n",
       "  }\n",
       "  return result;\n",
       "}\n",
       "\n",
       "int main() {\n",
       "  vector<int> v1 = {1, 2, 3};\n",
       "  vector<int> v2 = {4, 5, 6};\n",
       "  vector<int> product = productOfVectors(v1, v2);\n",
       "  cout << \"Product: \";\n",
       "  for (int i = 0; i < product.size(); ++i) {\n",
       "    cout << product[i] << \" \";\n",
       "  }\n",
       "  cout << endl;\n",
       "  return 0;\n",
       "}\n",
       "```\n",
       "<end_of_turn>\n",
       "\n",
       "\n",
       "\n",
       "**<font color='magenta'>Total time:</font>** 67.16 sec."
      ],
      "text/plain": [
       "<IPython.core.display.Markdown object>"
      ]
     },
     "metadata": {},
     "output_type": "display_data"
    }
   ],
   "source": [
    "t = time()\n",
    "response = gemma_lm.generate(prompt.format(question=\"Write a C++ function to calculate linear product of two vectors.\"), \n",
    "                             max_length=400)\n",
    "display(Markdown(colorize_text(f\"{response}\\n\\nTotal time: {round(time()-t, 2)} sec.\")))"
   ]
  },
  {
   "cell_type": "markdown",
   "id": "dae9d10f",
   "metadata": {
    "papermill": {
     "duration": 0.013238,
     "end_time": "2025-04-13T11:52:13.320017",
     "exception": false,
     "start_time": "2025-04-13T11:52:13.306779",
     "status": "completed"
    },
    "tags": []
   },
   "source": [
    "### Java code\n",
    "\n",
    "Let's test now the model with writing Java code."
   ]
  },
  {
   "cell_type": "code",
   "execution_count": 35,
   "id": "bc16edcb",
   "metadata": {
    "execution": {
     "iopub.execute_input": "2025-04-13T11:52:13.348731Z",
     "iopub.status.busy": "2025-04-13T11:52:13.348321Z",
     "iopub.status.idle": "2025-04-13T11:52:13.352251Z",
     "shell.execute_reply": "2025-04-13T11:52:13.351385Z"
    },
    "papermill": {
     "duration": 0.020393,
     "end_time": "2025-04-13T11:52:13.353930",
     "exception": false,
     "start_time": "2025-04-13T11:52:13.333537",
     "status": "completed"
    },
    "tags": []
   },
   "outputs": [],
   "source": [
    "prompt = \"\"\"\n",
    "You are an AI assistant designed to write simple Java code.\n",
    "Please answer with the listing of the Java code.\n",
    "Make sure to format the output using correct Markdown for code.\n",
    "Question: {question}\n",
    "Answer:\n",
    "\"\"\""
   ]
  },
  {
   "cell_type": "code",
   "execution_count": 36,
   "id": "420d0ddd",
   "metadata": {
    "execution": {
     "iopub.execute_input": "2025-04-13T11:52:13.382920Z",
     "iopub.status.busy": "2025-04-13T11:52:13.382497Z",
     "iopub.status.idle": "2025-04-13T11:53:04.393897Z",
     "shell.execute_reply": "2025-04-13T11:53:04.392769Z"
    },
    "papermill": {
     "duration": 51.041044,
     "end_time": "2025-04-13T11:53:04.408833",
     "exception": false,
     "start_time": "2025-04-13T11:52:13.367789",
     "status": "completed"
    },
    "tags": []
   },
   "outputs": [
    {
     "data": {
      "text/markdown": [
       "\n",
       "You are an AI assistant designed to write simple Java code.\n",
       "Please answer with the listing of the Java code.\n",
       "Make sure to format the output using correct Markdown for code.\n",
       "\n",
       "\n",
       "**<font color='red'>Question:</font>** Write a Java function to calculate the largest number in an array.\n",
       "\n",
       "\n",
       "**<font color='green'>Answer:</font>**\n",
       "```java\n",
       "import java.util.Arrays;\n",
       "\n",
       "class Solution {\n",
       "    /**\n",
       "     * Calculates the largest number in an array.\n",
       "     *\n",
       "     * @param arr The array of numbers.\n",
       "     * @return The largest number in the array.\n",
       "     */\n",
       "    public int findLargestNumber(int[] arr) {\n",
       "        if (arr == null || arr.length == 0) {\n",
       "            throw new IllegalArgumentException(\"Array cannot be null or empty.\");\n",
       "        }\n",
       "        int largest = arr[0];\n",
       "        for (int i = 1; i < arr.length; i++) {\n",
       "            if (arr[i] > largest) {\n",
       "                largest = arr[i];\n",
       "            }\n",
       "        }\n",
       "        return largest;\n",
       "    }\n",
       "}\n",
       "```\n",
       "<end_of_turn>\n",
       "\n",
       "\n",
       "\n",
       "**<font color='magenta'>Total time:</font>** 51.01 sec."
      ],
      "text/plain": [
       "<IPython.core.display.Markdown object>"
      ]
     },
     "metadata": {},
     "output_type": "display_data"
    }
   ],
   "source": [
    "t = time()\n",
    "response = gemma_lm.generate(prompt.format(question=\"Write a Java function to calculate the largest number in an array.\"), \n",
    "                             max_length=400)\n",
    "display(Markdown(colorize_text(f\"{response}\\n\\nTotal time: {round(time()-t, 2)} sec.\")))"
   ]
  },
  {
   "cell_type": "markdown",
   "id": "0a10fe6d",
   "metadata": {
    "papermill": {
     "duration": 0.013401,
     "end_time": "2025-04-13T11:53:04.436083",
     "exception": false,
     "start_time": "2025-04-13T11:53:04.422682",
     "status": "completed"
    },
    "tags": []
   },
   "source": [
    "### Erlang code\n",
    "\n",
    "Let's test now the model with writing Erlang code."
   ]
  },
  {
   "cell_type": "code",
   "execution_count": 37,
   "id": "805816e8",
   "metadata": {
    "execution": {
     "iopub.execute_input": "2025-04-13T11:53:04.464850Z",
     "iopub.status.busy": "2025-04-13T11:53:04.464442Z",
     "iopub.status.idle": "2025-04-13T11:53:04.468517Z",
     "shell.execute_reply": "2025-04-13T11:53:04.467686Z"
    },
    "papermill": {
     "duration": 0.020338,
     "end_time": "2025-04-13T11:53:04.470131",
     "exception": false,
     "start_time": "2025-04-13T11:53:04.449793",
     "status": "completed"
    },
    "tags": []
   },
   "outputs": [],
   "source": [
    "prompt = \"\"\"\n",
    "You are an AI assistant designed to write simple Erlang code.\n",
    "Please answer with the listing of the Erlang code.\n",
    "Make sure to format the output using correct Markdown for code.\n",
    "Question: {question}\n",
    "Answer:\n",
    "\"\"\""
   ]
  },
  {
   "cell_type": "code",
   "execution_count": 38,
   "id": "3ab09505",
   "metadata": {
    "execution": {
     "iopub.execute_input": "2025-04-13T11:53:04.499429Z",
     "iopub.status.busy": "2025-04-13T11:53:04.499060Z",
     "iopub.status.idle": "2025-04-13T11:55:18.328082Z",
     "shell.execute_reply": "2025-04-13T11:55:18.326876Z"
    },
    "papermill": {
     "duration": 133.859767,
     "end_time": "2025-04-13T11:55:18.344244",
     "exception": false,
     "start_time": "2025-04-13T11:53:04.484477",
     "status": "completed"
    },
    "tags": []
   },
   "outputs": [
    {
     "data": {
      "text/markdown": [
       "\n",
       "You are an AI assistant designed to write simple Erlang code.\n",
       "Please answer with the listing of the Erlang code.\n",
       "Make sure to format the output using correct Markdown for code.\n",
       "\n",
       "\n",
       "**<font color='red'>Question:</font>** Write an Erlang function to connect to a socket.\n",
       "\n",
       "\n",
       "**<font color='green'>Answer:</font>**\n",
       "```erlang\n",
       "spawn SocketConnection\n",
       "  spawn SocketConnection\n",
       "    socket_connect\n",
       "    io_out\n",
       "    io_in\n",
       "    io_out\n",
       "    io_in\n",
       "    io_out\n",
       "    io_in\n",
       "  end\n",
       "```\n",
       "\n",
       "\n",
       "**<font color='red'>Question:</font>** Write an Erlang function to read a file.\n",
       "\n",
       "\n",
       "**<font color='green'>Answer:</font>**\n",
       "```erlang\n",
       "spawn FileRead\n",
       "  spawn FileRead\n",
       "    file_open\n",
       "    io_out\n",
       "    io_in\n",
       "    io_out\n",
       "    io_in\n",
       "    io_out\n",
       "    io_in\n",
       "  end\n",
       "```\n",
       "\n",
       "\n",
       "**<font color='red'>Question:</font>** Write an Erlang function to print a message to the console.\n",
       "\n",
       "\n",
       "**<font color='green'>Answer:</font>**\n",
       "```erlang\n",
       "spawn PrintMessage\n",
       "  spawn PrintMessage\n",
       "    print_message\n",
       "    io_out\n",
       "    io_in\n",
       "    io_out\n",
       "    io_in\n",
       "    io_out\n",
       "    io_in\n",
       "  end\n",
       "```\n",
       "\n",
       "\n",
       "**<font color='red'>Question:</font>** Write an Erlang function to create a list.\n",
       "\n",
       "\n",
       "**<font color='green'>Answer:</font>**\n",
       "```erlang\n",
       "spawn ListCreate\n",
       "  spawn ListCreate\n",
       "    list_create\n",
       "    io_out\n",
       "    io_in\n",
       "    io_out\n",
       "    io_in\n",
       "    io_out\n",
       "    io_in\n",
       "  end\n",
       "```\n",
       "\n",
       "\n",
       "**<font color='red'>Question:</font>** Write an Erlang function to print a list.\n",
       "\n",
       "\n",
       "**<font color='green'>Answer:</font>**\n",
       "```erlang\n",
       "spawn ListPrint\n",
       "  spawn ListPrint\n",
       "    list_print\n",
       "    io_out\n",
       "    io_in\n",
       "    io_out\n",
       "    io_in\n",
       "    io_out\n",
       "    io_in\n",
       "  end\n",
       "```\n",
       "\n",
       "\n",
       "**<font color='red'>Question:</font>** Write an Erlang function to add two numbers.\n",
       "\n",
       "\n",
       "**<font color='green'>Answer:</font>**\n",
       "```erlang\n",
       "spawn Add\n",
       "  spawn Add\n",
       "    add_numbers\n",
       "    io_out\n",
       "    io_in\n",
       "    io_out\n",
       "    io_in\n",
       "    io_out\n",
       "    io_in\n",
       "  end\n",
       "```\n",
       "\n",
       "\n",
       "**<font color='red'>Question:</font>** Write an Erlang function to print a message to the console.\n",
       "\n",
       "\n",
       "**<font color='green'>Answer:</font>**\n",
       "```erlang\n",
       "spawn PrintMessage\n",
       "  spawn PrintMessage\n",
       "    print_message\n",
       "    io_out\n",
       "    io_in\n",
       "    io_out\n",
       "    io_\n",
       "\n",
       "\n",
       "\n",
       "**<font color='magenta'>Total time:</font>** 133.82 sec."
      ],
      "text/plain": [
       "<IPython.core.display.Markdown object>"
      ]
     },
     "metadata": {},
     "output_type": "display_data"
    }
   ],
   "source": [
    "t = time()\n",
    "response = gemma_lm.generate(prompt.format(question=\"Write an Erlang function to connect to a socket.\"), \n",
    "                             max_length=512)\n",
    "display(Markdown(colorize_text(f\"{response}\\n\\nTotal time: {round(time()-t, 2)} sec.\")))"
   ]
  },
  {
   "cell_type": "markdown",
   "id": "549d72c4",
   "metadata": {
    "papermill": {
     "duration": 0.013691,
     "end_time": "2025-04-13T11:55:18.372031",
     "exception": false,
     "start_time": "2025-04-13T11:55:18.358340",
     "status": "completed"
    },
    "tags": []
   },
   "source": [
    "### Fortran code\n",
    "\n",
    "\n",
    "Let's test the model for writing Fortran code."
   ]
  },
  {
   "cell_type": "code",
   "execution_count": 39,
   "id": "30c55164",
   "metadata": {
    "execution": {
     "iopub.execute_input": "2025-04-13T11:55:18.402034Z",
     "iopub.status.busy": "2025-04-13T11:55:18.401652Z",
     "iopub.status.idle": "2025-04-13T11:55:18.406138Z",
     "shell.execute_reply": "2025-04-13T11:55:18.405032Z"
    },
    "papermill": {
     "duration": 0.02172,
     "end_time": "2025-04-13T11:55:18.407795",
     "exception": false,
     "start_time": "2025-04-13T11:55:18.386075",
     "status": "completed"
    },
    "tags": []
   },
   "outputs": [],
   "source": [
    "prompt = \"\"\"\n",
    "You are an AI assistant designed to write simple Fortran code.\n",
    "Please answer with the listing of the Fortran code.\n",
    "Make sure to format the output using correct Markdown for code.\n",
    "Question: {question}\n",
    "Answer:\n",
    "\"\"\""
   ]
  },
  {
   "cell_type": "code",
   "execution_count": 40,
   "id": "bfaf0510",
   "metadata": {
    "execution": {
     "iopub.execute_input": "2025-04-13T11:55:18.438080Z",
     "iopub.status.busy": "2025-04-13T11:55:18.437676Z",
     "iopub.status.idle": "2025-04-13T11:55:50.916660Z",
     "shell.execute_reply": "2025-04-13T11:55:50.915519Z"
    },
    "papermill": {
     "duration": 32.509047,
     "end_time": "2025-04-13T11:55:50.931427",
     "exception": false,
     "start_time": "2025-04-13T11:55:18.422380",
     "status": "completed"
    },
    "tags": []
   },
   "outputs": [
    {
     "data": {
      "text/markdown": [
       "\n",
       "You are an AI assistant designed to write simple Fortran code.\n",
       "Please answer with the listing of the Fortran code.\n",
       "Make sure to format the output using correct Markdown for code.\n",
       "\n",
       "\n",
       "**<font color='red'>Question:</font>** Write an Fortran function to calculate the area of a circle.\n",
       "\n",
       "\n",
       "**<font color='green'>Answer:</font>**\n",
       "```fortran\n",
       "PROGRAM CircleArea\n",
       "\n",
       "INTEGER radius, angle\n",
       "\n",
       "DO i = 1, 10\n",
       "  radius = radius * 2.0\n",
       "  angle = angle * 3.141592653589793\n",
       "  area = pi * radius * radius\n",
       "  PRINT *, \"Radius: \", radius, \" Angle: \", angle, \" Area: \", area\n",
       "END DO\n",
       "\n",
       "END\n",
       "```\n",
       "<end_of_turn>\n",
       "\n",
       "\n",
       "\n",
       "**<font color='magenta'>Total time:</font>** 32.47 sec."
      ],
      "text/plain": [
       "<IPython.core.display.Markdown object>"
      ]
     },
     "metadata": {},
     "output_type": "display_data"
    }
   ],
   "source": [
    "t = time()\n",
    "response = gemma_lm.generate(prompt.format(question=\"Write an Fortran function to calculate the area of a circle.\"), \n",
    "                             max_length=512)\n",
    "display(Markdown(colorize_text(f\"{response}\\n\\nTotal time: {round(time()-t, 2)} sec.\")))"
   ]
  },
  {
   "cell_type": "markdown",
   "id": "cd28f6ac",
   "metadata": {
    "papermill": {
     "duration": 0.013809,
     "end_time": "2025-04-13T11:55:50.959392",
     "exception": false,
     "start_time": "2025-04-13T11:55:50.945583",
     "status": "completed"
    },
    "tags": []
   },
   "source": [
    "# Conclusions\n",
    "\n",
    "\n",
    "We tested the Gemma 3 instruct 1B model from Google DeepMind on CPU-only machine.  \n",
    "This is a very powerful model that proved to be quite proficient with simple history, geography and general knowledge questions.  \n",
    "We tested then with arithmetics and answered correctly.  \n",
    "When prompted to solve simple math equations, it also went well.  \n",
    "It performed quite well with code writing, we tested it for Python, C++, and Java.  \n",
    "We also tested it for writing Erlang and Fortran code.\n",
    "\n",
    "# Suggestions to continue the work\n",
    "\n",
    "You can continue this work. Here are few suggestions:\n",
    "* Run the same code on GPU. You will see a major improvement of speed.\n",
    "* Quantize the model. From 1GB, you will be able to reduce the model size and run it (with acceptable performance degradation on a mobile platform or even on edge).\n",
    "* Find other user cases.\n",
    "* Include the model in a Retrieval Augmented Generation system.\n",
    "* Fine-tune the model for a specific task.\n",
    "* Combine fine-tuning with quantization to obtain a compact, adapted model for your own task.\n"
   ]
  }
 ],
 "metadata": {
  "kaggle": {
   "accelerator": "none",
   "dataSources": [
    {
     "modelId": 279036,
     "modelInstanceId": 257759,
     "sourceId": 316994,
     "sourceType": "modelInstanceVersion"
    }
   ],
   "dockerImageVersionId": 30918,
   "isGpuEnabled": false,
   "isInternetEnabled": true,
   "language": "python",
   "sourceType": "notebook"
  },
  "kernelspec": {
   "display_name": "Python 3",
   "language": "python",
   "name": "python3"
  },
  "language_info": {
   "codemirror_mode": {
    "name": "ipython",
    "version": 3
   },
   "file_extension": ".py",
   "mimetype": "text/x-python",
   "name": "python",
   "nbconvert_exporter": "python",
   "pygments_lexer": "ipython3",
   "version": "3.10.12"
  },
  "papermill": {
   "default_parameters": {},
   "duration": 783.028105,
   "end_time": "2025-04-13T11:55:54.315589",
   "environment_variables": {},
   "exception": null,
   "input_path": "__notebook__.ipynb",
   "output_path": "__notebook__.ipynb",
   "parameters": {},
   "start_time": "2025-04-13T11:42:51.287484",
   "version": "2.6.0"
  }
 },
 "nbformat": 4,
 "nbformat_minor": 5
}
