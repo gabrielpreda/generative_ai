{
 "cells": [
  {
   "cell_type": "markdown",
   "id": "d782279d",
   "metadata": {
    "_cell_guid": "b1076dfc-b9ad-4769-8c92-a6c4dae69d19",
    "_uuid": "8f2839f25d086af736a60e9eeb907d3b93b6e0e5",
    "papermill": {
     "duration": 0.006876,
     "end_time": "2025-04-05T21:51:36.928884",
     "exception": false,
     "start_time": "2025-04-05T21:51:36.922008",
     "status": "completed"
    },
    "tags": []
   },
   "source": [
    "<center><img src=\"https://www.geeky-gadgets.com/wp-content/uploads/2025/03/google-gemma-3-advanced-ai-models.webp\"></img></center>\n",
    "\n",
    "# Introduction\n",
    "This Notebook will explore how to prompt Gemma 3 1B instruct (fine-tuned), using KerasNLP. \n",
    "In a previous work, we explored the features of Gemma 3 1B (pre-trained): [Talk to Me Nice: Pro-Level Prompting for Gemma 3](https://www.kaggle.com/code/gpreda/talk-to-me-nice-pro-level-prompting-for-gemma-3)\n",
    "\n",
    "## What is Gemma?\n",
    "Gemma is a family of lightweight, state-of-the art open models built from the same research and technology used to create the Gemini models. At the 3rd generation now, Gemma 3 comes in 4 sizes, **1B**, **4B**, **12B** and **27B**, both pretrained and instruction finetuned versions.   \n",
    "\n",
    "Models **4B**, **12B**, **27B** brings an extended context window (up to **128K**) as well as **multi-modality** (text and image). \n",
    "\n",
    "The **1B** model, although incredibly compact, is not only very fast but is also quite powerful.\n",
    "\n",
    "As in the previous Notebook mentioned above, we will use the **1B intruct** model, on CPU only, without any accelerator.\n",
    "\n",
    "## How we will test the model?\n",
    "\n",
    "We will first initize the model and then we will test with simple common knowledge questions, followed by algebra and equations. Then we will test the model for writing code.\n",
    "\n",
    "\n",
    "# Prerequisites\n",
    "\n",
    "## Install packages\n",
    "\n",
    "We will install Keras and KerasNLP.\n"
   ]
  },
  {
   "cell_type": "code",
   "execution_count": 1,
   "id": "e607a6ee",
   "metadata": {
    "execution": {
     "iopub.execute_input": "2025-04-05T21:51:36.942474Z",
     "iopub.status.busy": "2025-04-05T21:51:36.942163Z",
     "iopub.status.idle": "2025-04-05T21:51:47.377353Z",
     "shell.execute_reply": "2025-04-05T21:51:47.376454Z"
    },
    "papermill": {
     "duration": 10.443562,
     "end_time": "2025-04-05T21:51:47.379085",
     "exception": false,
     "start_time": "2025-04-05T21:51:36.935523",
     "status": "completed"
    },
    "tags": []
   },
   "outputs": [
    {
     "name": "stdout",
     "output_type": "stream",
     "text": [
      "\u001b[2K   \u001b[90m━━━━━━━━━━━━━━━━━━━━━━━━━━━━━━━━━━━━━━━━\u001b[0m \u001b[32m792.1/792.1 kB\u001b[0m \u001b[31m22.0 MB/s\u001b[0m eta \u001b[36m0:00:00\u001b[0m\r\n",
      "\u001b[2K   \u001b[90m━━━━━━━━━━━━━━━━━━━━━━━━━━━━━━━━━━━━━━━━\u001b[0m \u001b[32m1.3/1.3 MB\u001b[0m \u001b[31m31.3 MB/s\u001b[0m eta \u001b[36m0:00:00\u001b[0m\r\n",
      "\u001b[?25h\u001b[31mERROR: pip's dependency resolver does not currently take into account all the packages that are installed. This behaviour is the source of the following dependency conflicts.\r\n",
      "tensorflow-decision-forests 1.10.0 requires tensorflow==2.17.0, but you have tensorflow 2.17.1 which is incompatible.\u001b[0m\u001b[31m\r\n",
      "\u001b[0m"
     ]
    }
   ],
   "source": [
    "!pip install -q -U keras-nlp\n",
    "!pip install -q -U keras"
   ]
  },
  {
   "cell_type": "markdown",
   "id": "2fb1250f",
   "metadata": {
    "papermill": {
     "duration": 0.005939,
     "end_time": "2025-04-05T21:51:47.391811",
     "exception": false,
     "start_time": "2025-04-05T21:51:47.385872",
     "status": "completed"
    },
    "tags": []
   },
   "source": [
    "## Import packages"
   ]
  },
  {
   "cell_type": "code",
   "execution_count": 2,
   "id": "d0c8848e",
   "metadata": {
    "execution": {
     "iopub.execute_input": "2025-04-05T21:51:47.405252Z",
     "iopub.status.busy": "2025-04-05T21:51:47.404981Z",
     "iopub.status.idle": "2025-04-05T21:51:59.540872Z",
     "shell.execute_reply": "2025-04-05T21:51:59.540154Z"
    },
    "papermill": {
     "duration": 12.144368,
     "end_time": "2025-04-05T21:51:59.542346",
     "exception": false,
     "start_time": "2025-04-05T21:51:47.397978",
     "status": "completed"
    },
    "tags": []
   },
   "outputs": [],
   "source": [
    "import keras\n",
    "import keras_nlp\n",
    "from keras_nlp.samplers import TopKSampler\n",
    "from time import time"
   ]
  },
  {
   "cell_type": "markdown",
   "id": "734bbd9a",
   "metadata": {
    "papermill": {
     "duration": 0.006107,
     "end_time": "2025-04-05T21:51:59.555163",
     "exception": false,
     "start_time": "2025-04-05T21:51:59.549056",
     "status": "completed"
    },
    "tags": []
   },
   "source": [
    "# Prepare the model"
   ]
  },
  {
   "cell_type": "markdown",
   "id": "6bbe86d8",
   "metadata": {
    "papermill": {
     "duration": 0.006157,
     "end_time": "2025-04-05T21:51:59.567429",
     "exception": false,
     "start_time": "2025-04-05T21:51:59.561272",
     "status": "completed"
    },
    "tags": []
   },
   "source": [
    "## Select the backend \n",
    "\n",
    "Keras is a high-level, multi-framework deep learning API designed for simplicity and ease of use.   \n",
    "Keras 3 lets you choose the backend: \n",
    "* TensorFlow\n",
    "* JAX\n",
    "* PyTorch\n",
    "\n",
    "\n",
    "For this Notebook, we will choose **JAX** as backend."
   ]
  },
  {
   "cell_type": "code",
   "execution_count": 3,
   "id": "6f09177b",
   "metadata": {
    "execution": {
     "iopub.execute_input": "2025-04-05T21:51:59.580882Z",
     "iopub.status.busy": "2025-04-05T21:51:59.580439Z",
     "iopub.status.idle": "2025-04-05T21:51:59.583657Z",
     "shell.execute_reply": "2025-04-05T21:51:59.583020Z"
    },
    "papermill": {
     "duration": 0.010806,
     "end_time": "2025-04-05T21:51:59.584698",
     "exception": false,
     "start_time": "2025-04-05T21:51:59.573892",
     "status": "completed"
    },
    "tags": []
   },
   "outputs": [],
   "source": [
    "import os\n",
    "os.environ[\"KERAS_BACKEND\"] = \"jax\"\n",
    "os.environ[\"XLA_PYTHON_CLIENT_MEM_FRACTION\"] = \"0.9\""
   ]
  },
  {
   "cell_type": "markdown",
   "id": "f19224ce",
   "metadata": {
    "papermill": {
     "duration": 0.006063,
     "end_time": "2025-04-05T21:51:59.597723",
     "exception": false,
     "start_time": "2025-04-05T21:51:59.591660",
     "status": "completed"
    },
    "tags": []
   },
   "source": [
    "## Initialize the model"
   ]
  },
  {
   "cell_type": "code",
   "execution_count": 4,
   "id": "591f7bb3",
   "metadata": {
    "execution": {
     "iopub.execute_input": "2025-04-05T21:51:59.611097Z",
     "iopub.status.busy": "2025-04-05T21:51:59.610848Z",
     "iopub.status.idle": "2025-04-05T21:52:25.112756Z",
     "shell.execute_reply": "2025-04-05T21:52:25.111923Z"
    },
    "papermill": {
     "duration": 25.510398,
     "end_time": "2025-04-05T21:52:25.114383",
     "exception": false,
     "start_time": "2025-04-05T21:51:59.603985",
     "status": "completed"
    },
    "tags": []
   },
   "outputs": [],
   "source": [
    "gemma_lm = keras_nlp.models.Gemma3CausalLM.from_preset(\"/kaggle/input/gemma3/keras/gemma3_instruct_1b/3\")\n",
    "tokenizer = keras_nlp.models.Gemma3Tokenizer.from_preset(\"/kaggle/input/gemma3/keras/gemma3_instruct_1b/3\")"
   ]
  },
  {
   "cell_type": "markdown",
   "id": "e6a3110c",
   "metadata": {
    "papermill": {
     "duration": 0.00593,
     "end_time": "2025-04-05T21:52:25.127131",
     "exception": false,
     "start_time": "2025-04-05T21:52:25.121201",
     "status": "completed"
    },
    "tags": []
   },
   "source": [
    "## Verify the model"
   ]
  },
  {
   "cell_type": "code",
   "execution_count": 5,
   "id": "22781afc",
   "metadata": {
    "execution": {
     "iopub.execute_input": "2025-04-05T21:52:25.140380Z",
     "iopub.status.busy": "2025-04-05T21:52:25.140054Z",
     "iopub.status.idle": "2025-04-05T21:52:25.166522Z",
     "shell.execute_reply": "2025-04-05T21:52:25.165784Z"
    },
    "papermill": {
     "duration": 0.034466,
     "end_time": "2025-04-05T21:52:25.167648",
     "exception": false,
     "start_time": "2025-04-05T21:52:25.133182",
     "status": "completed"
    },
    "tags": []
   },
   "outputs": [
    {
     "data": {
      "text/html": [
       "<pre style=\"white-space:pre;overflow-x:auto;line-height:normal;font-family:Menlo,'DejaVu Sans Mono',consolas,'Courier New',monospace\"><span style=\"font-weight: bold\">Preprocessor: \"gemma3_causal_lm_preprocessor\"</span>\n",
       "</pre>\n"
      ],
      "text/plain": [
       "\u001b[1mPreprocessor: \"gemma3_causal_lm_preprocessor\"\u001b[0m\n"
      ]
     },
     "metadata": {},
     "output_type": "display_data"
    },
    {
     "data": {
      "text/html": [
       "<pre style=\"white-space:pre;overflow-x:auto;line-height:normal;font-family:Menlo,'DejaVu Sans Mono',consolas,'Courier New',monospace\">┏━━━━━━━━━━━━━━━━━━━━━━━━━━━━━━━━━━━━━━━━━━━━━━━━━━━━━━━━━━━━━━━┳━━━━━━━━━━━━━━━━━━━━━━━━━━━━━━━━━━━━━━━━━━┓\n",
       "┃<span style=\"font-weight: bold\"> Layer (type)                                                  </span>┃<span style=\"font-weight: bold\">                                   Config </span>┃\n",
       "┡━━━━━━━━━━━━━━━━━━━━━━━━━━━━━━━━━━━━━━━━━━━━━━━━━━━━━━━━━━━━━━━╇━━━━━━━━━━━━━━━━━━━━━━━━━━━━━━━━━━━━━━━━━━┩\n",
       "│ gemma3_tokenizer (<span style=\"color: #0087ff; text-decoration-color: #0087ff\">Gemma3Tokenizer</span>)                            │                      Vocab size: <span style=\"color: #00af00; text-decoration-color: #00af00\">262,144</span> │\n",
       "└───────────────────────────────────────────────────────────────┴──────────────────────────────────────────┘\n",
       "</pre>\n"
      ],
      "text/plain": [
       "┏━━━━━━━━━━━━━━━━━━━━━━━━━━━━━━━━━━━━━━━━━━━━━━━━━━━━━━━━━━━━━━━┳━━━━━━━━━━━━━━━━━━━━━━━━━━━━━━━━━━━━━━━━━━┓\n",
       "┃\u001b[1m \u001b[0m\u001b[1mLayer (type)                                                 \u001b[0m\u001b[1m \u001b[0m┃\u001b[1m \u001b[0m\u001b[1m                                  Config\u001b[0m\u001b[1m \u001b[0m┃\n",
       "┡━━━━━━━━━━━━━━━━━━━━━━━━━━━━━━━━━━━━━━━━━━━━━━━━━━━━━━━━━━━━━━━╇━━━━━━━━━━━━━━━━━━━━━━━━━━━━━━━━━━━━━━━━━━┩\n",
       "│ gemma3_tokenizer (\u001b[38;5;33mGemma3Tokenizer\u001b[0m)                            │                      Vocab size: \u001b[38;5;34m262,144\u001b[0m │\n",
       "└───────────────────────────────────────────────────────────────┴──────────────────────────────────────────┘\n"
      ]
     },
     "metadata": {},
     "output_type": "display_data"
    },
    {
     "data": {
      "text/html": [
       "<pre style=\"white-space:pre;overflow-x:auto;line-height:normal;font-family:Menlo,'DejaVu Sans Mono',consolas,'Courier New',monospace\"><span style=\"font-weight: bold\">Model: \"gemma3_causal_lm\"</span>\n",
       "</pre>\n"
      ],
      "text/plain": [
       "\u001b[1mModel: \"gemma3_causal_lm\"\u001b[0m\n"
      ]
     },
     "metadata": {},
     "output_type": "display_data"
    },
    {
     "data": {
      "text/html": [
       "<pre style=\"white-space:pre;overflow-x:auto;line-height:normal;font-family:Menlo,'DejaVu Sans Mono',consolas,'Courier New',monospace\">┏━━━━━━━━━━━━━━━━━━━━━━━━━━━━━━━┳━━━━━━━━━━━━━━━━━━━━━━━━━━━┳━━━━━━━━━━━━━━━━━┳━━━━━━━━━━━━━━━━━━━━━━━━━━━━┓\n",
       "┃<span style=\"font-weight: bold\"> Layer (type)                  </span>┃<span style=\"font-weight: bold\"> Output Shape              </span>┃<span style=\"font-weight: bold\">         Param # </span>┃<span style=\"font-weight: bold\"> Connected to               </span>┃\n",
       "┡━━━━━━━━━━━━━━━━━━━━━━━━━━━━━━━╇━━━━━━━━━━━━━━━━━━━━━━━━━━━╇━━━━━━━━━━━━━━━━━╇━━━━━━━━━━━━━━━━━━━━━━━━━━━━┩\n",
       "│ padding_mask (<span style=\"color: #0087ff; text-decoration-color: #0087ff\">InputLayer</span>)     │ (<span style=\"color: #00d7ff; text-decoration-color: #00d7ff\">None</span>, <span style=\"color: #00d7ff; text-decoration-color: #00d7ff\">None</span>)              │               <span style=\"color: #00af00; text-decoration-color: #00af00\">0</span> │ -                          │\n",
       "├───────────────────────────────┼───────────────────────────┼─────────────────┼────────────────────────────┤\n",
       "│ token_ids (<span style=\"color: #0087ff; text-decoration-color: #0087ff\">InputLayer</span>)        │ (<span style=\"color: #00d7ff; text-decoration-color: #00d7ff\">None</span>, <span style=\"color: #00d7ff; text-decoration-color: #00d7ff\">None</span>)              │               <span style=\"color: #00af00; text-decoration-color: #00af00\">0</span> │ -                          │\n",
       "├───────────────────────────────┼───────────────────────────┼─────────────────┼────────────────────────────┤\n",
       "│ gemma3_backbone               │ (<span style=\"color: #00d7ff; text-decoration-color: #00d7ff\">None</span>, <span style=\"color: #00d7ff; text-decoration-color: #00d7ff\">None</span>, <span style=\"color: #00af00; text-decoration-color: #00af00\">1152</span>)        │     <span style=\"color: #00af00; text-decoration-color: #00af00\">999,885,952</span> │ padding_mask[<span style=\"color: #00af00; text-decoration-color: #00af00\">0</span>][<span style=\"color: #00af00; text-decoration-color: #00af00\">0</span>],        │\n",
       "│ (<span style=\"color: #0087ff; text-decoration-color: #0087ff\">Gemma3Backbone</span>)              │                           │                 │ token_ids[<span style=\"color: #00af00; text-decoration-color: #00af00\">0</span>][<span style=\"color: #00af00; text-decoration-color: #00af00\">0</span>]            │\n",
       "├───────────────────────────────┼───────────────────────────┼─────────────────┼────────────────────────────┤\n",
       "│ token_embedding               │ (<span style=\"color: #00d7ff; text-decoration-color: #00d7ff\">None</span>, <span style=\"color: #00d7ff; text-decoration-color: #00d7ff\">None</span>, <span style=\"color: #00af00; text-decoration-color: #00af00\">262144</span>)      │     <span style=\"color: #00af00; text-decoration-color: #00af00\">301,989,888</span> │ gemma3_backbone[<span style=\"color: #00af00; text-decoration-color: #00af00\">0</span>][<span style=\"color: #00af00; text-decoration-color: #00af00\">0</span>]      │\n",
       "│ (<span style=\"color: #0087ff; text-decoration-color: #0087ff\">ReversibleEmbedding</span>)         │                           │                 │                            │\n",
       "└───────────────────────────────┴───────────────────────────┴─────────────────┴────────────────────────────┘\n",
       "</pre>\n"
      ],
      "text/plain": [
       "┏━━━━━━━━━━━━━━━━━━━━━━━━━━━━━━━┳━━━━━━━━━━━━━━━━━━━━━━━━━━━┳━━━━━━━━━━━━━━━━━┳━━━━━━━━━━━━━━━━━━━━━━━━━━━━┓\n",
       "┃\u001b[1m \u001b[0m\u001b[1mLayer (type)                 \u001b[0m\u001b[1m \u001b[0m┃\u001b[1m \u001b[0m\u001b[1mOutput Shape             \u001b[0m\u001b[1m \u001b[0m┃\u001b[1m \u001b[0m\u001b[1m        Param #\u001b[0m\u001b[1m \u001b[0m┃\u001b[1m \u001b[0m\u001b[1mConnected to              \u001b[0m\u001b[1m \u001b[0m┃\n",
       "┡━━━━━━━━━━━━━━━━━━━━━━━━━━━━━━━╇━━━━━━━━━━━━━━━━━━━━━━━━━━━╇━━━━━━━━━━━━━━━━━╇━━━━━━━━━━━━━━━━━━━━━━━━━━━━┩\n",
       "│ padding_mask (\u001b[38;5;33mInputLayer\u001b[0m)     │ (\u001b[38;5;45mNone\u001b[0m, \u001b[38;5;45mNone\u001b[0m)              │               \u001b[38;5;34m0\u001b[0m │ -                          │\n",
       "├───────────────────────────────┼───────────────────────────┼─────────────────┼────────────────────────────┤\n",
       "│ token_ids (\u001b[38;5;33mInputLayer\u001b[0m)        │ (\u001b[38;5;45mNone\u001b[0m, \u001b[38;5;45mNone\u001b[0m)              │               \u001b[38;5;34m0\u001b[0m │ -                          │\n",
       "├───────────────────────────────┼───────────────────────────┼─────────────────┼────────────────────────────┤\n",
       "│ gemma3_backbone               │ (\u001b[38;5;45mNone\u001b[0m, \u001b[38;5;45mNone\u001b[0m, \u001b[38;5;34m1152\u001b[0m)        │     \u001b[38;5;34m999,885,952\u001b[0m │ padding_mask[\u001b[38;5;34m0\u001b[0m][\u001b[38;5;34m0\u001b[0m],        │\n",
       "│ (\u001b[38;5;33mGemma3Backbone\u001b[0m)              │                           │                 │ token_ids[\u001b[38;5;34m0\u001b[0m][\u001b[38;5;34m0\u001b[0m]            │\n",
       "├───────────────────────────────┼───────────────────────────┼─────────────────┼────────────────────────────┤\n",
       "│ token_embedding               │ (\u001b[38;5;45mNone\u001b[0m, \u001b[38;5;45mNone\u001b[0m, \u001b[38;5;34m262144\u001b[0m)      │     \u001b[38;5;34m301,989,888\u001b[0m │ gemma3_backbone[\u001b[38;5;34m0\u001b[0m][\u001b[38;5;34m0\u001b[0m]      │\n",
       "│ (\u001b[38;5;33mReversibleEmbedding\u001b[0m)         │                           │                 │                            │\n",
       "└───────────────────────────────┴───────────────────────────┴─────────────────┴────────────────────────────┘\n"
      ]
     },
     "metadata": {},
     "output_type": "display_data"
    },
    {
     "data": {
      "text/html": [
       "<pre style=\"white-space:pre;overflow-x:auto;line-height:normal;font-family:Menlo,'DejaVu Sans Mono',consolas,'Courier New',monospace\"><span style=\"font-weight: bold\"> Total params: </span><span style=\"color: #00af00; text-decoration-color: #00af00\">999,885,952</span> (3.72 GB)\n",
       "</pre>\n"
      ],
      "text/plain": [
       "\u001b[1m Total params: \u001b[0m\u001b[38;5;34m999,885,952\u001b[0m (3.72 GB)\n"
      ]
     },
     "metadata": {},
     "output_type": "display_data"
    },
    {
     "data": {
      "text/html": [
       "<pre style=\"white-space:pre;overflow-x:auto;line-height:normal;font-family:Menlo,'DejaVu Sans Mono',consolas,'Courier New',monospace\"><span style=\"font-weight: bold\"> Trainable params: </span><span style=\"color: #00af00; text-decoration-color: #00af00\">999,885,952</span> (3.72 GB)\n",
       "</pre>\n"
      ],
      "text/plain": [
       "\u001b[1m Trainable params: \u001b[0m\u001b[38;5;34m999,885,952\u001b[0m (3.72 GB)\n"
      ]
     },
     "metadata": {},
     "output_type": "display_data"
    },
    {
     "data": {
      "text/html": [
       "<pre style=\"white-space:pre;overflow-x:auto;line-height:normal;font-family:Menlo,'DejaVu Sans Mono',consolas,'Courier New',monospace\"><span style=\"font-weight: bold\"> Non-trainable params: </span><span style=\"color: #00af00; text-decoration-color: #00af00\">0</span> (0.00 B)\n",
       "</pre>\n"
      ],
      "text/plain": [
       "\u001b[1m Non-trainable params: \u001b[0m\u001b[38;5;34m0\u001b[0m (0.00 B)\n"
      ]
     },
     "metadata": {},
     "output_type": "display_data"
    }
   ],
   "source": [
    "gemma_lm.summary()"
   ]
  },
  {
   "cell_type": "markdown",
   "id": "b5924b5e",
   "metadata": {
    "papermill": {
     "duration": 0.006768,
     "end_time": "2025-04-05T21:52:25.181662",
     "exception": false,
     "start_time": "2025-04-05T21:52:25.174894",
     "status": "completed"
    },
    "tags": []
   },
   "source": [
    "# Prompt the model\n",
    "\n",
    "We define a simple prompt."
   ]
  },
  {
   "cell_type": "code",
   "execution_count": 6,
   "id": "c904aced",
   "metadata": {
    "execution": {
     "iopub.execute_input": "2025-04-05T21:52:25.196203Z",
     "iopub.status.busy": "2025-04-05T21:52:25.195927Z",
     "iopub.status.idle": "2025-04-05T21:52:40.069477Z",
     "shell.execute_reply": "2025-04-05T21:52:40.068696Z"
    },
    "papermill": {
     "duration": 14.882532,
     "end_time": "2025-04-05T21:52:40.070906",
     "exception": false,
     "start_time": "2025-04-05T21:52:25.188374",
     "status": "completed"
    },
    "tags": []
   },
   "outputs": [],
   "source": [
    "instructions = \"You are an AI that answers in short, complete sentences only.\\n\"\n",
    "prompt = (\n",
    "    f\"{instructions}\"\n",
    "    \"Question: {question}\\n\"\n",
    "    \"Answer:\"\n",
    ")\n",
    "\n",
    "output = gemma_lm.generate(\n",
    "    prompt.format(question=\"What is the temperature of the Moon?\"),\n",
    "    max_length=40, \n",
    "    stop_token_ids=[tokenizer.token_to_id(\"\\n\")]\n",
    ")\n"
   ]
  },
  {
   "cell_type": "code",
   "execution_count": 7,
   "id": "587afa00",
   "metadata": {
    "execution": {
     "iopub.execute_input": "2025-04-05T21:52:40.085470Z",
     "iopub.status.busy": "2025-04-05T21:52:40.085194Z",
     "iopub.status.idle": "2025-04-05T21:52:40.088912Z",
     "shell.execute_reply": "2025-04-05T21:52:40.088092Z"
    },
    "papermill": {
     "duration": 0.011834,
     "end_time": "2025-04-05T21:52:40.089993",
     "exception": false,
     "start_time": "2025-04-05T21:52:40.078159",
     "status": "completed"
    },
    "tags": []
   },
   "outputs": [
    {
     "name": "stdout",
     "output_type": "stream",
     "text": [
      "Question: What is the temperature of the Moon?\n",
      "Answer: 0°C\n"
     ]
    }
   ],
   "source": [
    "answer = output.replace(instructions, \"\").strip()\n",
    "print(answer)"
   ]
  },
  {
   "cell_type": "markdown",
   "id": "65b3bb65",
   "metadata": {
    "papermill": {
     "duration": 0.006662,
     "end_time": "2025-04-05T21:52:40.103535",
     "exception": false,
     "start_time": "2025-04-05T21:52:40.096873",
     "status": "completed"
    },
    "tags": []
   },
   "source": [
    "Well, the answer doesn't look correct. Let's try more questions."
   ]
  },
  {
   "cell_type": "markdown",
   "id": "dbcf33ca",
   "metadata": {
    "papermill": {
     "duration": 0.006456,
     "end_time": "2025-04-05T21:52:40.116602",
     "exception": false,
     "start_time": "2025-04-05T21:52:40.110146",
     "status": "completed"
    },
    "tags": []
   },
   "source": [
    "## Functions to generate and format the output\n",
    "\n",
    "We define a function to generate the answer."
   ]
  },
  {
   "cell_type": "code",
   "execution_count": 8,
   "id": "6081788d",
   "metadata": {
    "execution": {
     "iopub.execute_input": "2025-04-05T21:52:40.131030Z",
     "iopub.status.busy": "2025-04-05T21:52:40.130704Z",
     "iopub.status.idle": "2025-04-05T21:52:40.134739Z",
     "shell.execute_reply": "2025-04-05T21:52:40.134016Z"
    },
    "papermill": {
     "duration": 0.012815,
     "end_time": "2025-04-05T21:52:40.135997",
     "exception": false,
     "start_time": "2025-04-05T21:52:40.123182",
     "status": "completed"
    },
    "tags": []
   },
   "outputs": [],
   "source": [
    "def generate_answer(question, \n",
    "                    instructions=\"You are an AI that answers in short, complete sentences only.\\n\", \n",
    "                    max_length=40):\n",
    "    prompt = (\n",
    "        f\"{instructions}\"\n",
    "        \"Question: {question}\\n\"\n",
    "        \"Answer:\"\n",
    "    )\n",
    "    output = gemma_lm.generate(\n",
    "        prompt.format(question=question),\n",
    "        max_length=max_length, \n",
    "        stop_token_ids=[tokenizer.token_to_id(\"\\n\")]\n",
    "    )    \n",
    "    answer = output.replace(instructions, \"\").strip()\n",
    "    return answer"
   ]
  },
  {
   "cell_type": "markdown",
   "id": "7f2ec9a5",
   "metadata": {
    "papermill": {
     "duration": 0.006572,
     "end_time": "2025-04-05T21:52:40.150136",
     "exception": false,
     "start_time": "2025-04-05T21:52:40.143564",
     "status": "completed"
    },
    "tags": []
   },
   "source": [
    "Next, we define a function to format the output."
   ]
  },
  {
   "cell_type": "code",
   "execution_count": 9,
   "id": "c58abe6b",
   "metadata": {
    "execution": {
     "iopub.execute_input": "2025-04-05T21:52:40.164453Z",
     "iopub.status.busy": "2025-04-05T21:52:40.164169Z",
     "iopub.status.idle": "2025-04-05T21:52:40.167900Z",
     "shell.execute_reply": "2025-04-05T21:52:40.167200Z"
    },
    "papermill": {
     "duration": 0.012183,
     "end_time": "2025-04-05T21:52:40.168979",
     "exception": false,
     "start_time": "2025-04-05T21:52:40.156796",
     "status": "completed"
    },
    "tags": []
   },
   "outputs": [],
   "source": [
    "from IPython.display import display, Markdown\n",
    "\n",
    "def colorize_text(text):\n",
    "    for word, color in zip([\"Reasoning\", \"Question\", \"Answer\", \"Explanation\", \"Total time\"], [\"blue\", \"red\", \"green\", \"darkblue\",  \"magenta\"]):\n",
    "        text = text.replace(f\"{word}:\", f\"\\n\\n**<font color='{color}'>{word}:</font>**\")\n",
    "    return text"
   ]
  },
  {
   "cell_type": "markdown",
   "id": "1136accf",
   "metadata": {
    "papermill": {
     "duration": 0.006643,
     "end_time": "2025-04-05T21:52:40.182968",
     "exception": false,
     "start_time": "2025-04-05T21:52:40.176325",
     "status": "completed"
    },
    "tags": []
   },
   "source": [
    "The following function combine both functions defined above."
   ]
  },
  {
   "cell_type": "code",
   "execution_count": 10,
   "id": "0698b285",
   "metadata": {
    "execution": {
     "iopub.execute_input": "2025-04-05T21:52:40.197738Z",
     "iopub.status.busy": "2025-04-05T21:52:40.197430Z",
     "iopub.status.idle": "2025-04-05T21:52:40.201045Z",
     "shell.execute_reply": "2025-04-05T21:52:40.200366Z"
    },
    "papermill": {
     "duration": 0.012724,
     "end_time": "2025-04-05T21:52:40.202451",
     "exception": false,
     "start_time": "2025-04-05T21:52:40.189727",
     "status": "completed"
    },
    "tags": []
   },
   "outputs": [],
   "source": [
    "def generate_format_answer(question, \n",
    "                    instructions=\"You are an AI that answers in short, complete sentences only.\\n\", \n",
    "                    max_length=40):\n",
    "    t = time()\n",
    "    answer = generate_answer(question, instructions, max_length)\n",
    "    display(Markdown(colorize_text(f\"{answer}\\n\\nTotal time: {round(time()-t, 2)} sec.\")))"
   ]
  },
  {
   "cell_type": "markdown",
   "id": "9a2220b1",
   "metadata": {
    "papermill": {
     "duration": 0.006856,
     "end_time": "2025-04-05T21:52:40.217116",
     "exception": false,
     "start_time": "2025-04-05T21:52:40.210260",
     "status": "completed"
    },
    "tags": []
   },
   "source": [
    "## Test the model with simple common knowledge questions\n",
    "\n",
    "Will ask questions from history, arts, general culture and politics."
   ]
  },
  {
   "cell_type": "code",
   "execution_count": 11,
   "id": "62b001bf",
   "metadata": {
    "execution": {
     "iopub.execute_input": "2025-04-05T21:52:40.232025Z",
     "iopub.status.busy": "2025-04-05T21:52:40.231726Z",
     "iopub.status.idle": "2025-04-05T21:52:42.351195Z",
     "shell.execute_reply": "2025-04-05T21:52:42.350378Z"
    },
    "papermill": {
     "duration": 2.128442,
     "end_time": "2025-04-05T21:52:42.352510",
     "exception": false,
     "start_time": "2025-04-05T21:52:40.224068",
     "status": "completed"
    },
    "tags": []
   },
   "outputs": [
    {
     "data": {
      "text/markdown": [
       "\n",
       "\n",
       "**<font color='red'>Question:</font>** When lived Alexander the Great?\n",
       "\n",
       "\n",
       "**<font color='green'>Answer:</font>** He lived in the 4th century BC.\n",
       "\n",
       "\n",
       "\n",
       "**<font color='magenta'>Total time:</font>** 2.11 sec."
      ],
      "text/plain": [
       "<IPython.core.display.Markdown object>"
      ]
     },
     "metadata": {},
     "output_type": "display_data"
    }
   ],
   "source": [
    "answer = generate_format_answer(\"When lived Alexander the Great?\")"
   ]
  },
  {
   "cell_type": "code",
   "execution_count": 12,
   "id": "442e1928",
   "metadata": {
    "execution": {
     "iopub.execute_input": "2025-04-05T21:52:42.367827Z",
     "iopub.status.busy": "2025-04-05T21:52:42.367520Z",
     "iopub.status.idle": "2025-04-05T21:52:44.481215Z",
     "shell.execute_reply": "2025-04-05T21:52:44.480383Z"
    },
    "papermill": {
     "duration": 2.12263,
     "end_time": "2025-04-05T21:52:44.482508",
     "exception": false,
     "start_time": "2025-04-05T21:52:42.359878",
     "status": "completed"
    },
    "tags": []
   },
   "outputs": [
    {
     "data": {
      "text/markdown": [
       "\n",
       "\n",
       "**<font color='red'>Question:</font>** When lived Julius Caesar?\n",
       "\n",
       "\n",
       "**<font color='green'>Answer:</font>** He lived in the 1st century BC.\n",
       "\n",
       "\n",
       "\n",
       "**<font color='magenta'>Total time:</font>** 2.11 sec."
      ],
      "text/plain": [
       "<IPython.core.display.Markdown object>"
      ]
     },
     "metadata": {},
     "output_type": "display_data"
    }
   ],
   "source": [
    "answer = generate_format_answer(\"When lived Julius Caesar?\")"
   ]
  },
  {
   "cell_type": "code",
   "execution_count": 13,
   "id": "cf0a6ac8",
   "metadata": {
    "execution": {
     "iopub.execute_input": "2025-04-05T21:52:44.497974Z",
     "iopub.status.busy": "2025-04-05T21:52:44.497665Z",
     "iopub.status.idle": "2025-04-05T21:52:46.030216Z",
     "shell.execute_reply": "2025-04-05T21:52:46.029488Z"
    },
    "papermill": {
     "duration": 1.541436,
     "end_time": "2025-04-05T21:52:46.031375",
     "exception": false,
     "start_time": "2025-04-05T21:52:44.489939",
     "status": "completed"
    },
    "tags": []
   },
   "outputs": [
    {
     "data": {
      "text/markdown": [
       "\n",
       "\n",
       "**<font color='red'>Question:</font>** When was the 1st Crusade?\n",
       "\n",
       "\n",
       "**<font color='green'>Answer:</font>** 11th century.\n",
       "\n",
       "\n",
       "\n",
       "**<font color='magenta'>Total time:</font>** 1.53 sec."
      ],
      "text/plain": [
       "<IPython.core.display.Markdown object>"
      ]
     },
     "metadata": {},
     "output_type": "display_data"
    }
   ],
   "source": [
    "answer = generate_format_answer(\"When was the 1st Crusade?\")"
   ]
  },
  {
   "cell_type": "code",
   "execution_count": 14,
   "id": "67cdb187",
   "metadata": {
    "execution": {
     "iopub.execute_input": "2025-04-05T21:52:46.047826Z",
     "iopub.status.busy": "2025-04-05T21:52:46.047522Z",
     "iopub.status.idle": "2025-04-05T21:52:47.551713Z",
     "shell.execute_reply": "2025-04-05T21:52:47.551018Z"
    },
    "papermill": {
     "duration": 1.513167,
     "end_time": "2025-04-05T21:52:47.552875",
     "exception": false,
     "start_time": "2025-04-05T21:52:46.039708",
     "status": "completed"
    },
    "tags": []
   },
   "outputs": [
    {
     "data": {
      "text/markdown": [
       "\n",
       "\n",
       "**<font color='red'>Question:</font>** When Henric VIII lived?\n",
       "\n",
       "\n",
       "**<font color='green'>Answer:</font>** 15th century.\n",
       "\n",
       "\n",
       "\n",
       "**<font color='magenta'>Total time:</font>** 1.5 sec."
      ],
      "text/plain": [
       "<IPython.core.display.Markdown object>"
      ]
     },
     "metadata": {},
     "output_type": "display_data"
    }
   ],
   "source": [
    "answer = generate_format_answer(\"When Henric VIII lived?\")"
   ]
  },
  {
   "cell_type": "markdown",
   "id": "210b430a",
   "metadata": {
    "papermill": {
     "duration": 0.007371,
     "end_time": "2025-04-05T21:52:47.567987",
     "exception": false,
     "start_time": "2025-04-05T21:52:47.560616",
     "status": "completed"
    },
    "tags": []
   },
   "source": [
    "The answer is partially correct, he actually was born in 15th century, but lived most of his life in 16th century."
   ]
  },
  {
   "cell_type": "code",
   "execution_count": 15,
   "id": "f54b17e9",
   "metadata": {
    "execution": {
     "iopub.execute_input": "2025-04-05T21:52:47.583990Z",
     "iopub.status.busy": "2025-04-05T21:52:47.583686Z",
     "iopub.status.idle": "2025-04-05T21:52:49.313987Z",
     "shell.execute_reply": "2025-04-05T21:52:49.312950Z"
    },
    "papermill": {
     "duration": 1.73992,
     "end_time": "2025-04-05T21:52:49.315426",
     "exception": false,
     "start_time": "2025-04-05T21:52:47.575506",
     "status": "completed"
    },
    "tags": []
   },
   "outputs": [
    {
     "data": {
      "text/markdown": [
       "\n",
       "\n",
       "**<font color='red'>Question:</font>** When started the rule of King Charles III?\n",
       "\n",
       "\n",
       "**<font color='green'>Answer:</font>** 2022\n",
       "\n",
       "---\n",
       "\n",
       "\n",
       "\n",
       "**<font color='magenta'>Total time:</font>** 1.73 sec."
      ],
      "text/plain": [
       "<IPython.core.display.Markdown object>"
      ]
     },
     "metadata": {},
     "output_type": "display_data"
    }
   ],
   "source": [
    "answer = generate_format_answer(\"When started the rule of King Charles III?\")"
   ]
  },
  {
   "cell_type": "code",
   "execution_count": 16,
   "id": "9071e92b",
   "metadata": {
    "execution": {
     "iopub.execute_input": "2025-04-05T21:52:49.332285Z",
     "iopub.status.busy": "2025-04-05T21:52:49.331996Z",
     "iopub.status.idle": "2025-04-05T21:52:50.123638Z",
     "shell.execute_reply": "2025-04-05T21:52:50.122890Z"
    },
    "papermill": {
     "duration": 0.80119,
     "end_time": "2025-04-05T21:52:50.124789",
     "exception": false,
     "start_time": "2025-04-05T21:52:49.323599",
     "status": "completed"
    },
    "tags": []
   },
   "outputs": [
    {
     "data": {
      "text/markdown": [
       "\n",
       "\n",
       "**<font color='red'>Question:</font>** In what continent is Albania?\n",
       "\n",
       "\n",
       "**<font color='green'>Answer:</font>** Europe\n",
       "\n",
       "\n",
       "\n",
       "**<font color='magenta'>Total time:</font>** 0.79 sec."
      ],
      "text/plain": [
       "<IPython.core.display.Markdown object>"
      ]
     },
     "metadata": {},
     "output_type": "display_data"
    }
   ],
   "source": [
    "answer = generate_format_answer(\"In what continent is Albania?\")"
   ]
  },
  {
   "cell_type": "code",
   "execution_count": 17,
   "id": "875a9c17",
   "metadata": {
    "execution": {
     "iopub.execute_input": "2025-04-05T21:52:50.140964Z",
     "iopub.status.busy": "2025-04-05T21:52:50.140720Z",
     "iopub.status.idle": "2025-04-05T21:52:51.058660Z",
     "shell.execute_reply": "2025-04-05T21:52:51.057850Z"
    },
    "papermill": {
     "duration": 0.92698,
     "end_time": "2025-04-05T21:52:51.059864",
     "exception": false,
     "start_time": "2025-04-05T21:52:50.132884",
     "status": "completed"
    },
    "tags": []
   },
   "outputs": [
    {
     "data": {
      "text/markdown": [
       "\n",
       "\n",
       "**<font color='red'>Question:</font>** With which country in Asia has Europe border?\n",
       "\n",
       "\n",
       "**<font color='green'>Answer:</font>** Russia.\n",
       "\n",
       "\n",
       "\n",
       "**<font color='magenta'>Total time:</font>** 0.91 sec."
      ],
      "text/plain": [
       "<IPython.core.display.Markdown object>"
      ]
     },
     "metadata": {},
     "output_type": "display_data"
    }
   ],
   "source": [
    "answer = generate_format_answer(\"With which country in Asia has Europe border?\")"
   ]
  },
  {
   "cell_type": "code",
   "execution_count": 18,
   "id": "d31b2350",
   "metadata": {
    "execution": {
     "iopub.execute_input": "2025-04-05T21:52:51.077041Z",
     "iopub.status.busy": "2025-04-05T21:52:51.076754Z",
     "iopub.status.idle": "2025-04-05T21:52:52.880463Z",
     "shell.execute_reply": "2025-04-05T21:52:52.879742Z"
    },
    "papermill": {
     "duration": 1.813886,
     "end_time": "2025-04-05T21:52:52.881712",
     "exception": false,
     "start_time": "2025-04-05T21:52:51.067826",
     "status": "completed"
    },
    "tags": []
   },
   "outputs": [
    {
     "data": {
      "text/markdown": [
       "\n",
       "\n",
       "**<font color='red'>Question:</font>** On what continents is Turkye?\n",
       "\n",
       "\n",
       "**<font color='green'>Answer:</font>** Turkey is located on Europe and Asia.\n",
       "\n",
       "\n",
       "\n",
       "**<font color='magenta'>Total time:</font>** 1.8 sec."
      ],
      "text/plain": [
       "<IPython.core.display.Markdown object>"
      ]
     },
     "metadata": {},
     "output_type": "display_data"
    }
   ],
   "source": [
    "answer = generate_format_answer(\"On what continents is Turkye?\")"
   ]
  },
  {
   "cell_type": "code",
   "execution_count": 19,
   "id": "af87ca97",
   "metadata": {
    "execution": {
     "iopub.execute_input": "2025-04-05T21:52:52.898849Z",
     "iopub.status.busy": "2025-04-05T21:52:52.898574Z",
     "iopub.status.idle": "2025-04-05T21:52:54.164609Z",
     "shell.execute_reply": "2025-04-05T21:52:54.163789Z"
    },
    "papermill": {
     "duration": 1.276097,
     "end_time": "2025-04-05T21:52:54.165859",
     "exception": false,
     "start_time": "2025-04-05T21:52:52.889762",
     "status": "completed"
    },
    "tags": []
   },
   "outputs": [
    {
     "data": {
      "text/markdown": [
       "\n",
       "\n",
       "**<font color='red'>Question:</font>** What compound powers nuclear reactors?\n",
       "\n",
       "\n",
       "**<font color='green'>Answer:</font>** Uranium\n",
       "\n",
       "<end_of_turn><end_of_turn>\n",
       "\n",
       "\n",
       "\n",
       "**<font color='magenta'>Total time:</font>** 1.26 sec."
      ],
      "text/plain": [
       "<IPython.core.display.Markdown object>"
      ]
     },
     "metadata": {},
     "output_type": "display_data"
    }
   ],
   "source": [
    "answer = generate_format_answer(\"What compound powers nuclear reactors?\")"
   ]
  },
  {
   "cell_type": "code",
   "execution_count": 20,
   "id": "e8b06d9f",
   "metadata": {
    "execution": {
     "iopub.execute_input": "2025-04-05T21:52:54.185264Z",
     "iopub.status.busy": "2025-04-05T21:52:54.184976Z",
     "iopub.status.idle": "2025-04-05T21:52:55.412230Z",
     "shell.execute_reply": "2025-04-05T21:52:55.411414Z"
    },
    "papermill": {
     "duration": 1.237593,
     "end_time": "2025-04-05T21:52:55.413458",
     "exception": false,
     "start_time": "2025-04-05T21:52:54.175865",
     "status": "completed"
    },
    "tags": []
   },
   "outputs": [
    {
     "data": {
      "text/markdown": [
       "\n",
       "\n",
       "**<font color='red'>Question:</font>** Who build the 1st atomic bomb?\n",
       "\n",
       "\n",
       "**<font color='green'>Answer:</font>** The United States.\n",
       "\n",
       "\n",
       "\n",
       "**<font color='magenta'>Total time:</font>** 1.22 sec."
      ],
      "text/plain": [
       "<IPython.core.display.Markdown object>"
      ]
     },
     "metadata": {},
     "output_type": "display_data"
    }
   ],
   "source": [
    "answer = generate_format_answer(\"Who build the 1st atomic bomb?\")"
   ]
  },
  {
   "cell_type": "code",
   "execution_count": 21,
   "id": "9e6bcfe6",
   "metadata": {
    "execution": {
     "iopub.execute_input": "2025-04-05T21:52:55.431152Z",
     "iopub.status.busy": "2025-04-05T21:52:55.430855Z",
     "iopub.status.idle": "2025-04-05T21:52:57.062702Z",
     "shell.execute_reply": "2025-04-05T21:52:57.061829Z"
    },
    "papermill": {
     "duration": 1.64148,
     "end_time": "2025-04-05T21:52:57.063891",
     "exception": false,
     "start_time": "2025-04-05T21:52:55.422411",
     "status": "completed"
    },
    "tags": []
   },
   "outputs": [
    {
     "data": {
      "text/markdown": [
       "\n",
       "\n",
       "**<font color='red'>Question:</font>** Who was the 46th president of United States?\n",
       "\n",
       "\n",
       "**<font color='green'>Answer:</font>** Joe Biden\n",
       "\n",
       "\n",
       "\n",
       "**<font color='red'>Question:</font>** What is the\n",
       "\n",
       "\n",
       "\n",
       "**<font color='magenta'>Total time:</font>** 1.63 sec."
      ],
      "text/plain": [
       "<IPython.core.display.Markdown object>"
      ]
     },
     "metadata": {},
     "output_type": "display_data"
    }
   ],
   "source": [
    "answer = generate_format_answer(\"Who was the 46th president of United States?\")"
   ]
  },
  {
   "cell_type": "markdown",
   "id": "4b6c4631",
   "metadata": {
    "papermill": {
     "duration": 0.007518,
     "end_time": "2025-04-05T21:52:57.079372",
     "exception": false,
     "start_time": "2025-04-05T21:52:57.071854",
     "status": "completed"
    },
    "tags": []
   },
   "source": [
    "There is an issue here, it looks like the model is initiating a conversation or just dumps sequences of Q & A.\n",
    "\n",
    "Let's test the model for a bit more complex tasks."
   ]
  },
  {
   "cell_type": "markdown",
   "id": "e91b93e1",
   "metadata": {
    "papermill": {
     "duration": 0.007413,
     "end_time": "2025-04-05T21:52:57.094270",
     "exception": false,
     "start_time": "2025-04-05T21:52:57.086857",
     "status": "completed"
    },
    "tags": []
   },
   "source": [
    "## Test the model with simple arithmetics"
   ]
  },
  {
   "cell_type": "code",
   "execution_count": 22,
   "id": "25e7f42d",
   "metadata": {
    "execution": {
     "iopub.execute_input": "2025-04-05T21:52:57.110695Z",
     "iopub.status.busy": "2025-04-05T21:52:57.110403Z",
     "iopub.status.idle": "2025-04-05T21:52:58.636042Z",
     "shell.execute_reply": "2025-04-05T21:52:58.635196Z"
    },
    "papermill": {
     "duration": 1.535557,
     "end_time": "2025-04-05T21:52:58.637415",
     "exception": false,
     "start_time": "2025-04-05T21:52:57.101858",
     "status": "completed"
    },
    "tags": []
   },
   "outputs": [
    {
     "data": {
      "text/markdown": [
       "\n",
       "\n",
       "**<font color='red'>Question:</font>** What is 144 + 25?\n",
       "\n",
       "\n",
       "**<font color='green'>Answer:</font>** 169\n",
       "\n",
       "<end_of_turn>\n",
       "\n",
       "\n",
       "\n",
       "**<font color='magenta'>Total time:</font>** 1.52 sec."
      ],
      "text/plain": [
       "<IPython.core.display.Markdown object>"
      ]
     },
     "metadata": {},
     "output_type": "display_data"
    }
   ],
   "source": [
    "generate_format_answer(\"What is 144 + 25?\")"
   ]
  },
  {
   "cell_type": "code",
   "execution_count": 23,
   "id": "a4f412f7",
   "metadata": {
    "execution": {
     "iopub.execute_input": "2025-04-05T21:52:58.656128Z",
     "iopub.status.busy": "2025-04-05T21:52:58.655861Z",
     "iopub.status.idle": "2025-04-05T21:52:59.776178Z",
     "shell.execute_reply": "2025-04-05T21:52:59.775382Z"
    },
    "papermill": {
     "duration": 1.131275,
     "end_time": "2025-04-05T21:52:59.777726",
     "exception": false,
     "start_time": "2025-04-05T21:52:58.646451",
     "status": "completed"
    },
    "tags": []
   },
   "outputs": [
    {
     "data": {
      "text/markdown": [
       "\n",
       "\n",
       "**<font color='red'>Question:</font>** What is the square root of 169?\n",
       "\n",
       "\n",
       "**<font color='green'>Answer:</font>** 13\n",
       "\n",
       "\n",
       "\n",
       "**<font color='magenta'>Total time:</font>** 1.12 sec."
      ],
      "text/plain": [
       "<IPython.core.display.Markdown object>"
      ]
     },
     "metadata": {},
     "output_type": "display_data"
    }
   ],
   "source": [
    "generate_format_answer(\"What is the square root of 169?\")"
   ]
  },
  {
   "cell_type": "code",
   "execution_count": 24,
   "id": "895edf05",
   "metadata": {
    "execution": {
     "iopub.execute_input": "2025-04-05T21:52:59.796397Z",
     "iopub.status.busy": "2025-04-05T21:52:59.796103Z",
     "iopub.status.idle": "2025-04-05T21:53:01.915764Z",
     "shell.execute_reply": "2025-04-05T21:53:01.914945Z"
    },
    "papermill": {
     "duration": 2.130228,
     "end_time": "2025-04-05T21:53:01.917003",
     "exception": false,
     "start_time": "2025-04-05T21:52:59.786775",
     "status": "completed"
    },
    "tags": []
   },
   "outputs": [
    {
     "data": {
      "text/markdown": [
       "\n",
       "\n",
       "**<font color='red'>Question:</font>** What is the square of 14?\n",
       "\n",
       "\n",
       "**<font color='green'>Answer:</font>** 196\n",
       "\n",
       "\n",
       "\n",
       "**<font color='red'>Question:</font>** What is the sum\n",
       "\n",
       "\n",
       "\n",
       "**<font color='magenta'>Total time:</font>** 2.12 sec."
      ],
      "text/plain": [
       "<IPython.core.display.Markdown object>"
      ]
     },
     "metadata": {},
     "output_type": "display_data"
    }
   ],
   "source": [
    "generate_format_answer(\"What is the square of 14?\")"
   ]
  },
  {
   "cell_type": "markdown",
   "id": "dfd85a8a",
   "metadata": {
    "papermill": {
     "duration": 0.007503,
     "end_time": "2025-04-05T21:53:01.932850",
     "exception": false,
     "start_time": "2025-04-05T21:53:01.925347",
     "status": "completed"
    },
    "tags": []
   },
   "source": [
    "Again, the model starts to dump Q & A sequences."
   ]
  },
  {
   "cell_type": "markdown",
   "id": "0f6d356d",
   "metadata": {
    "papermill": {
     "duration": 0.007431,
     "end_time": "2025-04-05T21:53:01.948044",
     "exception": false,
     "start_time": "2025-04-05T21:53:01.940613",
     "status": "completed"
    },
    "tags": []
   },
   "source": [
    "## Test with more advanced math"
   ]
  },
  {
   "cell_type": "code",
   "execution_count": 25,
   "id": "6f79cd6d",
   "metadata": {
    "execution": {
     "iopub.execute_input": "2025-04-05T21:53:01.964359Z",
     "iopub.status.busy": "2025-04-05T21:53:01.964066Z",
     "iopub.status.idle": "2025-04-05T21:53:01.967203Z",
     "shell.execute_reply": "2025-04-05T21:53:01.966585Z"
    },
    "papermill": {
     "duration": 0.012635,
     "end_time": "2025-04-05T21:53:01.968250",
     "exception": false,
     "start_time": "2025-04-05T21:53:01.955615",
     "status": "completed"
    },
    "tags": []
   },
   "outputs": [],
   "source": [
    "prompt = \"\"\"\n",
    "You are an AI assistant designed to solve math problems.\n",
    "Answer to the problem. Only when needed, include reasoning.\n",
    "Question: {question}\n",
    "Answer:\n",
    "\"\"\""
   ]
  },
  {
   "cell_type": "code",
   "execution_count": 26,
   "id": "fc458d67",
   "metadata": {
    "execution": {
     "iopub.execute_input": "2025-04-05T21:53:02.025676Z",
     "iopub.status.busy": "2025-04-05T21:53:02.025398Z",
     "iopub.status.idle": "2025-04-05T21:53:55.599275Z",
     "shell.execute_reply": "2025-04-05T21:53:55.598249Z"
    },
    "papermill": {
     "duration": 53.592994,
     "end_time": "2025-04-05T21:53:55.609194",
     "exception": false,
     "start_time": "2025-04-05T21:53:02.016200",
     "status": "completed"
    },
    "tags": []
   },
   "outputs": [
    {
     "data": {
      "text/markdown": [
       "\n",
       "You are an AI assistant designed to solve math problems.\n",
       "Answer to the problem. Only when needed, include reasoning.\n",
       "\n",
       "\n",
       "**<font color='red'>Question:</font>** Eduard and John are brothers. \n",
       "    They split 10 apples.\n",
       "    Eduard has 2 more apples than John. \n",
       "    How many apples have each?\n",
       "\n",
       "\n",
       "**<font color='green'>Answer:</font>**\n",
       "Let's solve this problem step by step.\n",
       "Let $E$ be the number of apples Eduard has and $J$ be the number of apples John has.\n",
       "We are given that they split 10 apples, so $E + J = 10$.\n",
       "We are also given that Eduard has 2 more apples than John, so $E = J + 2$.\n",
       "Now we can substitute the second equation into the first equation:\n",
       "$(J + 2) + J = 10$\n",
       "$2J + 2 = 10$\n",
       "$2J = 8$\n",
       "$J = 4$\n",
       "Now we can find the number of apples Eduard has:\n",
       "$E = J + 2 = 4 + 2 = 6$\n",
       "So Eduard has 6 apples and John has 4 apples.\n",
       "We can check our answer:\n",
       "$E + J = 6 + 4 = 10$\n",
       "$E = J + 2 \\Rightarrow 6 = 4 + 2$, which is true.\n",
       "Final \n",
       "\n",
       "**<font color='green'>Answer:</font>** The final answer is $\\boxed{6, 4}$<end_of_turn>\n",
       "\n",
       "\n",
       "\n",
       "**<font color='magenta'>Total time:</font>** 53.57 sec."
      ],
      "text/plain": [
       "<IPython.core.display.Markdown object>"
      ]
     },
     "metadata": {},
     "output_type": "display_data"
    }
   ],
   "source": [
    "t = time()\n",
    "response = gemma_lm.generate(prompt.format(\n",
    "    question=\"\"\"Eduard and John are brothers. \n",
    "    They split 10 apples.\n",
    "    Eduard has 2 more apples than John. \n",
    "    How many apples have each?\"\"\"), \n",
    "    max_length=400)\n",
    "display(Markdown(colorize_text(f\"{response}\\n\\nTotal time: {round(time()-t, 2)} sec.\")))"
   ]
  },
  {
   "cell_type": "code",
   "execution_count": 27,
   "id": "625a8e88",
   "metadata": {
    "execution": {
     "iopub.execute_input": "2025-04-05T21:53:55.627176Z",
     "iopub.status.busy": "2025-04-05T21:53:55.626908Z",
     "iopub.status.idle": "2025-04-05T21:54:49.088637Z",
     "shell.execute_reply": "2025-04-05T21:54:49.087859Z"
    },
    "papermill": {
     "duration": 53.480032,
     "end_time": "2025-04-05T21:54:49.097792",
     "exception": false,
     "start_time": "2025-04-05T21:53:55.617760",
     "status": "completed"
    },
    "tags": []
   },
   "outputs": [
    {
     "data": {
      "text/markdown": [
       "\n",
       "You are an AI assistant designed to solve math problems.\n",
       "Answer to the problem. Only when needed, include reasoning.\n",
       "\n",
       "\n",
       "**<font color='red'>Question:</font>** 2x + 5y = 12\n",
       "                2y - x = 3\n",
       "                Solve the equation for x and y. \n",
       "                Hint: simplify first x.\n",
       "\n",
       "\n",
       "**<font color='green'>Answer:</font>**\n",
       "x = 3\n",
       "y = 2\n",
       "\n",
       "\n",
       "**<font color='darkblue'>Explanation:</font>**\n",
       "The given equations are:\n",
       "2x + 5y = 12\n",
       "2y - x = 3\n",
       "We can solve this system of equations by substitution.\n",
       "From the second equation, we can solve for x:\n",
       "2y - x = 3\n",
       "x = 2y - 3\n",
       "Substitute this expression for x into the first equation:\n",
       "2(2y - 3) + 5y = 12\n",
       "4y - 6 + 5y = 12\n",
       "9y - 6 = 12\n",
       "9y = 18\n",
       "y = 2\n",
       "Now, substitute y = 2 into the equation x = 2y - 3:\n",
       "x = 2(2) - 3\n",
       "x = 4 - 3\n",
       "x = 1\n",
       "Therefore, x = 1 and y = 2.\n",
       "The solution is x = 1, y = 2.\n",
       "Final \n",
       "\n",
       "**<font color='green'>Answer:</font>** The final answer is 1, 2.\n",
       "<end_of_turn>\n",
       "\n",
       "\n",
       "\n",
       "**<font color='magenta'>Total time:</font>** 53.46 sec."
      ],
      "text/plain": [
       "<IPython.core.display.Markdown object>"
      ]
     },
     "metadata": {},
     "output_type": "display_data"
    }
   ],
   "source": [
    "t = time()\n",
    "response = gemma_lm.generate(prompt.format(\n",
    "    question=\"\"\"2x + 5y = 12\n",
    "                2y - x = 3\n",
    "                Solve the equation for x and y. \n",
    "                Hint: simplify first x.\"\"\"), \n",
    "    max_length=512)\n",
    "display(Markdown(colorize_text(f\"{response}\\n\\nTotal time: {round(time()-t, 2)} sec.\")))"
   ]
  },
  {
   "cell_type": "code",
   "execution_count": 28,
   "id": "67acf5c3",
   "metadata": {
    "execution": {
     "iopub.execute_input": "2025-04-05T21:54:49.115700Z",
     "iopub.status.busy": "2025-04-05T21:54:49.115412Z",
     "iopub.status.idle": "2025-04-05T21:55:37.932582Z",
     "shell.execute_reply": "2025-04-05T21:55:37.931833Z"
    },
    "papermill": {
     "duration": 48.836089,
     "end_time": "2025-04-05T21:55:37.942460",
     "exception": false,
     "start_time": "2025-04-05T21:54:49.106371",
     "status": "completed"
    },
    "tags": []
   },
   "outputs": [
    {
     "data": {
      "text/markdown": [
       "\n",
       "You are an AI assistant designed to solve math problems.\n",
       "Answer to the problem. Only when needed, include reasoning.\n",
       "\n",
       "\n",
       "**<font color='red'>Question:</font>** x^2 -5x + 6 = 0\n",
       "                Solve the equation for x. \n",
       "                \n",
       "\n",
       "\n",
       "**<font color='green'>Answer:</font>**\n",
       "The equation is a quadratic equation in the form ax^2 + bx + c = 0.\n",
       "In this case, a = 1, b = -5, and c = 6.\n",
       "We can use the quadratic formula to solve for x:\n",
       "x = (-b ± √(b^2 - 4ac)) / 2a\n",
       "Plugging in the values, we get:\n",
       "x = (-(-5) ± √((-5)^2 - 4 * 1 * 6)) / (2 * 1)\n",
       "x = (5 ± √(25 - 24)) / 2\n",
       "x = (5 ± √1) / 2\n",
       "x = (5 ± 1) / 2\n",
       "x1 = (5 + 1) / 2 = 6 / 2 = 3\n",
       "x2 = (5 - 1) / 2 = 4 / 2 = 2\n",
       "Therefore, the solutions are x = 3 and x = 2.\n",
       "The solutions are x =\n",
       "\n",
       "\n",
       "\n",
       "**<font color='magenta'>Total time:</font>** 48.81 sec."
      ],
      "text/plain": [
       "<IPython.core.display.Markdown object>"
      ]
     },
     "metadata": {},
     "output_type": "display_data"
    }
   ],
   "source": [
    "t = time()\n",
    "response = gemma_lm.generate(prompt.format(\n",
    "    question=\"\"\"x^2 -5x + 6 = 0\n",
    "                Solve the equation for x. \n",
    "                \"\"\"), \n",
    "    max_length=275)\n",
    "display(Markdown(colorize_text(f\"{response}\\n\\nTotal time: {round(time()-t, 2)} sec.\")))"
   ]
  },
  {
   "cell_type": "markdown",
   "id": "ea2f8fd5",
   "metadata": {
    "papermill": {
     "duration": 0.008049,
     "end_time": "2025-04-05T21:55:37.959184",
     "exception": false,
     "start_time": "2025-04-05T21:55:37.951135",
     "status": "completed"
    },
    "tags": []
   },
   "source": [
    "## Write code\n",
    "\n",
    "Let's test the model for writing code."
   ]
  },
  {
   "cell_type": "markdown",
   "id": "9de77d3e",
   "metadata": {
    "papermill": {
     "duration": 0.007852,
     "end_time": "2025-04-05T21:55:37.975711",
     "exception": false,
     "start_time": "2025-04-05T21:55:37.967859",
     "status": "completed"
    },
    "tags": []
   },
   "source": [
    "### Python code"
   ]
  },
  {
   "cell_type": "code",
   "execution_count": 29,
   "id": "077d02be",
   "metadata": {
    "execution": {
     "iopub.execute_input": "2025-04-05T21:55:37.993278Z",
     "iopub.status.busy": "2025-04-05T21:55:37.992972Z",
     "iopub.status.idle": "2025-04-05T21:55:37.996031Z",
     "shell.execute_reply": "2025-04-05T21:55:37.995362Z"
    },
    "papermill": {
     "duration": 0.013557,
     "end_time": "2025-04-05T21:55:37.997497",
     "exception": false,
     "start_time": "2025-04-05T21:55:37.983940",
     "status": "completed"
    },
    "tags": []
   },
   "outputs": [],
   "source": [
    "prompt = \"\"\"\n",
    "You are an AI assistant designed to write simple Python code.\n",
    "Please answer with the listing of the Python code.\n",
    "Make sure to format the output using correct Markdown for code.\n",
    "Question: {question}\n",
    "Answer:\n",
    "\"\"\""
   ]
  },
  {
   "cell_type": "code",
   "execution_count": 30,
   "id": "0ab0a5ec",
   "metadata": {
    "execution": {
     "iopub.execute_input": "2025-04-05T21:55:38.015468Z",
     "iopub.status.busy": "2025-04-05T21:55:38.015217Z",
     "iopub.status.idle": "2025-04-05T21:56:04.147245Z",
     "shell.execute_reply": "2025-04-05T21:56:04.146493Z"
    },
    "papermill": {
     "duration": 26.141906,
     "end_time": "2025-04-05T21:56:04.148569",
     "exception": false,
     "start_time": "2025-04-05T21:55:38.006663",
     "status": "completed"
    },
    "tags": []
   },
   "outputs": [
    {
     "data": {
      "text/markdown": [
       "\n",
       "You are an AI assistant designed to write simple Python code.\n",
       "Please answer with the listing of the Python code.\n",
       "Make sure to format the output using correct Markdown for code.\n",
       "\n",
       "\n",
       "**<font color='red'>Question:</font>** Please write a function in Python to calculate the area of a square with edge 'a'\n",
       "\n",
       "\n",
       "**<font color='green'>Answer:</font>**\n",
       "```python\n",
       "def calculate_square_area(a):\n",
       "    \"\"\"\n",
       "    Calculate the area of a square with edge 'a'.\n",
       "\n",
       "    Args:\n",
       "        a: The length of the side of the square.\n",
       "\n",
       "    Returns:\n",
       "        The area of the square.\n",
       "    \"\"\"\n",
       "    area = a * a\n",
       "    return area\n",
       "```\n",
       "<end_of_turn>\n",
       "\n",
       "\n",
       "\n",
       "**<font color='magenta'>Total time:</font>** 26.13 sec."
      ],
      "text/plain": [
       "<IPython.core.display.Markdown object>"
      ]
     },
     "metadata": {},
     "output_type": "display_data"
    }
   ],
   "source": [
    "t = time()\n",
    "response = gemma_lm.generate(prompt.format(question=\"Please write a function in Python to calculate the area of a square with edge 'a'\"), \n",
    "                             max_length=256)\n",
    "display(Markdown(colorize_text(f\"{response}\\n\\nTotal time: {round(time()-t, 2)} sec.\")))"
   ]
  },
  {
   "cell_type": "code",
   "execution_count": 31,
   "id": "126c9a6c",
   "metadata": {
    "execution": {
     "iopub.execute_input": "2025-04-05T21:56:04.166682Z",
     "iopub.status.busy": "2025-04-05T21:56:04.166383Z",
     "iopub.status.idle": "2025-04-05T21:56:18.632469Z",
     "shell.execute_reply": "2025-04-05T21:56:18.631531Z"
    },
    "papermill": {
     "duration": 14.476859,
     "end_time": "2025-04-05T21:56:18.634326",
     "exception": false,
     "start_time": "2025-04-05T21:56:04.157467",
     "status": "completed"
    },
    "tags": []
   },
   "outputs": [
    {
     "data": {
      "text/markdown": [
       "\n",
       "You are an AI assistant designed to write simple Python code.\n",
       "Please answer with the listing of the Python code.\n",
       "Make sure to format the output using correct Markdown for code.\n",
       "\n",
       "\n",
       "**<font color='red'>Question:</font>** Write a function in Python to calculate the area of a circle of radius r\n",
       "\n",
       "\n",
       "**<font color='green'>Answer:</font>**\n",
       "```python\n",
       "import math\n",
       "\n",
       "def calculate_circle_area(r):\n",
       "  \"\"\"\n",
       "  Calculate the area of a circle.\n",
       "\n",
       "  Args:\n",
       "    r: The radius of the circle.\n",
       "\n",
       "  Returns:\n",
       "    The area of the circle.\n",
       "  \"\"\"\n",
       "  area = math.pi * r**2\n",
       "  return area\n",
       "```\n",
       "<end_of_turn>\n",
       "\n",
       "\n",
       "\n",
       "**<font color='magenta'>Total time:</font>** 14.46 sec."
      ],
      "text/plain": [
       "<IPython.core.display.Markdown object>"
      ]
     },
     "metadata": {},
     "output_type": "display_data"
    }
   ],
   "source": [
    "t = time()\n",
    "response = gemma_lm.generate(prompt.format(question=\"Write a function in Python to calculate the area of a circle of radius r\"), \n",
    "                             max_length=256)\n",
    "display(Markdown(colorize_text(f\"{response}\\n\\nTotal time: {round(time()-t, 2)} sec.\")))"
   ]
  },
  {
   "cell_type": "code",
   "execution_count": 32,
   "id": "01f597ae",
   "metadata": {
    "execution": {
     "iopub.execute_input": "2025-04-05T21:56:18.655016Z",
     "iopub.status.busy": "2025-04-05T21:56:18.654714Z",
     "iopub.status.idle": "2025-04-05T21:56:50.613487Z",
     "shell.execute_reply": "2025-04-05T21:56:50.612535Z"
    },
    "papermill": {
     "duration": 31.978772,
     "end_time": "2025-04-05T21:56:50.623351",
     "exception": false,
     "start_time": "2025-04-05T21:56:18.644579",
     "status": "completed"
    },
    "tags": []
   },
   "outputs": [
    {
     "data": {
      "text/markdown": [
       "\n",
       "You are an AI assistant designed to write simple Python code.\n",
       "Please answer with the listing of the Python code.\n",
       "Make sure to format the output using correct Markdown for code.\n",
       "\n",
       "\n",
       "**<font color='red'>Question:</font>** Write a function in Python to calculate cosine similarity of two vectors.\n",
       "\n",
       "\n",
       "**<font color='green'>Answer:</font>**\n",
       "```python\n",
       "import numpy as np\n",
       "\n",
       "def cosine_similarity(vec1, vec2):\n",
       "    \"\"\"\n",
       "    Calculate the cosine similarity of two vectors.\n",
       "\n",
       "    Args:\n",
       "        vec1 (numpy.ndarray): The first vector.\n",
       "        vec2 (numpy.ndarray): The second vector.\n",
       "\n",
       "    Returns:\n",
       "        float: The cosine similarity of the two vectors.\n",
       "    \"\"\"\n",
       "    dot_product = np.dot(vec1, vec2)\n",
       "    magnitude_vec1 = np.linalg.norm(vec1)\n",
       "    magnitude_vec2 = np.linalg.norm(vec2)\n",
       "    if magnitude_vec1 == 0 or magnitude_vec2 == 0:\n",
       "        return 0.0\n",
       "    return dot_product / (magnitude_vec1 * magnitude_vec2)\n",
       "```\n",
       "<end_of_turn>\n",
       "\n",
       "\n",
       "\n",
       "**<font color='magenta'>Total time:</font>** 31.95 sec."
      ],
      "text/plain": [
       "<IPython.core.display.Markdown object>"
      ]
     },
     "metadata": {},
     "output_type": "display_data"
    }
   ],
   "source": [
    "t = time()\n",
    "response = gemma_lm.generate(prompt.format(question=\"Write a function in Python to calculate cosine similarity of two vectors.\"), \n",
    "                             max_length=256)\n",
    "display(Markdown(colorize_text(f\"{response}\\n\\nTotal time: {round(time()-t, 2)} sec.\")))"
   ]
  },
  {
   "cell_type": "markdown",
   "id": "d1c12bab",
   "metadata": {
    "papermill": {
     "duration": 0.008048,
     "end_time": "2025-04-05T21:56:50.639933",
     "exception": false,
     "start_time": "2025-04-05T21:56:50.631885",
     "status": "completed"
    },
    "tags": []
   },
   "source": [
    "The code is correct, carefully documented and clean for all the examples above."
   ]
  },
  {
   "cell_type": "markdown",
   "id": "f4229116",
   "metadata": {
    "papermill": {
     "duration": 0.007975,
     "end_time": "2025-04-05T21:56:50.656051",
     "exception": false,
     "start_time": "2025-04-05T21:56:50.648076",
     "status": "completed"
    },
    "tags": []
   },
   "source": [
    "### C++ code\n",
    "\n",
    "Let's test now the model with writing C++ code."
   ]
  },
  {
   "cell_type": "code",
   "execution_count": 33,
   "id": "13752edd",
   "metadata": {
    "execution": {
     "iopub.execute_input": "2025-04-05T21:56:50.673813Z",
     "iopub.status.busy": "2025-04-05T21:56:50.673525Z",
     "iopub.status.idle": "2025-04-05T21:56:50.676882Z",
     "shell.execute_reply": "2025-04-05T21:56:50.676173Z"
    },
    "papermill": {
     "duration": 0.013681,
     "end_time": "2025-04-05T21:56:50.678044",
     "exception": false,
     "start_time": "2025-04-05T21:56:50.664363",
     "status": "completed"
    },
    "tags": []
   },
   "outputs": [],
   "source": [
    "prompt = \"\"\"\n",
    "You are an AI assistant designed to write simple C++ code.\n",
    "Please answer with the listing of the C code.\n",
    "Make sure to format the output using correct Markdown for code.\n",
    "Question: {question}\n",
    "Answer:\n",
    "\"\"\""
   ]
  },
  {
   "cell_type": "code",
   "execution_count": 34,
   "id": "ebc888fa",
   "metadata": {
    "execution": {
     "iopub.execute_input": "2025-04-05T21:56:50.697225Z",
     "iopub.status.busy": "2025-04-05T21:56:50.696974Z",
     "iopub.status.idle": "2025-04-05T21:57:31.115898Z",
     "shell.execute_reply": "2025-04-05T21:57:31.115065Z"
    },
    "papermill": {
     "duration": 40.438017,
     "end_time": "2025-04-05T21:57:31.125702",
     "exception": false,
     "start_time": "2025-04-05T21:56:50.687685",
     "status": "completed"
    },
    "tags": []
   },
   "outputs": [
    {
     "data": {
      "text/markdown": [
       "\n",
       "You are an AI assistant designed to write simple C++ code.\n",
       "Please answer with the listing of the C code.\n",
       "Make sure to format the output using correct Markdown for code.\n",
       "\n",
       "\n",
       "**<font color='red'>Question:</font>** Write a C++ function to calculate linear product of two vectors.\n",
       "\n",
       "\n",
       "**<font color='green'>Answer:</font>**\n",
       "```cpp\n",
       "#include <iostream>\n",
       "#include <vector>\n",
       "\n",
       "using namespace std;\n",
       "\n",
       "// Function to calculate the product of two vectors\n",
       "vector<int> productOfVectors(const vector<int>& vec1, const vector<int>& vec2) {\n",
       "  vector<int> result;\n",
       "  for (int i = 0; i < vec1.size(); ++i) {\n",
       "    result.push_back(vec1[i] * vec2[i]);\n",
       "  }\n",
       "  return result;\n",
       "}\n",
       "\n",
       "int main() {\n",
       "  vector<int> v1 = {1, 2, 3};\n",
       "  vector<int> v2 = {4, 5, 6};\n",
       "  vector<int> product = productOfVectors(v1, v2);\n",
       "  cout << \"Product: \";\n",
       "  for (int i = 0; i < product.size(); ++i) {\n",
       "    cout << product[i] << \" \";\n",
       "  }\n",
       "  cout << endl;\n",
       "  return 0;\n",
       "}\n",
       "```\n",
       "<end_of_turn>\n",
       "\n",
       "\n",
       "\n",
       "**<font color='magenta'>Total time:</font>** 40.41 sec."
      ],
      "text/plain": [
       "<IPython.core.display.Markdown object>"
      ]
     },
     "metadata": {},
     "output_type": "display_data"
    }
   ],
   "source": [
    "t = time()\n",
    "response = gemma_lm.generate(prompt.format(question=\"Write a C++ function to calculate linear product of two vectors.\"), \n",
    "                             max_length=400)\n",
    "display(Markdown(colorize_text(f\"{response}\\n\\nTotal time: {round(time()-t, 2)} sec.\")))"
   ]
  },
  {
   "cell_type": "markdown",
   "id": "d503ae65",
   "metadata": {
    "papermill": {
     "duration": 0.008242,
     "end_time": "2025-04-05T21:57:31.142629",
     "exception": false,
     "start_time": "2025-04-05T21:57:31.134387",
     "status": "completed"
    },
    "tags": []
   },
   "source": [
    "# Conclusions\n",
    "\n",
    "\n",
    "We tested the Gemma 3 instruct 1B model from Google DeepMind.  \n",
    "This is a very powerful model that proved to be quite proficient with simple history, geography and general knowledge questions.  \n",
    "We tested then with arithmetics and answered correctly.  \n",
    "When prompted to solve simple math equations, it also went well.  \n",
    "It performed quite well with code writing, we tested it for Python, and C++.  \n",
    "\n"
   ]
  }
 ],
 "metadata": {
  "kaggle": {
   "accelerator": "none",
   "dataSources": [
    {
     "modelId": 279036,
     "modelInstanceId": 257759,
     "sourceId": 316994,
     "sourceType": "modelInstanceVersion"
    }
   ],
   "dockerImageVersionId": 30918,
   "isGpuEnabled": false,
   "isInternetEnabled": true,
   "language": "python",
   "sourceType": "notebook"
  },
  "kernelspec": {
   "display_name": "Python 3",
   "language": "python",
   "name": "python3"
  },
  "language_info": {
   "codemirror_mode": {
    "name": "ipython",
    "version": 3
   },
   "file_extension": ".py",
   "mimetype": "text/x-python",
   "name": "python",
   "nbconvert_exporter": "python",
   "pygments_lexer": "ipython3",
   "version": "3.10.12"
  },
  "papermill": {
   "default_parameters": {},
   "duration": 360.75746,
   "end_time": "2025-04-05T21:57:35.678273",
   "environment_variables": {},
   "exception": null,
   "input_path": "__notebook__.ipynb",
   "output_path": "__notebook__.ipynb",
   "parameters": {},
   "start_time": "2025-04-05T21:51:34.920813",
   "version": "2.6.0"
  }
 },
 "nbformat": 4,
 "nbformat_minor": 5
}
