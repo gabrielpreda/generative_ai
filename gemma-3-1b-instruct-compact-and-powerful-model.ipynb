{
 "cells": [
  {
   "cell_type": "markdown",
   "id": "1a7d417c",
   "metadata": {
    "_cell_guid": "b1076dfc-b9ad-4769-8c92-a6c4dae69d19",
    "_uuid": "8f2839f25d086af736a60e9eeb907d3b93b6e0e5",
    "papermill": {
     "duration": 0.010749,
     "end_time": "2025-05-03T15:18:40.360327",
     "exception": false,
     "start_time": "2025-05-03T15:18:40.349578",
     "status": "completed"
    },
    "tags": []
   },
   "source": [
    "<center><img src=\"https://www.geeky-gadgets.com/wp-content/uploads/2025/03/google-gemma-3-advanced-ai-models.webp\"></img></center>\n",
    "\n",
    "# Introduction\n",
    "This Notebook will explore how to prompt Gemma 3 1B instruct (fine-tuned), using KerasNLP. \n",
    "In a previous work, we explored the features of Gemma 3 1B (pre-trained): [Talk to Me Nice: Pro-Level Prompting for Gemma 3](https://www.kaggle.com/code/gpreda/talk-to-me-nice-pro-level-prompting-for-gemma-3)\n",
    "\n",
    "## What is Gemma?\n",
    "Gemma is a family of lightweight, state-of-the art open models built from the same research and technology used to create the Gemini models. At the 3rd generation now, Gemma 3 comes in 4 sizes, **1B**, **4B**, **12B** and **27B**, both pretrained and instruction finetuned versions.   \n",
    "\n",
    "Models **4B**, **12B**, **27B** brings an extended context window (up to **128K**) as well as **multi-modality** (text and image). \n",
    "\n",
    "The **1B** model, although incredibly compact, is not only very fast but is also quite powerful.\n",
    "\n",
    "As in the previous Notebook mentioned above, we will use the **1B intruct** model, on CPU only, without any accelerator.\n",
    "\n",
    "## Gemma 3 instruct 1B model card\n",
    "\n",
    "* On Kaggle: https://www.kaggle.com/models/google/gemma-3/keras/gemma3_instruct_1b\n",
    "* On Google: https://ai.google.dev/gemma/docs/core/model_card_3\n",
    "* On HuggingFace: https://huggingface.co/google/gemma-3-1b-it\n",
    "\n",
    "## Gemma 3 Technical Report\n",
    "\n",
    "Gemma 3 Technical Report: https://arxiv.org/abs/2503.19786\n",
    "\n",
    "## How we will test the model?\n",
    "\n",
    "We will first initize the model and then we will test with simple common knowledge questions, followed by algebra and equations. Then we will test the model for writing code.\n",
    "\n",
    "\n",
    "# Prerequisites\n",
    "\n",
    "## Install packages\n",
    "\n",
    "We will install Keras and KerasNLP.\n"
   ]
  },
  {
   "cell_type": "code",
   "execution_count": 1,
   "id": "a3083b06",
   "metadata": {
    "execution": {
     "iopub.execute_input": "2025-05-03T15:18:40.382114Z",
     "iopub.status.busy": "2025-05-03T15:18:40.381614Z",
     "iopub.status.idle": "2025-05-03T15:18:54.989708Z",
     "shell.execute_reply": "2025-05-03T15:18:54.988318Z"
    },
    "papermill": {
     "duration": 14.62135,
     "end_time": "2025-05-03T15:18:54.991825",
     "exception": false,
     "start_time": "2025-05-03T15:18:40.370475",
     "status": "completed"
    },
    "tags": []
   },
   "outputs": [
    {
     "name": "stdout",
     "output_type": "stream",
     "text": [
      "\u001b[2K   \u001b[90m━━━━━━━━━━━━━━━━━━━━━━━━━━━━━━━━━━━━━━━━\u001b[0m \u001b[32m792.1/792.1 kB\u001b[0m \u001b[31m10.4 MB/s\u001b[0m eta \u001b[36m0:00:00\u001b[0m\r\n",
      "\u001b[2K   \u001b[90m━━━━━━━━━━━━━━━━━━━━━━━━━━━━━━━━━━━━━━━━\u001b[0m \u001b[32m1.3/1.3 MB\u001b[0m \u001b[31m15.2 MB/s\u001b[0m eta \u001b[36m0:00:00\u001b[0m\r\n",
      "\u001b[?25h\u001b[31mERROR: pip's dependency resolver does not currently take into account all the packages that are installed. This behaviour is the source of the following dependency conflicts.\r\n",
      "tensorflow-decision-forests 1.10.0 requires tensorflow==2.17.0, but you have tensorflow 2.17.1 which is incompatible.\u001b[0m\u001b[31m\r\n",
      "\u001b[0m"
     ]
    }
   ],
   "source": [
    "!pip install -q -U keras-nlp\n",
    "!pip install -q -U keras"
   ]
  },
  {
   "cell_type": "markdown",
   "id": "f5649daa",
   "metadata": {
    "papermill": {
     "duration": 0.010008,
     "end_time": "2025-05-03T15:18:55.012676",
     "exception": false,
     "start_time": "2025-05-03T15:18:55.002668",
     "status": "completed"
    },
    "tags": []
   },
   "source": [
    "## Import packages"
   ]
  },
  {
   "cell_type": "code",
   "execution_count": 2,
   "id": "073f0759",
   "metadata": {
    "execution": {
     "iopub.execute_input": "2025-05-03T15:18:55.034925Z",
     "iopub.status.busy": "2025-05-03T15:18:55.034576Z",
     "iopub.status.idle": "2025-05-03T15:19:15.121137Z",
     "shell.execute_reply": "2025-05-03T15:19:15.120289Z"
    },
    "papermill": {
     "duration": 20.099769,
     "end_time": "2025-05-03T15:19:15.122905",
     "exception": false,
     "start_time": "2025-05-03T15:18:55.023136",
     "status": "completed"
    },
    "tags": []
   },
   "outputs": [],
   "source": [
    "import keras\n",
    "import keras_nlp\n",
    "from keras_nlp.samplers import TopKSampler\n",
    "from time import time"
   ]
  },
  {
   "cell_type": "markdown",
   "id": "8f084cac",
   "metadata": {
    "papermill": {
     "duration": 0.009808,
     "end_time": "2025-05-03T15:19:15.143190",
     "exception": false,
     "start_time": "2025-05-03T15:19:15.133382",
     "status": "completed"
    },
    "tags": []
   },
   "source": [
    "# Prepare the model"
   ]
  },
  {
   "cell_type": "markdown",
   "id": "31d3e053",
   "metadata": {
    "papermill": {
     "duration": 0.009648,
     "end_time": "2025-05-03T15:19:15.163282",
     "exception": false,
     "start_time": "2025-05-03T15:19:15.153634",
     "status": "completed"
    },
    "tags": []
   },
   "source": [
    "## Select the backend \n",
    "\n",
    "Keras is a high-level, multi-framework deep learning API designed for simplicity and ease of use.   \n",
    "Keras 3 lets you choose the backend: \n",
    "* TensorFlow\n",
    "* JAX\n",
    "* PyTorch\n",
    "\n",
    "\n",
    "For this Notebook, we will choose **JAX** as backend."
   ]
  },
  {
   "cell_type": "code",
   "execution_count": 3,
   "id": "530dc46d",
   "metadata": {
    "execution": {
     "iopub.execute_input": "2025-05-03T15:19:15.184725Z",
     "iopub.status.busy": "2025-05-03T15:19:15.184080Z",
     "iopub.status.idle": "2025-05-03T15:19:15.188524Z",
     "shell.execute_reply": "2025-05-03T15:19:15.187666Z"
    },
    "papermill": {
     "duration": 0.01674,
     "end_time": "2025-05-03T15:19:15.189931",
     "exception": false,
     "start_time": "2025-05-03T15:19:15.173191",
     "status": "completed"
    },
    "tags": []
   },
   "outputs": [],
   "source": [
    "import os\n",
    "os.environ[\"KERAS_BACKEND\"] = \"jax\"\n",
    "# run on CPU with max parallelism\n",
    "os.environ[\"XLA_FLAGS\"] = \"--xla_cpu_multi_thread_eigen=true intra_op_parallelism_threads=8\"\n",
    "# if run on GPU, prevent JAX to take up to 100% memory from GPU, set max at 90% \n",
    "# os.environ[\"XLA_PYTHON_CLIENT_MEM_FRACTION\"] = \"0.9\""
   ]
  },
  {
   "cell_type": "markdown",
   "id": "f1e85804",
   "metadata": {
    "papermill": {
     "duration": 0.009804,
     "end_time": "2025-05-03T15:19:15.210125",
     "exception": false,
     "start_time": "2025-05-03T15:19:15.200321",
     "status": "completed"
    },
    "tags": []
   },
   "source": [
    "We set `XLA_FLAGS` so that we allow parallelism and set maximum number of parallel threads to 8 - this is the maximum allowed on this platform CPU.\n",
    "\n",
    "Note: if you want to run this code on GPU, comment this line and uncomment the next line. This setting will prevent `JAX` from accessing 100% of GPU at starting, limiting to 90%."
   ]
  },
  {
   "cell_type": "markdown",
   "id": "760ff4b1",
   "metadata": {
    "papermill": {
     "duration": 0.010982,
     "end_time": "2025-05-03T15:19:15.231368",
     "exception": false,
     "start_time": "2025-05-03T15:19:15.220386",
     "status": "completed"
    },
    "tags": []
   },
   "source": [
    "## Initialize the model"
   ]
  },
  {
   "cell_type": "code",
   "execution_count": 4,
   "id": "985d75a9",
   "metadata": {
    "execution": {
     "iopub.execute_input": "2025-05-03T15:19:15.252873Z",
     "iopub.status.busy": "2025-05-03T15:19:15.252509Z",
     "iopub.status.idle": "2025-05-03T15:19:46.615767Z",
     "shell.execute_reply": "2025-05-03T15:19:46.612331Z"
    },
    "papermill": {
     "duration": 31.381311,
     "end_time": "2025-05-03T15:19:46.622791",
     "exception": false,
     "start_time": "2025-05-03T15:19:15.241480",
     "status": "completed"
    },
    "tags": []
   },
   "outputs": [],
   "source": [
    "gemma_lm = keras_nlp.models.Gemma3CausalLM.from_preset(\"/kaggle/input/gemma3/keras/gemma3_instruct_1b/3\")\n",
    "tokenizer = keras_nlp.models.Gemma3Tokenizer.from_preset(\"/kaggle/input/gemma3/keras/gemma3_instruct_1b/3\")"
   ]
  },
  {
   "cell_type": "markdown",
   "id": "89714285",
   "metadata": {
    "papermill": {
     "duration": 0.013193,
     "end_time": "2025-05-03T15:19:46.654742",
     "exception": false,
     "start_time": "2025-05-03T15:19:46.641549",
     "status": "completed"
    },
    "tags": []
   },
   "source": [
    "## Verify the model"
   ]
  },
  {
   "cell_type": "code",
   "execution_count": 5,
   "id": "69542b10",
   "metadata": {
    "execution": {
     "iopub.execute_input": "2025-05-03T15:19:46.682673Z",
     "iopub.status.busy": "2025-05-03T15:19:46.682320Z",
     "iopub.status.idle": "2025-05-03T15:19:46.718080Z",
     "shell.execute_reply": "2025-05-03T15:19:46.717199Z"
    },
    "papermill": {
     "duration": 0.051802,
     "end_time": "2025-05-03T15:19:46.719740",
     "exception": false,
     "start_time": "2025-05-03T15:19:46.667938",
     "status": "completed"
    },
    "tags": []
   },
   "outputs": [
    {
     "data": {
      "text/html": [
       "<pre style=\"white-space:pre;overflow-x:auto;line-height:normal;font-family:Menlo,'DejaVu Sans Mono',consolas,'Courier New',monospace\"><span style=\"font-weight: bold\">Preprocessor: \"gemma3_causal_lm_preprocessor\"</span>\n",
       "</pre>\n"
      ],
      "text/plain": [
       "\u001b[1mPreprocessor: \"gemma3_causal_lm_preprocessor\"\u001b[0m\n"
      ]
     },
     "metadata": {},
     "output_type": "display_data"
    },
    {
     "data": {
      "text/html": [
       "<pre style=\"white-space:pre;overflow-x:auto;line-height:normal;font-family:Menlo,'DejaVu Sans Mono',consolas,'Courier New',monospace\">┏━━━━━━━━━━━━━━━━━━━━━━━━━━━━━━━━━━━━━━━━━━━━━━━━━━━━━━━━━━━━━━━┳━━━━━━━━━━━━━━━━━━━━━━━━━━━━━━━━━━━━━━━━━━┓\n",
       "┃<span style=\"font-weight: bold\"> Layer (type)                                                  </span>┃<span style=\"font-weight: bold\">                                   Config </span>┃\n",
       "┡━━━━━━━━━━━━━━━━━━━━━━━━━━━━━━━━━━━━━━━━━━━━━━━━━━━━━━━━━━━━━━━╇━━━━━━━━━━━━━━━━━━━━━━━━━━━━━━━━━━━━━━━━━━┩\n",
       "│ gemma3_tokenizer (<span style=\"color: #0087ff; text-decoration-color: #0087ff\">Gemma3Tokenizer</span>)                            │                      Vocab size: <span style=\"color: #00af00; text-decoration-color: #00af00\">262,144</span> │\n",
       "└───────────────────────────────────────────────────────────────┴──────────────────────────────────────────┘\n",
       "</pre>\n"
      ],
      "text/plain": [
       "┏━━━━━━━━━━━━━━━━━━━━━━━━━━━━━━━━━━━━━━━━━━━━━━━━━━━━━━━━━━━━━━━┳━━━━━━━━━━━━━━━━━━━━━━━━━━━━━━━━━━━━━━━━━━┓\n",
       "┃\u001b[1m \u001b[0m\u001b[1mLayer (type)                                                 \u001b[0m\u001b[1m \u001b[0m┃\u001b[1m \u001b[0m\u001b[1m                                  Config\u001b[0m\u001b[1m \u001b[0m┃\n",
       "┡━━━━━━━━━━━━━━━━━━━━━━━━━━━━━━━━━━━━━━━━━━━━━━━━━━━━━━━━━━━━━━━╇━━━━━━━━━━━━━━━━━━━━━━━━━━━━━━━━━━━━━━━━━━┩\n",
       "│ gemma3_tokenizer (\u001b[38;5;33mGemma3Tokenizer\u001b[0m)                            │                      Vocab size: \u001b[38;5;34m262,144\u001b[0m │\n",
       "└───────────────────────────────────────────────────────────────┴──────────────────────────────────────────┘\n"
      ]
     },
     "metadata": {},
     "output_type": "display_data"
    },
    {
     "data": {
      "text/html": [
       "<pre style=\"white-space:pre;overflow-x:auto;line-height:normal;font-family:Menlo,'DejaVu Sans Mono',consolas,'Courier New',monospace\"><span style=\"font-weight: bold\">Model: \"gemma3_causal_lm\"</span>\n",
       "</pre>\n"
      ],
      "text/plain": [
       "\u001b[1mModel: \"gemma3_causal_lm\"\u001b[0m\n"
      ]
     },
     "metadata": {},
     "output_type": "display_data"
    },
    {
     "data": {
      "text/html": [
       "<pre style=\"white-space:pre;overflow-x:auto;line-height:normal;font-family:Menlo,'DejaVu Sans Mono',consolas,'Courier New',monospace\">┏━━━━━━━━━━━━━━━━━━━━━━━━━━━━━━━┳━━━━━━━━━━━━━━━━━━━━━━━━━━━┳━━━━━━━━━━━━━━━━━┳━━━━━━━━━━━━━━━━━━━━━━━━━━━━┓\n",
       "┃<span style=\"font-weight: bold\"> Layer (type)                  </span>┃<span style=\"font-weight: bold\"> Output Shape              </span>┃<span style=\"font-weight: bold\">         Param # </span>┃<span style=\"font-weight: bold\"> Connected to               </span>┃\n",
       "┡━━━━━━━━━━━━━━━━━━━━━━━━━━━━━━━╇━━━━━━━━━━━━━━━━━━━━━━━━━━━╇━━━━━━━━━━━━━━━━━╇━━━━━━━━━━━━━━━━━━━━━━━━━━━━┩\n",
       "│ padding_mask (<span style=\"color: #0087ff; text-decoration-color: #0087ff\">InputLayer</span>)     │ (<span style=\"color: #00d7ff; text-decoration-color: #00d7ff\">None</span>, <span style=\"color: #00d7ff; text-decoration-color: #00d7ff\">None</span>)              │               <span style=\"color: #00af00; text-decoration-color: #00af00\">0</span> │ -                          │\n",
       "├───────────────────────────────┼───────────────────────────┼─────────────────┼────────────────────────────┤\n",
       "│ token_ids (<span style=\"color: #0087ff; text-decoration-color: #0087ff\">InputLayer</span>)        │ (<span style=\"color: #00d7ff; text-decoration-color: #00d7ff\">None</span>, <span style=\"color: #00d7ff; text-decoration-color: #00d7ff\">None</span>)              │               <span style=\"color: #00af00; text-decoration-color: #00af00\">0</span> │ -                          │\n",
       "├───────────────────────────────┼───────────────────────────┼─────────────────┼────────────────────────────┤\n",
       "│ gemma3_backbone               │ (<span style=\"color: #00d7ff; text-decoration-color: #00d7ff\">None</span>, <span style=\"color: #00d7ff; text-decoration-color: #00d7ff\">None</span>, <span style=\"color: #00af00; text-decoration-color: #00af00\">1152</span>)        │     <span style=\"color: #00af00; text-decoration-color: #00af00\">999,885,952</span> │ padding_mask[<span style=\"color: #00af00; text-decoration-color: #00af00\">0</span>][<span style=\"color: #00af00; text-decoration-color: #00af00\">0</span>],        │\n",
       "│ (<span style=\"color: #0087ff; text-decoration-color: #0087ff\">Gemma3Backbone</span>)              │                           │                 │ token_ids[<span style=\"color: #00af00; text-decoration-color: #00af00\">0</span>][<span style=\"color: #00af00; text-decoration-color: #00af00\">0</span>]            │\n",
       "├───────────────────────────────┼───────────────────────────┼─────────────────┼────────────────────────────┤\n",
       "│ token_embedding               │ (<span style=\"color: #00d7ff; text-decoration-color: #00d7ff\">None</span>, <span style=\"color: #00d7ff; text-decoration-color: #00d7ff\">None</span>, <span style=\"color: #00af00; text-decoration-color: #00af00\">262144</span>)      │     <span style=\"color: #00af00; text-decoration-color: #00af00\">301,989,888</span> │ gemma3_backbone[<span style=\"color: #00af00; text-decoration-color: #00af00\">0</span>][<span style=\"color: #00af00; text-decoration-color: #00af00\">0</span>]      │\n",
       "│ (<span style=\"color: #0087ff; text-decoration-color: #0087ff\">ReversibleEmbedding</span>)         │                           │                 │                            │\n",
       "└───────────────────────────────┴───────────────────────────┴─────────────────┴────────────────────────────┘\n",
       "</pre>\n"
      ],
      "text/plain": [
       "┏━━━━━━━━━━━━━━━━━━━━━━━━━━━━━━━┳━━━━━━━━━━━━━━━━━━━━━━━━━━━┳━━━━━━━━━━━━━━━━━┳━━━━━━━━━━━━━━━━━━━━━━━━━━━━┓\n",
       "┃\u001b[1m \u001b[0m\u001b[1mLayer (type)                 \u001b[0m\u001b[1m \u001b[0m┃\u001b[1m \u001b[0m\u001b[1mOutput Shape             \u001b[0m\u001b[1m \u001b[0m┃\u001b[1m \u001b[0m\u001b[1m        Param #\u001b[0m\u001b[1m \u001b[0m┃\u001b[1m \u001b[0m\u001b[1mConnected to              \u001b[0m\u001b[1m \u001b[0m┃\n",
       "┡━━━━━━━━━━━━━━━━━━━━━━━━━━━━━━━╇━━━━━━━━━━━━━━━━━━━━━━━━━━━╇━━━━━━━━━━━━━━━━━╇━━━━━━━━━━━━━━━━━━━━━━━━━━━━┩\n",
       "│ padding_mask (\u001b[38;5;33mInputLayer\u001b[0m)     │ (\u001b[38;5;45mNone\u001b[0m, \u001b[38;5;45mNone\u001b[0m)              │               \u001b[38;5;34m0\u001b[0m │ -                          │\n",
       "├───────────────────────────────┼───────────────────────────┼─────────────────┼────────────────────────────┤\n",
       "│ token_ids (\u001b[38;5;33mInputLayer\u001b[0m)        │ (\u001b[38;5;45mNone\u001b[0m, \u001b[38;5;45mNone\u001b[0m)              │               \u001b[38;5;34m0\u001b[0m │ -                          │\n",
       "├───────────────────────────────┼───────────────────────────┼─────────────────┼────────────────────────────┤\n",
       "│ gemma3_backbone               │ (\u001b[38;5;45mNone\u001b[0m, \u001b[38;5;45mNone\u001b[0m, \u001b[38;5;34m1152\u001b[0m)        │     \u001b[38;5;34m999,885,952\u001b[0m │ padding_mask[\u001b[38;5;34m0\u001b[0m][\u001b[38;5;34m0\u001b[0m],        │\n",
       "│ (\u001b[38;5;33mGemma3Backbone\u001b[0m)              │                           │                 │ token_ids[\u001b[38;5;34m0\u001b[0m][\u001b[38;5;34m0\u001b[0m]            │\n",
       "├───────────────────────────────┼───────────────────────────┼─────────────────┼────────────────────────────┤\n",
       "│ token_embedding               │ (\u001b[38;5;45mNone\u001b[0m, \u001b[38;5;45mNone\u001b[0m, \u001b[38;5;34m262144\u001b[0m)      │     \u001b[38;5;34m301,989,888\u001b[0m │ gemma3_backbone[\u001b[38;5;34m0\u001b[0m][\u001b[38;5;34m0\u001b[0m]      │\n",
       "│ (\u001b[38;5;33mReversibleEmbedding\u001b[0m)         │                           │                 │                            │\n",
       "└───────────────────────────────┴───────────────────────────┴─────────────────┴────────────────────────────┘\n"
      ]
     },
     "metadata": {},
     "output_type": "display_data"
    },
    {
     "data": {
      "text/html": [
       "<pre style=\"white-space:pre;overflow-x:auto;line-height:normal;font-family:Menlo,'DejaVu Sans Mono',consolas,'Courier New',monospace\"><span style=\"font-weight: bold\"> Total params: </span><span style=\"color: #00af00; text-decoration-color: #00af00\">999,885,952</span> (3.72 GB)\n",
       "</pre>\n"
      ],
      "text/plain": [
       "\u001b[1m Total params: \u001b[0m\u001b[38;5;34m999,885,952\u001b[0m (3.72 GB)\n"
      ]
     },
     "metadata": {},
     "output_type": "display_data"
    },
    {
     "data": {
      "text/html": [
       "<pre style=\"white-space:pre;overflow-x:auto;line-height:normal;font-family:Menlo,'DejaVu Sans Mono',consolas,'Courier New',monospace\"><span style=\"font-weight: bold\"> Trainable params: </span><span style=\"color: #00af00; text-decoration-color: #00af00\">999,885,952</span> (3.72 GB)\n",
       "</pre>\n"
      ],
      "text/plain": [
       "\u001b[1m Trainable params: \u001b[0m\u001b[38;5;34m999,885,952\u001b[0m (3.72 GB)\n"
      ]
     },
     "metadata": {},
     "output_type": "display_data"
    },
    {
     "data": {
      "text/html": [
       "<pre style=\"white-space:pre;overflow-x:auto;line-height:normal;font-family:Menlo,'DejaVu Sans Mono',consolas,'Courier New',monospace\"><span style=\"font-weight: bold\"> Non-trainable params: </span><span style=\"color: #00af00; text-decoration-color: #00af00\">0</span> (0.00 B)\n",
       "</pre>\n"
      ],
      "text/plain": [
       "\u001b[1m Non-trainable params: \u001b[0m\u001b[38;5;34m0\u001b[0m (0.00 B)\n"
      ]
     },
     "metadata": {},
     "output_type": "display_data"
    }
   ],
   "source": [
    "gemma_lm.summary()"
   ]
  },
  {
   "cell_type": "markdown",
   "id": "49b2b502",
   "metadata": {
    "papermill": {
     "duration": 0.015364,
     "end_time": "2025-05-03T15:19:46.750476",
     "exception": false,
     "start_time": "2025-05-03T15:19:46.735112",
     "status": "completed"
    },
    "tags": []
   },
   "source": [
    "# Prompt the model\n",
    "\n",
    "We define a simple prompt."
   ]
  },
  {
   "cell_type": "code",
   "execution_count": 6,
   "id": "cf014b71",
   "metadata": {
    "execution": {
     "iopub.execute_input": "2025-05-03T15:19:46.782705Z",
     "iopub.status.busy": "2025-05-03T15:19:46.782351Z",
     "iopub.status.idle": "2025-05-03T15:20:11.645462Z",
     "shell.execute_reply": "2025-05-03T15:20:11.644119Z"
    },
    "papermill": {
     "duration": 24.883052,
     "end_time": "2025-05-03T15:20:11.649116",
     "exception": false,
     "start_time": "2025-05-03T15:19:46.766064",
     "status": "completed"
    },
    "tags": []
   },
   "outputs": [],
   "source": [
    "instructions = \"You are an AI that answers in short, complete sentences only.\\n\"\n",
    "prompt = (\n",
    "    f\"{instructions}\"\n",
    "    \"Question: {question}\\n\"\n",
    "    \"Answer:\"\n",
    ")\n",
    "\n",
    "output = gemma_lm.generate(\n",
    "    prompt.format(question=\"What is the temperature of the Moon?\"),\n",
    "    max_length=40, \n",
    "    stop_token_ids=[tokenizer.token_to_id(\"\\n\")]\n",
    ")\n"
   ]
  },
  {
   "cell_type": "code",
   "execution_count": 7,
   "id": "618faf97",
   "metadata": {
    "execution": {
     "iopub.execute_input": "2025-05-03T15:20:11.676975Z",
     "iopub.status.busy": "2025-05-03T15:20:11.676627Z",
     "iopub.status.idle": "2025-05-03T15:20:11.681225Z",
     "shell.execute_reply": "2025-05-03T15:20:11.680190Z"
    },
    "papermill": {
     "duration": 0.020021,
     "end_time": "2025-05-03T15:20:11.683614",
     "exception": false,
     "start_time": "2025-05-03T15:20:11.663593",
     "status": "completed"
    },
    "tags": []
   },
   "outputs": [
    {
     "name": "stdout",
     "output_type": "stream",
     "text": [
      "Question: What is the temperature of the Moon?\n",
      "Answer: 0°C\n"
     ]
    }
   ],
   "source": [
    "answer = output.replace(instructions, \"\").strip()\n",
    "print(answer)"
   ]
  },
  {
   "cell_type": "markdown",
   "id": "c589e484",
   "metadata": {
    "papermill": {
     "duration": 0.010885,
     "end_time": "2025-05-03T15:20:11.705839",
     "exception": false,
     "start_time": "2025-05-03T15:20:11.694954",
     "status": "completed"
    },
    "tags": []
   },
   "source": [
    "Well, the answer doesn't look correct. Let's try more questions."
   ]
  },
  {
   "cell_type": "markdown",
   "id": "a53b344f",
   "metadata": {
    "papermill": {
     "duration": 0.010777,
     "end_time": "2025-05-03T15:20:11.727643",
     "exception": false,
     "start_time": "2025-05-03T15:20:11.716866",
     "status": "completed"
    },
    "tags": []
   },
   "source": [
    "## Functions to generate and format the output\n",
    "\n",
    "We define a function to generate the answer."
   ]
  },
  {
   "cell_type": "code",
   "execution_count": 8,
   "id": "951954a9",
   "metadata": {
    "execution": {
     "iopub.execute_input": "2025-05-03T15:20:11.751142Z",
     "iopub.status.busy": "2025-05-03T15:20:11.750802Z",
     "iopub.status.idle": "2025-05-03T15:20:11.755900Z",
     "shell.execute_reply": "2025-05-03T15:20:11.755010Z"
    },
    "papermill": {
     "duration": 0.018688,
     "end_time": "2025-05-03T15:20:11.757381",
     "exception": false,
     "start_time": "2025-05-03T15:20:11.738693",
     "status": "completed"
    },
    "tags": []
   },
   "outputs": [],
   "source": [
    "def generate_answer(question, \n",
    "                    instructions=\"You are an AI that answers in short, complete sentences only.\\n\", \n",
    "                    max_length=40):\n",
    "    prompt = (\n",
    "        f\"{instructions}\"\n",
    "        \"Question: {question}\\n\"\n",
    "        \"Answer:\"\n",
    "    )\n",
    "    output = gemma_lm.generate(\n",
    "        prompt.format(question=question),\n",
    "        max_length=max_length, \n",
    "        stop_token_ids=[tokenizer.token_to_id(\"\\n\")]\n",
    "    )    \n",
    "    answer = output.replace(instructions, \"\").strip()\n",
    "    return answer"
   ]
  },
  {
   "cell_type": "markdown",
   "id": "d2f0ca17",
   "metadata": {
    "papermill": {
     "duration": 0.01102,
     "end_time": "2025-05-03T15:20:11.779916",
     "exception": false,
     "start_time": "2025-05-03T15:20:11.768896",
     "status": "completed"
    },
    "tags": []
   },
   "source": [
    "Next, we define a function to format the output."
   ]
  },
  {
   "cell_type": "code",
   "execution_count": 9,
   "id": "c73f7906",
   "metadata": {
    "execution": {
     "iopub.execute_input": "2025-05-03T15:20:11.803724Z",
     "iopub.status.busy": "2025-05-03T15:20:11.803375Z",
     "iopub.status.idle": "2025-05-03T15:20:11.808278Z",
     "shell.execute_reply": "2025-05-03T15:20:11.807343Z"
    },
    "papermill": {
     "duration": 0.018807,
     "end_time": "2025-05-03T15:20:11.809893",
     "exception": false,
     "start_time": "2025-05-03T15:20:11.791086",
     "status": "completed"
    },
    "tags": []
   },
   "outputs": [],
   "source": [
    "from IPython.display import display, Markdown\n",
    "\n",
    "def colorize_text(text):\n",
    "    for word, color in zip([\"Reasoning\", \"Question\", \"Answer\", \"Explanation\", \"Total time\"], [\"blue\", \"red\", \"green\", \"darkblue\",  \"magenta\"]):\n",
    "        text = text.replace(f\"{word}:\", f\"\\n\\n**<font color='{color}'>{word}:</font>**\")\n",
    "    return text"
   ]
  },
  {
   "cell_type": "markdown",
   "id": "c7a51bdd",
   "metadata": {
    "papermill": {
     "duration": 0.010956,
     "end_time": "2025-05-03T15:20:11.832598",
     "exception": false,
     "start_time": "2025-05-03T15:20:11.821642",
     "status": "completed"
    },
    "tags": []
   },
   "source": [
    "The following function combine both functions defined above."
   ]
  },
  {
   "cell_type": "code",
   "execution_count": 10,
   "id": "9ffd0955",
   "metadata": {
    "execution": {
     "iopub.execute_input": "2025-05-03T15:20:11.857484Z",
     "iopub.status.busy": "2025-05-03T15:20:11.857096Z",
     "iopub.status.idle": "2025-05-03T15:20:11.861756Z",
     "shell.execute_reply": "2025-05-03T15:20:11.860897Z"
    },
    "papermill": {
     "duration": 0.019465,
     "end_time": "2025-05-03T15:20:11.863302",
     "exception": false,
     "start_time": "2025-05-03T15:20:11.843837",
     "status": "completed"
    },
    "tags": []
   },
   "outputs": [],
   "source": [
    "def generate_format_answer(question, \n",
    "                    instructions=\"You are an AI that answers in short, complete sentences only.\\n\", \n",
    "                    max_length=40):\n",
    "    t = time()\n",
    "    answer = generate_answer(question, instructions, max_length)\n",
    "    display(Markdown(colorize_text(f\"{answer}\\n\\nTotal time: {round(time()-t, 2)} sec.\")))"
   ]
  },
  {
   "cell_type": "markdown",
   "id": "20742b56",
   "metadata": {
    "papermill": {
     "duration": 0.011223,
     "end_time": "2025-05-03T15:20:11.886083",
     "exception": false,
     "start_time": "2025-05-03T15:20:11.874860",
     "status": "completed"
    },
    "tags": []
   },
   "source": [
    "## Test the model with simple common knowledge questions\n",
    "\n",
    "Will ask questions from history, arts, general culture and politics."
   ]
  },
  {
   "cell_type": "code",
   "execution_count": 11,
   "id": "a4b34066",
   "metadata": {
    "execution": {
     "iopub.execute_input": "2025-05-03T15:20:11.910000Z",
     "iopub.status.busy": "2025-05-03T15:20:11.909659Z",
     "iopub.status.idle": "2025-05-03T15:20:15.479750Z",
     "shell.execute_reply": "2025-05-03T15:20:15.478508Z"
    },
    "papermill": {
     "duration": 3.584119,
     "end_time": "2025-05-03T15:20:15.481550",
     "exception": false,
     "start_time": "2025-05-03T15:20:11.897431",
     "status": "completed"
    },
    "tags": []
   },
   "outputs": [
    {
     "data": {
      "text/markdown": [
       "\n",
       "\n",
       "**<font color='red'>Question:</font>** When lived Alexander the Great?\n",
       "\n",
       "\n",
       "**<font color='green'>Answer:</font>** He lived in the 4th century BC.\n",
       "\n",
       "\n",
       "\n",
       "**<font color='magenta'>Total time:</font>** 3.56 sec."
      ],
      "text/plain": [
       "<IPython.core.display.Markdown object>"
      ]
     },
     "metadata": {},
     "output_type": "display_data"
    }
   ],
   "source": [
    "answer = generate_format_answer(\"When lived Alexander the Great?\")"
   ]
  },
  {
   "cell_type": "code",
   "execution_count": 12,
   "id": "90fd390d",
   "metadata": {
    "execution": {
     "iopub.execute_input": "2025-05-03T15:20:15.505823Z",
     "iopub.status.busy": "2025-05-03T15:20:15.505383Z",
     "iopub.status.idle": "2025-05-03T15:20:19.024191Z",
     "shell.execute_reply": "2025-05-03T15:20:19.023163Z"
    },
    "papermill": {
     "duration": 3.532876,
     "end_time": "2025-05-03T15:20:19.025908",
     "exception": false,
     "start_time": "2025-05-03T15:20:15.493032",
     "status": "completed"
    },
    "tags": []
   },
   "outputs": [
    {
     "data": {
      "text/markdown": [
       "\n",
       "\n",
       "**<font color='red'>Question:</font>** When lived Julius Caesar?\n",
       "\n",
       "\n",
       "**<font color='green'>Answer:</font>** He lived in the 1st century BC.\n",
       "\n",
       "\n",
       "\n",
       "**<font color='magenta'>Total time:</font>** 3.51 sec."
      ],
      "text/plain": [
       "<IPython.core.display.Markdown object>"
      ]
     },
     "metadata": {},
     "output_type": "display_data"
    }
   ],
   "source": [
    "answer = generate_format_answer(\"When lived Julius Caesar?\")"
   ]
  },
  {
   "cell_type": "code",
   "execution_count": 13,
   "id": "805f4fbf",
   "metadata": {
    "execution": {
     "iopub.execute_input": "2025-05-03T15:20:19.050626Z",
     "iopub.status.busy": "2025-05-03T15:20:19.050278Z",
     "iopub.status.idle": "2025-05-03T15:20:21.754427Z",
     "shell.execute_reply": "2025-05-03T15:20:21.753173Z"
    },
    "papermill": {
     "duration": 2.718696,
     "end_time": "2025-05-03T15:20:21.756273",
     "exception": false,
     "start_time": "2025-05-03T15:20:19.037577",
     "status": "completed"
    },
    "tags": []
   },
   "outputs": [
    {
     "data": {
      "text/markdown": [
       "\n",
       "\n",
       "**<font color='red'>Question:</font>** When was the 1st Crusade?\n",
       "\n",
       "\n",
       "**<font color='green'>Answer:</font>** 11th century.\n",
       "\n",
       "\n",
       "\n",
       "**<font color='magenta'>Total time:</font>** 2.7 sec."
      ],
      "text/plain": [
       "<IPython.core.display.Markdown object>"
      ]
     },
     "metadata": {},
     "output_type": "display_data"
    }
   ],
   "source": [
    "answer = generate_format_answer(\"When was the 1st Crusade?\")"
   ]
  },
  {
   "cell_type": "code",
   "execution_count": 14,
   "id": "5ad4e6cb",
   "metadata": {
    "execution": {
     "iopub.execute_input": "2025-05-03T15:20:21.781410Z",
     "iopub.status.busy": "2025-05-03T15:20:21.781012Z",
     "iopub.status.idle": "2025-05-03T15:20:24.598701Z",
     "shell.execute_reply": "2025-05-03T15:20:24.597727Z"
    },
    "papermill": {
     "duration": 2.832031,
     "end_time": "2025-05-03T15:20:24.600367",
     "exception": false,
     "start_time": "2025-05-03T15:20:21.768336",
     "status": "completed"
    },
    "tags": []
   },
   "outputs": [
    {
     "data": {
      "text/markdown": [
       "\n",
       "\n",
       "**<font color='red'>Question:</font>** When Henric VIII lived?\n",
       "\n",
       "\n",
       "**<font color='green'>Answer:</font>** 15th century.\n",
       "\n",
       "\n",
       "\n",
       "**<font color='magenta'>Total time:</font>** 2.81 sec."
      ],
      "text/plain": [
       "<IPython.core.display.Markdown object>"
      ]
     },
     "metadata": {},
     "output_type": "display_data"
    }
   ],
   "source": [
    "answer = generate_format_answer(\"When Henric VIII lived?\")"
   ]
  },
  {
   "cell_type": "markdown",
   "id": "5cd1cce1",
   "metadata": {
    "papermill": {
     "duration": 0.012261,
     "end_time": "2025-05-03T15:20:24.624540",
     "exception": false,
     "start_time": "2025-05-03T15:20:24.612279",
     "status": "completed"
    },
    "tags": []
   },
   "source": [
    "The answer is partially correct, he actually was born in 15th century, but lived most of his life in 16th century."
   ]
  },
  {
   "cell_type": "code",
   "execution_count": 15,
   "id": "cf7edeb1",
   "metadata": {
    "execution": {
     "iopub.execute_input": "2025-05-03T15:20:24.649091Z",
     "iopub.status.busy": "2025-05-03T15:20:24.648751Z",
     "iopub.status.idle": "2025-05-03T15:20:27.415086Z",
     "shell.execute_reply": "2025-05-03T15:20:27.413927Z"
    },
    "papermill": {
     "duration": 2.780792,
     "end_time": "2025-05-03T15:20:27.416861",
     "exception": false,
     "start_time": "2025-05-03T15:20:24.636069",
     "status": "completed"
    },
    "tags": []
   },
   "outputs": [
    {
     "data": {
      "text/markdown": [
       "\n",
       "\n",
       "**<font color='red'>Question:</font>** When started the rule of King Charles III?\n",
       "\n",
       "\n",
       "**<font color='green'>Answer:</font>** 2022\n",
       "\n",
       "---\n",
       "\n",
       "\n",
       "\n",
       "**<font color='magenta'>Total time:</font>** 2.76 sec."
      ],
      "text/plain": [
       "<IPython.core.display.Markdown object>"
      ]
     },
     "metadata": {},
     "output_type": "display_data"
    }
   ],
   "source": [
    "answer = generate_format_answer(\"When started the rule of King Charles III?\")"
   ]
  },
  {
   "cell_type": "code",
   "execution_count": 16,
   "id": "11c52756",
   "metadata": {
    "execution": {
     "iopub.execute_input": "2025-05-03T15:20:27.443147Z",
     "iopub.status.busy": "2025-05-03T15:20:27.442797Z",
     "iopub.status.idle": "2025-05-03T15:20:28.696748Z",
     "shell.execute_reply": "2025-05-03T15:20:28.695852Z"
    },
    "papermill": {
     "duration": 1.268959,
     "end_time": "2025-05-03T15:20:28.698490",
     "exception": false,
     "start_time": "2025-05-03T15:20:27.429531",
     "status": "completed"
    },
    "tags": []
   },
   "outputs": [
    {
     "data": {
      "text/markdown": [
       "\n",
       "\n",
       "**<font color='red'>Question:</font>** In what continent is Albania?\n",
       "\n",
       "\n",
       "**<font color='green'>Answer:</font>** Europe\n",
       "\n",
       "\n",
       "\n",
       "**<font color='magenta'>Total time:</font>** 1.25 sec."
      ],
      "text/plain": [
       "<IPython.core.display.Markdown object>"
      ]
     },
     "metadata": {},
     "output_type": "display_data"
    }
   ],
   "source": [
    "answer = generate_format_answer(\"In what continent is Albania?\")"
   ]
  },
  {
   "cell_type": "code",
   "execution_count": 17,
   "id": "7349d88e",
   "metadata": {
    "execution": {
     "iopub.execute_input": "2025-05-03T15:20:28.723539Z",
     "iopub.status.busy": "2025-05-03T15:20:28.723186Z",
     "iopub.status.idle": "2025-05-03T15:20:30.267937Z",
     "shell.execute_reply": "2025-05-03T15:20:30.266963Z"
    },
    "papermill": {
     "duration": 1.558954,
     "end_time": "2025-05-03T15:20:30.269455",
     "exception": false,
     "start_time": "2025-05-03T15:20:28.710501",
     "status": "completed"
    },
    "tags": []
   },
   "outputs": [
    {
     "data": {
      "text/markdown": [
       "\n",
       "\n",
       "**<font color='red'>Question:</font>** With which country in Asia has Europe border?\n",
       "\n",
       "\n",
       "**<font color='green'>Answer:</font>** Russia.\n",
       "\n",
       "\n",
       "\n",
       "**<font color='magenta'>Total time:</font>** 1.54 sec."
      ],
      "text/plain": [
       "<IPython.core.display.Markdown object>"
      ]
     },
     "metadata": {},
     "output_type": "display_data"
    }
   ],
   "source": [
    "answer = generate_format_answer(\"With which country in Asia has Europe border?\")"
   ]
  },
  {
   "cell_type": "code",
   "execution_count": 18,
   "id": "2efb70a6",
   "metadata": {
    "execution": {
     "iopub.execute_input": "2025-05-03T15:20:30.295312Z",
     "iopub.status.busy": "2025-05-03T15:20:30.294961Z",
     "iopub.status.idle": "2025-05-03T15:20:33.297230Z",
     "shell.execute_reply": "2025-05-03T15:20:33.296042Z"
    },
    "papermill": {
     "duration": 3.017424,
     "end_time": "2025-05-03T15:20:33.299003",
     "exception": false,
     "start_time": "2025-05-03T15:20:30.281579",
     "status": "completed"
    },
    "tags": []
   },
   "outputs": [
    {
     "data": {
      "text/markdown": [
       "\n",
       "\n",
       "**<font color='red'>Question:</font>** On what continents is Turkye?\n",
       "\n",
       "\n",
       "**<font color='green'>Answer:</font>** Turkey is located on Europe and Asia.\n",
       "\n",
       "\n",
       "\n",
       "**<font color='magenta'>Total time:</font>** 3.0 sec."
      ],
      "text/plain": [
       "<IPython.core.display.Markdown object>"
      ]
     },
     "metadata": {},
     "output_type": "display_data"
    }
   ],
   "source": [
    "answer = generate_format_answer(\"On what continents is Turkye?\")"
   ]
  },
  {
   "cell_type": "code",
   "execution_count": 19,
   "id": "dc88a37d",
   "metadata": {
    "execution": {
     "iopub.execute_input": "2025-05-03T15:20:33.324734Z",
     "iopub.status.busy": "2025-05-03T15:20:33.324382Z",
     "iopub.status.idle": "2025-05-03T15:20:35.341660Z",
     "shell.execute_reply": "2025-05-03T15:20:35.340610Z"
    },
    "papermill": {
     "duration": 2.031997,
     "end_time": "2025-05-03T15:20:35.343360",
     "exception": false,
     "start_time": "2025-05-03T15:20:33.311363",
     "status": "completed"
    },
    "tags": []
   },
   "outputs": [
    {
     "data": {
      "text/markdown": [
       "\n",
       "\n",
       "**<font color='red'>Question:</font>** What compound powers nuclear reactors?\n",
       "\n",
       "\n",
       "**<font color='green'>Answer:</font>** Uranium\n",
       "\n",
       "<end_of_turn><end_of_turn>\n",
       "\n",
       "\n",
       "\n",
       "**<font color='magenta'>Total time:</font>** 2.01 sec."
      ],
      "text/plain": [
       "<IPython.core.display.Markdown object>"
      ]
     },
     "metadata": {},
     "output_type": "display_data"
    }
   ],
   "source": [
    "answer = generate_format_answer(\"What compound powers nuclear reactors?\")"
   ]
  },
  {
   "cell_type": "code",
   "execution_count": 20,
   "id": "fe5d6027",
   "metadata": {
    "execution": {
     "iopub.execute_input": "2025-05-03T15:20:35.369891Z",
     "iopub.status.busy": "2025-05-03T15:20:35.369516Z",
     "iopub.status.idle": "2025-05-03T15:20:37.378351Z",
     "shell.execute_reply": "2025-05-03T15:20:37.377297Z"
    },
    "papermill": {
     "duration": 2.024253,
     "end_time": "2025-05-03T15:20:37.380149",
     "exception": false,
     "start_time": "2025-05-03T15:20:35.355896",
     "status": "completed"
    },
    "tags": []
   },
   "outputs": [
    {
     "data": {
      "text/markdown": [
       "\n",
       "\n",
       "**<font color='red'>Question:</font>** Who build the 1st atomic bomb?\n",
       "\n",
       "\n",
       "**<font color='green'>Answer:</font>** The United States.\n",
       "\n",
       "\n",
       "\n",
       "**<font color='magenta'>Total time:</font>** 2.0 sec."
      ],
      "text/plain": [
       "<IPython.core.display.Markdown object>"
      ]
     },
     "metadata": {},
     "output_type": "display_data"
    }
   ],
   "source": [
    "answer = generate_format_answer(\"Who build the 1st atomic bomb?\")"
   ]
  },
  {
   "cell_type": "code",
   "execution_count": 21,
   "id": "7cad12d7",
   "metadata": {
    "execution": {
     "iopub.execute_input": "2025-05-03T15:20:37.406698Z",
     "iopub.status.busy": "2025-05-03T15:20:37.406328Z",
     "iopub.status.idle": "2025-05-03T15:20:40.205427Z",
     "shell.execute_reply": "2025-05-03T15:20:40.204390Z"
    },
    "papermill": {
     "duration": 2.813939,
     "end_time": "2025-05-03T15:20:40.206983",
     "exception": false,
     "start_time": "2025-05-03T15:20:37.393044",
     "status": "completed"
    },
    "tags": []
   },
   "outputs": [
    {
     "data": {
      "text/markdown": [
       "\n",
       "\n",
       "**<font color='red'>Question:</font>** Who was the 46th president of United States?\n",
       "\n",
       "\n",
       "**<font color='green'>Answer:</font>** Joe Biden\n",
       "\n",
       "\n",
       "\n",
       "**<font color='red'>Question:</font>** What is the\n",
       "\n",
       "\n",
       "\n",
       "**<font color='magenta'>Total time:</font>** 2.79 sec."
      ],
      "text/plain": [
       "<IPython.core.display.Markdown object>"
      ]
     },
     "metadata": {},
     "output_type": "display_data"
    }
   ],
   "source": [
    "answer = generate_format_answer(\"Who was the 46th president of United States?\")"
   ]
  },
  {
   "cell_type": "markdown",
   "id": "8b13a780",
   "metadata": {
    "papermill": {
     "duration": 0.095387,
     "end_time": "2025-05-03T15:20:40.315453",
     "exception": false,
     "start_time": "2025-05-03T15:20:40.220066",
     "status": "completed"
    },
    "tags": []
   },
   "source": [
    "There is an issue here, it looks like the model is initiating a conversation or just dumps sequences of Q & A.\n",
    "\n",
    "Let's test the model for a bit more complex tasks."
   ]
  },
  {
   "cell_type": "markdown",
   "id": "f98de310",
   "metadata": {
    "papermill": {
     "duration": 0.012071,
     "end_time": "2025-05-03T15:20:40.340167",
     "exception": false,
     "start_time": "2025-05-03T15:20:40.328096",
     "status": "completed"
    },
    "tags": []
   },
   "source": [
    "## Test the model with simple arithmetics"
   ]
  },
  {
   "cell_type": "code",
   "execution_count": 22,
   "id": "a7fd310b",
   "metadata": {
    "execution": {
     "iopub.execute_input": "2025-05-03T15:20:40.367088Z",
     "iopub.status.busy": "2025-05-03T15:20:40.366751Z",
     "iopub.status.idle": "2025-05-03T15:20:42.878792Z",
     "shell.execute_reply": "2025-05-03T15:20:42.877771Z"
    },
    "papermill": {
     "duration": 2.527137,
     "end_time": "2025-05-03T15:20:42.880341",
     "exception": false,
     "start_time": "2025-05-03T15:20:40.353204",
     "status": "completed"
    },
    "tags": []
   },
   "outputs": [
    {
     "data": {
      "text/markdown": [
       "\n",
       "\n",
       "**<font color='red'>Question:</font>** What is 144 + 25?\n",
       "\n",
       "\n",
       "**<font color='green'>Answer:</font>** 169\n",
       "\n",
       "<end_of_turn>\n",
       "\n",
       "\n",
       "\n",
       "**<font color='magenta'>Total time:</font>** 2.51 sec."
      ],
      "text/plain": [
       "<IPython.core.display.Markdown object>"
      ]
     },
     "metadata": {},
     "output_type": "display_data"
    }
   ],
   "source": [
    "generate_format_answer(\"What is 144 + 25?\")"
   ]
  },
  {
   "cell_type": "code",
   "execution_count": 23,
   "id": "bdeeab76",
   "metadata": {
    "execution": {
     "iopub.execute_input": "2025-05-03T15:20:42.907306Z",
     "iopub.status.busy": "2025-05-03T15:20:42.906944Z",
     "iopub.status.idle": "2025-05-03T15:20:44.666432Z",
     "shell.execute_reply": "2025-05-03T15:20:44.665312Z"
    },
    "papermill": {
     "duration": 1.775035,
     "end_time": "2025-05-03T15:20:44.668110",
     "exception": false,
     "start_time": "2025-05-03T15:20:42.893075",
     "status": "completed"
    },
    "tags": []
   },
   "outputs": [
    {
     "data": {
      "text/markdown": [
       "\n",
       "\n",
       "**<font color='red'>Question:</font>** What is the square root of 169?\n",
       "\n",
       "\n",
       "**<font color='green'>Answer:</font>** 13\n",
       "\n",
       "\n",
       "\n",
       "**<font color='magenta'>Total time:</font>** 1.75 sec."
      ],
      "text/plain": [
       "<IPython.core.display.Markdown object>"
      ]
     },
     "metadata": {},
     "output_type": "display_data"
    }
   ],
   "source": [
    "generate_format_answer(\"What is the square root of 169?\")"
   ]
  },
  {
   "cell_type": "code",
   "execution_count": 24,
   "id": "0d4fa900",
   "metadata": {
    "execution": {
     "iopub.execute_input": "2025-05-03T15:20:44.694989Z",
     "iopub.status.busy": "2025-05-03T15:20:44.694650Z",
     "iopub.status.idle": "2025-05-03T15:20:48.208954Z",
     "shell.execute_reply": "2025-05-03T15:20:48.207917Z"
    },
    "papermill": {
     "duration": 3.529751,
     "end_time": "2025-05-03T15:20:48.210679",
     "exception": false,
     "start_time": "2025-05-03T15:20:44.680928",
     "status": "completed"
    },
    "tags": []
   },
   "outputs": [
    {
     "data": {
      "text/markdown": [
       "\n",
       "\n",
       "**<font color='red'>Question:</font>** What is the square of 14?\n",
       "\n",
       "\n",
       "**<font color='green'>Answer:</font>** 196\n",
       "\n",
       "\n",
       "\n",
       "**<font color='red'>Question:</font>** What is the sum\n",
       "\n",
       "\n",
       "\n",
       "**<font color='magenta'>Total time:</font>** 3.51 sec."
      ],
      "text/plain": [
       "<IPython.core.display.Markdown object>"
      ]
     },
     "metadata": {},
     "output_type": "display_data"
    }
   ],
   "source": [
    "generate_format_answer(\"What is the square of 14?\")"
   ]
  },
  {
   "cell_type": "markdown",
   "id": "9861a647",
   "metadata": {
    "papermill": {
     "duration": 0.012196,
     "end_time": "2025-05-03T15:20:48.235972",
     "exception": false,
     "start_time": "2025-05-03T15:20:48.223776",
     "status": "completed"
    },
    "tags": []
   },
   "source": [
    "Again, the model starts to dump Q & A sequences."
   ]
  },
  {
   "cell_type": "markdown",
   "id": "fe57ebc9",
   "metadata": {
    "papermill": {
     "duration": 0.012267,
     "end_time": "2025-05-03T15:20:48.260708",
     "exception": false,
     "start_time": "2025-05-03T15:20:48.248441",
     "status": "completed"
    },
    "tags": []
   },
   "source": [
    "## Test with more advanced math"
   ]
  },
  {
   "cell_type": "code",
   "execution_count": 25,
   "id": "c8702593",
   "metadata": {
    "execution": {
     "iopub.execute_input": "2025-05-03T15:20:48.287015Z",
     "iopub.status.busy": "2025-05-03T15:20:48.286688Z",
     "iopub.status.idle": "2025-05-03T15:20:48.290496Z",
     "shell.execute_reply": "2025-05-03T15:20:48.289530Z"
    },
    "papermill": {
     "duration": 0.018819,
     "end_time": "2025-05-03T15:20:48.292092",
     "exception": false,
     "start_time": "2025-05-03T15:20:48.273273",
     "status": "completed"
    },
    "tags": []
   },
   "outputs": [],
   "source": [
    "prompt = \"\"\"\n",
    "You are an AI assistant designed to solve math problems.\n",
    "Answer to the problem. Only when needed, include reasoning.\n",
    "Question: {question}\n",
    "Answer:\n",
    "\"\"\""
   ]
  },
  {
   "cell_type": "code",
   "execution_count": 26,
   "id": "460ee6e5",
   "metadata": {
    "execution": {
     "iopub.execute_input": "2025-05-03T15:20:48.318134Z",
     "iopub.status.busy": "2025-05-03T15:20:48.317819Z",
     "iopub.status.idle": "2025-05-03T15:22:16.311990Z",
     "shell.execute_reply": "2025-05-03T15:22:16.310960Z"
    },
    "papermill": {
     "duration": 88.022144,
     "end_time": "2025-05-03T15:22:16.326653",
     "exception": false,
     "start_time": "2025-05-03T15:20:48.304509",
     "status": "completed"
    },
    "tags": []
   },
   "outputs": [
    {
     "data": {
      "text/markdown": [
       "\n",
       "You are an AI assistant designed to solve math problems.\n",
       "Answer to the problem. Only when needed, include reasoning.\n",
       "\n",
       "\n",
       "**<font color='red'>Question:</font>** Eduard and John are brothers. \n",
       "    They split 10 apples.\n",
       "    Eduard has 2 more apples than John. \n",
       "    How many apples have each?\n",
       "\n",
       "\n",
       "**<font color='green'>Answer:</font>**\n",
       "Let's solve this problem step by step.\n",
       "Let $E$ be the number of apples Eduard has and $J$ be the number of apples John has.\n",
       "We are given that they split 10 apples, so $E + J = 10$.\n",
       "We are also given that Eduard has 2 more apples than John, so $E = J + 2$.\n",
       "Now we can substitute the second equation into the first equation:\n",
       "$(J + 2) + J = 10$\n",
       "$2J + 2 = 10$\n",
       "$2J = 8$\n",
       "$J = 4$\n",
       "Now we can find the number of apples Eduard has:\n",
       "$E = J + 2 = 4 + 2 = 6$\n",
       "So Eduard has 6 apples and John has 4 apples.\n",
       "We can check our answer:\n",
       "$E + J = 6 + 4 = 10$\n",
       "$E = J + 2 \\Rightarrow 6 = 4 + 2$, which is true.\n",
       "Final \n",
       "\n",
       "**<font color='green'>Answer:</font>** The final answer is $\\boxed{6, 4}$<end_of_turn>\n",
       "\n",
       "\n",
       "\n",
       "**<font color='magenta'>Total time:</font>** 87.99 sec."
      ],
      "text/plain": [
       "<IPython.core.display.Markdown object>"
      ]
     },
     "metadata": {},
     "output_type": "display_data"
    }
   ],
   "source": [
    "t = time()\n",
    "response = gemma_lm.generate(prompt.format(\n",
    "    question=\"\"\"Eduard and John are brothers. \n",
    "    They split 10 apples.\n",
    "    Eduard has 2 more apples than John. \n",
    "    How many apples have each?\"\"\"), \n",
    "    max_length=400)\n",
    "display(Markdown(colorize_text(f\"{response}\\n\\nTotal time: {round(time()-t, 2)} sec.\")))"
   ]
  },
  {
   "cell_type": "code",
   "execution_count": 27,
   "id": "d14c97f2",
   "metadata": {
    "execution": {
     "iopub.execute_input": "2025-05-03T15:22:16.354456Z",
     "iopub.status.busy": "2025-05-03T15:22:16.354061Z",
     "iopub.status.idle": "2025-05-03T15:23:43.755067Z",
     "shell.execute_reply": "2025-05-03T15:23:43.753966Z"
    },
    "papermill": {
     "duration": 87.429185,
     "end_time": "2025-05-03T15:23:43.769376",
     "exception": false,
     "start_time": "2025-05-03T15:22:16.340191",
     "status": "completed"
    },
    "tags": []
   },
   "outputs": [
    {
     "data": {
      "text/markdown": [
       "\n",
       "You are an AI assistant designed to solve math problems.\n",
       "Answer to the problem. Only when needed, include reasoning.\n",
       "\n",
       "\n",
       "**<font color='red'>Question:</font>** 2x + 5y = 12\n",
       "                2y - x = 3\n",
       "                Solve the equation for x and y. \n",
       "                Hint: simplify first x.\n",
       "\n",
       "\n",
       "**<font color='green'>Answer:</font>**\n",
       "x = 3\n",
       "y = 2\n",
       "\n",
       "\n",
       "**<font color='darkblue'>Explanation:</font>**\n",
       "The given equations are:\n",
       "2x + 5y = 12\n",
       "2y - x = 3\n",
       "We can solve this system of equations by substitution.\n",
       "From the second equation, we can solve for x:\n",
       "2y - x = 3\n",
       "x = 2y - 3\n",
       "Substitute this expression for x into the first equation:\n",
       "2(2y - 3) + 5y = 12\n",
       "4y - 6 + 5y = 12\n",
       "9y - 6 = 12\n",
       "9y = 18\n",
       "y = 2\n",
       "Now, substitute y = 2 into the equation x = 2y - 3:\n",
       "x = 2(2) - 3\n",
       "x = 4 - 3\n",
       "x = 1\n",
       "Therefore, x = 1 and y = 2.\n",
       "The solution is x = 1, y = 2.\n",
       "Final \n",
       "\n",
       "**<font color='green'>Answer:</font>** The final answer is 1, 2.\n",
       "<end_of_turn>\n",
       "\n",
       "\n",
       "\n",
       "**<font color='magenta'>Total time:</font>** 87.39 sec."
      ],
      "text/plain": [
       "<IPython.core.display.Markdown object>"
      ]
     },
     "metadata": {},
     "output_type": "display_data"
    }
   ],
   "source": [
    "t = time()\n",
    "response = gemma_lm.generate(prompt.format(\n",
    "    question=\"\"\"2x + 5y = 12\n",
    "                2y - x = 3\n",
    "                Solve the equation for x and y. \n",
    "                Hint: simplify first x.\"\"\"), \n",
    "    max_length=512)\n",
    "display(Markdown(colorize_text(f\"{response}\\n\\nTotal time: {round(time()-t, 2)} sec.\")))"
   ]
  },
  {
   "cell_type": "code",
   "execution_count": 28,
   "id": "f2e4f1c3",
   "metadata": {
    "execution": {
     "iopub.execute_input": "2025-05-03T15:23:43.796755Z",
     "iopub.status.busy": "2025-05-03T15:23:43.796393Z",
     "iopub.status.idle": "2025-05-03T15:25:09.469166Z",
     "shell.execute_reply": "2025-05-03T15:25:09.467374Z"
    },
    "papermill": {
     "duration": 85.705054,
     "end_time": "2025-05-03T15:25:09.487413",
     "exception": false,
     "start_time": "2025-05-03T15:23:43.782359",
     "status": "completed"
    },
    "tags": []
   },
   "outputs": [
    {
     "data": {
      "text/markdown": [
       "\n",
       "You are an AI assistant designed to solve math problems.\n",
       "Answer to the problem. Only when needed, include reasoning.\n",
       "\n",
       "\n",
       "**<font color='red'>Question:</font>** x^2 -5x + 6 = 0\n",
       "                Solve the equation for x. \n",
       "                \n",
       "\n",
       "\n",
       "**<font color='green'>Answer:</font>**\n",
       "The equation is a quadratic equation in the form ax^2 + bx + c = 0.\n",
       "In this case, a = 1, b = -5, and c = 6.\n",
       "We can use the quadratic formula to solve for x:\n",
       "x = (-b ± √(b^2 - 4ac)) / 2a\n",
       "Plugging in the values, we get:\n",
       "x = (-(-5) ± √((-5)^2 - 4 * 1 * 6)) / (2 * 1)\n",
       "x = (5 ± √(25 - 24)) / 2\n",
       "x = (5 ± √1) / 2\n",
       "x = (5 ± 1) / 2\n",
       "x1 = (5 + 1) / 2 = 6 / 2 = 3\n",
       "x2 = (5 - 1) / 2 = 4 / 2 = 2\n",
       "Therefore, the solutions are x = 3 and x = 2.\n",
       "The solutions are x =\n",
       "\n",
       "\n",
       "\n",
       "**<font color='magenta'>Total time:</font>** 85.66 sec."
      ],
      "text/plain": [
       "<IPython.core.display.Markdown object>"
      ]
     },
     "metadata": {},
     "output_type": "display_data"
    }
   ],
   "source": [
    "t = time()\n",
    "response = gemma_lm.generate(prompt.format(\n",
    "    question=\"\"\"x^2 -5x + 6 = 0\n",
    "                Solve the equation for x. \n",
    "                \"\"\"), \n",
    "    max_length=275)\n",
    "display(Markdown(colorize_text(f\"{response}\\n\\nTotal time: {round(time()-t, 2)} sec.\")))"
   ]
  },
  {
   "cell_type": "markdown",
   "id": "424f1b95",
   "metadata": {
    "papermill": {
     "duration": 0.013055,
     "end_time": "2025-05-03T15:25:09.514624",
     "exception": false,
     "start_time": "2025-05-03T15:25:09.501569",
     "status": "completed"
    },
    "tags": []
   },
   "source": [
    "## Write code\n",
    "\n",
    "Let's test the model for writing code."
   ]
  },
  {
   "cell_type": "markdown",
   "id": "11c3339c",
   "metadata": {
    "papermill": {
     "duration": 0.013971,
     "end_time": "2025-05-03T15:25:09.541810",
     "exception": false,
     "start_time": "2025-05-03T15:25:09.527839",
     "status": "completed"
    },
    "tags": []
   },
   "source": [
    "### Python code"
   ]
  },
  {
   "cell_type": "code",
   "execution_count": 29,
   "id": "209bdce3",
   "metadata": {
    "execution": {
     "iopub.execute_input": "2025-05-03T15:25:09.570204Z",
     "iopub.status.busy": "2025-05-03T15:25:09.569829Z",
     "iopub.status.idle": "2025-05-03T15:25:09.574482Z",
     "shell.execute_reply": "2025-05-03T15:25:09.573495Z"
    },
    "papermill": {
     "duration": 0.021159,
     "end_time": "2025-05-03T15:25:09.576163",
     "exception": false,
     "start_time": "2025-05-03T15:25:09.555004",
     "status": "completed"
    },
    "tags": []
   },
   "outputs": [],
   "source": [
    "prompt = \"\"\"\n",
    "You are an AI assistant designed to write simple Python code.\n",
    "Please answer with the listing of the Python code.\n",
    "Make sure to format the output using correct Markdown for code.\n",
    "Question: {question}\n",
    "Answer:\n",
    "\"\"\""
   ]
  },
  {
   "cell_type": "code",
   "execution_count": 30,
   "id": "8b6b5c1c",
   "metadata": {
    "execution": {
     "iopub.execute_input": "2025-05-03T15:25:09.603834Z",
     "iopub.status.busy": "2025-05-03T15:25:09.603478Z",
     "iopub.status.idle": "2025-05-03T15:25:52.097498Z",
     "shell.execute_reply": "2025-05-03T15:25:52.096386Z"
    },
    "papermill": {
     "duration": 42.522637,
     "end_time": "2025-05-03T15:25:52.112073",
     "exception": false,
     "start_time": "2025-05-03T15:25:09.589436",
     "status": "completed"
    },
    "tags": []
   },
   "outputs": [
    {
     "data": {
      "text/markdown": [
       "\n",
       "You are an AI assistant designed to write simple Python code.\n",
       "Please answer with the listing of the Python code.\n",
       "Make sure to format the output using correct Markdown for code.\n",
       "\n",
       "\n",
       "**<font color='red'>Question:</font>** Please write a function in Python to calculate the area of a square with edge 'a'\n",
       "\n",
       "\n",
       "**<font color='green'>Answer:</font>**\n",
       "```python\n",
       "def calculate_square_area(a):\n",
       "    \"\"\"\n",
       "    Calculate the area of a square with edge 'a'.\n",
       "\n",
       "    Args:\n",
       "        a: The length of the side of the square.\n",
       "\n",
       "    Returns:\n",
       "        The area of the square.\n",
       "    \"\"\"\n",
       "    area = a * a\n",
       "    return area\n",
       "```\n",
       "<end_of_turn>\n",
       "\n",
       "\n",
       "\n",
       "**<font color='magenta'>Total time:</font>** 42.49 sec."
      ],
      "text/plain": [
       "<IPython.core.display.Markdown object>"
      ]
     },
     "metadata": {},
     "output_type": "display_data"
    }
   ],
   "source": [
    "t = time()\n",
    "response = gemma_lm.generate(prompt.format(question=\"Please write a function in Python to calculate the area of a square with edge 'a'\"), \n",
    "                             max_length=256)\n",
    "display(Markdown(colorize_text(f\"{response}\\n\\nTotal time: {round(time()-t, 2)} sec.\")))"
   ]
  },
  {
   "cell_type": "code",
   "execution_count": 31,
   "id": "638ad752",
   "metadata": {
    "execution": {
     "iopub.execute_input": "2025-05-03T15:25:52.140241Z",
     "iopub.status.busy": "2025-05-03T15:25:52.139869Z",
     "iopub.status.idle": "2025-05-03T15:26:15.703956Z",
     "shell.execute_reply": "2025-05-03T15:26:15.702796Z"
    },
    "papermill": {
     "duration": 23.580509,
     "end_time": "2025-05-03T15:26:15.705900",
     "exception": false,
     "start_time": "2025-05-03T15:25:52.125391",
     "status": "completed"
    },
    "tags": []
   },
   "outputs": [
    {
     "data": {
      "text/markdown": [
       "\n",
       "You are an AI assistant designed to write simple Python code.\n",
       "Please answer with the listing of the Python code.\n",
       "Make sure to format the output using correct Markdown for code.\n",
       "\n",
       "\n",
       "**<font color='red'>Question:</font>** Write a function in Python to calculate the area of a circle of radius r\n",
       "\n",
       "\n",
       "**<font color='green'>Answer:</font>**\n",
       "```python\n",
       "import math\n",
       "\n",
       "def calculate_circle_area(r):\n",
       "  \"\"\"\n",
       "  Calculate the area of a circle.\n",
       "\n",
       "  Args:\n",
       "    r: The radius of the circle.\n",
       "\n",
       "  Returns:\n",
       "    The area of the circle.\n",
       "  \"\"\"\n",
       "  area = math.pi * r**2\n",
       "  return area\n",
       "```\n",
       "<end_of_turn>\n",
       "\n",
       "\n",
       "\n",
       "**<font color='magenta'>Total time:</font>** 23.56 sec."
      ],
      "text/plain": [
       "<IPython.core.display.Markdown object>"
      ]
     },
     "metadata": {},
     "output_type": "display_data"
    }
   ],
   "source": [
    "t = time()\n",
    "response = gemma_lm.generate(prompt.format(question=\"Write a function in Python to calculate the area of a circle of radius r\"), \n",
    "                             max_length=256)\n",
    "display(Markdown(colorize_text(f\"{response}\\n\\nTotal time: {round(time()-t, 2)} sec.\")))"
   ]
  },
  {
   "cell_type": "code",
   "execution_count": 32,
   "id": "689668f3",
   "metadata": {
    "execution": {
     "iopub.execute_input": "2025-05-03T15:26:15.735660Z",
     "iopub.status.busy": "2025-05-03T15:26:15.735261Z",
     "iopub.status.idle": "2025-05-03T15:27:07.567243Z",
     "shell.execute_reply": "2025-05-03T15:27:07.566139Z"
    },
    "papermill": {
     "duration": 51.863477,
     "end_time": "2025-05-03T15:27:07.583495",
     "exception": false,
     "start_time": "2025-05-03T15:26:15.720018",
     "status": "completed"
    },
    "tags": []
   },
   "outputs": [
    {
     "data": {
      "text/markdown": [
       "\n",
       "You are an AI assistant designed to write simple Python code.\n",
       "Please answer with the listing of the Python code.\n",
       "Make sure to format the output using correct Markdown for code.\n",
       "\n",
       "\n",
       "**<font color='red'>Question:</font>** Write a function in Python to calculate cosine similarity of two vectors.\n",
       "\n",
       "\n",
       "**<font color='green'>Answer:</font>**\n",
       "```python\n",
       "import numpy as np\n",
       "\n",
       "def cosine_similarity(vec1, vec2):\n",
       "    \"\"\"\n",
       "    Calculate the cosine similarity of two vectors.\n",
       "\n",
       "    Args:\n",
       "        vec1 (numpy.ndarray): The first vector.\n",
       "        vec2 (numpy.ndarray): The second vector.\n",
       "\n",
       "    Returns:\n",
       "        float: The cosine similarity of the two vectors.\n",
       "    \"\"\"\n",
       "    dot_product = np.dot(vec1, vec2)\n",
       "    magnitude_vec1 = np.linalg.norm(vec1)\n",
       "    magnitude_vec2 = np.linalg.norm(vec2)\n",
       "    if magnitude_vec1 == 0 or magnitude_vec2 == 0:\n",
       "        return 0.0\n",
       "    return dot_product / (magnitude_vec1 * magnitude_vec2)\n",
       "```\n",
       "<end_of_turn>\n",
       "\n",
       "\n",
       "\n",
       "**<font color='magenta'>Total time:</font>** 51.83 sec."
      ],
      "text/plain": [
       "<IPython.core.display.Markdown object>"
      ]
     },
     "metadata": {},
     "output_type": "display_data"
    }
   ],
   "source": [
    "t = time()\n",
    "response = gemma_lm.generate(prompt.format(question=\"Write a function in Python to calculate cosine similarity of two vectors.\"), \n",
    "                             max_length=256)\n",
    "display(Markdown(colorize_text(f\"{response}\\n\\nTotal time: {round(time()-t, 2)} sec.\")))"
   ]
  },
  {
   "cell_type": "markdown",
   "id": "8f686a55",
   "metadata": {
    "papermill": {
     "duration": 0.0133,
     "end_time": "2025-05-03T15:27:07.610780",
     "exception": false,
     "start_time": "2025-05-03T15:27:07.597480",
     "status": "completed"
    },
    "tags": []
   },
   "source": [
    "The code is correct, carefully documented and clean for all the examples above."
   ]
  },
  {
   "cell_type": "markdown",
   "id": "e6ce0d16",
   "metadata": {
    "papermill": {
     "duration": 0.013349,
     "end_time": "2025-05-03T15:27:07.637691",
     "exception": false,
     "start_time": "2025-05-03T15:27:07.624342",
     "status": "completed"
    },
    "tags": []
   },
   "source": [
    "### C++ code\n",
    "\n",
    "Let's test now the model with writing C++ code."
   ]
  },
  {
   "cell_type": "code",
   "execution_count": 33,
   "id": "23b5b380",
   "metadata": {
    "execution": {
     "iopub.execute_input": "2025-05-03T15:27:07.666598Z",
     "iopub.status.busy": "2025-05-03T15:27:07.666172Z",
     "iopub.status.idle": "2025-05-03T15:27:07.670553Z",
     "shell.execute_reply": "2025-05-03T15:27:07.669530Z"
    },
    "papermill": {
     "duration": 0.02107,
     "end_time": "2025-05-03T15:27:07.672506",
     "exception": false,
     "start_time": "2025-05-03T15:27:07.651436",
     "status": "completed"
    },
    "tags": []
   },
   "outputs": [],
   "source": [
    "prompt = \"\"\"\n",
    "You are an AI assistant designed to write simple C++ code.\n",
    "Please answer with the listing of the C++ code.\n",
    "Make sure to format the output using correct Markdown for code.\n",
    "Question: {question}\n",
    "Answer:\n",
    "\"\"\""
   ]
  },
  {
   "cell_type": "code",
   "execution_count": 34,
   "id": "052229f2",
   "metadata": {
    "execution": {
     "iopub.execute_input": "2025-05-03T15:27:07.702148Z",
     "iopub.status.busy": "2025-05-03T15:27:07.701811Z",
     "iopub.status.idle": "2025-05-03T15:28:16.053439Z",
     "shell.execute_reply": "2025-05-03T15:28:16.052404Z"
    },
    "papermill": {
     "duration": 68.381739,
     "end_time": "2025-05-03T15:28:16.068594",
     "exception": false,
     "start_time": "2025-05-03T15:27:07.686855",
     "status": "completed"
    },
    "tags": []
   },
   "outputs": [
    {
     "data": {
      "text/markdown": [
       "\n",
       "You are an AI assistant designed to write simple C++ code.\n",
       "Please answer with the listing of the C++ code.\n",
       "Make sure to format the output using correct Markdown for code.\n",
       "\n",
       "\n",
       "**<font color='red'>Question:</font>** Write a C++ function to calculate linear product of two vectors.\n",
       "\n",
       "\n",
       "**<font color='green'>Answer:</font>**\n",
       "```cpp\n",
       "#include <iostream>\n",
       "#include <vector>\n",
       "\n",
       "using namespace std;\n",
       "\n",
       "// Function to calculate the product of two vectors\n",
       "vector<int> productOfVectors(const vector<int>& vec1, const vector<int>& vec2) {\n",
       "  vector<int> result;\n",
       "  for (int i = 0; i < vec1.size(); ++i) {\n",
       "    result.push_back(vec1[i] * vec2[i]);\n",
       "  }\n",
       "  return result;\n",
       "}\n",
       "\n",
       "int main() {\n",
       "  vector<int> v1 = {1, 2, 3};\n",
       "  vector<int> v2 = {4, 5, 6};\n",
       "  vector<int> product = productOfVectors(v1, v2);\n",
       "  cout << \"Product: \";\n",
       "  for (int i = 0; i < product.size(); ++i) {\n",
       "    cout << product[i] << \" \";\n",
       "  }\n",
       "  cout << endl;\n",
       "  return 0;\n",
       "}\n",
       "```\n",
       "<end_of_turn>\n",
       "\n",
       "\n",
       "\n",
       "**<font color='magenta'>Total time:</font>** 68.35 sec."
      ],
      "text/plain": [
       "<IPython.core.display.Markdown object>"
      ]
     },
     "metadata": {},
     "output_type": "display_data"
    }
   ],
   "source": [
    "t = time()\n",
    "response = gemma_lm.generate(prompt.format(question=\"Write a C++ function to calculate linear product of two vectors.\"), \n",
    "                             max_length=400)\n",
    "display(Markdown(colorize_text(f\"{response}\\n\\nTotal time: {round(time()-t, 2)} sec.\")))"
   ]
  },
  {
   "cell_type": "markdown",
   "id": "d15c8702",
   "metadata": {
    "papermill": {
     "duration": 0.013337,
     "end_time": "2025-05-03T15:28:16.095669",
     "exception": false,
     "start_time": "2025-05-03T15:28:16.082332",
     "status": "completed"
    },
    "tags": []
   },
   "source": [
    "### Java code\n",
    "\n",
    "Let's test now the model with writing Java code."
   ]
  },
  {
   "cell_type": "code",
   "execution_count": 35,
   "id": "a1873616",
   "metadata": {
    "execution": {
     "iopub.execute_input": "2025-05-03T15:28:16.124103Z",
     "iopub.status.busy": "2025-05-03T15:28:16.123760Z",
     "iopub.status.idle": "2025-05-03T15:28:16.127697Z",
     "shell.execute_reply": "2025-05-03T15:28:16.126827Z"
    },
    "papermill": {
     "duration": 0.020015,
     "end_time": "2025-05-03T15:28:16.129153",
     "exception": false,
     "start_time": "2025-05-03T15:28:16.109138",
     "status": "completed"
    },
    "tags": []
   },
   "outputs": [],
   "source": [
    "prompt = \"\"\"\n",
    "You are an AI assistant designed to write simple Java code.\n",
    "Please answer with the listing of the Java code.\n",
    "Make sure to format the output using correct Markdown for code.\n",
    "Question: {question}\n",
    "Answer:\n",
    "\"\"\""
   ]
  },
  {
   "cell_type": "code",
   "execution_count": 36,
   "id": "c4b30706",
   "metadata": {
    "execution": {
     "iopub.execute_input": "2025-05-03T15:28:16.158159Z",
     "iopub.status.busy": "2025-05-03T15:28:16.157836Z",
     "iopub.status.idle": "2025-05-03T15:29:08.071389Z",
     "shell.execute_reply": "2025-05-03T15:29:08.070328Z"
    },
    "papermill": {
     "duration": 51.942105,
     "end_time": "2025-05-03T15:29:08.085285",
     "exception": false,
     "start_time": "2025-05-03T15:28:16.143180",
     "status": "completed"
    },
    "tags": []
   },
   "outputs": [
    {
     "data": {
      "text/markdown": [
       "\n",
       "You are an AI assistant designed to write simple Java code.\n",
       "Please answer with the listing of the Java code.\n",
       "Make sure to format the output using correct Markdown for code.\n",
       "\n",
       "\n",
       "**<font color='red'>Question:</font>** Write a Java function to calculate the largest number in an array.\n",
       "\n",
       "\n",
       "**<font color='green'>Answer:</font>**\n",
       "```java\n",
       "import java.util.Arrays;\n",
       "\n",
       "class Solution {\n",
       "    /**\n",
       "     * Calculates the largest number in an array.\n",
       "     *\n",
       "     * @param arr The array of numbers.\n",
       "     * @return The largest number in the array.\n",
       "     */\n",
       "    public int findLargestNumber(int[] arr) {\n",
       "        if (arr == null || arr.length == 0) {\n",
       "            throw new IllegalArgumentException(\"Array cannot be null or empty.\");\n",
       "        }\n",
       "        int largest = arr[0];\n",
       "        for (int i = 1; i < arr.length; i++) {\n",
       "            if (arr[i] > largest) {\n",
       "                largest = arr[i];\n",
       "            }\n",
       "        }\n",
       "        return largest;\n",
       "    }\n",
       "}\n",
       "```\n",
       "<end_of_turn>\n",
       "\n",
       "\n",
       "\n",
       "**<font color='magenta'>Total time:</font>** 51.9 sec."
      ],
      "text/plain": [
       "<IPython.core.display.Markdown object>"
      ]
     },
     "metadata": {},
     "output_type": "display_data"
    }
   ],
   "source": [
    "t = time()\n",
    "response = gemma_lm.generate(prompt.format(question=\"Write a Java function to calculate the largest number in an array.\"), \n",
    "                             max_length=400)\n",
    "display(Markdown(colorize_text(f\"{response}\\n\\nTotal time: {round(time()-t, 2)} sec.\")))"
   ]
  },
  {
   "cell_type": "markdown",
   "id": "aace0bb0",
   "metadata": {
    "papermill": {
     "duration": 0.013572,
     "end_time": "2025-05-03T15:29:08.112598",
     "exception": false,
     "start_time": "2025-05-03T15:29:08.099026",
     "status": "completed"
    },
    "tags": []
   },
   "source": [
    "### Fortran code\n",
    "\n",
    "\n",
    "Let's test the model for writing Fortran code."
   ]
  },
  {
   "cell_type": "code",
   "execution_count": 37,
   "id": "ead5f328",
   "metadata": {
    "execution": {
     "iopub.execute_input": "2025-05-03T15:29:08.141252Z",
     "iopub.status.busy": "2025-05-03T15:29:08.140881Z",
     "iopub.status.idle": "2025-05-03T15:29:08.144932Z",
     "shell.execute_reply": "2025-05-03T15:29:08.143977Z"
    },
    "papermill": {
     "duration": 0.020323,
     "end_time": "2025-05-03T15:29:08.146567",
     "exception": false,
     "start_time": "2025-05-03T15:29:08.126244",
     "status": "completed"
    },
    "tags": []
   },
   "outputs": [],
   "source": [
    "prompt = \"\"\"\n",
    "You are an AI assistant designed to write simple Fortran code.\n",
    "Please answer with the listing of the Fortran code.\n",
    "Make sure to format the output using correct Markdown for code.\n",
    "Question: {question}\n",
    "Answer:\n",
    "\"\"\""
   ]
  },
  {
   "cell_type": "code",
   "execution_count": 38,
   "id": "4edd94c1",
   "metadata": {
    "execution": {
     "iopub.execute_input": "2025-05-03T15:29:08.175915Z",
     "iopub.status.busy": "2025-05-03T15:29:08.175562Z",
     "iopub.status.idle": "2025-05-03T15:29:41.395144Z",
     "shell.execute_reply": "2025-05-03T15:29:41.394074Z"
    },
    "papermill": {
     "duration": 33.249123,
     "end_time": "2025-05-03T15:29:41.409905",
     "exception": false,
     "start_time": "2025-05-03T15:29:08.160782",
     "status": "completed"
    },
    "tags": []
   },
   "outputs": [
    {
     "data": {
      "text/markdown": [
       "\n",
       "You are an AI assistant designed to write simple Fortran code.\n",
       "Please answer with the listing of the Fortran code.\n",
       "Make sure to format the output using correct Markdown for code.\n",
       "\n",
       "\n",
       "**<font color='red'>Question:</font>** Write an Fortran function to calculate the area of a circle.\n",
       "\n",
       "\n",
       "**<font color='green'>Answer:</font>**\n",
       "```fortran\n",
       "PROGRAM CircleArea\n",
       "\n",
       "INTEGER radius, angle\n",
       "\n",
       "DO i = 1, 10\n",
       "  radius = radius * 2.0\n",
       "  angle = angle * 3.141592653589793\n",
       "  area = pi * radius * radius\n",
       "  PRINT *, \"Radius: \", radius, \" Angle: \", angle, \" Area: \", area\n",
       "END DO\n",
       "\n",
       "END\n",
       "```\n",
       "<end_of_turn>\n",
       "\n",
       "\n",
       "\n",
       "**<font color='magenta'>Total time:</font>** 33.21 sec."
      ],
      "text/plain": [
       "<IPython.core.display.Markdown object>"
      ]
     },
     "metadata": {},
     "output_type": "display_data"
    }
   ],
   "source": [
    "t = time()\n",
    "response = gemma_lm.generate(prompt.format(question=\"Write an Fortran function to calculate the area of a circle.\"), \n",
    "                             max_length=512)\n",
    "display(Markdown(colorize_text(f\"{response}\\n\\nTotal time: {round(time()-t, 2)} sec.\")))"
   ]
  },
  {
   "cell_type": "markdown",
   "id": "5961ad77",
   "metadata": {
    "papermill": {
     "duration": 0.01461,
     "end_time": "2025-05-03T15:29:41.438722",
     "exception": false,
     "start_time": "2025-05-03T15:29:41.424112",
     "status": "completed"
    },
    "tags": []
   },
   "source": [
    "# Conclusions\n",
    "\n",
    "\n",
    "We tested the Gemma 3 instruct 1B model from Google DeepMind on CPU-only machine.  \n",
    "This is a very powerful model that proved to be quite proficient with simple history, geography and general knowledge questions.  \n",
    "We tested then with arithmetics and answered correctly.  \n",
    "When prompted to solve simple math equations, it also went well.  \n",
    "It performed quite well with code writing, we tested it for Python, C++, and Java.  \n",
    "We also tested it for writing Fortran code but the result doesn't seems correct.\n",
    "\n",
    "# Suggestions to continue the work\n",
    "\n",
    "You can continue this work. Here are few suggestions:\n",
    "* Run the same code on GPU. You will see a major improvement of speed.\n",
    "* Quantize the model. From 1GB, you will be able to reduce the model size and run it (with acceptable performance degradation on a mobile platform or even on edge).\n",
    "* Find other user cases.\n",
    "* Include the model in a Retrieval Augmented Generation system.\n",
    "* Fine-tune the model for a specific task.\n",
    "* Combine fine-tuning with quantization to obtain a compact, adapted model for your own task.\n"
   ]
  }
 ],
 "metadata": {
  "kaggle": {
   "accelerator": "none",
   "dataSources": [
    {
     "modelId": 279036,
     "modelInstanceId": 257759,
     "sourceId": 316994,
     "sourceType": "modelInstanceVersion"
    }
   ],
   "dockerImageVersionId": 30918,
   "isGpuEnabled": false,
   "isInternetEnabled": true,
   "language": "python",
   "sourceType": "notebook"
  },
  "kernelspec": {
   "display_name": "Python 3",
   "language": "python",
   "name": "python3"
  },
  "language_info": {
   "codemirror_mode": {
    "name": "ipython",
    "version": 3
   },
   "file_extension": ".py",
   "mimetype": "text/x-python",
   "name": "python",
   "nbconvert_exporter": "python",
   "pygments_lexer": "ipython3",
   "version": "3.10.12"
  },
  "papermill": {
   "default_parameters": {},
   "duration": 667.986155,
   "end_time": "2025-05-03T15:29:44.654155",
   "environment_variables": {},
   "exception": null,
   "input_path": "__notebook__.ipynb",
   "output_path": "__notebook__.ipynb",
   "parameters": {},
   "start_time": "2025-05-03T15:18:36.668000",
   "version": "2.6.0"
  }
 },
 "nbformat": 4,
 "nbformat_minor": 5
}
