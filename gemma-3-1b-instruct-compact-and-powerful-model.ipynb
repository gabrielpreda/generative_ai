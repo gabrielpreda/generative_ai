{
 "cells": [
  {
   "cell_type": "markdown",
   "id": "1ff79a7b",
   "metadata": {
    "_cell_guid": "b1076dfc-b9ad-4769-8c92-a6c4dae69d19",
    "_uuid": "8f2839f25d086af736a60e9eeb907d3b93b6e0e5",
    "papermill": {
     "duration": 0.011263,
     "end_time": "2025-04-05T21:19:48.477051",
     "exception": false,
     "start_time": "2025-04-05T21:19:48.465788",
     "status": "completed"
    },
    "tags": []
   },
   "source": [
    "<center><img src=\"https://www.geeky-gadgets.com/wp-content/uploads/2025/03/google-gemma-3-advanced-ai-models.webp\"></img></center>\n",
    "\n",
    "# Introduction\n",
    "This Notebook will explore how to prompt Gemma 3 1B instruct (fine-tuned), using KerasNLP. \n",
    "In a previous work, we explored the features of Gemma 3 1B (pre-trained): [Talk to Me Nice: Pro-Level Prompting for Gemma 3](https://www.kaggle.com/code/gpreda/talk-to-me-nice-pro-level-prompting-for-gemma-3)\n",
    "\n",
    "## What is Gemma?\n",
    "Gemma is a family of lightweight, state-of-the art open models built from the same research and technology used to create the Gemini models. At the 3rd generation now, Gemma 3 comes in 4 sizes, **1B**, **4B**, **12B** and **27B**, both pretrained and instruction finetuned versions.   \n",
    "\n",
    "Models **4B**, **12B**, **27B** brings an extended context window (up to **128K**) as well as **multi-modality** (text and image). \n",
    "\n",
    "The **1B** model, although incredibly compact, is not only very fast but is also quite powerful.\n",
    "\n",
    "As in the previous Notebook mentioned above, we will use the **1B intruct** model, on CPU only, without any accelerator.\n",
    "\n",
    "## How we will test the model?\n",
    "\n",
    "We will first initize the model and then we will test with simple common knowledge questions, followed by algebra and equations. Then we will test the model for writing code.\n",
    "\n",
    "\n",
    "# Prerequisites\n",
    "\n",
    "## Install packages\n",
    "\n",
    "We will install Keras and KerasNLP.\n"
   ]
  },
  {
   "cell_type": "code",
   "execution_count": 1,
   "id": "bf00d84d",
   "metadata": {
    "execution": {
     "iopub.execute_input": "2025-04-05T21:19:48.498020Z",
     "iopub.status.busy": "2025-04-05T21:19:48.497588Z",
     "iopub.status.idle": "2025-04-05T21:20:03.098383Z",
     "shell.execute_reply": "2025-04-05T21:20:03.096960Z"
    },
    "papermill": {
     "duration": 14.613692,
     "end_time": "2025-04-05T21:20:03.100461",
     "exception": false,
     "start_time": "2025-04-05T21:19:48.486769",
     "status": "completed"
    },
    "tags": []
   },
   "outputs": [
    {
     "name": "stdout",
     "output_type": "stream",
     "text": [
      "\u001b[2K   \u001b[90m━━━━━━━━━━━━━━━━━━━━━━━━━━━━━━━━━━━━━━━━\u001b[0m \u001b[32m792.1/792.1 kB\u001b[0m \u001b[31m14.2 MB/s\u001b[0m eta \u001b[36m0:00:00\u001b[0m\r\n",
      "\u001b[2K   \u001b[90m━━━━━━━━━━━━━━━━━━━━━━━━━━━━━━━━━━━━━━━━\u001b[0m \u001b[32m1.3/1.3 MB\u001b[0m \u001b[31m23.2 MB/s\u001b[0m eta \u001b[36m0:00:00\u001b[0m\r\n",
      "\u001b[?25h\u001b[31mERROR: pip's dependency resolver does not currently take into account all the packages that are installed. This behaviour is the source of the following dependency conflicts.\r\n",
      "tensorflow-decision-forests 1.10.0 requires tensorflow==2.17.0, but you have tensorflow 2.17.1 which is incompatible.\u001b[0m\u001b[31m\r\n",
      "\u001b[0m"
     ]
    }
   ],
   "source": [
    "!pip install -q -U keras-nlp\n",
    "!pip install -q -U keras"
   ]
  },
  {
   "cell_type": "markdown",
   "id": "98cc05d2",
   "metadata": {
    "papermill": {
     "duration": 0.009705,
     "end_time": "2025-04-05T21:20:03.120676",
     "exception": false,
     "start_time": "2025-04-05T21:20:03.110971",
     "status": "completed"
    },
    "tags": []
   },
   "source": [
    "## Import packages"
   ]
  },
  {
   "cell_type": "code",
   "execution_count": 2,
   "id": "0379f587",
   "metadata": {
    "execution": {
     "iopub.execute_input": "2025-04-05T21:20:03.142006Z",
     "iopub.status.busy": "2025-04-05T21:20:03.141539Z",
     "iopub.status.idle": "2025-04-05T21:20:21.439202Z",
     "shell.execute_reply": "2025-04-05T21:20:21.438080Z"
    },
    "papermill": {
     "duration": 18.310968,
     "end_time": "2025-04-05T21:20:21.441362",
     "exception": false,
     "start_time": "2025-04-05T21:20:03.130394",
     "status": "completed"
    },
    "tags": []
   },
   "outputs": [],
   "source": [
    "import keras\n",
    "import keras_nlp\n",
    "from keras_nlp.samplers import TopKSampler\n",
    "from time import time"
   ]
  },
  {
   "cell_type": "markdown",
   "id": "2e97a23c",
   "metadata": {
    "papermill": {
     "duration": 0.009639,
     "end_time": "2025-04-05T21:20:21.461097",
     "exception": false,
     "start_time": "2025-04-05T21:20:21.451458",
     "status": "completed"
    },
    "tags": []
   },
   "source": [
    "# Prepare the model"
   ]
  },
  {
   "cell_type": "markdown",
   "id": "edd2137f",
   "metadata": {
    "papermill": {
     "duration": 0.009374,
     "end_time": "2025-04-05T21:20:21.480664",
     "exception": false,
     "start_time": "2025-04-05T21:20:21.471290",
     "status": "completed"
    },
    "tags": []
   },
   "source": [
    "## Select the backend \n",
    "\n",
    "Keras is a high-level, multi-framework deep learning API designed for simplicity and ease of use.   \n",
    "Keras 3 lets you choose the backend: \n",
    "* TensorFlow\n",
    "* JAX\n",
    "* PyTorch\n",
    "\n",
    "\n",
    "For this Notebook, we will choose **JAX** as backend."
   ]
  },
  {
   "cell_type": "code",
   "execution_count": 3,
   "id": "fa394d3d",
   "metadata": {
    "execution": {
     "iopub.execute_input": "2025-04-05T21:20:21.502085Z",
     "iopub.status.busy": "2025-04-05T21:20:21.501415Z",
     "iopub.status.idle": "2025-04-05T21:20:21.506161Z",
     "shell.execute_reply": "2025-04-05T21:20:21.505147Z"
    },
    "papermill": {
     "duration": 0.017557,
     "end_time": "2025-04-05T21:20:21.507954",
     "exception": false,
     "start_time": "2025-04-05T21:20:21.490397",
     "status": "completed"
    },
    "tags": []
   },
   "outputs": [],
   "source": [
    "import os\n",
    "os.environ[\"KERAS_BACKEND\"] = \"jax\"\n",
    "os.environ[\"XLA_PYTHON_CLIENT_MEM_FRACTION\"] = \"0.9\""
   ]
  },
  {
   "cell_type": "markdown",
   "id": "6e403223",
   "metadata": {
    "papermill": {
     "duration": 0.009502,
     "end_time": "2025-04-05T21:20:21.527541",
     "exception": false,
     "start_time": "2025-04-05T21:20:21.518039",
     "status": "completed"
    },
    "tags": []
   },
   "source": [
    "## Initialize the model"
   ]
  },
  {
   "cell_type": "code",
   "execution_count": 4,
   "id": "cb516e0f",
   "metadata": {
    "execution": {
     "iopub.execute_input": "2025-04-05T21:20:21.548578Z",
     "iopub.status.busy": "2025-04-05T21:20:21.548254Z",
     "iopub.status.idle": "2025-04-05T21:20:55.351534Z",
     "shell.execute_reply": "2025-04-05T21:20:55.346661Z"
    },
    "papermill": {
     "duration": 33.82179,
     "end_time": "2025-04-05T21:20:55.359339",
     "exception": false,
     "start_time": "2025-04-05T21:20:21.537549",
     "status": "completed"
    },
    "tags": []
   },
   "outputs": [],
   "source": [
    "gemma_lm = keras_nlp.models.Gemma3CausalLM.from_preset(\"/kaggle/input/gemma3/keras/gemma3_instruct_1b/3\")\n",
    "tokenizer = keras_nlp.models.Gemma3Tokenizer.from_preset(\"/kaggle/input/gemma3/keras/gemma3_instruct_1b/3\")"
   ]
  },
  {
   "cell_type": "markdown",
   "id": "d33a5ced",
   "metadata": {
    "papermill": {
     "duration": 0.010666,
     "end_time": "2025-04-05T21:20:55.402809",
     "exception": false,
     "start_time": "2025-04-05T21:20:55.392143",
     "status": "completed"
    },
    "tags": []
   },
   "source": [
    "## Verify the model"
   ]
  },
  {
   "cell_type": "code",
   "execution_count": 5,
   "id": "f2231333",
   "metadata": {
    "execution": {
     "iopub.execute_input": "2025-04-05T21:20:55.425838Z",
     "iopub.status.busy": "2025-04-05T21:20:55.425410Z",
     "iopub.status.idle": "2025-04-05T21:20:55.462415Z",
     "shell.execute_reply": "2025-04-05T21:20:55.461218Z"
    },
    "papermill": {
     "duration": 0.050592,
     "end_time": "2025-04-05T21:20:55.464357",
     "exception": false,
     "start_time": "2025-04-05T21:20:55.413765",
     "status": "completed"
    },
    "tags": []
   },
   "outputs": [
    {
     "data": {
      "text/html": [
       "<pre style=\"white-space:pre;overflow-x:auto;line-height:normal;font-family:Menlo,'DejaVu Sans Mono',consolas,'Courier New',monospace\"><span style=\"font-weight: bold\">Preprocessor: \"gemma3_causal_lm_preprocessor\"</span>\n",
       "</pre>\n"
      ],
      "text/plain": [
       "\u001b[1mPreprocessor: \"gemma3_causal_lm_preprocessor\"\u001b[0m\n"
      ]
     },
     "metadata": {},
     "output_type": "display_data"
    },
    {
     "data": {
      "text/html": [
       "<pre style=\"white-space:pre;overflow-x:auto;line-height:normal;font-family:Menlo,'DejaVu Sans Mono',consolas,'Courier New',monospace\">┏━━━━━━━━━━━━━━━━━━━━━━━━━━━━━━━━━━━━━━━━━━━━━━━━━━━━━━━━━━━━━━━┳━━━━━━━━━━━━━━━━━━━━━━━━━━━━━━━━━━━━━━━━━━┓\n",
       "┃<span style=\"font-weight: bold\"> Layer (type)                                                  </span>┃<span style=\"font-weight: bold\">                                   Config </span>┃\n",
       "┡━━━━━━━━━━━━━━━━━━━━━━━━━━━━━━━━━━━━━━━━━━━━━━━━━━━━━━━━━━━━━━━╇━━━━━━━━━━━━━━━━━━━━━━━━━━━━━━━━━━━━━━━━━━┩\n",
       "│ gemma3_tokenizer (<span style=\"color: #0087ff; text-decoration-color: #0087ff\">Gemma3Tokenizer</span>)                            │                      Vocab size: <span style=\"color: #00af00; text-decoration-color: #00af00\">262,144</span> │\n",
       "└───────────────────────────────────────────────────────────────┴──────────────────────────────────────────┘\n",
       "</pre>\n"
      ],
      "text/plain": [
       "┏━━━━━━━━━━━━━━━━━━━━━━━━━━━━━━━━━━━━━━━━━━━━━━━━━━━━━━━━━━━━━━━┳━━━━━━━━━━━━━━━━━━━━━━━━━━━━━━━━━━━━━━━━━━┓\n",
       "┃\u001b[1m \u001b[0m\u001b[1mLayer (type)                                                 \u001b[0m\u001b[1m \u001b[0m┃\u001b[1m \u001b[0m\u001b[1m                                  Config\u001b[0m\u001b[1m \u001b[0m┃\n",
       "┡━━━━━━━━━━━━━━━━━━━━━━━━━━━━━━━━━━━━━━━━━━━━━━━━━━━━━━━━━━━━━━━╇━━━━━━━━━━━━━━━━━━━━━━━━━━━━━━━━━━━━━━━━━━┩\n",
       "│ gemma3_tokenizer (\u001b[38;5;33mGemma3Tokenizer\u001b[0m)                            │                      Vocab size: \u001b[38;5;34m262,144\u001b[0m │\n",
       "└───────────────────────────────────────────────────────────────┴──────────────────────────────────────────┘\n"
      ]
     },
     "metadata": {},
     "output_type": "display_data"
    },
    {
     "data": {
      "text/html": [
       "<pre style=\"white-space:pre;overflow-x:auto;line-height:normal;font-family:Menlo,'DejaVu Sans Mono',consolas,'Courier New',monospace\"><span style=\"font-weight: bold\">Model: \"gemma3_causal_lm\"</span>\n",
       "</pre>\n"
      ],
      "text/plain": [
       "\u001b[1mModel: \"gemma3_causal_lm\"\u001b[0m\n"
      ]
     },
     "metadata": {},
     "output_type": "display_data"
    },
    {
     "data": {
      "text/html": [
       "<pre style=\"white-space:pre;overflow-x:auto;line-height:normal;font-family:Menlo,'DejaVu Sans Mono',consolas,'Courier New',monospace\">┏━━━━━━━━━━━━━━━━━━━━━━━━━━━━━━━┳━━━━━━━━━━━━━━━━━━━━━━━━━━━┳━━━━━━━━━━━━━━━━━┳━━━━━━━━━━━━━━━━━━━━━━━━━━━━┓\n",
       "┃<span style=\"font-weight: bold\"> Layer (type)                  </span>┃<span style=\"font-weight: bold\"> Output Shape              </span>┃<span style=\"font-weight: bold\">         Param # </span>┃<span style=\"font-weight: bold\"> Connected to               </span>┃\n",
       "┡━━━━━━━━━━━━━━━━━━━━━━━━━━━━━━━╇━━━━━━━━━━━━━━━━━━━━━━━━━━━╇━━━━━━━━━━━━━━━━━╇━━━━━━━━━━━━━━━━━━━━━━━━━━━━┩\n",
       "│ padding_mask (<span style=\"color: #0087ff; text-decoration-color: #0087ff\">InputLayer</span>)     │ (<span style=\"color: #00d7ff; text-decoration-color: #00d7ff\">None</span>, <span style=\"color: #00d7ff; text-decoration-color: #00d7ff\">None</span>)              │               <span style=\"color: #00af00; text-decoration-color: #00af00\">0</span> │ -                          │\n",
       "├───────────────────────────────┼───────────────────────────┼─────────────────┼────────────────────────────┤\n",
       "│ token_ids (<span style=\"color: #0087ff; text-decoration-color: #0087ff\">InputLayer</span>)        │ (<span style=\"color: #00d7ff; text-decoration-color: #00d7ff\">None</span>, <span style=\"color: #00d7ff; text-decoration-color: #00d7ff\">None</span>)              │               <span style=\"color: #00af00; text-decoration-color: #00af00\">0</span> │ -                          │\n",
       "├───────────────────────────────┼───────────────────────────┼─────────────────┼────────────────────────────┤\n",
       "│ gemma3_backbone               │ (<span style=\"color: #00d7ff; text-decoration-color: #00d7ff\">None</span>, <span style=\"color: #00d7ff; text-decoration-color: #00d7ff\">None</span>, <span style=\"color: #00af00; text-decoration-color: #00af00\">1152</span>)        │     <span style=\"color: #00af00; text-decoration-color: #00af00\">999,885,952</span> │ padding_mask[<span style=\"color: #00af00; text-decoration-color: #00af00\">0</span>][<span style=\"color: #00af00; text-decoration-color: #00af00\">0</span>],        │\n",
       "│ (<span style=\"color: #0087ff; text-decoration-color: #0087ff\">Gemma3Backbone</span>)              │                           │                 │ token_ids[<span style=\"color: #00af00; text-decoration-color: #00af00\">0</span>][<span style=\"color: #00af00; text-decoration-color: #00af00\">0</span>]            │\n",
       "├───────────────────────────────┼───────────────────────────┼─────────────────┼────────────────────────────┤\n",
       "│ token_embedding               │ (<span style=\"color: #00d7ff; text-decoration-color: #00d7ff\">None</span>, <span style=\"color: #00d7ff; text-decoration-color: #00d7ff\">None</span>, <span style=\"color: #00af00; text-decoration-color: #00af00\">262144</span>)      │     <span style=\"color: #00af00; text-decoration-color: #00af00\">301,989,888</span> │ gemma3_backbone[<span style=\"color: #00af00; text-decoration-color: #00af00\">0</span>][<span style=\"color: #00af00; text-decoration-color: #00af00\">0</span>]      │\n",
       "│ (<span style=\"color: #0087ff; text-decoration-color: #0087ff\">ReversibleEmbedding</span>)         │                           │                 │                            │\n",
       "└───────────────────────────────┴───────────────────────────┴─────────────────┴────────────────────────────┘\n",
       "</pre>\n"
      ],
      "text/plain": [
       "┏━━━━━━━━━━━━━━━━━━━━━━━━━━━━━━━┳━━━━━━━━━━━━━━━━━━━━━━━━━━━┳━━━━━━━━━━━━━━━━━┳━━━━━━━━━━━━━━━━━━━━━━━━━━━━┓\n",
       "┃\u001b[1m \u001b[0m\u001b[1mLayer (type)                 \u001b[0m\u001b[1m \u001b[0m┃\u001b[1m \u001b[0m\u001b[1mOutput Shape             \u001b[0m\u001b[1m \u001b[0m┃\u001b[1m \u001b[0m\u001b[1m        Param #\u001b[0m\u001b[1m \u001b[0m┃\u001b[1m \u001b[0m\u001b[1mConnected to              \u001b[0m\u001b[1m \u001b[0m┃\n",
       "┡━━━━━━━━━━━━━━━━━━━━━━━━━━━━━━━╇━━━━━━━━━━━━━━━━━━━━━━━━━━━╇━━━━━━━━━━━━━━━━━╇━━━━━━━━━━━━━━━━━━━━━━━━━━━━┩\n",
       "│ padding_mask (\u001b[38;5;33mInputLayer\u001b[0m)     │ (\u001b[38;5;45mNone\u001b[0m, \u001b[38;5;45mNone\u001b[0m)              │               \u001b[38;5;34m0\u001b[0m │ -                          │\n",
       "├───────────────────────────────┼───────────────────────────┼─────────────────┼────────────────────────────┤\n",
       "│ token_ids (\u001b[38;5;33mInputLayer\u001b[0m)        │ (\u001b[38;5;45mNone\u001b[0m, \u001b[38;5;45mNone\u001b[0m)              │               \u001b[38;5;34m0\u001b[0m │ -                          │\n",
       "├───────────────────────────────┼───────────────────────────┼─────────────────┼────────────────────────────┤\n",
       "│ gemma3_backbone               │ (\u001b[38;5;45mNone\u001b[0m, \u001b[38;5;45mNone\u001b[0m, \u001b[38;5;34m1152\u001b[0m)        │     \u001b[38;5;34m999,885,952\u001b[0m │ padding_mask[\u001b[38;5;34m0\u001b[0m][\u001b[38;5;34m0\u001b[0m],        │\n",
       "│ (\u001b[38;5;33mGemma3Backbone\u001b[0m)              │                           │                 │ token_ids[\u001b[38;5;34m0\u001b[0m][\u001b[38;5;34m0\u001b[0m]            │\n",
       "├───────────────────────────────┼───────────────────────────┼─────────────────┼────────────────────────────┤\n",
       "│ token_embedding               │ (\u001b[38;5;45mNone\u001b[0m, \u001b[38;5;45mNone\u001b[0m, \u001b[38;5;34m262144\u001b[0m)      │     \u001b[38;5;34m301,989,888\u001b[0m │ gemma3_backbone[\u001b[38;5;34m0\u001b[0m][\u001b[38;5;34m0\u001b[0m]      │\n",
       "│ (\u001b[38;5;33mReversibleEmbedding\u001b[0m)         │                           │                 │                            │\n",
       "└───────────────────────────────┴───────────────────────────┴─────────────────┴────────────────────────────┘\n"
      ]
     },
     "metadata": {},
     "output_type": "display_data"
    },
    {
     "data": {
      "text/html": [
       "<pre style=\"white-space:pre;overflow-x:auto;line-height:normal;font-family:Menlo,'DejaVu Sans Mono',consolas,'Courier New',monospace\"><span style=\"font-weight: bold\"> Total params: </span><span style=\"color: #00af00; text-decoration-color: #00af00\">999,885,952</span> (3.72 GB)\n",
       "</pre>\n"
      ],
      "text/plain": [
       "\u001b[1m Total params: \u001b[0m\u001b[38;5;34m999,885,952\u001b[0m (3.72 GB)\n"
      ]
     },
     "metadata": {},
     "output_type": "display_data"
    },
    {
     "data": {
      "text/html": [
       "<pre style=\"white-space:pre;overflow-x:auto;line-height:normal;font-family:Menlo,'DejaVu Sans Mono',consolas,'Courier New',monospace\"><span style=\"font-weight: bold\"> Trainable params: </span><span style=\"color: #00af00; text-decoration-color: #00af00\">999,885,952</span> (3.72 GB)\n",
       "</pre>\n"
      ],
      "text/plain": [
       "\u001b[1m Trainable params: \u001b[0m\u001b[38;5;34m999,885,952\u001b[0m (3.72 GB)\n"
      ]
     },
     "metadata": {},
     "output_type": "display_data"
    },
    {
     "data": {
      "text/html": [
       "<pre style=\"white-space:pre;overflow-x:auto;line-height:normal;font-family:Menlo,'DejaVu Sans Mono',consolas,'Courier New',monospace\"><span style=\"font-weight: bold\"> Non-trainable params: </span><span style=\"color: #00af00; text-decoration-color: #00af00\">0</span> (0.00 B)\n",
       "</pre>\n"
      ],
      "text/plain": [
       "\u001b[1m Non-trainable params: \u001b[0m\u001b[38;5;34m0\u001b[0m (0.00 B)\n"
      ]
     },
     "metadata": {},
     "output_type": "display_data"
    }
   ],
   "source": [
    "gemma_lm.summary()"
   ]
  },
  {
   "cell_type": "markdown",
   "id": "3aeb3a80",
   "metadata": {
    "papermill": {
     "duration": 0.013191,
     "end_time": "2025-04-05T21:20:55.491324",
     "exception": false,
     "start_time": "2025-04-05T21:20:55.478133",
     "status": "completed"
    },
    "tags": []
   },
   "source": [
    "# Prompt the model\n",
    "\n",
    "We define a simple prompt."
   ]
  },
  {
   "cell_type": "code",
   "execution_count": 6,
   "id": "52c84d94",
   "metadata": {
    "execution": {
     "iopub.execute_input": "2025-04-05T21:20:55.519676Z",
     "iopub.status.busy": "2025-04-05T21:20:55.519291Z",
     "iopub.status.idle": "2025-04-05T21:21:21.349688Z",
     "shell.execute_reply": "2025-04-05T21:21:21.348278Z"
    },
    "papermill": {
     "duration": 25.848443,
     "end_time": "2025-04-05T21:21:21.353254",
     "exception": false,
     "start_time": "2025-04-05T21:20:55.504811",
     "status": "completed"
    },
    "tags": []
   },
   "outputs": [],
   "source": [
    "instructions = \"You are an AI that answers in short, complete sentences only.\\n\"\n",
    "prompt = (\n",
    "    f\"{instructions}\"\n",
    "    \"Question: {question}\\n\"\n",
    "    \"Answer:\"\n",
    ")\n",
    "\n",
    "output = gemma_lm.generate(\n",
    "    prompt.format(question=\"What is the temperature of the Moon?\"),\n",
    "    max_length=40, \n",
    "    stop_token_ids=[tokenizer.token_to_id(\"\\n\")]\n",
    ")\n"
   ]
  },
  {
   "cell_type": "code",
   "execution_count": 7,
   "id": "b8d7770a",
   "metadata": {
    "execution": {
     "iopub.execute_input": "2025-04-05T21:21:21.381087Z",
     "iopub.status.busy": "2025-04-05T21:21:21.380537Z",
     "iopub.status.idle": "2025-04-05T21:21:21.386848Z",
     "shell.execute_reply": "2025-04-05T21:21:21.385580Z"
    },
    "papermill": {
     "duration": 0.020044,
     "end_time": "2025-04-05T21:21:21.388581",
     "exception": false,
     "start_time": "2025-04-05T21:21:21.368537",
     "status": "completed"
    },
    "tags": []
   },
   "outputs": [
    {
     "name": "stdout",
     "output_type": "stream",
     "text": [
      "Question: What is the temperature of the Moon?\n",
      "Answer: 0°C\n"
     ]
    }
   ],
   "source": [
    "answer = output.replace(instructions, \"\").strip()\n",
    "print(answer)"
   ]
  },
  {
   "cell_type": "markdown",
   "id": "1e2f7de0",
   "metadata": {
    "papermill": {
     "duration": 0.010697,
     "end_time": "2025-04-05T21:21:21.410227",
     "exception": false,
     "start_time": "2025-04-05T21:21:21.399530",
     "status": "completed"
    },
    "tags": []
   },
   "source": [
    "Well, the answer doesn't look correct. Let's try more questions."
   ]
  },
  {
   "cell_type": "markdown",
   "id": "5c714b6b",
   "metadata": {
    "papermill": {
     "duration": 0.01095,
     "end_time": "2025-04-05T21:21:21.432148",
     "exception": false,
     "start_time": "2025-04-05T21:21:21.421198",
     "status": "completed"
    },
    "tags": []
   },
   "source": [
    "## Functions to generate and format the output\n",
    "\n",
    "We define a function to generate the answer."
   ]
  },
  {
   "cell_type": "code",
   "execution_count": 8,
   "id": "c4ac6060",
   "metadata": {
    "execution": {
     "iopub.execute_input": "2025-04-05T21:21:21.455880Z",
     "iopub.status.busy": "2025-04-05T21:21:21.455355Z",
     "iopub.status.idle": "2025-04-05T21:21:21.460971Z",
     "shell.execute_reply": "2025-04-05T21:21:21.459784Z"
    },
    "papermill": {
     "duration": 0.019326,
     "end_time": "2025-04-05T21:21:21.462778",
     "exception": false,
     "start_time": "2025-04-05T21:21:21.443452",
     "status": "completed"
    },
    "tags": []
   },
   "outputs": [],
   "source": [
    "def generate_answer(question, \n",
    "                    instructions=\"You are an AI that answers in short, complete sentences only.\\n\", \n",
    "                    max_length=40):\n",
    "    prompt = (\n",
    "        f\"{instructions}\"\n",
    "        \"Question: {question}\\n\"\n",
    "        \"Answer:\"\n",
    "    )\n",
    "    output = gemma_lm.generate(\n",
    "        prompt.format(question=question),\n",
    "        max_length=max_length, \n",
    "        stop_token_ids=[tokenizer.token_to_id(\"\\n\")]\n",
    "    )    \n",
    "    answer = output.replace(instructions, \"\").strip()\n",
    "    return answer"
   ]
  },
  {
   "cell_type": "markdown",
   "id": "27a9a719",
   "metadata": {
    "papermill": {
     "duration": 0.010437,
     "end_time": "2025-04-05T21:21:21.484608",
     "exception": false,
     "start_time": "2025-04-05T21:21:21.474171",
     "status": "completed"
    },
    "tags": []
   },
   "source": [
    "Next, we define a function to format the output."
   ]
  },
  {
   "cell_type": "code",
   "execution_count": 9,
   "id": "fad55f3a",
   "metadata": {
    "execution": {
     "iopub.execute_input": "2025-04-05T21:21:21.508528Z",
     "iopub.status.busy": "2025-04-05T21:21:21.508113Z",
     "iopub.status.idle": "2025-04-05T21:21:21.514206Z",
     "shell.execute_reply": "2025-04-05T21:21:21.512780Z"
    },
    "papermill": {
     "duration": 0.019957,
     "end_time": "2025-04-05T21:21:21.516077",
     "exception": false,
     "start_time": "2025-04-05T21:21:21.496120",
     "status": "completed"
    },
    "tags": []
   },
   "outputs": [],
   "source": [
    "from IPython.display import display, Markdown\n",
    "\n",
    "def colorize_text(text):\n",
    "    for word, color in zip([\"Reasoning\", \"Question\", \"Answer\", \"Explanation\", \"Total time\"], [\"blue\", \"red\", \"green\", \"darkblue\",  \"magenta\"]):\n",
    "        text = text.replace(f\"{word}:\", f\"\\n\\n**<font color='{color}'>{word}:</font>**\")\n",
    "    return text"
   ]
  },
  {
   "cell_type": "markdown",
   "id": "165d900b",
   "metadata": {
    "papermill": {
     "duration": 0.010394,
     "end_time": "2025-04-05T21:21:21.537598",
     "exception": false,
     "start_time": "2025-04-05T21:21:21.527204",
     "status": "completed"
    },
    "tags": []
   },
   "source": [
    "The following function combine both functions defined above."
   ]
  },
  {
   "cell_type": "code",
   "execution_count": 10,
   "id": "49c410a6",
   "metadata": {
    "execution": {
     "iopub.execute_input": "2025-04-05T21:21:21.560831Z",
     "iopub.status.busy": "2025-04-05T21:21:21.560449Z",
     "iopub.status.idle": "2025-04-05T21:21:21.565529Z",
     "shell.execute_reply": "2025-04-05T21:21:21.564279Z"
    },
    "papermill": {
     "duration": 0.018834,
     "end_time": "2025-04-05T21:21:21.567421",
     "exception": false,
     "start_time": "2025-04-05T21:21:21.548587",
     "status": "completed"
    },
    "tags": []
   },
   "outputs": [],
   "source": [
    "def generate_format_answer(question, \n",
    "                    instructions=\"You are an AI that answers in short, complete sentences only.\\n\", \n",
    "                    max_length=40):\n",
    "    t = time()\n",
    "    answer = generate_answer(question, instructions, max_length)\n",
    "    display(Markdown(colorize_text(f\"{answer}\\n\\nTotal time: {round(time()-t, 2)} sec.\")))"
   ]
  },
  {
   "cell_type": "markdown",
   "id": "8d42e366",
   "metadata": {
    "papermill": {
     "duration": 0.010478,
     "end_time": "2025-04-05T21:21:21.589069",
     "exception": false,
     "start_time": "2025-04-05T21:21:21.578591",
     "status": "completed"
    },
    "tags": []
   },
   "source": [
    "## Test the model with simple common knowledge questions\n",
    "\n",
    "Will ask questions from history, arts, general culture and politics."
   ]
  },
  {
   "cell_type": "code",
   "execution_count": 11,
   "id": "90ab9e85",
   "metadata": {
    "execution": {
     "iopub.execute_input": "2025-04-05T21:21:21.612161Z",
     "iopub.status.busy": "2025-04-05T21:21:21.611615Z",
     "iopub.status.idle": "2025-04-05T21:21:25.386301Z",
     "shell.execute_reply": "2025-04-05T21:21:25.385101Z"
    },
    "papermill": {
     "duration": 3.788246,
     "end_time": "2025-04-05T21:21:25.388215",
     "exception": false,
     "start_time": "2025-04-05T21:21:21.599969",
     "status": "completed"
    },
    "tags": []
   },
   "outputs": [
    {
     "data": {
      "text/markdown": [
       "\n",
       "\n",
       "**<font color='red'>Question:</font>** When lived Alexander the Great?\n",
       "\n",
       "\n",
       "**<font color='green'>Answer:</font>** He lived in the 4th century BC.\n",
       "\n",
       "\n",
       "\n",
       "**<font color='magenta'>Total time:</font>** 3.77 sec."
      ],
      "text/plain": [
       "<IPython.core.display.Markdown object>"
      ]
     },
     "metadata": {},
     "output_type": "display_data"
    }
   ],
   "source": [
    "answer = generate_format_answer(\"When lived Alexander the Great?\")"
   ]
  },
  {
   "cell_type": "code",
   "execution_count": 12,
   "id": "ad9a88ca",
   "metadata": {
    "execution": {
     "iopub.execute_input": "2025-04-05T21:21:25.412012Z",
     "iopub.status.busy": "2025-04-05T21:21:25.411582Z",
     "iopub.status.idle": "2025-04-05T21:21:29.201861Z",
     "shell.execute_reply": "2025-04-05T21:21:29.200736Z"
    },
    "papermill": {
     "duration": 3.804245,
     "end_time": "2025-04-05T21:21:29.203945",
     "exception": false,
     "start_time": "2025-04-05T21:21:25.399700",
     "status": "completed"
    },
    "tags": []
   },
   "outputs": [
    {
     "data": {
      "text/markdown": [
       "\n",
       "\n",
       "**<font color='red'>Question:</font>** When lived Julius Caesar?\n",
       "\n",
       "\n",
       "**<font color='green'>Answer:</font>** He lived in the 1st century BC.\n",
       "\n",
       "\n",
       "\n",
       "**<font color='magenta'>Total time:</font>** 3.78 sec."
      ],
      "text/plain": [
       "<IPython.core.display.Markdown object>"
      ]
     },
     "metadata": {},
     "output_type": "display_data"
    }
   ],
   "source": [
    "answer = generate_format_answer(\"When lived Julius Caesar?\")"
   ]
  },
  {
   "cell_type": "code",
   "execution_count": 13,
   "id": "a8568aa0",
   "metadata": {
    "execution": {
     "iopub.execute_input": "2025-04-05T21:21:29.228954Z",
     "iopub.status.busy": "2025-04-05T21:21:29.228499Z",
     "iopub.status.idle": "2025-04-05T21:21:31.920328Z",
     "shell.execute_reply": "2025-04-05T21:21:31.919160Z"
    },
    "papermill": {
     "duration": 2.706346,
     "end_time": "2025-04-05T21:21:31.922179",
     "exception": false,
     "start_time": "2025-04-05T21:21:29.215833",
     "status": "completed"
    },
    "tags": []
   },
   "outputs": [
    {
     "data": {
      "text/markdown": [
       "\n",
       "\n",
       "**<font color='red'>Question:</font>** When was the 1st Crusade?\n",
       "\n",
       "\n",
       "**<font color='green'>Answer:</font>** 11th century.\n",
       "\n",
       "\n",
       "\n",
       "**<font color='magenta'>Total time:</font>** 2.69 sec."
      ],
      "text/plain": [
       "<IPython.core.display.Markdown object>"
      ]
     },
     "metadata": {},
     "output_type": "display_data"
    }
   ],
   "source": [
    "answer = generate_format_answer(\"When was the 1st Crusade?\")"
   ]
  },
  {
   "cell_type": "code",
   "execution_count": 14,
   "id": "86c888d4",
   "metadata": {
    "execution": {
     "iopub.execute_input": "2025-04-05T21:21:31.946400Z",
     "iopub.status.busy": "2025-04-05T21:21:31.946019Z",
     "iopub.status.idle": "2025-04-05T21:21:34.620041Z",
     "shell.execute_reply": "2025-04-05T21:21:34.618832Z"
    },
    "papermill": {
     "duration": 2.688438,
     "end_time": "2025-04-05T21:21:34.621996",
     "exception": false,
     "start_time": "2025-04-05T21:21:31.933558",
     "status": "completed"
    },
    "tags": []
   },
   "outputs": [
    {
     "data": {
      "text/markdown": [
       "\n",
       "\n",
       "**<font color='red'>Question:</font>** When Henric VIII lived?\n",
       "\n",
       "\n",
       "**<font color='green'>Answer:</font>** 15th century.\n",
       "\n",
       "\n",
       "\n",
       "**<font color='magenta'>Total time:</font>** 2.67 sec."
      ],
      "text/plain": [
       "<IPython.core.display.Markdown object>"
      ]
     },
     "metadata": {},
     "output_type": "display_data"
    }
   ],
   "source": [
    "answer = generate_format_answer(\"When Henric VIII lived?\")"
   ]
  },
  {
   "cell_type": "markdown",
   "id": "95e2430c",
   "metadata": {
    "papermill": {
     "duration": 0.011989,
     "end_time": "2025-04-05T21:21:34.646096",
     "exception": false,
     "start_time": "2025-04-05T21:21:34.634107",
     "status": "completed"
    },
    "tags": []
   },
   "source": [
    "The answer is partially correct, he actually was born in 15th century, but lived most of his life in 16th century."
   ]
  },
  {
   "cell_type": "code",
   "execution_count": 15,
   "id": "351e8ff8",
   "metadata": {
    "execution": {
     "iopub.execute_input": "2025-04-05T21:21:34.669769Z",
     "iopub.status.busy": "2025-04-05T21:21:34.669360Z",
     "iopub.status.idle": "2025-04-05T21:21:37.834819Z",
     "shell.execute_reply": "2025-04-05T21:21:37.833565Z"
    },
    "papermill": {
     "duration": 3.179557,
     "end_time": "2025-04-05T21:21:37.836764",
     "exception": false,
     "start_time": "2025-04-05T21:21:34.657207",
     "status": "completed"
    },
    "tags": []
   },
   "outputs": [
    {
     "data": {
      "text/markdown": [
       "\n",
       "\n",
       "**<font color='red'>Question:</font>** When started the rule of King Charles III?\n",
       "\n",
       "\n",
       "**<font color='green'>Answer:</font>** 2022\n",
       "\n",
       "---\n",
       "\n",
       "\n",
       "\n",
       "**<font color='magenta'>Total time:</font>** 3.16 sec."
      ],
      "text/plain": [
       "<IPython.core.display.Markdown object>"
      ]
     },
     "metadata": {},
     "output_type": "display_data"
    }
   ],
   "source": [
    "answer = generate_format_answer(\"When started the rule of King Charles III?\")"
   ]
  },
  {
   "cell_type": "code",
   "execution_count": 16,
   "id": "09a1a985",
   "metadata": {
    "execution": {
     "iopub.execute_input": "2025-04-05T21:21:37.862145Z",
     "iopub.status.busy": "2025-04-05T21:21:37.861601Z",
     "iopub.status.idle": "2025-04-05T21:21:39.257350Z",
     "shell.execute_reply": "2025-04-05T21:21:39.255987Z"
    },
    "papermill": {
     "duration": 1.410026,
     "end_time": "2025-04-05T21:21:39.259133",
     "exception": false,
     "start_time": "2025-04-05T21:21:37.849107",
     "status": "completed"
    },
    "tags": []
   },
   "outputs": [
    {
     "data": {
      "text/markdown": [
       "\n",
       "\n",
       "**<font color='red'>Question:</font>** In what continent is Albania?\n",
       "\n",
       "\n",
       "**<font color='green'>Answer:</font>** Europe\n",
       "\n",
       "\n",
       "\n",
       "**<font color='magenta'>Total time:</font>** 1.39 sec."
      ],
      "text/plain": [
       "<IPython.core.display.Markdown object>"
      ]
     },
     "metadata": {},
     "output_type": "display_data"
    }
   ],
   "source": [
    "answer = generate_format_answer(\"In what continent is Albania?\")"
   ]
  },
  {
   "cell_type": "code",
   "execution_count": 17,
   "id": "d535b6a3",
   "metadata": {
    "execution": {
     "iopub.execute_input": "2025-04-05T21:21:39.284209Z",
     "iopub.status.busy": "2025-04-05T21:21:39.283833Z",
     "iopub.status.idle": "2025-04-05T21:21:40.889980Z",
     "shell.execute_reply": "2025-04-05T21:21:40.888761Z"
    },
    "papermill": {
     "duration": 1.620429,
     "end_time": "2025-04-05T21:21:40.891772",
     "exception": false,
     "start_time": "2025-04-05T21:21:39.271343",
     "status": "completed"
    },
    "tags": []
   },
   "outputs": [
    {
     "data": {
      "text/markdown": [
       "\n",
       "\n",
       "**<font color='red'>Question:</font>** With which country in Asia has Europe border?\n",
       "\n",
       "\n",
       "**<font color='green'>Answer:</font>** Russia.\n",
       "\n",
       "\n",
       "\n",
       "**<font color='magenta'>Total time:</font>** 1.6 sec."
      ],
      "text/plain": [
       "<IPython.core.display.Markdown object>"
      ]
     },
     "metadata": {},
     "output_type": "display_data"
    }
   ],
   "source": [
    "answer = generate_format_answer(\"With which country in Asia has Europe border?\")"
   ]
  },
  {
   "cell_type": "code",
   "execution_count": 18,
   "id": "3d0d3ae3",
   "metadata": {
    "execution": {
     "iopub.execute_input": "2025-04-05T21:21:40.917213Z",
     "iopub.status.busy": "2025-04-05T21:21:40.916842Z",
     "iopub.status.idle": "2025-04-05T21:21:44.158876Z",
     "shell.execute_reply": "2025-04-05T21:21:44.157873Z"
    },
    "papermill": {
     "duration": 3.257047,
     "end_time": "2025-04-05T21:21:44.161171",
     "exception": false,
     "start_time": "2025-04-05T21:21:40.904124",
     "status": "completed"
    },
    "tags": []
   },
   "outputs": [
    {
     "data": {
      "text/markdown": [
       "\n",
       "\n",
       "**<font color='red'>Question:</font>** On what continents is Turkye?\n",
       "\n",
       "\n",
       "**<font color='green'>Answer:</font>** Turkey is located on Europe and Asia.\n",
       "\n",
       "\n",
       "\n",
       "**<font color='magenta'>Total time:</font>** 3.24 sec."
      ],
      "text/plain": [
       "<IPython.core.display.Markdown object>"
      ]
     },
     "metadata": {},
     "output_type": "display_data"
    }
   ],
   "source": [
    "answer = generate_format_answer(\"On what continents is Turkye?\")"
   ]
  },
  {
   "cell_type": "code",
   "execution_count": 19,
   "id": "64ca311d",
   "metadata": {
    "execution": {
     "iopub.execute_input": "2025-04-05T21:21:44.186774Z",
     "iopub.status.busy": "2025-04-05T21:21:44.186371Z",
     "iopub.status.idle": "2025-04-05T21:21:46.331224Z",
     "shell.execute_reply": "2025-04-05T21:21:46.330038Z"
    },
    "papermill": {
     "duration": 2.159619,
     "end_time": "2025-04-05T21:21:46.333075",
     "exception": false,
     "start_time": "2025-04-05T21:21:44.173456",
     "status": "completed"
    },
    "tags": []
   },
   "outputs": [
    {
     "data": {
      "text/markdown": [
       "\n",
       "\n",
       "**<font color='red'>Question:</font>** What compound powers nuclear reactors?\n",
       "\n",
       "\n",
       "**<font color='green'>Answer:</font>** Uranium\n",
       "\n",
       "<end_of_turn><end_of_turn>\n",
       "\n",
       "\n",
       "\n",
       "**<font color='magenta'>Total time:</font>** 2.14 sec."
      ],
      "text/plain": [
       "<IPython.core.display.Markdown object>"
      ]
     },
     "metadata": {},
     "output_type": "display_data"
    }
   ],
   "source": [
    "answer = generate_format_answer(\"What compound powers nuclear reactors?\")"
   ]
  },
  {
   "cell_type": "code",
   "execution_count": 20,
   "id": "750566d0",
   "metadata": {
    "execution": {
     "iopub.execute_input": "2025-04-05T21:21:46.360793Z",
     "iopub.status.busy": "2025-04-05T21:21:46.360355Z",
     "iopub.status.idle": "2025-04-05T21:21:48.479667Z",
     "shell.execute_reply": "2025-04-05T21:21:48.478359Z"
    },
    "papermill": {
     "duration": 2.135699,
     "end_time": "2025-04-05T21:21:48.481423",
     "exception": false,
     "start_time": "2025-04-05T21:21:46.345724",
     "status": "completed"
    },
    "tags": []
   },
   "outputs": [
    {
     "data": {
      "text/markdown": [
       "\n",
       "\n",
       "**<font color='red'>Question:</font>** Who build the 1st atomic bomb?\n",
       "\n",
       "\n",
       "**<font color='green'>Answer:</font>** The United States.\n",
       "\n",
       "\n",
       "\n",
       "**<font color='magenta'>Total time:</font>** 2.11 sec."
      ],
      "text/plain": [
       "<IPython.core.display.Markdown object>"
      ]
     },
     "metadata": {},
     "output_type": "display_data"
    }
   ],
   "source": [
    "answer = generate_format_answer(\"Who build the 1st atomic bomb?\")"
   ]
  },
  {
   "cell_type": "code",
   "execution_count": 21,
   "id": "04908bf1",
   "metadata": {
    "execution": {
     "iopub.execute_input": "2025-04-05T21:21:48.507067Z",
     "iopub.status.busy": "2025-04-05T21:21:48.506653Z",
     "iopub.status.idle": "2025-04-05T21:21:51.437077Z",
     "shell.execute_reply": "2025-04-05T21:21:51.435875Z"
    },
    "papermill": {
     "duration": 2.945552,
     "end_time": "2025-04-05T21:21:51.438888",
     "exception": false,
     "start_time": "2025-04-05T21:21:48.493336",
     "status": "completed"
    },
    "tags": []
   },
   "outputs": [
    {
     "data": {
      "text/markdown": [
       "\n",
       "\n",
       "**<font color='red'>Question:</font>** Who was the 46th president of United States?\n",
       "\n",
       "\n",
       "**<font color='green'>Answer:</font>** Joe Biden\n",
       "\n",
       "\n",
       "\n",
       "**<font color='red'>Question:</font>** What is the\n",
       "\n",
       "\n",
       "\n",
       "**<font color='magenta'>Total time:</font>** 2.92 sec."
      ],
      "text/plain": [
       "<IPython.core.display.Markdown object>"
      ]
     },
     "metadata": {},
     "output_type": "display_data"
    }
   ],
   "source": [
    "answer = generate_format_answer(\"Who was the 46th president of United States?\")"
   ]
  },
  {
   "cell_type": "markdown",
   "id": "0a361a83",
   "metadata": {
    "papermill": {
     "duration": 0.012328,
     "end_time": "2025-04-05T21:21:51.464222",
     "exception": false,
     "start_time": "2025-04-05T21:21:51.451894",
     "status": "completed"
    },
    "tags": []
   },
   "source": [
    "There is an issue here, it looks like the model is initiating a conversation or just dumps sequences of Q & A.\n",
    "\n",
    "Let's test the model for a bit more complex tasks."
   ]
  },
  {
   "cell_type": "markdown",
   "id": "08954a48",
   "metadata": {
    "papermill": {
     "duration": 0.103674,
     "end_time": "2025-04-05T21:21:51.579794",
     "exception": false,
     "start_time": "2025-04-05T21:21:51.476120",
     "status": "completed"
    },
    "tags": []
   },
   "source": [
    "## Test the model with simple arithmetics"
   ]
  },
  {
   "cell_type": "code",
   "execution_count": 22,
   "id": "c9804d3d",
   "metadata": {
    "execution": {
     "iopub.execute_input": "2025-04-05T21:21:51.605618Z",
     "iopub.status.busy": "2025-04-05T21:21:51.605231Z",
     "iopub.status.idle": "2025-04-05T21:21:54.315994Z",
     "shell.execute_reply": "2025-04-05T21:21:54.314757Z"
    },
    "papermill": {
     "duration": 2.726295,
     "end_time": "2025-04-05T21:21:54.318048",
     "exception": false,
     "start_time": "2025-04-05T21:21:51.591753",
     "status": "completed"
    },
    "tags": []
   },
   "outputs": [
    {
     "data": {
      "text/markdown": [
       "\n",
       "\n",
       "**<font color='red'>Question:</font>** What is 144 + 25?\n",
       "\n",
       "\n",
       "**<font color='green'>Answer:</font>** 169\n",
       "\n",
       "<end_of_turn>\n",
       "\n",
       "\n",
       "\n",
       "**<font color='magenta'>Total time:</font>** 2.7 sec."
      ],
      "text/plain": [
       "<IPython.core.display.Markdown object>"
      ]
     },
     "metadata": {},
     "output_type": "display_data"
    }
   ],
   "source": [
    "generate_format_answer(\"What is 144 + 25?\")"
   ]
  },
  {
   "cell_type": "code",
   "execution_count": 23,
   "id": "e693b8b9",
   "metadata": {
    "execution": {
     "iopub.execute_input": "2025-04-05T21:21:54.345069Z",
     "iopub.status.busy": "2025-04-05T21:21:54.344581Z",
     "iopub.status.idle": "2025-04-05T21:21:56.212674Z",
     "shell.execute_reply": "2025-04-05T21:21:56.211454Z"
    },
    "papermill": {
     "duration": 1.884275,
     "end_time": "2025-04-05T21:21:56.214696",
     "exception": false,
     "start_time": "2025-04-05T21:21:54.330421",
     "status": "completed"
    },
    "tags": []
   },
   "outputs": [
    {
     "data": {
      "text/markdown": [
       "\n",
       "\n",
       "**<font color='red'>Question:</font>** What is the square root of 169?\n",
       "\n",
       "\n",
       "**<font color='green'>Answer:</font>** 13\n",
       "\n",
       "\n",
       "\n",
       "**<font color='magenta'>Total time:</font>** 1.86 sec."
      ],
      "text/plain": [
       "<IPython.core.display.Markdown object>"
      ]
     },
     "metadata": {},
     "output_type": "display_data"
    }
   ],
   "source": [
    "generate_format_answer(\"What is the square root of 169?\")"
   ]
  },
  {
   "cell_type": "code",
   "execution_count": 24,
   "id": "4fbcb63b",
   "metadata": {
    "execution": {
     "iopub.execute_input": "2025-04-05T21:21:56.240568Z",
     "iopub.status.busy": "2025-04-05T21:21:56.240229Z",
     "iopub.status.idle": "2025-04-05T21:21:59.973983Z",
     "shell.execute_reply": "2025-04-05T21:21:59.972552Z"
    },
    "papermill": {
     "duration": 3.748941,
     "end_time": "2025-04-05T21:21:59.976029",
     "exception": false,
     "start_time": "2025-04-05T21:21:56.227088",
     "status": "completed"
    },
    "tags": []
   },
   "outputs": [
    {
     "data": {
      "text/markdown": [
       "\n",
       "\n",
       "**<font color='red'>Question:</font>** What is the square of 14?\n",
       "\n",
       "\n",
       "**<font color='green'>Answer:</font>** 196\n",
       "\n",
       "\n",
       "\n",
       "**<font color='red'>Question:</font>** What is the sum\n",
       "\n",
       "\n",
       "\n",
       "**<font color='magenta'>Total time:</font>** 3.73 sec."
      ],
      "text/plain": [
       "<IPython.core.display.Markdown object>"
      ]
     },
     "metadata": {},
     "output_type": "display_data"
    }
   ],
   "source": [
    "generate_format_answer(\"What is the square of 14?\")"
   ]
  },
  {
   "cell_type": "markdown",
   "id": "1534d357",
   "metadata": {
    "papermill": {
     "duration": 0.013104,
     "end_time": "2025-04-05T21:22:00.001496",
     "exception": false,
     "start_time": "2025-04-05T21:21:59.988392",
     "status": "completed"
    },
    "tags": []
   },
   "source": [
    "Again, the model starts to dump Q & A sequences."
   ]
  },
  {
   "cell_type": "markdown",
   "id": "86f54ff4",
   "metadata": {
    "papermill": {
     "duration": 0.012007,
     "end_time": "2025-04-05T21:22:00.026453",
     "exception": false,
     "start_time": "2025-04-05T21:22:00.014446",
     "status": "completed"
    },
    "tags": []
   },
   "source": [
    "## Test with more advanced math"
   ]
  },
  {
   "cell_type": "code",
   "execution_count": 25,
   "id": "78917975",
   "metadata": {
    "execution": {
     "iopub.execute_input": "2025-04-05T21:22:00.053781Z",
     "iopub.status.busy": "2025-04-05T21:22:00.053373Z",
     "iopub.status.idle": "2025-04-05T21:22:00.057583Z",
     "shell.execute_reply": "2025-04-05T21:22:00.056530Z"
    },
    "papermill": {
     "duration": 0.020218,
     "end_time": "2025-04-05T21:22:00.059337",
     "exception": false,
     "start_time": "2025-04-05T21:22:00.039119",
     "status": "completed"
    },
    "tags": []
   },
   "outputs": [],
   "source": [
    "prompt = \"\"\"\n",
    "You are an AI assistant designed to solve math problems.\n",
    "Answer to the problem. Only when needed, include reasoning.\n",
    "Question: {question}\n",
    "Answer:\n",
    "\"\"\""
   ]
  },
  {
   "cell_type": "code",
   "execution_count": 26,
   "id": "396346bd",
   "metadata": {
    "execution": {
     "iopub.execute_input": "2025-04-05T21:22:00.085780Z",
     "iopub.status.busy": "2025-04-05T21:22:00.085383Z",
     "iopub.status.idle": "2025-04-05T21:23:35.667392Z",
     "shell.execute_reply": "2025-04-05T21:23:35.666152Z"
    },
    "papermill": {
     "duration": 95.609595,
     "end_time": "2025-04-05T21:23:35.681720",
     "exception": false,
     "start_time": "2025-04-05T21:22:00.072125",
     "status": "completed"
    },
    "tags": []
   },
   "outputs": [
    {
     "data": {
      "text/markdown": [
       "\n",
       "You are an AI assistant designed to solve math problems.\n",
       "Answer to the problem. Only when needed, include reasoning.\n",
       "\n",
       "\n",
       "**<font color='red'>Question:</font>** Eduard and John are brothers. \n",
       "    They split 10 apples.\n",
       "    Eduard has 2 more apples than John. \n",
       "    How many apples have each?\n",
       "\n",
       "\n",
       "**<font color='green'>Answer:</font>**\n",
       "Let's solve this problem step by step.\n",
       "Let $E$ be the number of apples Eduard has and $J$ be the number of apples John has.\n",
       "We are given that they split 10 apples, so $E + J = 10$.\n",
       "We are also given that Eduard has 2 more apples than John, so $E = J + 2$.\n",
       "Now we can substitute the second equation into the first equation:\n",
       "$(J + 2) + J = 10$\n",
       "$2J + 2 = 10$\n",
       "$2J = 8$\n",
       "$J = 4$\n",
       "Now we can find the number of apples Eduard has:\n",
       "$E = J + 2 = 4 + 2 = 6$\n",
       "So Eduard has 6 apples and John has 4 apples.\n",
       "We can check our answer:\n",
       "$E + J = 6 + 4 = 10$\n",
       "$E = J + 2 \\Rightarrow 6 = 4 + 2$, which is true.\n",
       "Final \n",
       "\n",
       "**<font color='green'>Answer:</font>** The final answer is $\\boxed{6, 4}$<end_of_turn>\n",
       "\n",
       "\n",
       "\n",
       "**<font color='magenta'>Total time:</font>** 95.58 sec."
      ],
      "text/plain": [
       "<IPython.core.display.Markdown object>"
      ]
     },
     "metadata": {},
     "output_type": "display_data"
    }
   ],
   "source": [
    "t = time()\n",
    "response = gemma_lm.generate(prompt.format(\n",
    "    question=\"\"\"Eduard and John are brothers. \n",
    "    They split 10 apples.\n",
    "    Eduard has 2 more apples than John. \n",
    "    How many apples have each?\"\"\"), \n",
    "    max_length=400)\n",
    "display(Markdown(colorize_text(f\"{response}\\n\\nTotal time: {round(time()-t, 2)} sec.\")))"
   ]
  },
  {
   "cell_type": "code",
   "execution_count": 27,
   "id": "636bda8d",
   "metadata": {
    "execution": {
     "iopub.execute_input": "2025-04-05T21:23:35.708954Z",
     "iopub.status.busy": "2025-04-05T21:23:35.708531Z",
     "iopub.status.idle": "2025-04-05T21:25:09.981131Z",
     "shell.execute_reply": "2025-04-05T21:25:09.979603Z"
    },
    "papermill": {
     "duration": 94.300079,
     "end_time": "2025-04-05T21:25:09.994740",
     "exception": false,
     "start_time": "2025-04-05T21:23:35.694661",
     "status": "completed"
    },
    "tags": []
   },
   "outputs": [
    {
     "data": {
      "text/markdown": [
       "\n",
       "You are an AI assistant designed to solve math problems.\n",
       "Answer to the problem. Only when needed, include reasoning.\n",
       "\n",
       "\n",
       "**<font color='red'>Question:</font>** 2x + 5y = 12\n",
       "                2y - x = 3\n",
       "                Solve the equation for x and y. \n",
       "                Hint: simplify first x.\n",
       "\n",
       "\n",
       "**<font color='green'>Answer:</font>**\n",
       "x = 3\n",
       "y = 2\n",
       "\n",
       "\n",
       "**<font color='darkblue'>Explanation:</font>**\n",
       "The given equations are:\n",
       "2x + 5y = 12\n",
       "2y - x = 3\n",
       "We can solve this system of equations by substitution.\n",
       "From the second equation, we can solve for x:\n",
       "2y - x = 3\n",
       "x = 2y - 3\n",
       "Substitute this expression for x into the first equation:\n",
       "2(2y - 3) + 5y = 12\n",
       "4y - 6 + 5y = 12\n",
       "9y - 6 = 12\n",
       "9y = 18\n",
       "y = 2\n",
       "Now, substitute y = 2 into the equation x = 2y - 3:\n",
       "x = 2(2) - 3\n",
       "x = 4 - 3\n",
       "x = 1\n",
       "Therefore, x = 1 and y = 2.\n",
       "The solution is x = 1, y = 2.\n",
       "Final \n",
       "\n",
       "**<font color='green'>Answer:</font>** The final answer is 1, 2.\n",
       "<end_of_turn>\n",
       "\n",
       "\n",
       "\n",
       "**<font color='magenta'>Total time:</font>** 94.26 sec."
      ],
      "text/plain": [
       "<IPython.core.display.Markdown object>"
      ]
     },
     "metadata": {},
     "output_type": "display_data"
    }
   ],
   "source": [
    "t = time()\n",
    "response = gemma_lm.generate(prompt.format(\n",
    "    question=\"\"\"2x + 5y = 12\n",
    "                2y - x = 3\n",
    "                Solve the equation for x and y. \n",
    "                Hint: simplify first x.\"\"\"), \n",
    "    max_length=512)\n",
    "display(Markdown(colorize_text(f\"{response}\\n\\nTotal time: {round(time()-t, 2)} sec.\")))"
   ]
  },
  {
   "cell_type": "code",
   "execution_count": 28,
   "id": "3c93000a",
   "metadata": {
    "execution": {
     "iopub.execute_input": "2025-04-05T21:25:10.021697Z",
     "iopub.status.busy": "2025-04-05T21:25:10.021292Z",
     "iopub.status.idle": "2025-04-05T21:26:35.264172Z",
     "shell.execute_reply": "2025-04-05T21:26:35.262900Z"
    },
    "papermill": {
     "duration": 85.272552,
     "end_time": "2025-04-05T21:26:35.279810",
     "exception": false,
     "start_time": "2025-04-05T21:25:10.007258",
     "status": "completed"
    },
    "tags": []
   },
   "outputs": [
    {
     "data": {
      "text/markdown": [
       "\n",
       "You are an AI assistant designed to solve math problems.\n",
       "Answer to the problem. Only when needed, include reasoning.\n",
       "\n",
       "\n",
       "**<font color='red'>Question:</font>** x^2 -5x + 6 = 0\n",
       "                Solve the equation for x. \n",
       "                \n",
       "\n",
       "\n",
       "**<font color='green'>Answer:</font>**\n",
       "The equation is a quadratic equation in the form ax^2 + bx + c = 0.\n",
       "In this case, a = 1, b = -5, and c = 6.\n",
       "We can use the quadratic formula to solve for x:\n",
       "x = (-b ± √(b^2 - 4ac)) / 2a\n",
       "Plugging in the values, we get:\n",
       "x = (-(-5) ± √((-5)^2 - 4 * 1 * 6)) / (2 * 1)\n",
       "x = (5 ± √(25 - 24)) / 2\n",
       "x = (5 ± √1) / 2\n",
       "x = (5 ± 1) / 2\n",
       "x1 = (5 + 1) / 2 = 6 / 2 = 3\n",
       "x2 = (5 - 1) / 2 = 4 / 2 = 2\n",
       "Therefore, the solutions are x = 3 and x = 2.\n",
       "The solutions are x =\n",
       "\n",
       "\n",
       "\n",
       "**<font color='magenta'>Total time:</font>** 85.24 sec."
      ],
      "text/plain": [
       "<IPython.core.display.Markdown object>"
      ]
     },
     "metadata": {},
     "output_type": "display_data"
    }
   ],
   "source": [
    "t = time()\n",
    "response = gemma_lm.generate(prompt.format(\n",
    "    question=\"\"\"x^2 -5x + 6 = 0\n",
    "                Solve the equation for x. \n",
    "                \"\"\"), \n",
    "    max_length=275)\n",
    "display(Markdown(colorize_text(f\"{response}\\n\\nTotal time: {round(time()-t, 2)} sec.\")))"
   ]
  },
  {
   "cell_type": "markdown",
   "id": "2291cf44",
   "metadata": {
    "papermill": {
     "duration": 0.012556,
     "end_time": "2025-04-05T21:26:35.305368",
     "exception": false,
     "start_time": "2025-04-05T21:26:35.292812",
     "status": "completed"
    },
    "tags": []
   },
   "source": [
    "## Write code\n",
    "\n",
    "Let's test the model for writing code."
   ]
  },
  {
   "cell_type": "markdown",
   "id": "249911d6",
   "metadata": {
    "papermill": {
     "duration": 0.012733,
     "end_time": "2025-04-05T21:26:35.331746",
     "exception": false,
     "start_time": "2025-04-05T21:26:35.319013",
     "status": "completed"
    },
    "tags": []
   },
   "source": [
    "### Python code"
   ]
  },
  {
   "cell_type": "code",
   "execution_count": 29,
   "id": "0d669133",
   "metadata": {
    "execution": {
     "iopub.execute_input": "2025-04-05T21:26:35.358591Z",
     "iopub.status.busy": "2025-04-05T21:26:35.358250Z",
     "iopub.status.idle": "2025-04-05T21:26:35.362499Z",
     "shell.execute_reply": "2025-04-05T21:26:35.361379Z"
    },
    "papermill": {
     "duration": 0.019967,
     "end_time": "2025-04-05T21:26:35.364306",
     "exception": false,
     "start_time": "2025-04-05T21:26:35.344339",
     "status": "completed"
    },
    "tags": []
   },
   "outputs": [],
   "source": [
    "prompt = \"\"\"\n",
    "You are an AI assistant designed to write simple Python code.\n",
    "Please answer with the listing of the Python code.\n",
    "Make sure to format the output using correct Markdown for code.\n",
    "Question: {question}\n",
    "Answer:\n",
    "\"\"\""
   ]
  },
  {
   "cell_type": "code",
   "execution_count": 30,
   "id": "69979eef",
   "metadata": {
    "execution": {
     "iopub.execute_input": "2025-04-05T21:26:35.391765Z",
     "iopub.status.busy": "2025-04-05T21:26:35.391370Z",
     "iopub.status.idle": "2025-04-05T21:27:19.321879Z",
     "shell.execute_reply": "2025-04-05T21:27:19.320738Z"
    },
    "papermill": {
     "duration": 43.958472,
     "end_time": "2025-04-05T21:27:19.335939",
     "exception": false,
     "start_time": "2025-04-05T21:26:35.377467",
     "status": "completed"
    },
    "tags": []
   },
   "outputs": [
    {
     "data": {
      "text/markdown": [
       "\n",
       "You are an AI assistant designed to write simple Python code.\n",
       "Please answer with the listing of the Python code.\n",
       "Make sure to format the output using correct Markdown for code.\n",
       "\n",
       "\n",
       "**<font color='red'>Question:</font>** Please write a function in Python to calculate the area of a square with edge 'a'\n",
       "\n",
       "\n",
       "**<font color='green'>Answer:</font>**\n",
       "```python\n",
       "def calculate_square_area(a):\n",
       "    \"\"\"\n",
       "    Calculate the area of a square with edge 'a'.\n",
       "\n",
       "    Args:\n",
       "        a: The length of the side of the square.\n",
       "\n",
       "    Returns:\n",
       "        The area of the square.\n",
       "    \"\"\"\n",
       "    area = a * a\n",
       "    return area\n",
       "```\n",
       "<end_of_turn>\n",
       "\n",
       "\n",
       "\n",
       "**<font color='magenta'>Total time:</font>** 43.92 sec."
      ],
      "text/plain": [
       "<IPython.core.display.Markdown object>"
      ]
     },
     "metadata": {},
     "output_type": "display_data"
    }
   ],
   "source": [
    "t = time()\n",
    "response = gemma_lm.generate(prompt.format(question=\"Please write a function in Python to calculate the area of a square with edge 'a'\"), \n",
    "                             max_length=256)\n",
    "display(Markdown(colorize_text(f\"{response}\\n\\nTotal time: {round(time()-t, 2)} sec.\")))"
   ]
  },
  {
   "cell_type": "code",
   "execution_count": 31,
   "id": "2f74748c",
   "metadata": {
    "execution": {
     "iopub.execute_input": "2025-04-05T21:27:19.363582Z",
     "iopub.status.busy": "2025-04-05T21:27:19.363214Z",
     "iopub.status.idle": "2025-04-05T21:27:44.735551Z",
     "shell.execute_reply": "2025-04-05T21:27:44.734383Z"
    },
    "papermill": {
     "duration": 25.3884,
     "end_time": "2025-04-05T21:27:44.737301",
     "exception": false,
     "start_time": "2025-04-05T21:27:19.348901",
     "status": "completed"
    },
    "tags": []
   },
   "outputs": [
    {
     "data": {
      "text/markdown": [
       "\n",
       "You are an AI assistant designed to write simple Python code.\n",
       "Please answer with the listing of the Python code.\n",
       "Make sure to format the output using correct Markdown for code.\n",
       "\n",
       "\n",
       "**<font color='red'>Question:</font>** Write a function in Python to calculate the area of a circle of radius r\n",
       "\n",
       "\n",
       "**<font color='green'>Answer:</font>**\n",
       "```python\n",
       "import math\n",
       "\n",
       "def calculate_circle_area(r):\n",
       "  \"\"\"\n",
       "  Calculate the area of a circle.\n",
       "\n",
       "  Args:\n",
       "    r: The radius of the circle.\n",
       "\n",
       "  Returns:\n",
       "    The area of the circle.\n",
       "  \"\"\"\n",
       "  area = math.pi * r**2\n",
       "  return area\n",
       "```\n",
       "<end_of_turn>\n",
       "\n",
       "\n",
       "\n",
       "**<font color='magenta'>Total time:</font>** 25.37 sec."
      ],
      "text/plain": [
       "<IPython.core.display.Markdown object>"
      ]
     },
     "metadata": {},
     "output_type": "display_data"
    }
   ],
   "source": [
    "t = time()\n",
    "response = gemma_lm.generate(prompt.format(question=\"Write a function in Python to calculate the area of a circle of radius r\"), \n",
    "                             max_length=256)\n",
    "display(Markdown(colorize_text(f\"{response}\\n\\nTotal time: {round(time()-t, 2)} sec.\")))"
   ]
  },
  {
   "cell_type": "code",
   "execution_count": 32,
   "id": "8c72a09c",
   "metadata": {
    "execution": {
     "iopub.execute_input": "2025-04-05T21:27:44.766039Z",
     "iopub.status.busy": "2025-04-05T21:27:44.765614Z",
     "iopub.status.idle": "2025-04-05T21:28:40.471799Z",
     "shell.execute_reply": "2025-04-05T21:28:40.470251Z"
    },
    "papermill": {
     "duration": 55.735,
     "end_time": "2025-04-05T21:28:40.486286",
     "exception": false,
     "start_time": "2025-04-05T21:27:44.751286",
     "status": "completed"
    },
    "tags": []
   },
   "outputs": [
    {
     "data": {
      "text/markdown": [
       "\n",
       "You are an AI assistant designed to write simple Python code.\n",
       "Please answer with the listing of the Python code.\n",
       "Make sure to format the output using correct Markdown for code.\n",
       "\n",
       "\n",
       "**<font color='red'>Question:</font>** Write a function in Python to calculate cosine similarity of two vectors.\n",
       "\n",
       "\n",
       "**<font color='green'>Answer:</font>**\n",
       "```python\n",
       "import numpy as np\n",
       "\n",
       "def cosine_similarity(vec1, vec2):\n",
       "    \"\"\"\n",
       "    Calculate the cosine similarity of two vectors.\n",
       "\n",
       "    Args:\n",
       "        vec1 (numpy.ndarray): The first vector.\n",
       "        vec2 (numpy.ndarray): The second vector.\n",
       "\n",
       "    Returns:\n",
       "        float: The cosine similarity of the two vectors.\n",
       "    \"\"\"\n",
       "    dot_product = np.dot(vec1, vec2)\n",
       "    magnitude_vec1 = np.linalg.norm(vec1)\n",
       "    magnitude_vec2 = np.linalg.norm(vec2)\n",
       "    if magnitude_vec1 == 0 or magnitude_vec2 == 0:\n",
       "        return 0.0\n",
       "    return dot_product / (magnitude_vec1 * magnitude_vec2)\n",
       "```\n",
       "<end_of_turn>\n",
       "\n",
       "\n",
       "\n",
       "**<font color='magenta'>Total time:</font>** 55.7 sec."
      ],
      "text/plain": [
       "<IPython.core.display.Markdown object>"
      ]
     },
     "metadata": {},
     "output_type": "display_data"
    }
   ],
   "source": [
    "t = time()\n",
    "response = gemma_lm.generate(prompt.format(question=\"Write a function in Python to calculate cosine similarity of two vectors.\"), \n",
    "                             max_length=256)\n",
    "display(Markdown(colorize_text(f\"{response}\\n\\nTotal time: {round(time()-t, 2)} sec.\")))"
   ]
  },
  {
   "cell_type": "markdown",
   "id": "8ce6e7f3",
   "metadata": {
    "papermill": {
     "duration": 0.012993,
     "end_time": "2025-04-05T21:28:40.513185",
     "exception": false,
     "start_time": "2025-04-05T21:28:40.500192",
     "status": "completed"
    },
    "tags": []
   },
   "source": [
    "The code is correct, carefully documented and clean for all the examples above."
   ]
  },
  {
   "cell_type": "markdown",
   "id": "03f09d19",
   "metadata": {
    "papermill": {
     "duration": 0.013164,
     "end_time": "2025-04-05T21:28:40.539552",
     "exception": false,
     "start_time": "2025-04-05T21:28:40.526388",
     "status": "completed"
    },
    "tags": []
   },
   "source": [
    "### C++ code\n",
    "\n",
    "Let's test now the model with writing C++ code."
   ]
  },
  {
   "cell_type": "code",
   "execution_count": 33,
   "id": "93d5d077",
   "metadata": {
    "execution": {
     "iopub.execute_input": "2025-04-05T21:28:40.568721Z",
     "iopub.status.busy": "2025-04-05T21:28:40.568319Z",
     "iopub.status.idle": "2025-04-05T21:28:40.572951Z",
     "shell.execute_reply": "2025-04-05T21:28:40.571607Z"
    },
    "papermill": {
     "duration": 0.02176,
     "end_time": "2025-04-05T21:28:40.574949",
     "exception": false,
     "start_time": "2025-04-05T21:28:40.553189",
     "status": "completed"
    },
    "tags": []
   },
   "outputs": [],
   "source": [
    "prompt = \"\"\"\n",
    "You are an AI assistant designed to write simple C++ code.\n",
    "Please answer with the listing of the C code.\n",
    "Make sure to format the output using correct Markdown for code.\n",
    "Question: {question}\n",
    "Answer:\n",
    "\"\"\""
   ]
  },
  {
   "cell_type": "code",
   "execution_count": 34,
   "id": "3e3e5120",
   "metadata": {
    "execution": {
     "iopub.execute_input": "2025-04-05T21:28:40.603731Z",
     "iopub.status.busy": "2025-04-05T21:28:40.603318Z",
     "iopub.status.idle": "2025-04-05T21:29:57.411692Z",
     "shell.execute_reply": "2025-04-05T21:29:57.409905Z"
    },
    "papermill": {
     "duration": 76.841093,
     "end_time": "2025-04-05T21:29:57.430067",
     "exception": false,
     "start_time": "2025-04-05T21:28:40.588974",
     "status": "completed"
    },
    "tags": []
   },
   "outputs": [
    {
     "data": {
      "text/markdown": [
       "\n",
       "You are an AI assistant designed to write simple C++ code.\n",
       "Please answer with the listing of the C code.\n",
       "Make sure to format the output using correct Markdown for code.\n",
       "\n",
       "\n",
       "**<font color='red'>Question:</font>** Write a C++ function to calculate linear product of two vectors.\n",
       "\n",
       "\n",
       "**<font color='green'>Answer:</font>**\n",
       "```cpp\n",
       "#include <iostream>\n",
       "#include <vector>\n",
       "\n",
       "using namespace std;\n",
       "\n",
       "// Function to calculate the product of two vectors\n",
       "vector<int> productOfVectors(const vector<int>& vec1, const vector<int>& vec2) {\n",
       "  vector<int> result;\n",
       "  for (int i = 0; i < vec1.size(); ++i) {\n",
       "    result.push_back(vec1[i] * vec2[i]);\n",
       "  }\n",
       "  return result;\n",
       "}\n",
       "\n",
       "int main() {\n",
       "  vector<int> v1 = {1, 2, 3};\n",
       "  vector<int> v2 = {4, 5, 6};\n",
       "  vector<int> product = productOfVectors(v1, v2);\n",
       "  cout << \"Product: \";\n",
       "  for (int i = 0; i < product.size(); ++i) {\n",
       "    cout << product[i] << \" \";\n",
       "  }\n",
       "  cout << endl;\n",
       "  return 0;\n",
       "}\n",
       "```\n",
       "<end_of_turn>\n",
       "\n",
       "\n",
       "\n",
       "**<font color='magenta'>Total time:</font>** 76.8 sec."
      ],
      "text/plain": [
       "<IPython.core.display.Markdown object>"
      ]
     },
     "metadata": {},
     "output_type": "display_data"
    }
   ],
   "source": [
    "t = time()\n",
    "response = gemma_lm.generate(prompt.format(question=\"Write a C++ function to calculate linear product of two vectors.\"), \n",
    "                             max_length=400)\n",
    "display(Markdown(colorize_text(f\"{response}\\n\\nTotal time: {round(time()-t, 2)} sec.\")))"
   ]
  },
  {
   "cell_type": "markdown",
   "id": "8da29df5",
   "metadata": {
    "papermill": {
     "duration": 0.013171,
     "end_time": "2025-04-05T21:29:57.456836",
     "exception": false,
     "start_time": "2025-04-05T21:29:57.443665",
     "status": "completed"
    },
    "tags": []
   },
   "source": [
    "### C code\n",
    "\n",
    "\n",
    "Let's try a tricky C question."
   ]
  },
  {
   "cell_type": "code",
   "execution_count": 35,
   "id": "eb33954b",
   "metadata": {
    "execution": {
     "iopub.execute_input": "2025-04-05T21:29:57.487812Z",
     "iopub.status.busy": "2025-04-05T21:29:57.487401Z",
     "iopub.status.idle": "2025-04-05T21:29:57.492770Z",
     "shell.execute_reply": "2025-04-05T21:29:57.491141Z"
    },
    "papermill": {
     "duration": 0.023015,
     "end_time": "2025-04-05T21:29:57.494968",
     "exception": false,
     "start_time": "2025-04-05T21:29:57.471953",
     "status": "completed"
    },
    "tags": []
   },
   "outputs": [],
   "source": [
    "prompt = \"\"\"\n",
    "You are an AI assistant designed to write simple C code.\n",
    "Please answer with the listing of the C code.\n",
    "Make sure to format the output using correct Markdown for code.\n",
    "Question: {question}\n",
    "Answer:\n",
    "\"\"\""
   ]
  },
  {
   "cell_type": "code",
   "execution_count": 36,
   "id": "6bd28b5b",
   "metadata": {
    "execution": {
     "iopub.execute_input": "2025-04-05T21:29:57.523597Z",
     "iopub.status.busy": "2025-04-05T21:29:57.523222Z",
     "iopub.status.idle": "2025-04-05T21:30:40.536434Z",
     "shell.execute_reply": "2025-04-05T21:30:40.535136Z"
    },
    "papermill": {
     "duration": 43.043773,
     "end_time": "2025-04-05T21:30:40.552172",
     "exception": false,
     "start_time": "2025-04-05T21:29:57.508399",
     "status": "completed"
    },
    "tags": []
   },
   "outputs": [
    {
     "data": {
      "text/markdown": [
       "\n",
       "You are an AI assistant designed to write simple C code.\n",
       "Please answer with the listing of the C code.\n",
       "Make sure to format the output using correct Markdown for code.\n",
       "\n",
       "\n",
       "**<font color='red'>Question:</font>** Write a C program that calculate n factorial.\n",
       "\n",
       "\n",
       "**<font color='green'>Answer:</font>**\n",
       "```c\n",
       "#include <stdio.h>\n",
       "\n",
       "int main() {\n",
       "  int n;\n",
       "  printf(\"Enter a non-negative integer: \");\n",
       "  scanf(\"%d\", &n);\n",
       "\n",
       "  if (n < 0) {\n",
       "    printf(\"Factorial is not defined for negative numbers.\\n\");\n",
       "  } else {\n",
       "    long\n",
       "\n",
       "\n",
       "\n",
       "**<font color='magenta'>Total time:</font>** 43.01 sec."
      ],
      "text/plain": [
       "<IPython.core.display.Markdown object>"
      ]
     },
     "metadata": {},
     "output_type": "display_data"
    }
   ],
   "source": [
    "t = time()\n",
    "response = gemma_lm.generate(prompt.format(question=\"Write a C program that calculate n factorial.\"), \n",
    "                             max_length=128)\n",
    "display(Markdown(colorize_text(f\"{response}\\n\\nTotal time: {round(time()-t, 2)} sec.\")))"
   ]
  },
  {
   "cell_type": "markdown",
   "id": "b1063e9c",
   "metadata": {
    "papermill": {
     "duration": 0.013318,
     "end_time": "2025-04-05T21:30:40.579171",
     "exception": false,
     "start_time": "2025-04-05T21:30:40.565853",
     "status": "completed"
    },
    "tags": []
   },
   "source": [
    "# Conclusions\n",
    "\n",
    "\n",
    "We tested the Gemma 3 instruct 1B model from Google DeepMind.  \n",
    "This is a very powerful model that proved to be quite proficient with simple history, geography and general knowledge questions.  \n",
    "We tested then with arithmetics and answered correctly.  \n",
    "When prompted to solve simple math equations, it also went well.  \n",
    "It performed quite well with code writing, we tested it for Python, C++, and C.  \n",
    "\n"
   ]
  }
 ],
 "metadata": {
  "kaggle": {
   "accelerator": "none",
   "dataSources": [
    {
     "modelId": 279036,
     "modelInstanceId": 257759,
     "sourceId": 316994,
     "sourceType": "modelInstanceVersion"
    }
   ],
   "dockerImageVersionId": 30918,
   "isGpuEnabled": false,
   "isInternetEnabled": true,
   "language": "python",
   "sourceType": "notebook"
  },
  "kernelspec": {
   "display_name": "Python 3",
   "language": "python",
   "name": "python3"
  },
  "language_info": {
   "codemirror_mode": {
    "name": "ipython",
    "version": 3
   },
   "file_extension": ".py",
   "mimetype": "text/x-python",
   "name": "python",
   "nbconvert_exporter": "python",
   "pygments_lexer": "ipython3",
   "version": "3.10.12"
  },
  "papermill": {
   "default_parameters": {},
   "duration": 658.46112,
   "end_time": "2025-04-05T21:30:44.042087",
   "environment_variables": {},
   "exception": null,
   "input_path": "__notebook__.ipynb",
   "output_path": "__notebook__.ipynb",
   "parameters": {},
   "start_time": "2025-04-05T21:19:45.580967",
   "version": "2.6.0"
  }
 },
 "nbformat": 4,
 "nbformat_minor": 5
}
