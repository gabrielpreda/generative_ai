{
 "cells": [
  {
   "cell_type": "markdown",
   "id": "299c0fbb",
   "metadata": {
    "_cell_guid": "b1076dfc-b9ad-4769-8c92-a6c4dae69d19",
    "_uuid": "8f2839f25d086af736a60e9eeb907d3b93b6e0e5",
    "papermill": {
     "duration": 0.011408,
     "end_time": "2025-04-09T21:58:10.347248",
     "exception": false,
     "start_time": "2025-04-09T21:58:10.335840",
     "status": "completed"
    },
    "tags": []
   },
   "source": [
    "<center><img src=\"https://www.geeky-gadgets.com/wp-content/uploads/2025/03/google-gemma-3-advanced-ai-models.webp\"></img></center>\n",
    "\n",
    "# Introduction\n",
    "This Notebook will explore how to prompt Gemma 3 1B instruct (fine-tuned), using KerasNLP. \n",
    "In a previous work, we explored the features of Gemma 3 1B (pre-trained): [Talk to Me Nice: Pro-Level Prompting for Gemma 3](https://www.kaggle.com/code/gpreda/talk-to-me-nice-pro-level-prompting-for-gemma-3)\n",
    "\n",
    "## What is Gemma?\n",
    "Gemma is a family of lightweight, state-of-the art open models built from the same research and technology used to create the Gemini models. At the 3rd generation now, Gemma 3 comes in 4 sizes, **1B**, **4B**, **12B** and **27B**, both pretrained and instruction finetuned versions.   \n",
    "\n",
    "Models **4B**, **12B**, **27B** brings an extended context window (up to **128K**) as well as **multi-modality** (text and image). \n",
    "\n",
    "The **1B** model, although incredibly compact, is not only very fast but is also quite powerful.\n",
    "\n",
    "As in the previous Notebook mentioned above, we will use the **1B intruct** model, on CPU only, without any accelerator.\n",
    "\n",
    "## How we will test the model?\n",
    "\n",
    "We will first initize the model and then we will test with simple common knowledge questions, followed by algebra and equations. Then we will test the model for writing code.\n",
    "\n",
    "\n",
    "# Prerequisites\n",
    "\n",
    "## Install packages\n",
    "\n",
    "We will install Keras and KerasNLP.\n"
   ]
  },
  {
   "cell_type": "code",
   "execution_count": 1,
   "id": "e16b06a3",
   "metadata": {
    "execution": {
     "iopub.execute_input": "2025-04-09T21:58:10.370634Z",
     "iopub.status.busy": "2025-04-09T21:58:10.370291Z",
     "iopub.status.idle": "2025-04-09T21:58:24.968125Z",
     "shell.execute_reply": "2025-04-09T21:58:24.966301Z"
    },
    "papermill": {
     "duration": 14.611188,
     "end_time": "2025-04-09T21:58:24.970497",
     "exception": false,
     "start_time": "2025-04-09T21:58:10.359309",
     "status": "completed"
    },
    "tags": []
   },
   "outputs": [
    {
     "name": "stdout",
     "output_type": "stream",
     "text": [
      "\u001b[2K   \u001b[90m━━━━━━━━━━━━━━━━━━━━━━━━━━━━━━━━━━━━━━━━\u001b[0m \u001b[32m792.1/792.1 kB\u001b[0m \u001b[31m16.8 MB/s\u001b[0m eta \u001b[36m0:00:00\u001b[0m\r\n",
      "\u001b[2K   \u001b[90m━━━━━━━━━━━━━━━━━━━━━━━━━━━━━━━━━━━━━━━━\u001b[0m \u001b[32m1.3/1.3 MB\u001b[0m \u001b[31m22.5 MB/s\u001b[0m eta \u001b[36m0:00:00\u001b[0m\r\n",
      "\u001b[?25h\u001b[31mERROR: pip's dependency resolver does not currently take into account all the packages that are installed. This behaviour is the source of the following dependency conflicts.\r\n",
      "tensorflow-decision-forests 1.10.0 requires tensorflow==2.17.0, but you have tensorflow 2.17.1 which is incompatible.\u001b[0m\u001b[31m\r\n",
      "\u001b[0m"
     ]
    }
   ],
   "source": [
    "!pip install -q -U keras-nlp\n",
    "!pip install -q -U keras"
   ]
  },
  {
   "cell_type": "markdown",
   "id": "0926ac4a",
   "metadata": {
    "papermill": {
     "duration": 0.009869,
     "end_time": "2025-04-09T21:58:24.991439",
     "exception": false,
     "start_time": "2025-04-09T21:58:24.981570",
     "status": "completed"
    },
    "tags": []
   },
   "source": [
    "## Import packages"
   ]
  },
  {
   "cell_type": "code",
   "execution_count": 2,
   "id": "a7f69655",
   "metadata": {
    "execution": {
     "iopub.execute_input": "2025-04-09T21:58:25.013849Z",
     "iopub.status.busy": "2025-04-09T21:58:25.013381Z",
     "iopub.status.idle": "2025-04-09T21:58:43.466278Z",
     "shell.execute_reply": "2025-04-09T21:58:43.465172Z"
    },
    "papermill": {
     "duration": 18.466534,
     "end_time": "2025-04-09T21:58:43.468313",
     "exception": false,
     "start_time": "2025-04-09T21:58:25.001779",
     "status": "completed"
    },
    "tags": []
   },
   "outputs": [],
   "source": [
    "import keras\n",
    "import keras_nlp\n",
    "from keras_nlp.samplers import TopKSampler\n",
    "from time import time"
   ]
  },
  {
   "cell_type": "markdown",
   "id": "e65fd215",
   "metadata": {
    "papermill": {
     "duration": 0.009482,
     "end_time": "2025-04-09T21:58:43.488218",
     "exception": false,
     "start_time": "2025-04-09T21:58:43.478736",
     "status": "completed"
    },
    "tags": []
   },
   "source": [
    "# Prepare the model"
   ]
  },
  {
   "cell_type": "markdown",
   "id": "ba1582c3",
   "metadata": {
    "papermill": {
     "duration": 0.009253,
     "end_time": "2025-04-09T21:58:43.507374",
     "exception": false,
     "start_time": "2025-04-09T21:58:43.498121",
     "status": "completed"
    },
    "tags": []
   },
   "source": [
    "## Select the backend \n",
    "\n",
    "Keras is a high-level, multi-framework deep learning API designed for simplicity and ease of use.   \n",
    "Keras 3 lets you choose the backend: \n",
    "* TensorFlow\n",
    "* JAX\n",
    "* PyTorch\n",
    "\n",
    "\n",
    "For this Notebook, we will choose **JAX** as backend."
   ]
  },
  {
   "cell_type": "code",
   "execution_count": 3,
   "id": "73648fd9",
   "metadata": {
    "execution": {
     "iopub.execute_input": "2025-04-09T21:58:43.529894Z",
     "iopub.status.busy": "2025-04-09T21:58:43.528959Z",
     "iopub.status.idle": "2025-04-09T21:58:43.534554Z",
     "shell.execute_reply": "2025-04-09T21:58:43.533405Z"
    },
    "papermill": {
     "duration": 0.018809,
     "end_time": "2025-04-09T21:58:43.536190",
     "exception": false,
     "start_time": "2025-04-09T21:58:43.517381",
     "status": "completed"
    },
    "tags": []
   },
   "outputs": [],
   "source": [
    "import os\n",
    "os.environ[\"KERAS_BACKEND\"] = \"jax\"\n",
    "os.environ[\"XLA_PYTHON_CLIENT_MEM_FRACTION\"] = \"0.9\""
   ]
  },
  {
   "cell_type": "markdown",
   "id": "dede5fbc",
   "metadata": {
    "papermill": {
     "duration": 0.009531,
     "end_time": "2025-04-09T21:58:43.555426",
     "exception": false,
     "start_time": "2025-04-09T21:58:43.545895",
     "status": "completed"
    },
    "tags": []
   },
   "source": [
    "## Initialize the model"
   ]
  },
  {
   "cell_type": "code",
   "execution_count": 4,
   "id": "9bd0e737",
   "metadata": {
    "execution": {
     "iopub.execute_input": "2025-04-09T21:58:43.576480Z",
     "iopub.status.busy": "2025-04-09T21:58:43.575977Z",
     "iopub.status.idle": "2025-04-09T21:59:16.028376Z",
     "shell.execute_reply": "2025-04-09T21:59:16.023627Z"
    },
    "papermill": {
     "duration": 32.470724,
     "end_time": "2025-04-09T21:59:16.035926",
     "exception": false,
     "start_time": "2025-04-09T21:58:43.565202",
     "status": "completed"
    },
    "tags": []
   },
   "outputs": [],
   "source": [
    "gemma_lm = keras_nlp.models.Gemma3CausalLM.from_preset(\"/kaggle/input/gemma3/keras/gemma3_instruct_1b/3\")\n",
    "tokenizer = keras_nlp.models.Gemma3Tokenizer.from_preset(\"/kaggle/input/gemma3/keras/gemma3_instruct_1b/3\")"
   ]
  },
  {
   "cell_type": "markdown",
   "id": "06a39ca2",
   "metadata": {
    "papermill": {
     "duration": 0.011912,
     "end_time": "2025-04-09T21:59:16.063337",
     "exception": false,
     "start_time": "2025-04-09T21:59:16.051425",
     "status": "completed"
    },
    "tags": []
   },
   "source": [
    "## Verify the model"
   ]
  },
  {
   "cell_type": "code",
   "execution_count": 5,
   "id": "06a55231",
   "metadata": {
    "execution": {
     "iopub.execute_input": "2025-04-09T21:59:16.089926Z",
     "iopub.status.busy": "2025-04-09T21:59:16.089483Z",
     "iopub.status.idle": "2025-04-09T21:59:16.134103Z",
     "shell.execute_reply": "2025-04-09T21:59:16.132843Z"
    },
    "papermill": {
     "duration": 0.061101,
     "end_time": "2025-04-09T21:59:16.136207",
     "exception": false,
     "start_time": "2025-04-09T21:59:16.075106",
     "status": "completed"
    },
    "tags": []
   },
   "outputs": [
    {
     "data": {
      "text/html": [
       "<pre style=\"white-space:pre;overflow-x:auto;line-height:normal;font-family:Menlo,'DejaVu Sans Mono',consolas,'Courier New',monospace\"><span style=\"font-weight: bold\">Preprocessor: \"gemma3_causal_lm_preprocessor\"</span>\n",
       "</pre>\n"
      ],
      "text/plain": [
       "\u001b[1mPreprocessor: \"gemma3_causal_lm_preprocessor\"\u001b[0m\n"
      ]
     },
     "metadata": {},
     "output_type": "display_data"
    },
    {
     "data": {
      "text/html": [
       "<pre style=\"white-space:pre;overflow-x:auto;line-height:normal;font-family:Menlo,'DejaVu Sans Mono',consolas,'Courier New',monospace\">┏━━━━━━━━━━━━━━━━━━━━━━━━━━━━━━━━━━━━━━━━━━━━━━━━━━━━━━━━━━━━━━━┳━━━━━━━━━━━━━━━━━━━━━━━━━━━━━━━━━━━━━━━━━━┓\n",
       "┃<span style=\"font-weight: bold\"> Layer (type)                                                  </span>┃<span style=\"font-weight: bold\">                                   Config </span>┃\n",
       "┡━━━━━━━━━━━━━━━━━━━━━━━━━━━━━━━━━━━━━━━━━━━━━━━━━━━━━━━━━━━━━━━╇━━━━━━━━━━━━━━━━━━━━━━━━━━━━━━━━━━━━━━━━━━┩\n",
       "│ gemma3_tokenizer (<span style=\"color: #0087ff; text-decoration-color: #0087ff\">Gemma3Tokenizer</span>)                            │                      Vocab size: <span style=\"color: #00af00; text-decoration-color: #00af00\">262,144</span> │\n",
       "└───────────────────────────────────────────────────────────────┴──────────────────────────────────────────┘\n",
       "</pre>\n"
      ],
      "text/plain": [
       "┏━━━━━━━━━━━━━━━━━━━━━━━━━━━━━━━━━━━━━━━━━━━━━━━━━━━━━━━━━━━━━━━┳━━━━━━━━━━━━━━━━━━━━━━━━━━━━━━━━━━━━━━━━━━┓\n",
       "┃\u001b[1m \u001b[0m\u001b[1mLayer (type)                                                 \u001b[0m\u001b[1m \u001b[0m┃\u001b[1m \u001b[0m\u001b[1m                                  Config\u001b[0m\u001b[1m \u001b[0m┃\n",
       "┡━━━━━━━━━━━━━━━━━━━━━━━━━━━━━━━━━━━━━━━━━━━━━━━━━━━━━━━━━━━━━━━╇━━━━━━━━━━━━━━━━━━━━━━━━━━━━━━━━━━━━━━━━━━┩\n",
       "│ gemma3_tokenizer (\u001b[38;5;33mGemma3Tokenizer\u001b[0m)                            │                      Vocab size: \u001b[38;5;34m262,144\u001b[0m │\n",
       "└───────────────────────────────────────────────────────────────┴──────────────────────────────────────────┘\n"
      ]
     },
     "metadata": {},
     "output_type": "display_data"
    },
    {
     "data": {
      "text/html": [
       "<pre style=\"white-space:pre;overflow-x:auto;line-height:normal;font-family:Menlo,'DejaVu Sans Mono',consolas,'Courier New',monospace\"><span style=\"font-weight: bold\">Model: \"gemma3_causal_lm\"</span>\n",
       "</pre>\n"
      ],
      "text/plain": [
       "\u001b[1mModel: \"gemma3_causal_lm\"\u001b[0m\n"
      ]
     },
     "metadata": {},
     "output_type": "display_data"
    },
    {
     "data": {
      "text/html": [
       "<pre style=\"white-space:pre;overflow-x:auto;line-height:normal;font-family:Menlo,'DejaVu Sans Mono',consolas,'Courier New',monospace\">┏━━━━━━━━━━━━━━━━━━━━━━━━━━━━━━━┳━━━━━━━━━━━━━━━━━━━━━━━━━━━┳━━━━━━━━━━━━━━━━━┳━━━━━━━━━━━━━━━━━━━━━━━━━━━━┓\n",
       "┃<span style=\"font-weight: bold\"> Layer (type)                  </span>┃<span style=\"font-weight: bold\"> Output Shape              </span>┃<span style=\"font-weight: bold\">         Param # </span>┃<span style=\"font-weight: bold\"> Connected to               </span>┃\n",
       "┡━━━━━━━━━━━━━━━━━━━━━━━━━━━━━━━╇━━━━━━━━━━━━━━━━━━━━━━━━━━━╇━━━━━━━━━━━━━━━━━╇━━━━━━━━━━━━━━━━━━━━━━━━━━━━┩\n",
       "│ padding_mask (<span style=\"color: #0087ff; text-decoration-color: #0087ff\">InputLayer</span>)     │ (<span style=\"color: #00d7ff; text-decoration-color: #00d7ff\">None</span>, <span style=\"color: #00d7ff; text-decoration-color: #00d7ff\">None</span>)              │               <span style=\"color: #00af00; text-decoration-color: #00af00\">0</span> │ -                          │\n",
       "├───────────────────────────────┼───────────────────────────┼─────────────────┼────────────────────────────┤\n",
       "│ token_ids (<span style=\"color: #0087ff; text-decoration-color: #0087ff\">InputLayer</span>)        │ (<span style=\"color: #00d7ff; text-decoration-color: #00d7ff\">None</span>, <span style=\"color: #00d7ff; text-decoration-color: #00d7ff\">None</span>)              │               <span style=\"color: #00af00; text-decoration-color: #00af00\">0</span> │ -                          │\n",
       "├───────────────────────────────┼───────────────────────────┼─────────────────┼────────────────────────────┤\n",
       "│ gemma3_backbone               │ (<span style=\"color: #00d7ff; text-decoration-color: #00d7ff\">None</span>, <span style=\"color: #00d7ff; text-decoration-color: #00d7ff\">None</span>, <span style=\"color: #00af00; text-decoration-color: #00af00\">1152</span>)        │     <span style=\"color: #00af00; text-decoration-color: #00af00\">999,885,952</span> │ padding_mask[<span style=\"color: #00af00; text-decoration-color: #00af00\">0</span>][<span style=\"color: #00af00; text-decoration-color: #00af00\">0</span>],        │\n",
       "│ (<span style=\"color: #0087ff; text-decoration-color: #0087ff\">Gemma3Backbone</span>)              │                           │                 │ token_ids[<span style=\"color: #00af00; text-decoration-color: #00af00\">0</span>][<span style=\"color: #00af00; text-decoration-color: #00af00\">0</span>]            │\n",
       "├───────────────────────────────┼───────────────────────────┼─────────────────┼────────────────────────────┤\n",
       "│ token_embedding               │ (<span style=\"color: #00d7ff; text-decoration-color: #00d7ff\">None</span>, <span style=\"color: #00d7ff; text-decoration-color: #00d7ff\">None</span>, <span style=\"color: #00af00; text-decoration-color: #00af00\">262144</span>)      │     <span style=\"color: #00af00; text-decoration-color: #00af00\">301,989,888</span> │ gemma3_backbone[<span style=\"color: #00af00; text-decoration-color: #00af00\">0</span>][<span style=\"color: #00af00; text-decoration-color: #00af00\">0</span>]      │\n",
       "│ (<span style=\"color: #0087ff; text-decoration-color: #0087ff\">ReversibleEmbedding</span>)         │                           │                 │                            │\n",
       "└───────────────────────────────┴───────────────────────────┴─────────────────┴────────────────────────────┘\n",
       "</pre>\n"
      ],
      "text/plain": [
       "┏━━━━━━━━━━━━━━━━━━━━━━━━━━━━━━━┳━━━━━━━━━━━━━━━━━━━━━━━━━━━┳━━━━━━━━━━━━━━━━━┳━━━━━━━━━━━━━━━━━━━━━━━━━━━━┓\n",
       "┃\u001b[1m \u001b[0m\u001b[1mLayer (type)                 \u001b[0m\u001b[1m \u001b[0m┃\u001b[1m \u001b[0m\u001b[1mOutput Shape             \u001b[0m\u001b[1m \u001b[0m┃\u001b[1m \u001b[0m\u001b[1m        Param #\u001b[0m\u001b[1m \u001b[0m┃\u001b[1m \u001b[0m\u001b[1mConnected to              \u001b[0m\u001b[1m \u001b[0m┃\n",
       "┡━━━━━━━━━━━━━━━━━━━━━━━━━━━━━━━╇━━━━━━━━━━━━━━━━━━━━━━━━━━━╇━━━━━━━━━━━━━━━━━╇━━━━━━━━━━━━━━━━━━━━━━━━━━━━┩\n",
       "│ padding_mask (\u001b[38;5;33mInputLayer\u001b[0m)     │ (\u001b[38;5;45mNone\u001b[0m, \u001b[38;5;45mNone\u001b[0m)              │               \u001b[38;5;34m0\u001b[0m │ -                          │\n",
       "├───────────────────────────────┼───────────────────────────┼─────────────────┼────────────────────────────┤\n",
       "│ token_ids (\u001b[38;5;33mInputLayer\u001b[0m)        │ (\u001b[38;5;45mNone\u001b[0m, \u001b[38;5;45mNone\u001b[0m)              │               \u001b[38;5;34m0\u001b[0m │ -                          │\n",
       "├───────────────────────────────┼───────────────────────────┼─────────────────┼────────────────────────────┤\n",
       "│ gemma3_backbone               │ (\u001b[38;5;45mNone\u001b[0m, \u001b[38;5;45mNone\u001b[0m, \u001b[38;5;34m1152\u001b[0m)        │     \u001b[38;5;34m999,885,952\u001b[0m │ padding_mask[\u001b[38;5;34m0\u001b[0m][\u001b[38;5;34m0\u001b[0m],        │\n",
       "│ (\u001b[38;5;33mGemma3Backbone\u001b[0m)              │                           │                 │ token_ids[\u001b[38;5;34m0\u001b[0m][\u001b[38;5;34m0\u001b[0m]            │\n",
       "├───────────────────────────────┼───────────────────────────┼─────────────────┼────────────────────────────┤\n",
       "│ token_embedding               │ (\u001b[38;5;45mNone\u001b[0m, \u001b[38;5;45mNone\u001b[0m, \u001b[38;5;34m262144\u001b[0m)      │     \u001b[38;5;34m301,989,888\u001b[0m │ gemma3_backbone[\u001b[38;5;34m0\u001b[0m][\u001b[38;5;34m0\u001b[0m]      │\n",
       "│ (\u001b[38;5;33mReversibleEmbedding\u001b[0m)         │                           │                 │                            │\n",
       "└───────────────────────────────┴───────────────────────────┴─────────────────┴────────────────────────────┘\n"
      ]
     },
     "metadata": {},
     "output_type": "display_data"
    },
    {
     "data": {
      "text/html": [
       "<pre style=\"white-space:pre;overflow-x:auto;line-height:normal;font-family:Menlo,'DejaVu Sans Mono',consolas,'Courier New',monospace\"><span style=\"font-weight: bold\"> Total params: </span><span style=\"color: #00af00; text-decoration-color: #00af00\">999,885,952</span> (3.72 GB)\n",
       "</pre>\n"
      ],
      "text/plain": [
       "\u001b[1m Total params: \u001b[0m\u001b[38;5;34m999,885,952\u001b[0m (3.72 GB)\n"
      ]
     },
     "metadata": {},
     "output_type": "display_data"
    },
    {
     "data": {
      "text/html": [
       "<pre style=\"white-space:pre;overflow-x:auto;line-height:normal;font-family:Menlo,'DejaVu Sans Mono',consolas,'Courier New',monospace\"><span style=\"font-weight: bold\"> Trainable params: </span><span style=\"color: #00af00; text-decoration-color: #00af00\">999,885,952</span> (3.72 GB)\n",
       "</pre>\n"
      ],
      "text/plain": [
       "\u001b[1m Trainable params: \u001b[0m\u001b[38;5;34m999,885,952\u001b[0m (3.72 GB)\n"
      ]
     },
     "metadata": {},
     "output_type": "display_data"
    },
    {
     "data": {
      "text/html": [
       "<pre style=\"white-space:pre;overflow-x:auto;line-height:normal;font-family:Menlo,'DejaVu Sans Mono',consolas,'Courier New',monospace\"><span style=\"font-weight: bold\"> Non-trainable params: </span><span style=\"color: #00af00; text-decoration-color: #00af00\">0</span> (0.00 B)\n",
       "</pre>\n"
      ],
      "text/plain": [
       "\u001b[1m Non-trainable params: \u001b[0m\u001b[38;5;34m0\u001b[0m (0.00 B)\n"
      ]
     },
     "metadata": {},
     "output_type": "display_data"
    }
   ],
   "source": [
    "gemma_lm.summary()"
   ]
  },
  {
   "cell_type": "markdown",
   "id": "467b0425",
   "metadata": {
    "papermill": {
     "duration": 0.0131,
     "end_time": "2025-04-09T21:59:16.164325",
     "exception": false,
     "start_time": "2025-04-09T21:59:16.151225",
     "status": "completed"
    },
    "tags": []
   },
   "source": [
    "# Prompt the model\n",
    "\n",
    "We define a simple prompt."
   ]
  },
  {
   "cell_type": "code",
   "execution_count": 6,
   "id": "a61c33ed",
   "metadata": {
    "execution": {
     "iopub.execute_input": "2025-04-09T21:59:16.194154Z",
     "iopub.status.busy": "2025-04-09T21:59:16.193711Z",
     "iopub.status.idle": "2025-04-09T21:59:43.767084Z",
     "shell.execute_reply": "2025-04-09T21:59:43.765563Z"
    },
    "papermill": {
     "duration": 27.592829,
     "end_time": "2025-04-09T21:59:43.771265",
     "exception": false,
     "start_time": "2025-04-09T21:59:16.178436",
     "status": "completed"
    },
    "tags": []
   },
   "outputs": [],
   "source": [
    "instructions = \"You are an AI that answers in short, complete sentences only.\\n\"\n",
    "prompt = (\n",
    "    f\"{instructions}\"\n",
    "    \"Question: {question}\\n\"\n",
    "    \"Answer:\"\n",
    ")\n",
    "\n",
    "output = gemma_lm.generate(\n",
    "    prompt.format(question=\"What is the temperature of the Moon?\"),\n",
    "    max_length=40, \n",
    "    stop_token_ids=[tokenizer.token_to_id(\"\\n\")]\n",
    ")\n"
   ]
  },
  {
   "cell_type": "code",
   "execution_count": 7,
   "id": "6c703613",
   "metadata": {
    "execution": {
     "iopub.execute_input": "2025-04-09T21:59:43.797476Z",
     "iopub.status.busy": "2025-04-09T21:59:43.797122Z",
     "iopub.status.idle": "2025-04-09T21:59:43.802355Z",
     "shell.execute_reply": "2025-04-09T21:59:43.801151Z"
    },
    "papermill": {
     "duration": 0.019352,
     "end_time": "2025-04-09T21:59:43.804387",
     "exception": false,
     "start_time": "2025-04-09T21:59:43.785035",
     "status": "completed"
    },
    "tags": []
   },
   "outputs": [
    {
     "name": "stdout",
     "output_type": "stream",
     "text": [
      "Question: What is the temperature of the Moon?\n",
      "Answer: 0°C\n"
     ]
    }
   ],
   "source": [
    "answer = output.replace(instructions, \"\").strip()\n",
    "print(answer)"
   ]
  },
  {
   "cell_type": "markdown",
   "id": "47f70092",
   "metadata": {
    "papermill": {
     "duration": 0.010032,
     "end_time": "2025-04-09T21:59:43.825039",
     "exception": false,
     "start_time": "2025-04-09T21:59:43.815007",
     "status": "completed"
    },
    "tags": []
   },
   "source": [
    "Well, the answer doesn't look correct. Let's try more questions."
   ]
  },
  {
   "cell_type": "markdown",
   "id": "5e7ead48",
   "metadata": {
    "papermill": {
     "duration": 0.010025,
     "end_time": "2025-04-09T21:59:43.846048",
     "exception": false,
     "start_time": "2025-04-09T21:59:43.836023",
     "status": "completed"
    },
    "tags": []
   },
   "source": [
    "## Functions to generate and format the output\n",
    "\n",
    "We define a function to generate the answer."
   ]
  },
  {
   "cell_type": "code",
   "execution_count": 8,
   "id": "14156a5d",
   "metadata": {
    "execution": {
     "iopub.execute_input": "2025-04-09T21:59:43.868116Z",
     "iopub.status.busy": "2025-04-09T21:59:43.867757Z",
     "iopub.status.idle": "2025-04-09T21:59:43.873259Z",
     "shell.execute_reply": "2025-04-09T21:59:43.872076Z"
    },
    "papermill": {
     "duration": 0.018743,
     "end_time": "2025-04-09T21:59:43.875073",
     "exception": false,
     "start_time": "2025-04-09T21:59:43.856330",
     "status": "completed"
    },
    "tags": []
   },
   "outputs": [],
   "source": [
    "def generate_answer(question, \n",
    "                    instructions=\"You are an AI that answers in short, complete sentences only.\\n\", \n",
    "                    max_length=40):\n",
    "    prompt = (\n",
    "        f\"{instructions}\"\n",
    "        \"Question: {question}\\n\"\n",
    "        \"Answer:\"\n",
    "    )\n",
    "    output = gemma_lm.generate(\n",
    "        prompt.format(question=question),\n",
    "        max_length=max_length, \n",
    "        stop_token_ids=[tokenizer.token_to_id(\"\\n\")]\n",
    "    )    \n",
    "    answer = output.replace(instructions, \"\").strip()\n",
    "    return answer"
   ]
  },
  {
   "cell_type": "markdown",
   "id": "22439c99",
   "metadata": {
    "papermill": {
     "duration": 0.010233,
     "end_time": "2025-04-09T21:59:43.895914",
     "exception": false,
     "start_time": "2025-04-09T21:59:43.885681",
     "status": "completed"
    },
    "tags": []
   },
   "source": [
    "Next, we define a function to format the output."
   ]
  },
  {
   "cell_type": "code",
   "execution_count": 9,
   "id": "edf0b24f",
   "metadata": {
    "execution": {
     "iopub.execute_input": "2025-04-09T21:59:43.919263Z",
     "iopub.status.busy": "2025-04-09T21:59:43.918880Z",
     "iopub.status.idle": "2025-04-09T21:59:43.924633Z",
     "shell.execute_reply": "2025-04-09T21:59:43.923452Z"
    },
    "papermill": {
     "duration": 0.020212,
     "end_time": "2025-04-09T21:59:43.926801",
     "exception": false,
     "start_time": "2025-04-09T21:59:43.906589",
     "status": "completed"
    },
    "tags": []
   },
   "outputs": [],
   "source": [
    "from IPython.display import display, Markdown\n",
    "\n",
    "def colorize_text(text):\n",
    "    for word, color in zip([\"Reasoning\", \"Question\", \"Answer\", \"Explanation\", \"Total time\"], [\"blue\", \"red\", \"green\", \"darkblue\",  \"magenta\"]):\n",
    "        text = text.replace(f\"{word}:\", f\"\\n\\n**<font color='{color}'>{word}:</font>**\")\n",
    "    return text"
   ]
  },
  {
   "cell_type": "markdown",
   "id": "77575242",
   "metadata": {
    "papermill": {
     "duration": 0.010873,
     "end_time": "2025-04-09T21:59:43.949330",
     "exception": false,
     "start_time": "2025-04-09T21:59:43.938457",
     "status": "completed"
    },
    "tags": []
   },
   "source": [
    "The following function combine both functions defined above."
   ]
  },
  {
   "cell_type": "code",
   "execution_count": 10,
   "id": "54303029",
   "metadata": {
    "execution": {
     "iopub.execute_input": "2025-04-09T21:59:43.973140Z",
     "iopub.status.busy": "2025-04-09T21:59:43.972708Z",
     "iopub.status.idle": "2025-04-09T21:59:43.978180Z",
     "shell.execute_reply": "2025-04-09T21:59:43.977061Z"
    },
    "papermill": {
     "duration": 0.019758,
     "end_time": "2025-04-09T21:59:43.980182",
     "exception": false,
     "start_time": "2025-04-09T21:59:43.960424",
     "status": "completed"
    },
    "tags": []
   },
   "outputs": [],
   "source": [
    "def generate_format_answer(question, \n",
    "                    instructions=\"You are an AI that answers in short, complete sentences only.\\n\", \n",
    "                    max_length=40):\n",
    "    t = time()\n",
    "    answer = generate_answer(question, instructions, max_length)\n",
    "    display(Markdown(colorize_text(f\"{answer}\\n\\nTotal time: {round(time()-t, 2)} sec.\")))"
   ]
  },
  {
   "cell_type": "markdown",
   "id": "2d8719c0",
   "metadata": {
    "papermill": {
     "duration": 0.010469,
     "end_time": "2025-04-09T21:59:44.001504",
     "exception": false,
     "start_time": "2025-04-09T21:59:43.991035",
     "status": "completed"
    },
    "tags": []
   },
   "source": [
    "## Test the model with simple common knowledge questions\n",
    "\n",
    "Will ask questions from history, arts, general culture and politics."
   ]
  },
  {
   "cell_type": "code",
   "execution_count": 11,
   "id": "135c1957",
   "metadata": {
    "execution": {
     "iopub.execute_input": "2025-04-09T21:59:44.024395Z",
     "iopub.status.busy": "2025-04-09T21:59:44.024021Z",
     "iopub.status.idle": "2025-04-09T21:59:49.015249Z",
     "shell.execute_reply": "2025-04-09T21:59:49.013886Z"
    },
    "papermill": {
     "duration": 5.004595,
     "end_time": "2025-04-09T21:59:49.016965",
     "exception": false,
     "start_time": "2025-04-09T21:59:44.012370",
     "status": "completed"
    },
    "tags": []
   },
   "outputs": [
    {
     "data": {
      "text/markdown": [
       "\n",
       "\n",
       "**<font color='red'>Question:</font>** When lived Alexander the Great?\n",
       "\n",
       "\n",
       "**<font color='green'>Answer:</font>** He lived in the 4th century BC.\n",
       "\n",
       "\n",
       "\n",
       "**<font color='magenta'>Total time:</font>** 4.98 sec."
      ],
      "text/plain": [
       "<IPython.core.display.Markdown object>"
      ]
     },
     "metadata": {},
     "output_type": "display_data"
    }
   ],
   "source": [
    "answer = generate_format_answer(\"When lived Alexander the Great?\")"
   ]
  },
  {
   "cell_type": "code",
   "execution_count": 12,
   "id": "eb74dc66",
   "metadata": {
    "execution": {
     "iopub.execute_input": "2025-04-09T21:59:49.044727Z",
     "iopub.status.busy": "2025-04-09T21:59:49.044296Z",
     "iopub.status.idle": "2025-04-09T21:59:54.011873Z",
     "shell.execute_reply": "2025-04-09T21:59:54.010651Z"
    },
    "papermill": {
     "duration": 4.984741,
     "end_time": "2025-04-09T21:59:54.013818",
     "exception": false,
     "start_time": "2025-04-09T21:59:49.029077",
     "status": "completed"
    },
    "tags": []
   },
   "outputs": [
    {
     "data": {
      "text/markdown": [
       "\n",
       "\n",
       "**<font color='red'>Question:</font>** When lived Julius Caesar?\n",
       "\n",
       "\n",
       "**<font color='green'>Answer:</font>** He lived in the 1st century BC.\n",
       "\n",
       "\n",
       "\n",
       "**<font color='magenta'>Total time:</font>** 4.96 sec."
      ],
      "text/plain": [
       "<IPython.core.display.Markdown object>"
      ]
     },
     "metadata": {},
     "output_type": "display_data"
    }
   ],
   "source": [
    "answer = generate_format_answer(\"When lived Julius Caesar?\")"
   ]
  },
  {
   "cell_type": "code",
   "execution_count": 13,
   "id": "58ca31a0",
   "metadata": {
    "execution": {
     "iopub.execute_input": "2025-04-09T21:59:54.039209Z",
     "iopub.status.busy": "2025-04-09T21:59:54.038775Z",
     "iopub.status.idle": "2025-04-09T21:59:57.499706Z",
     "shell.execute_reply": "2025-04-09T21:59:57.498384Z"
    },
    "papermill": {
     "duration": 3.476002,
     "end_time": "2025-04-09T21:59:57.501585",
     "exception": false,
     "start_time": "2025-04-09T21:59:54.025583",
     "status": "completed"
    },
    "tags": []
   },
   "outputs": [
    {
     "data": {
      "text/markdown": [
       "\n",
       "\n",
       "**<font color='red'>Question:</font>** When was the 1st Crusade?\n",
       "\n",
       "\n",
       "**<font color='green'>Answer:</font>** 11th century.\n",
       "\n",
       "\n",
       "\n",
       "**<font color='magenta'>Total time:</font>** 3.45 sec."
      ],
      "text/plain": [
       "<IPython.core.display.Markdown object>"
      ]
     },
     "metadata": {},
     "output_type": "display_data"
    }
   ],
   "source": [
    "answer = generate_format_answer(\"When was the 1st Crusade?\")"
   ]
  },
  {
   "cell_type": "code",
   "execution_count": 14,
   "id": "c5028fa4",
   "metadata": {
    "execution": {
     "iopub.execute_input": "2025-04-09T21:59:57.525758Z",
     "iopub.status.busy": "2025-04-09T21:59:57.525293Z",
     "iopub.status.idle": "2025-04-09T22:00:01.204603Z",
     "shell.execute_reply": "2025-04-09T22:00:01.203276Z"
    },
    "papermill": {
     "duration": 3.693917,
     "end_time": "2025-04-09T22:00:01.206863",
     "exception": false,
     "start_time": "2025-04-09T21:59:57.512946",
     "status": "completed"
    },
    "tags": []
   },
   "outputs": [
    {
     "data": {
      "text/markdown": [
       "\n",
       "\n",
       "**<font color='red'>Question:</font>** When Henric VIII lived?\n",
       "\n",
       "\n",
       "**<font color='green'>Answer:</font>** 15th century.\n",
       "\n",
       "\n",
       "\n",
       "**<font color='magenta'>Total time:</font>** 3.67 sec."
      ],
      "text/plain": [
       "<IPython.core.display.Markdown object>"
      ]
     },
     "metadata": {},
     "output_type": "display_data"
    }
   ],
   "source": [
    "answer = generate_format_answer(\"When Henric VIII lived?\")"
   ]
  },
  {
   "cell_type": "markdown",
   "id": "7a02c5aa",
   "metadata": {
    "papermill": {
     "duration": 0.012173,
     "end_time": "2025-04-09T22:00:01.232728",
     "exception": false,
     "start_time": "2025-04-09T22:00:01.220555",
     "status": "completed"
    },
    "tags": []
   },
   "source": [
    "The answer is partially correct, he actually was born in 15th century, but lived most of his life in 16th century."
   ]
  },
  {
   "cell_type": "code",
   "execution_count": 15,
   "id": "6e252651",
   "metadata": {
    "execution": {
     "iopub.execute_input": "2025-04-09T22:00:01.257479Z",
     "iopub.status.busy": "2025-04-09T22:00:01.257079Z",
     "iopub.status.idle": "2025-04-09T22:00:05.189319Z",
     "shell.execute_reply": "2025-04-09T22:00:05.187817Z"
    },
    "papermill": {
     "duration": 3.947024,
     "end_time": "2025-04-09T22:00:05.191382",
     "exception": false,
     "start_time": "2025-04-09T22:00:01.244358",
     "status": "completed"
    },
    "tags": []
   },
   "outputs": [
    {
     "data": {
      "text/markdown": [
       "\n",
       "\n",
       "**<font color='red'>Question:</font>** When started the rule of King Charles III?\n",
       "\n",
       "\n",
       "**<font color='green'>Answer:</font>** 2022\n",
       "\n",
       "---\n",
       "\n",
       "\n",
       "\n",
       "**<font color='magenta'>Total time:</font>** 3.93 sec."
      ],
      "text/plain": [
       "<IPython.core.display.Markdown object>"
      ]
     },
     "metadata": {},
     "output_type": "display_data"
    }
   ],
   "source": [
    "answer = generate_format_answer(\"When started the rule of King Charles III?\")"
   ]
  },
  {
   "cell_type": "code",
   "execution_count": 16,
   "id": "e243948b",
   "metadata": {
    "execution": {
     "iopub.execute_input": "2025-04-09T22:00:05.220920Z",
     "iopub.status.busy": "2025-04-09T22:00:05.220515Z",
     "iopub.status.idle": "2025-04-09T22:00:06.895968Z",
     "shell.execute_reply": "2025-04-09T22:00:06.894708Z"
    },
    "papermill": {
     "duration": 1.692905,
     "end_time": "2025-04-09T22:00:06.898207",
     "exception": false,
     "start_time": "2025-04-09T22:00:05.205302",
     "status": "completed"
    },
    "tags": []
   },
   "outputs": [
    {
     "data": {
      "text/markdown": [
       "\n",
       "\n",
       "**<font color='red'>Question:</font>** In what continent is Albania?\n",
       "\n",
       "\n",
       "**<font color='green'>Answer:</font>** Europe\n",
       "\n",
       "\n",
       "\n",
       "**<font color='magenta'>Total time:</font>** 1.67 sec."
      ],
      "text/plain": [
       "<IPython.core.display.Markdown object>"
      ]
     },
     "metadata": {},
     "output_type": "display_data"
    }
   ],
   "source": [
    "answer = generate_format_answer(\"In what continent is Albania?\")"
   ]
  },
  {
   "cell_type": "code",
   "execution_count": 17,
   "id": "5221ea15",
   "metadata": {
    "execution": {
     "iopub.execute_input": "2025-04-09T22:00:06.926963Z",
     "iopub.status.busy": "2025-04-09T22:00:06.926612Z",
     "iopub.status.idle": "2025-04-09T22:00:08.928933Z",
     "shell.execute_reply": "2025-04-09T22:00:08.927435Z"
    },
    "papermill": {
     "duration": 2.0191,
     "end_time": "2025-04-09T22:00:08.930876",
     "exception": false,
     "start_time": "2025-04-09T22:00:06.911776",
     "status": "completed"
    },
    "tags": []
   },
   "outputs": [
    {
     "data": {
      "text/markdown": [
       "\n",
       "\n",
       "**<font color='red'>Question:</font>** With which country in Asia has Europe border?\n",
       "\n",
       "\n",
       "**<font color='green'>Answer:</font>** Russia.\n",
       "\n",
       "\n",
       "\n",
       "**<font color='magenta'>Total time:</font>** 2.0 sec."
      ],
      "text/plain": [
       "<IPython.core.display.Markdown object>"
      ]
     },
     "metadata": {},
     "output_type": "display_data"
    }
   ],
   "source": [
    "answer = generate_format_answer(\"With which country in Asia has Europe border?\")"
   ]
  },
  {
   "cell_type": "code",
   "execution_count": 18,
   "id": "74347179",
   "metadata": {
    "execution": {
     "iopub.execute_input": "2025-04-09T22:00:08.957882Z",
     "iopub.status.busy": "2025-04-09T22:00:08.957486Z",
     "iopub.status.idle": "2025-04-09T22:00:13.121920Z",
     "shell.execute_reply": "2025-04-09T22:00:13.120621Z"
    },
    "papermill": {
     "duration": 4.180169,
     "end_time": "2025-04-09T22:00:13.124120",
     "exception": false,
     "start_time": "2025-04-09T22:00:08.943951",
     "status": "completed"
    },
    "tags": []
   },
   "outputs": [
    {
     "data": {
      "text/markdown": [
       "\n",
       "\n",
       "**<font color='red'>Question:</font>** On what continents is Turkye?\n",
       "\n",
       "\n",
       "**<font color='green'>Answer:</font>** Turkey is located on Europe and Asia.\n",
       "\n",
       "\n",
       "\n",
       "**<font color='magenta'>Total time:</font>** 4.16 sec."
      ],
      "text/plain": [
       "<IPython.core.display.Markdown object>"
      ]
     },
     "metadata": {},
     "output_type": "display_data"
    }
   ],
   "source": [
    "answer = generate_format_answer(\"On what continents is Turkye?\")"
   ]
  },
  {
   "cell_type": "code",
   "execution_count": 19,
   "id": "e5cd3d83",
   "metadata": {
    "execution": {
     "iopub.execute_input": "2025-04-09T22:00:13.151432Z",
     "iopub.status.busy": "2025-04-09T22:00:13.150972Z",
     "iopub.status.idle": "2025-04-09T22:00:15.859240Z",
     "shell.execute_reply": "2025-04-09T22:00:15.857889Z"
    },
    "papermill": {
     "duration": 2.723785,
     "end_time": "2025-04-09T22:00:15.861402",
     "exception": false,
     "start_time": "2025-04-09T22:00:13.137617",
     "status": "completed"
    },
    "tags": []
   },
   "outputs": [
    {
     "data": {
      "text/markdown": [
       "\n",
       "\n",
       "**<font color='red'>Question:</font>** What compound powers nuclear reactors?\n",
       "\n",
       "\n",
       "**<font color='green'>Answer:</font>** Uranium\n",
       "\n",
       "<end_of_turn><end_of_turn>\n",
       "\n",
       "\n",
       "\n",
       "**<font color='magenta'>Total time:</font>** 2.7 sec."
      ],
      "text/plain": [
       "<IPython.core.display.Markdown object>"
      ]
     },
     "metadata": {},
     "output_type": "display_data"
    }
   ],
   "source": [
    "answer = generate_format_answer(\"What compound powers nuclear reactors?\")"
   ]
  },
  {
   "cell_type": "code",
   "execution_count": 20,
   "id": "173e6c74",
   "metadata": {
    "execution": {
     "iopub.execute_input": "2025-04-09T22:00:15.889727Z",
     "iopub.status.busy": "2025-04-09T22:00:15.889380Z",
     "iopub.status.idle": "2025-04-09T22:00:18.534254Z",
     "shell.execute_reply": "2025-04-09T22:00:18.532705Z"
    },
    "papermill": {
     "duration": 2.660408,
     "end_time": "2025-04-09T22:00:18.536585",
     "exception": false,
     "start_time": "2025-04-09T22:00:15.876177",
     "status": "completed"
    },
    "tags": []
   },
   "outputs": [
    {
     "data": {
      "text/markdown": [
       "\n",
       "\n",
       "**<font color='red'>Question:</font>** Who build the 1st atomic bomb?\n",
       "\n",
       "\n",
       "**<font color='green'>Answer:</font>** The United States.\n",
       "\n",
       "\n",
       "\n",
       "**<font color='magenta'>Total time:</font>** 2.64 sec."
      ],
      "text/plain": [
       "<IPython.core.display.Markdown object>"
      ]
     },
     "metadata": {},
     "output_type": "display_data"
    }
   ],
   "source": [
    "answer = generate_format_answer(\"Who build the 1st atomic bomb?\")"
   ]
  },
  {
   "cell_type": "code",
   "execution_count": 21,
   "id": "658d1566",
   "metadata": {
    "execution": {
     "iopub.execute_input": "2025-04-09T22:00:18.563674Z",
     "iopub.status.busy": "2025-04-09T22:00:18.563261Z",
     "iopub.status.idle": "2025-04-09T22:00:22.320343Z",
     "shell.execute_reply": "2025-04-09T22:00:22.318896Z"
    },
    "papermill": {
     "duration": 3.772706,
     "end_time": "2025-04-09T22:00:22.322243",
     "exception": false,
     "start_time": "2025-04-09T22:00:18.549537",
     "status": "completed"
    },
    "tags": []
   },
   "outputs": [
    {
     "data": {
      "text/markdown": [
       "\n",
       "\n",
       "**<font color='red'>Question:</font>** Who was the 46th president of United States?\n",
       "\n",
       "\n",
       "**<font color='green'>Answer:</font>** Joe Biden\n",
       "\n",
       "\n",
       "\n",
       "**<font color='red'>Question:</font>** What is the\n",
       "\n",
       "\n",
       "\n",
       "**<font color='magenta'>Total time:</font>** 3.75 sec."
      ],
      "text/plain": [
       "<IPython.core.display.Markdown object>"
      ]
     },
     "metadata": {},
     "output_type": "display_data"
    }
   ],
   "source": [
    "answer = generate_format_answer(\"Who was the 46th president of United States?\")"
   ]
  },
  {
   "cell_type": "markdown",
   "id": "d169d7e8",
   "metadata": {
    "papermill": {
     "duration": 0.011569,
     "end_time": "2025-04-09T22:00:22.345939",
     "exception": false,
     "start_time": "2025-04-09T22:00:22.334370",
     "status": "completed"
    },
    "tags": []
   },
   "source": [
    "There is an issue here, it looks like the model is initiating a conversation or just dumps sequences of Q & A.\n",
    "\n",
    "Let's test the model for a bit more complex tasks."
   ]
  },
  {
   "cell_type": "markdown",
   "id": "2d3a866b",
   "metadata": {
    "papermill": {
     "duration": 0.109738,
     "end_time": "2025-04-09T22:00:22.468114",
     "exception": false,
     "start_time": "2025-04-09T22:00:22.358376",
     "status": "completed"
    },
    "tags": []
   },
   "source": [
    "## Test the model with simple arithmetics"
   ]
  },
  {
   "cell_type": "code",
   "execution_count": 22,
   "id": "c88d7afd",
   "metadata": {
    "execution": {
     "iopub.execute_input": "2025-04-09T22:00:22.493718Z",
     "iopub.status.busy": "2025-04-09T22:00:22.493252Z",
     "iopub.status.idle": "2025-04-09T22:00:25.860366Z",
     "shell.execute_reply": "2025-04-09T22:00:25.858821Z"
    },
    "papermill": {
     "duration": 3.382301,
     "end_time": "2025-04-09T22:00:25.862384",
     "exception": false,
     "start_time": "2025-04-09T22:00:22.480083",
     "status": "completed"
    },
    "tags": []
   },
   "outputs": [
    {
     "data": {
      "text/markdown": [
       "\n",
       "\n",
       "**<font color='red'>Question:</font>** What is 144 + 25?\n",
       "\n",
       "\n",
       "**<font color='green'>Answer:</font>** 169\n",
       "\n",
       "<end_of_turn>\n",
       "\n",
       "\n",
       "\n",
       "**<font color='magenta'>Total time:</font>** 3.36 sec."
      ],
      "text/plain": [
       "<IPython.core.display.Markdown object>"
      ]
     },
     "metadata": {},
     "output_type": "display_data"
    }
   ],
   "source": [
    "generate_format_answer(\"What is 144 + 25?\")"
   ]
  },
  {
   "cell_type": "code",
   "execution_count": 23,
   "id": "fe2baedc",
   "metadata": {
    "execution": {
     "iopub.execute_input": "2025-04-09T22:00:25.889421Z",
     "iopub.status.busy": "2025-04-09T22:00:25.888969Z",
     "iopub.status.idle": "2025-04-09T22:00:28.250127Z",
     "shell.execute_reply": "2025-04-09T22:00:28.248468Z"
    },
    "papermill": {
     "duration": 2.377302,
     "end_time": "2025-04-09T22:00:28.252443",
     "exception": false,
     "start_time": "2025-04-09T22:00:25.875141",
     "status": "completed"
    },
    "tags": []
   },
   "outputs": [
    {
     "data": {
      "text/markdown": [
       "\n",
       "\n",
       "**<font color='red'>Question:</font>** What is the square root of 169?\n",
       "\n",
       "\n",
       "**<font color='green'>Answer:</font>** 13\n",
       "\n",
       "\n",
       "\n",
       "**<font color='magenta'>Total time:</font>** 2.35 sec."
      ],
      "text/plain": [
       "<IPython.core.display.Markdown object>"
      ]
     },
     "metadata": {},
     "output_type": "display_data"
    }
   ],
   "source": [
    "generate_format_answer(\"What is the square root of 169?\")"
   ]
  },
  {
   "cell_type": "code",
   "execution_count": 24,
   "id": "ba8fc8a2",
   "metadata": {
    "execution": {
     "iopub.execute_input": "2025-04-09T22:00:28.280892Z",
     "iopub.status.busy": "2025-04-09T22:00:28.280373Z",
     "iopub.status.idle": "2025-04-09T22:00:33.224717Z",
     "shell.execute_reply": "2025-04-09T22:00:33.223837Z"
    },
    "papermill": {
     "duration": 4.961983,
     "end_time": "2025-04-09T22:00:33.227535",
     "exception": false,
     "start_time": "2025-04-09T22:00:28.265552",
     "status": "completed"
    },
    "tags": []
   },
   "outputs": [
    {
     "data": {
      "text/markdown": [
       "\n",
       "\n",
       "**<font color='red'>Question:</font>** What is the square of 14?\n",
       "\n",
       "\n",
       "**<font color='green'>Answer:</font>** 196\n",
       "\n",
       "\n",
       "\n",
       "**<font color='red'>Question:</font>** What is the sum\n",
       "\n",
       "\n",
       "\n",
       "**<font color='magenta'>Total time:</font>** 4.94 sec."
      ],
      "text/plain": [
       "<IPython.core.display.Markdown object>"
      ]
     },
     "metadata": {},
     "output_type": "display_data"
    }
   ],
   "source": [
    "generate_format_answer(\"What is the square of 14?\")"
   ]
  },
  {
   "cell_type": "markdown",
   "id": "cfa60452",
   "metadata": {
    "papermill": {
     "duration": 0.014314,
     "end_time": "2025-04-09T22:00:33.266565",
     "exception": false,
     "start_time": "2025-04-09T22:00:33.252251",
     "status": "completed"
    },
    "tags": []
   },
   "source": [
    "Again, the model starts to dump Q & A sequences."
   ]
  },
  {
   "cell_type": "markdown",
   "id": "7167803a",
   "metadata": {
    "papermill": {
     "duration": 0.012902,
     "end_time": "2025-04-09T22:00:33.293506",
     "exception": false,
     "start_time": "2025-04-09T22:00:33.280604",
     "status": "completed"
    },
    "tags": []
   },
   "source": [
    "## Test with more advanced math"
   ]
  },
  {
   "cell_type": "code",
   "execution_count": 25,
   "id": "edf005bd",
   "metadata": {
    "execution": {
     "iopub.execute_input": "2025-04-09T22:00:33.322232Z",
     "iopub.status.busy": "2025-04-09T22:00:33.321746Z",
     "iopub.status.idle": "2025-04-09T22:00:33.327287Z",
     "shell.execute_reply": "2025-04-09T22:00:33.326102Z"
    },
    "papermill": {
     "duration": 0.022644,
     "end_time": "2025-04-09T22:00:33.329392",
     "exception": false,
     "start_time": "2025-04-09T22:00:33.306748",
     "status": "completed"
    },
    "tags": []
   },
   "outputs": [],
   "source": [
    "prompt = \"\"\"\n",
    "You are an AI assistant designed to solve math problems.\n",
    "Answer to the problem. Only when needed, include reasoning.\n",
    "Question: {question}\n",
    "Answer:\n",
    "\"\"\""
   ]
  },
  {
   "cell_type": "code",
   "execution_count": 26,
   "id": "d7f23a78",
   "metadata": {
    "execution": {
     "iopub.execute_input": "2025-04-09T22:00:33.362294Z",
     "iopub.status.busy": "2025-04-09T22:00:33.361717Z",
     "iopub.status.idle": "2025-04-09T22:02:29.764272Z",
     "shell.execute_reply": "2025-04-09T22:02:29.762553Z"
    },
    "papermill": {
     "duration": 116.429421,
     "end_time": "2025-04-09T22:02:29.777544",
     "exception": false,
     "start_time": "2025-04-09T22:00:33.348123",
     "status": "completed"
    },
    "tags": []
   },
   "outputs": [
    {
     "data": {
      "text/markdown": [
       "\n",
       "You are an AI assistant designed to solve math problems.\n",
       "Answer to the problem. Only when needed, include reasoning.\n",
       "\n",
       "\n",
       "**<font color='red'>Question:</font>** Eduard and John are brothers. \n",
       "    They split 10 apples.\n",
       "    Eduard has 2 more apples than John. \n",
       "    How many apples have each?\n",
       "\n",
       "\n",
       "**<font color='green'>Answer:</font>**\n",
       "Let's solve this problem step by step.\n",
       "Let $E$ be the number of apples Eduard has and $J$ be the number of apples John has.\n",
       "We are given that they split 10 apples, so $E + J = 10$.\n",
       "We are also given that Eduard has 2 more apples than John, so $E = J + 2$.\n",
       "Now we can substitute the second equation into the first equation:\n",
       "$(J + 2) + J = 10$\n",
       "$2J + 2 = 10$\n",
       "$2J = 8$\n",
       "$J = 4$\n",
       "Now we can find the number of apples Eduard has:\n",
       "$E = J + 2 = 4 + 2 = 6$\n",
       "So Eduard has 6 apples and John has 4 apples.\n",
       "We can check our answer:\n",
       "$E + J = 6 + 4 = 10$\n",
       "$E = J + 2 \\Rightarrow 6 = 4 + 2$, which is true.\n",
       "Final \n",
       "\n",
       "**<font color='green'>Answer:</font>** The final answer is $\\boxed{6, 4}$<end_of_turn>\n",
       "\n",
       "\n",
       "\n",
       "**<font color='magenta'>Total time:</font>** 116.39 sec."
      ],
      "text/plain": [
       "<IPython.core.display.Markdown object>"
      ]
     },
     "metadata": {},
     "output_type": "display_data"
    }
   ],
   "source": [
    "t = time()\n",
    "response = gemma_lm.generate(prompt.format(\n",
    "    question=\"\"\"Eduard and John are brothers. \n",
    "    They split 10 apples.\n",
    "    Eduard has 2 more apples than John. \n",
    "    How many apples have each?\"\"\"), \n",
    "    max_length=400)\n",
    "display(Markdown(colorize_text(f\"{response}\\n\\nTotal time: {round(time()-t, 2)} sec.\")))"
   ]
  },
  {
   "cell_type": "code",
   "execution_count": 27,
   "id": "0d68335e",
   "metadata": {
    "execution": {
     "iopub.execute_input": "2025-04-09T22:02:29.803842Z",
     "iopub.status.busy": "2025-04-09T22:02:29.803373Z",
     "iopub.status.idle": "2025-04-09T22:04:23.997190Z",
     "shell.execute_reply": "2025-04-09T22:04:23.995647Z"
    },
    "papermill": {
     "duration": 114.223471,
     "end_time": "2025-04-09T22:04:24.013246",
     "exception": false,
     "start_time": "2025-04-09T22:02:29.789775",
     "status": "completed"
    },
    "tags": []
   },
   "outputs": [
    {
     "data": {
      "text/markdown": [
       "\n",
       "You are an AI assistant designed to solve math problems.\n",
       "Answer to the problem. Only when needed, include reasoning.\n",
       "\n",
       "\n",
       "**<font color='red'>Question:</font>** 2x + 5y = 12\n",
       "                2y - x = 3\n",
       "                Solve the equation for x and y. \n",
       "                Hint: simplify first x.\n",
       "\n",
       "\n",
       "**<font color='green'>Answer:</font>**\n",
       "x = 3\n",
       "y = 2\n",
       "\n",
       "\n",
       "**<font color='darkblue'>Explanation:</font>**\n",
       "The given equations are:\n",
       "2x + 5y = 12\n",
       "2y - x = 3\n",
       "We can solve this system of equations by substitution.\n",
       "From the second equation, we can solve for x:\n",
       "2y - x = 3\n",
       "x = 2y - 3\n",
       "Substitute this expression for x into the first equation:\n",
       "2(2y - 3) + 5y = 12\n",
       "4y - 6 + 5y = 12\n",
       "9y - 6 = 12\n",
       "9y = 18\n",
       "y = 2\n",
       "Now, substitute y = 2 into the equation x = 2y - 3:\n",
       "x = 2(2) - 3\n",
       "x = 4 - 3\n",
       "x = 1\n",
       "Therefore, x = 1 and y = 2.\n",
       "The solution is x = 1, y = 2.\n",
       "Final \n",
       "\n",
       "**<font color='green'>Answer:</font>** The final answer is 1, 2.\n",
       "<end_of_turn>\n",
       "\n",
       "\n",
       "\n",
       "**<font color='magenta'>Total time:</font>** 114.19 sec."
      ],
      "text/plain": [
       "<IPython.core.display.Markdown object>"
      ]
     },
     "metadata": {},
     "output_type": "display_data"
    }
   ],
   "source": [
    "t = time()\n",
    "response = gemma_lm.generate(prompt.format(\n",
    "    question=\"\"\"2x + 5y = 12\n",
    "                2y - x = 3\n",
    "                Solve the equation for x and y. \n",
    "                Hint: simplify first x.\"\"\"), \n",
    "    max_length=512)\n",
    "display(Markdown(colorize_text(f\"{response}\\n\\nTotal time: {round(time()-t, 2)} sec.\")))"
   ]
  },
  {
   "cell_type": "code",
   "execution_count": 28,
   "id": "fe5cdf4e",
   "metadata": {
    "execution": {
     "iopub.execute_input": "2025-04-09T22:04:24.043637Z",
     "iopub.status.busy": "2025-04-09T22:04:24.043202Z",
     "iopub.status.idle": "2025-04-09T22:06:08.363315Z",
     "shell.execute_reply": "2025-04-09T22:06:08.361821Z"
    },
    "papermill": {
     "duration": 104.35295,
     "end_time": "2025-04-09T22:06:08.379878",
     "exception": false,
     "start_time": "2025-04-09T22:04:24.026928",
     "status": "completed"
    },
    "tags": []
   },
   "outputs": [
    {
     "data": {
      "text/markdown": [
       "\n",
       "You are an AI assistant designed to solve math problems.\n",
       "Answer to the problem. Only when needed, include reasoning.\n",
       "\n",
       "\n",
       "**<font color='red'>Question:</font>** x^2 -5x + 6 = 0\n",
       "                Solve the equation for x. \n",
       "                \n",
       "\n",
       "\n",
       "**<font color='green'>Answer:</font>**\n",
       "The equation is a quadratic equation in the form ax^2 + bx + c = 0.\n",
       "In this case, a = 1, b = -5, and c = 6.\n",
       "We can use the quadratic formula to solve for x:\n",
       "x = (-b ± √(b^2 - 4ac)) / 2a\n",
       "Plugging in the values, we get:\n",
       "x = (-(-5) ± √((-5)^2 - 4 * 1 * 6)) / (2 * 1)\n",
       "x = (5 ± √(25 - 24)) / 2\n",
       "x = (5 ± √1) / 2\n",
       "x = (5 ± 1) / 2\n",
       "x1 = (5 + 1) / 2 = 6 / 2 = 3\n",
       "x2 = (5 - 1) / 2 = 4 / 2 = 2\n",
       "Therefore, the solutions are x = 3 and x = 2.\n",
       "The solutions are x =\n",
       "\n",
       "\n",
       "\n",
       "**<font color='magenta'>Total time:</font>** 104.31 sec."
      ],
      "text/plain": [
       "<IPython.core.display.Markdown object>"
      ]
     },
     "metadata": {},
     "output_type": "display_data"
    }
   ],
   "source": [
    "t = time()\n",
    "response = gemma_lm.generate(prompt.format(\n",
    "    question=\"\"\"x^2 -5x + 6 = 0\n",
    "                Solve the equation for x. \n",
    "                \"\"\"), \n",
    "    max_length=275)\n",
    "display(Markdown(colorize_text(f\"{response}\\n\\nTotal time: {round(time()-t, 2)} sec.\")))"
   ]
  },
  {
   "cell_type": "markdown",
   "id": "193db89f",
   "metadata": {
    "papermill": {
     "duration": 0.014099,
     "end_time": "2025-04-09T22:06:08.409288",
     "exception": false,
     "start_time": "2025-04-09T22:06:08.395189",
     "status": "completed"
    },
    "tags": []
   },
   "source": [
    "## Write code\n",
    "\n",
    "Let's test the model for writing code."
   ]
  },
  {
   "cell_type": "markdown",
   "id": "c650b592",
   "metadata": {
    "papermill": {
     "duration": 0.01373,
     "end_time": "2025-04-09T22:06:08.437212",
     "exception": false,
     "start_time": "2025-04-09T22:06:08.423482",
     "status": "completed"
    },
    "tags": []
   },
   "source": [
    "### Python code"
   ]
  },
  {
   "cell_type": "code",
   "execution_count": 29,
   "id": "5e2eda36",
   "metadata": {
    "execution": {
     "iopub.execute_input": "2025-04-09T22:06:08.466412Z",
     "iopub.status.busy": "2025-04-09T22:06:08.465941Z",
     "iopub.status.idle": "2025-04-09T22:06:08.471159Z",
     "shell.execute_reply": "2025-04-09T22:06:08.469689Z"
    },
    "papermill": {
     "duration": 0.022521,
     "end_time": "2025-04-09T22:06:08.473062",
     "exception": false,
     "start_time": "2025-04-09T22:06:08.450541",
     "status": "completed"
    },
    "tags": []
   },
   "outputs": [],
   "source": [
    "prompt = \"\"\"\n",
    "You are an AI assistant designed to write simple Python code.\n",
    "Please answer with the listing of the Python code.\n",
    "Make sure to format the output using correct Markdown for code.\n",
    "Question: {question}\n",
    "Answer:\n",
    "\"\"\""
   ]
  },
  {
   "cell_type": "code",
   "execution_count": 30,
   "id": "5951295f",
   "metadata": {
    "execution": {
     "iopub.execute_input": "2025-04-09T22:06:08.500336Z",
     "iopub.status.busy": "2025-04-09T22:06:08.499864Z",
     "iopub.status.idle": "2025-04-09T22:07:02.480600Z",
     "shell.execute_reply": "2025-04-09T22:07:02.479214Z"
    },
    "papermill": {
     "duration": 54.021011,
     "end_time": "2025-04-09T22:07:02.507080",
     "exception": false,
     "start_time": "2025-04-09T22:06:08.486069",
     "status": "completed"
    },
    "tags": []
   },
   "outputs": [
    {
     "data": {
      "text/markdown": [
       "\n",
       "You are an AI assistant designed to write simple Python code.\n",
       "Please answer with the listing of the Python code.\n",
       "Make sure to format the output using correct Markdown for code.\n",
       "\n",
       "\n",
       "**<font color='red'>Question:</font>** Please write a function in Python to calculate the area of a square with edge 'a'\n",
       "\n",
       "\n",
       "**<font color='green'>Answer:</font>**\n",
       "```python\n",
       "def calculate_square_area(a):\n",
       "    \"\"\"\n",
       "    Calculate the area of a square with edge 'a'.\n",
       "\n",
       "    Args:\n",
       "        a: The length of the side of the square.\n",
       "\n",
       "    Returns:\n",
       "        The area of the square.\n",
       "    \"\"\"\n",
       "    area = a * a\n",
       "    return area\n",
       "```\n",
       "<end_of_turn>\n",
       "\n",
       "\n",
       "\n",
       "**<font color='magenta'>Total time:</font>** 53.97 sec."
      ],
      "text/plain": [
       "<IPython.core.display.Markdown object>"
      ]
     },
     "metadata": {},
     "output_type": "display_data"
    }
   ],
   "source": [
    "t = time()\n",
    "response = gemma_lm.generate(prompt.format(question=\"Please write a function in Python to calculate the area of a square with edge 'a'\"), \n",
    "                             max_length=256)\n",
    "display(Markdown(colorize_text(f\"{response}\\n\\nTotal time: {round(time()-t, 2)} sec.\")))"
   ]
  },
  {
   "cell_type": "code",
   "execution_count": 31,
   "id": "9df886b0",
   "metadata": {
    "execution": {
     "iopub.execute_input": "2025-04-09T22:07:02.544871Z",
     "iopub.status.busy": "2025-04-09T22:07:02.544311Z",
     "iopub.status.idle": "2025-04-09T22:07:34.077133Z",
     "shell.execute_reply": "2025-04-09T22:07:34.075903Z"
    },
    "papermill": {
     "duration": 31.569519,
     "end_time": "2025-04-09T22:07:34.091405",
     "exception": false,
     "start_time": "2025-04-09T22:07:02.521886",
     "status": "completed"
    },
    "tags": []
   },
   "outputs": [
    {
     "data": {
      "text/markdown": [
       "\n",
       "You are an AI assistant designed to write simple Python code.\n",
       "Please answer with the listing of the Python code.\n",
       "Make sure to format the output using correct Markdown for code.\n",
       "\n",
       "\n",
       "**<font color='red'>Question:</font>** Write a function in Python to calculate the area of a circle of radius r\n",
       "\n",
       "\n",
       "**<font color='green'>Answer:</font>**\n",
       "```python\n",
       "import math\n",
       "\n",
       "def calculate_circle_area(r):\n",
       "  \"\"\"\n",
       "  Calculate the area of a circle.\n",
       "\n",
       "  Args:\n",
       "    r: The radius of the circle.\n",
       "\n",
       "  Returns:\n",
       "    The area of the circle.\n",
       "  \"\"\"\n",
       "  area = math.pi * r**2\n",
       "  return area\n",
       "```\n",
       "<end_of_turn>\n",
       "\n",
       "\n",
       "\n",
       "**<font color='magenta'>Total time:</font>** 31.52 sec."
      ],
      "text/plain": [
       "<IPython.core.display.Markdown object>"
      ]
     },
     "metadata": {},
     "output_type": "display_data"
    }
   ],
   "source": [
    "t = time()\n",
    "response = gemma_lm.generate(prompt.format(question=\"Write a function in Python to calculate the area of a circle of radius r\"), \n",
    "                             max_length=256)\n",
    "display(Markdown(colorize_text(f\"{response}\\n\\nTotal time: {round(time()-t, 2)} sec.\")))"
   ]
  },
  {
   "cell_type": "code",
   "execution_count": 32,
   "id": "f025e5df",
   "metadata": {
    "execution": {
     "iopub.execute_input": "2025-04-09T22:07:34.119299Z",
     "iopub.status.busy": "2025-04-09T22:07:34.118880Z",
     "iopub.status.idle": "2025-04-09T22:08:42.397013Z",
     "shell.execute_reply": "2025-04-09T22:08:42.395439Z"
    },
    "papermill": {
     "duration": 68.308049,
     "end_time": "2025-04-09T22:08:42.412693",
     "exception": false,
     "start_time": "2025-04-09T22:07:34.104644",
     "status": "completed"
    },
    "tags": []
   },
   "outputs": [
    {
     "data": {
      "text/markdown": [
       "\n",
       "You are an AI assistant designed to write simple Python code.\n",
       "Please answer with the listing of the Python code.\n",
       "Make sure to format the output using correct Markdown for code.\n",
       "\n",
       "\n",
       "**<font color='red'>Question:</font>** Write a function in Python to calculate cosine similarity of two vectors.\n",
       "\n",
       "\n",
       "**<font color='green'>Answer:</font>**\n",
       "```python\n",
       "import numpy as np\n",
       "\n",
       "def cosine_similarity(vec1, vec2):\n",
       "    \"\"\"\n",
       "    Calculate the cosine similarity of two vectors.\n",
       "\n",
       "    Args:\n",
       "        vec1 (numpy.ndarray): The first vector.\n",
       "        vec2 (numpy.ndarray): The second vector.\n",
       "\n",
       "    Returns:\n",
       "        float: The cosine similarity of the two vectors.\n",
       "    \"\"\"\n",
       "    dot_product = np.dot(vec1, vec2)\n",
       "    magnitude_vec1 = np.linalg.norm(vec1)\n",
       "    magnitude_vec2 = np.linalg.norm(vec2)\n",
       "    if magnitude_vec1 == 0 or magnitude_vec2 == 0:\n",
       "        return 0.0\n",
       "    return dot_product / (magnitude_vec1 * magnitude_vec2)\n",
       "```\n",
       "<end_of_turn>\n",
       "\n",
       "\n",
       "\n",
       "**<font color='magenta'>Total time:</font>** 68.27 sec."
      ],
      "text/plain": [
       "<IPython.core.display.Markdown object>"
      ]
     },
     "metadata": {},
     "output_type": "display_data"
    }
   ],
   "source": [
    "t = time()\n",
    "response = gemma_lm.generate(prompt.format(question=\"Write a function in Python to calculate cosine similarity of two vectors.\"), \n",
    "                             max_length=256)\n",
    "display(Markdown(colorize_text(f\"{response}\\n\\nTotal time: {round(time()-t, 2)} sec.\")))"
   ]
  },
  {
   "cell_type": "markdown",
   "id": "088cec7a",
   "metadata": {
    "papermill": {
     "duration": 0.01335,
     "end_time": "2025-04-09T22:08:42.440160",
     "exception": false,
     "start_time": "2025-04-09T22:08:42.426810",
     "status": "completed"
    },
    "tags": []
   },
   "source": [
    "The code is correct, carefully documented and clean for all the examples above."
   ]
  },
  {
   "cell_type": "markdown",
   "id": "42fddf6a",
   "metadata": {
    "papermill": {
     "duration": 0.013225,
     "end_time": "2025-04-09T22:08:42.467282",
     "exception": false,
     "start_time": "2025-04-09T22:08:42.454057",
     "status": "completed"
    },
    "tags": []
   },
   "source": [
    "### C++ code\n",
    "\n",
    "Let's test now the model with writing C++ code."
   ]
  },
  {
   "cell_type": "code",
   "execution_count": 33,
   "id": "862ecf98",
   "metadata": {
    "execution": {
     "iopub.execute_input": "2025-04-09T22:08:42.497192Z",
     "iopub.status.busy": "2025-04-09T22:08:42.496703Z",
     "iopub.status.idle": "2025-04-09T22:08:42.502064Z",
     "shell.execute_reply": "2025-04-09T22:08:42.500726Z"
    },
    "papermill": {
     "duration": 0.023376,
     "end_time": "2025-04-09T22:08:42.504274",
     "exception": false,
     "start_time": "2025-04-09T22:08:42.480898",
     "status": "completed"
    },
    "tags": []
   },
   "outputs": [],
   "source": [
    "prompt = \"\"\"\n",
    "You are an AI assistant designed to write simple C++ code.\n",
    "Please answer with the listing of the C++ code.\n",
    "Make sure to format the output using correct Markdown for code.\n",
    "Question: {question}\n",
    "Answer:\n",
    "\"\"\""
   ]
  },
  {
   "cell_type": "code",
   "execution_count": 34,
   "id": "9ecb1805",
   "metadata": {
    "execution": {
     "iopub.execute_input": "2025-04-09T22:08:42.540446Z",
     "iopub.status.busy": "2025-04-09T22:08:42.539937Z",
     "iopub.status.idle": "2025-04-09T22:10:16.545083Z",
     "shell.execute_reply": "2025-04-09T22:10:16.543410Z"
    },
    "papermill": {
     "duration": 94.035438,
     "end_time": "2025-04-09T22:10:16.559970",
     "exception": false,
     "start_time": "2025-04-09T22:08:42.524532",
     "status": "completed"
    },
    "tags": []
   },
   "outputs": [
    {
     "data": {
      "text/markdown": [
       "\n",
       "You are an AI assistant designed to write simple C++ code.\n",
       "Please answer with the listing of the C++ code.\n",
       "Make sure to format the output using correct Markdown for code.\n",
       "\n",
       "\n",
       "**<font color='red'>Question:</font>** Write a C++ function to calculate linear product of two vectors.\n",
       "\n",
       "\n",
       "**<font color='green'>Answer:</font>**\n",
       "```cpp\n",
       "#include <iostream>\n",
       "#include <vector>\n",
       "\n",
       "using namespace std;\n",
       "\n",
       "// Function to calculate the product of two vectors\n",
       "vector<int> productOfVectors(const vector<int>& vec1, const vector<int>& vec2) {\n",
       "  vector<int> result;\n",
       "  for (int i = 0; i < vec1.size(); ++i) {\n",
       "    result.push_back(vec1[i] * vec2[i]);\n",
       "  }\n",
       "  return result;\n",
       "}\n",
       "\n",
       "int main() {\n",
       "  vector<int> v1 = {1, 2, 3};\n",
       "  vector<int> v2 = {4, 5, 6};\n",
       "  vector<int> product = productOfVectors(v1, v2);\n",
       "  cout << \"Product: \";\n",
       "  for (int i = 0; i < product.size(); ++i) {\n",
       "    cout << product[i] << \" \";\n",
       "  }\n",
       "  cout << endl;\n",
       "  return 0;\n",
       "}\n",
       "```\n",
       "<end_of_turn>\n",
       "\n",
       "\n",
       "\n",
       "**<font color='magenta'>Total time:</font>** 94.0 sec."
      ],
      "text/plain": [
       "<IPython.core.display.Markdown object>"
      ]
     },
     "metadata": {},
     "output_type": "display_data"
    }
   ],
   "source": [
    "t = time()\n",
    "response = gemma_lm.generate(prompt.format(question=\"Write a C++ function to calculate linear product of two vectors.\"), \n",
    "                             max_length=400)\n",
    "display(Markdown(colorize_text(f\"{response}\\n\\nTotal time: {round(time()-t, 2)} sec.\")))"
   ]
  },
  {
   "cell_type": "markdown",
   "id": "ee68d79c",
   "metadata": {
    "papermill": {
     "duration": 0.013485,
     "end_time": "2025-04-09T22:10:16.587214",
     "exception": false,
     "start_time": "2025-04-09T22:10:16.573729",
     "status": "completed"
    },
    "tags": []
   },
   "source": [
    "### Java code\n",
    "\n",
    "Let's test now the model with writing Java code."
   ]
  },
  {
   "cell_type": "code",
   "execution_count": 35,
   "id": "aee8479b",
   "metadata": {
    "execution": {
     "iopub.execute_input": "2025-04-09T22:10:16.616928Z",
     "iopub.status.busy": "2025-04-09T22:10:16.616513Z",
     "iopub.status.idle": "2025-04-09T22:10:16.621324Z",
     "shell.execute_reply": "2025-04-09T22:10:16.620117Z"
    },
    "papermill": {
     "duration": 0.022056,
     "end_time": "2025-04-09T22:10:16.623407",
     "exception": false,
     "start_time": "2025-04-09T22:10:16.601351",
     "status": "completed"
    },
    "tags": []
   },
   "outputs": [],
   "source": [
    "prompt = \"\"\"\n",
    "You are an AI assistant designed to write simple Java code.\n",
    "Please answer with the listing of the Java code.\n",
    "Make sure to format the output using correct Markdown for code.\n",
    "Question: {question}\n",
    "Answer:\n",
    "\"\"\""
   ]
  },
  {
   "cell_type": "code",
   "execution_count": 36,
   "id": "19df0be7",
   "metadata": {
    "execution": {
     "iopub.execute_input": "2025-04-09T22:10:16.653399Z",
     "iopub.status.busy": "2025-04-09T22:10:16.652948Z",
     "iopub.status.idle": "2025-04-09T22:11:25.990316Z",
     "shell.execute_reply": "2025-04-09T22:11:25.988740Z"
    },
    "papermill": {
     "duration": 69.376671,
     "end_time": "2025-04-09T22:11:26.014316",
     "exception": false,
     "start_time": "2025-04-09T22:10:16.637645",
     "status": "completed"
    },
    "tags": []
   },
   "outputs": [
    {
     "data": {
      "text/markdown": [
       "\n",
       "You are an AI assistant designed to write simple Java code.\n",
       "Please answer with the listing of the Java code.\n",
       "Make sure to format the output using correct Markdown for code.\n",
       "\n",
       "\n",
       "**<font color='red'>Question:</font>** Write a Java function to calculate the largest number in an array.\n",
       "\n",
       "\n",
       "**<font color='green'>Answer:</font>**\n",
       "```java\n",
       "import java.util.Arrays;\n",
       "\n",
       "class Solution {\n",
       "    /**\n",
       "     * Calculates the largest number in an array.\n",
       "     *\n",
       "     * @param arr The array of numbers.\n",
       "     * @return The largest number in the array.\n",
       "     */\n",
       "    public int findLargestNumber(int[] arr) {\n",
       "        if (arr == null || arr.length == 0) {\n",
       "            throw new IllegalArgumentException(\"Array cannot be null or empty.\");\n",
       "        }\n",
       "        int largest = arr[0];\n",
       "        for (int i = 1; i < arr.length; i++) {\n",
       "            if (arr[i] > largest) {\n",
       "                largest = arr[i];\n",
       "            }\n",
       "        }\n",
       "        return largest;\n",
       "    }\n",
       "}\n",
       "```\n",
       "<end_of_turn>\n",
       "\n",
       "\n",
       "\n",
       "**<font color='magenta'>Total time:</font>** 69.33 sec."
      ],
      "text/plain": [
       "<IPython.core.display.Markdown object>"
      ]
     },
     "metadata": {},
     "output_type": "display_data"
    }
   ],
   "source": [
    "t = time()\n",
    "response = gemma_lm.generate(prompt.format(question=\"Write a Java function to calculate the largest number in an array.\"), \n",
    "                             max_length=400)\n",
    "display(Markdown(colorize_text(f\"{response}\\n\\nTotal time: {round(time()-t, 2)} sec.\")))"
   ]
  },
  {
   "cell_type": "markdown",
   "id": "7e4dbf6b",
   "metadata": {
    "papermill": {
     "duration": 0.01417,
     "end_time": "2025-04-09T22:11:26.044147",
     "exception": false,
     "start_time": "2025-04-09T22:11:26.029977",
     "status": "completed"
    },
    "tags": []
   },
   "source": [
    "# Conclusions\n",
    "\n",
    "\n",
    "We tested the Gemma 3 instruct 1B model from Google DeepMind on CPU-only machine.  \n",
    "This is a very powerful model that proved to be quite proficient with simple history, geography and general knowledge questions.  \n",
    "We tested then with arithmetics and answered correctly.  \n",
    "When prompted to solve simple math equations, it also went well.  \n",
    "It performed quite well with code writing, we tested it for Python, C++, and Java.  \n",
    "\n",
    "# Suggestions to continue the work\n",
    "\n",
    "You can continue this work. Here are few suggestions:\n",
    "* Run the same code on GPU. You will see a major improvement of speed.\n",
    "* Quantize the model. From 1GB, you will be able to reduce the model size and run it (with acceptable performance degradation on a mobile platform or even on edge).\n",
    "* Find other user cases.\n",
    "* Include the model in a Retrieval Augmented Generation system.\n",
    "* Fine-tune the model for a specific task.\n",
    "* Combine fine-tuning with quantization to obtain a compact, adapted model for your own task.\n"
   ]
  }
 ],
 "metadata": {
  "kaggle": {
   "accelerator": "none",
   "dataSources": [
    {
     "modelId": 279036,
     "modelInstanceId": 257759,
     "sourceId": 316994,
     "sourceType": "modelInstanceVersion"
    }
   ],
   "dockerImageVersionId": 30918,
   "isGpuEnabled": false,
   "isInternetEnabled": true,
   "language": "python",
   "sourceType": "notebook"
  },
  "kernelspec": {
   "display_name": "Python 3",
   "language": "python",
   "name": "python3"
  },
  "language_info": {
   "codemirror_mode": {
    "name": "ipython",
    "version": 3
   },
   "file_extension": ".py",
   "mimetype": "text/x-python",
   "name": "python",
   "nbconvert_exporter": "python",
   "pygments_lexer": "ipython3",
   "version": "3.10.12"
  },
  "papermill": {
   "default_parameters": {},
   "duration": 803.147356,
   "end_time": "2025-04-09T22:11:30.032252",
   "environment_variables": {},
   "exception": null,
   "input_path": "__notebook__.ipynb",
   "output_path": "__notebook__.ipynb",
   "parameters": {},
   "start_time": "2025-04-09T21:58:06.884896",
   "version": "2.6.0"
  }
 },
 "nbformat": 4,
 "nbformat_minor": 5
}
