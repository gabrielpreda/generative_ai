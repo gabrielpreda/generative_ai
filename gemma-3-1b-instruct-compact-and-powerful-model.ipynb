{
 "cells": [
  {
   "cell_type": "markdown",
   "id": "134236d2",
   "metadata": {
    "_cell_guid": "b1076dfc-b9ad-4769-8c92-a6c4dae69d19",
    "_uuid": "8f2839f25d086af736a60e9eeb907d3b93b6e0e5",
    "papermill": {
     "duration": 0.010366,
     "end_time": "2025-04-13T15:54:16.583010",
     "exception": false,
     "start_time": "2025-04-13T15:54:16.572644",
     "status": "completed"
    },
    "tags": []
   },
   "source": [
    "<center><img src=\"https://www.geeky-gadgets.com/wp-content/uploads/2025/03/google-gemma-3-advanced-ai-models.webp\"></img></center>\n",
    "\n",
    "# Introduction\n",
    "This Notebook will explore how to prompt Gemma 3 1B instruct (fine-tuned), using KerasNLP. \n",
    "In a previous work, we explored the features of Gemma 3 1B (pre-trained): [Talk to Me Nice: Pro-Level Prompting for Gemma 3](https://www.kaggle.com/code/gpreda/talk-to-me-nice-pro-level-prompting-for-gemma-3)\n",
    "\n",
    "## What is Gemma?\n",
    "Gemma is a family of lightweight, state-of-the art open models built from the same research and technology used to create the Gemini models. At the 3rd generation now, Gemma 3 comes in 4 sizes, **1B**, **4B**, **12B** and **27B**, both pretrained and instruction finetuned versions.   \n",
    "\n",
    "Models **4B**, **12B**, **27B** brings an extended context window (up to **128K**) as well as **multi-modality** (text and image). \n",
    "\n",
    "The **1B** model, although incredibly compact, is not only very fast but is also quite powerful.\n",
    "\n",
    "As in the previous Notebook mentioned above, we will use the **1B intruct** model, on CPU only, without any accelerator.\n",
    "\n",
    "## How we will test the model?\n",
    "\n",
    "We will first initize the model and then we will test with simple common knowledge questions, followed by algebra and equations. Then we will test the model for writing code.\n",
    "\n",
    "\n",
    "# Prerequisites\n",
    "\n",
    "## Install packages\n",
    "\n",
    "We will install Keras and KerasNLP.\n"
   ]
  },
  {
   "cell_type": "code",
   "execution_count": 1,
   "id": "1d4025c4",
   "metadata": {
    "execution": {
     "iopub.execute_input": "2025-04-13T15:54:16.604193Z",
     "iopub.status.busy": "2025-04-13T15:54:16.603666Z",
     "iopub.status.idle": "2025-04-13T15:54:31.688517Z",
     "shell.execute_reply": "2025-04-13T15:54:31.687305Z"
    },
    "papermill": {
     "duration": 15.097934,
     "end_time": "2025-04-13T15:54:31.690740",
     "exception": false,
     "start_time": "2025-04-13T15:54:16.592806",
     "status": "completed"
    },
    "tags": []
   },
   "outputs": [
    {
     "name": "stdout",
     "output_type": "stream",
     "text": [
      "\u001b[2K   \u001b[90m━━━━━━━━━━━━━━━━━━━━━━━━━━━━━━━━━━━━━━━━\u001b[0m \u001b[32m792.1/792.1 kB\u001b[0m \u001b[31m10.9 MB/s\u001b[0m eta \u001b[36m0:00:00\u001b[0m\r\n",
      "\u001b[2K   \u001b[90m━━━━━━━━━━━━━━━━━━━━━━━━━━━━━━━━━━━━━━━━\u001b[0m \u001b[32m1.3/1.3 MB\u001b[0m \u001b[31m15.5 MB/s\u001b[0m eta \u001b[36m0:00:00\u001b[0m\r\n",
      "\u001b[?25h\u001b[31mERROR: pip's dependency resolver does not currently take into account all the packages that are installed. This behaviour is the source of the following dependency conflicts.\r\n",
      "tensorflow-decision-forests 1.10.0 requires tensorflow==2.17.0, but you have tensorflow 2.17.1 which is incompatible.\u001b[0m\u001b[31m\r\n",
      "\u001b[0m"
     ]
    }
   ],
   "source": [
    "!pip install -q -U keras-nlp\n",
    "!pip install -q -U keras"
   ]
  },
  {
   "cell_type": "markdown",
   "id": "3907a539",
   "metadata": {
    "papermill": {
     "duration": 0.00989,
     "end_time": "2025-04-13T15:54:31.711378",
     "exception": false,
     "start_time": "2025-04-13T15:54:31.701488",
     "status": "completed"
    },
    "tags": []
   },
   "source": [
    "## Import packages"
   ]
  },
  {
   "cell_type": "code",
   "execution_count": 2,
   "id": "221db7d9",
   "metadata": {
    "execution": {
     "iopub.execute_input": "2025-04-13T15:54:31.733063Z",
     "iopub.status.busy": "2025-04-13T15:54:31.732594Z",
     "iopub.status.idle": "2025-04-13T15:54:52.454165Z",
     "shell.execute_reply": "2025-04-13T15:54:52.453129Z"
    },
    "papermill": {
     "duration": 20.734654,
     "end_time": "2025-04-13T15:54:52.456149",
     "exception": false,
     "start_time": "2025-04-13T15:54:31.721495",
     "status": "completed"
    },
    "tags": []
   },
   "outputs": [],
   "source": [
    "import keras\n",
    "import keras_nlp\n",
    "from keras_nlp.samplers import TopKSampler\n",
    "from time import time"
   ]
  },
  {
   "cell_type": "markdown",
   "id": "dfcd3a0b",
   "metadata": {
    "papermill": {
     "duration": 0.009995,
     "end_time": "2025-04-13T15:54:52.476689",
     "exception": false,
     "start_time": "2025-04-13T15:54:52.466694",
     "status": "completed"
    },
    "tags": []
   },
   "source": [
    "# Prepare the model"
   ]
  },
  {
   "cell_type": "markdown",
   "id": "d8271791",
   "metadata": {
    "papermill": {
     "duration": 0.009749,
     "end_time": "2025-04-13T15:54:52.496859",
     "exception": false,
     "start_time": "2025-04-13T15:54:52.487110",
     "status": "completed"
    },
    "tags": []
   },
   "source": [
    "## Select the backend \n",
    "\n",
    "Keras is a high-level, multi-framework deep learning API designed for simplicity and ease of use.   \n",
    "Keras 3 lets you choose the backend: \n",
    "* TensorFlow\n",
    "* JAX\n",
    "* PyTorch\n",
    "\n",
    "\n",
    "For this Notebook, we will choose **JAX** as backend."
   ]
  },
  {
   "cell_type": "code",
   "execution_count": 3,
   "id": "ac3a026e",
   "metadata": {
    "execution": {
     "iopub.execute_input": "2025-04-13T15:54:52.518525Z",
     "iopub.status.busy": "2025-04-13T15:54:52.517833Z",
     "iopub.status.idle": "2025-04-13T15:54:52.522482Z",
     "shell.execute_reply": "2025-04-13T15:54:52.521647Z"
    },
    "papermill": {
     "duration": 0.017111,
     "end_time": "2025-04-13T15:54:52.523997",
     "exception": false,
     "start_time": "2025-04-13T15:54:52.506886",
     "status": "completed"
    },
    "tags": []
   },
   "outputs": [],
   "source": [
    "import os\n",
    "os.environ[\"KERAS_BACKEND\"] = \"jax\"\n",
    "os.environ[\"XLA_PYTHON_CLIENT_MEM_FRACTION\"] = \"0.9\""
   ]
  },
  {
   "cell_type": "markdown",
   "id": "fbb80e6f",
   "metadata": {
    "papermill": {
     "duration": 0.009829,
     "end_time": "2025-04-13T15:54:52.544415",
     "exception": false,
     "start_time": "2025-04-13T15:54:52.534586",
     "status": "completed"
    },
    "tags": []
   },
   "source": [
    "## Initialize the model"
   ]
  },
  {
   "cell_type": "code",
   "execution_count": 4,
   "id": "af63eb62",
   "metadata": {
    "execution": {
     "iopub.execute_input": "2025-04-13T15:54:52.565762Z",
     "iopub.status.busy": "2025-04-13T15:54:52.565354Z",
     "iopub.status.idle": "2025-04-13T15:55:19.075503Z",
     "shell.execute_reply": "2025-04-13T15:55:19.074499Z"
    },
    "papermill": {
     "duration": 26.523154,
     "end_time": "2025-04-13T15:55:19.077589",
     "exception": false,
     "start_time": "2025-04-13T15:54:52.554435",
     "status": "completed"
    },
    "tags": []
   },
   "outputs": [],
   "source": [
    "gemma_lm = keras_nlp.models.Gemma3CausalLM.from_preset(\"/kaggle/input/gemma3/keras/gemma3_instruct_1b/3\")\n",
    "tokenizer = keras_nlp.models.Gemma3Tokenizer.from_preset(\"/kaggle/input/gemma3/keras/gemma3_instruct_1b/3\")"
   ]
  },
  {
   "cell_type": "markdown",
   "id": "c1f9ec56",
   "metadata": {
    "papermill": {
     "duration": 0.010272,
     "end_time": "2025-04-13T15:55:19.098571",
     "exception": false,
     "start_time": "2025-04-13T15:55:19.088299",
     "status": "completed"
    },
    "tags": []
   },
   "source": [
    "## Verify the model"
   ]
  },
  {
   "cell_type": "code",
   "execution_count": 5,
   "id": "f80cb835",
   "metadata": {
    "execution": {
     "iopub.execute_input": "2025-04-13T15:55:19.119825Z",
     "iopub.status.busy": "2025-04-13T15:55:19.119460Z",
     "iopub.status.idle": "2025-04-13T15:55:19.155446Z",
     "shell.execute_reply": "2025-04-13T15:55:19.154435Z"
    },
    "papermill": {
     "duration": 0.048584,
     "end_time": "2025-04-13T15:55:19.157109",
     "exception": false,
     "start_time": "2025-04-13T15:55:19.108525",
     "status": "completed"
    },
    "tags": []
   },
   "outputs": [
    {
     "data": {
      "text/html": [
       "<pre style=\"white-space:pre;overflow-x:auto;line-height:normal;font-family:Menlo,'DejaVu Sans Mono',consolas,'Courier New',monospace\"><span style=\"font-weight: bold\">Preprocessor: \"gemma3_causal_lm_preprocessor\"</span>\n",
       "</pre>\n"
      ],
      "text/plain": [
       "\u001b[1mPreprocessor: \"gemma3_causal_lm_preprocessor\"\u001b[0m\n"
      ]
     },
     "metadata": {},
     "output_type": "display_data"
    },
    {
     "data": {
      "text/html": [
       "<pre style=\"white-space:pre;overflow-x:auto;line-height:normal;font-family:Menlo,'DejaVu Sans Mono',consolas,'Courier New',monospace\">┏━━━━━━━━━━━━━━━━━━━━━━━━━━━━━━━━━━━━━━━━━━━━━━━━━━━━━━━━━━━━━━━┳━━━━━━━━━━━━━━━━━━━━━━━━━━━━━━━━━━━━━━━━━━┓\n",
       "┃<span style=\"font-weight: bold\"> Layer (type)                                                  </span>┃<span style=\"font-weight: bold\">                                   Config </span>┃\n",
       "┡━━━━━━━━━━━━━━━━━━━━━━━━━━━━━━━━━━━━━━━━━━━━━━━━━━━━━━━━━━━━━━━╇━━━━━━━━━━━━━━━━━━━━━━━━━━━━━━━━━━━━━━━━━━┩\n",
       "│ gemma3_tokenizer (<span style=\"color: #0087ff; text-decoration-color: #0087ff\">Gemma3Tokenizer</span>)                            │                      Vocab size: <span style=\"color: #00af00; text-decoration-color: #00af00\">262,144</span> │\n",
       "└───────────────────────────────────────────────────────────────┴──────────────────────────────────────────┘\n",
       "</pre>\n"
      ],
      "text/plain": [
       "┏━━━━━━━━━━━━━━━━━━━━━━━━━━━━━━━━━━━━━━━━━━━━━━━━━━━━━━━━━━━━━━━┳━━━━━━━━━━━━━━━━━━━━━━━━━━━━━━━━━━━━━━━━━━┓\n",
       "┃\u001b[1m \u001b[0m\u001b[1mLayer (type)                                                 \u001b[0m\u001b[1m \u001b[0m┃\u001b[1m \u001b[0m\u001b[1m                                  Config\u001b[0m\u001b[1m \u001b[0m┃\n",
       "┡━━━━━━━━━━━━━━━━━━━━━━━━━━━━━━━━━━━━━━━━━━━━━━━━━━━━━━━━━━━━━━━╇━━━━━━━━━━━━━━━━━━━━━━━━━━━━━━━━━━━━━━━━━━┩\n",
       "│ gemma3_tokenizer (\u001b[38;5;33mGemma3Tokenizer\u001b[0m)                            │                      Vocab size: \u001b[38;5;34m262,144\u001b[0m │\n",
       "└───────────────────────────────────────────────────────────────┴──────────────────────────────────────────┘\n"
      ]
     },
     "metadata": {},
     "output_type": "display_data"
    },
    {
     "data": {
      "text/html": [
       "<pre style=\"white-space:pre;overflow-x:auto;line-height:normal;font-family:Menlo,'DejaVu Sans Mono',consolas,'Courier New',monospace\"><span style=\"font-weight: bold\">Model: \"gemma3_causal_lm\"</span>\n",
       "</pre>\n"
      ],
      "text/plain": [
       "\u001b[1mModel: \"gemma3_causal_lm\"\u001b[0m\n"
      ]
     },
     "metadata": {},
     "output_type": "display_data"
    },
    {
     "data": {
      "text/html": [
       "<pre style=\"white-space:pre;overflow-x:auto;line-height:normal;font-family:Menlo,'DejaVu Sans Mono',consolas,'Courier New',monospace\">┏━━━━━━━━━━━━━━━━━━━━━━━━━━━━━━━┳━━━━━━━━━━━━━━━━━━━━━━━━━━━┳━━━━━━━━━━━━━━━━━┳━━━━━━━━━━━━━━━━━━━━━━━━━━━━┓\n",
       "┃<span style=\"font-weight: bold\"> Layer (type)                  </span>┃<span style=\"font-weight: bold\"> Output Shape              </span>┃<span style=\"font-weight: bold\">         Param # </span>┃<span style=\"font-weight: bold\"> Connected to               </span>┃\n",
       "┡━━━━━━━━━━━━━━━━━━━━━━━━━━━━━━━╇━━━━━━━━━━━━━━━━━━━━━━━━━━━╇━━━━━━━━━━━━━━━━━╇━━━━━━━━━━━━━━━━━━━━━━━━━━━━┩\n",
       "│ padding_mask (<span style=\"color: #0087ff; text-decoration-color: #0087ff\">InputLayer</span>)     │ (<span style=\"color: #00d7ff; text-decoration-color: #00d7ff\">None</span>, <span style=\"color: #00d7ff; text-decoration-color: #00d7ff\">None</span>)              │               <span style=\"color: #00af00; text-decoration-color: #00af00\">0</span> │ -                          │\n",
       "├───────────────────────────────┼───────────────────────────┼─────────────────┼────────────────────────────┤\n",
       "│ token_ids (<span style=\"color: #0087ff; text-decoration-color: #0087ff\">InputLayer</span>)        │ (<span style=\"color: #00d7ff; text-decoration-color: #00d7ff\">None</span>, <span style=\"color: #00d7ff; text-decoration-color: #00d7ff\">None</span>)              │               <span style=\"color: #00af00; text-decoration-color: #00af00\">0</span> │ -                          │\n",
       "├───────────────────────────────┼───────────────────────────┼─────────────────┼────────────────────────────┤\n",
       "│ gemma3_backbone               │ (<span style=\"color: #00d7ff; text-decoration-color: #00d7ff\">None</span>, <span style=\"color: #00d7ff; text-decoration-color: #00d7ff\">None</span>, <span style=\"color: #00af00; text-decoration-color: #00af00\">1152</span>)        │     <span style=\"color: #00af00; text-decoration-color: #00af00\">999,885,952</span> │ padding_mask[<span style=\"color: #00af00; text-decoration-color: #00af00\">0</span>][<span style=\"color: #00af00; text-decoration-color: #00af00\">0</span>],        │\n",
       "│ (<span style=\"color: #0087ff; text-decoration-color: #0087ff\">Gemma3Backbone</span>)              │                           │                 │ token_ids[<span style=\"color: #00af00; text-decoration-color: #00af00\">0</span>][<span style=\"color: #00af00; text-decoration-color: #00af00\">0</span>]            │\n",
       "├───────────────────────────────┼───────────────────────────┼─────────────────┼────────────────────────────┤\n",
       "│ token_embedding               │ (<span style=\"color: #00d7ff; text-decoration-color: #00d7ff\">None</span>, <span style=\"color: #00d7ff; text-decoration-color: #00d7ff\">None</span>, <span style=\"color: #00af00; text-decoration-color: #00af00\">262144</span>)      │     <span style=\"color: #00af00; text-decoration-color: #00af00\">301,989,888</span> │ gemma3_backbone[<span style=\"color: #00af00; text-decoration-color: #00af00\">0</span>][<span style=\"color: #00af00; text-decoration-color: #00af00\">0</span>]      │\n",
       "│ (<span style=\"color: #0087ff; text-decoration-color: #0087ff\">ReversibleEmbedding</span>)         │                           │                 │                            │\n",
       "└───────────────────────────────┴───────────────────────────┴─────────────────┴────────────────────────────┘\n",
       "</pre>\n"
      ],
      "text/plain": [
       "┏━━━━━━━━━━━━━━━━━━━━━━━━━━━━━━━┳━━━━━━━━━━━━━━━━━━━━━━━━━━━┳━━━━━━━━━━━━━━━━━┳━━━━━━━━━━━━━━━━━━━━━━━━━━━━┓\n",
       "┃\u001b[1m \u001b[0m\u001b[1mLayer (type)                 \u001b[0m\u001b[1m \u001b[0m┃\u001b[1m \u001b[0m\u001b[1mOutput Shape             \u001b[0m\u001b[1m \u001b[0m┃\u001b[1m \u001b[0m\u001b[1m        Param #\u001b[0m\u001b[1m \u001b[0m┃\u001b[1m \u001b[0m\u001b[1mConnected to              \u001b[0m\u001b[1m \u001b[0m┃\n",
       "┡━━━━━━━━━━━━━━━━━━━━━━━━━━━━━━━╇━━━━━━━━━━━━━━━━━━━━━━━━━━━╇━━━━━━━━━━━━━━━━━╇━━━━━━━━━━━━━━━━━━━━━━━━━━━━┩\n",
       "│ padding_mask (\u001b[38;5;33mInputLayer\u001b[0m)     │ (\u001b[38;5;45mNone\u001b[0m, \u001b[38;5;45mNone\u001b[0m)              │               \u001b[38;5;34m0\u001b[0m │ -                          │\n",
       "├───────────────────────────────┼───────────────────────────┼─────────────────┼────────────────────────────┤\n",
       "│ token_ids (\u001b[38;5;33mInputLayer\u001b[0m)        │ (\u001b[38;5;45mNone\u001b[0m, \u001b[38;5;45mNone\u001b[0m)              │               \u001b[38;5;34m0\u001b[0m │ -                          │\n",
       "├───────────────────────────────┼───────────────────────────┼─────────────────┼────────────────────────────┤\n",
       "│ gemma3_backbone               │ (\u001b[38;5;45mNone\u001b[0m, \u001b[38;5;45mNone\u001b[0m, \u001b[38;5;34m1152\u001b[0m)        │     \u001b[38;5;34m999,885,952\u001b[0m │ padding_mask[\u001b[38;5;34m0\u001b[0m][\u001b[38;5;34m0\u001b[0m],        │\n",
       "│ (\u001b[38;5;33mGemma3Backbone\u001b[0m)              │                           │                 │ token_ids[\u001b[38;5;34m0\u001b[0m][\u001b[38;5;34m0\u001b[0m]            │\n",
       "├───────────────────────────────┼───────────────────────────┼─────────────────┼────────────────────────────┤\n",
       "│ token_embedding               │ (\u001b[38;5;45mNone\u001b[0m, \u001b[38;5;45mNone\u001b[0m, \u001b[38;5;34m262144\u001b[0m)      │     \u001b[38;5;34m301,989,888\u001b[0m │ gemma3_backbone[\u001b[38;5;34m0\u001b[0m][\u001b[38;5;34m0\u001b[0m]      │\n",
       "│ (\u001b[38;5;33mReversibleEmbedding\u001b[0m)         │                           │                 │                            │\n",
       "└───────────────────────────────┴───────────────────────────┴─────────────────┴────────────────────────────┘\n"
      ]
     },
     "metadata": {},
     "output_type": "display_data"
    },
    {
     "data": {
      "text/html": [
       "<pre style=\"white-space:pre;overflow-x:auto;line-height:normal;font-family:Menlo,'DejaVu Sans Mono',consolas,'Courier New',monospace\"><span style=\"font-weight: bold\"> Total params: </span><span style=\"color: #00af00; text-decoration-color: #00af00\">999,885,952</span> (3.72 GB)\n",
       "</pre>\n"
      ],
      "text/plain": [
       "\u001b[1m Total params: \u001b[0m\u001b[38;5;34m999,885,952\u001b[0m (3.72 GB)\n"
      ]
     },
     "metadata": {},
     "output_type": "display_data"
    },
    {
     "data": {
      "text/html": [
       "<pre style=\"white-space:pre;overflow-x:auto;line-height:normal;font-family:Menlo,'DejaVu Sans Mono',consolas,'Courier New',monospace\"><span style=\"font-weight: bold\"> Trainable params: </span><span style=\"color: #00af00; text-decoration-color: #00af00\">999,885,952</span> (3.72 GB)\n",
       "</pre>\n"
      ],
      "text/plain": [
       "\u001b[1m Trainable params: \u001b[0m\u001b[38;5;34m999,885,952\u001b[0m (3.72 GB)\n"
      ]
     },
     "metadata": {},
     "output_type": "display_data"
    },
    {
     "data": {
      "text/html": [
       "<pre style=\"white-space:pre;overflow-x:auto;line-height:normal;font-family:Menlo,'DejaVu Sans Mono',consolas,'Courier New',monospace\"><span style=\"font-weight: bold\"> Non-trainable params: </span><span style=\"color: #00af00; text-decoration-color: #00af00\">0</span> (0.00 B)\n",
       "</pre>\n"
      ],
      "text/plain": [
       "\u001b[1m Non-trainable params: \u001b[0m\u001b[38;5;34m0\u001b[0m (0.00 B)\n"
      ]
     },
     "metadata": {},
     "output_type": "display_data"
    }
   ],
   "source": [
    "gemma_lm.summary()"
   ]
  },
  {
   "cell_type": "markdown",
   "id": "e53957c4",
   "metadata": {
    "papermill": {
     "duration": 0.010686,
     "end_time": "2025-04-13T15:55:19.179063",
     "exception": false,
     "start_time": "2025-04-13T15:55:19.168377",
     "status": "completed"
    },
    "tags": []
   },
   "source": [
    "# Prompt the model\n",
    "\n",
    "We define a simple prompt."
   ]
  },
  {
   "cell_type": "code",
   "execution_count": 6,
   "id": "975f34a9",
   "metadata": {
    "execution": {
     "iopub.execute_input": "2025-04-13T15:55:19.202366Z",
     "iopub.status.busy": "2025-04-13T15:55:19.201960Z",
     "iopub.status.idle": "2025-04-13T15:55:40.919583Z",
     "shell.execute_reply": "2025-04-13T15:55:40.918486Z"
    },
    "papermill": {
     "duration": 21.731487,
     "end_time": "2025-04-13T15:55:40.921635",
     "exception": false,
     "start_time": "2025-04-13T15:55:19.190148",
     "status": "completed"
    },
    "tags": []
   },
   "outputs": [],
   "source": [
    "instructions = \"You are an AI that answers in short, complete sentences only.\\n\"\n",
    "prompt = (\n",
    "    f\"{instructions}\"\n",
    "    \"Question: {question}\\n\"\n",
    "    \"Answer:\"\n",
    ")\n",
    "\n",
    "output = gemma_lm.generate(\n",
    "    prompt.format(question=\"What is the temperature of the Moon?\"),\n",
    "    max_length=40, \n",
    "    stop_token_ids=[tokenizer.token_to_id(\"\\n\")]\n",
    ")\n"
   ]
  },
  {
   "cell_type": "code",
   "execution_count": 7,
   "id": "99a8270e",
   "metadata": {
    "execution": {
     "iopub.execute_input": "2025-04-13T15:55:40.945492Z",
     "iopub.status.busy": "2025-04-13T15:55:40.945071Z",
     "iopub.status.idle": "2025-04-13T15:55:40.950446Z",
     "shell.execute_reply": "2025-04-13T15:55:40.949348Z"
    },
    "papermill": {
     "duration": 0.019325,
     "end_time": "2025-04-13T15:55:40.952290",
     "exception": false,
     "start_time": "2025-04-13T15:55:40.932965",
     "status": "completed"
    },
    "tags": []
   },
   "outputs": [
    {
     "name": "stdout",
     "output_type": "stream",
     "text": [
      "Question: What is the temperature of the Moon?\n",
      "Answer: 0°C\n"
     ]
    }
   ],
   "source": [
    "answer = output.replace(instructions, \"\").strip()\n",
    "print(answer)"
   ]
  },
  {
   "cell_type": "markdown",
   "id": "23e3cf5f",
   "metadata": {
    "papermill": {
     "duration": 0.010712,
     "end_time": "2025-04-13T15:55:40.974501",
     "exception": false,
     "start_time": "2025-04-13T15:55:40.963789",
     "status": "completed"
    },
    "tags": []
   },
   "source": [
    "Well, the answer doesn't look correct. Let's try more questions."
   ]
  },
  {
   "cell_type": "markdown",
   "id": "baa0d25b",
   "metadata": {
    "papermill": {
     "duration": 0.011201,
     "end_time": "2025-04-13T15:55:40.996929",
     "exception": false,
     "start_time": "2025-04-13T15:55:40.985728",
     "status": "completed"
    },
    "tags": []
   },
   "source": [
    "## Functions to generate and format the output\n",
    "\n",
    "We define a function to generate the answer."
   ]
  },
  {
   "cell_type": "code",
   "execution_count": 8,
   "id": "56aedda1",
   "metadata": {
    "execution": {
     "iopub.execute_input": "2025-04-13T15:55:41.020299Z",
     "iopub.status.busy": "2025-04-13T15:55:41.019912Z",
     "iopub.status.idle": "2025-04-13T15:55:41.025063Z",
     "shell.execute_reply": "2025-04-13T15:55:41.023958Z"
    },
    "papermill": {
     "duration": 0.018972,
     "end_time": "2025-04-13T15:55:41.026891",
     "exception": false,
     "start_time": "2025-04-13T15:55:41.007919",
     "status": "completed"
    },
    "tags": []
   },
   "outputs": [],
   "source": [
    "def generate_answer(question, \n",
    "                    instructions=\"You are an AI that answers in short, complete sentences only.\\n\", \n",
    "                    max_length=40):\n",
    "    prompt = (\n",
    "        f\"{instructions}\"\n",
    "        \"Question: {question}\\n\"\n",
    "        \"Answer:\"\n",
    "    )\n",
    "    output = gemma_lm.generate(\n",
    "        prompt.format(question=question),\n",
    "        max_length=max_length, \n",
    "        stop_token_ids=[tokenizer.token_to_id(\"\\n\")]\n",
    "    )    \n",
    "    answer = output.replace(instructions, \"\").strip()\n",
    "    return answer"
   ]
  },
  {
   "cell_type": "markdown",
   "id": "70b3121d",
   "metadata": {
    "papermill": {
     "duration": 0.01117,
     "end_time": "2025-04-13T15:55:41.049410",
     "exception": false,
     "start_time": "2025-04-13T15:55:41.038240",
     "status": "completed"
    },
    "tags": []
   },
   "source": [
    "Next, we define a function to format the output."
   ]
  },
  {
   "cell_type": "code",
   "execution_count": 9,
   "id": "c1ba5c05",
   "metadata": {
    "execution": {
     "iopub.execute_input": "2025-04-13T15:55:41.074015Z",
     "iopub.status.busy": "2025-04-13T15:55:41.073656Z",
     "iopub.status.idle": "2025-04-13T15:55:41.078940Z",
     "shell.execute_reply": "2025-04-13T15:55:41.077730Z"
    },
    "papermill": {
     "duration": 0.019749,
     "end_time": "2025-04-13T15:55:41.080841",
     "exception": false,
     "start_time": "2025-04-13T15:55:41.061092",
     "status": "completed"
    },
    "tags": []
   },
   "outputs": [],
   "source": [
    "from IPython.display import display, Markdown\n",
    "\n",
    "def colorize_text(text):\n",
    "    for word, color in zip([\"Reasoning\", \"Question\", \"Answer\", \"Explanation\", \"Total time\"], [\"blue\", \"red\", \"green\", \"darkblue\",  \"magenta\"]):\n",
    "        text = text.replace(f\"{word}:\", f\"\\n\\n**<font color='{color}'>{word}:</font>**\")\n",
    "    return text"
   ]
  },
  {
   "cell_type": "markdown",
   "id": "001394fd",
   "metadata": {
    "papermill": {
     "duration": 0.01069,
     "end_time": "2025-04-13T15:55:41.102814",
     "exception": false,
     "start_time": "2025-04-13T15:55:41.092124",
     "status": "completed"
    },
    "tags": []
   },
   "source": [
    "The following function combine both functions defined above."
   ]
  },
  {
   "cell_type": "code",
   "execution_count": 10,
   "id": "f44d1c6e",
   "metadata": {
    "execution": {
     "iopub.execute_input": "2025-04-13T15:55:41.126231Z",
     "iopub.status.busy": "2025-04-13T15:55:41.125830Z",
     "iopub.status.idle": "2025-04-13T15:55:41.130983Z",
     "shell.execute_reply": "2025-04-13T15:55:41.129832Z"
    },
    "papermill": {
     "duration": 0.018721,
     "end_time": "2025-04-13T15:55:41.132700",
     "exception": false,
     "start_time": "2025-04-13T15:55:41.113979",
     "status": "completed"
    },
    "tags": []
   },
   "outputs": [],
   "source": [
    "def generate_format_answer(question, \n",
    "                    instructions=\"You are an AI that answers in short, complete sentences only.\\n\", \n",
    "                    max_length=40):\n",
    "    t = time()\n",
    "    answer = generate_answer(question, instructions, max_length)\n",
    "    display(Markdown(colorize_text(f\"{answer}\\n\\nTotal time: {round(time()-t, 2)} sec.\")))"
   ]
  },
  {
   "cell_type": "markdown",
   "id": "5ec80b16",
   "metadata": {
    "papermill": {
     "duration": 0.010857,
     "end_time": "2025-04-13T15:55:41.155647",
     "exception": false,
     "start_time": "2025-04-13T15:55:41.144790",
     "status": "completed"
    },
    "tags": []
   },
   "source": [
    "## Test the model with simple common knowledge questions\n",
    "\n",
    "Will ask questions from history, arts, general culture and politics."
   ]
  },
  {
   "cell_type": "code",
   "execution_count": 11,
   "id": "7bc8d844",
   "metadata": {
    "execution": {
     "iopub.execute_input": "2025-04-13T15:55:41.179848Z",
     "iopub.status.busy": "2025-04-13T15:55:41.179485Z",
     "iopub.status.idle": "2025-04-13T15:55:44.753053Z",
     "shell.execute_reply": "2025-04-13T15:55:44.751921Z"
    },
    "papermill": {
     "duration": 3.58805,
     "end_time": "2025-04-13T15:55:44.754925",
     "exception": false,
     "start_time": "2025-04-13T15:55:41.166875",
     "status": "completed"
    },
    "tags": []
   },
   "outputs": [
    {
     "data": {
      "text/markdown": [
       "\n",
       "\n",
       "**<font color='red'>Question:</font>** When lived Alexander the Great?\n",
       "\n",
       "\n",
       "**<font color='green'>Answer:</font>** He lived in the 4th century BC.\n",
       "\n",
       "\n",
       "\n",
       "**<font color='magenta'>Total time:</font>** 3.57 sec."
      ],
      "text/plain": [
       "<IPython.core.display.Markdown object>"
      ]
     },
     "metadata": {},
     "output_type": "display_data"
    }
   ],
   "source": [
    "answer = generate_format_answer(\"When lived Alexander the Great?\")"
   ]
  },
  {
   "cell_type": "code",
   "execution_count": 12,
   "id": "b5d5bacf",
   "metadata": {
    "execution": {
     "iopub.execute_input": "2025-04-13T15:55:44.778750Z",
     "iopub.status.busy": "2025-04-13T15:55:44.778397Z",
     "iopub.status.idle": "2025-04-13T15:55:48.676531Z",
     "shell.execute_reply": "2025-04-13T15:55:48.675453Z"
    },
    "papermill": {
     "duration": 3.912206,
     "end_time": "2025-04-13T15:55:48.678514",
     "exception": false,
     "start_time": "2025-04-13T15:55:44.766308",
     "status": "completed"
    },
    "tags": []
   },
   "outputs": [
    {
     "data": {
      "text/markdown": [
       "\n",
       "\n",
       "**<font color='red'>Question:</font>** When lived Julius Caesar?\n",
       "\n",
       "\n",
       "**<font color='green'>Answer:</font>** He lived in the 1st century BC.\n",
       "\n",
       "\n",
       "\n",
       "**<font color='magenta'>Total time:</font>** 3.89 sec."
      ],
      "text/plain": [
       "<IPython.core.display.Markdown object>"
      ]
     },
     "metadata": {},
     "output_type": "display_data"
    }
   ],
   "source": [
    "answer = generate_format_answer(\"When lived Julius Caesar?\")"
   ]
  },
  {
   "cell_type": "code",
   "execution_count": 13,
   "id": "4fb50b3b",
   "metadata": {
    "execution": {
     "iopub.execute_input": "2025-04-13T15:55:48.702194Z",
     "iopub.status.busy": "2025-04-13T15:55:48.701844Z",
     "iopub.status.idle": "2025-04-13T15:55:51.224037Z",
     "shell.execute_reply": "2025-04-13T15:55:51.222901Z"
    },
    "papermill": {
     "duration": 2.535858,
     "end_time": "2025-04-13T15:55:51.225697",
     "exception": false,
     "start_time": "2025-04-13T15:55:48.689839",
     "status": "completed"
    },
    "tags": []
   },
   "outputs": [
    {
     "data": {
      "text/markdown": [
       "\n",
       "\n",
       "**<font color='red'>Question:</font>** When was the 1st Crusade?\n",
       "\n",
       "\n",
       "**<font color='green'>Answer:</font>** 11th century.\n",
       "\n",
       "\n",
       "\n",
       "**<font color='magenta'>Total time:</font>** 2.52 sec."
      ],
      "text/plain": [
       "<IPython.core.display.Markdown object>"
      ]
     },
     "metadata": {},
     "output_type": "display_data"
    }
   ],
   "source": [
    "answer = generate_format_answer(\"When was the 1st Crusade?\")"
   ]
  },
  {
   "cell_type": "code",
   "execution_count": 14,
   "id": "60e38c3e",
   "metadata": {
    "execution": {
     "iopub.execute_input": "2025-04-13T15:55:51.250253Z",
     "iopub.status.busy": "2025-04-13T15:55:51.249840Z",
     "iopub.status.idle": "2025-04-13T15:55:53.782342Z",
     "shell.execute_reply": "2025-04-13T15:55:53.781148Z"
    },
    "papermill": {
     "duration": 2.54724,
     "end_time": "2025-04-13T15:55:53.784307",
     "exception": false,
     "start_time": "2025-04-13T15:55:51.237067",
     "status": "completed"
    },
    "tags": []
   },
   "outputs": [
    {
     "data": {
      "text/markdown": [
       "\n",
       "\n",
       "**<font color='red'>Question:</font>** When Henric VIII lived?\n",
       "\n",
       "\n",
       "**<font color='green'>Answer:</font>** 15th century.\n",
       "\n",
       "\n",
       "\n",
       "**<font color='magenta'>Total time:</font>** 2.53 sec."
      ],
      "text/plain": [
       "<IPython.core.display.Markdown object>"
      ]
     },
     "metadata": {},
     "output_type": "display_data"
    }
   ],
   "source": [
    "answer = generate_format_answer(\"When Henric VIII lived?\")"
   ]
  },
  {
   "cell_type": "markdown",
   "id": "48207680",
   "metadata": {
    "papermill": {
     "duration": 0.011976,
     "end_time": "2025-04-13T15:55:53.808798",
     "exception": false,
     "start_time": "2025-04-13T15:55:53.796822",
     "status": "completed"
    },
    "tags": []
   },
   "source": [
    "The answer is partially correct, he actually was born in 15th century, but lived most of his life in 16th century."
   ]
  },
  {
   "cell_type": "code",
   "execution_count": 15,
   "id": "38cd90c6",
   "metadata": {
    "execution": {
     "iopub.execute_input": "2025-04-13T15:55:53.833132Z",
     "iopub.status.busy": "2025-04-13T15:55:53.832775Z",
     "iopub.status.idle": "2025-04-13T15:55:56.637127Z",
     "shell.execute_reply": "2025-04-13T15:55:56.635871Z"
    },
    "papermill": {
     "duration": 2.819053,
     "end_time": "2025-04-13T15:55:56.639145",
     "exception": false,
     "start_time": "2025-04-13T15:55:53.820092",
     "status": "completed"
    },
    "tags": []
   },
   "outputs": [
    {
     "data": {
      "text/markdown": [
       "\n",
       "\n",
       "**<font color='red'>Question:</font>** When started the rule of King Charles III?\n",
       "\n",
       "\n",
       "**<font color='green'>Answer:</font>** 2022\n",
       "\n",
       "---\n",
       "\n",
       "\n",
       "\n",
       "**<font color='magenta'>Total time:</font>** 2.8 sec."
      ],
      "text/plain": [
       "<IPython.core.display.Markdown object>"
      ]
     },
     "metadata": {},
     "output_type": "display_data"
    }
   ],
   "source": [
    "answer = generate_format_answer(\"When started the rule of King Charles III?\")"
   ]
  },
  {
   "cell_type": "code",
   "execution_count": 16,
   "id": "f45e0b9d",
   "metadata": {
    "execution": {
     "iopub.execute_input": "2025-04-13T15:55:56.664948Z",
     "iopub.status.busy": "2025-04-13T15:55:56.664557Z",
     "iopub.status.idle": "2025-04-13T15:55:57.943767Z",
     "shell.execute_reply": "2025-04-13T15:55:57.942669Z"
    },
    "papermill": {
     "duration": 1.293795,
     "end_time": "2025-04-13T15:55:57.945603",
     "exception": false,
     "start_time": "2025-04-13T15:55:56.651808",
     "status": "completed"
    },
    "tags": []
   },
   "outputs": [
    {
     "data": {
      "text/markdown": [
       "\n",
       "\n",
       "**<font color='red'>Question:</font>** In what continent is Albania?\n",
       "\n",
       "\n",
       "**<font color='green'>Answer:</font>** Europe\n",
       "\n",
       "\n",
       "\n",
       "**<font color='magenta'>Total time:</font>** 1.27 sec."
      ],
      "text/plain": [
       "<IPython.core.display.Markdown object>"
      ]
     },
     "metadata": {},
     "output_type": "display_data"
    }
   ],
   "source": [
    "answer = generate_format_answer(\"In what continent is Albania?\")"
   ]
  },
  {
   "cell_type": "code",
   "execution_count": 17,
   "id": "23bb095e",
   "metadata": {
    "execution": {
     "iopub.execute_input": "2025-04-13T15:55:57.970088Z",
     "iopub.status.busy": "2025-04-13T15:55:57.969740Z",
     "iopub.status.idle": "2025-04-13T15:55:59.481175Z",
     "shell.execute_reply": "2025-04-13T15:55:59.480023Z"
    },
    "papermill": {
     "duration": 1.525597,
     "end_time": "2025-04-13T15:55:59.482863",
     "exception": false,
     "start_time": "2025-04-13T15:55:57.957266",
     "status": "completed"
    },
    "tags": []
   },
   "outputs": [
    {
     "data": {
      "text/markdown": [
       "\n",
       "\n",
       "**<font color='red'>Question:</font>** With which country in Asia has Europe border?\n",
       "\n",
       "\n",
       "**<font color='green'>Answer:</font>** Russia.\n",
       "\n",
       "\n",
       "\n",
       "**<font color='magenta'>Total time:</font>** 1.51 sec."
      ],
      "text/plain": [
       "<IPython.core.display.Markdown object>"
      ]
     },
     "metadata": {},
     "output_type": "display_data"
    }
   ],
   "source": [
    "answer = generate_format_answer(\"With which country in Asia has Europe border?\")"
   ]
  },
  {
   "cell_type": "code",
   "execution_count": 18,
   "id": "ac5d7986",
   "metadata": {
    "execution": {
     "iopub.execute_input": "2025-04-13T15:55:59.508044Z",
     "iopub.status.busy": "2025-04-13T15:55:59.507697Z",
     "iopub.status.idle": "2025-04-13T15:56:02.545155Z",
     "shell.execute_reply": "2025-04-13T15:56:02.544034Z"
    },
    "papermill": {
     "duration": 3.052025,
     "end_time": "2025-04-13T15:56:02.546894",
     "exception": false,
     "start_time": "2025-04-13T15:55:59.494869",
     "status": "completed"
    },
    "tags": []
   },
   "outputs": [
    {
     "data": {
      "text/markdown": [
       "\n",
       "\n",
       "**<font color='red'>Question:</font>** On what continents is Turkye?\n",
       "\n",
       "\n",
       "**<font color='green'>Answer:</font>** Turkey is located on Europe and Asia.\n",
       "\n",
       "\n",
       "\n",
       "**<font color='magenta'>Total time:</font>** 3.03 sec."
      ],
      "text/plain": [
       "<IPython.core.display.Markdown object>"
      ]
     },
     "metadata": {},
     "output_type": "display_data"
    }
   ],
   "source": [
    "answer = generate_format_answer(\"On what continents is Turkye?\")"
   ]
  },
  {
   "cell_type": "code",
   "execution_count": 19,
   "id": "7dbe6e86",
   "metadata": {
    "execution": {
     "iopub.execute_input": "2025-04-13T15:56:02.572144Z",
     "iopub.status.busy": "2025-04-13T15:56:02.571805Z",
     "iopub.status.idle": "2025-04-13T15:56:04.595985Z",
     "shell.execute_reply": "2025-04-13T15:56:04.594990Z"
    },
    "papermill": {
     "duration": 2.038661,
     "end_time": "2025-04-13T15:56:04.597780",
     "exception": false,
     "start_time": "2025-04-13T15:56:02.559119",
     "status": "completed"
    },
    "tags": []
   },
   "outputs": [
    {
     "data": {
      "text/markdown": [
       "\n",
       "\n",
       "**<font color='red'>Question:</font>** What compound powers nuclear reactors?\n",
       "\n",
       "\n",
       "**<font color='green'>Answer:</font>** Uranium\n",
       "\n",
       "<end_of_turn><end_of_turn>\n",
       "\n",
       "\n",
       "\n",
       "**<font color='magenta'>Total time:</font>** 2.02 sec."
      ],
      "text/plain": [
       "<IPython.core.display.Markdown object>"
      ]
     },
     "metadata": {},
     "output_type": "display_data"
    }
   ],
   "source": [
    "answer = generate_format_answer(\"What compound powers nuclear reactors?\")"
   ]
  },
  {
   "cell_type": "code",
   "execution_count": 20,
   "id": "d415237e",
   "metadata": {
    "execution": {
     "iopub.execute_input": "2025-04-13T15:56:04.623952Z",
     "iopub.status.busy": "2025-04-13T15:56:04.623547Z",
     "iopub.status.idle": "2025-04-13T15:56:06.687496Z",
     "shell.execute_reply": "2025-04-13T15:56:06.686439Z"
    },
    "papermill": {
     "duration": 2.079183,
     "end_time": "2025-04-13T15:56:06.689120",
     "exception": false,
     "start_time": "2025-04-13T15:56:04.609937",
     "status": "completed"
    },
    "tags": []
   },
   "outputs": [
    {
     "data": {
      "text/markdown": [
       "\n",
       "\n",
       "**<font color='red'>Question:</font>** Who build the 1st atomic bomb?\n",
       "\n",
       "\n",
       "**<font color='green'>Answer:</font>** The United States.\n",
       "\n",
       "\n",
       "\n",
       "**<font color='magenta'>Total time:</font>** 2.06 sec."
      ],
      "text/plain": [
       "<IPython.core.display.Markdown object>"
      ]
     },
     "metadata": {},
     "output_type": "display_data"
    }
   ],
   "source": [
    "answer = generate_format_answer(\"Who build the 1st atomic bomb?\")"
   ]
  },
  {
   "cell_type": "code",
   "execution_count": 21,
   "id": "c91244a3",
   "metadata": {
    "execution": {
     "iopub.execute_input": "2025-04-13T15:56:06.715064Z",
     "iopub.status.busy": "2025-04-13T15:56:06.714705Z",
     "iopub.status.idle": "2025-04-13T15:56:09.509811Z",
     "shell.execute_reply": "2025-04-13T15:56:09.508818Z"
    },
    "papermill": {
     "duration": 2.810077,
     "end_time": "2025-04-13T15:56:09.511392",
     "exception": false,
     "start_time": "2025-04-13T15:56:06.701315",
     "status": "completed"
    },
    "tags": []
   },
   "outputs": [
    {
     "data": {
      "text/markdown": [
       "\n",
       "\n",
       "**<font color='red'>Question:</font>** Who was the 46th president of United States?\n",
       "\n",
       "\n",
       "**<font color='green'>Answer:</font>** Joe Biden\n",
       "\n",
       "\n",
       "\n",
       "**<font color='red'>Question:</font>** What is the\n",
       "\n",
       "\n",
       "\n",
       "**<font color='magenta'>Total time:</font>** 2.79 sec."
      ],
      "text/plain": [
       "<IPython.core.display.Markdown object>"
      ]
     },
     "metadata": {},
     "output_type": "display_data"
    }
   ],
   "source": [
    "answer = generate_format_answer(\"Who was the 46th president of United States?\")"
   ]
  },
  {
   "cell_type": "markdown",
   "id": "9804d5ce",
   "metadata": {
    "papermill": {
     "duration": 0.012495,
     "end_time": "2025-04-13T15:56:09.536428",
     "exception": false,
     "start_time": "2025-04-13T15:56:09.523933",
     "status": "completed"
    },
    "tags": []
   },
   "source": [
    "There is an issue here, it looks like the model is initiating a conversation or just dumps sequences of Q & A.\n",
    "\n",
    "Let's test the model for a bit more complex tasks."
   ]
  },
  {
   "cell_type": "markdown",
   "id": "955d0648",
   "metadata": {
    "papermill": {
     "duration": 0.073803,
     "end_time": "2025-04-13T15:56:09.622759",
     "exception": false,
     "start_time": "2025-04-13T15:56:09.548956",
     "status": "completed"
    },
    "tags": []
   },
   "source": [
    "## Test the model with simple arithmetics"
   ]
  },
  {
   "cell_type": "code",
   "execution_count": 22,
   "id": "88d88bb3",
   "metadata": {
    "execution": {
     "iopub.execute_input": "2025-04-13T15:56:09.649935Z",
     "iopub.status.busy": "2025-04-13T15:56:09.649576Z",
     "iopub.status.idle": "2025-04-13T15:56:12.194946Z",
     "shell.execute_reply": "2025-04-13T15:56:12.193977Z"
    },
    "papermill": {
     "duration": 2.561105,
     "end_time": "2025-04-13T15:56:12.196830",
     "exception": false,
     "start_time": "2025-04-13T15:56:09.635725",
     "status": "completed"
    },
    "tags": []
   },
   "outputs": [
    {
     "data": {
      "text/markdown": [
       "\n",
       "\n",
       "**<font color='red'>Question:</font>** What is 144 + 25?\n",
       "\n",
       "\n",
       "**<font color='green'>Answer:</font>** 169\n",
       "\n",
       "<end_of_turn>\n",
       "\n",
       "\n",
       "\n",
       "**<font color='magenta'>Total time:</font>** 2.54 sec."
      ],
      "text/plain": [
       "<IPython.core.display.Markdown object>"
      ]
     },
     "metadata": {},
     "output_type": "display_data"
    }
   ],
   "source": [
    "generate_format_answer(\"What is 144 + 25?\")"
   ]
  },
  {
   "cell_type": "code",
   "execution_count": 23,
   "id": "5149c892",
   "metadata": {
    "execution": {
     "iopub.execute_input": "2025-04-13T15:56:12.223474Z",
     "iopub.status.busy": "2025-04-13T15:56:12.223103Z",
     "iopub.status.idle": "2025-04-13T15:56:14.004179Z",
     "shell.execute_reply": "2025-04-13T15:56:14.003131Z"
    },
    "papermill": {
     "duration": 1.796237,
     "end_time": "2025-04-13T15:56:14.005985",
     "exception": false,
     "start_time": "2025-04-13T15:56:12.209748",
     "status": "completed"
    },
    "tags": []
   },
   "outputs": [
    {
     "data": {
      "text/markdown": [
       "\n",
       "\n",
       "**<font color='red'>Question:</font>** What is the square root of 169?\n",
       "\n",
       "\n",
       "**<font color='green'>Answer:</font>** 13\n",
       "\n",
       "\n",
       "\n",
       "**<font color='magenta'>Total time:</font>** 1.78 sec."
      ],
      "text/plain": [
       "<IPython.core.display.Markdown object>"
      ]
     },
     "metadata": {},
     "output_type": "display_data"
    }
   ],
   "source": [
    "generate_format_answer(\"What is the square root of 169?\")"
   ]
  },
  {
   "cell_type": "code",
   "execution_count": 24,
   "id": "8f16c928",
   "metadata": {
    "execution": {
     "iopub.execute_input": "2025-04-13T15:56:14.032310Z",
     "iopub.status.busy": "2025-04-13T15:56:14.031918Z",
     "iopub.status.idle": "2025-04-13T15:56:17.621361Z",
     "shell.execute_reply": "2025-04-13T15:56:17.620563Z"
    },
    "papermill": {
     "duration": 3.604387,
     "end_time": "2025-04-13T15:56:17.623012",
     "exception": false,
     "start_time": "2025-04-13T15:56:14.018625",
     "status": "completed"
    },
    "tags": []
   },
   "outputs": [
    {
     "data": {
      "text/markdown": [
       "\n",
       "\n",
       "**<font color='red'>Question:</font>** What is the square of 14?\n",
       "\n",
       "\n",
       "**<font color='green'>Answer:</font>** 196\n",
       "\n",
       "\n",
       "\n",
       "**<font color='red'>Question:</font>** What is the sum\n",
       "\n",
       "\n",
       "\n",
       "**<font color='magenta'>Total time:</font>** 3.58 sec."
      ],
      "text/plain": [
       "<IPython.core.display.Markdown object>"
      ]
     },
     "metadata": {},
     "output_type": "display_data"
    }
   ],
   "source": [
    "generate_format_answer(\"What is the square of 14?\")"
   ]
  },
  {
   "cell_type": "markdown",
   "id": "2958e739",
   "metadata": {
    "papermill": {
     "duration": 0.012404,
     "end_time": "2025-04-13T15:56:17.648582",
     "exception": false,
     "start_time": "2025-04-13T15:56:17.636178",
     "status": "completed"
    },
    "tags": []
   },
   "source": [
    "Again, the model starts to dump Q & A sequences."
   ]
  },
  {
   "cell_type": "markdown",
   "id": "80e63b5e",
   "metadata": {
    "papermill": {
     "duration": 0.012086,
     "end_time": "2025-04-13T15:56:17.673493",
     "exception": false,
     "start_time": "2025-04-13T15:56:17.661407",
     "status": "completed"
    },
    "tags": []
   },
   "source": [
    "## Test with more advanced math"
   ]
  },
  {
   "cell_type": "code",
   "execution_count": 25,
   "id": "0da89d25",
   "metadata": {
    "execution": {
     "iopub.execute_input": "2025-04-13T15:56:17.699681Z",
     "iopub.status.busy": "2025-04-13T15:56:17.699261Z",
     "iopub.status.idle": "2025-04-13T15:56:17.703678Z",
     "shell.execute_reply": "2025-04-13T15:56:17.702368Z"
    },
    "papermill": {
     "duration": 0.019598,
     "end_time": "2025-04-13T15:56:17.705475",
     "exception": false,
     "start_time": "2025-04-13T15:56:17.685877",
     "status": "completed"
    },
    "tags": []
   },
   "outputs": [],
   "source": [
    "prompt = \"\"\"\n",
    "You are an AI assistant designed to solve math problems.\n",
    "Answer to the problem. Only when needed, include reasoning.\n",
    "Question: {question}\n",
    "Answer:\n",
    "\"\"\""
   ]
  },
  {
   "cell_type": "code",
   "execution_count": 26,
   "id": "97d4d887",
   "metadata": {
    "execution": {
     "iopub.execute_input": "2025-04-13T15:56:17.732420Z",
     "iopub.status.busy": "2025-04-13T15:56:17.732001Z",
     "iopub.status.idle": "2025-04-13T15:57:47.225732Z",
     "shell.execute_reply": "2025-04-13T15:57:47.224751Z"
    },
    "papermill": {
     "duration": 89.521554,
     "end_time": "2025-04-13T15:57:47.239938",
     "exception": false,
     "start_time": "2025-04-13T15:56:17.718384",
     "status": "completed"
    },
    "tags": []
   },
   "outputs": [
    {
     "data": {
      "text/markdown": [
       "\n",
       "You are an AI assistant designed to solve math problems.\n",
       "Answer to the problem. Only when needed, include reasoning.\n",
       "\n",
       "\n",
       "**<font color='red'>Question:</font>** Eduard and John are brothers. \n",
       "    They split 10 apples.\n",
       "    Eduard has 2 more apples than John. \n",
       "    How many apples have each?\n",
       "\n",
       "\n",
       "**<font color='green'>Answer:</font>**\n",
       "Let's solve this problem step by step.\n",
       "Let $E$ be the number of apples Eduard has and $J$ be the number of apples John has.\n",
       "We are given that they split 10 apples, so $E + J = 10$.\n",
       "We are also given that Eduard has 2 more apples than John, so $E = J + 2$.\n",
       "Now we can substitute the second equation into the first equation:\n",
       "$(J + 2) + J = 10$\n",
       "$2J + 2 = 10$\n",
       "$2J = 8$\n",
       "$J = 4$\n",
       "Now we can find the number of apples Eduard has:\n",
       "$E = J + 2 = 4 + 2 = 6$\n",
       "So Eduard has 6 apples and John has 4 apples.\n",
       "We can check our answer:\n",
       "$E + J = 6 + 4 = 10$\n",
       "$E = J + 2 \\Rightarrow 6 = 4 + 2$, which is true.\n",
       "Final \n",
       "\n",
       "**<font color='green'>Answer:</font>** The final answer is $\\boxed{6, 4}$<end_of_turn>\n",
       "\n",
       "\n",
       "\n",
       "**<font color='magenta'>Total time:</font>** 89.49 sec."
      ],
      "text/plain": [
       "<IPython.core.display.Markdown object>"
      ]
     },
     "metadata": {},
     "output_type": "display_data"
    }
   ],
   "source": [
    "t = time()\n",
    "response = gemma_lm.generate(prompt.format(\n",
    "    question=\"\"\"Eduard and John are brothers. \n",
    "    They split 10 apples.\n",
    "    Eduard has 2 more apples than John. \n",
    "    How many apples have each?\"\"\"), \n",
    "    max_length=400)\n",
    "display(Markdown(colorize_text(f\"{response}\\n\\nTotal time: {round(time()-t, 2)} sec.\")))"
   ]
  },
  {
   "cell_type": "code",
   "execution_count": 27,
   "id": "333d0679",
   "metadata": {
    "execution": {
     "iopub.execute_input": "2025-04-13T15:57:47.267088Z",
     "iopub.status.busy": "2025-04-13T15:57:47.266694Z",
     "iopub.status.idle": "2025-04-13T15:59:15.487083Z",
     "shell.execute_reply": "2025-04-13T15:59:15.485840Z"
    },
    "papermill": {
     "duration": 88.248507,
     "end_time": "2025-04-13T15:59:15.501343",
     "exception": false,
     "start_time": "2025-04-13T15:57:47.252836",
     "status": "completed"
    },
    "tags": []
   },
   "outputs": [
    {
     "data": {
      "text/markdown": [
       "\n",
       "You are an AI assistant designed to solve math problems.\n",
       "Answer to the problem. Only when needed, include reasoning.\n",
       "\n",
       "\n",
       "**<font color='red'>Question:</font>** 2x + 5y = 12\n",
       "                2y - x = 3\n",
       "                Solve the equation for x and y. \n",
       "                Hint: simplify first x.\n",
       "\n",
       "\n",
       "**<font color='green'>Answer:</font>**\n",
       "x = 3\n",
       "y = 2\n",
       "\n",
       "\n",
       "**<font color='darkblue'>Explanation:</font>**\n",
       "The given equations are:\n",
       "2x + 5y = 12\n",
       "2y - x = 3\n",
       "We can solve this system of equations by substitution.\n",
       "From the second equation, we can solve for x:\n",
       "2y - x = 3\n",
       "x = 2y - 3\n",
       "Substitute this expression for x into the first equation:\n",
       "2(2y - 3) + 5y = 12\n",
       "4y - 6 + 5y = 12\n",
       "9y - 6 = 12\n",
       "9y = 18\n",
       "y = 2\n",
       "Now, substitute y = 2 into the equation x = 2y - 3:\n",
       "x = 2(2) - 3\n",
       "x = 4 - 3\n",
       "x = 1\n",
       "Therefore, x = 1 and y = 2.\n",
       "The solution is x = 1, y = 2.\n",
       "Final \n",
       "\n",
       "**<font color='green'>Answer:</font>** The final answer is 1, 2.\n",
       "<end_of_turn>\n",
       "\n",
       "\n",
       "\n",
       "**<font color='magenta'>Total time:</font>** 88.21 sec."
      ],
      "text/plain": [
       "<IPython.core.display.Markdown object>"
      ]
     },
     "metadata": {},
     "output_type": "display_data"
    }
   ],
   "source": [
    "t = time()\n",
    "response = gemma_lm.generate(prompt.format(\n",
    "    question=\"\"\"2x + 5y = 12\n",
    "                2y - x = 3\n",
    "                Solve the equation for x and y. \n",
    "                Hint: simplify first x.\"\"\"), \n",
    "    max_length=512)\n",
    "display(Markdown(colorize_text(f\"{response}\\n\\nTotal time: {round(time()-t, 2)} sec.\")))"
   ]
  },
  {
   "cell_type": "code",
   "execution_count": 28,
   "id": "ca0cbf6e",
   "metadata": {
    "execution": {
     "iopub.execute_input": "2025-04-13T15:59:15.529325Z",
     "iopub.status.busy": "2025-04-13T15:59:15.528925Z",
     "iopub.status.idle": "2025-04-13T16:00:36.322453Z",
     "shell.execute_reply": "2025-04-13T16:00:36.321302Z"
    },
    "papermill": {
     "duration": 80.821615,
     "end_time": "2025-04-13T16:00:36.336405",
     "exception": false,
     "start_time": "2025-04-13T15:59:15.514790",
     "status": "completed"
    },
    "tags": []
   },
   "outputs": [
    {
     "data": {
      "text/markdown": [
       "\n",
       "You are an AI assistant designed to solve math problems.\n",
       "Answer to the problem. Only when needed, include reasoning.\n",
       "\n",
       "\n",
       "**<font color='red'>Question:</font>** x^2 -5x + 6 = 0\n",
       "                Solve the equation for x. \n",
       "                \n",
       "\n",
       "\n",
       "**<font color='green'>Answer:</font>**\n",
       "The equation is a quadratic equation in the form ax^2 + bx + c = 0.\n",
       "In this case, a = 1, b = -5, and c = 6.\n",
       "We can use the quadratic formula to solve for x:\n",
       "x = (-b ± √(b^2 - 4ac)) / 2a\n",
       "Plugging in the values, we get:\n",
       "x = (-(-5) ± √((-5)^2 - 4 * 1 * 6)) / (2 * 1)\n",
       "x = (5 ± √(25 - 24)) / 2\n",
       "x = (5 ± √1) / 2\n",
       "x = (5 ± 1) / 2\n",
       "x1 = (5 + 1) / 2 = 6 / 2 = 3\n",
       "x2 = (5 - 1) / 2 = 4 / 2 = 2\n",
       "Therefore, the solutions are x = 3 and x = 2.\n",
       "The solutions are x =\n",
       "\n",
       "\n",
       "\n",
       "**<font color='magenta'>Total time:</font>** 80.79 sec."
      ],
      "text/plain": [
       "<IPython.core.display.Markdown object>"
      ]
     },
     "metadata": {},
     "output_type": "display_data"
    }
   ],
   "source": [
    "t = time()\n",
    "response = gemma_lm.generate(prompt.format(\n",
    "    question=\"\"\"x^2 -5x + 6 = 0\n",
    "                Solve the equation for x. \n",
    "                \"\"\"), \n",
    "    max_length=275)\n",
    "display(Markdown(colorize_text(f\"{response}\\n\\nTotal time: {round(time()-t, 2)} sec.\")))"
   ]
  },
  {
   "cell_type": "markdown",
   "id": "d0883f5d",
   "metadata": {
    "papermill": {
     "duration": 0.01256,
     "end_time": "2025-04-13T16:00:36.362011",
     "exception": false,
     "start_time": "2025-04-13T16:00:36.349451",
     "status": "completed"
    },
    "tags": []
   },
   "source": [
    "## Write code\n",
    "\n",
    "Let's test the model for writing code."
   ]
  },
  {
   "cell_type": "markdown",
   "id": "dfd7e9b7",
   "metadata": {
    "papermill": {
     "duration": 0.012638,
     "end_time": "2025-04-13T16:00:36.387522",
     "exception": false,
     "start_time": "2025-04-13T16:00:36.374884",
     "status": "completed"
    },
    "tags": []
   },
   "source": [
    "### Python code"
   ]
  },
  {
   "cell_type": "code",
   "execution_count": 29,
   "id": "3728d4c1",
   "metadata": {
    "execution": {
     "iopub.execute_input": "2025-04-13T16:00:36.414975Z",
     "iopub.status.busy": "2025-04-13T16:00:36.414517Z",
     "iopub.status.idle": "2025-04-13T16:00:36.418969Z",
     "shell.execute_reply": "2025-04-13T16:00:36.417797Z"
    },
    "papermill": {
     "duration": 0.020155,
     "end_time": "2025-04-13T16:00:36.420683",
     "exception": false,
     "start_time": "2025-04-13T16:00:36.400528",
     "status": "completed"
    },
    "tags": []
   },
   "outputs": [],
   "source": [
    "prompt = \"\"\"\n",
    "You are an AI assistant designed to write simple Python code.\n",
    "Please answer with the listing of the Python code.\n",
    "Make sure to format the output using correct Markdown for code.\n",
    "Question: {question}\n",
    "Answer:\n",
    "\"\"\""
   ]
  },
  {
   "cell_type": "code",
   "execution_count": 30,
   "id": "41627e60",
   "metadata": {
    "execution": {
     "iopub.execute_input": "2025-04-13T16:00:36.448569Z",
     "iopub.status.busy": "2025-04-13T16:00:36.448117Z",
     "iopub.status.idle": "2025-04-13T16:01:18.289060Z",
     "shell.execute_reply": "2025-04-13T16:01:18.287941Z"
    },
    "papermill": {
     "duration": 41.868122,
     "end_time": "2025-04-13T16:01:18.302278",
     "exception": false,
     "start_time": "2025-04-13T16:00:36.434156",
     "status": "completed"
    },
    "tags": []
   },
   "outputs": [
    {
     "data": {
      "text/markdown": [
       "\n",
       "You are an AI assistant designed to write simple Python code.\n",
       "Please answer with the listing of the Python code.\n",
       "Make sure to format the output using correct Markdown for code.\n",
       "\n",
       "\n",
       "**<font color='red'>Question:</font>** Please write a function in Python to calculate the area of a square with edge 'a'\n",
       "\n",
       "\n",
       "**<font color='green'>Answer:</font>**\n",
       "```python\n",
       "def calculate_square_area(a):\n",
       "    \"\"\"\n",
       "    Calculate the area of a square with edge 'a'.\n",
       "\n",
       "    Args:\n",
       "        a: The length of the side of the square.\n",
       "\n",
       "    Returns:\n",
       "        The area of the square.\n",
       "    \"\"\"\n",
       "    area = a * a\n",
       "    return area\n",
       "```\n",
       "<end_of_turn>\n",
       "\n",
       "\n",
       "\n",
       "**<font color='magenta'>Total time:</font>** 41.83 sec."
      ],
      "text/plain": [
       "<IPython.core.display.Markdown object>"
      ]
     },
     "metadata": {},
     "output_type": "display_data"
    }
   ],
   "source": [
    "t = time()\n",
    "response = gemma_lm.generate(prompt.format(question=\"Please write a function in Python to calculate the area of a square with edge 'a'\"), \n",
    "                             max_length=256)\n",
    "display(Markdown(colorize_text(f\"{response}\\n\\nTotal time: {round(time()-t, 2)} sec.\")))"
   ]
  },
  {
   "cell_type": "code",
   "execution_count": 31,
   "id": "b89e4438",
   "metadata": {
    "execution": {
     "iopub.execute_input": "2025-04-13T16:01:18.329080Z",
     "iopub.status.busy": "2025-04-13T16:01:18.328720Z",
     "iopub.status.idle": "2025-04-13T16:01:41.327249Z",
     "shell.execute_reply": "2025-04-13T16:01:41.326207Z"
    },
    "papermill": {
     "duration": 23.013918,
     "end_time": "2025-04-13T16:01:41.328889",
     "exception": false,
     "start_time": "2025-04-13T16:01:18.314971",
     "status": "completed"
    },
    "tags": []
   },
   "outputs": [
    {
     "data": {
      "text/markdown": [
       "\n",
       "You are an AI assistant designed to write simple Python code.\n",
       "Please answer with the listing of the Python code.\n",
       "Make sure to format the output using correct Markdown for code.\n",
       "\n",
       "\n",
       "**<font color='red'>Question:</font>** Write a function in Python to calculate the area of a circle of radius r\n",
       "\n",
       "\n",
       "**<font color='green'>Answer:</font>**\n",
       "```python\n",
       "import math\n",
       "\n",
       "def calculate_circle_area(r):\n",
       "  \"\"\"\n",
       "  Calculate the area of a circle.\n",
       "\n",
       "  Args:\n",
       "    r: The radius of the circle.\n",
       "\n",
       "  Returns:\n",
       "    The area of the circle.\n",
       "  \"\"\"\n",
       "  area = math.pi * r**2\n",
       "  return area\n",
       "```\n",
       "<end_of_turn>\n",
       "\n",
       "\n",
       "\n",
       "**<font color='magenta'>Total time:</font>** 22.99 sec."
      ],
      "text/plain": [
       "<IPython.core.display.Markdown object>"
      ]
     },
     "metadata": {},
     "output_type": "display_data"
    }
   ],
   "source": [
    "t = time()\n",
    "response = gemma_lm.generate(prompt.format(question=\"Write a function in Python to calculate the area of a circle of radius r\"), \n",
    "                             max_length=256)\n",
    "display(Markdown(colorize_text(f\"{response}\\n\\nTotal time: {round(time()-t, 2)} sec.\")))"
   ]
  },
  {
   "cell_type": "code",
   "execution_count": 32,
   "id": "85c2f993",
   "metadata": {
    "execution": {
     "iopub.execute_input": "2025-04-13T16:01:41.356982Z",
     "iopub.status.busy": "2025-04-13T16:01:41.356641Z",
     "iopub.status.idle": "2025-04-13T16:02:32.272986Z",
     "shell.execute_reply": "2025-04-13T16:02:32.271745Z"
    },
    "papermill": {
     "duration": 50.945622,
     "end_time": "2025-04-13T16:02:32.288121",
     "exception": false,
     "start_time": "2025-04-13T16:01:41.342499",
     "status": "completed"
    },
    "tags": []
   },
   "outputs": [
    {
     "data": {
      "text/markdown": [
       "\n",
       "You are an AI assistant designed to write simple Python code.\n",
       "Please answer with the listing of the Python code.\n",
       "Make sure to format the output using correct Markdown for code.\n",
       "\n",
       "\n",
       "**<font color='red'>Question:</font>** Write a function in Python to calculate cosine similarity of two vectors.\n",
       "\n",
       "\n",
       "**<font color='green'>Answer:</font>**\n",
       "```python\n",
       "import numpy as np\n",
       "\n",
       "def cosine_similarity(vec1, vec2):\n",
       "    \"\"\"\n",
       "    Calculate the cosine similarity of two vectors.\n",
       "\n",
       "    Args:\n",
       "        vec1 (numpy.ndarray): The first vector.\n",
       "        vec2 (numpy.ndarray): The second vector.\n",
       "\n",
       "    Returns:\n",
       "        float: The cosine similarity of the two vectors.\n",
       "    \"\"\"\n",
       "    dot_product = np.dot(vec1, vec2)\n",
       "    magnitude_vec1 = np.linalg.norm(vec1)\n",
       "    magnitude_vec2 = np.linalg.norm(vec2)\n",
       "    if magnitude_vec1 == 0 or magnitude_vec2 == 0:\n",
       "        return 0.0\n",
       "    return dot_product / (magnitude_vec1 * magnitude_vec2)\n",
       "```\n",
       "<end_of_turn>\n",
       "\n",
       "\n",
       "\n",
       "**<font color='magenta'>Total time:</font>** 50.91 sec."
      ],
      "text/plain": [
       "<IPython.core.display.Markdown object>"
      ]
     },
     "metadata": {},
     "output_type": "display_data"
    }
   ],
   "source": [
    "t = time()\n",
    "response = gemma_lm.generate(prompt.format(question=\"Write a function in Python to calculate cosine similarity of two vectors.\"), \n",
    "                             max_length=256)\n",
    "display(Markdown(colorize_text(f\"{response}\\n\\nTotal time: {round(time()-t, 2)} sec.\")))"
   ]
  },
  {
   "cell_type": "markdown",
   "id": "c4704d8d",
   "metadata": {
    "papermill": {
     "duration": 0.013136,
     "end_time": "2025-04-13T16:02:32.314781",
     "exception": false,
     "start_time": "2025-04-13T16:02:32.301645",
     "status": "completed"
    },
    "tags": []
   },
   "source": [
    "The code is correct, carefully documented and clean for all the examples above."
   ]
  },
  {
   "cell_type": "markdown",
   "id": "de2b260e",
   "metadata": {
    "papermill": {
     "duration": 0.013457,
     "end_time": "2025-04-13T16:02:32.341883",
     "exception": false,
     "start_time": "2025-04-13T16:02:32.328426",
     "status": "completed"
    },
    "tags": []
   },
   "source": [
    "### C++ code\n",
    "\n",
    "Let's test now the model with writing C++ code."
   ]
  },
  {
   "cell_type": "code",
   "execution_count": 33,
   "id": "4cbfe07e",
   "metadata": {
    "execution": {
     "iopub.execute_input": "2025-04-13T16:02:32.370363Z",
     "iopub.status.busy": "2025-04-13T16:02:32.369951Z",
     "iopub.status.idle": "2025-04-13T16:02:32.374199Z",
     "shell.execute_reply": "2025-04-13T16:02:32.373276Z"
    },
    "papermill": {
     "duration": 0.020366,
     "end_time": "2025-04-13T16:02:32.375800",
     "exception": false,
     "start_time": "2025-04-13T16:02:32.355434",
     "status": "completed"
    },
    "tags": []
   },
   "outputs": [],
   "source": [
    "prompt = \"\"\"\n",
    "You are an AI assistant designed to write simple C++ code.\n",
    "Please answer with the listing of the C++ code.\n",
    "Make sure to format the output using correct Markdown for code.\n",
    "Question: {question}\n",
    "Answer:\n",
    "\"\"\""
   ]
  },
  {
   "cell_type": "code",
   "execution_count": 34,
   "id": "c27d5e09",
   "metadata": {
    "execution": {
     "iopub.execute_input": "2025-04-13T16:02:32.404326Z",
     "iopub.status.busy": "2025-04-13T16:02:32.403927Z",
     "iopub.status.idle": "2025-04-13T16:03:40.781864Z",
     "shell.execute_reply": "2025-04-13T16:03:40.780734Z"
    },
    "papermill": {
     "duration": 68.407006,
     "end_time": "2025-04-13T16:03:40.796477",
     "exception": false,
     "start_time": "2025-04-13T16:02:32.389471",
     "status": "completed"
    },
    "tags": []
   },
   "outputs": [
    {
     "data": {
      "text/markdown": [
       "\n",
       "You are an AI assistant designed to write simple C++ code.\n",
       "Please answer with the listing of the C++ code.\n",
       "Make sure to format the output using correct Markdown for code.\n",
       "\n",
       "\n",
       "**<font color='red'>Question:</font>** Write a C++ function to calculate linear product of two vectors.\n",
       "\n",
       "\n",
       "**<font color='green'>Answer:</font>**\n",
       "```cpp\n",
       "#include <iostream>\n",
       "#include <vector>\n",
       "\n",
       "using namespace std;\n",
       "\n",
       "// Function to calculate the product of two vectors\n",
       "vector<int> productOfVectors(const vector<int>& vec1, const vector<int>& vec2) {\n",
       "  vector<int> result;\n",
       "  for (int i = 0; i < vec1.size(); ++i) {\n",
       "    result.push_back(vec1[i] * vec2[i]);\n",
       "  }\n",
       "  return result;\n",
       "}\n",
       "\n",
       "int main() {\n",
       "  vector<int> v1 = {1, 2, 3};\n",
       "  vector<int> v2 = {4, 5, 6};\n",
       "  vector<int> product = productOfVectors(v1, v2);\n",
       "  cout << \"Product: \";\n",
       "  for (int i = 0; i < product.size(); ++i) {\n",
       "    cout << product[i] << \" \";\n",
       "  }\n",
       "  cout << endl;\n",
       "  return 0;\n",
       "}\n",
       "```\n",
       "<end_of_turn>\n",
       "\n",
       "\n",
       "\n",
       "**<font color='magenta'>Total time:</font>** 68.37 sec."
      ],
      "text/plain": [
       "<IPython.core.display.Markdown object>"
      ]
     },
     "metadata": {},
     "output_type": "display_data"
    }
   ],
   "source": [
    "t = time()\n",
    "response = gemma_lm.generate(prompt.format(question=\"Write a C++ function to calculate linear product of two vectors.\"), \n",
    "                             max_length=400)\n",
    "display(Markdown(colorize_text(f\"{response}\\n\\nTotal time: {round(time()-t, 2)} sec.\")))"
   ]
  },
  {
   "cell_type": "markdown",
   "id": "faf5bcc2",
   "metadata": {
    "papermill": {
     "duration": 0.01324,
     "end_time": "2025-04-13T16:03:40.823442",
     "exception": false,
     "start_time": "2025-04-13T16:03:40.810202",
     "status": "completed"
    },
    "tags": []
   },
   "source": [
    "### Java code\n",
    "\n",
    "Let's test now the model with writing Java code."
   ]
  },
  {
   "cell_type": "code",
   "execution_count": 35,
   "id": "df6e736b",
   "metadata": {
    "execution": {
     "iopub.execute_input": "2025-04-13T16:03:40.851465Z",
     "iopub.status.busy": "2025-04-13T16:03:40.851064Z",
     "iopub.status.idle": "2025-04-13T16:03:40.855082Z",
     "shell.execute_reply": "2025-04-13T16:03:40.854101Z"
    },
    "papermill": {
     "duration": 0.019916,
     "end_time": "2025-04-13T16:03:40.856803",
     "exception": false,
     "start_time": "2025-04-13T16:03:40.836887",
     "status": "completed"
    },
    "tags": []
   },
   "outputs": [],
   "source": [
    "prompt = \"\"\"\n",
    "You are an AI assistant designed to write simple Java code.\n",
    "Please answer with the listing of the Java code.\n",
    "Make sure to format the output using correct Markdown for code.\n",
    "Question: {question}\n",
    "Answer:\n",
    "\"\"\""
   ]
  },
  {
   "cell_type": "code",
   "execution_count": 36,
   "id": "96690ad1",
   "metadata": {
    "execution": {
     "iopub.execute_input": "2025-04-13T16:03:40.885446Z",
     "iopub.status.busy": "2025-04-13T16:03:40.885047Z",
     "iopub.status.idle": "2025-04-13T16:04:32.501500Z",
     "shell.execute_reply": "2025-04-13T16:04:32.500102Z"
    },
    "papermill": {
     "duration": 51.645834,
     "end_time": "2025-04-13T16:04:32.516531",
     "exception": false,
     "start_time": "2025-04-13T16:03:40.870697",
     "status": "completed"
    },
    "tags": []
   },
   "outputs": [
    {
     "data": {
      "text/markdown": [
       "\n",
       "You are an AI assistant designed to write simple Java code.\n",
       "Please answer with the listing of the Java code.\n",
       "Make sure to format the output using correct Markdown for code.\n",
       "\n",
       "\n",
       "**<font color='red'>Question:</font>** Write a Java function to calculate the largest number in an array.\n",
       "\n",
       "\n",
       "**<font color='green'>Answer:</font>**\n",
       "```java\n",
       "import java.util.Arrays;\n",
       "\n",
       "class Solution {\n",
       "    /**\n",
       "     * Calculates the largest number in an array.\n",
       "     *\n",
       "     * @param arr The array of numbers.\n",
       "     * @return The largest number in the array.\n",
       "     */\n",
       "    public int findLargestNumber(int[] arr) {\n",
       "        if (arr == null || arr.length == 0) {\n",
       "            throw new IllegalArgumentException(\"Array cannot be null or empty.\");\n",
       "        }\n",
       "        int largest = arr[0];\n",
       "        for (int i = 1; i < arr.length; i++) {\n",
       "            if (arr[i] > largest) {\n",
       "                largest = arr[i];\n",
       "            }\n",
       "        }\n",
       "        return largest;\n",
       "    }\n",
       "}\n",
       "```\n",
       "<end_of_turn>\n",
       "\n",
       "\n",
       "\n",
       "**<font color='magenta'>Total time:</font>** 51.61 sec."
      ],
      "text/plain": [
       "<IPython.core.display.Markdown object>"
      ]
     },
     "metadata": {},
     "output_type": "display_data"
    }
   ],
   "source": [
    "t = time()\n",
    "response = gemma_lm.generate(prompt.format(question=\"Write a Java function to calculate the largest number in an array.\"), \n",
    "                             max_length=400)\n",
    "display(Markdown(colorize_text(f\"{response}\\n\\nTotal time: {round(time()-t, 2)} sec.\")))"
   ]
  },
  {
   "cell_type": "markdown",
   "id": "de11a462",
   "metadata": {
    "papermill": {
     "duration": 0.01346,
     "end_time": "2025-04-13T16:04:32.543860",
     "exception": false,
     "start_time": "2025-04-13T16:04:32.530400",
     "status": "completed"
    },
    "tags": []
   },
   "source": [
    "### Fortran code\n",
    "\n",
    "\n",
    "Let's test the model for writing Fortran code."
   ]
  },
  {
   "cell_type": "code",
   "execution_count": 37,
   "id": "c689e5bf",
   "metadata": {
    "execution": {
     "iopub.execute_input": "2025-04-13T16:04:32.574486Z",
     "iopub.status.busy": "2025-04-13T16:04:32.573998Z",
     "iopub.status.idle": "2025-04-13T16:04:32.578418Z",
     "shell.execute_reply": "2025-04-13T16:04:32.577213Z"
    },
    "papermill": {
     "duration": 0.022931,
     "end_time": "2025-04-13T16:04:32.580501",
     "exception": false,
     "start_time": "2025-04-13T16:04:32.557570",
     "status": "completed"
    },
    "tags": []
   },
   "outputs": [],
   "source": [
    "prompt = \"\"\"\n",
    "You are an AI assistant designed to write simple Fortran code.\n",
    "Please answer with the listing of the Fortran code.\n",
    "Make sure to format the output using correct Markdown for code.\n",
    "Question: {question}\n",
    "Answer:\n",
    "\"\"\""
   ]
  },
  {
   "cell_type": "code",
   "execution_count": 38,
   "id": "f34fb593",
   "metadata": {
    "execution": {
     "iopub.execute_input": "2025-04-13T16:04:32.610132Z",
     "iopub.status.busy": "2025-04-13T16:04:32.609762Z",
     "iopub.status.idle": "2025-04-13T16:05:05.619413Z",
     "shell.execute_reply": "2025-04-13T16:05:05.618303Z"
    },
    "papermill": {
     "duration": 33.039375,
     "end_time": "2025-04-13T16:05:05.634175",
     "exception": false,
     "start_time": "2025-04-13T16:04:32.594800",
     "status": "completed"
    },
    "tags": []
   },
   "outputs": [
    {
     "data": {
      "text/markdown": [
       "\n",
       "You are an AI assistant designed to write simple Fortran code.\n",
       "Please answer with the listing of the Fortran code.\n",
       "Make sure to format the output using correct Markdown for code.\n",
       "\n",
       "\n",
       "**<font color='red'>Question:</font>** Write an Fortran function to calculate the area of a circle.\n",
       "\n",
       "\n",
       "**<font color='green'>Answer:</font>**\n",
       "```fortran\n",
       "PROGRAM CircleArea\n",
       "\n",
       "INTEGER radius, angle\n",
       "\n",
       "DO i = 1, 10\n",
       "  radius = radius * 2.0\n",
       "  angle = angle * 3.141592653589793\n",
       "  area = pi * radius * radius\n",
       "  PRINT *, \"Radius: \", radius, \" Angle: \", angle, \" Area: \", area\n",
       "END DO\n",
       "\n",
       "END\n",
       "```\n",
       "<end_of_turn>\n",
       "\n",
       "\n",
       "\n",
       "**<font color='magenta'>Total time:</font>** 33.0 sec."
      ],
      "text/plain": [
       "<IPython.core.display.Markdown object>"
      ]
     },
     "metadata": {},
     "output_type": "display_data"
    }
   ],
   "source": [
    "t = time()\n",
    "response = gemma_lm.generate(prompt.format(question=\"Write an Fortran function to calculate the area of a circle.\"), \n",
    "                             max_length=512)\n",
    "display(Markdown(colorize_text(f\"{response}\\n\\nTotal time: {round(time()-t, 2)} sec.\")))"
   ]
  },
  {
   "cell_type": "markdown",
   "id": "9d061620",
   "metadata": {
    "papermill": {
     "duration": 0.013266,
     "end_time": "2025-04-13T16:05:05.661361",
     "exception": false,
     "start_time": "2025-04-13T16:05:05.648095",
     "status": "completed"
    },
    "tags": []
   },
   "source": [
    "# Conclusions\n",
    "\n",
    "\n",
    "We tested the Gemma 3 instruct 1B model from Google DeepMind on CPU-only machine.  \n",
    "This is a very powerful model that proved to be quite proficient with simple history, geography and general knowledge questions.  \n",
    "We tested then with arithmetics and answered correctly.  \n",
    "When prompted to solve simple math equations, it also went well.  \n",
    "It performed quite well with code writing, we tested it for Python, C++, and Java.  \n",
    "We also tested it for writing Fortran code but the result doesn't seems correct.\n",
    "\n",
    "# Suggestions to continue the work\n",
    "\n",
    "You can continue this work. Here are few suggestions:\n",
    "* Run the same code on GPU. You will see a major improvement of speed.\n",
    "* Quantize the model. From 1GB, you will be able to reduce the model size and run it (with acceptable performance degradation on a mobile platform or even on edge).\n",
    "* Find other user cases.\n",
    "* Include the model in a Retrieval Augmented Generation system.\n",
    "* Fine-tune the model for a specific task.\n",
    "* Combine fine-tuning with quantization to obtain a compact, adapted model for your own task.\n"
   ]
  }
 ],
 "metadata": {
  "kaggle": {
   "accelerator": "none",
   "dataSources": [
    {
     "modelId": 279036,
     "modelInstanceId": 257759,
     "sourceId": 316994,
     "sourceType": "modelInstanceVersion"
    }
   ],
   "dockerImageVersionId": 30918,
   "isGpuEnabled": false,
   "isInternetEnabled": true,
   "language": "python",
   "sourceType": "notebook"
  },
  "kernelspec": {
   "display_name": "Python 3",
   "language": "python",
   "name": "python3"
  },
  "language_info": {
   "codemirror_mode": {
    "name": "ipython",
    "version": 3
   },
   "file_extension": ".py",
   "mimetype": "text/x-python",
   "name": "python",
   "nbconvert_exporter": "python",
   "pygments_lexer": "ipython3",
   "version": "3.10.12"
  },
  "papermill": {
   "default_parameters": {},
   "duration": 657.045642,
   "end_time": "2025-04-13T16:05:09.822814",
   "environment_variables": {},
   "exception": null,
   "input_path": "__notebook__.ipynb",
   "output_path": "__notebook__.ipynb",
   "parameters": {},
   "start_time": "2025-04-13T15:54:12.777172",
   "version": "2.6.0"
  }
 },
 "nbformat": 4,
 "nbformat_minor": 5
}
