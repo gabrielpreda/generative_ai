{
 "cells": [
  {
   "cell_type": "markdown",
   "id": "8d05f0d5",
   "metadata": {
    "_cell_guid": "b1076dfc-b9ad-4769-8c92-a6c4dae69d19",
    "_uuid": "8f2839f25d086af736a60e9eeb907d3b93b6e0e5",
    "papermill": {
     "duration": 0.008195,
     "end_time": "2025-08-15T13:37:42.341981",
     "exception": false,
     "start_time": "2025-08-15T13:37:42.333786",
     "status": "completed"
    },
    "tags": []
   },
   "source": [
    "# Introduction\n",
    "\n",
    "We will test Gemma 3 270 M (yes, that compact!), Keras framework, instruction tunning.\n",
    "\n",
    "We perform these tests on CPU only."
   ]
  },
  {
   "cell_type": "markdown",
   "id": "4105490f",
   "metadata": {
    "papermill": {
     "duration": 0.006693,
     "end_time": "2025-08-15T13:37:42.355991",
     "exception": false,
     "start_time": "2025-08-15T13:37:42.349298",
     "status": "completed"
    },
    "tags": []
   },
   "source": [
    "# Install dependencies"
   ]
  },
  {
   "cell_type": "code",
   "execution_count": 1,
   "id": "9f7265e5",
   "metadata": {
    "_kg_hide-output": true,
    "execution": {
     "iopub.execute_input": "2025-08-15T13:37:42.371479Z",
     "iopub.status.busy": "2025-08-15T13:37:42.371076Z",
     "iopub.status.idle": "2025-08-15T13:37:57.465656Z",
     "shell.execute_reply": "2025-08-15T13:37:57.464330Z"
    },
    "papermill": {
     "duration": 15.104793,
     "end_time": "2025-08-15T13:37:57.467622",
     "exception": false,
     "start_time": "2025-08-15T13:37:42.362829",
     "status": "completed"
    },
    "tags": []
   },
   "outputs": [
    {
     "name": "stdout",
     "output_type": "stream",
     "text": [
      "Requirement already satisfied: keras-hub in /usr/local/lib/python3.11/dist-packages (0.18.1)\r\n",
      "Collecting keras-hub\r\n",
      "  Downloading keras_hub-0.22.0-py3-none-any.whl.metadata (7.4 kB)\r\n",
      "Requirement already satisfied: keras>=3.8 in /usr/local/lib/python3.11/dist-packages (from keras-hub) (3.8.0)\r\n",
      "Requirement already satisfied: absl-py in /usr/local/lib/python3.11/dist-packages (from keras-hub) (1.4.0)\r\n",
      "Requirement already satisfied: numpy in /usr/local/lib/python3.11/dist-packages (from keras-hub) (1.26.4)\r\n",
      "Requirement already satisfied: packaging in /usr/local/lib/python3.11/dist-packages (from keras-hub) (25.0)\r\n",
      "Requirement already satisfied: regex in /usr/local/lib/python3.11/dist-packages (from keras-hub) (2024.11.6)\r\n",
      "Requirement already satisfied: rich in /usr/local/lib/python3.11/dist-packages (from keras-hub) (14.0.0)\r\n",
      "Requirement already satisfied: kagglehub in /usr/local/lib/python3.11/dist-packages (from keras-hub) (0.3.12)\r\n",
      "Requirement already satisfied: tensorflow-text in /usr/local/lib/python3.11/dist-packages (from keras-hub) (2.18.1)\r\n",
      "Requirement already satisfied: namex in /usr/local/lib/python3.11/dist-packages (from keras>=3.8->keras-hub) (0.1.0)\r\n",
      "Requirement already satisfied: h5py in /usr/local/lib/python3.11/dist-packages (from keras>=3.8->keras-hub) (3.14.0)\r\n",
      "Requirement already satisfied: optree in /usr/local/lib/python3.11/dist-packages (from keras>=3.8->keras-hub) (0.16.0)\r\n",
      "Requirement already satisfied: ml-dtypes in /usr/local/lib/python3.11/dist-packages (from keras>=3.8->keras-hub) (0.4.1)\r\n",
      "Requirement already satisfied: pyyaml in /usr/local/lib/python3.11/dist-packages (from kagglehub->keras-hub) (6.0.2)\r\n",
      "Requirement already satisfied: requests in /usr/local/lib/python3.11/dist-packages (from kagglehub->keras-hub) (2.32.4)\r\n",
      "Requirement already satisfied: tqdm in /usr/local/lib/python3.11/dist-packages (from kagglehub->keras-hub) (4.67.1)\r\n",
      "Requirement already satisfied: mkl_fft in /usr/local/lib/python3.11/dist-packages (from numpy->keras-hub) (1.3.8)\r\n",
      "Requirement already satisfied: mkl_random in /usr/local/lib/python3.11/dist-packages (from numpy->keras-hub) (1.2.4)\r\n",
      "Requirement already satisfied: mkl_umath in /usr/local/lib/python3.11/dist-packages (from numpy->keras-hub) (0.1.1)\r\n",
      "Requirement already satisfied: mkl in /usr/local/lib/python3.11/dist-packages (from numpy->keras-hub) (2025.2.0)\r\n",
      "Requirement already satisfied: tbb4py in /usr/local/lib/python3.11/dist-packages (from numpy->keras-hub) (2022.2.0)\r\n",
      "Requirement already satisfied: mkl-service in /usr/local/lib/python3.11/dist-packages (from numpy->keras-hub) (2.4.1)\r\n",
      "Requirement already satisfied: markdown-it-py>=2.2.0 in /usr/local/lib/python3.11/dist-packages (from rich->keras-hub) (3.0.0)\r\n",
      "Requirement already satisfied: pygments<3.0.0,>=2.13.0 in /usr/local/lib/python3.11/dist-packages (from rich->keras-hub) (2.19.2)\r\n",
      "Requirement already satisfied: tensorflow<2.19,>=2.18.0 in /usr/local/lib/python3.11/dist-packages (from tensorflow-text->keras-hub) (2.18.0)\r\n",
      "Requirement already satisfied: mdurl~=0.1 in /usr/local/lib/python3.11/dist-packages (from markdown-it-py>=2.2.0->rich->keras-hub) (0.1.2)\r\n",
      "Requirement already satisfied: astunparse>=1.6.0 in /usr/local/lib/python3.11/dist-packages (from tensorflow<2.19,>=2.18.0->tensorflow-text->keras-hub) (1.6.3)\r\n",
      "Requirement already satisfied: flatbuffers>=24.3.25 in /usr/local/lib/python3.11/dist-packages (from tensorflow<2.19,>=2.18.0->tensorflow-text->keras-hub) (25.2.10)\r\n",
      "Requirement already satisfied: gast!=0.5.0,!=0.5.1,!=0.5.2,>=0.2.1 in /usr/local/lib/python3.11/dist-packages (from tensorflow<2.19,>=2.18.0->tensorflow-text->keras-hub) (0.6.0)\r\n",
      "Requirement already satisfied: google-pasta>=0.1.1 in /usr/local/lib/python3.11/dist-packages (from tensorflow<2.19,>=2.18.0->tensorflow-text->keras-hub) (0.2.0)\r\n",
      "Requirement already satisfied: libclang>=13.0.0 in /usr/local/lib/python3.11/dist-packages (from tensorflow<2.19,>=2.18.0->tensorflow-text->keras-hub) (18.1.1)\r\n",
      "Requirement already satisfied: opt-einsum>=2.3.2 in /usr/local/lib/python3.11/dist-packages (from tensorflow<2.19,>=2.18.0->tensorflow-text->keras-hub) (3.4.0)\r\n",
      "Requirement already satisfied: protobuf!=4.21.0,!=4.21.1,!=4.21.2,!=4.21.3,!=4.21.4,!=4.21.5,<6.0.0dev,>=3.20.3 in /usr/local/lib/python3.11/dist-packages (from tensorflow<2.19,>=2.18.0->tensorflow-text->keras-hub) (3.20.3)\r\n",
      "Requirement already satisfied: setuptools in /usr/local/lib/python3.11/dist-packages (from tensorflow<2.19,>=2.18.0->tensorflow-text->keras-hub) (75.2.0)\r\n",
      "Requirement already satisfied: six>=1.12.0 in /usr/local/lib/python3.11/dist-packages (from tensorflow<2.19,>=2.18.0->tensorflow-text->keras-hub) (1.17.0)\r\n",
      "Requirement already satisfied: termcolor>=1.1.0 in /usr/local/lib/python3.11/dist-packages (from tensorflow<2.19,>=2.18.0->tensorflow-text->keras-hub) (3.1.0)\r\n",
      "Requirement already satisfied: typing-extensions>=3.6.6 in /usr/local/lib/python3.11/dist-packages (from tensorflow<2.19,>=2.18.0->tensorflow-text->keras-hub) (4.14.0)\r\n",
      "Requirement already satisfied: wrapt>=1.11.0 in /usr/local/lib/python3.11/dist-packages (from tensorflow<2.19,>=2.18.0->tensorflow-text->keras-hub) (1.17.2)\r\n",
      "Requirement already satisfied: grpcio<2.0,>=1.24.3 in /usr/local/lib/python3.11/dist-packages (from tensorflow<2.19,>=2.18.0->tensorflow-text->keras-hub) (1.73.1)\r\n",
      "Requirement already satisfied: tensorboard<2.19,>=2.18 in /usr/local/lib/python3.11/dist-packages (from tensorflow<2.19,>=2.18.0->tensorflow-text->keras-hub) (2.18.0)\r\n",
      "Requirement already satisfied: tensorflow-io-gcs-filesystem>=0.23.1 in /usr/local/lib/python3.11/dist-packages (from tensorflow<2.19,>=2.18.0->tensorflow-text->keras-hub) (0.37.1)\r\n",
      "Requirement already satisfied: charset_normalizer<4,>=2 in /usr/local/lib/python3.11/dist-packages (from requests->kagglehub->keras-hub) (3.4.2)\r\n",
      "Requirement already satisfied: idna<4,>=2.5 in /usr/local/lib/python3.11/dist-packages (from requests->kagglehub->keras-hub) (3.10)\r\n",
      "Requirement already satisfied: urllib3<3,>=1.21.1 in /usr/local/lib/python3.11/dist-packages (from requests->kagglehub->keras-hub) (2.5.0)\r\n",
      "Requirement already satisfied: certifi>=2017.4.17 in /usr/local/lib/python3.11/dist-packages (from requests->kagglehub->keras-hub) (2025.6.15)\r\n",
      "Requirement already satisfied: intel-openmp<2026,>=2024 in /usr/local/lib/python3.11/dist-packages (from mkl->numpy->keras-hub) (2024.2.0)\r\n",
      "Requirement already satisfied: tbb==2022.* in /usr/local/lib/python3.11/dist-packages (from mkl->numpy->keras-hub) (2022.2.0)\r\n",
      "Requirement already satisfied: tcmlib==1.* in /usr/local/lib/python3.11/dist-packages (from tbb==2022.*->mkl->numpy->keras-hub) (1.4.0)\r\n",
      "Requirement already satisfied: intel-cmplr-lib-rt in /usr/local/lib/python3.11/dist-packages (from mkl_umath->numpy->keras-hub) (2024.2.0)\r\n",
      "Requirement already satisfied: wheel<1.0,>=0.23.0 in /usr/local/lib/python3.11/dist-packages (from astunparse>=1.6.0->tensorflow<2.19,>=2.18.0->tensorflow-text->keras-hub) (0.45.1)\r\n",
      "Requirement already satisfied: intel-cmplr-lib-ur==2024.2.0 in /usr/local/lib/python3.11/dist-packages (from intel-openmp<2026,>=2024->mkl->numpy->keras-hub) (2024.2.0)\r\n",
      "Requirement already satisfied: markdown>=2.6.8 in /usr/local/lib/python3.11/dist-packages (from tensorboard<2.19,>=2.18->tensorflow<2.19,>=2.18.0->tensorflow-text->keras-hub) (3.8.2)\r\n",
      "Requirement already satisfied: tensorboard-data-server<0.8.0,>=0.7.0 in /usr/local/lib/python3.11/dist-packages (from tensorboard<2.19,>=2.18->tensorflow<2.19,>=2.18.0->tensorflow-text->keras-hub) (0.7.2)\r\n",
      "Requirement already satisfied: werkzeug>=1.0.1 in /usr/local/lib/python3.11/dist-packages (from tensorboard<2.19,>=2.18->tensorflow<2.19,>=2.18.0->tensorflow-text->keras-hub) (3.1.3)\r\n",
      "Requirement already satisfied: MarkupSafe>=2.1.1 in /usr/local/lib/python3.11/dist-packages (from werkzeug>=1.0.1->tensorboard<2.19,>=2.18->tensorflow<2.19,>=2.18.0->tensorflow-text->keras-hub) (3.0.2)\r\n",
      "Downloading keras_hub-0.22.0-py3-none-any.whl (947 kB)\r\n",
      "\u001b[2K   \u001b[90m━━━━━━━━━━━━━━━━━━━━━━━━━━━━━━━━━━━━━━━━\u001b[0m \u001b[32m947.9/947.9 kB\u001b[0m \u001b[31m16.8 MB/s\u001b[0m eta \u001b[36m0:00:00\u001b[0m\r\n",
      "\u001b[?25hInstalling collected packages: keras-hub\r\n",
      "  Attempting uninstall: keras-hub\r\n",
      "    Found existing installation: keras-hub 0.18.1\r\n",
      "    Uninstalling keras-hub-0.18.1:\r\n",
      "      Successfully uninstalled keras-hub-0.18.1\r\n",
      "\u001b[31mERROR: pip's dependency resolver does not currently take into account all the packages that are installed. This behaviour is the source of the following dependency conflicts.\r\n",
      "keras-nlp 0.18.1 requires keras-hub==0.18.1, but you have keras-hub 0.22.0 which is incompatible.\u001b[0m\u001b[31m\r\n",
      "\u001b[0mSuccessfully installed keras-hub-0.22.0\r\n",
      "Requirement already satisfied: keras in /usr/local/lib/python3.11/dist-packages (3.8.0)\r\n",
      "Collecting keras\r\n",
      "  Downloading keras-3.11.2-py3-none-any.whl.metadata (5.9 kB)\r\n",
      "Requirement already satisfied: absl-py in /usr/local/lib/python3.11/dist-packages (from keras) (1.4.0)\r\n",
      "Requirement already satisfied: numpy in /usr/local/lib/python3.11/dist-packages (from keras) (1.26.4)\r\n",
      "Requirement already satisfied: rich in /usr/local/lib/python3.11/dist-packages (from keras) (14.0.0)\r\n",
      "Requirement already satisfied: namex in /usr/local/lib/python3.11/dist-packages (from keras) (0.1.0)\r\n",
      "Requirement already satisfied: h5py in /usr/local/lib/python3.11/dist-packages (from keras) (3.14.0)\r\n",
      "Requirement already satisfied: optree in /usr/local/lib/python3.11/dist-packages (from keras) (0.16.0)\r\n",
      "Requirement already satisfied: ml-dtypes in /usr/local/lib/python3.11/dist-packages (from keras) (0.4.1)\r\n",
      "Requirement already satisfied: packaging in /usr/local/lib/python3.11/dist-packages (from keras) (25.0)\r\n",
      "Requirement already satisfied: mkl_fft in /usr/local/lib/python3.11/dist-packages (from numpy->keras) (1.3.8)\r\n",
      "Requirement already satisfied: mkl_random in /usr/local/lib/python3.11/dist-packages (from numpy->keras) (1.2.4)\r\n",
      "Requirement already satisfied: mkl_umath in /usr/local/lib/python3.11/dist-packages (from numpy->keras) (0.1.1)\r\n",
      "Requirement already satisfied: mkl in /usr/local/lib/python3.11/dist-packages (from numpy->keras) (2025.2.0)\r\n",
      "Requirement already satisfied: tbb4py in /usr/local/lib/python3.11/dist-packages (from numpy->keras) (2022.2.0)\r\n",
      "Requirement already satisfied: mkl-service in /usr/local/lib/python3.11/dist-packages (from numpy->keras) (2.4.1)\r\n",
      "Requirement already satisfied: typing-extensions>=4.6.0 in /usr/local/lib/python3.11/dist-packages (from optree->keras) (4.14.0)\r\n",
      "Requirement already satisfied: markdown-it-py>=2.2.0 in /usr/local/lib/python3.11/dist-packages (from rich->keras) (3.0.0)\r\n",
      "Requirement already satisfied: pygments<3.0.0,>=2.13.0 in /usr/local/lib/python3.11/dist-packages (from rich->keras) (2.19.2)\r\n",
      "Requirement already satisfied: mdurl~=0.1 in /usr/local/lib/python3.11/dist-packages (from markdown-it-py>=2.2.0->rich->keras) (0.1.2)\r\n",
      "Requirement already satisfied: intel-openmp<2026,>=2024 in /usr/local/lib/python3.11/dist-packages (from mkl->numpy->keras) (2024.2.0)\r\n",
      "Requirement already satisfied: tbb==2022.* in /usr/local/lib/python3.11/dist-packages (from mkl->numpy->keras) (2022.2.0)\r\n",
      "Requirement already satisfied: tcmlib==1.* in /usr/local/lib/python3.11/dist-packages (from tbb==2022.*->mkl->numpy->keras) (1.4.0)\r\n",
      "Requirement already satisfied: intel-cmplr-lib-rt in /usr/local/lib/python3.11/dist-packages (from mkl_umath->numpy->keras) (2024.2.0)\r\n",
      "Requirement already satisfied: intel-cmplr-lib-ur==2024.2.0 in /usr/local/lib/python3.11/dist-packages (from intel-openmp<2026,>=2024->mkl->numpy->keras) (2024.2.0)\r\n",
      "Downloading keras-3.11.2-py3-none-any.whl (1.4 MB)\r\n",
      "\u001b[2K   \u001b[90m━━━━━━━━━━━━━━━━━━━━━━━━━━━━━━━━━━━━━━━━\u001b[0m \u001b[32m1.4/1.4 MB\u001b[0m \u001b[31m26.4 MB/s\u001b[0m eta \u001b[36m0:00:00\u001b[0m\r\n",
      "\u001b[?25hInstalling collected packages: keras\r\n",
      "  Attempting uninstall: keras\r\n",
      "    Found existing installation: keras 3.8.0\r\n",
      "    Uninstalling keras-3.8.0:\r\n",
      "      Successfully uninstalled keras-3.8.0\r\n",
      "\u001b[31mERROR: pip's dependency resolver does not currently take into account all the packages that are installed. This behaviour is the source of the following dependency conflicts.\r\n",
      "keras-nlp 0.18.1 requires keras-hub==0.18.1, but you have keras-hub 0.22.0 which is incompatible.\u001b[0m\u001b[31m\r\n",
      "\u001b[0mSuccessfully installed keras-3.11.2\r\n"
     ]
    }
   ],
   "source": [
    "!pip install -U keras-hub\n",
    "!pip install -U keras"
   ]
  },
  {
   "cell_type": "markdown",
   "id": "38b0502e",
   "metadata": {
    "papermill": {
     "duration": 0.00832,
     "end_time": "2025-08-15T13:37:57.485698",
     "exception": false,
     "start_time": "2025-08-15T13:37:57.477378",
     "status": "completed"
    },
    "tags": []
   },
   "source": [
    "# Import packages"
   ]
  },
  {
   "cell_type": "code",
   "execution_count": 2,
   "id": "784b0b42",
   "metadata": {
    "execution": {
     "iopub.execute_input": "2025-08-15T13:37:57.504569Z",
     "iopub.status.busy": "2025-08-15T13:37:57.504132Z",
     "iopub.status.idle": "2025-08-15T13:38:20.183482Z",
     "shell.execute_reply": "2025-08-15T13:38:20.182458Z"
    },
    "papermill": {
     "duration": 22.691208,
     "end_time": "2025-08-15T13:38:20.185365",
     "exception": false,
     "start_time": "2025-08-15T13:37:57.494157",
     "status": "completed"
    },
    "tags": []
   },
   "outputs": [
    {
     "name": "stderr",
     "output_type": "stream",
     "text": [
      "2025-08-15 13:38:00.092016: E external/local_xla/xla/stream_executor/cuda/cuda_fft.cc:477] Unable to register cuFFT factory: Attempting to register factory for plugin cuFFT when one has already been registered\n",
      "WARNING: All log messages before absl::InitializeLog() is called are written to STDERR\n",
      "E0000 00:00:1755265080.404151      13 cuda_dnn.cc:8310] Unable to register cuDNN factory: Attempting to register factory for plugin cuDNN when one has already been registered\n",
      "E0000 00:00:1755265080.498348      13 cuda_blas.cc:1418] Unable to register cuBLAS factory: Attempting to register factory for plugin cuBLAS when one has already been registered\n"
     ]
    }
   ],
   "source": [
    "import keras\n",
    "import keras_hub\n",
    "import numpy as np\n",
    "from time import time"
   ]
  },
  {
   "cell_type": "markdown",
   "id": "e098d233",
   "metadata": {
    "papermill": {
     "duration": 0.00796,
     "end_time": "2025-08-15T13:38:20.201875",
     "exception": false,
     "start_time": "2025-08-15T13:38:20.193915",
     "status": "completed"
    },
    "tags": []
   },
   "source": [
    "# Load the model"
   ]
  },
  {
   "cell_type": "code",
   "execution_count": 3,
   "id": "2ed7ce5b",
   "metadata": {
    "execution": {
     "iopub.execute_input": "2025-08-15T13:38:20.221154Z",
     "iopub.status.busy": "2025-08-15T13:38:20.219940Z",
     "iopub.status.idle": "2025-08-15T13:38:32.334379Z",
     "shell.execute_reply": "2025-08-15T13:38:32.333536Z"
    },
    "papermill": {
     "duration": 12.125617,
     "end_time": "2025-08-15T13:38:32.336299",
     "exception": false,
     "start_time": "2025-08-15T13:38:20.210682",
     "status": "completed"
    },
    "tags": []
   },
   "outputs": [
    {
     "name": "stderr",
     "output_type": "stream",
     "text": [
      "2025-08-15 13:38:20.350253: E external/local_xla/xla/stream_executor/cuda/cuda_driver.cc:152] failed call to cuInit: INTERNAL: CUDA error: Failed call to cuInit: UNKNOWN ERROR (303)\n",
      "normalizer.cc(51) LOG(INFO) precompiled_charsmap is empty. use identity normalization.\n"
     ]
    }
   ],
   "source": [
    "gemma_lm = keras_hub.models.Gemma3CausalLM.from_preset(\"/kaggle/input/gemma3/keras/gemma3_instruct_270m/4\")"
   ]
  },
  {
   "cell_type": "markdown",
   "id": "f13341b5",
   "metadata": {
    "papermill": {
     "duration": 0.008789,
     "end_time": "2025-08-15T13:38:32.354280",
     "exception": false,
     "start_time": "2025-08-15T13:38:32.345491",
     "status": "completed"
    },
    "tags": []
   },
   "source": [
    "# Generate text\n",
    "\n",
    "## Generate from one prompt\n",
    "\n",
    "Let's start by generating a text sequence."
   ]
  },
  {
   "cell_type": "code",
   "execution_count": 4,
   "id": "cdfa7f80",
   "metadata": {
    "execution": {
     "iopub.execute_input": "2025-08-15T13:38:32.373132Z",
     "iopub.status.busy": "2025-08-15T13:38:32.372749Z",
     "iopub.status.idle": "2025-08-15T13:38:55.467833Z",
     "shell.execute_reply": "2025-08-15T13:38:55.466811Z"
    },
    "papermill": {
     "duration": 23.106555,
     "end_time": "2025-08-15T13:38:55.469452",
     "exception": false,
     "start_time": "2025-08-15T13:38:32.362897",
     "status": "completed"
    },
    "tags": []
   },
   "outputs": [
    {
     "name": "stderr",
     "output_type": "stream",
     "text": [
      "WARNING: All log messages before absl::InitializeLog() is called are written to STDERR\n",
      "I0000 00:00:1755265132.923257      61 service.cc:148] XLA service 0x7f5130073a80 initialized for platform Host (this does not guarantee that XLA will be used). Devices:\n",
      "I0000 00:00:1755265132.924447      61 service.cc:156]   StreamExecutor device (0): Host, Default Version\n",
      "I0000 00:00:1755265132.996577      61 device_compiler.h:188] Compiled cluster using XLA!  This line is logged at most once for the lifetime of the process.\n"
     ]
    },
    {
     "data": {
      "text/plain": [
       "'Keras is a powerful and versatile library for building and training machine learning models. It provides a comprehensive set of tools and techniques for data preprocessing,'"
      ]
     },
     "execution_count": 4,
     "metadata": {},
     "output_type": "execute_result"
    }
   ],
   "source": [
    "gemma_lm.generate(\"Keras is a\", max_length=30)"
   ]
  },
  {
   "cell_type": "markdown",
   "id": "6a33a2d0",
   "metadata": {
    "papermill": {
     "duration": 0.008216,
     "end_time": "2025-08-15T13:38:55.486613",
     "exception": false,
     "start_time": "2025-08-15T13:38:55.478397",
     "status": "completed"
    },
    "tags": []
   },
   "source": [
    "## Generate from a batch of prompts\n",
    "\n",
    "Let's generate now text for a sequence of prompts."
   ]
  },
  {
   "cell_type": "code",
   "execution_count": 5,
   "id": "4984c329",
   "metadata": {
    "execution": {
     "iopub.execute_input": "2025-08-15T13:38:55.505587Z",
     "iopub.status.busy": "2025-08-15T13:38:55.504415Z",
     "iopub.status.idle": "2025-08-15T13:39:19.178441Z",
     "shell.execute_reply": "2025-08-15T13:39:19.177515Z"
    },
    "papermill": {
     "duration": 23.685111,
     "end_time": "2025-08-15T13:39:19.179998",
     "exception": false,
     "start_time": "2025-08-15T13:38:55.494887",
     "status": "completed"
    },
    "tags": []
   },
   "outputs": [
    {
     "data": {
      "text/plain": [
       "['Keras is a powerful and versatile library for building and training machine learning models. It provides a comprehensive set of tools and techniques for data preprocessing,',\n",
       " 'In the begining of the 2020s, the world was still grappling with the complexities of the digital age.  We were',\n",
       " 'Call me Ishmael, a name that has been whispered in the halls of the ancient world.\\n\\nI am Ishmael, a prophet of the']"
      ]
     },
     "execution_count": 5,
     "metadata": {},
     "output_type": "execute_result"
    }
   ],
   "source": [
    "# Generate with batched prompts.\n",
    "gemma_lm.generate([\"Keras is a\", \"In the begining\", \"Call me Ishmael\"], max_length=30)"
   ]
  },
  {
   "cell_type": "markdown",
   "id": "f233bcac",
   "metadata": {
    "papermill": {
     "duration": 0.008348,
     "end_time": "2025-08-15T13:39:19.197296",
     "exception": false,
     "start_time": "2025-08-15T13:39:19.188948",
     "status": "completed"
    },
    "tags": []
   },
   "source": [
    "Let's verify how fast is this version of Gemma 3 models."
   ]
  },
  {
   "cell_type": "code",
   "execution_count": 6,
   "id": "c9dde297",
   "metadata": {
    "execution": {
     "iopub.execute_input": "2025-08-15T13:39:19.216185Z",
     "iopub.status.busy": "2025-08-15T13:39:19.215792Z",
     "iopub.status.idle": "2025-08-15T13:39:19.221347Z",
     "shell.execute_reply": "2025-08-15T13:39:19.220309Z"
    },
    "papermill": {
     "duration": 0.017069,
     "end_time": "2025-08-15T13:39:19.222936",
     "exception": false,
     "start_time": "2025-08-15T13:39:19.205867",
     "status": "completed"
    },
    "tags": []
   },
   "outputs": [],
   "source": [
    "def test_gemma(inputs, max_length=30):\n",
    "    s_t = time()\n",
    "    output = gemma_lm.generate(inputs, max_length=max_length)\n",
    "    e_t = time()\n",
    "    print(output)\n",
    "    print(f\"Total time: {round(e_t-s_t, 2)} sec.\")    \n",
    "    "
   ]
  },
  {
   "cell_type": "code",
   "execution_count": 7,
   "id": "6e419d00",
   "metadata": {
    "execution": {
     "iopub.execute_input": "2025-08-15T13:39:19.243401Z",
     "iopub.status.busy": "2025-08-15T13:39:19.243026Z",
     "iopub.status.idle": "2025-08-15T13:39:21.605917Z",
     "shell.execute_reply": "2025-08-15T13:39:21.604645Z"
    },
    "papermill": {
     "duration": 2.37601,
     "end_time": "2025-08-15T13:39:21.608231",
     "exception": false,
     "start_time": "2025-08-15T13:39:19.232221",
     "status": "completed"
    },
    "tags": []
   },
   "outputs": [
    {
     "name": "stdout",
     "output_type": "stream",
     "text": [
      "Keras is a powerful and versatile library for building and training machine learning models. It provides a comprehensive set of tools and techniques for data preprocessing,\n",
      "Total time: 2.36 sec.\n"
     ]
    }
   ],
   "source": [
    "test_gemma(\"Keras is a\")"
   ]
  },
  {
   "cell_type": "code",
   "execution_count": 8,
   "id": "0077473f",
   "metadata": {
    "execution": {
     "iopub.execute_input": "2025-08-15T13:39:21.634434Z",
     "iopub.status.busy": "2025-08-15T13:39:21.633987Z",
     "iopub.status.idle": "2025-08-15T13:39:26.242501Z",
     "shell.execute_reply": "2025-08-15T13:39:26.241299Z"
    },
    "papermill": {
     "duration": 4.619781,
     "end_time": "2025-08-15T13:39:26.243974",
     "exception": false,
     "start_time": "2025-08-15T13:39:21.624193",
     "status": "completed"
    },
    "tags": []
   },
   "outputs": [
    {
     "name": "stdout",
     "output_type": "stream",
     "text": [
      "['Keras is a powerful and versatile library for building and training machine learning models. It provides a comprehensive set of tools and techniques for data preprocessing,', 'In the begining of the 2020s, the world was still grappling with the complexities of the digital age.  We were', 'Call me Ishmael, a name that has been whispered in the halls of the ancient world.\\n\\nI am Ishmael, a prophet of the']\n",
      "Total time: 4.6 sec.\n"
     ]
    }
   ],
   "source": [
    "test_gemma([\"Keras is a\", \"In the begining\", \"Call me Ishmael\"])"
   ]
  },
  {
   "cell_type": "markdown",
   "id": "c235d0f5",
   "metadata": {
    "papermill": {
     "duration": 0.079676,
     "end_time": "2025-08-15T13:39:26.332612",
     "exception": false,
     "start_time": "2025-08-15T13:39:26.252936",
     "status": "completed"
    },
    "tags": []
   },
   "source": [
    "## Compile `generate` function with a custom sampler\n",
    "\n",
    "We will compile the `generate` function with a sampler passed as a string."
   ]
  },
  {
   "cell_type": "code",
   "execution_count": 9,
   "id": "c8108a14",
   "metadata": {
    "execution": {
     "iopub.execute_input": "2025-08-15T13:39:26.351889Z",
     "iopub.status.busy": "2025-08-15T13:39:26.351570Z",
     "iopub.status.idle": "2025-08-15T13:39:36.726722Z",
     "shell.execute_reply": "2025-08-15T13:39:36.725871Z"
    },
    "papermill": {
     "duration": 10.386805,
     "end_time": "2025-08-15T13:39:36.728352",
     "exception": false,
     "start_time": "2025-08-15T13:39:26.341547",
     "status": "completed"
    },
    "tags": []
   },
   "outputs": [],
   "source": [
    "gemma_lm = keras_hub.models.Gemma3CausalLM.from_preset(\"/kaggle/input/gemma3/keras/gemma3_instruct_270m/4\")\n",
    "gemma_lm.compile(sampler=\"top_k\")"
   ]
  },
  {
   "cell_type": "markdown",
   "id": "43125878",
   "metadata": {
    "papermill": {
     "duration": 0.008418,
     "end_time": "2025-08-15T13:39:36.745780",
     "exception": false,
     "start_time": "2025-08-15T13:39:36.737362",
     "status": "completed"
    },
    "tags": []
   },
   "source": [
    "Let's test it."
   ]
  },
  {
   "cell_type": "code",
   "execution_count": 10,
   "id": "86a2f8fc",
   "metadata": {
    "execution": {
     "iopub.execute_input": "2025-08-15T13:39:36.764628Z",
     "iopub.status.busy": "2025-08-15T13:39:36.764287Z",
     "iopub.status.idle": "2025-08-15T13:39:59.848022Z",
     "shell.execute_reply": "2025-08-15T13:39:59.847129Z"
    },
    "papermill": {
     "duration": 23.095546,
     "end_time": "2025-08-15T13:39:59.849985",
     "exception": false,
     "start_time": "2025-08-15T13:39:36.754439",
     "status": "completed"
    },
    "tags": []
   },
   "outputs": [
    {
     "data": {
      "text/plain": [
       "'The fox jumped over the edge of the cliff, and then it rained. The fox jumped over the edge of the cliff. The fox jumped over'"
      ]
     },
     "execution_count": 10,
     "metadata": {},
     "output_type": "execute_result"
    }
   ],
   "source": [
    "gemma_lm.generate(\"The fox jumped over\", max_length=30)"
   ]
  },
  {
   "cell_type": "markdown",
   "id": "bc195d18",
   "metadata": {
    "papermill": {
     "duration": 0.009309,
     "end_time": "2025-08-15T13:39:59.868732",
     "exception": false,
     "start_time": "2025-08-15T13:39:59.859423",
     "status": "completed"
    },
    "tags": []
   },
   "source": [
    "## Call `fit()` function on a single batch"
   ]
  },
  {
   "cell_type": "code",
   "execution_count": 11,
   "id": "4ec157a6",
   "metadata": {
    "execution": {
     "iopub.execute_input": "2025-08-15T13:39:59.888181Z",
     "iopub.status.busy": "2025-08-15T13:39:59.887777Z",
     "iopub.status.idle": "2025-08-15T13:44:12.446478Z",
     "shell.execute_reply": "2025-08-15T13:44:12.444915Z"
    },
    "papermill": {
     "duration": 252.571089,
     "end_time": "2025-08-15T13:44:12.448778",
     "exception": false,
     "start_time": "2025-08-15T13:39:59.877689",
     "status": "completed"
    },
    "tags": []
   },
   "outputs": [
    {
     "name": "stderr",
     "output_type": "stream",
     "text": [
      "/usr/local/lib/python3.11/dist-packages/tensorflow/python/framework/indexed_slices.py:446: UserWarning: Converting sparse IndexedSlices to a dense Tensor with 167772160 elements. This may consume a large amount of memory.\n",
      "  warnings.warn(\n"
     ]
    },
    {
     "name": "stdout",
     "output_type": "stream",
     "text": [
      "\u001b[1m4/4\u001b[0m \u001b[32m━━━━━━━━━━━━━━━━━━━━\u001b[0m\u001b[37m\u001b[0m \u001b[1m241s\u001b[0m 35s/step - loss: 0.0166 - sparse_categorical_accuracy: 0.2222\n"
     ]
    },
    {
     "data": {
      "text/plain": [
       "<keras.src.callbacks.history.History at 0x7f50e876cf90>"
      ]
     },
     "execution_count": 11,
     "metadata": {},
     "output_type": "execute_result"
    }
   ],
   "source": [
    "gemma_lm = keras_hub.models.Gemma3CausalLM.from_preset(\"/kaggle/input/gemma3/keras/gemma3_instruct_270m/4\")\n",
    "\n",
    "features = {\n",
    "    \"prompts\": [\"Capital of Romania?\", \"Capital of France?\", \"Capital of Germany?\", \"Capital of Spain?\"],\n",
    "    \"responses\": [\"Bucharest\", \"Paris\", \"Berlin\", \"Madrid\"]\n",
    "}\n",
    "\n",
    "gemma_lm.fit(x=features, batch_size=1)\n",
    "\n"
   ]
  },
  {
   "cell_type": "code",
   "execution_count": 12,
   "id": "ab645034",
   "metadata": {
    "execution": {
     "iopub.execute_input": "2025-08-15T13:44:12.472285Z",
     "iopub.status.busy": "2025-08-15T13:44:12.471807Z",
     "iopub.status.idle": "2025-08-15T13:44:32.853603Z",
     "shell.execute_reply": "2025-08-15T13:44:32.852538Z"
    },
    "papermill": {
     "duration": 20.395953,
     "end_time": "2025-08-15T13:44:32.855205",
     "exception": false,
     "start_time": "2025-08-15T13:44:12.459252",
     "status": "completed"
    },
    "tags": []
   },
   "outputs": [
    {
     "data": {
      "text/plain": [
       "'Capital of France?Paris'"
      ]
     },
     "execution_count": 12,
     "metadata": {},
     "output_type": "execute_result"
    }
   ],
   "source": [
    "gemma_lm.generate(\"Capital of France?\", max_length=12)"
   ]
  },
  {
   "cell_type": "code",
   "execution_count": 13,
   "id": "2cb8587b",
   "metadata": {
    "execution": {
     "iopub.execute_input": "2025-08-15T13:44:32.876289Z",
     "iopub.status.busy": "2025-08-15T13:44:32.875555Z",
     "iopub.status.idle": "2025-08-15T13:44:33.160537Z",
     "shell.execute_reply": "2025-08-15T13:44:33.159600Z"
    },
    "papermill": {
     "duration": 0.29724,
     "end_time": "2025-08-15T13:44:33.162130",
     "exception": false,
     "start_time": "2025-08-15T13:44:32.864890",
     "status": "completed"
    },
    "tags": []
   },
   "outputs": [
    {
     "data": {
      "text/plain": [
       "'Capital of Rwanda? Kampala'"
      ]
     },
     "execution_count": 13,
     "metadata": {},
     "output_type": "execute_result"
    }
   ],
   "source": [
    "gemma_lm.generate(\"Capital of Rwanda?\", max_length=12)"
   ]
  },
  {
   "cell_type": "code",
   "execution_count": 14,
   "id": "a9ebd6e5",
   "metadata": {
    "execution": {
     "iopub.execute_input": "2025-08-15T13:44:33.183119Z",
     "iopub.status.busy": "2025-08-15T13:44:33.182759Z",
     "iopub.status.idle": "2025-08-15T13:44:33.469491Z",
     "shell.execute_reply": "2025-08-15T13:44:33.468601Z"
    },
    "papermill": {
     "duration": 0.298846,
     "end_time": "2025-08-15T13:44:33.471140",
     "exception": false,
     "start_time": "2025-08-15T13:44:33.172294",
     "status": "completed"
    },
    "tags": []
   },
   "outputs": [
    {
     "data": {
      "text/plain": [
       "'Capital of UK?London'"
      ]
     },
     "execution_count": 14,
     "metadata": {},
     "output_type": "execute_result"
    }
   ],
   "source": [
    "gemma_lm.generate(\"Capital of UK?\", max_length=12)"
   ]
  },
  {
   "cell_type": "markdown",
   "id": "73630447",
   "metadata": {
    "papermill": {
     "duration": 0.009494,
     "end_time": "2025-08-15T13:44:33.490457",
     "exception": false,
     "start_time": "2025-08-15T13:44:33.480963",
     "status": "completed"
    },
    "tags": []
   },
   "source": [
    "Let's create a function to display nicely the response."
   ]
  },
  {
   "cell_type": "code",
   "execution_count": 15,
   "id": "162954ae",
   "metadata": {
    "execution": {
     "iopub.execute_input": "2025-08-15T13:44:33.511096Z",
     "iopub.status.busy": "2025-08-15T13:44:33.510753Z",
     "iopub.status.idle": "2025-08-15T13:44:33.518190Z",
     "shell.execute_reply": "2025-08-15T13:44:33.517367Z"
    },
    "papermill": {
     "duration": 0.019722,
     "end_time": "2025-08-15T13:44:33.519661",
     "exception": false,
     "start_time": "2025-08-15T13:44:33.499939",
     "status": "completed"
    },
    "tags": []
   },
   "outputs": [],
   "source": [
    "from IPython.display import display, Markdown\n",
    "\n",
    "def colorize_text(text):\n",
    "    for word, color in zip([\"Question\", \"Response\",\"Execution time\"], [\"blue\", \"red\", \"green\"]):\n",
    "        text = text.replace(f\"{word}:\", f\"\\n\\n**<font color='{color}'>{word}:</font>**\")\n",
    "    return text\n",
    "\n",
    "\n",
    "\n",
    "def test_qa_gemma(question, max_length=30):\n",
    "    s_t = time()\n",
    "    output = gemma_lm.generate(question, max_length=max_length)\n",
    "    e_t = time()\n",
    "    response = output.replace(question, \"\")\n",
    "    return f\"Question: {question} Response: {response} Execution time: {round(e_t-s_t, 2)} sec.\"\n",
    "\n",
    "\n",
    "def test_gemma_format(question, max_length=30):\n",
    "\n",
    "    display(Markdown(colorize_text(test_qa_gemma(question, max_length))))"
   ]
  },
  {
   "cell_type": "markdown",
   "id": "00c6452e",
   "metadata": {
    "papermill": {
     "duration": 0.009606,
     "end_time": "2025-08-15T13:44:33.538944",
     "exception": false,
     "start_time": "2025-08-15T13:44:33.529338",
     "status": "completed"
    },
    "tags": []
   },
   "source": [
    "# Test with history questions"
   ]
  },
  {
   "cell_type": "code",
   "execution_count": 16,
   "id": "e6ee9a33",
   "metadata": {
    "execution": {
     "iopub.execute_input": "2025-08-15T13:44:33.560620Z",
     "iopub.status.busy": "2025-08-15T13:44:33.559347Z",
     "iopub.status.idle": "2025-08-15T13:44:44.263363Z",
     "shell.execute_reply": "2025-08-15T13:44:44.262281Z"
    },
    "papermill": {
     "duration": 10.717036,
     "end_time": "2025-08-15T13:44:44.265501",
     "exception": false,
     "start_time": "2025-08-15T13:44:33.548465",
     "status": "completed"
    },
    "tags": []
   },
   "outputs": [],
   "source": [
    "gemma_lm = keras_hub.models.Gemma3CausalLM.from_preset(\"/kaggle/input/gemma3/keras/gemma3_instruct_270m/4\")"
   ]
  },
  {
   "cell_type": "code",
   "execution_count": 17,
   "id": "11bce4c6",
   "metadata": {
    "execution": {
     "iopub.execute_input": "2025-08-15T13:44:44.293733Z",
     "iopub.status.busy": "2025-08-15T13:44:44.293404Z",
     "iopub.status.idle": "2025-08-15T13:45:06.233809Z",
     "shell.execute_reply": "2025-08-15T13:45:06.232913Z"
    },
    "papermill": {
     "duration": 21.953165,
     "end_time": "2025-08-15T13:45:06.235370",
     "exception": false,
     "start_time": "2025-08-15T13:44:44.282205",
     "status": "completed"
    },
    "tags": []
   },
   "outputs": [
    {
     "data": {
      "text/markdown": [
       "\n",
       "\n",
       "**<font color='blue'>Question:</font>** Who was George Washington? \n",
       "\n",
       "**<font color='red'>Response:</font>** \n",
       "\n",
       "George Washington was a prominent figure in the American Revolution. He was a commander of the Continental Army and a key figure in the \n",
       "\n",
       "**<font color='green'>Execution time:</font>** 21.94 sec."
      ],
      "text/plain": [
       "<IPython.core.display.Markdown object>"
      ]
     },
     "metadata": {},
     "output_type": "display_data"
    }
   ],
   "source": [
    "test_gemma_format(\"Who was George Washington?\", max_length=32)"
   ]
  },
  {
   "cell_type": "code",
   "execution_count": 18,
   "id": "600931fe",
   "metadata": {
    "execution": {
     "iopub.execute_input": "2025-08-15T13:45:06.257205Z",
     "iopub.status.busy": "2025-08-15T13:45:06.256380Z",
     "iopub.status.idle": "2025-08-15T13:45:08.436320Z",
     "shell.execute_reply": "2025-08-15T13:45:08.435277Z"
    },
    "papermill": {
     "duration": 2.192541,
     "end_time": "2025-08-15T13:45:08.438078",
     "exception": false,
     "start_time": "2025-08-15T13:45:06.245537",
     "status": "completed"
    },
    "tags": []
   },
   "outputs": [
    {
     "data": {
      "text/markdown": [
       "\n",
       "\n",
       "**<font color='blue'>Question:</font>** Between what years was WWI? \n",
       "\n",
       "**<font color='red'>Response:</font>** \n",
       "\n",
       "WWI was a global conflict that began in 1914 and lasted for 10 years.\n",
       " \n",
       "\n",
       "**<font color='green'>Execution time:</font>** 2.17 sec."
      ],
      "text/plain": [
       "<IPython.core.display.Markdown object>"
      ]
     },
     "metadata": {},
     "output_type": "display_data"
    }
   ],
   "source": [
    "test_gemma_format(\"Between what years was WWI?\", max_length=32)"
   ]
  },
  {
   "cell_type": "code",
   "execution_count": 19,
   "id": "90957538",
   "metadata": {
    "execution": {
     "iopub.execute_input": "2025-08-15T13:45:08.459791Z",
     "iopub.status.busy": "2025-08-15T13:45:08.459381Z",
     "iopub.status.idle": "2025-08-15T13:45:10.406174Z",
     "shell.execute_reply": "2025-08-15T13:45:10.405270Z"
    },
    "papermill": {
     "duration": 1.959483,
     "end_time": "2025-08-15T13:45:10.407624",
     "exception": false,
     "start_time": "2025-08-15T13:45:08.448141",
     "status": "completed"
    },
    "tags": []
   },
   "outputs": [
    {
     "data": {
      "text/markdown": [
       "\n",
       "\n",
       "**<font color='blue'>Question:</font>** When was the war of 30 years? \n",
       "\n",
       "**<font color='red'>Response:</font>** \n",
       "\n",
       "The war of 30 years was a period of intense conflict between the United States and Great Britain \n",
       "\n",
       "**<font color='green'>Execution time:</font>** 1.94 sec."
      ],
      "text/plain": [
       "<IPython.core.display.Markdown object>"
      ]
     },
     "metadata": {},
     "output_type": "display_data"
    }
   ],
   "source": [
    "test_gemma_format(\"When was the war of 30 years?\", max_length=32)"
   ]
  },
  {
   "cell_type": "code",
   "execution_count": 20,
   "id": "f43eeec5",
   "metadata": {
    "execution": {
     "iopub.execute_input": "2025-08-15T13:45:10.430875Z",
     "iopub.status.busy": "2025-08-15T13:45:10.429902Z",
     "iopub.status.idle": "2025-08-15T13:45:11.644387Z",
     "shell.execute_reply": "2025-08-15T13:45:11.643459Z"
    },
    "papermill": {
     "duration": 1.228175,
     "end_time": "2025-08-15T13:45:11.645894",
     "exception": false,
     "start_time": "2025-08-15T13:45:10.417719",
     "status": "completed"
    },
    "tags": []
   },
   "outputs": [
    {
     "data": {
      "text/markdown": [
       "\n",
       "\n",
       "**<font color='blue'>Question:</font>** In what year was assasinated JFK? \n",
       "\n",
       "**<font color='red'>Response:</font>** \n",
       "\n",
       "The answer is 1963.\n",
       "<end_of_turn> \n",
       "\n",
       "**<font color='green'>Execution time:</font>** 1.21 sec."
      ],
      "text/plain": [
       "<IPython.core.display.Markdown object>"
      ]
     },
     "metadata": {},
     "output_type": "display_data"
    }
   ],
   "source": [
    "test_gemma_format(\"In what year was assasinated JFK?\", max_length=32)"
   ]
  },
  {
   "cell_type": "markdown",
   "id": "c9abc822",
   "metadata": {
    "papermill": {
     "duration": 0.010676,
     "end_time": "2025-08-15T13:45:11.667564",
     "exception": false,
     "start_time": "2025-08-15T13:45:11.656888",
     "status": "completed"
    },
    "tags": []
   },
   "source": [
    "# Test with popular culture questions"
   ]
  },
  {
   "cell_type": "code",
   "execution_count": 21,
   "id": "22e37210",
   "metadata": {
    "execution": {
     "iopub.execute_input": "2025-08-15T13:45:11.688846Z",
     "iopub.status.busy": "2025-08-15T13:45:11.688431Z",
     "iopub.status.idle": "2025-08-15T13:45:14.035184Z",
     "shell.execute_reply": "2025-08-15T13:45:14.034075Z"
    },
    "papermill": {
     "duration": 2.359606,
     "end_time": "2025-08-15T13:45:14.037073",
     "exception": false,
     "start_time": "2025-08-15T13:45:11.677467",
     "status": "completed"
    },
    "tags": []
   },
   "outputs": [
    {
     "data": {
      "text/markdown": [
       "\n",
       "\n",
       "**<font color='blue'>Question:</font>** Name an album by Beatles. \n",
       "\n",
       "**<font color='red'>Response:</font>** \n",
       "\n",
       "**Answer:** The Beatles\n",
       "\n",
       "**Explanation:** The Beatles were a hugely successful and influential band, known for their innovative songwriting \n",
       "\n",
       "**<font color='green'>Execution time:</font>** 2.34 sec."
      ],
      "text/plain": [
       "<IPython.core.display.Markdown object>"
      ]
     },
     "metadata": {},
     "output_type": "display_data"
    }
   ],
   "source": [
    "test_gemma_format(\"Name an album by Beatles.\", max_length=32)"
   ]
  },
  {
   "cell_type": "code",
   "execution_count": 22,
   "id": "07c44507",
   "metadata": {
    "execution": {
     "iopub.execute_input": "2025-08-15T13:45:14.070152Z",
     "iopub.status.busy": "2025-08-15T13:45:14.069365Z",
     "iopub.status.idle": "2025-08-15T13:45:16.539931Z",
     "shell.execute_reply": "2025-08-15T13:45:16.538911Z"
    },
    "papermill": {
     "duration": 2.491511,
     "end_time": "2025-08-15T13:45:16.541523",
     "exception": false,
     "start_time": "2025-08-15T13:45:14.050012",
     "status": "completed"
    },
    "tags": []
   },
   "outputs": [
    {
     "data": {
      "text/markdown": [
       "\n",
       "\n",
       "**<font color='blue'>Question:</font>** Name a movie of Charlie Chaplin. \n",
       "\n",
       "**<font color='red'>Response:</font>** \n",
       "\n",
       "A)  The Great Showman.\n",
       "B)  The Tram Ride.\n",
       "C)  The Chaplin Film \n",
       "\n",
       "**<font color='green'>Execution time:</font>** 2.46 sec."
      ],
      "text/plain": [
       "<IPython.core.display.Markdown object>"
      ]
     },
     "metadata": {},
     "output_type": "display_data"
    }
   ],
   "source": [
    "test_gemma_format(\"Name a movie of Charlie Chaplin.\", max_length=32)"
   ]
  },
  {
   "cell_type": "code",
   "execution_count": 23,
   "id": "6cb8a5ae",
   "metadata": {
    "execution": {
     "iopub.execute_input": "2025-08-15T13:45:16.565669Z",
     "iopub.status.busy": "2025-08-15T13:45:16.565337Z",
     "iopub.status.idle": "2025-08-15T13:45:18.801946Z",
     "shell.execute_reply": "2025-08-15T13:45:18.801033Z"
    },
    "papermill": {
     "duration": 2.251296,
     "end_time": "2025-08-15T13:45:18.803682",
     "exception": false,
     "start_time": "2025-08-15T13:45:16.552386",
     "status": "completed"
    },
    "tags": []
   },
   "outputs": [
    {
     "data": {
      "text/markdown": [
       "\n",
       "\n",
       "**<font color='blue'>Question:</font>** When was released first Star Wars movie? \n",
       "\n",
       "**<font color='red'>Response:</font>** \n",
       "\n",
       "Star Wars: Episode IV - A New Hope was released on November 20, 2015 \n",
       "\n",
       "**<font color='green'>Execution time:</font>** 2.23 sec."
      ],
      "text/plain": [
       "<IPython.core.display.Markdown object>"
      ]
     },
     "metadata": {},
     "output_type": "display_data"
    }
   ],
   "source": [
    "test_gemma_format(\"When was released first Star Wars movie?\", max_length=32)"
   ]
  },
  {
   "cell_type": "code",
   "execution_count": 24,
   "id": "7db770a1",
   "metadata": {
    "execution": {
     "iopub.execute_input": "2025-08-15T13:45:18.825906Z",
     "iopub.status.busy": "2025-08-15T13:45:18.825574Z",
     "iopub.status.idle": "2025-08-15T13:45:21.233230Z",
     "shell.execute_reply": "2025-08-15T13:45:21.232133Z"
    },
    "papermill": {
     "duration": 2.420778,
     "end_time": "2025-08-15T13:45:21.234849",
     "exception": false,
     "start_time": "2025-08-15T13:45:18.814071",
     "status": "completed"
    },
    "tags": []
   },
   "outputs": [
    {
     "data": {
      "text/markdown": [
       "\n",
       "\n",
       "**<font color='blue'>Question:</font>** Who was Princess Diana? \n",
       "\n",
       "**<font color='red'>Response:</font>** \n",
       "\n",
       "Princess Diana was a British princess who was married to Prince Charles. She was known for her flamboyant personality and her love of fashion \n",
       "\n",
       "**<font color='green'>Execution time:</font>** 2.4 sec."
      ],
      "text/plain": [
       "<IPython.core.display.Markdown object>"
      ]
     },
     "metadata": {},
     "output_type": "display_data"
    }
   ],
   "source": [
    "test_gemma_format(\"Who was Princess Diana?\", max_length=32)"
   ]
  },
  {
   "cell_type": "markdown",
   "id": "a9a2259b",
   "metadata": {
    "papermill": {
     "duration": 0.01024,
     "end_time": "2025-08-15T13:45:21.255944",
     "exception": false,
     "start_time": "2025-08-15T13:45:21.245704",
     "status": "completed"
    },
    "tags": []
   },
   "source": [
    "# Test with multi-language"
   ]
  },
  {
   "cell_type": "code",
   "execution_count": 25,
   "id": "7b83cd29",
   "metadata": {
    "execution": {
     "iopub.execute_input": "2025-08-15T13:45:21.278383Z",
     "iopub.status.busy": "2025-08-15T13:45:21.277977Z",
     "iopub.status.idle": "2025-08-15T13:45:41.396533Z",
     "shell.execute_reply": "2025-08-15T13:45:41.395388Z"
    },
    "papermill": {
     "duration": 20.131873,
     "end_time": "2025-08-15T13:45:41.398157",
     "exception": false,
     "start_time": "2025-08-15T13:45:21.266284",
     "status": "completed"
    },
    "tags": []
   },
   "outputs": [
    {
     "data": {
      "text/markdown": [
       "\n",
       "\n",
       "**<font color='blue'>Question:</font>** Quelle est la capitale du France? \n",
       "\n",
       "**<font color='red'>Response:</font>** \n",
       "\n",
       "La capitale du \n",
       "\n",
       "**<font color='green'>Execution time:</font>** 20.11 sec."
      ],
      "text/plain": [
       "<IPython.core.display.Markdown object>"
      ]
     },
     "metadata": {},
     "output_type": "display_data"
    }
   ],
   "source": [
    "test_gemma_format(\"Quelle est la capitale du France?\", max_length=12)"
   ]
  },
  {
   "cell_type": "code",
   "execution_count": 26,
   "id": "59805df6",
   "metadata": {
    "execution": {
     "iopub.execute_input": "2025-08-15T13:45:41.420912Z",
     "iopub.status.busy": "2025-08-15T13:45:41.420598Z",
     "iopub.status.idle": "2025-08-15T13:45:43.632688Z",
     "shell.execute_reply": "2025-08-15T13:45:43.631786Z"
    },
    "papermill": {
     "duration": 2.22563,
     "end_time": "2025-08-15T13:45:43.634595",
     "exception": false,
     "start_time": "2025-08-15T13:45:41.408965",
     "status": "completed"
    },
    "tags": []
   },
   "outputs": [
    {
     "data": {
      "text/markdown": [
       "\n",
       "\n",
       "**<font color='blue'>Question:</font>** Welche Farbe hat der Himmel? \n",
       "\n",
       "**<font color='red'>Response:</font>** \n",
       "\n",
       "Die Farbe des Himmels ist bekannt als \"blau\".\n",
       "Die Farbe des Himmels ist bekannt als \" \n",
       "\n",
       "**<font color='green'>Execution time:</font>** 2.21 sec."
      ],
      "text/plain": [
       "<IPython.core.display.Markdown object>"
      ]
     },
     "metadata": {},
     "output_type": "display_data"
    }
   ],
   "source": [
    "test_gemma_format(\"Welche Farbe hat der Himmel?\", max_length=32)"
   ]
  },
  {
   "cell_type": "code",
   "execution_count": 27,
   "id": "6e841956",
   "metadata": {
    "execution": {
     "iopub.execute_input": "2025-08-15T13:45:43.658735Z",
     "iopub.status.busy": "2025-08-15T13:45:43.658363Z",
     "iopub.status.idle": "2025-08-15T13:46:08.793794Z",
     "shell.execute_reply": "2025-08-15T13:46:08.792673Z"
    },
    "papermill": {
     "duration": 25.149466,
     "end_time": "2025-08-15T13:46:08.795419",
     "exception": false,
     "start_time": "2025-08-15T13:45:43.645953",
     "status": "completed"
    },
    "tags": []
   },
   "outputs": [
    {
     "data": {
      "text/markdown": [
       "\n",
       "\n",
       "**<font color='blue'>Question:</font>** ハローキティとは誰ですか \n",
       "\n",
       "**<font color='red'>Response:</font>** ？\n",
       "\n",
       "ハローキティは、1980年代後半に、アメリカの音楽界で人気を博した、アメリカのロックバンド「ハローキティ・ズー」のメンバーです。\n",
       "\n",
       "ハローキティ・ズーは、198 \n",
       "\n",
       "**<font color='green'>Execution time:</font>** 25.13 sec."
      ],
      "text/plain": [
       "<IPython.core.display.Markdown object>"
      ]
     },
     "metadata": {},
     "output_type": "display_data"
    }
   ],
   "source": [
    "test_gemma_format(\"ハローキティとは誰ですか\", max_length=64)"
   ]
  },
  {
   "cell_type": "markdown",
   "id": "f5b2b3ee",
   "metadata": {
    "papermill": {
     "duration": 0.010215,
     "end_time": "2025-08-15T13:46:08.816592",
     "exception": false,
     "start_time": "2025-08-15T13:46:08.806377",
     "status": "completed"
    },
    "tags": []
   },
   "source": [
    "# Test with simple math"
   ]
  },
  {
   "cell_type": "code",
   "execution_count": 28,
   "id": "9a43586a",
   "metadata": {
    "execution": {
     "iopub.execute_input": "2025-08-15T13:46:08.839872Z",
     "iopub.status.busy": "2025-08-15T13:46:08.839509Z",
     "iopub.status.idle": "2025-08-15T13:46:09.880121Z",
     "shell.execute_reply": "2025-08-15T13:46:09.879119Z"
    },
    "papermill": {
     "duration": 1.054778,
     "end_time": "2025-08-15T13:46:09.881812",
     "exception": false,
     "start_time": "2025-08-15T13:46:08.827034",
     "status": "completed"
    },
    "tags": []
   },
   "outputs": [
    {
     "data": {
      "text/markdown": [
       "\n",
       "\n",
       "**<font color='blue'>Question:</font>** How much is 22 x 22? Just give the answer. \n",
       "\n",
       "**<font color='red'>Response:</font>** \n",
       "\n",
       "**Answer:** 484\n",
       "<end_of_turn> \n",
       "\n",
       "**<font color='green'>Execution time:</font>** 1.03 sec."
      ],
      "text/plain": [
       "<IPython.core.display.Markdown object>"
      ]
     },
     "metadata": {},
     "output_type": "display_data"
    }
   ],
   "source": [
    "test_gemma_format(\"How much is 22 x 22? Just give the answer.\", max_length=32)"
   ]
  },
  {
   "cell_type": "code",
   "execution_count": 29,
   "id": "ba770919",
   "metadata": {
    "execution": {
     "iopub.execute_input": "2025-08-15T13:46:09.905132Z",
     "iopub.status.busy": "2025-08-15T13:46:09.904730Z",
     "iopub.status.idle": "2025-08-15T13:46:10.944806Z",
     "shell.execute_reply": "2025-08-15T13:46:10.943765Z"
    },
    "papermill": {
     "duration": 1.053628,
     "end_time": "2025-08-15T13:46:10.946474",
     "exception": false,
     "start_time": "2025-08-15T13:46:09.892846",
     "status": "completed"
    },
    "tags": []
   },
   "outputs": [
    {
     "data": {
      "text/markdown": [
       "\n",
       "\n",
       "**<font color='blue'>Question:</font>** How much is 49 - 12? Just give the answer. \n",
       "\n",
       "**<font color='red'>Response:</font>** \n",
       "\n",
       "**Answer:** 51\n",
       "<end_of_turn> \n",
       "\n",
       "**<font color='green'>Execution time:</font>** 1.03 sec."
      ],
      "text/plain": [
       "<IPython.core.display.Markdown object>"
      ]
     },
     "metadata": {},
     "output_type": "display_data"
    }
   ],
   "source": [
    "test_gemma_format(\"How much is 49 - 12? Just give the answer.\", max_length=64)"
   ]
  },
  {
   "cell_type": "code",
   "execution_count": 30,
   "id": "5a85668e",
   "metadata": {
    "execution": {
     "iopub.execute_input": "2025-08-15T13:46:10.969650Z",
     "iopub.status.busy": "2025-08-15T13:46:10.969339Z",
     "iopub.status.idle": "2025-08-15T13:46:11.090588Z",
     "shell.execute_reply": "2025-08-15T13:46:11.089698Z"
    },
    "papermill": {
     "duration": 0.134893,
     "end_time": "2025-08-15T13:46:11.092337",
     "exception": false,
     "start_time": "2025-08-15T13:46:10.957444",
     "status": "completed"
    },
    "tags": []
   },
   "outputs": [
    {
     "data": {
      "text/markdown": [
       "\n",
       "\n",
       "**<font color='blue'>Question:</font>** Area of a circle with radius 10? Just return the result. \n",
       "\n",
       "**<font color='red'>Response:</font>** Area of a circle with radius 10? Just \n",
       "\n",
       "**<font color='green'>Execution time:</font>** 0.12 sec."
      ],
      "text/plain": [
       "<IPython.core.display.Markdown object>"
      ]
     },
     "metadata": {},
     "output_type": "display_data"
    }
   ],
   "source": [
    "test_gemma_format(\"Area of a circle with radius 10? Just return the result.\", max_length=12)"
   ]
  },
  {
   "cell_type": "markdown",
   "id": "811278ad",
   "metadata": {
    "papermill": {
     "duration": 0.010521,
     "end_time": "2025-08-15T13:46:11.113907",
     "exception": false,
     "start_time": "2025-08-15T13:46:11.103386",
     "status": "completed"
    },
    "tags": []
   },
   "source": [
    "# Try some coding"
   ]
  },
  {
   "cell_type": "code",
   "execution_count": 31,
   "id": "45043ba5",
   "metadata": {
    "execution": {
     "iopub.execute_input": "2025-08-15T13:46:11.137664Z",
     "iopub.status.busy": "2025-08-15T13:46:11.137365Z",
     "iopub.status.idle": "2025-08-15T13:46:54.438985Z",
     "shell.execute_reply": "2025-08-15T13:46:54.437905Z"
    },
    "papermill": {
     "duration": 43.325841,
     "end_time": "2025-08-15T13:46:54.450978",
     "exception": false,
     "start_time": "2025-08-15T13:46:11.125137",
     "status": "completed"
    },
    "tags": []
   },
   "outputs": [
    {
     "data": {
      "text/markdown": [
       "\n",
       "\n",
       "**<font color='blue'>Question:</font>** Write a Python code to calculate the area of a circle with radius r. \n",
       "\n",
       "**<font color='red'>Response:</font>**  The area of a circle is given by the formula: A = πr²\n",
       "\n",
       "The code should also include a clear and concise explanation of the code's purpose and how it works.\n",
       "```python\n",
       "import math\n",
       "\n",
       "def calculate_circle_area(radius):\n",
       "    \"\"\"Calculates the area of a circle.\n",
       "\n",
       "    Args:\n",
       "        radius: The radius of the circle.\n",
       "\n",
       "    Returns:\n",
       "        The area of the circle.\n",
       "    \"\"\"\n",
       "    area = math.pi * radius * radius\n",
       "    return area\n",
       "\n",
       "# Example usage\n",
       "radius = 5\n",
       "area = calculate_circle_area(radius)\n",
       "print(\"The area of the circle with radius\", radius, \"is:\", area)\n",
       "```\n",
       "**Explanation:**\n",
       "\n",
       "1.  **`import math`:** This line imports the `math` module, which provides mathematical functions.\n",
       "2.  **`def calculate_circle_area(radius):`:** This defines a function named `calculate_circle_area` that takes one argument: `radius`.\n",
       "3.  **`area = math.pi * radius * radius`:** This is the core of the function.\n",
       " \n",
       "\n",
       "**<font color='green'>Execution time:</font>** 43.3 sec."
      ],
      "text/plain": [
       "<IPython.core.display.Markdown object>"
      ]
     },
     "metadata": {},
     "output_type": "display_data"
    }
   ],
   "source": [
    "test_gemma_format(\"Write a Python code to calculate the area of a circle with radius r.\", max_length=256)"
   ]
  },
  {
   "cell_type": "code",
   "execution_count": 32,
   "id": "38a1b1b9",
   "metadata": {
    "execution": {
     "iopub.execute_input": "2025-08-15T13:46:54.475209Z",
     "iopub.status.busy": "2025-08-15T13:46:54.474349Z",
     "iopub.status.idle": "2025-08-15T13:47:23.583467Z",
     "shell.execute_reply": "2025-08-15T13:47:23.582436Z"
    },
    "papermill": {
     "duration": 29.123514,
     "end_time": "2025-08-15T13:47:23.585519",
     "exception": false,
     "start_time": "2025-08-15T13:46:54.462005",
     "status": "completed"
    },
    "tags": []
   },
   "outputs": [
    {
     "data": {
      "text/markdown": [
       "\n",
       "\n",
       "**<font color='blue'>Question:</font>** Write a Python code to calculate the n factorial. \n",
       "\n",
       "**<font color='red'>Response:</font>** \n",
       "\n",
       "```python\n",
       "def factorial(n):\n",
       "    \"\"\"Calculates the n factorial.\n",
       "\n",
       "    Args:\n",
       "        n: The number to calculate the factorial for.\n",
       "\n",
       "    Returns:\n",
       "        The n-th factorial.\n",
       "    \"\"\"\n",
       "    if n == 0:\n",
       "        return 1\n",
       "    else:\n",
       "        return n * factorial(n - 1)\n",
       "```\n",
       "\n",
       "```python\n",
       "def factorial_optimized(n):\n",
       "    \"\"\"Calculates the n factorial using optimized algorithm.\n",
       "\n",
       "    Args:\n",
       "        n: The number to calculate the factorial \n",
       "\n",
       "**<font color='green'>Execution time:</font>** 29.1 sec."
      ],
      "text/plain": [
       "<IPython.core.display.Markdown object>"
      ]
     },
     "metadata": {},
     "output_type": "display_data"
    }
   ],
   "source": [
    "test_gemma_format(\"Write a Python code to calculate the n factorial.\", max_length=128)"
   ]
  },
  {
   "cell_type": "markdown",
   "id": "78a2cc29",
   "metadata": {
    "papermill": {
     "duration": 0.010922,
     "end_time": "2025-08-15T13:47:23.615523",
     "exception": false,
     "start_time": "2025-08-15T13:47:23.604601",
     "status": "completed"
    },
    "tags": []
   },
   "source": [
    "# Closing remarks\n",
    "\n",
    "\n",
    "The model Gemma 3 270M is an astonishing compact model, yet valuable, with good performance for some tasks. It runs quite fast on CPU, and it is really simple to use.\n",
    "Few remarcable features:\n",
    "- support of batch inference (much faster than sequential for each item in the batch)\n",
    "- compilation of generate function with custom sampler\n",
    "- apply fit function\n",
    "\n",
    " I tested the model with:\n",
    " - history questions\n",
    " - popular culture\n",
    " - multilanguage\n",
    " - math\n",
    " - coding\n",
    "\n",
    "The model \"knows\" some popular culture information, but mixes up some other and is not very well informed on history questions. For foreign language, the model shows rather good performance at first sight. The model knows better coding than simple math. For example, could write a function to calculate area of a circle, but strugled to return the result when asked to do the simple geometry problem."
   ]
  }
 ],
 "metadata": {
  "kaggle": {
   "accelerator": "none",
   "dataSources": [
    {
     "isSourceIdPinned": true,
     "modelId": 279036,
     "modelInstanceId": 410138,
     "sourceId": 521983,
     "sourceType": "modelInstanceVersion"
    }
   ],
   "dockerImageVersionId": 31089,
   "isGpuEnabled": false,
   "isInternetEnabled": true,
   "language": "python",
   "sourceType": "notebook"
  },
  "kernelspec": {
   "display_name": "Python 3",
   "language": "python",
   "name": "python3"
  },
  "language_info": {
   "codemirror_mode": {
    "name": "ipython",
    "version": 3
   },
   "file_extension": ".py",
   "mimetype": "text/x-python",
   "name": "python",
   "nbconvert_exporter": "python",
   "pygments_lexer": "ipython3",
   "version": "3.11.13"
  },
  "papermill": {
   "default_parameters": {},
   "duration": 590.89201,
   "end_time": "2025-08-15T13:47:27.909980",
   "environment_variables": {},
   "exception": null,
   "input_path": "__notebook__.ipynb",
   "output_path": "__notebook__.ipynb",
   "parameters": {},
   "start_time": "2025-08-15T13:37:37.017970",
   "version": "2.6.0"
  }
 },
 "nbformat": 4,
 "nbformat_minor": 5
}
