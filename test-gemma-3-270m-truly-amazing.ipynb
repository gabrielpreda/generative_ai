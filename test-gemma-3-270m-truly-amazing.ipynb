{
 "cells": [
  {
   "cell_type": "markdown",
   "id": "4fdbde4b",
   "metadata": {
    "_cell_guid": "b1076dfc-b9ad-4769-8c92-a6c4dae69d19",
    "_uuid": "8f2839f25d086af736a60e9eeb907d3b93b6e0e5",
    "papermill": {
     "duration": 0.007789,
     "end_time": "2025-08-15T14:38:13.859862",
     "exception": false,
     "start_time": "2025-08-15T14:38:13.852073",
     "status": "completed"
    },
    "tags": []
   },
   "source": [
    "# Introduction\n",
    "\n",
    "We will test Gemma 3 270 M (yes, that compact!), Keras framework, instruction tunning.  \n",
    "\n",
    "We perform these tests on CPU only.  \n",
    "\n",
    "We will test the model with a number of various tasks, as following:\n",
    "- Simple prompt\n",
    "- Batch prompting\n",
    "- Fit with one batch\n",
    "- Questions about history\n",
    "- A variety of questions from popular culture\n",
    "- Few languages different than English\n",
    "- Simple math\n",
    "- Simple coding questions\n",
    "\n",
    "## Why Small Language Models (SLM) are important?\n",
    "\n",
    "While giant LLMs grab the headlines, Small Language Models (SLMs) can be the real game-changers for engineers deploying NLP in the real world:\n",
    "\n",
    "- **Lower Latency** – Smaller parameter counts mean faster inference, enabling near real-time responses—critical for chatbots, search, and support tools.\n",
    "- **Lower Cost** – Less compute required means cheaper cloud bills and the ability to run on smaller hardware, even edge devices.\n",
    "- **Easier Scaling** – You can serve more concurrent users without ballooning infrastructure needs.\n",
    "- **Data Privacy & Control** – Running SLMs on-prem or in a controlled environment reduces dependence on external APIs and can meet strict compliance requirements.\n",
    "- **Targeted Fine-Tuning** – SLMs can be fine-tuned quickly on domain-specific data, making them precise specialists without excessive training cost.\n",
    "\n",
    "\n",
    "## About Gemma 3 270M\n",
    "\n",
    "Gemma 3 270M is the Keras implementation of the Gemma 3 270M base model. Runs on JAX, TensorFlow and PyTorch with Keras 3. \n",
    "\n",
    "Gemma 3 270M is available from [Kaggle Models](https://www.kaggle.com/models/keras/gemma3/keras/gemma3_instruct_270m) or [Keras Hub](https://keras.io/keras_hub/) in 2 variants:\n",
    "\n",
    "- **gemma3_270m** - This base model has not been instruction-tuned, and is a good choice for developers who want to fully control their fine-tuning process.\n",
    "- **gemma3_instruct_270m** - This base model is instruction-tuned, and can be used for chatting and following prompts."
   ]
  },
  {
   "cell_type": "markdown",
   "id": "98d2a0dc",
   "metadata": {
    "papermill": {
     "duration": 0.006485,
     "end_time": "2025-08-15T14:38:13.873714",
     "exception": false,
     "start_time": "2025-08-15T14:38:13.867229",
     "status": "completed"
    },
    "tags": []
   },
   "source": [
    "# Install dependencies"
   ]
  },
  {
   "cell_type": "code",
   "execution_count": 1,
   "id": "b991a716",
   "metadata": {
    "_kg_hide-output": true,
    "execution": {
     "iopub.execute_input": "2025-08-15T14:38:13.888745Z",
     "iopub.status.busy": "2025-08-15T14:38:13.888418Z",
     "iopub.status.idle": "2025-08-15T14:38:27.116546Z",
     "shell.execute_reply": "2025-08-15T14:38:27.115359Z"
    },
    "papermill": {
     "duration": 13.238067,
     "end_time": "2025-08-15T14:38:27.118546",
     "exception": false,
     "start_time": "2025-08-15T14:38:13.880479",
     "status": "completed"
    },
    "tags": []
   },
   "outputs": [
    {
     "name": "stdout",
     "output_type": "stream",
     "text": [
      "Requirement already satisfied: keras-hub in /usr/local/lib/python3.11/dist-packages (0.18.1)\r\n",
      "Collecting keras-hub\r\n",
      "  Downloading keras_hub-0.22.0-py3-none-any.whl.metadata (7.4 kB)\r\n",
      "Requirement already satisfied: keras>=3.8 in /usr/local/lib/python3.11/dist-packages (from keras-hub) (3.8.0)\r\n",
      "Requirement already satisfied: absl-py in /usr/local/lib/python3.11/dist-packages (from keras-hub) (1.4.0)\r\n",
      "Requirement already satisfied: numpy in /usr/local/lib/python3.11/dist-packages (from keras-hub) (1.26.4)\r\n",
      "Requirement already satisfied: packaging in /usr/local/lib/python3.11/dist-packages (from keras-hub) (25.0)\r\n",
      "Requirement already satisfied: regex in /usr/local/lib/python3.11/dist-packages (from keras-hub) (2024.11.6)\r\n",
      "Requirement already satisfied: rich in /usr/local/lib/python3.11/dist-packages (from keras-hub) (14.0.0)\r\n",
      "Requirement already satisfied: kagglehub in /usr/local/lib/python3.11/dist-packages (from keras-hub) (0.3.12)\r\n",
      "Requirement already satisfied: tensorflow-text in /usr/local/lib/python3.11/dist-packages (from keras-hub) (2.18.1)\r\n",
      "Requirement already satisfied: namex in /usr/local/lib/python3.11/dist-packages (from keras>=3.8->keras-hub) (0.1.0)\r\n",
      "Requirement already satisfied: h5py in /usr/local/lib/python3.11/dist-packages (from keras>=3.8->keras-hub) (3.14.0)\r\n",
      "Requirement already satisfied: optree in /usr/local/lib/python3.11/dist-packages (from keras>=3.8->keras-hub) (0.16.0)\r\n",
      "Requirement already satisfied: ml-dtypes in /usr/local/lib/python3.11/dist-packages (from keras>=3.8->keras-hub) (0.4.1)\r\n",
      "Requirement already satisfied: pyyaml in /usr/local/lib/python3.11/dist-packages (from kagglehub->keras-hub) (6.0.2)\r\n",
      "Requirement already satisfied: requests in /usr/local/lib/python3.11/dist-packages (from kagglehub->keras-hub) (2.32.4)\r\n",
      "Requirement already satisfied: tqdm in /usr/local/lib/python3.11/dist-packages (from kagglehub->keras-hub) (4.67.1)\r\n",
      "Requirement already satisfied: mkl_fft in /usr/local/lib/python3.11/dist-packages (from numpy->keras-hub) (1.3.8)\r\n",
      "Requirement already satisfied: mkl_random in /usr/local/lib/python3.11/dist-packages (from numpy->keras-hub) (1.2.4)\r\n",
      "Requirement already satisfied: mkl_umath in /usr/local/lib/python3.11/dist-packages (from numpy->keras-hub) (0.1.1)\r\n",
      "Requirement already satisfied: mkl in /usr/local/lib/python3.11/dist-packages (from numpy->keras-hub) (2025.2.0)\r\n",
      "Requirement already satisfied: tbb4py in /usr/local/lib/python3.11/dist-packages (from numpy->keras-hub) (2022.2.0)\r\n",
      "Requirement already satisfied: mkl-service in /usr/local/lib/python3.11/dist-packages (from numpy->keras-hub) (2.4.1)\r\n",
      "Requirement already satisfied: markdown-it-py>=2.2.0 in /usr/local/lib/python3.11/dist-packages (from rich->keras-hub) (3.0.0)\r\n",
      "Requirement already satisfied: pygments<3.0.0,>=2.13.0 in /usr/local/lib/python3.11/dist-packages (from rich->keras-hub) (2.19.2)\r\n",
      "Requirement already satisfied: tensorflow<2.19,>=2.18.0 in /usr/local/lib/python3.11/dist-packages (from tensorflow-text->keras-hub) (2.18.0)\r\n",
      "Requirement already satisfied: mdurl~=0.1 in /usr/local/lib/python3.11/dist-packages (from markdown-it-py>=2.2.0->rich->keras-hub) (0.1.2)\r\n",
      "Requirement already satisfied: astunparse>=1.6.0 in /usr/local/lib/python3.11/dist-packages (from tensorflow<2.19,>=2.18.0->tensorflow-text->keras-hub) (1.6.3)\r\n",
      "Requirement already satisfied: flatbuffers>=24.3.25 in /usr/local/lib/python3.11/dist-packages (from tensorflow<2.19,>=2.18.0->tensorflow-text->keras-hub) (25.2.10)\r\n",
      "Requirement already satisfied: gast!=0.5.0,!=0.5.1,!=0.5.2,>=0.2.1 in /usr/local/lib/python3.11/dist-packages (from tensorflow<2.19,>=2.18.0->tensorflow-text->keras-hub) (0.6.0)\r\n",
      "Requirement already satisfied: google-pasta>=0.1.1 in /usr/local/lib/python3.11/dist-packages (from tensorflow<2.19,>=2.18.0->tensorflow-text->keras-hub) (0.2.0)\r\n",
      "Requirement already satisfied: libclang>=13.0.0 in /usr/local/lib/python3.11/dist-packages (from tensorflow<2.19,>=2.18.0->tensorflow-text->keras-hub) (18.1.1)\r\n",
      "Requirement already satisfied: opt-einsum>=2.3.2 in /usr/local/lib/python3.11/dist-packages (from tensorflow<2.19,>=2.18.0->tensorflow-text->keras-hub) (3.4.0)\r\n",
      "Requirement already satisfied: protobuf!=4.21.0,!=4.21.1,!=4.21.2,!=4.21.3,!=4.21.4,!=4.21.5,<6.0.0dev,>=3.20.3 in /usr/local/lib/python3.11/dist-packages (from tensorflow<2.19,>=2.18.0->tensorflow-text->keras-hub) (3.20.3)\r\n",
      "Requirement already satisfied: setuptools in /usr/local/lib/python3.11/dist-packages (from tensorflow<2.19,>=2.18.0->tensorflow-text->keras-hub) (75.2.0)\r\n",
      "Requirement already satisfied: six>=1.12.0 in /usr/local/lib/python3.11/dist-packages (from tensorflow<2.19,>=2.18.0->tensorflow-text->keras-hub) (1.17.0)\r\n",
      "Requirement already satisfied: termcolor>=1.1.0 in /usr/local/lib/python3.11/dist-packages (from tensorflow<2.19,>=2.18.0->tensorflow-text->keras-hub) (3.1.0)\r\n",
      "Requirement already satisfied: typing-extensions>=3.6.6 in /usr/local/lib/python3.11/dist-packages (from tensorflow<2.19,>=2.18.0->tensorflow-text->keras-hub) (4.14.0)\r\n",
      "Requirement already satisfied: wrapt>=1.11.0 in /usr/local/lib/python3.11/dist-packages (from tensorflow<2.19,>=2.18.0->tensorflow-text->keras-hub) (1.17.2)\r\n",
      "Requirement already satisfied: grpcio<2.0,>=1.24.3 in /usr/local/lib/python3.11/dist-packages (from tensorflow<2.19,>=2.18.0->tensorflow-text->keras-hub) (1.73.1)\r\n",
      "Requirement already satisfied: tensorboard<2.19,>=2.18 in /usr/local/lib/python3.11/dist-packages (from tensorflow<2.19,>=2.18.0->tensorflow-text->keras-hub) (2.18.0)\r\n",
      "Requirement already satisfied: tensorflow-io-gcs-filesystem>=0.23.1 in /usr/local/lib/python3.11/dist-packages (from tensorflow<2.19,>=2.18.0->tensorflow-text->keras-hub) (0.37.1)\r\n",
      "Requirement already satisfied: charset_normalizer<4,>=2 in /usr/local/lib/python3.11/dist-packages (from requests->kagglehub->keras-hub) (3.4.2)\r\n",
      "Requirement already satisfied: idna<4,>=2.5 in /usr/local/lib/python3.11/dist-packages (from requests->kagglehub->keras-hub) (3.10)\r\n",
      "Requirement already satisfied: urllib3<3,>=1.21.1 in /usr/local/lib/python3.11/dist-packages (from requests->kagglehub->keras-hub) (2.5.0)\r\n",
      "Requirement already satisfied: certifi>=2017.4.17 in /usr/local/lib/python3.11/dist-packages (from requests->kagglehub->keras-hub) (2025.6.15)\r\n",
      "Requirement already satisfied: intel-openmp<2026,>=2024 in /usr/local/lib/python3.11/dist-packages (from mkl->numpy->keras-hub) (2024.2.0)\r\n",
      "Requirement already satisfied: tbb==2022.* in /usr/local/lib/python3.11/dist-packages (from mkl->numpy->keras-hub) (2022.2.0)\r\n",
      "Requirement already satisfied: tcmlib==1.* in /usr/local/lib/python3.11/dist-packages (from tbb==2022.*->mkl->numpy->keras-hub) (1.4.0)\r\n",
      "Requirement already satisfied: intel-cmplr-lib-rt in /usr/local/lib/python3.11/dist-packages (from mkl_umath->numpy->keras-hub) (2024.2.0)\r\n",
      "Requirement already satisfied: wheel<1.0,>=0.23.0 in /usr/local/lib/python3.11/dist-packages (from astunparse>=1.6.0->tensorflow<2.19,>=2.18.0->tensorflow-text->keras-hub) (0.45.1)\r\n",
      "Requirement already satisfied: intel-cmplr-lib-ur==2024.2.0 in /usr/local/lib/python3.11/dist-packages (from intel-openmp<2026,>=2024->mkl->numpy->keras-hub) (2024.2.0)\r\n",
      "Requirement already satisfied: markdown>=2.6.8 in /usr/local/lib/python3.11/dist-packages (from tensorboard<2.19,>=2.18->tensorflow<2.19,>=2.18.0->tensorflow-text->keras-hub) (3.8.2)\r\n",
      "Requirement already satisfied: tensorboard-data-server<0.8.0,>=0.7.0 in /usr/local/lib/python3.11/dist-packages (from tensorboard<2.19,>=2.18->tensorflow<2.19,>=2.18.0->tensorflow-text->keras-hub) (0.7.2)\r\n",
      "Requirement already satisfied: werkzeug>=1.0.1 in /usr/local/lib/python3.11/dist-packages (from tensorboard<2.19,>=2.18->tensorflow<2.19,>=2.18.0->tensorflow-text->keras-hub) (3.1.3)\r\n",
      "Requirement already satisfied: MarkupSafe>=2.1.1 in /usr/local/lib/python3.11/dist-packages (from werkzeug>=1.0.1->tensorboard<2.19,>=2.18->tensorflow<2.19,>=2.18.0->tensorflow-text->keras-hub) (3.0.2)\r\n",
      "Downloading keras_hub-0.22.0-py3-none-any.whl (947 kB)\r\n",
      "\u001b[2K   \u001b[90m━━━━━━━━━━━━━━━━━━━━━━━━━━━━━━━━━━━━━━━━\u001b[0m \u001b[32m947.9/947.9 kB\u001b[0m \u001b[31m23.9 MB/s\u001b[0m eta \u001b[36m0:00:00\u001b[0m\r\n",
      "\u001b[?25hInstalling collected packages: keras-hub\r\n",
      "  Attempting uninstall: keras-hub\r\n",
      "    Found existing installation: keras-hub 0.18.1\r\n",
      "    Uninstalling keras-hub-0.18.1:\r\n",
      "      Successfully uninstalled keras-hub-0.18.1\r\n",
      "\u001b[31mERROR: pip's dependency resolver does not currently take into account all the packages that are installed. This behaviour is the source of the following dependency conflicts.\r\n",
      "keras-nlp 0.18.1 requires keras-hub==0.18.1, but you have keras-hub 0.22.0 which is incompatible.\u001b[0m\u001b[31m\r\n",
      "\u001b[0mSuccessfully installed keras-hub-0.22.0\r\n",
      "Requirement already satisfied: keras in /usr/local/lib/python3.11/dist-packages (3.8.0)\r\n",
      "Collecting keras\r\n",
      "  Downloading keras-3.11.2-py3-none-any.whl.metadata (5.9 kB)\r\n",
      "Requirement already satisfied: absl-py in /usr/local/lib/python3.11/dist-packages (from keras) (1.4.0)\r\n",
      "Requirement already satisfied: numpy in /usr/local/lib/python3.11/dist-packages (from keras) (1.26.4)\r\n",
      "Requirement already satisfied: rich in /usr/local/lib/python3.11/dist-packages (from keras) (14.0.0)\r\n",
      "Requirement already satisfied: namex in /usr/local/lib/python3.11/dist-packages (from keras) (0.1.0)\r\n",
      "Requirement already satisfied: h5py in /usr/local/lib/python3.11/dist-packages (from keras) (3.14.0)\r\n",
      "Requirement already satisfied: optree in /usr/local/lib/python3.11/dist-packages (from keras) (0.16.0)\r\n",
      "Requirement already satisfied: ml-dtypes in /usr/local/lib/python3.11/dist-packages (from keras) (0.4.1)\r\n",
      "Requirement already satisfied: packaging in /usr/local/lib/python3.11/dist-packages (from keras) (25.0)\r\n",
      "Requirement already satisfied: mkl_fft in /usr/local/lib/python3.11/dist-packages (from numpy->keras) (1.3.8)\r\n",
      "Requirement already satisfied: mkl_random in /usr/local/lib/python3.11/dist-packages (from numpy->keras) (1.2.4)\r\n",
      "Requirement already satisfied: mkl_umath in /usr/local/lib/python3.11/dist-packages (from numpy->keras) (0.1.1)\r\n",
      "Requirement already satisfied: mkl in /usr/local/lib/python3.11/dist-packages (from numpy->keras) (2025.2.0)\r\n",
      "Requirement already satisfied: tbb4py in /usr/local/lib/python3.11/dist-packages (from numpy->keras) (2022.2.0)\r\n",
      "Requirement already satisfied: mkl-service in /usr/local/lib/python3.11/dist-packages (from numpy->keras) (2.4.1)\r\n",
      "Requirement already satisfied: typing-extensions>=4.6.0 in /usr/local/lib/python3.11/dist-packages (from optree->keras) (4.14.0)\r\n",
      "Requirement already satisfied: markdown-it-py>=2.2.0 in /usr/local/lib/python3.11/dist-packages (from rich->keras) (3.0.0)\r\n",
      "Requirement already satisfied: pygments<3.0.0,>=2.13.0 in /usr/local/lib/python3.11/dist-packages (from rich->keras) (2.19.2)\r\n",
      "Requirement already satisfied: mdurl~=0.1 in /usr/local/lib/python3.11/dist-packages (from markdown-it-py>=2.2.0->rich->keras) (0.1.2)\r\n",
      "Requirement already satisfied: intel-openmp<2026,>=2024 in /usr/local/lib/python3.11/dist-packages (from mkl->numpy->keras) (2024.2.0)\r\n",
      "Requirement already satisfied: tbb==2022.* in /usr/local/lib/python3.11/dist-packages (from mkl->numpy->keras) (2022.2.0)\r\n",
      "Requirement already satisfied: tcmlib==1.* in /usr/local/lib/python3.11/dist-packages (from tbb==2022.*->mkl->numpy->keras) (1.4.0)\r\n",
      "Requirement already satisfied: intel-cmplr-lib-rt in /usr/local/lib/python3.11/dist-packages (from mkl_umath->numpy->keras) (2024.2.0)\r\n",
      "Requirement already satisfied: intel-cmplr-lib-ur==2024.2.0 in /usr/local/lib/python3.11/dist-packages (from intel-openmp<2026,>=2024->mkl->numpy->keras) (2024.2.0)\r\n",
      "Downloading keras-3.11.2-py3-none-any.whl (1.4 MB)\r\n",
      "\u001b[2K   \u001b[90m━━━━━━━━━━━━━━━━━━━━━━━━━━━━━━━━━━━━━━━━\u001b[0m \u001b[32m1.4/1.4 MB\u001b[0m \u001b[31m33.2 MB/s\u001b[0m eta \u001b[36m0:00:00\u001b[0m\r\n",
      "\u001b[?25hInstalling collected packages: keras\r\n",
      "  Attempting uninstall: keras\r\n",
      "    Found existing installation: keras 3.8.0\r\n",
      "    Uninstalling keras-3.8.0:\r\n",
      "      Successfully uninstalled keras-3.8.0\r\n",
      "\u001b[31mERROR: pip's dependency resolver does not currently take into account all the packages that are installed. This behaviour is the source of the following dependency conflicts.\r\n",
      "keras-nlp 0.18.1 requires keras-hub==0.18.1, but you have keras-hub 0.22.0 which is incompatible.\u001b[0m\u001b[31m\r\n",
      "\u001b[0mSuccessfully installed keras-3.11.2\r\n"
     ]
    }
   ],
   "source": [
    "!pip install -U keras-hub\n",
    "!pip install -U keras"
   ]
  },
  {
   "cell_type": "markdown",
   "id": "4aea8b75",
   "metadata": {
    "papermill": {
     "duration": 0.007649,
     "end_time": "2025-08-15T14:38:27.135982",
     "exception": false,
     "start_time": "2025-08-15T14:38:27.128333",
     "status": "completed"
    },
    "tags": []
   },
   "source": [
    "# Import packages"
   ]
  },
  {
   "cell_type": "code",
   "execution_count": 2,
   "id": "34802812",
   "metadata": {
    "execution": {
     "iopub.execute_input": "2025-08-15T14:38:27.154335Z",
     "iopub.status.busy": "2025-08-15T14:38:27.153626Z",
     "iopub.status.idle": "2025-08-15T14:38:47.183682Z",
     "shell.execute_reply": "2025-08-15T14:38:47.182810Z"
    },
    "papermill": {
     "duration": 20.041412,
     "end_time": "2025-08-15T14:38:47.185471",
     "exception": false,
     "start_time": "2025-08-15T14:38:27.144059",
     "status": "completed"
    },
    "tags": []
   },
   "outputs": [
    {
     "name": "stderr",
     "output_type": "stream",
     "text": [
      "2025-08-15 14:38:29.144720: E external/local_xla/xla/stream_executor/cuda/cuda_fft.cc:477] Unable to register cuFFT factory: Attempting to register factory for plugin cuFFT when one has already been registered\n",
      "WARNING: All log messages before absl::InitializeLog() is called are written to STDERR\n",
      "E0000 00:00:1755268709.375180      13 cuda_dnn.cc:8310] Unable to register cuDNN factory: Attempting to register factory for plugin cuDNN when one has already been registered\n",
      "E0000 00:00:1755268709.448157      13 cuda_blas.cc:1418] Unable to register cuBLAS factory: Attempting to register factory for plugin cuBLAS when one has already been registered\n"
     ]
    }
   ],
   "source": [
    "import keras\n",
    "import keras_hub\n",
    "import numpy as np\n",
    "from time import time"
   ]
  },
  {
   "cell_type": "markdown",
   "id": "f21eede3",
   "metadata": {
    "papermill": {
     "duration": 0.008239,
     "end_time": "2025-08-15T14:38:47.202292",
     "exception": false,
     "start_time": "2025-08-15T14:38:47.194053",
     "status": "completed"
    },
    "tags": []
   },
   "source": [
    "# Load the model"
   ]
  },
  {
   "cell_type": "code",
   "execution_count": 3,
   "id": "18182028",
   "metadata": {
    "execution": {
     "iopub.execute_input": "2025-08-15T14:38:47.225562Z",
     "iopub.status.busy": "2025-08-15T14:38:47.224991Z",
     "iopub.status.idle": "2025-08-15T14:38:57.485643Z",
     "shell.execute_reply": "2025-08-15T14:38:57.484776Z"
    },
    "papermill": {
     "duration": 10.27597,
     "end_time": "2025-08-15T14:38:57.487420",
     "exception": false,
     "start_time": "2025-08-15T14:38:47.211450",
     "status": "completed"
    },
    "tags": []
   },
   "outputs": [
    {
     "name": "stderr",
     "output_type": "stream",
     "text": [
      "2025-08-15 14:38:47.369146: E external/local_xla/xla/stream_executor/cuda/cuda_driver.cc:152] failed call to cuInit: INTERNAL: CUDA error: Failed call to cuInit: UNKNOWN ERROR (303)\n",
      "normalizer.cc(51) LOG(INFO) precompiled_charsmap is empty. use identity normalization.\n"
     ]
    }
   ],
   "source": [
    "gemma_lm = keras_hub.models.Gemma3CausalLM.from_preset(\"/kaggle/input/gemma3/keras/gemma3_instruct_270m/4\")"
   ]
  },
  {
   "cell_type": "markdown",
   "id": "7208a43d",
   "metadata": {
    "papermill": {
     "duration": 0.007885,
     "end_time": "2025-08-15T14:38:57.503649",
     "exception": false,
     "start_time": "2025-08-15T14:38:57.495764",
     "status": "completed"
    },
    "tags": []
   },
   "source": [
    "# Generate text\n",
    "\n",
    "## Generate from one prompt\n",
    "\n",
    "Let's start by generating a text sequence."
   ]
  },
  {
   "cell_type": "code",
   "execution_count": 4,
   "id": "429ba4fb",
   "metadata": {
    "execution": {
     "iopub.execute_input": "2025-08-15T14:38:57.521968Z",
     "iopub.status.busy": "2025-08-15T14:38:57.521007Z",
     "iopub.status.idle": "2025-08-15T14:39:19.211033Z",
     "shell.execute_reply": "2025-08-15T14:39:19.210069Z"
    },
    "papermill": {
     "duration": 21.700873,
     "end_time": "2025-08-15T14:39:19.212649",
     "exception": false,
     "start_time": "2025-08-15T14:38:57.511776",
     "status": "completed"
    },
    "tags": []
   },
   "outputs": [
    {
     "name": "stderr",
     "output_type": "stream",
     "text": [
      "WARNING: All log messages before absl::InitializeLog() is called are written to STDERR\n",
      "I0000 00:00:1755268756.905364      62 service.cc:148] XLA service 0x7b0be1211fb0 initialized for platform Host (this does not guarantee that XLA will be used). Devices:\n",
      "I0000 00:00:1755268756.905958      62 service.cc:156]   StreamExecutor device (0): Host, Default Version\n",
      "I0000 00:00:1755268756.964186      62 device_compiler.h:188] Compiled cluster using XLA!  This line is logged at most once for the lifetime of the process.\n"
     ]
    },
    {
     "data": {
      "text/plain": [
       "'Keras is a powerful and versatile library for building and training machine learning models. It provides a comprehensive set of tools and techniques for data preprocessing,'"
      ]
     },
     "execution_count": 4,
     "metadata": {},
     "output_type": "execute_result"
    }
   ],
   "source": [
    "gemma_lm.generate(\"Keras is a\", max_length=30)"
   ]
  },
  {
   "cell_type": "markdown",
   "id": "e7a3feea",
   "metadata": {
    "papermill": {
     "duration": 0.008513,
     "end_time": "2025-08-15T14:39:19.230025",
     "exception": false,
     "start_time": "2025-08-15T14:39:19.221512",
     "status": "completed"
    },
    "tags": []
   },
   "source": [
    "## Generate from a batch of prompts\n",
    "\n",
    "Let's generate now text for a sequence of prompts."
   ]
  },
  {
   "cell_type": "code",
   "execution_count": 5,
   "id": "5aa98489",
   "metadata": {
    "execution": {
     "iopub.execute_input": "2025-08-15T14:39:19.248832Z",
     "iopub.status.busy": "2025-08-15T14:39:19.248206Z",
     "iopub.status.idle": "2025-08-15T14:39:41.456455Z",
     "shell.execute_reply": "2025-08-15T14:39:41.455390Z"
    },
    "papermill": {
     "duration": 22.219385,
     "end_time": "2025-08-15T14:39:41.457910",
     "exception": false,
     "start_time": "2025-08-15T14:39:19.238525",
     "status": "completed"
    },
    "tags": []
   },
   "outputs": [
    {
     "data": {
      "text/plain": [
       "['Keras is a powerful and versatile library for building and training machine learning models. It provides a comprehensive set of tools and techniques for data preprocessing,',\n",
       " 'In the begining of the 2020s, the world was still grappling with the complexities of the digital age.  We were',\n",
       " 'Call me Ishmael, a name that has been whispered in the halls of the ancient world.\\n\\nI am Ishmael, a prophet of the']"
      ]
     },
     "execution_count": 5,
     "metadata": {},
     "output_type": "execute_result"
    }
   ],
   "source": [
    "# Generate with batched prompts.\n",
    "gemma_lm.generate([\"Keras is a\", \"In the begining\", \"Call me Ishmael\"], max_length=30)"
   ]
  },
  {
   "cell_type": "markdown",
   "id": "6c59d735",
   "metadata": {
    "papermill": {
     "duration": 0.007981,
     "end_time": "2025-08-15T14:39:41.474553",
     "exception": false,
     "start_time": "2025-08-15T14:39:41.466572",
     "status": "completed"
    },
    "tags": []
   },
   "source": [
    "Let's verify how fast is this version of Gemma 3 models."
   ]
  },
  {
   "cell_type": "code",
   "execution_count": 6,
   "id": "4ac19325",
   "metadata": {
    "execution": {
     "iopub.execute_input": "2025-08-15T14:39:41.494020Z",
     "iopub.status.busy": "2025-08-15T14:39:41.493644Z",
     "iopub.status.idle": "2025-08-15T14:39:41.498702Z",
     "shell.execute_reply": "2025-08-15T14:39:41.497840Z"
    },
    "papermill": {
     "duration": 0.01581,
     "end_time": "2025-08-15T14:39:41.500170",
     "exception": false,
     "start_time": "2025-08-15T14:39:41.484360",
     "status": "completed"
    },
    "tags": []
   },
   "outputs": [],
   "source": [
    "def test_gemma(inputs, max_length=30):\n",
    "    s_t = time()\n",
    "    output = gemma_lm.generate(inputs, max_length=max_length)\n",
    "    e_t = time()\n",
    "    print(output)\n",
    "    print(f\"Total time: {round(e_t-s_t, 2)} sec.\")    \n",
    "    "
   ]
  },
  {
   "cell_type": "code",
   "execution_count": 7,
   "id": "d25c83cf",
   "metadata": {
    "execution": {
     "iopub.execute_input": "2025-08-15T14:39:41.518344Z",
     "iopub.status.busy": "2025-08-15T14:39:41.518031Z",
     "iopub.status.idle": "2025-08-15T14:39:43.588126Z",
     "shell.execute_reply": "2025-08-15T14:39:43.587034Z"
    },
    "papermill": {
     "duration": 2.080921,
     "end_time": "2025-08-15T14:39:43.589693",
     "exception": false,
     "start_time": "2025-08-15T14:39:41.508772",
     "status": "completed"
    },
    "tags": []
   },
   "outputs": [
    {
     "name": "stdout",
     "output_type": "stream",
     "text": [
      "Keras is a powerful and versatile library for building and training machine learning models. It provides a comprehensive set of tools and techniques for data preprocessing,\n",
      "Total time: 2.07 sec.\n"
     ]
    }
   ],
   "source": [
    "test_gemma(\"Keras is a\")"
   ]
  },
  {
   "cell_type": "code",
   "execution_count": 8,
   "id": "29ba8851",
   "metadata": {
    "execution": {
     "iopub.execute_input": "2025-08-15T14:39:43.608661Z",
     "iopub.status.busy": "2025-08-15T14:39:43.608275Z",
     "iopub.status.idle": "2025-08-15T14:39:47.526050Z",
     "shell.execute_reply": "2025-08-15T14:39:47.525093Z"
    },
    "papermill": {
     "duration": 3.929214,
     "end_time": "2025-08-15T14:39:47.527823",
     "exception": false,
     "start_time": "2025-08-15T14:39:43.598609",
     "status": "completed"
    },
    "tags": []
   },
   "outputs": [
    {
     "name": "stdout",
     "output_type": "stream",
     "text": [
      "['Keras is a powerful and versatile library for building and training machine learning models. It provides a comprehensive set of tools and techniques for data preprocessing,', 'In the begining of the 2020s, the world was still grappling with the complexities of the digital age.  We were', 'Call me Ishmael, a name that has been whispered in the halls of the ancient world.\\n\\nI am Ishmael, a prophet of the']\n",
      "Total time: 3.91 sec.\n"
     ]
    }
   ],
   "source": [
    "test_gemma([\"Keras is a\", \"In the begining\", \"Call me Ishmael\"])"
   ]
  },
  {
   "cell_type": "markdown",
   "id": "aa0c2a34",
   "metadata": {
    "papermill": {
     "duration": 0.076457,
     "end_time": "2025-08-15T14:39:47.613065",
     "exception": false,
     "start_time": "2025-08-15T14:39:47.536608",
     "status": "completed"
    },
    "tags": []
   },
   "source": [
    "## Compile `generate` function with a custom sampler\n",
    "\n",
    "We will compile the `generate` function with a sampler passed as a string."
   ]
  },
  {
   "cell_type": "code",
   "execution_count": 9,
   "id": "d6b4dbd9",
   "metadata": {
    "execution": {
     "iopub.execute_input": "2025-08-15T14:39:47.631982Z",
     "iopub.status.busy": "2025-08-15T14:39:47.631589Z",
     "iopub.status.idle": "2025-08-15T14:39:56.526346Z",
     "shell.execute_reply": "2025-08-15T14:39:56.525511Z"
    },
    "papermill": {
     "duration": 8.906232,
     "end_time": "2025-08-15T14:39:56.528005",
     "exception": false,
     "start_time": "2025-08-15T14:39:47.621773",
     "status": "completed"
    },
    "tags": []
   },
   "outputs": [],
   "source": [
    "gemma_lm = keras_hub.models.Gemma3CausalLM.from_preset(\"/kaggle/input/gemma3/keras/gemma3_instruct_270m/4\")\n",
    "gemma_lm.compile(sampler=\"top_k\")"
   ]
  },
  {
   "cell_type": "markdown",
   "id": "3593a740",
   "metadata": {
    "papermill": {
     "duration": 0.008677,
     "end_time": "2025-08-15T14:39:56.546668",
     "exception": false,
     "start_time": "2025-08-15T14:39:56.537991",
     "status": "completed"
    },
    "tags": []
   },
   "source": [
    "Let's test it."
   ]
  },
  {
   "cell_type": "code",
   "execution_count": 10,
   "id": "0c2dc961",
   "metadata": {
    "execution": {
     "iopub.execute_input": "2025-08-15T14:39:56.565275Z",
     "iopub.status.busy": "2025-08-15T14:39:56.564953Z",
     "iopub.status.idle": "2025-08-15T14:40:17.867070Z",
     "shell.execute_reply": "2025-08-15T14:40:17.866122Z"
    },
    "papermill": {
     "duration": 21.313251,
     "end_time": "2025-08-15T14:40:17.868591",
     "exception": false,
     "start_time": "2025-08-15T14:39:56.555340",
     "status": "completed"
    },
    "tags": []
   },
   "outputs": [
    {
     "data": {
      "text/plain": [
       "'The fox jumped over the cliff.\\n\\n**Explanation:**\\n\\n* **The Fox:** The fox is the protagonist and the subject of the action.'"
      ]
     },
     "execution_count": 10,
     "metadata": {},
     "output_type": "execute_result"
    }
   ],
   "source": [
    "gemma_lm.generate(\"The fox jumped over\", max_length=30)"
   ]
  },
  {
   "cell_type": "markdown",
   "id": "bb0095b0",
   "metadata": {
    "papermill": {
     "duration": 0.008629,
     "end_time": "2025-08-15T14:40:17.886404",
     "exception": false,
     "start_time": "2025-08-15T14:40:17.877775",
     "status": "completed"
    },
    "tags": []
   },
   "source": [
    "## Call `fit()` function on a single batch"
   ]
  },
  {
   "cell_type": "code",
   "execution_count": 11,
   "id": "57989911",
   "metadata": {
    "execution": {
     "iopub.execute_input": "2025-08-15T14:40:17.906367Z",
     "iopub.status.busy": "2025-08-15T14:40:17.906034Z",
     "iopub.status.idle": "2025-08-15T14:43:59.776222Z",
     "shell.execute_reply": "2025-08-15T14:43:59.774805Z"
    },
    "papermill": {
     "duration": 221.882673,
     "end_time": "2025-08-15T14:43:59.778336",
     "exception": false,
     "start_time": "2025-08-15T14:40:17.895663",
     "status": "completed"
    },
    "tags": []
   },
   "outputs": [
    {
     "name": "stderr",
     "output_type": "stream",
     "text": [
      "/usr/local/lib/python3.11/dist-packages/tensorflow/python/framework/indexed_slices.py:446: UserWarning: Converting sparse IndexedSlices to a dense Tensor with 167772160 elements. This may consume a large amount of memory.\n",
      "  warnings.warn(\n"
     ]
    },
    {
     "name": "stdout",
     "output_type": "stream",
     "text": [
      "\u001b[1m4/4\u001b[0m \u001b[32m━━━━━━━━━━━━━━━━━━━━\u001b[0m\u001b[37m\u001b[0m \u001b[1m211s\u001b[0m 30s/step - loss: 0.0166 - sparse_categorical_accuracy: 0.2222\n"
     ]
    },
    {
     "data": {
      "text/plain": [
       "<keras.src.callbacks.history.History at 0x7b0bf5358450>"
      ]
     },
     "execution_count": 11,
     "metadata": {},
     "output_type": "execute_result"
    }
   ],
   "source": [
    "gemma_lm = keras_hub.models.Gemma3CausalLM.from_preset(\"/kaggle/input/gemma3/keras/gemma3_instruct_270m/4\")\n",
    "\n",
    "features = {\n",
    "    \"prompts\": [\"Capital of Romania?\", \"Capital of France?\", \"Capital of Germany?\", \"Capital of Spain?\"],\n",
    "    \"responses\": [\"Bucharest\", \"Paris\", \"Berlin\", \"Madrid\"]\n",
    "}\n",
    "\n",
    "gemma_lm.fit(x=features, batch_size=1)\n",
    "\n"
   ]
  },
  {
   "cell_type": "code",
   "execution_count": 12,
   "id": "f2a3c9b8",
   "metadata": {
    "execution": {
     "iopub.execute_input": "2025-08-15T14:43:59.799604Z",
     "iopub.status.busy": "2025-08-15T14:43:59.799184Z",
     "iopub.status.idle": "2025-08-15T14:44:19.223614Z",
     "shell.execute_reply": "2025-08-15T14:44:19.222639Z"
    },
    "papermill": {
     "duration": 19.437326,
     "end_time": "2025-08-15T14:44:19.225365",
     "exception": false,
     "start_time": "2025-08-15T14:43:59.788039",
     "status": "completed"
    },
    "tags": []
   },
   "outputs": [
    {
     "data": {
      "text/plain": [
       "'Capital of France?Paris'"
      ]
     },
     "execution_count": 12,
     "metadata": {},
     "output_type": "execute_result"
    }
   ],
   "source": [
    "gemma_lm.generate(\"Capital of France?\", max_length=12)"
   ]
  },
  {
   "cell_type": "code",
   "execution_count": 13,
   "id": "3a33809e",
   "metadata": {
    "execution": {
     "iopub.execute_input": "2025-08-15T14:44:19.245033Z",
     "iopub.status.busy": "2025-08-15T14:44:19.244690Z",
     "iopub.status.idle": "2025-08-15T14:44:19.501870Z",
     "shell.execute_reply": "2025-08-15T14:44:19.500955Z"
    },
    "papermill": {
     "duration": 0.268621,
     "end_time": "2025-08-15T14:44:19.503358",
     "exception": false,
     "start_time": "2025-08-15T14:44:19.234737",
     "status": "completed"
    },
    "tags": []
   },
   "outputs": [
    {
     "data": {
      "text/plain": [
       "'Capital of Rwanda? Kampala'"
      ]
     },
     "execution_count": 13,
     "metadata": {},
     "output_type": "execute_result"
    }
   ],
   "source": [
    "gemma_lm.generate(\"Capital of Rwanda?\", max_length=12)"
   ]
  },
  {
   "cell_type": "code",
   "execution_count": 14,
   "id": "647cd136",
   "metadata": {
    "execution": {
     "iopub.execute_input": "2025-08-15T14:44:19.524238Z",
     "iopub.status.busy": "2025-08-15T14:44:19.523191Z",
     "iopub.status.idle": "2025-08-15T14:44:19.784386Z",
     "shell.execute_reply": "2025-08-15T14:44:19.783497Z"
    },
    "papermill": {
     "duration": 0.27289,
     "end_time": "2025-08-15T14:44:19.785765",
     "exception": false,
     "start_time": "2025-08-15T14:44:19.512875",
     "status": "completed"
    },
    "tags": []
   },
   "outputs": [
    {
     "data": {
      "text/plain": [
       "'Capital of UK?London'"
      ]
     },
     "execution_count": 14,
     "metadata": {},
     "output_type": "execute_result"
    }
   ],
   "source": [
    "gemma_lm.generate(\"Capital of UK?\", max_length=12)"
   ]
  },
  {
   "cell_type": "markdown",
   "id": "ee0a4a95",
   "metadata": {
    "papermill": {
     "duration": 0.009155,
     "end_time": "2025-08-15T14:44:19.804410",
     "exception": false,
     "start_time": "2025-08-15T14:44:19.795255",
     "status": "completed"
    },
    "tags": []
   },
   "source": [
    "Let's create a function to display nicely the response."
   ]
  },
  {
   "cell_type": "code",
   "execution_count": 15,
   "id": "ae6a3a0e",
   "metadata": {
    "execution": {
     "iopub.execute_input": "2025-08-15T14:44:19.824494Z",
     "iopub.status.busy": "2025-08-15T14:44:19.823708Z",
     "iopub.status.idle": "2025-08-15T14:44:19.830817Z",
     "shell.execute_reply": "2025-08-15T14:44:19.829948Z"
    },
    "papermill": {
     "duration": 0.018811,
     "end_time": "2025-08-15T14:44:19.832363",
     "exception": false,
     "start_time": "2025-08-15T14:44:19.813552",
     "status": "completed"
    },
    "tags": []
   },
   "outputs": [],
   "source": [
    "from IPython.display import display, Markdown\n",
    "\n",
    "def colorize_text(text):\n",
    "    for word, color in zip([\"Question\", \"Response\",\"Execution time\"], [\"blue\", \"red\", \"green\"]):\n",
    "        text = text.replace(f\"{word}:\", f\"\\n\\n**<font color='{color}'>{word}:</font>**\")\n",
    "    return text\n",
    "\n",
    "\n",
    "\n",
    "def test_qa_gemma(question, max_length=30):\n",
    "    s_t = time()\n",
    "    output = gemma_lm.generate(question, max_length=max_length)\n",
    "    e_t = time()\n",
    "    response = output.replace(question, \"\")\n",
    "    return f\"Question: {question} Response: {response} Execution time: {round(e_t-s_t, 2)} sec.\"\n",
    "\n",
    "\n",
    "def test_gemma_format(question, max_length=30):\n",
    "\n",
    "    display(Markdown(colorize_text(test_qa_gemma(question, max_length))))"
   ]
  },
  {
   "cell_type": "markdown",
   "id": "cea1ca03",
   "metadata": {
    "papermill": {
     "duration": 0.009035,
     "end_time": "2025-08-15T14:44:19.850902",
     "exception": false,
     "start_time": "2025-08-15T14:44:19.841867",
     "status": "completed"
    },
    "tags": []
   },
   "source": [
    "# Test with history questions"
   ]
  },
  {
   "cell_type": "code",
   "execution_count": 16,
   "id": "e5855bd6",
   "metadata": {
    "execution": {
     "iopub.execute_input": "2025-08-15T14:44:19.870804Z",
     "iopub.status.busy": "2025-08-15T14:44:19.870458Z",
     "iopub.status.idle": "2025-08-15T14:44:30.040336Z",
     "shell.execute_reply": "2025-08-15T14:44:30.039436Z"
    },
    "papermill": {
     "duration": 10.182118,
     "end_time": "2025-08-15T14:44:30.042266",
     "exception": false,
     "start_time": "2025-08-15T14:44:19.860148",
     "status": "completed"
    },
    "tags": []
   },
   "outputs": [],
   "source": [
    "gemma_lm = keras_hub.models.Gemma3CausalLM.from_preset(\"/kaggle/input/gemma3/keras/gemma3_instruct_270m/4\")"
   ]
  },
  {
   "cell_type": "code",
   "execution_count": 17,
   "id": "e618c7fd",
   "metadata": {
    "execution": {
     "iopub.execute_input": "2025-08-15T14:44:30.063515Z",
     "iopub.status.busy": "2025-08-15T14:44:30.063184Z",
     "iopub.status.idle": "2025-08-15T14:44:50.922803Z",
     "shell.execute_reply": "2025-08-15T14:44:50.921930Z"
    },
    "papermill": {
     "duration": 20.872474,
     "end_time": "2025-08-15T14:44:50.924453",
     "exception": false,
     "start_time": "2025-08-15T14:44:30.051979",
     "status": "completed"
    },
    "tags": []
   },
   "outputs": [
    {
     "data": {
      "text/markdown": [
       "\n",
       "\n",
       "**<font color='blue'>Question:</font>** Who was George Washington? \n",
       "\n",
       "**<font color='red'>Response:</font>** \n",
       "\n",
       "George Washington was a prominent figure in the American Revolution. He was a commander of the Continental Army and a key figure in the \n",
       "\n",
       "**<font color='green'>Execution time:</font>** 20.85 sec."
      ],
      "text/plain": [
       "<IPython.core.display.Markdown object>"
      ]
     },
     "metadata": {},
     "output_type": "display_data"
    }
   ],
   "source": [
    "test_gemma_format(\"Who was George Washington?\", max_length=32)"
   ]
  },
  {
   "cell_type": "code",
   "execution_count": 18,
   "id": "ff647b0a",
   "metadata": {
    "execution": {
     "iopub.execute_input": "2025-08-15T14:44:50.945063Z",
     "iopub.status.busy": "2025-08-15T14:44:50.944697Z",
     "iopub.status.idle": "2025-08-15T14:44:52.945837Z",
     "shell.execute_reply": "2025-08-15T14:44:52.944969Z"
    },
    "papermill": {
     "duration": 2.012962,
     "end_time": "2025-08-15T14:44:52.947432",
     "exception": false,
     "start_time": "2025-08-15T14:44:50.934470",
     "status": "completed"
    },
    "tags": []
   },
   "outputs": [
    {
     "data": {
      "text/markdown": [
       "\n",
       "\n",
       "**<font color='blue'>Question:</font>** Between what years was WWI? \n",
       "\n",
       "**<font color='red'>Response:</font>** \n",
       "\n",
       "WWI was a global conflict that began in 1914 and lasted for 10 years.\n",
       " \n",
       "\n",
       "**<font color='green'>Execution time:</font>** 2.0 sec."
      ],
      "text/plain": [
       "<IPython.core.display.Markdown object>"
      ]
     },
     "metadata": {},
     "output_type": "display_data"
    }
   ],
   "source": [
    "test_gemma_format(\"Between what years was WWI?\", max_length=32)"
   ]
  },
  {
   "cell_type": "code",
   "execution_count": 19,
   "id": "aa60869f",
   "metadata": {
    "execution": {
     "iopub.execute_input": "2025-08-15T14:44:52.968506Z",
     "iopub.status.busy": "2025-08-15T14:44:52.968167Z",
     "iopub.status.idle": "2025-08-15T14:44:54.739454Z",
     "shell.execute_reply": "2025-08-15T14:44:54.738612Z"
    },
    "papermill": {
     "duration": 1.783469,
     "end_time": "2025-08-15T14:44:54.740850",
     "exception": false,
     "start_time": "2025-08-15T14:44:52.957381",
     "status": "completed"
    },
    "tags": []
   },
   "outputs": [
    {
     "data": {
      "text/markdown": [
       "\n",
       "\n",
       "**<font color='blue'>Question:</font>** When was the war of 30 years? \n",
       "\n",
       "**<font color='red'>Response:</font>** \n",
       "\n",
       "The war of 30 years was a period of intense conflict between the United States and Great Britain \n",
       "\n",
       "**<font color='green'>Execution time:</font>** 1.77 sec."
      ],
      "text/plain": [
       "<IPython.core.display.Markdown object>"
      ]
     },
     "metadata": {},
     "output_type": "display_data"
    }
   ],
   "source": [
    "test_gemma_format(\"When was the war of 30 years?\", max_length=32)"
   ]
  },
  {
   "cell_type": "code",
   "execution_count": 20,
   "id": "027d628e",
   "metadata": {
    "execution": {
     "iopub.execute_input": "2025-08-15T14:44:54.762087Z",
     "iopub.status.busy": "2025-08-15T14:44:54.761194Z",
     "iopub.status.idle": "2025-08-15T14:44:55.829003Z",
     "shell.execute_reply": "2025-08-15T14:44:55.828109Z"
    },
    "papermill": {
     "duration": 1.079784,
     "end_time": "2025-08-15T14:44:55.830368",
     "exception": false,
     "start_time": "2025-08-15T14:44:54.750584",
     "status": "completed"
    },
    "tags": []
   },
   "outputs": [
    {
     "data": {
      "text/markdown": [
       "\n",
       "\n",
       "**<font color='blue'>Question:</font>** In what year was assasinated JFK? \n",
       "\n",
       "**<font color='red'>Response:</font>** \n",
       "\n",
       "The answer is 1963.\n",
       "<end_of_turn> \n",
       "\n",
       "**<font color='green'>Execution time:</font>** 1.06 sec."
      ],
      "text/plain": [
       "<IPython.core.display.Markdown object>"
      ]
     },
     "metadata": {},
     "output_type": "display_data"
    }
   ],
   "source": [
    "test_gemma_format(\"In what year was assasinated JFK?\", max_length=32)"
   ]
  },
  {
   "cell_type": "markdown",
   "id": "dc7652f8",
   "metadata": {
    "papermill": {
     "duration": 0.009328,
     "end_time": "2025-08-15T14:44:55.849463",
     "exception": false,
     "start_time": "2025-08-15T14:44:55.840135",
     "status": "completed"
    },
    "tags": []
   },
   "source": [
    "# Test with popular culture questions"
   ]
  },
  {
   "cell_type": "code",
   "execution_count": 21,
   "id": "6eb73b1b",
   "metadata": {
    "execution": {
     "iopub.execute_input": "2025-08-15T14:44:55.870161Z",
     "iopub.status.busy": "2025-08-15T14:44:55.869496Z",
     "iopub.status.idle": "2025-08-15T14:44:58.030847Z",
     "shell.execute_reply": "2025-08-15T14:44:58.029839Z"
    },
    "papermill": {
     "duration": 2.173615,
     "end_time": "2025-08-15T14:44:58.032637",
     "exception": false,
     "start_time": "2025-08-15T14:44:55.859022",
     "status": "completed"
    },
    "tags": []
   },
   "outputs": [
    {
     "data": {
      "text/markdown": [
       "\n",
       "\n",
       "**<font color='blue'>Question:</font>** Name an album by Beatles. \n",
       "\n",
       "**<font color='red'>Response:</font>** \n",
       "\n",
       "**Answer:** The Beatles\n",
       "\n",
       "**Explanation:** The Beatles were a hugely successful and influential band, known for their innovative songwriting \n",
       "\n",
       "**<font color='green'>Execution time:</font>** 2.16 sec."
      ],
      "text/plain": [
       "<IPython.core.display.Markdown object>"
      ]
     },
     "metadata": {},
     "output_type": "display_data"
    }
   ],
   "source": [
    "test_gemma_format(\"Name an album by Beatles.\", max_length=32)"
   ]
  },
  {
   "cell_type": "code",
   "execution_count": 22,
   "id": "aa6c9248",
   "metadata": {
    "execution": {
     "iopub.execute_input": "2025-08-15T14:44:58.054337Z",
     "iopub.status.busy": "2025-08-15T14:44:58.053499Z",
     "iopub.status.idle": "2025-08-15T14:45:00.076898Z",
     "shell.execute_reply": "2025-08-15T14:45:00.075966Z"
    },
    "papermill": {
     "duration": 2.036333,
     "end_time": "2025-08-15T14:45:00.079050",
     "exception": false,
     "start_time": "2025-08-15T14:44:58.042717",
     "status": "completed"
    },
    "tags": []
   },
   "outputs": [
    {
     "data": {
      "text/markdown": [
       "\n",
       "\n",
       "**<font color='blue'>Question:</font>** Name a movie of Charlie Chaplin. \n",
       "\n",
       "**<font color='red'>Response:</font>** \n",
       "\n",
       "A)  The Great Showman.\n",
       "B)  The Tram Ride.\n",
       "C)  The Chaplin Film \n",
       "\n",
       "**<font color='green'>Execution time:</font>** 2.02 sec."
      ],
      "text/plain": [
       "<IPython.core.display.Markdown object>"
      ]
     },
     "metadata": {},
     "output_type": "display_data"
    }
   ],
   "source": [
    "test_gemma_format(\"Name a movie of Charlie Chaplin.\", max_length=32)"
   ]
  },
  {
   "cell_type": "code",
   "execution_count": 23,
   "id": "77465a12",
   "metadata": {
    "execution": {
     "iopub.execute_input": "2025-08-15T14:45:00.100790Z",
     "iopub.status.busy": "2025-08-15T14:45:00.100385Z",
     "iopub.status.idle": "2025-08-15T14:45:02.158009Z",
     "shell.execute_reply": "2025-08-15T14:45:02.156970Z"
    },
    "papermill": {
     "duration": 2.070546,
     "end_time": "2025-08-15T14:45:02.159719",
     "exception": false,
     "start_time": "2025-08-15T14:45:00.089173",
     "status": "completed"
    },
    "tags": []
   },
   "outputs": [
    {
     "data": {
      "text/markdown": [
       "\n",
       "\n",
       "**<font color='blue'>Question:</font>** When was released first Star Wars movie? \n",
       "\n",
       "**<font color='red'>Response:</font>** \n",
       "\n",
       "Star Wars: Episode IV - A New Hope was released on November 20, 2015 \n",
       "\n",
       "**<font color='green'>Execution time:</font>** 2.05 sec."
      ],
      "text/plain": [
       "<IPython.core.display.Markdown object>"
      ]
     },
     "metadata": {},
     "output_type": "display_data"
    }
   ],
   "source": [
    "test_gemma_format(\"When was released first Star Wars movie?\", max_length=32)"
   ]
  },
  {
   "cell_type": "code",
   "execution_count": 24,
   "id": "f401d8f9",
   "metadata": {
    "execution": {
     "iopub.execute_input": "2025-08-15T14:45:02.183408Z",
     "iopub.status.busy": "2025-08-15T14:45:02.183078Z",
     "iopub.status.idle": "2025-08-15T14:45:04.674449Z",
     "shell.execute_reply": "2025-08-15T14:45:04.673334Z"
    },
    "papermill": {
     "duration": 2.504777,
     "end_time": "2025-08-15T14:45:04.676114",
     "exception": false,
     "start_time": "2025-08-15T14:45:02.171337",
     "status": "completed"
    },
    "tags": []
   },
   "outputs": [
    {
     "data": {
      "text/markdown": [
       "\n",
       "\n",
       "**<font color='blue'>Question:</font>** Who was Princess Diana? \n",
       "\n",
       "**<font color='red'>Response:</font>** \n",
       "\n",
       "Princess Diana was a British princess who was married to Prince Charles. She was known for her flamboyant personality and her love of fashion \n",
       "\n",
       "**<font color='green'>Execution time:</font>** 2.49 sec."
      ],
      "text/plain": [
       "<IPython.core.display.Markdown object>"
      ]
     },
     "metadata": {},
     "output_type": "display_data"
    }
   ],
   "source": [
    "test_gemma_format(\"Who was Princess Diana?\", max_length=32)"
   ]
  },
  {
   "cell_type": "markdown",
   "id": "6fce3193",
   "metadata": {
    "papermill": {
     "duration": 0.009954,
     "end_time": "2025-08-15T14:45:04.696581",
     "exception": false,
     "start_time": "2025-08-15T14:45:04.686627",
     "status": "completed"
    },
    "tags": []
   },
   "source": [
    "# Test with multi-language"
   ]
  },
  {
   "cell_type": "code",
   "execution_count": 25,
   "id": "9106fef6",
   "metadata": {
    "execution": {
     "iopub.execute_input": "2025-08-15T14:45:04.719817Z",
     "iopub.status.busy": "2025-08-15T14:45:04.719472Z",
     "iopub.status.idle": "2025-08-15T14:45:07.195183Z",
     "shell.execute_reply": "2025-08-15T14:45:07.194242Z"
    },
    "papermill": {
     "duration": 2.490013,
     "end_time": "2025-08-15T14:45:07.196788",
     "exception": false,
     "start_time": "2025-08-15T14:45:04.706775",
     "status": "completed"
    },
    "tags": []
   },
   "outputs": [
    {
     "data": {
      "text/markdown": [
       "\n",
       "\n",
       "**<font color='blue'>Question:</font>** Quelle est la capitale du France? \n",
       "\n",
       "**<font color='red'>Response:</font>** \n",
       "\n",
       "La capitale du France est Paris.\n",
       "La capitale du France est Paris.\n",
       "La capitale du France est Paris. \n",
       "\n",
       "**<font color='green'>Execution time:</font>** 2.47 sec."
      ],
      "text/plain": [
       "<IPython.core.display.Markdown object>"
      ]
     },
     "metadata": {},
     "output_type": "display_data"
    }
   ],
   "source": [
    "test_gemma_format(\"Quelle est la capitale du France?\", max_length=32)"
   ]
  },
  {
   "cell_type": "code",
   "execution_count": 26,
   "id": "05208af6",
   "metadata": {
    "execution": {
     "iopub.execute_input": "2025-08-15T14:45:07.222657Z",
     "iopub.status.busy": "2025-08-15T14:45:07.222309Z",
     "iopub.status.idle": "2025-08-15T14:45:09.393097Z",
     "shell.execute_reply": "2025-08-15T14:45:09.392216Z"
    },
    "papermill": {
     "duration": 2.186621,
     "end_time": "2025-08-15T14:45:09.394840",
     "exception": false,
     "start_time": "2025-08-15T14:45:07.208219",
     "status": "completed"
    },
    "tags": []
   },
   "outputs": [
    {
     "data": {
      "text/markdown": [
       "\n",
       "\n",
       "**<font color='blue'>Question:</font>** Welche Farbe hat der Himmel? \n",
       "\n",
       "**<font color='red'>Response:</font>** \n",
       "\n",
       "Die Farbe des Himmels ist bekannt als \"blau\".\n",
       "Die Farbe des Himmels ist bekannt als \" \n",
       "\n",
       "**<font color='green'>Execution time:</font>** 2.17 sec."
      ],
      "text/plain": [
       "<IPython.core.display.Markdown object>"
      ]
     },
     "metadata": {},
     "output_type": "display_data"
    }
   ],
   "source": [
    "test_gemma_format(\"Welche Farbe hat der Himmel?\", max_length=32)"
   ]
  },
  {
   "cell_type": "code",
   "execution_count": 27,
   "id": "cb19c3e3",
   "metadata": {
    "execution": {
     "iopub.execute_input": "2025-08-15T14:45:09.417511Z",
     "iopub.status.busy": "2025-08-15T14:45:09.417209Z",
     "iopub.status.idle": "2025-08-15T14:45:33.668985Z",
     "shell.execute_reply": "2025-08-15T14:45:33.668093Z"
    },
    "papermill": {
     "duration": 24.265025,
     "end_time": "2025-08-15T14:45:33.670540",
     "exception": false,
     "start_time": "2025-08-15T14:45:09.405515",
     "status": "completed"
    },
    "tags": []
   },
   "outputs": [
    {
     "data": {
      "text/markdown": [
       "\n",
       "\n",
       "**<font color='blue'>Question:</font>** ハローキティとは誰ですか \n",
       "\n",
       "**<font color='red'>Response:</font>** ？\n",
       "\n",
       "ハローキティは、1980年代後半に、アメリカの音楽界で人気を博した、アメリカのロックバンド「ハローキティ・ズー」のメンバーです。\n",
       "\n",
       "ハローキティ・ズーは、198 \n",
       "\n",
       "**<font color='green'>Execution time:</font>** 24.25 sec."
      ],
      "text/plain": [
       "<IPython.core.display.Markdown object>"
      ]
     },
     "metadata": {},
     "output_type": "display_data"
    }
   ],
   "source": [
    "test_gemma_format(\"ハローキティとは誰ですか\", max_length=64)"
   ]
  },
  {
   "cell_type": "markdown",
   "id": "0b1215e0",
   "metadata": {
    "papermill": {
     "duration": 0.010168,
     "end_time": "2025-08-15T14:45:33.691366",
     "exception": false,
     "start_time": "2025-08-15T14:45:33.681198",
     "status": "completed"
    },
    "tags": []
   },
   "source": [
    "# Test with simple math"
   ]
  },
  {
   "cell_type": "code",
   "execution_count": 28,
   "id": "82ff6b0c",
   "metadata": {
    "execution": {
     "iopub.execute_input": "2025-08-15T14:45:33.713040Z",
     "iopub.status.busy": "2025-08-15T14:45:33.712698Z",
     "iopub.status.idle": "2025-08-15T14:45:34.663852Z",
     "shell.execute_reply": "2025-08-15T14:45:34.663022Z"
    },
    "papermill": {
     "duration": 0.963745,
     "end_time": "2025-08-15T14:45:34.665233",
     "exception": false,
     "start_time": "2025-08-15T14:45:33.701488",
     "status": "completed"
    },
    "tags": []
   },
   "outputs": [
    {
     "data": {
      "text/markdown": [
       "\n",
       "\n",
       "**<font color='blue'>Question:</font>** How much is 22 x 22? Just give the answer. \n",
       "\n",
       "**<font color='red'>Response:</font>** \n",
       "\n",
       "**Answer:** 484\n",
       "<end_of_turn> \n",
       "\n",
       "**<font color='green'>Execution time:</font>** 0.95 sec."
      ],
      "text/plain": [
       "<IPython.core.display.Markdown object>"
      ]
     },
     "metadata": {},
     "output_type": "display_data"
    }
   ],
   "source": [
    "test_gemma_format(\"How much is 22 x 22? Just give the answer.\", max_length=32)"
   ]
  },
  {
   "cell_type": "code",
   "execution_count": 29,
   "id": "842ba7be",
   "metadata": {
    "execution": {
     "iopub.execute_input": "2025-08-15T14:45:34.687219Z",
     "iopub.status.busy": "2025-08-15T14:45:34.686899Z",
     "iopub.status.idle": "2025-08-15T14:45:35.634019Z",
     "shell.execute_reply": "2025-08-15T14:45:35.632765Z"
    },
    "papermill": {
     "duration": 0.960328,
     "end_time": "2025-08-15T14:45:35.635990",
     "exception": false,
     "start_time": "2025-08-15T14:45:34.675662",
     "status": "completed"
    },
    "tags": []
   },
   "outputs": [
    {
     "data": {
      "text/markdown": [
       "\n",
       "\n",
       "**<font color='blue'>Question:</font>** How much is 49 - 12? Just give the answer. \n",
       "\n",
       "**<font color='red'>Response:</font>** \n",
       "\n",
       "**Answer:** 51\n",
       "<end_of_turn> \n",
       "\n",
       "**<font color='green'>Execution time:</font>** 0.94 sec."
      ],
      "text/plain": [
       "<IPython.core.display.Markdown object>"
      ]
     },
     "metadata": {},
     "output_type": "display_data"
    }
   ],
   "source": [
    "test_gemma_format(\"How much is 49 - 12? Just give the answer.\", max_length=64)"
   ]
  },
  {
   "cell_type": "code",
   "execution_count": 30,
   "id": "07707483",
   "metadata": {
    "execution": {
     "iopub.execute_input": "2025-08-15T14:45:35.659076Z",
     "iopub.status.busy": "2025-08-15T14:45:35.658746Z",
     "iopub.status.idle": "2025-08-15T14:45:54.850910Z",
     "shell.execute_reply": "2025-08-15T14:45:54.849920Z"
    },
    "papermill": {
     "duration": 19.20546,
     "end_time": "2025-08-15T14:45:54.852511",
     "exception": false,
     "start_time": "2025-08-15T14:45:35.647051",
     "status": "completed"
    },
    "tags": []
   },
   "outputs": [
    {
     "data": {
      "text/markdown": [
       "\n",
       "\n",
       "**<font color='blue'>Question:</font>** Area of a circle with radius 10? Just return the result. \n",
       "\n",
       "**<font color='red'>Response:</font>** Area of a circle with radius 10? Just \n",
       "\n",
       "**<font color='green'>Execution time:</font>** 19.19 sec."
      ],
      "text/plain": [
       "<IPython.core.display.Markdown object>"
      ]
     },
     "metadata": {},
     "output_type": "display_data"
    }
   ],
   "source": [
    "test_gemma_format(\"Area of a circle with radius 10? Just return the result.\", max_length=12)"
   ]
  },
  {
   "cell_type": "markdown",
   "id": "1b5eb52a",
   "metadata": {
    "papermill": {
     "duration": 0.010478,
     "end_time": "2025-08-15T14:45:54.876259",
     "exception": false,
     "start_time": "2025-08-15T14:45:54.865781",
     "status": "completed"
    },
    "tags": []
   },
   "source": [
    "# Try some coding"
   ]
  },
  {
   "cell_type": "code",
   "execution_count": 31,
   "id": "98c32b7c",
   "metadata": {
    "execution": {
     "iopub.execute_input": "2025-08-15T14:45:54.898913Z",
     "iopub.status.busy": "2025-08-15T14:45:54.898578Z",
     "iopub.status.idle": "2025-08-15T14:46:34.976653Z",
     "shell.execute_reply": "2025-08-15T14:46:34.975542Z"
    },
    "papermill": {
     "duration": 40.102099,
     "end_time": "2025-08-15T14:46:34.989073",
     "exception": false,
     "start_time": "2025-08-15T14:45:54.886974",
     "status": "completed"
    },
    "tags": []
   },
   "outputs": [
    {
     "data": {
      "text/markdown": [
       "\n",
       "\n",
       "**<font color='blue'>Question:</font>** Write a Python code to calculate the area of a circle with radius r. \n",
       "\n",
       "**<font color='red'>Response:</font>**  The area of a circle is given by the formula: A = πr²\n",
       "\n",
       "The code should also include a clear and concise explanation of the code's purpose and how it works.\n",
       "```python\n",
       "import math\n",
       "\n",
       "def calculate_circle_area(radius):\n",
       "    \"\"\"Calculates the area of a circle.\n",
       "\n",
       "    Args:\n",
       "        radius: The radius of the circle.\n",
       "\n",
       "    Returns:\n",
       "        The area of the circle.\n",
       "    \"\"\"\n",
       "    area = math.pi * radius * radius\n",
       "    return area\n",
       "\n",
       "# Example usage\n",
       "radius = 5\n",
       "area = calculate_circle_area(radius)\n",
       "print(\"The area of the circle with radius\", radius, \"is:\", area)\n",
       "```\n",
       "**Explanation:**\n",
       "\n",
       "1.  **`import math`:** This line imports the `math` module, which provides mathematical functions.\n",
       "2.  **`def calculate_circle_area(radius):`:** This defines a function named `calculate_circle_area` that takes one argument: `radius`.\n",
       "3.  **`area = math.pi * radius * radius`:** This is the core of the function.\n",
       " \n",
       "\n",
       "**<font color='green'>Execution time:</font>** 40.07 sec."
      ],
      "text/plain": [
       "<IPython.core.display.Markdown object>"
      ]
     },
     "metadata": {},
     "output_type": "display_data"
    }
   ],
   "source": [
    "test_gemma_format(\"Write a Python code to calculate the area of a circle with radius r.\", max_length=256)"
   ]
  },
  {
   "cell_type": "code",
   "execution_count": 32,
   "id": "a308a474",
   "metadata": {
    "execution": {
     "iopub.execute_input": "2025-08-15T14:46:35.013237Z",
     "iopub.status.busy": "2025-08-15T14:46:35.012876Z",
     "iopub.status.idle": "2025-08-15T14:47:02.075857Z",
     "shell.execute_reply": "2025-08-15T14:47:02.074846Z"
    },
    "papermill": {
     "duration": 27.077268,
     "end_time": "2025-08-15T14:47:02.077384",
     "exception": false,
     "start_time": "2025-08-15T14:46:35.000116",
     "status": "completed"
    },
    "tags": []
   },
   "outputs": [
    {
     "data": {
      "text/markdown": [
       "\n",
       "\n",
       "**<font color='blue'>Question:</font>** Write a Python code to calculate the n factorial. \n",
       "\n",
       "**<font color='red'>Response:</font>** \n",
       "\n",
       "```python\n",
       "def factorial(n):\n",
       "    \"\"\"Calculates the n factorial.\n",
       "\n",
       "    Args:\n",
       "        n: The number to calculate the factorial for.\n",
       "\n",
       "    Returns:\n",
       "        The n-th factorial.\n",
       "    \"\"\"\n",
       "    if n == 0:\n",
       "        return 1\n",
       "    else:\n",
       "        return n * factorial(n - 1)\n",
       "```\n",
       "\n",
       "```python\n",
       "def factorial_optimized(n):\n",
       "    \"\"\"Calculates the n factorial using optimized algorithm.\n",
       "\n",
       "    Args:\n",
       "        n: The number to calculate the factorial \n",
       "\n",
       "**<font color='green'>Execution time:</font>** 27.06 sec."
      ],
      "text/plain": [
       "<IPython.core.display.Markdown object>"
      ]
     },
     "metadata": {},
     "output_type": "display_data"
    }
   ],
   "source": [
    "test_gemma_format(\"Write a Python code to calculate the n factorial.\", max_length=128)"
   ]
  },
  {
   "cell_type": "markdown",
   "id": "e7b9d66e",
   "metadata": {
    "papermill": {
     "duration": 0.010536,
     "end_time": "2025-08-15T14:47:02.100367",
     "exception": false,
     "start_time": "2025-08-15T14:47:02.089831",
     "status": "completed"
    },
    "tags": []
   },
   "source": [
    "# Closing remarks\n",
    "\n",
    "\n",
    "The model Gemma 3 270M is an astonishing compact model, yet valuable, with good performance for some tasks. It runs quite fast on CPU, and it is really simple to use.\n",
    "Few remarcable features:\n",
    "- support of batch inference (much faster than sequential for each item in the batch)\n",
    "- compilation of generate function with custom sampler\n",
    "- apply fit function\n",
    "\n",
    " I tested the model with:\n",
    " - history questions\n",
    " - popular culture\n",
    " - multilanguage\n",
    " - math\n",
    " - coding\n",
    "\n",
    "The model \"knows\" some popular culture information, but mixes up some other and is not very well informed on history questions. For foreign language, the model shows rather good performance at first sight. The model knows better coding than simple math. For example, could write a function to calculate area of a circle, but strugled to return the result when asked to do the simple geometry problem."
   ]
  }
 ],
 "metadata": {
  "kaggle": {
   "accelerator": "none",
   "dataSources": [
    {
     "isSourceIdPinned": true,
     "modelId": 279036,
     "modelInstanceId": 410138,
     "sourceId": 521983,
     "sourceType": "modelInstanceVersion"
    }
   ],
   "dockerImageVersionId": 31089,
   "isGpuEnabled": false,
   "isInternetEnabled": true,
   "language": "python",
   "sourceType": "notebook"
  },
  "kernelspec": {
   "display_name": "Python 3",
   "language": "python",
   "name": "python3"
  },
  "language_info": {
   "codemirror_mode": {
    "name": "ipython",
    "version": 3
   },
   "file_extension": ".py",
   "mimetype": "text/x-python",
   "name": "python",
   "nbconvert_exporter": "python",
   "pygments_lexer": "ipython3",
   "version": "3.11.13"
  },
  "papermill": {
   "default_parameters": {},
   "duration": 536.234017,
   "end_time": "2025-08-15T14:47:05.235439",
   "environment_variables": {},
   "exception": null,
   "input_path": "__notebook__.ipynb",
   "output_path": "__notebook__.ipynb",
   "parameters": {},
   "start_time": "2025-08-15T14:38:09.001422",
   "version": "2.6.0"
  }
 },
 "nbformat": 4,
 "nbformat_minor": 5
}
