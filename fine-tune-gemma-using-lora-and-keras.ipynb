{
 "cells": [
  {
   "cell_type": "markdown",
   "id": "87d8edb9",
   "metadata": {
    "papermill": {
     "duration": 0.008905,
     "end_time": "2024-08-10T14:40:18.766289",
     "exception": false,
     "start_time": "2024-08-10T14:40:18.757384",
     "status": "completed"
    },
    "tags": []
   },
   "source": [
    "# Introduction\n",
    "\n",
    "\n",
    "This notebook is based on a tutorial from goo.gle/ai-kaggle-keras-gemma about how to fine-tune **Gemma** on a **Kaggle** dataset and share the model with the community.  \n",
    "\n",
    "## Model used\n",
    "\n",
    "We are using **Gemma** model with 2B parameters, Keras, English version, v2.\n",
    "\n",
    "## Dataset\n",
    "\n",
    "We will fine-tune **Gemma** using a [Medical Q & A](https://www.kaggle.com/datasets/gpreda/medquad/) dataset. This is a subset of the full public dataset [Healthcare NLP: LLMs, Transformers, Datasets](https://www.kaggle.com/datasets/jpmiller/layoutlm).\n",
    "\n"
   ]
  },
  {
   "cell_type": "markdown",
   "id": "9efd4070",
   "metadata": {
    "papermill": {
     "duration": 0.008054,
     "end_time": "2024-08-10T14:40:18.782737",
     "exception": false,
     "start_time": "2024-08-10T14:40:18.774683",
     "status": "completed"
    },
    "tags": []
   },
   "source": [
    "# Prepare packages\n",
    "\n",
    "\n",
    "We will install updated version of Keras, KerasNLP, which we need for fine-tuning, and other dependencies."
   ]
  },
  {
   "cell_type": "code",
   "execution_count": 1,
   "id": "c04f402f",
   "metadata": {
    "execution": {
     "iopub.execute_input": "2024-08-10T14:40:18.801386Z",
     "iopub.status.busy": "2024-08-10T14:40:18.800541Z",
     "iopub.status.idle": "2024-08-10T14:42:30.588161Z",
     "shell.execute_reply": "2024-08-10T14:42:30.587039Z"
    },
    "papermill": {
     "duration": 131.799633,
     "end_time": "2024-08-10T14:42:30.590612",
     "exception": false,
     "start_time": "2024-08-10T14:40:18.790979",
     "status": "completed"
    },
    "tags": []
   },
   "outputs": [
    {
     "name": "stdout",
     "output_type": "stream",
     "text": [
      "\u001b[31mERROR: pip's dependency resolver does not currently take into account all the packages that are installed. This behaviour is the source of the following dependency conflicts.\r\n",
      "tensorflow-decision-forests 1.8.1 requires wurlitzer, which is not installed.\r\n",
      "tensorflow-decision-forests 1.8.1 requires tensorflow~=2.15.0, but you have tensorflow 2.17.0 which is incompatible.\r\n",
      "tensorflow-text 2.15.0 requires tensorflow<2.16,>=2.15.0; platform_machine != \"arm64\" or platform_system != \"Darwin\", but you have tensorflow 2.17.0 which is incompatible.\u001b[0m\u001b[31m\r\n",
      "\u001b[0m\u001b[31mERROR: pip's dependency resolver does not currently take into account all the packages that are installed. This behaviour is the source of the following dependency conflicts.\r\n",
      "tensorflow-decision-forests 1.8.1 requires wurlitzer, which is not installed.\u001b[0m\u001b[31m\r\n",
      "\u001b[0m\u001b[31mERROR: pip's dependency resolver does not currently take into account all the packages that are installed. This behaviour is the source of the following dependency conflicts.\r\n",
      "tensorflow-decision-forests 1.8.1 requires wurlitzer, which is not installed.\r\n",
      "tensorflow 2.15.1 requires keras<2.16,>=2.15.0, but you have keras 3.4.1 which is incompatible.\u001b[0m\u001b[31m\r\n",
      "\u001b[0m"
     ]
    }
   ],
   "source": [
    "# Install Keras 3 last. See https://keras.io/getting_started/ for more details.\n",
    "!pip install -q -U tf-keras\n",
    "!pip install -q -U keras-nlp==0.10.0\n",
    "!pip install -q -U keras>=3"
   ]
  },
  {
   "cell_type": "markdown",
   "id": "def04178",
   "metadata": {
    "papermill": {
     "duration": 0.008576,
     "end_time": "2024-08-10T14:42:30.608146",
     "exception": false,
     "start_time": "2024-08-10T14:42:30.599570",
     "status": "completed"
    },
    "tags": []
   },
   "source": [
    "With Keras 3, we can run workflows on one of three backends: **TensorFlow**, **JAX**, and **PyTorch**.\n",
    "\n",
    "For this Notebook, we will configure the backend for **JAX**."
   ]
  },
  {
   "cell_type": "code",
   "execution_count": 2,
   "id": "fe95ea37",
   "metadata": {
    "execution": {
     "iopub.execute_input": "2024-08-10T14:42:30.627761Z",
     "iopub.status.busy": "2024-08-10T14:42:30.627410Z",
     "iopub.status.idle": "2024-08-10T14:42:30.632416Z",
     "shell.execute_reply": "2024-08-10T14:42:30.631607Z"
    },
    "papermill": {
     "duration": 0.017732,
     "end_time": "2024-08-10T14:42:30.634321",
     "exception": false,
     "start_time": "2024-08-10T14:42:30.616589",
     "status": "completed"
    },
    "tags": []
   },
   "outputs": [],
   "source": [
    "import os\n",
    "os.environ[\"KERAS_BACKEND\"] = \"jax\" # you can also use tensorflow or torch\n",
    "os.environ[\"XLA_PYTHON_CLIENT_MEM_FRACTION\"] = \"1.00\" # avoid memory fragmentation on JAX backend.\n",
    "os.environ[\"JAX_PLATFORMS\"] = \"\""
   ]
  },
  {
   "cell_type": "markdown",
   "id": "e549d660",
   "metadata": {
    "papermill": {
     "duration": 0.008596,
     "end_time": "2024-08-10T14:42:30.652579",
     "exception": false,
     "start_time": "2024-08-10T14:42:30.643983",
     "status": "completed"
    },
    "tags": []
   },
   "source": [
    "Once installed the additional packages, we can now include them."
   ]
  },
  {
   "cell_type": "code",
   "execution_count": 3,
   "id": "77504e20",
   "metadata": {
    "execution": {
     "iopub.execute_input": "2024-08-10T14:42:30.670771Z",
     "iopub.status.busy": "2024-08-10T14:42:30.670477Z",
     "iopub.status.idle": "2024-08-10T14:42:37.867950Z",
     "shell.execute_reply": "2024-08-10T14:42:37.866812Z"
    },
    "papermill": {
     "duration": 7.209108,
     "end_time": "2024-08-10T14:42:37.870200",
     "exception": false,
     "start_time": "2024-08-10T14:42:30.661092",
     "status": "completed"
    },
    "tags": []
   },
   "outputs": [
    {
     "name": "stderr",
     "output_type": "stream",
     "text": [
      "2024-08-10 14:42:31.140878: E external/local_xla/xla/stream_executor/cuda/cuda_dnn.cc:9261] Unable to register cuDNN factory: Attempting to register factory for plugin cuDNN when one has already been registered\n",
      "2024-08-10 14:42:31.140926: E external/local_xla/xla/stream_executor/cuda/cuda_fft.cc:607] Unable to register cuFFT factory: Attempting to register factory for plugin cuFFT when one has already been registered\n",
      "2024-08-10 14:42:31.142442: E external/local_xla/xla/stream_executor/cuda/cuda_blas.cc:1515] Unable to register cuBLAS factory: Attempting to register factory for plugin cuBLAS when one has already been registered\n"
     ]
    },
    {
     "name": "stdout",
     "output_type": "stream",
     "text": [
      "KerasNLP version:  0.10.0\n",
      "Keras version:  3.4.1\n"
     ]
    }
   ],
   "source": [
    "import keras_nlp\n",
    "import keras\n",
    "import csv\n",
    "\n",
    "print(\"KerasNLP version: \", keras_nlp.__version__)\n",
    "print(\"Keras version: \", keras.__version__)"
   ]
  },
  {
   "cell_type": "markdown",
   "id": "9381b181",
   "metadata": {
    "papermill": {
     "duration": 0.00917,
     "end_time": "2024-08-10T14:42:37.888605",
     "exception": false,
     "start_time": "2024-08-10T14:42:37.879435",
     "status": "completed"
    },
    "tags": []
   },
   "source": [
    "# Load the model"
   ]
  },
  {
   "cell_type": "markdown",
   "id": "f6c7243c",
   "metadata": {
    "papermill": {
     "duration": 0.009043,
     "end_time": "2024-08-10T14:42:37.907010",
     "exception": false,
     "start_time": "2024-08-10T14:42:37.897967",
     "status": "completed"
    },
    "tags": []
   },
   "source": [
    "We load the model `gemma_2b_en` using `keras_nlp`."
   ]
  },
  {
   "cell_type": "code",
   "execution_count": 4,
   "id": "bfb98d90",
   "metadata": {
    "execution": {
     "iopub.execute_input": "2024-08-10T14:42:37.927137Z",
     "iopub.status.busy": "2024-08-10T14:42:37.926585Z",
     "iopub.status.idle": "2024-08-10T14:43:46.195068Z",
     "shell.execute_reply": "2024-08-10T14:43:46.194103Z"
    },
    "papermill": {
     "duration": 68.281127,
     "end_time": "2024-08-10T14:43:46.197509",
     "exception": false,
     "start_time": "2024-08-10T14:42:37.916382",
     "status": "completed"
    },
    "tags": []
   },
   "outputs": [
    {
     "name": "stderr",
     "output_type": "stream",
     "text": [
      "Attaching 'metadata.json' from model 'keras/gemma/keras/gemma_2b_en/2' to your Kaggle notebook...\n",
      "Attaching 'metadata.json' from model 'keras/gemma/keras/gemma_2b_en/2' to your Kaggle notebook...\n",
      "Attaching 'task.json' from model 'keras/gemma/keras/gemma_2b_en/2' to your Kaggle notebook...\n",
      "Attaching 'config.json' from model 'keras/gemma/keras/gemma_2b_en/2' to your Kaggle notebook...\n",
      "Attaching 'metadata.json' from model 'keras/gemma/keras/gemma_2b_en/2' to your Kaggle notebook...\n",
      "Attaching 'metadata.json' from model 'keras/gemma/keras/gemma_2b_en/2' to your Kaggle notebook...\n",
      "Attaching 'config.json' from model 'keras/gemma/keras/gemma_2b_en/2' to your Kaggle notebook...\n",
      "Attaching 'config.json' from model 'keras/gemma/keras/gemma_2b_en/2' to your Kaggle notebook...\n",
      "Attaching 'model.weights.h5' from model 'keras/gemma/keras/gemma_2b_en/2' to your Kaggle notebook...\n",
      "Attaching 'metadata.json' from model 'keras/gemma/keras/gemma_2b_en/2' to your Kaggle notebook...\n",
      "Attaching 'metadata.json' from model 'keras/gemma/keras/gemma_2b_en/2' to your Kaggle notebook...\n",
      "Attaching 'preprocessor.json' from model 'keras/gemma/keras/gemma_2b_en/2' to your Kaggle notebook...\n",
      "Attaching 'tokenizer.json' from model 'keras/gemma/keras/gemma_2b_en/2' to your Kaggle notebook...\n",
      "Attaching 'tokenizer.json' from model 'keras/gemma/keras/gemma_2b_en/2' to your Kaggle notebook...\n",
      "Attaching 'assets/tokenizer/vocabulary.spm' from model 'keras/gemma/keras/gemma_2b_en/2' to your Kaggle notebook...\n",
      "normalizer.cc(51) LOG(INFO) precompiled_charsmap is empty. use identity normalization.\n"
     ]
    }
   ],
   "source": [
    "gemma_lm = keras_nlp.models.GemmaCausalLM.from_preset(\"gemma_2b_en\")"
   ]
  },
  {
   "cell_type": "markdown",
   "id": "0363d05d",
   "metadata": {
    "papermill": {
     "duration": 0.010117,
     "end_time": "2024-08-10T14:43:46.218043",
     "exception": false,
     "start_time": "2024-08-10T14:43:46.207926",
     "status": "completed"
    },
    "tags": []
   },
   "source": [
    "Let's print the summary of the model loaded."
   ]
  },
  {
   "cell_type": "code",
   "execution_count": 5,
   "id": "020c3c6c",
   "metadata": {
    "execution": {
     "iopub.execute_input": "2024-08-10T14:43:46.239708Z",
     "iopub.status.busy": "2024-08-10T14:43:46.239401Z",
     "iopub.status.idle": "2024-08-10T14:43:46.267140Z",
     "shell.execute_reply": "2024-08-10T14:43:46.266261Z"
    },
    "papermill": {
     "duration": 0.040924,
     "end_time": "2024-08-10T14:43:46.269050",
     "exception": false,
     "start_time": "2024-08-10T14:43:46.228126",
     "status": "completed"
    },
    "tags": []
   },
   "outputs": [
    {
     "data": {
      "text/html": [
       "<pre style=\"white-space:pre;overflow-x:auto;line-height:normal;font-family:Menlo,'DejaVu Sans Mono',consolas,'Courier New',monospace\"><span style=\"font-weight: bold\">Preprocessor: \"gemma_causal_lm_preprocessor\"</span>\n",
       "</pre>\n"
      ],
      "text/plain": [
       "\u001b[1mPreprocessor: \"gemma_causal_lm_preprocessor\"\u001b[0m\n"
      ]
     },
     "metadata": {},
     "output_type": "display_data"
    },
    {
     "data": {
      "text/html": [
       "<pre style=\"white-space:pre;overflow-x:auto;line-height:normal;font-family:Menlo,'DejaVu Sans Mono',consolas,'Courier New',monospace\">┏━━━━━━━━━━━━━━━━━━━━━━━━━━━━━━━━━━━━━━━━━━━━━━━━━━━━┳━━━━━━━━━━━━━━━━━━━━━━━━━━━━━━━━━━━━━━━━━━━━━━━━━━━━━┓\n",
       "┃<span style=\"font-weight: bold\"> Tokenizer (type)                                   </span>┃<span style=\"font-weight: bold\">                                             Vocab # </span>┃\n",
       "┡━━━━━━━━━━━━━━━━━━━━━━━━━━━━━━━━━━━━━━━━━━━━━━━━━━━━╇━━━━━━━━━━━━━━━━━━━━━━━━━━━━━━━━━━━━━━━━━━━━━━━━━━━━━┩\n",
       "│ gemma_tokenizer (<span style=\"color: #0087ff; text-decoration-color: #0087ff\">GemmaTokenizer</span>)                   │                                             <span style=\"color: #00af00; text-decoration-color: #00af00\">256,000</span> │\n",
       "└────────────────────────────────────────────────────┴─────────────────────────────────────────────────────┘\n",
       "</pre>\n"
      ],
      "text/plain": [
       "┏━━━━━━━━━━━━━━━━━━━━━━━━━━━━━━━━━━━━━━━━━━━━━━━━━━━━┳━━━━━━━━━━━━━━━━━━━━━━━━━━━━━━━━━━━━━━━━━━━━━━━━━━━━━┓\n",
       "┃\u001b[1m \u001b[0m\u001b[1mTokenizer (type)                                  \u001b[0m\u001b[1m \u001b[0m┃\u001b[1m \u001b[0m\u001b[1m                                            Vocab #\u001b[0m\u001b[1m \u001b[0m┃\n",
       "┡━━━━━━━━━━━━━━━━━━━━━━━━━━━━━━━━━━━━━━━━━━━━━━━━━━━━╇━━━━━━━━━━━━━━━━━━━━━━━━━━━━━━━━━━━━━━━━━━━━━━━━━━━━━┩\n",
       "│ gemma_tokenizer (\u001b[38;5;33mGemmaTokenizer\u001b[0m)                   │                                             \u001b[38;5;34m256,000\u001b[0m │\n",
       "└────────────────────────────────────────────────────┴─────────────────────────────────────────────────────┘\n"
      ]
     },
     "metadata": {},
     "output_type": "display_data"
    },
    {
     "data": {
      "text/html": [
       "<pre style=\"white-space:pre;overflow-x:auto;line-height:normal;font-family:Menlo,'DejaVu Sans Mono',consolas,'Courier New',monospace\"><span style=\"font-weight: bold\">Model: \"gemma_causal_lm\"</span>\n",
       "</pre>\n"
      ],
      "text/plain": [
       "\u001b[1mModel: \"gemma_causal_lm\"\u001b[0m\n"
      ]
     },
     "metadata": {},
     "output_type": "display_data"
    },
    {
     "data": {
      "text/html": [
       "<pre style=\"white-space:pre;overflow-x:auto;line-height:normal;font-family:Menlo,'DejaVu Sans Mono',consolas,'Courier New',monospace\">┏━━━━━━━━━━━━━━━━━━━━━━━━━━━━━━━┳━━━━━━━━━━━━━━━━━━━━━━━━━━━┳━━━━━━━━━━━━━━━━━┳━━━━━━━━━━━━━━━━━━━━━━━━━━━━┓\n",
       "┃<span style=\"font-weight: bold\"> Layer (type)                  </span>┃<span style=\"font-weight: bold\"> Output Shape              </span>┃<span style=\"font-weight: bold\">         Param # </span>┃<span style=\"font-weight: bold\"> Connected to               </span>┃\n",
       "┡━━━━━━━━━━━━━━━━━━━━━━━━━━━━━━━╇━━━━━━━━━━━━━━━━━━━━━━━━━━━╇━━━━━━━━━━━━━━━━━╇━━━━━━━━━━━━━━━━━━━━━━━━━━━━┩\n",
       "│ padding_mask (<span style=\"color: #0087ff; text-decoration-color: #0087ff\">InputLayer</span>)     │ (<span style=\"color: #00d7ff; text-decoration-color: #00d7ff\">None</span>, <span style=\"color: #00d7ff; text-decoration-color: #00d7ff\">None</span>)              │               <span style=\"color: #00af00; text-decoration-color: #00af00\">0</span> │ -                          │\n",
       "├───────────────────────────────┼───────────────────────────┼─────────────────┼────────────────────────────┤\n",
       "│ token_ids (<span style=\"color: #0087ff; text-decoration-color: #0087ff\">InputLayer</span>)        │ (<span style=\"color: #00d7ff; text-decoration-color: #00d7ff\">None</span>, <span style=\"color: #00d7ff; text-decoration-color: #00d7ff\">None</span>)              │               <span style=\"color: #00af00; text-decoration-color: #00af00\">0</span> │ -                          │\n",
       "├───────────────────────────────┼───────────────────────────┼─────────────────┼────────────────────────────┤\n",
       "│ gemma_backbone                │ (<span style=\"color: #00d7ff; text-decoration-color: #00d7ff\">None</span>, <span style=\"color: #00d7ff; text-decoration-color: #00d7ff\">None</span>, <span style=\"color: #00af00; text-decoration-color: #00af00\">2048</span>)        │   <span style=\"color: #00af00; text-decoration-color: #00af00\">2,506,172,416</span> │ padding_mask[<span style=\"color: #00af00; text-decoration-color: #00af00\">0</span>][<span style=\"color: #00af00; text-decoration-color: #00af00\">0</span>],        │\n",
       "│ (<span style=\"color: #0087ff; text-decoration-color: #0087ff\">GemmaBackbone</span>)               │                           │                 │ token_ids[<span style=\"color: #00af00; text-decoration-color: #00af00\">0</span>][<span style=\"color: #00af00; text-decoration-color: #00af00\">0</span>]            │\n",
       "├───────────────────────────────┼───────────────────────────┼─────────────────┼────────────────────────────┤\n",
       "│ token_embedding               │ (<span style=\"color: #00d7ff; text-decoration-color: #00d7ff\">None</span>, <span style=\"color: #00d7ff; text-decoration-color: #00d7ff\">None</span>, <span style=\"color: #00af00; text-decoration-color: #00af00\">256000</span>)      │     <span style=\"color: #00af00; text-decoration-color: #00af00\">524,288,000</span> │ gemma_backbone[<span style=\"color: #00af00; text-decoration-color: #00af00\">0</span>][<span style=\"color: #00af00; text-decoration-color: #00af00\">0</span>]       │\n",
       "│ (<span style=\"color: #0087ff; text-decoration-color: #0087ff\">ReversibleEmbedding</span>)         │                           │                 │                            │\n",
       "└───────────────────────────────┴───────────────────────────┴─────────────────┴────────────────────────────┘\n",
       "</pre>\n"
      ],
      "text/plain": [
       "┏━━━━━━━━━━━━━━━━━━━━━━━━━━━━━━━┳━━━━━━━━━━━━━━━━━━━━━━━━━━━┳━━━━━━━━━━━━━━━━━┳━━━━━━━━━━━━━━━━━━━━━━━━━━━━┓\n",
       "┃\u001b[1m \u001b[0m\u001b[1mLayer (type)                 \u001b[0m\u001b[1m \u001b[0m┃\u001b[1m \u001b[0m\u001b[1mOutput Shape             \u001b[0m\u001b[1m \u001b[0m┃\u001b[1m \u001b[0m\u001b[1m        Param #\u001b[0m\u001b[1m \u001b[0m┃\u001b[1m \u001b[0m\u001b[1mConnected to              \u001b[0m\u001b[1m \u001b[0m┃\n",
       "┡━━━━━━━━━━━━━━━━━━━━━━━━━━━━━━━╇━━━━━━━━━━━━━━━━━━━━━━━━━━━╇━━━━━━━━━━━━━━━━━╇━━━━━━━━━━━━━━━━━━━━━━━━━━━━┩\n",
       "│ padding_mask (\u001b[38;5;33mInputLayer\u001b[0m)     │ (\u001b[38;5;45mNone\u001b[0m, \u001b[38;5;45mNone\u001b[0m)              │               \u001b[38;5;34m0\u001b[0m │ -                          │\n",
       "├───────────────────────────────┼───────────────────────────┼─────────────────┼────────────────────────────┤\n",
       "│ token_ids (\u001b[38;5;33mInputLayer\u001b[0m)        │ (\u001b[38;5;45mNone\u001b[0m, \u001b[38;5;45mNone\u001b[0m)              │               \u001b[38;5;34m0\u001b[0m │ -                          │\n",
       "├───────────────────────────────┼───────────────────────────┼─────────────────┼────────────────────────────┤\n",
       "│ gemma_backbone                │ (\u001b[38;5;45mNone\u001b[0m, \u001b[38;5;45mNone\u001b[0m, \u001b[38;5;34m2048\u001b[0m)        │   \u001b[38;5;34m2,506,172,416\u001b[0m │ padding_mask[\u001b[38;5;34m0\u001b[0m][\u001b[38;5;34m0\u001b[0m],        │\n",
       "│ (\u001b[38;5;33mGemmaBackbone\u001b[0m)               │                           │                 │ token_ids[\u001b[38;5;34m0\u001b[0m][\u001b[38;5;34m0\u001b[0m]            │\n",
       "├───────────────────────────────┼───────────────────────────┼─────────────────┼────────────────────────────┤\n",
       "│ token_embedding               │ (\u001b[38;5;45mNone\u001b[0m, \u001b[38;5;45mNone\u001b[0m, \u001b[38;5;34m256000\u001b[0m)      │     \u001b[38;5;34m524,288,000\u001b[0m │ gemma_backbone[\u001b[38;5;34m0\u001b[0m][\u001b[38;5;34m0\u001b[0m]       │\n",
       "│ (\u001b[38;5;33mReversibleEmbedding\u001b[0m)         │                           │                 │                            │\n",
       "└───────────────────────────────┴───────────────────────────┴─────────────────┴────────────────────────────┘\n"
      ]
     },
     "metadata": {},
     "output_type": "display_data"
    },
    {
     "data": {
      "text/html": [
       "<pre style=\"white-space:pre;overflow-x:auto;line-height:normal;font-family:Menlo,'DejaVu Sans Mono',consolas,'Courier New',monospace\"><span style=\"font-weight: bold\"> Total params: </span><span style=\"color: #00af00; text-decoration-color: #00af00\">2,506,172,416</span> (9.34 GB)\n",
       "</pre>\n"
      ],
      "text/plain": [
       "\u001b[1m Total params: \u001b[0m\u001b[38;5;34m2,506,172,416\u001b[0m (9.34 GB)\n"
      ]
     },
     "metadata": {},
     "output_type": "display_data"
    },
    {
     "data": {
      "text/html": [
       "<pre style=\"white-space:pre;overflow-x:auto;line-height:normal;font-family:Menlo,'DejaVu Sans Mono',consolas,'Courier New',monospace\"><span style=\"font-weight: bold\"> Trainable params: </span><span style=\"color: #00af00; text-decoration-color: #00af00\">2,506,172,416</span> (9.34 GB)\n",
       "</pre>\n"
      ],
      "text/plain": [
       "\u001b[1m Trainable params: \u001b[0m\u001b[38;5;34m2,506,172,416\u001b[0m (9.34 GB)\n"
      ]
     },
     "metadata": {},
     "output_type": "display_data"
    },
    {
     "data": {
      "text/html": [
       "<pre style=\"white-space:pre;overflow-x:auto;line-height:normal;font-family:Menlo,'DejaVu Sans Mono',consolas,'Courier New',monospace\"><span style=\"font-weight: bold\"> Non-trainable params: </span><span style=\"color: #00af00; text-decoration-color: #00af00\">0</span> (0.00 B)\n",
       "</pre>\n"
      ],
      "text/plain": [
       "\u001b[1m Non-trainable params: \u001b[0m\u001b[38;5;34m0\u001b[0m (0.00 B)\n"
      ]
     },
     "metadata": {},
     "output_type": "display_data"
    }
   ],
   "source": [
    "gemma_lm.summary()"
   ]
  },
  {
   "cell_type": "markdown",
   "id": "a0b78adb",
   "metadata": {
    "papermill": {
     "duration": 0.011116,
     "end_time": "2024-08-10T14:43:46.291478",
     "exception": false,
     "start_time": "2024-08-10T14:43:46.280362",
     "status": "completed"
    },
    "tags": []
   },
   "source": [
    "# Prepare the training data"
   ]
  },
  {
   "cell_type": "markdown",
   "id": "3931b282",
   "metadata": {
    "papermill": {
     "duration": 0.010988,
     "end_time": "2024-08-10T14:43:46.313522",
     "exception": false,
     "start_time": "2024-08-10T14:43:46.302534",
     "status": "completed"
    },
    "tags": []
   },
   "source": [
    "We prepare the **Medical Q & A** data for training. We will load the data using the template where, for each data that will be included in the training set, we provide pairs of questions and answers."
   ]
  },
  {
   "cell_type": "code",
   "execution_count": 6,
   "id": "088b5378",
   "metadata": {
    "execution": {
     "iopub.execute_input": "2024-08-10T14:43:46.336899Z",
     "iopub.status.busy": "2024-08-10T14:43:46.336620Z",
     "iopub.status.idle": "2024-08-10T14:43:46.683310Z",
     "shell.execute_reply": "2024-08-10T14:43:46.682489Z"
    },
    "papermill": {
     "duration": 0.360938,
     "end_time": "2024-08-10T14:43:46.685530",
     "exception": false,
     "start_time": "2024-08-10T14:43:46.324592",
     "status": "completed"
    },
    "tags": []
   },
   "outputs": [],
   "source": [
    "data = []\n",
    "\n",
    "# The CSV file contains two columns 'question' and 'answer'\n",
    "with open(\"//kaggle/input/medquad/medquad.csv\", mode='r', encoding='utf-8') as file:\n",
    "    reader = csv.DictReader(file)\n",
    "    for row in reader:\n",
    "        # Use a template to format the questions and answers in the CSV into\n",
    "        # questions and answers in the data.\n",
    "        template = \"Question:\\n{question}\\n\\nAnswer:\\n{answer}\"\n",
    "        data.append(template.format(**row))"
   ]
  },
  {
   "cell_type": "code",
   "execution_count": 7,
   "id": "9138b035",
   "metadata": {
    "execution": {
     "iopub.execute_input": "2024-08-10T14:43:46.710232Z",
     "iopub.status.busy": "2024-08-10T14:43:46.709899Z",
     "iopub.status.idle": "2024-08-10T14:43:46.715492Z",
     "shell.execute_reply": "2024-08-10T14:43:46.714653Z"
    },
    "papermill": {
     "duration": 0.019708,
     "end_time": "2024-08-10T14:43:46.717373",
     "exception": false,
     "start_time": "2024-08-10T14:43:46.697665",
     "status": "completed"
    },
    "tags": []
   },
   "outputs": [
    {
     "data": {
      "text/plain": [
       "16412"
      ]
     },
     "execution_count": 7,
     "metadata": {},
     "output_type": "execute_result"
    }
   ],
   "source": [
    "len(data)"
   ]
  },
  {
   "cell_type": "markdown",
   "id": "c7e7d605",
   "metadata": {
    "papermill": {
     "duration": 0.011126,
     "end_time": "2024-08-10T14:43:46.739699",
     "exception": false,
     "start_time": "2024-08-10T14:43:46.728573",
     "status": "completed"
    },
    "tags": []
   },
   "source": [
    "Let's limit the data to **200 rows** of questions and answers. We do this to limit the training time for this demonstration Notebook. You can get back and fine-tune using entire dataset or use your own data size."
   ]
  },
  {
   "cell_type": "code",
   "execution_count": 8,
   "id": "98bfc938",
   "metadata": {
    "execution": {
     "iopub.execute_input": "2024-08-10T14:43:46.763307Z",
     "iopub.status.busy": "2024-08-10T14:43:46.763019Z",
     "iopub.status.idle": "2024-08-10T14:43:46.768979Z",
     "shell.execute_reply": "2024-08-10T14:43:46.768187Z"
    },
    "papermill": {
     "duration": 0.019842,
     "end_time": "2024-08-10T14:43:46.770760",
     "exception": false,
     "start_time": "2024-08-10T14:43:46.750918",
     "status": "completed"
    },
    "tags": []
   },
   "outputs": [],
   "source": [
    "data = data[:200]"
   ]
  },
  {
   "cell_type": "markdown",
   "id": "9a7e1d6c",
   "metadata": {
    "papermill": {
     "duration": 0.01135,
     "end_time": "2024-08-10T14:43:46.793425",
     "exception": false,
     "start_time": "2024-08-10T14:43:46.782075",
     "status": "completed"
    },
    "tags": []
   },
   "source": [
    "# Check model inference before fine tuning"
   ]
  },
  {
   "cell_type": "markdown",
   "id": "1d4f5c62",
   "metadata": {
    "papermill": {
     "duration": 0.011069,
     "end_time": "2024-08-10T14:43:46.815623",
     "exception": false,
     "start_time": "2024-08-10T14:43:46.804554",
     "status": "completed"
    },
    "tags": []
   },
   "source": [
    "We wil first check the model before proceeding to fine-tuning. We will test it with some questions about medical matters.  \n",
    "\n",
    "First, we will define an utility function to display the query and answer from LLM."
   ]
  },
  {
   "cell_type": "code",
   "execution_count": 9,
   "id": "fc161c08",
   "metadata": {
    "execution": {
     "iopub.execute_input": "2024-08-10T14:43:46.839520Z",
     "iopub.status.busy": "2024-08-10T14:43:46.839249Z",
     "iopub.status.idle": "2024-08-10T14:43:46.844122Z",
     "shell.execute_reply": "2024-08-10T14:43:46.843310Z"
    },
    "papermill": {
     "duration": 0.018959,
     "end_time": "2024-08-10T14:43:46.846078",
     "exception": false,
     "start_time": "2024-08-10T14:43:46.827119",
     "status": "completed"
    },
    "tags": []
   },
   "outputs": [],
   "source": [
    "from IPython.display import display, Markdown\n",
    "def colorize_text(text):\n",
    "    for word, color in zip([\"Category\", \"Question\", \"Answer\"], [\"blue\", \"red\", \"green\"]):\n",
    "        text = text.replace(f\"{word}:\", f\"\\n\\n**<font color='{color}'>{word}:</font>**\")\n",
    "    return text"
   ]
  },
  {
   "cell_type": "markdown",
   "id": "0437eedf",
   "metadata": {
    "papermill": {
     "duration": 0.011106,
     "end_time": "2024-08-10T14:43:46.868367",
     "exception": false,
     "start_time": "2024-08-10T14:43:46.857261",
     "status": "completed"
    },
    "tags": []
   },
   "source": [
    "Let's check how we can display the content of one data input using the `colorize_text` function."
   ]
  },
  {
   "cell_type": "code",
   "execution_count": 10,
   "id": "a693b05a",
   "metadata": {
    "execution": {
     "iopub.execute_input": "2024-08-10T14:43:46.891913Z",
     "iopub.status.busy": "2024-08-10T14:43:46.891652Z",
     "iopub.status.idle": "2024-08-10T14:43:46.895925Z",
     "shell.execute_reply": "2024-08-10T14:43:46.895107Z"
    },
    "papermill": {
     "duration": 0.018509,
     "end_time": "2024-08-10T14:43:46.898015",
     "exception": false,
     "start_time": "2024-08-10T14:43:46.879506",
     "status": "completed"
    },
    "tags": []
   },
   "outputs": [
    {
     "name": "stdout",
     "output_type": "stream",
     "text": [
      "Question:\n",
      "What are the treatments for Glaucoma ?\n",
      "\n",
      "Answer:\n",
      "Although open-angle glaucoma cannot be cured, it can usually be controlled. While treatments may save remaining vision, they do not improve sight already lost from glaucoma. The most common treatments for glaucoma are medication and surgery. Medications  Medications for glaucoma may be either in the form of eye drops or pills. Some drugs reduce pressure by slowing the flow of fluid into the eye. Others help to improve fluid drainage. (Watch the video to learn more about coping with glaucoma. To enlarge the video, click the brackets in the lower right-hand corner. To reduce the video, press the Escape (Esc) button on your keyboard.) For most people with glaucoma, regular use of medications will control the increased fluid pressure. But, these drugs may stop working over time. Or, they may cause side effects. If a problem occurs, the eye care professional may select other drugs, change the dose, or suggest other ways to deal with the problem.  Read or listen to ways some patients are coping with glaucoma. Surgery Laser surgery is another treatment for glaucoma. During laser surgery, a strong beam of light is focused on the part of the anterior chamber where the fluid leaves the eye. This results in a series of small changes that makes it easier for fluid to exit the eye. Over time, the effect of laser surgery may wear off. Patients who have this form of surgery may need to keep taking glaucoma drugs. Researching Causes and Treatments Through studies in the laboratory and with patients, NEI is seeking better ways to detect, treat, and prevent vision loss in people with glaucoma. For example, researchers have discovered genes that could help explain how glaucoma damages the eye. NEI also is supporting studies to learn more about who is likely to get glaucoma, when to treat people who have increased eye pressure, and which treatment to use first.\n"
     ]
    }
   ],
   "source": [
    "print(data[3])"
   ]
  },
  {
   "cell_type": "code",
   "execution_count": 11,
   "id": "f4e54f0f",
   "metadata": {
    "execution": {
     "iopub.execute_input": "2024-08-10T14:43:46.922869Z",
     "iopub.status.busy": "2024-08-10T14:43:46.922624Z",
     "iopub.status.idle": "2024-08-10T14:43:46.928003Z",
     "shell.execute_reply": "2024-08-10T14:43:46.927224Z"
    },
    "papermill": {
     "duration": 0.019487,
     "end_time": "2024-08-10T14:43:46.929932",
     "exception": false,
     "start_time": "2024-08-10T14:43:46.910445",
     "status": "completed"
    },
    "tags": []
   },
   "outputs": [
    {
     "data": {
      "text/markdown": [
       "\n",
       "\n",
       "**<font color='red'>Question:</font>**\n",
       "What are the treatments for Glaucoma ?\n",
       "\n",
       "\n",
       "\n",
       "**<font color='green'>Answer:</font>**\n",
       "Although open-angle glaucoma cannot be cured, it can usually be controlled. While treatments may save remaining vision, they do not improve sight already lost from glaucoma. The most common treatments for glaucoma are medication and surgery. Medications  Medications for glaucoma may be either in the form of eye drops or pills. Some drugs reduce pressure by slowing the flow of fluid into the eye. Others help to improve fluid drainage. (Watch the video to learn more about coping with glaucoma. To enlarge the video, click the brackets in the lower right-hand corner. To reduce the video, press the Escape (Esc) button on your keyboard.) For most people with glaucoma, regular use of medications will control the increased fluid pressure. But, these drugs may stop working over time. Or, they may cause side effects. If a problem occurs, the eye care professional may select other drugs, change the dose, or suggest other ways to deal with the problem.  Read or listen to ways some patients are coping with glaucoma. Surgery Laser surgery is another treatment for glaucoma. During laser surgery, a strong beam of light is focused on the part of the anterior chamber where the fluid leaves the eye. This results in a series of small changes that makes it easier for fluid to exit the eye. Over time, the effect of laser surgery may wear off. Patients who have this form of surgery may need to keep taking glaucoma drugs. Researching Causes and Treatments Through studies in the laboratory and with patients, NEI is seeking better ways to detect, treat, and prevent vision loss in people with glaucoma. For example, researchers have discovered genes that could help explain how glaucoma damages the eye. NEI also is supporting studies to learn more about who is likely to get glaucoma, when to treat people who have increased eye pressure, and which treatment to use first."
      ],
      "text/plain": [
       "<IPython.core.display.Markdown object>"
      ]
     },
     "metadata": {},
     "output_type": "display_data"
    }
   ],
   "source": [
    "display(Markdown(colorize_text(data[3])))"
   ]
  },
  {
   "cell_type": "markdown",
   "id": "8118c391",
   "metadata": {
    "papermill": {
     "duration": 0.01133,
     "end_time": "2024-08-10T14:43:46.952830",
     "exception": false,
     "start_time": "2024-08-10T14:43:46.941500",
     "status": "completed"
    },
    "tags": []
   },
   "source": [
    "Now we will ask the model to answer to a question for which we know the expected answer."
   ]
  },
  {
   "cell_type": "code",
   "execution_count": 12,
   "id": "0bf9a7ce",
   "metadata": {
    "execution": {
     "iopub.execute_input": "2024-08-10T14:43:46.976922Z",
     "iopub.status.busy": "2024-08-10T14:43:46.976670Z",
     "iopub.status.idle": "2024-08-10T14:43:57.331912Z",
     "shell.execute_reply": "2024-08-10T14:43:57.331010Z"
    },
    "papermill": {
     "duration": 10.36978,
     "end_time": "2024-08-10T14:43:57.334076",
     "exception": false,
     "start_time": "2024-08-10T14:43:46.964296",
     "status": "completed"
    },
    "tags": []
   },
   "outputs": [
    {
     "data": {
      "text/markdown": [
       "\n",
       "\n",
       "**<font color='red'>Question:</font>**\n",
       "What are the complications of Paget's Disease of Bone ?\n",
       "\n",
       "\n",
       "\n",
       "**<font color='green'>Answer:</font>**\n",
       "Paget's disease of bone is a disorder of bone metabolism characterized by excessive bone resorption and osteoclast activity. The disease is characterized by the formation of new bone in the form of osteoid, which is subsequently replaced by mature bone. The disease is characterized by the formation of new bone in the form of osteoid, which is subsequently replaced by mature bone. The disease is characterized by the formation of new bone in the form of osteoid, which is subsequently replaced by mature bone. The disease is characterized by the formation"
      ],
      "text/plain": [
       "<IPython.core.display.Markdown object>"
      ]
     },
     "metadata": {},
     "output_type": "display_data"
    }
   ],
   "source": [
    "prompt = template.format(\n",
    "    question=\"What are the complications of Paget's Disease of Bone ?\",\n",
    "    answer=\"\",\n",
    ")\n",
    "response = gemma_lm.generate(prompt, max_length=128)\n",
    "display(Markdown(colorize_text(response)))"
   ]
  },
  {
   "cell_type": "markdown",
   "id": "aaf7410e",
   "metadata": {
    "papermill": {
     "duration": 0.011599,
     "end_time": "2024-08-10T14:43:57.357727",
     "exception": false,
     "start_time": "2024-08-10T14:43:57.346128",
     "status": "completed"
    },
    "tags": []
   },
   "source": [
    "Another example below:"
   ]
  },
  {
   "cell_type": "code",
   "execution_count": 13,
   "id": "0871ccf1",
   "metadata": {
    "execution": {
     "iopub.execute_input": "2024-08-10T14:43:57.382724Z",
     "iopub.status.busy": "2024-08-10T14:43:57.382412Z",
     "iopub.status.idle": "2024-08-10T14:44:00.130331Z",
     "shell.execute_reply": "2024-08-10T14:44:00.129396Z"
    },
    "papermill": {
     "duration": 2.76295,
     "end_time": "2024-08-10T14:44:00.132597",
     "exception": false,
     "start_time": "2024-08-10T14:43:57.369647",
     "status": "completed"
    },
    "tags": []
   },
   "outputs": [
    {
     "data": {
      "text/markdown": [
       "\n",
       "\n",
       "**<font color='red'>Question:</font>**\n",
       "What are the treatments for Diabetes ?\n",
       "\n",
       "\n",
       "\n",
       "**<font color='green'>Answer:</font>**\n",
       "Diabetes is a chronic disease that affects the way your body uses blood sugar (glucose). It is caused by a lack of insulin, a hormone that helps glucose enter your cells to be used for energy.\n",
       "\n",
       "There are two types of diabetes:\n",
       "\n",
       "Type 1 diabetes: This is an autoimmune disease in which the body’s immune system attacks the cells that produce insulin. It is often called “insulin-dependent diabetes” or “juvenile diabetes.”\n",
       "\n",
       "Type 2 diabetes: This is the most common type of diabetes. It is caused by a combination of factors"
      ],
      "text/plain": [
       "<IPython.core.display.Markdown object>"
      ]
     },
     "metadata": {},
     "output_type": "display_data"
    }
   ],
   "source": [
    "prompt = template.format(\n",
    "    question=\"What are the treatments for Diabetes ?\",\n",
    "    answer=\"\",\n",
    ")\n",
    "response = gemma_lm.generate(prompt, max_length=128)\n",
    "display(Markdown(colorize_text(response)))"
   ]
  },
  {
   "cell_type": "markdown",
   "id": "55afc034",
   "metadata": {
    "papermill": {
     "duration": 0.011689,
     "end_time": "2024-08-10T14:44:00.157053",
     "exception": false,
     "start_time": "2024-08-10T14:44:00.145364",
     "status": "completed"
    },
    "tags": []
   },
   "source": [
    "# Fine-tunning with LoRA   \n",
    "\n",
    "\n",
    "We are using now **LoRA** for fine-tunning. **LoRA** stands for **Low Rank Adaptation** and is a method for modifying a pretrained model (for example, an LLM or vision transformer) to better suit a specific, often smaller, dataset by **adjusting only a small, low-rank subset of the model's parameters**.\n"
   ]
  },
  {
   "cell_type": "markdown",
   "id": "f5a58a7f",
   "metadata": {
    "papermill": {
     "duration": 0.011469,
     "end_time": "2024-08-10T14:44:00.180295",
     "exception": false,
     "start_time": "2024-08-10T14:44:00.168826",
     "status": "completed"
    },
    "tags": []
   },
   "source": [
    "The rank used here for LoRA controls the number of parameters that will be recalculated during fine-tuning."
   ]
  },
  {
   "cell_type": "code",
   "execution_count": 14,
   "id": "4e6923db",
   "metadata": {
    "execution": {
     "iopub.execute_input": "2024-08-10T14:44:00.205144Z",
     "iopub.status.busy": "2024-08-10T14:44:00.204594Z",
     "iopub.status.idle": "2024-08-10T14:44:00.555272Z",
     "shell.execute_reply": "2024-08-10T14:44:00.554401Z"
    },
    "papermill": {
     "duration": 0.365116,
     "end_time": "2024-08-10T14:44:00.557138",
     "exception": false,
     "start_time": "2024-08-10T14:44:00.192022",
     "status": "completed"
    },
    "tags": []
   },
   "outputs": [
    {
     "data": {
      "text/html": [
       "<pre style=\"white-space:pre;overflow-x:auto;line-height:normal;font-family:Menlo,'DejaVu Sans Mono',consolas,'Courier New',monospace\"><span style=\"font-weight: bold\">Preprocessor: \"gemma_causal_lm_preprocessor\"</span>\n",
       "</pre>\n"
      ],
      "text/plain": [
       "\u001b[1mPreprocessor: \"gemma_causal_lm_preprocessor\"\u001b[0m\n"
      ]
     },
     "metadata": {},
     "output_type": "display_data"
    },
    {
     "data": {
      "text/html": [
       "<pre style=\"white-space:pre;overflow-x:auto;line-height:normal;font-family:Menlo,'DejaVu Sans Mono',consolas,'Courier New',monospace\">┏━━━━━━━━━━━━━━━━━━━━━━━━━━━━━━━━━━━━━━━━━━━━━━━━━━━━┳━━━━━━━━━━━━━━━━━━━━━━━━━━━━━━━━━━━━━━━━━━━━━━━━━━━━━┓\n",
       "┃<span style=\"font-weight: bold\"> Tokenizer (type)                                   </span>┃<span style=\"font-weight: bold\">                                             Vocab # </span>┃\n",
       "┡━━━━━━━━━━━━━━━━━━━━━━━━━━━━━━━━━━━━━━━━━━━━━━━━━━━━╇━━━━━━━━━━━━━━━━━━━━━━━━━━━━━━━━━━━━━━━━━━━━━━━━━━━━━┩\n",
       "│ gemma_tokenizer (<span style=\"color: #0087ff; text-decoration-color: #0087ff\">GemmaTokenizer</span>)                   │                                             <span style=\"color: #00af00; text-decoration-color: #00af00\">256,000</span> │\n",
       "└────────────────────────────────────────────────────┴─────────────────────────────────────────────────────┘\n",
       "</pre>\n"
      ],
      "text/plain": [
       "┏━━━━━━━━━━━━━━━━━━━━━━━━━━━━━━━━━━━━━━━━━━━━━━━━━━━━┳━━━━━━━━━━━━━━━━━━━━━━━━━━━━━━━━━━━━━━━━━━━━━━━━━━━━━┓\n",
       "┃\u001b[1m \u001b[0m\u001b[1mTokenizer (type)                                  \u001b[0m\u001b[1m \u001b[0m┃\u001b[1m \u001b[0m\u001b[1m                                            Vocab #\u001b[0m\u001b[1m \u001b[0m┃\n",
       "┡━━━━━━━━━━━━━━━━━━━━━━━━━━━━━━━━━━━━━━━━━━━━━━━━━━━━╇━━━━━━━━━━━━━━━━━━━━━━━━━━━━━━━━━━━━━━━━━━━━━━━━━━━━━┩\n",
       "│ gemma_tokenizer (\u001b[38;5;33mGemmaTokenizer\u001b[0m)                   │                                             \u001b[38;5;34m256,000\u001b[0m │\n",
       "└────────────────────────────────────────────────────┴─────────────────────────────────────────────────────┘\n"
      ]
     },
     "metadata": {},
     "output_type": "display_data"
    },
    {
     "data": {
      "text/html": [
       "<pre style=\"white-space:pre;overflow-x:auto;line-height:normal;font-family:Menlo,'DejaVu Sans Mono',consolas,'Courier New',monospace\"><span style=\"font-weight: bold\">Model: \"gemma_causal_lm\"</span>\n",
       "</pre>\n"
      ],
      "text/plain": [
       "\u001b[1mModel: \"gemma_causal_lm\"\u001b[0m\n"
      ]
     },
     "metadata": {},
     "output_type": "display_data"
    },
    {
     "data": {
      "text/html": [
       "<pre style=\"white-space:pre;overflow-x:auto;line-height:normal;font-family:Menlo,'DejaVu Sans Mono',consolas,'Courier New',monospace\">┏━━━━━━━━━━━━━━━━━━━━━━━━━━━━━━━┳━━━━━━━━━━━━━━━━━━━━━━━━━━━┳━━━━━━━━━━━━━━━━━┳━━━━━━━━━━━━━━━━━━━━━━━━━━━━┓\n",
       "┃<span style=\"font-weight: bold\"> Layer (type)                  </span>┃<span style=\"font-weight: bold\"> Output Shape              </span>┃<span style=\"font-weight: bold\">         Param # </span>┃<span style=\"font-weight: bold\"> Connected to               </span>┃\n",
       "┡━━━━━━━━━━━━━━━━━━━━━━━━━━━━━━━╇━━━━━━━━━━━━━━━━━━━━━━━━━━━╇━━━━━━━━━━━━━━━━━╇━━━━━━━━━━━━━━━━━━━━━━━━━━━━┩\n",
       "│ padding_mask (<span style=\"color: #0087ff; text-decoration-color: #0087ff\">InputLayer</span>)     │ (<span style=\"color: #00d7ff; text-decoration-color: #00d7ff\">None</span>, <span style=\"color: #00d7ff; text-decoration-color: #00d7ff\">None</span>)              │               <span style=\"color: #00af00; text-decoration-color: #00af00\">0</span> │ -                          │\n",
       "├───────────────────────────────┼───────────────────────────┼─────────────────┼────────────────────────────┤\n",
       "│ token_ids (<span style=\"color: #0087ff; text-decoration-color: #0087ff\">InputLayer</span>)        │ (<span style=\"color: #00d7ff; text-decoration-color: #00d7ff\">None</span>, <span style=\"color: #00d7ff; text-decoration-color: #00d7ff\">None</span>)              │               <span style=\"color: #00af00; text-decoration-color: #00af00\">0</span> │ -                          │\n",
       "├───────────────────────────────┼───────────────────────────┼─────────────────┼────────────────────────────┤\n",
       "│ gemma_backbone                │ (<span style=\"color: #00d7ff; text-decoration-color: #00d7ff\">None</span>, <span style=\"color: #00d7ff; text-decoration-color: #00d7ff\">None</span>, <span style=\"color: #00af00; text-decoration-color: #00af00\">2048</span>)        │   <span style=\"color: #00af00; text-decoration-color: #00af00\">2,507,536,384</span> │ padding_mask[<span style=\"color: #00af00; text-decoration-color: #00af00\">0</span>][<span style=\"color: #00af00; text-decoration-color: #00af00\">0</span>],        │\n",
       "│ (<span style=\"color: #0087ff; text-decoration-color: #0087ff\">GemmaBackbone</span>)               │                           │                 │ token_ids[<span style=\"color: #00af00; text-decoration-color: #00af00\">0</span>][<span style=\"color: #00af00; text-decoration-color: #00af00\">0</span>]            │\n",
       "├───────────────────────────────┼───────────────────────────┼─────────────────┼────────────────────────────┤\n",
       "│ token_embedding               │ (<span style=\"color: #00d7ff; text-decoration-color: #00d7ff\">None</span>, <span style=\"color: #00d7ff; text-decoration-color: #00d7ff\">None</span>, <span style=\"color: #00af00; text-decoration-color: #00af00\">256000</span>)      │     <span style=\"color: #00af00; text-decoration-color: #00af00\">524,288,000</span> │ gemma_backbone[<span style=\"color: #00af00; text-decoration-color: #00af00\">0</span>][<span style=\"color: #00af00; text-decoration-color: #00af00\">0</span>]       │\n",
       "│ (<span style=\"color: #0087ff; text-decoration-color: #0087ff\">ReversibleEmbedding</span>)         │                           │                 │                            │\n",
       "└───────────────────────────────┴───────────────────────────┴─────────────────┴────────────────────────────┘\n",
       "</pre>\n"
      ],
      "text/plain": [
       "┏━━━━━━━━━━━━━━━━━━━━━━━━━━━━━━━┳━━━━━━━━━━━━━━━━━━━━━━━━━━━┳━━━━━━━━━━━━━━━━━┳━━━━━━━━━━━━━━━━━━━━━━━━━━━━┓\n",
       "┃\u001b[1m \u001b[0m\u001b[1mLayer (type)                 \u001b[0m\u001b[1m \u001b[0m┃\u001b[1m \u001b[0m\u001b[1mOutput Shape             \u001b[0m\u001b[1m \u001b[0m┃\u001b[1m \u001b[0m\u001b[1m        Param #\u001b[0m\u001b[1m \u001b[0m┃\u001b[1m \u001b[0m\u001b[1mConnected to              \u001b[0m\u001b[1m \u001b[0m┃\n",
       "┡━━━━━━━━━━━━━━━━━━━━━━━━━━━━━━━╇━━━━━━━━━━━━━━━━━━━━━━━━━━━╇━━━━━━━━━━━━━━━━━╇━━━━━━━━━━━━━━━━━━━━━━━━━━━━┩\n",
       "│ padding_mask (\u001b[38;5;33mInputLayer\u001b[0m)     │ (\u001b[38;5;45mNone\u001b[0m, \u001b[38;5;45mNone\u001b[0m)              │               \u001b[38;5;34m0\u001b[0m │ -                          │\n",
       "├───────────────────────────────┼───────────────────────────┼─────────────────┼────────────────────────────┤\n",
       "│ token_ids (\u001b[38;5;33mInputLayer\u001b[0m)        │ (\u001b[38;5;45mNone\u001b[0m, \u001b[38;5;45mNone\u001b[0m)              │               \u001b[38;5;34m0\u001b[0m │ -                          │\n",
       "├───────────────────────────────┼───────────────────────────┼─────────────────┼────────────────────────────┤\n",
       "│ gemma_backbone                │ (\u001b[38;5;45mNone\u001b[0m, \u001b[38;5;45mNone\u001b[0m, \u001b[38;5;34m2048\u001b[0m)        │   \u001b[38;5;34m2,507,536,384\u001b[0m │ padding_mask[\u001b[38;5;34m0\u001b[0m][\u001b[38;5;34m0\u001b[0m],        │\n",
       "│ (\u001b[38;5;33mGemmaBackbone\u001b[0m)               │                           │                 │ token_ids[\u001b[38;5;34m0\u001b[0m][\u001b[38;5;34m0\u001b[0m]            │\n",
       "├───────────────────────────────┼───────────────────────────┼─────────────────┼────────────────────────────┤\n",
       "│ token_embedding               │ (\u001b[38;5;45mNone\u001b[0m, \u001b[38;5;45mNone\u001b[0m, \u001b[38;5;34m256000\u001b[0m)      │     \u001b[38;5;34m524,288,000\u001b[0m │ gemma_backbone[\u001b[38;5;34m0\u001b[0m][\u001b[38;5;34m0\u001b[0m]       │\n",
       "│ (\u001b[38;5;33mReversibleEmbedding\u001b[0m)         │                           │                 │                            │\n",
       "└───────────────────────────────┴───────────────────────────┴─────────────────┴────────────────────────────┘\n"
      ]
     },
     "metadata": {},
     "output_type": "display_data"
    },
    {
     "data": {
      "text/html": [
       "<pre style=\"white-space:pre;overflow-x:auto;line-height:normal;font-family:Menlo,'DejaVu Sans Mono',consolas,'Courier New',monospace\"><span style=\"font-weight: bold\"> Total params: </span><span style=\"color: #00af00; text-decoration-color: #00af00\">2,507,536,384</span> (9.34 GB)\n",
       "</pre>\n"
      ],
      "text/plain": [
       "\u001b[1m Total params: \u001b[0m\u001b[38;5;34m2,507,536,384\u001b[0m (9.34 GB)\n"
      ]
     },
     "metadata": {},
     "output_type": "display_data"
    },
    {
     "data": {
      "text/html": [
       "<pre style=\"white-space:pre;overflow-x:auto;line-height:normal;font-family:Menlo,'DejaVu Sans Mono',consolas,'Courier New',monospace\"><span style=\"font-weight: bold\"> Trainable params: </span><span style=\"color: #00af00; text-decoration-color: #00af00\">1,363,968</span> (5.20 MB)\n",
       "</pre>\n"
      ],
      "text/plain": [
       "\u001b[1m Trainable params: \u001b[0m\u001b[38;5;34m1,363,968\u001b[0m (5.20 MB)\n"
      ]
     },
     "metadata": {},
     "output_type": "display_data"
    },
    {
     "data": {
      "text/html": [
       "<pre style=\"white-space:pre;overflow-x:auto;line-height:normal;font-family:Menlo,'DejaVu Sans Mono',consolas,'Courier New',monospace\"><span style=\"font-weight: bold\"> Non-trainable params: </span><span style=\"color: #00af00; text-decoration-color: #00af00\">2,506,172,416</span> (9.34 GB)\n",
       "</pre>\n"
      ],
      "text/plain": [
       "\u001b[1m Non-trainable params: \u001b[0m\u001b[38;5;34m2,506,172,416\u001b[0m (9.34 GB)\n"
      ]
     },
     "metadata": {},
     "output_type": "display_data"
    }
   ],
   "source": [
    "# Enable LoRA for the model and set the LoRA rank to 4.\n",
    "gemma_lm.backbone.enable_lora(rank=4)\n",
    "gemma_lm.summary()"
   ]
  },
  {
   "cell_type": "code",
   "execution_count": 15,
   "id": "2f65098f",
   "metadata": {
    "execution": {
     "iopub.execute_input": "2024-08-10T14:44:00.585656Z",
     "iopub.status.busy": "2024-08-10T14:44:00.585323Z",
     "iopub.status.idle": "2024-08-10T14:52:53.986285Z",
     "shell.execute_reply": "2024-08-10T14:52:53.985420Z"
    },
    "papermill": {
     "duration": 533.417633,
     "end_time": "2024-08-10T14:52:53.988239",
     "exception": false,
     "start_time": "2024-08-10T14:44:00.570606",
     "status": "completed"
    },
    "tags": []
   },
   "outputs": [
    {
     "name": "stdout",
     "output_type": "stream",
     "text": [
      "Epoch 1/10\n",
      "\u001b[1m200/200\u001b[0m \u001b[32m━━━━━━━━━━━━━━━━━━━━\u001b[0m\u001b[37m\u001b[0m \u001b[1m65s\u001b[0m 251ms/step - loss: 1.8119 - sparse_categorical_accuracy: 0.5798\n",
      "Epoch 2/10\n",
      "\u001b[1m200/200\u001b[0m \u001b[32m━━━━━━━━━━━━━━━━━━━━\u001b[0m\u001b[37m\u001b[0m \u001b[1m50s\u001b[0m 210ms/step - loss: 1.5556 - sparse_categorical_accuracy: 0.6026\n",
      "Epoch 3/10\n",
      "\u001b[1m200/200\u001b[0m \u001b[32m━━━━━━━━━━━━━━━━━━━━\u001b[0m\u001b[37m\u001b[0m \u001b[1m42s\u001b[0m 210ms/step - loss: 1.4687 - sparse_categorical_accuracy: 0.6142\n",
      "Epoch 4/10\n",
      "\u001b[1m200/200\u001b[0m \u001b[32m━━━━━━━━━━━━━━━━━━━━\u001b[0m\u001b[37m\u001b[0m \u001b[1m42s\u001b[0m 210ms/step - loss: 1.4280 - sparse_categorical_accuracy: 0.6199\n",
      "Epoch 5/10\n",
      "\u001b[1m200/200\u001b[0m \u001b[32m━━━━━━━━━━━━━━━━━━━━\u001b[0m\u001b[37m\u001b[0m \u001b[1m42s\u001b[0m 210ms/step - loss: 1.3905 - sparse_categorical_accuracy: 0.6265\n",
      "Epoch 6/10\n",
      "\u001b[1m200/200\u001b[0m \u001b[32m━━━━━━━━━━━━━━━━━━━━\u001b[0m\u001b[37m\u001b[0m \u001b[1m42s\u001b[0m 210ms/step - loss: 1.3530 - sparse_categorical_accuracy: 0.6316\n",
      "Epoch 7/10\n",
      "\u001b[1m200/200\u001b[0m \u001b[32m━━━━━━━━━━━━━━━━━━━━\u001b[0m\u001b[37m\u001b[0m \u001b[1m42s\u001b[0m 210ms/step - loss: 1.3196 - sparse_categorical_accuracy: 0.6387\n",
      "Epoch 8/10\n",
      "\u001b[1m200/200\u001b[0m \u001b[32m━━━━━━━━━━━━━━━━━━━━\u001b[0m\u001b[37m\u001b[0m \u001b[1m82s\u001b[0m 412ms/step - loss: 1.2830 - sparse_categorical_accuracy: 0.6467\n",
      "Epoch 9/10\n",
      "\u001b[1m200/200\u001b[0m \u001b[32m━━━━━━━━━━━━━━━━━━━━\u001b[0m\u001b[37m\u001b[0m \u001b[1m82s\u001b[0m 412ms/step - loss: 1.2428 - sparse_categorical_accuracy: 0.6585\n",
      "Epoch 10/10\n",
      "\u001b[1m200/200\u001b[0m \u001b[32m━━━━━━━━━━━━━━━━━━━━\u001b[0m\u001b[37m\u001b[0m \u001b[1m42s\u001b[0m 210ms/step - loss: 1.1990 - sparse_categorical_accuracy: 0.6681\n"
     ]
    },
    {
     "data": {
      "text/plain": [
       "<keras.src.callbacks.history.History at 0x799e302cb940>"
      ]
     },
     "execution_count": 15,
     "metadata": {},
     "output_type": "execute_result"
    }
   ],
   "source": [
    "# Fine-tune on the Medical QA dataset.\n",
    "\n",
    "# Limit the input sequence length to 128 (to control memory usage).\n",
    "gemma_lm.preprocessor.sequence_length = 128\n",
    "# Use AdamW (a common optimizer for transformer models).\n",
    "optimizer = keras.optimizers.AdamW(\n",
    "    learning_rate=5e-5,\n",
    "    weight_decay=0.01,\n",
    ")\n",
    "# Exclude layernorm and bias terms from decay.\n",
    "optimizer.exclude_from_weight_decay(var_names=[\"bias\", \"scale\"])\n",
    "\n",
    "gemma_lm.compile(\n",
    "    loss=keras.losses.SparseCategoricalCrossentropy(from_logits=True),\n",
    "    optimizer=optimizer,\n",
    "    weighted_metrics=[keras.metrics.SparseCategoricalAccuracy()],\n",
    ")\n",
    "gemma_lm.fit(data, epochs=10, batch_size=1)"
   ]
  },
  {
   "cell_type": "markdown",
   "id": "3bbb5a6a",
   "metadata": {
    "papermill": {
     "duration": 0.173908,
     "end_time": "2024-08-10T14:52:54.338599",
     "exception": false,
     "start_time": "2024-08-10T14:52:54.164691",
     "status": "completed"
    },
    "tags": []
   },
   "source": [
    "# Inference after fine tuning\n",
    "\n",
    "\n",
    "Let's try again now the two examples from above. We will run now the queries through the fine-tuned model."
   ]
  },
  {
   "cell_type": "code",
   "execution_count": 16,
   "id": "5a3eb005",
   "metadata": {
    "execution": {
     "iopub.execute_input": "2024-08-10T14:52:54.692908Z",
     "iopub.status.busy": "2024-08-10T14:52:54.692210Z",
     "iopub.status.idle": "2024-08-10T14:53:04.452128Z",
     "shell.execute_reply": "2024-08-10T14:53:04.451157Z"
    },
    "papermill": {
     "duration": 9.937775,
     "end_time": "2024-08-10T14:53:04.454345",
     "exception": false,
     "start_time": "2024-08-10T14:52:54.516570",
     "status": "completed"
    },
    "tags": []
   },
   "outputs": [
    {
     "data": {
      "text/markdown": [
       "\n",
       "\n",
       "**<font color='red'>Question:</font>**\n",
       "What are the complications of Paget's Disease of Bone ?\n",
       "\n",
       "\n",
       "\n",
       "**<font color='green'>Answer:</font>**\n",
       "Paget's disease of bone is a disorder of bone metabolism. It is caused by an excess of a chemical called calcitonin, which is released by the thyroid gland. The excess calcitonin causes the bone to become enlarged and deformed. The disease is most common in people over age 60. It is rare in people younger than age 40."
      ],
      "text/plain": [
       "<IPython.core.display.Markdown object>"
      ]
     },
     "metadata": {},
     "output_type": "display_data"
    }
   ],
   "source": [
    "prompt = template.format(\n",
    "    question=\"What are the complications of Paget's Disease of Bone ?\",\n",
    "    answer=\"\",\n",
    ")\n",
    "response = gemma_lm.generate(prompt, max_length=128)\n",
    "display(Markdown(colorize_text(response)))"
   ]
  },
  {
   "cell_type": "code",
   "execution_count": 17,
   "id": "d38c15b1",
   "metadata": {
    "execution": {
     "iopub.execute_input": "2024-08-10T14:53:04.807923Z",
     "iopub.status.busy": "2024-08-10T14:53:04.807286Z",
     "iopub.status.idle": "2024-08-10T14:53:07.887697Z",
     "shell.execute_reply": "2024-08-10T14:53:07.886706Z"
    },
    "papermill": {
     "duration": 3.258008,
     "end_time": "2024-08-10T14:53:07.889911",
     "exception": false,
     "start_time": "2024-08-10T14:53:04.631903",
     "status": "completed"
    },
    "tags": []
   },
   "outputs": [
    {
     "data": {
      "text/markdown": [
       "\n",
       "\n",
       "**<font color='red'>Question:</font>**\n",
       "What are the treatments for Diabetes ?\n",
       "\n",
       "\n",
       "\n",
       "**<font color='green'>Answer:</font>**\n",
       "Diabetes is a disease that affects the way the body uses glucose, a type of sugar. Glucose is a form of simple sugar that is found in the blood and in the foods we eat. Glucose is the body's main source of energy. When glucose is not used for energy, it is converted into a form of simple sugar called glucose. Glucose is the body's main source of energy. When glucose is not used for energy, it is converted into a form of simple sugar called glucose. Glucose is the body's main source of energy. When glucose"
      ],
      "text/plain": [
       "<IPython.core.display.Markdown object>"
      ]
     },
     "metadata": {},
     "output_type": "display_data"
    }
   ],
   "source": [
    "prompt = template.format(\n",
    "    question=\"What are the treatments for Diabetes ?\",\n",
    "    answer=\"\",\n",
    ")\n",
    "response = gemma_lm.generate(prompt, max_length=128)\n",
    "display(Markdown(colorize_text(response)))"
   ]
  },
  {
   "cell_type": "markdown",
   "id": "a40b9c30",
   "metadata": {
    "papermill": {
     "duration": 0.172826,
     "end_time": "2024-08-10T14:53:08.237829",
     "exception": false,
     "start_time": "2024-08-10T14:53:08.065003",
     "status": "completed"
    },
    "tags": []
   },
   "source": [
    "# Save the model"
   ]
  },
  {
   "cell_type": "code",
   "execution_count": 18,
   "id": "b9e16acd",
   "metadata": {
    "execution": {
     "iopub.execute_input": "2024-08-10T14:53:08.588482Z",
     "iopub.status.busy": "2024-08-10T14:53:08.587746Z",
     "iopub.status.idle": "2024-08-10T14:54:15.366999Z",
     "shell.execute_reply": "2024-08-10T14:54:15.365815Z"
    },
    "papermill": {
     "duration": 66.958188,
     "end_time": "2024-08-10T14:54:15.370042",
     "exception": false,
     "start_time": "2024-08-10T14:53:08.411854",
     "status": "completed"
    },
    "tags": []
   },
   "outputs": [],
   "source": [
    "preset = \"./medical_gemma\"\n",
    "# Save the model to the preset directory.\n",
    "gemma_lm.save_to_preset(preset)"
   ]
  },
  {
   "cell_type": "markdown",
   "id": "1cd07eb1",
   "metadata": {
    "papermill": {
     "duration": 0.247279,
     "end_time": "2024-08-10T14:54:16.661468",
     "exception": false,
     "start_time": "2024-08-10T14:54:16.414189",
     "status": "completed"
    },
    "tags": []
   },
   "source": [
    "# Conclusions\n",
    "\n",
    "We saw how to fine tune Gemma model using **LoRA** and **KerasNLP**.\n",
    "\n",
    "We only used a subset of the **Medical Q & A** data to perform the fine tuning. If you have access to more computational resources, please feel free to improve the fine-tuned model by:\n",
    "* Adding more data from the available dataset.  \n",
    "* Increasing the rank parameter used in fine-tuning.\n",
    "\n",
    "We will use the saved model to publish a Kaggle Model."
   ]
  }
 ],
 "metadata": {
  "kaggle": {
   "accelerator": "gpu",
   "dataSources": [
    {
     "datasetId": 5314260,
     "sourceId": 8831896,
     "sourceType": "datasetVersion"
    },
    {
     "modelId": 3533,
     "modelInstanceId": 5171,
     "sourceId": 11371,
     "sourceType": "modelInstanceVersion"
    }
   ],
   "dockerImageVersionId": 30733,
   "isGpuEnabled": true,
   "isInternetEnabled": true,
   "language": "python",
   "sourceType": "notebook"
  },
  "kernelspec": {
   "display_name": "Python 3",
   "language": "python",
   "name": "python3"
  },
  "language_info": {
   "codemirror_mode": {
    "name": "ipython",
    "version": 3
   },
   "file_extension": ".py",
   "mimetype": "text/x-python",
   "name": "python",
   "nbconvert_exporter": "python",
   "pygments_lexer": "ipython3",
   "version": "3.10.13"
  },
  "papermill": {
   "default_parameters": {},
   "duration": 843.627907,
   "end_time": "2024-08-10T14:54:19.650593",
   "environment_variables": {},
   "exception": null,
   "input_path": "__notebook__.ipynb",
   "output_path": "__notebook__.ipynb",
   "parameters": {},
   "start_time": "2024-08-10T14:40:16.022686",
   "version": "2.5.0"
  }
 },
 "nbformat": 4,
 "nbformat_minor": 5
}
