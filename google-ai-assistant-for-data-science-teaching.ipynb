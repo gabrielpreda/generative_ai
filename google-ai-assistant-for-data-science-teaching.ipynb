{
 "cells": [
  {
   "cell_type": "markdown",
   "id": "ef135940",
   "metadata": {
    "_cell_guid": "b1076dfc-b9ad-4769-8c92-a6c4dae69d19",
    "_uuid": "8f2839f25d086af736a60e9eeb907d3b93b6e0e5",
    "papermill": {
     "duration": 0.009231,
     "end_time": "2024-04-01T14:33:55.952979",
     "exception": false,
     "start_time": "2024-04-01T14:33:55.943748",
     "status": "completed"
    },
    "tags": []
   },
   "source": [
    "<center><h1>Google AI Assistant for Data Science teaching</h1></center>\n",
    "\n",
    "<center><img src=\"https://res.infoq.com/news/2024/02/google-gemma-open-model/en/headerimage/generatedHeaderImage-1708977571481.jpg\" width=\"400\"></center>\n",
    "\n",
    "# Introduction\n",
    "\n",
    "This Notebook will build an AI Assistant for Data Science teaching.\n",
    "\n",
    "## The method\n",
    "\n",
    "We will fine-tune a LLM with Data Science questions and answers. Then we will create a custom class that will query this model.\n",
    "\n",
    "## The model\n",
    "\n",
    "As model, we will use Gemma model, fine-tuned with our Data Science Q&A data, using LoRA.\n",
    "\n",
    "## The data\n",
    "\n",
    "As data for fine-tuning Gemma, we will use [Data Science Q&A Treasury](https://www.kaggle.com/datasets/memocan/data-science-interview-q-and-a-treasury) dataset. This dataset contains over 150 questions and answering about Data Science.\n",
    "\n",
    "## Previous work\n",
    "\n",
    "This work is largely based on previous work. Here I list the sources:\n",
    "\n",
    "1. Gemma Model Card, Kaggle Models, https://www.kaggle.com/models/google/gemma\n",
    "2. Kaggle QA with Gemma - KerasNLP Starter, Kaggle Code, https://www.kaggle.com/code/awsaf49/kaggle-qa-with-gemma-kerasnlp-starter (Version 11)\n",
    "3. Fine-tune Gemma models in Keras using LoRA, Kaggle Code, https://www.kaggle.com/code/nilaychauhan/fine-tune-gemma-models-in-keras-using-lora (Version 1)\n",
    "4. Edward J. Hu, Yelong Shen, Phillip Wallis, Zeyuan Allen-Zhu, Yuanzhi Li, Shean Wang, Lu Wang, Weizhu Chen, LoRA: Low-Rank Adaptation of Large Language Models, ArXiv, https://arxiv.org/pdf/2106.09685.pdf\n",
    "5. Abheesht Sharma, Matthew Watson, Parameter-efficient fine-tuning of GPT-2 with LoRA, https://keras.io/examples/nlp/parameter_efficient_finetuning_of_gpt2_with_lora/\n",
    "6. Keras 3 API documentation / KerasNLP / Models / Gemma, https://keras.io/api/keras_nlp/models/gemma/\n"
   ]
  },
  {
   "cell_type": "markdown",
   "id": "76357f5b",
   "metadata": {
    "papermill": {
     "duration": 0.008469,
     "end_time": "2024-04-01T14:33:55.970333",
     "exception": false,
     "start_time": "2024-04-01T14:33:55.961864",
     "status": "completed"
    },
    "tags": []
   },
   "source": [
    "# Introduction about Gemma\n",
    "\n",
    "\n",
    "Gemma is a collection of lightweight source generative AI models designed to be used mostly by developers and researchers. Created by Google DeepMind research lab that also developed Gemini, Gemma is available in several versions, with 2B and 7B parameters, as following:\n",
    "\n",
    "| Model                  | Parameters      | Tuned versions    | Description                                    | Recomemnded target platforms       |\n",
    "|------------------------|-----------------|-------------------|------------------------------------------------|------------------------------------|\n",
    "| `gemma_2b_en`          | 2.51B           | Pretrained        | 18-layer Gemma model (Gemma with 2B parameters)|Mobile devices and laptops          |\n",
    "| `gemma_instruct_2b_en` | 2.51B           | Instruction tuned | 18-layer Gemma model (Gemma with 2B parameters)| Mobile devices and laptops         | \n",
    "| `gemma_7b_en`          | 8.54B           | Pretrained        | 28-layer Gemma model (Gemma with 7B parameters)| Desktop computers and small servers|\n",
    "| `gemma_instruct_7b_en` | 8.54B           | Instruction tuned | 28-layer Gemma model (Gemma with 7B parameters)| Desktop computers and small servers|\n",
    "\n",
    "\n",
    "For this notebook, we will fine-tune `gemma_2b_en` model, one of the `2B` parameters Gemma models."
   ]
  },
  {
   "cell_type": "markdown",
   "id": "c21c52ab",
   "metadata": {
    "papermill": {
     "duration": 0.009572,
     "end_time": "2024-04-01T14:33:55.988437",
     "exception": false,
     "start_time": "2024-04-01T14:33:55.978865",
     "status": "completed"
    },
    "tags": []
   },
   "source": [
    "# LoRA introduction\n",
    "\n",
    "LoRA stands for Low-Rank Adaptation. It is a method used to fine-tune large language models (LLMs) by freezing the weights of the LLM and injecting trainable rank-decomposition matrices.   \n",
    "The number of trainable parameters during fine-tunning will decrease therefore considerably.   \n",
    "According to LoRA paper, this number decreases 10,000 times, and the computational resources size decreases 3 times. "
   ]
  },
  {
   "cell_type": "markdown",
   "id": "e398ca62",
   "metadata": {
    "papermill": {
     "duration": 0.008915,
     "end_time": "2024-04-01T14:33:56.006765",
     "exception": false,
     "start_time": "2024-04-01T14:33:55.997850",
     "status": "completed"
    },
    "tags": []
   },
   "source": [
    "# Installations and configurations"
   ]
  },
  {
   "cell_type": "code",
   "execution_count": 1,
   "id": "e09d386d",
   "metadata": {
    "execution": {
     "iopub.execute_input": "2024-04-01T14:33:56.026811Z",
     "iopub.status.busy": "2024-04-01T14:33:56.026012Z",
     "iopub.status.idle": "2024-04-01T14:34:27.578869Z",
     "shell.execute_reply": "2024-04-01T14:34:27.577882Z"
    },
    "papermill": {
     "duration": 31.565882,
     "end_time": "2024-04-01T14:34:27.581489",
     "exception": false,
     "start_time": "2024-04-01T14:33:56.015607",
     "status": "completed"
    },
    "tags": []
   },
   "outputs": [
    {
     "name": "stdout",
     "output_type": "stream",
     "text": [
      "\u001b[31mERROR: pip's dependency resolver does not currently take into account all the packages that are installed. This behaviour is the source of the following dependency conflicts.\r\n",
      "tensorflow-decision-forests 1.8.1 requires wurlitzer, which is not installed.\u001b[0m\u001b[31m\r\n",
      "\u001b[0m\u001b[31mERROR: pip's dependency resolver does not currently take into account all the packages that are installed. This behaviour is the source of the following dependency conflicts.\r\n",
      "tensorflow-decision-forests 1.8.1 requires wurlitzer, which is not installed.\r\n",
      "tensorflow 2.15.0 requires keras<2.16,>=2.15.0, but you have keras 3.1.1 which is incompatible.\u001b[0m\u001b[31m\r\n",
      "\u001b[0m"
     ]
    }
   ],
   "source": [
    "# Install Keras 3 last. See https://keras.io/getting_started/ for more details.\n",
    "!pip install -q -U keras-nlp\n",
    "!pip install -q -U keras>=3"
   ]
  },
  {
   "cell_type": "code",
   "execution_count": 2,
   "id": "90f2df8e",
   "metadata": {
    "execution": {
     "iopub.execute_input": "2024-04-01T14:34:27.603377Z",
     "iopub.status.busy": "2024-04-01T14:34:27.603036Z",
     "iopub.status.idle": "2024-04-01T14:34:42.614040Z",
     "shell.execute_reply": "2024-04-01T14:34:42.613227Z"
    },
    "papermill": {
     "duration": 15.024355,
     "end_time": "2024-04-01T14:34:42.616545",
     "exception": false,
     "start_time": "2024-04-01T14:34:27.592190",
     "status": "completed"
    },
    "tags": []
   },
   "outputs": [
    {
     "name": "stderr",
     "output_type": "stream",
     "text": [
      "2024-04-01 14:34:32.206269: E external/local_xla/xla/stream_executor/cuda/cuda_dnn.cc:9261] Unable to register cuDNN factory: Attempting to register factory for plugin cuDNN when one has already been registered\n",
      "2024-04-01 14:34:32.206379: E external/local_xla/xla/stream_executor/cuda/cuda_fft.cc:607] Unable to register cuFFT factory: Attempting to register factory for plugin cuFFT when one has already been registered\n",
      "2024-04-01 14:34:32.343044: E external/local_xla/xla/stream_executor/cuda/cuda_blas.cc:1515] Unable to register cuBLAS factory: Attempting to register factory for plugin cuBLAS when one has already been registered\n"
     ]
    }
   ],
   "source": [
    "import os\n",
    "os.environ[\"KERAS_BACKEND\"] = \"jax\" # you can also use tensorflow or torch\n",
    "os.environ[\"XLA_PYTHON_CLIENT_MEM_FRACTION\"] = \"1.00\" # avoid memory fragmentation on JAX backend.\n",
    "\n",
    "import keras\n",
    "import keras_nlp\n",
    "\n",
    "import numpy as np\n",
    "import pandas as pd\n",
    "from tqdm.notebook import tqdm\n",
    "tqdm.pandas() # progress bar for pandas\n",
    "\n",
    "import matplotlib.pyplot as plt\n",
    "import seaborn as sns\n",
    "from IPython.display import display, Markdown"
   ]
  },
  {
   "cell_type": "code",
   "execution_count": 3,
   "id": "388a5165",
   "metadata": {
    "execution": {
     "iopub.execute_input": "2024-04-01T14:34:42.637211Z",
     "iopub.status.busy": "2024-04-01T14:34:42.636383Z",
     "iopub.status.idle": "2024-04-01T14:34:42.641674Z",
     "shell.execute_reply": "2024-04-01T14:34:42.640738Z"
    },
    "papermill": {
     "duration": 0.017784,
     "end_time": "2024-04-01T14:34:42.643689",
     "exception": false,
     "start_time": "2024-04-01T14:34:42.625905",
     "status": "completed"
    },
    "tags": []
   },
   "outputs": [],
   "source": [
    "class Config:\n",
    "    seed = 42\n",
    "    dataset_path = \"/kaggle/input/data-science-interview-q-and-a-treasury/dataset.csv\"\n",
    "    preset = \"gemma_2b_en\" # name of pretrained Gemma\n",
    "    sequence_length = 512 # max size of input sequence for training\n",
    "    batch_size = 1 # size of the input batch in training, x 2 as two GPUs\n",
    "    epochs = 10 # number of epochs to train"
   ]
  },
  {
   "cell_type": "code",
   "execution_count": 4,
   "id": "453073a9",
   "metadata": {
    "execution": {
     "iopub.execute_input": "2024-04-01T14:34:42.663128Z",
     "iopub.status.busy": "2024-04-01T14:34:42.662805Z",
     "iopub.status.idle": "2024-04-01T14:34:42.667196Z",
     "shell.execute_reply": "2024-04-01T14:34:42.666384Z"
    },
    "papermill": {
     "duration": 0.016335,
     "end_time": "2024-04-01T14:34:42.669104",
     "exception": false,
     "start_time": "2024-04-01T14:34:42.652769",
     "status": "completed"
    },
    "tags": []
   },
   "outputs": [],
   "source": [
    "keras.utils.set_random_seed(Config.seed)"
   ]
  },
  {
   "cell_type": "code",
   "execution_count": 5,
   "id": "3cce2328",
   "metadata": {
    "execution": {
     "iopub.execute_input": "2024-04-01T14:34:42.688414Z",
     "iopub.status.busy": "2024-04-01T14:34:42.688158Z",
     "iopub.status.idle": "2024-04-01T14:34:42.693069Z",
     "shell.execute_reply": "2024-04-01T14:34:42.692172Z"
    },
    "papermill": {
     "duration": 0.016844,
     "end_time": "2024-04-01T14:34:42.694951",
     "exception": false,
     "start_time": "2024-04-01T14:34:42.678107",
     "status": "completed"
    },
    "tags": []
   },
   "outputs": [],
   "source": [
    "def colorize_text(text):\n",
    "    for word, color in zip([\"Question\", \"Answer\"], [\"blue\", \"red\"]):\n",
    "        text = text.replace(f\"\\n\\n{word}:\", f\"\\n\\n**<font color='{color}'>{word}:</font>**\")\n",
    "    return text"
   ]
  },
  {
   "cell_type": "markdown",
   "id": "91a01a72",
   "metadata": {
    "papermill": {
     "duration": 0.008764,
     "end_time": "2024-04-01T14:34:42.712799",
     "exception": false,
     "start_time": "2024-04-01T14:34:42.704035",
     "status": "completed"
    },
    "tags": []
   },
   "source": [
    "# Load the data"
   ]
  },
  {
   "cell_type": "code",
   "execution_count": 6,
   "id": "ff185031",
   "metadata": {
    "execution": {
     "iopub.execute_input": "2024-04-01T14:34:42.732185Z",
     "iopub.status.busy": "2024-04-01T14:34:42.731898Z",
     "iopub.status.idle": "2024-04-01T14:34:42.761324Z",
     "shell.execute_reply": "2024-04-01T14:34:42.760342Z"
    },
    "papermill": {
     "duration": 0.041731,
     "end_time": "2024-04-01T14:34:42.763526",
     "exception": false,
     "start_time": "2024-04-01T14:34:42.721795",
     "status": "completed"
    },
    "tags": []
   },
   "outputs": [
    {
     "data": {
      "text/html": [
       "<div>\n",
       "<style scoped>\n",
       "    .dataframe tbody tr th:only-of-type {\n",
       "        vertical-align: middle;\n",
       "    }\n",
       "\n",
       "    .dataframe tbody tr th {\n",
       "        vertical-align: top;\n",
       "    }\n",
       "\n",
       "    .dataframe thead th {\n",
       "        text-align: right;\n",
       "    }\n",
       "</style>\n",
       "<table border=\"1\" class=\"dataframe\">\n",
       "  <thead>\n",
       "    <tr style=\"text-align: right;\">\n",
       "      <th></th>\n",
       "      <th>question</th>\n",
       "      <th>answer</th>\n",
       "    </tr>\n",
       "  </thead>\n",
       "  <tbody>\n",
       "    <tr>\n",
       "      <th>0</th>\n",
       "      <td>What is supervised machine learning? 👶</td>\n",
       "      <td>Supervised learning is a type of machine learn...</td>\n",
       "    </tr>\n",
       "    <tr>\n",
       "      <th>1</th>\n",
       "      <td>What is regression? Which models can you use t...</td>\n",
       "      <td>Regression is a part of supervised ML. Regress...</td>\n",
       "    </tr>\n",
       "    <tr>\n",
       "      <th>2</th>\n",
       "      <td>What is linear regression? When do we use it? 👶</td>\n",
       "      <td>Linear regression is a model that assumes a li...</td>\n",
       "    </tr>\n",
       "    <tr>\n",
       "      <th>3</th>\n",
       "      <td>What are the main assumptions of linear regres...</td>\n",
       "      <td>There are several assumptions of linear regres...</td>\n",
       "    </tr>\n",
       "    <tr>\n",
       "      <th>4</th>\n",
       "      <td>What’s the normal distribution? Why do we care...</td>\n",
       "      <td>The normal distribution is a continuous probab...</td>\n",
       "    </tr>\n",
       "  </tbody>\n",
       "</table>\n",
       "</div>"
      ],
      "text/plain": [
       "                                            question  \\\n",
       "0             What is supervised machine learning? 👶   \n",
       "1  What is regression? Which models can you use t...   \n",
       "2    What is linear regression? When do we use it? 👶   \n",
       "3  What are the main assumptions of linear regres...   \n",
       "4  What’s the normal distribution? Why do we care...   \n",
       "\n",
       "                                              answer  \n",
       "0  Supervised learning is a type of machine learn...  \n",
       "1  Regression is a part of supervised ML. Regress...  \n",
       "2  Linear regression is a model that assumes a li...  \n",
       "3  There are several assumptions of linear regres...  \n",
       "4  The normal distribution is a continuous probab...  "
      ]
     },
     "execution_count": 6,
     "metadata": {},
     "output_type": "execute_result"
    }
   ],
   "source": [
    "df = pd.read_csv(f\"{Config.dataset_path}\")\n",
    "df.head()"
   ]
  },
  {
   "cell_type": "markdown",
   "id": "171b5ca6",
   "metadata": {
    "papermill": {
     "duration": 0.009167,
     "end_time": "2024-04-01T14:34:42.782698",
     "exception": false,
     "start_time": "2024-04-01T14:34:42.773531",
     "status": "completed"
    },
    "tags": []
   },
   "source": [
    "# Fine-tune Gemma\n",
    "\n",
    "We prepare a template and generate a prompt using this template from each row in the dataset."
   ]
  },
  {
   "cell_type": "code",
   "execution_count": 7,
   "id": "2c101807",
   "metadata": {
    "execution": {
     "iopub.execute_input": "2024-04-01T14:34:42.803425Z",
     "iopub.status.busy": "2024-04-01T14:34:42.802662Z",
     "iopub.status.idle": "2024-04-01T14:34:42.833396Z",
     "shell.execute_reply": "2024-04-01T14:34:42.832575Z"
    },
    "papermill": {
     "duration": 0.045395,
     "end_time": "2024-04-01T14:34:42.837813",
     "exception": false,
     "start_time": "2024-04-01T14:34:42.792418",
     "status": "completed"
    },
    "tags": []
   },
   "outputs": [
    {
     "data": {
      "application/vnd.jupyter.widget-view+json": {
       "model_id": "45bc971f51e1405fa9d806e286970de5",
       "version_major": 2,
       "version_minor": 0
      },
      "text/plain": [
       "  0%|          | 0/166 [00:00<?, ?it/s]"
      ]
     },
     "metadata": {},
     "output_type": "display_data"
    }
   ],
   "source": [
    "template = \"\\n\\nQuestion:\\n{question}\\n\\nAnswer:\\n{answer}\"\n",
    "df[\"prompt\"] = df.progress_apply(lambda row: template.format(question=row.question,\n",
    "                                                             answer=row.answer), axis=1)\n",
    "data = df.prompt.tolist()"
   ]
  },
  {
   "cell_type": "markdown",
   "id": "c31188b9",
   "metadata": {
    "papermill": {
     "duration": 0.009258,
     "end_time": "2024-04-01T14:34:42.856440",
     "exception": false,
     "start_time": "2024-04-01T14:34:42.847182",
     "status": "completed"
    },
    "tags": []
   },
   "source": [
    "## Initialize the code for Gemma Causal LM\n",
    "\n",
    "We initialize `GemmaCausalML` with `gemma_2b_en` model."
   ]
  },
  {
   "cell_type": "code",
   "execution_count": 8,
   "id": "adb531af",
   "metadata": {
    "execution": {
     "iopub.execute_input": "2024-04-01T14:34:42.876604Z",
     "iopub.status.busy": "2024-04-01T14:34:42.876312Z",
     "iopub.status.idle": "2024-04-01T14:35:35.297488Z",
     "shell.execute_reply": "2024-04-01T14:35:35.296661Z"
    },
    "papermill": {
     "duration": 52.433673,
     "end_time": "2024-04-01T14:35:35.299473",
     "exception": false,
     "start_time": "2024-04-01T14:34:42.865800",
     "status": "completed"
    },
    "tags": []
   },
   "outputs": [
    {
     "name": "stderr",
     "output_type": "stream",
     "text": [
      "Attaching 'config.json' from model 'keras/gemma/keras/gemma_2b_en/2' to your Kaggle notebook...\n",
      "Attaching 'config.json' from model 'keras/gemma/keras/gemma_2b_en/2' to your Kaggle notebook...\n",
      "Attaching 'model.weights.h5' from model 'keras/gemma/keras/gemma_2b_en/2' to your Kaggle notebook...\n",
      "Attaching 'tokenizer.json' from model 'keras/gemma/keras/gemma_2b_en/2' to your Kaggle notebook...\n",
      "Attaching 'assets/tokenizer/vocabulary.spm' from model 'keras/gemma/keras/gemma_2b_en/2' to your Kaggle notebook...\n",
      "normalizer.cc(51) LOG(INFO) precompiled_charsmap is empty. use identity normalization.\n"
     ]
    },
    {
     "data": {
      "text/html": [
       "<pre style=\"white-space:pre;overflow-x:auto;line-height:normal;font-family:Menlo,'DejaVu Sans Mono',consolas,'Courier New',monospace\"><span style=\"font-weight: bold\">Preprocessor: \"gemma_causal_lm_preprocessor\"</span>\n",
       "</pre>\n"
      ],
      "text/plain": [
       "\u001b[1mPreprocessor: \"gemma_causal_lm_preprocessor\"\u001b[0m\n"
      ]
     },
     "metadata": {},
     "output_type": "display_data"
    },
    {
     "data": {
      "text/html": [
       "<pre style=\"white-space:pre;overflow-x:auto;line-height:normal;font-family:Menlo,'DejaVu Sans Mono',consolas,'Courier New',monospace\">┏━━━━━━━━━━━━━━━━━━━━━━━━━━━━━━━━━━━━━━━━━━━━━━━━━━━━┳━━━━━━━━━━━━━━━━━━━━━━━━━━━━━━━━━━━━━━━━━━━━━━━━━━━━━┓\n",
       "┃<span style=\"font-weight: bold\"> Tokenizer (type)                                   </span>┃<span style=\"font-weight: bold\">                                             Vocab # </span>┃\n",
       "┡━━━━━━━━━━━━━━━━━━━━━━━━━━━━━━━━━━━━━━━━━━━━━━━━━━━━╇━━━━━━━━━━━━━━━━━━━━━━━━━━━━━━━━━━━━━━━━━━━━━━━━━━━━━┩\n",
       "│ gemma_tokenizer (<span style=\"color: #0087ff; text-decoration-color: #0087ff\">GemmaTokenizer</span>)                   │                                             <span style=\"color: #00af00; text-decoration-color: #00af00\">256,000</span> │\n",
       "└────────────────────────────────────────────────────┴─────────────────────────────────────────────────────┘\n",
       "</pre>\n"
      ],
      "text/plain": [
       "┏━━━━━━━━━━━━━━━━━━━━━━━━━━━━━━━━━━━━━━━━━━━━━━━━━━━━┳━━━━━━━━━━━━━━━━━━━━━━━━━━━━━━━━━━━━━━━━━━━━━━━━━━━━━┓\n",
       "┃\u001b[1m \u001b[0m\u001b[1mTokenizer (type)                                  \u001b[0m\u001b[1m \u001b[0m┃\u001b[1m \u001b[0m\u001b[1m                                            Vocab #\u001b[0m\u001b[1m \u001b[0m┃\n",
       "┡━━━━━━━━━━━━━━━━━━━━━━━━━━━━━━━━━━━━━━━━━━━━━━━━━━━━╇━━━━━━━━━━━━━━━━━━━━━━━━━━━━━━━━━━━━━━━━━━━━━━━━━━━━━┩\n",
       "│ gemma_tokenizer (\u001b[38;5;33mGemmaTokenizer\u001b[0m)                   │                                             \u001b[38;5;34m256,000\u001b[0m │\n",
       "└────────────────────────────────────────────────────┴─────────────────────────────────────────────────────┘\n"
      ]
     },
     "metadata": {},
     "output_type": "display_data"
    },
    {
     "data": {
      "text/html": [
       "<pre style=\"white-space:pre;overflow-x:auto;line-height:normal;font-family:Menlo,'DejaVu Sans Mono',consolas,'Courier New',monospace\"><span style=\"font-weight: bold\">Model: \"gemma_causal_lm\"</span>\n",
       "</pre>\n"
      ],
      "text/plain": [
       "\u001b[1mModel: \"gemma_causal_lm\"\u001b[0m\n"
      ]
     },
     "metadata": {},
     "output_type": "display_data"
    },
    {
     "data": {
      "text/html": [
       "<pre style=\"white-space:pre;overflow-x:auto;line-height:normal;font-family:Menlo,'DejaVu Sans Mono',consolas,'Courier New',monospace\">┏━━━━━━━━━━━━━━━━━━━━━━━━━━━━━━━┳━━━━━━━━━━━━━━━━━━━━━━━━━━━┳━━━━━━━━━━━━━━━━━┳━━━━━━━━━━━━━━━━━━━━━━━━━━━━┓\n",
       "┃<span style=\"font-weight: bold\"> Layer (type)                  </span>┃<span style=\"font-weight: bold\"> Output Shape              </span>┃<span style=\"font-weight: bold\">         Param # </span>┃<span style=\"font-weight: bold\"> Connected to               </span>┃\n",
       "┡━━━━━━━━━━━━━━━━━━━━━━━━━━━━━━━╇━━━━━━━━━━━━━━━━━━━━━━━━━━━╇━━━━━━━━━━━━━━━━━╇━━━━━━━━━━━━━━━━━━━━━━━━━━━━┩\n",
       "│ padding_mask (<span style=\"color: #0087ff; text-decoration-color: #0087ff\">InputLayer</span>)     │ (<span style=\"color: #00d7ff; text-decoration-color: #00d7ff\">None</span>, <span style=\"color: #00d7ff; text-decoration-color: #00d7ff\">None</span>)              │               <span style=\"color: #00af00; text-decoration-color: #00af00\">0</span> │ -                          │\n",
       "├───────────────────────────────┼───────────────────────────┼─────────────────┼────────────────────────────┤\n",
       "│ token_ids (<span style=\"color: #0087ff; text-decoration-color: #0087ff\">InputLayer</span>)        │ (<span style=\"color: #00d7ff; text-decoration-color: #00d7ff\">None</span>, <span style=\"color: #00d7ff; text-decoration-color: #00d7ff\">None</span>)              │               <span style=\"color: #00af00; text-decoration-color: #00af00\">0</span> │ -                          │\n",
       "├───────────────────────────────┼───────────────────────────┼─────────────────┼────────────────────────────┤\n",
       "│ gemma_backbone                │ (<span style=\"color: #00d7ff; text-decoration-color: #00d7ff\">None</span>, <span style=\"color: #00d7ff; text-decoration-color: #00d7ff\">None</span>, <span style=\"color: #00af00; text-decoration-color: #00af00\">2048</span>)        │   <span style=\"color: #00af00; text-decoration-color: #00af00\">2,506,172,416</span> │ padding_mask[<span style=\"color: #00af00; text-decoration-color: #00af00\">0</span>][<span style=\"color: #00af00; text-decoration-color: #00af00\">0</span>],        │\n",
       "│ (<span style=\"color: #0087ff; text-decoration-color: #0087ff\">GemmaBackbone</span>)               │                           │                 │ token_ids[<span style=\"color: #00af00; text-decoration-color: #00af00\">0</span>][<span style=\"color: #00af00; text-decoration-color: #00af00\">0</span>]            │\n",
       "├───────────────────────────────┼───────────────────────────┼─────────────────┼────────────────────────────┤\n",
       "│ token_embedding               │ (<span style=\"color: #00d7ff; text-decoration-color: #00d7ff\">None</span>, <span style=\"color: #00d7ff; text-decoration-color: #00d7ff\">None</span>, <span style=\"color: #00af00; text-decoration-color: #00af00\">256000</span>)      │     <span style=\"color: #00af00; text-decoration-color: #00af00\">524,288,000</span> │ gemma_backbone[<span style=\"color: #00af00; text-decoration-color: #00af00\">0</span>][<span style=\"color: #00af00; text-decoration-color: #00af00\">0</span>]       │\n",
       "│ (<span style=\"color: #0087ff; text-decoration-color: #0087ff\">ReversibleEmbedding</span>)         │                           │                 │                            │\n",
       "└───────────────────────────────┴───────────────────────────┴─────────────────┴────────────────────────────┘\n",
       "</pre>\n"
      ],
      "text/plain": [
       "┏━━━━━━━━━━━━━━━━━━━━━━━━━━━━━━━┳━━━━━━━━━━━━━━━━━━━━━━━━━━━┳━━━━━━━━━━━━━━━━━┳━━━━━━━━━━━━━━━━━━━━━━━━━━━━┓\n",
       "┃\u001b[1m \u001b[0m\u001b[1mLayer (type)                 \u001b[0m\u001b[1m \u001b[0m┃\u001b[1m \u001b[0m\u001b[1mOutput Shape             \u001b[0m\u001b[1m \u001b[0m┃\u001b[1m \u001b[0m\u001b[1m        Param #\u001b[0m\u001b[1m \u001b[0m┃\u001b[1m \u001b[0m\u001b[1mConnected to              \u001b[0m\u001b[1m \u001b[0m┃\n",
       "┡━━━━━━━━━━━━━━━━━━━━━━━━━━━━━━━╇━━━━━━━━━━━━━━━━━━━━━━━━━━━╇━━━━━━━━━━━━━━━━━╇━━━━━━━━━━━━━━━━━━━━━━━━━━━━┩\n",
       "│ padding_mask (\u001b[38;5;33mInputLayer\u001b[0m)     │ (\u001b[38;5;45mNone\u001b[0m, \u001b[38;5;45mNone\u001b[0m)              │               \u001b[38;5;34m0\u001b[0m │ -                          │\n",
       "├───────────────────────────────┼───────────────────────────┼─────────────────┼────────────────────────────┤\n",
       "│ token_ids (\u001b[38;5;33mInputLayer\u001b[0m)        │ (\u001b[38;5;45mNone\u001b[0m, \u001b[38;5;45mNone\u001b[0m)              │               \u001b[38;5;34m0\u001b[0m │ -                          │\n",
       "├───────────────────────────────┼───────────────────────────┼─────────────────┼────────────────────────────┤\n",
       "│ gemma_backbone                │ (\u001b[38;5;45mNone\u001b[0m, \u001b[38;5;45mNone\u001b[0m, \u001b[38;5;34m2048\u001b[0m)        │   \u001b[38;5;34m2,506,172,416\u001b[0m │ padding_mask[\u001b[38;5;34m0\u001b[0m][\u001b[38;5;34m0\u001b[0m],        │\n",
       "│ (\u001b[38;5;33mGemmaBackbone\u001b[0m)               │                           │                 │ token_ids[\u001b[38;5;34m0\u001b[0m][\u001b[38;5;34m0\u001b[0m]            │\n",
       "├───────────────────────────────┼───────────────────────────┼─────────────────┼────────────────────────────┤\n",
       "│ token_embedding               │ (\u001b[38;5;45mNone\u001b[0m, \u001b[38;5;45mNone\u001b[0m, \u001b[38;5;34m256000\u001b[0m)      │     \u001b[38;5;34m524,288,000\u001b[0m │ gemma_backbone[\u001b[38;5;34m0\u001b[0m][\u001b[38;5;34m0\u001b[0m]       │\n",
       "│ (\u001b[38;5;33mReversibleEmbedding\u001b[0m)         │                           │                 │                            │\n",
       "└───────────────────────────────┴───────────────────────────┴─────────────────┴────────────────────────────┘\n"
      ]
     },
     "metadata": {},
     "output_type": "display_data"
    },
    {
     "data": {
      "text/html": [
       "<pre style=\"white-space:pre;overflow-x:auto;line-height:normal;font-family:Menlo,'DejaVu Sans Mono',consolas,'Courier New',monospace\"><span style=\"font-weight: bold\"> Total params: </span><span style=\"color: #00af00; text-decoration-color: #00af00\">2,506,172,416</span> (9.34 GB)\n",
       "</pre>\n"
      ],
      "text/plain": [
       "\u001b[1m Total params: \u001b[0m\u001b[38;5;34m2,506,172,416\u001b[0m (9.34 GB)\n"
      ]
     },
     "metadata": {},
     "output_type": "display_data"
    },
    {
     "data": {
      "text/html": [
       "<pre style=\"white-space:pre;overflow-x:auto;line-height:normal;font-family:Menlo,'DejaVu Sans Mono',consolas,'Courier New',monospace\"><span style=\"font-weight: bold\"> Trainable params: </span><span style=\"color: #00af00; text-decoration-color: #00af00\">2,506,172,416</span> (9.34 GB)\n",
       "</pre>\n"
      ],
      "text/plain": [
       "\u001b[1m Trainable params: \u001b[0m\u001b[38;5;34m2,506,172,416\u001b[0m (9.34 GB)\n"
      ]
     },
     "metadata": {},
     "output_type": "display_data"
    },
    {
     "data": {
      "text/html": [
       "<pre style=\"white-space:pre;overflow-x:auto;line-height:normal;font-family:Menlo,'DejaVu Sans Mono',consolas,'Courier New',monospace\"><span style=\"font-weight: bold\"> Non-trainable params: </span><span style=\"color: #00af00; text-decoration-color: #00af00\">0</span> (0.00 B)\n",
       "</pre>\n"
      ],
      "text/plain": [
       "\u001b[1m Non-trainable params: \u001b[0m\u001b[38;5;34m0\u001b[0m (0.00 B)\n"
      ]
     },
     "metadata": {},
     "output_type": "display_data"
    }
   ],
   "source": [
    "gemma_lm = keras_nlp.models.GemmaCausalLM.from_preset(\"gemma_2b_en\")\n",
    "gemma_lm.summary()"
   ]
  },
  {
   "cell_type": "markdown",
   "id": "60e90e1b",
   "metadata": {
    "papermill": {
     "duration": 0.011516,
     "end_time": "2024-04-01T14:35:35.322187",
     "exception": false,
     "start_time": "2024-04-01T14:35:35.310671",
     "status": "completed"
    },
    "tags": []
   },
   "source": [
    "## Gemma preprocessor"
   ]
  },
  {
   "cell_type": "code",
   "execution_count": 9,
   "id": "820f97a2",
   "metadata": {
    "execution": {
     "iopub.execute_input": "2024-04-01T14:35:35.346450Z",
     "iopub.status.busy": "2024-04-01T14:35:35.346114Z",
     "iopub.status.idle": "2024-04-01T14:35:35.688659Z",
     "shell.execute_reply": "2024-04-01T14:35:35.687686Z"
    },
    "papermill": {
     "duration": 0.357794,
     "end_time": "2024-04-01T14:35:35.691108",
     "exception": false,
     "start_time": "2024-04-01T14:35:35.333314",
     "status": "completed"
    },
    "tags": []
   },
   "outputs": [],
   "source": [
    "x, y, sample_weight = gemma_lm.preprocessor(data[0:1])"
   ]
  },
  {
   "cell_type": "markdown",
   "id": "b5a9f7bc",
   "metadata": {
    "papermill": {
     "duration": 0.010978,
     "end_time": "2024-04-01T14:35:35.713369",
     "exception": false,
     "start_time": "2024-04-01T14:35:35.702391",
     "status": "completed"
    },
    "tags": []
   },
   "source": [
    "## Enable LoRA for the model\n",
    "\n",
    "We set LoRA rank to 5. The higher the LoRA rank, the higher the number of trainable parameters."
   ]
  },
  {
   "cell_type": "code",
   "execution_count": 10,
   "id": "3aa43892",
   "metadata": {
    "execution": {
     "iopub.execute_input": "2024-04-01T14:35:35.737558Z",
     "iopub.status.busy": "2024-04-01T14:35:35.736751Z",
     "iopub.status.idle": "2024-04-01T14:35:36.200777Z",
     "shell.execute_reply": "2024-04-01T14:35:36.199814Z"
    },
    "papermill": {
     "duration": 0.478477,
     "end_time": "2024-04-01T14:35:36.202985",
     "exception": false,
     "start_time": "2024-04-01T14:35:35.724508",
     "status": "completed"
    },
    "tags": []
   },
   "outputs": [
    {
     "data": {
      "text/html": [
       "<pre style=\"white-space:pre;overflow-x:auto;line-height:normal;font-family:Menlo,'DejaVu Sans Mono',consolas,'Courier New',monospace\"><span style=\"font-weight: bold\">Preprocessor: \"gemma_causal_lm_preprocessor\"</span>\n",
       "</pre>\n"
      ],
      "text/plain": [
       "\u001b[1mPreprocessor: \"gemma_causal_lm_preprocessor\"\u001b[0m\n"
      ]
     },
     "metadata": {},
     "output_type": "display_data"
    },
    {
     "data": {
      "text/html": [
       "<pre style=\"white-space:pre;overflow-x:auto;line-height:normal;font-family:Menlo,'DejaVu Sans Mono',consolas,'Courier New',monospace\">┏━━━━━━━━━━━━━━━━━━━━━━━━━━━━━━━━━━━━━━━━━━━━━━━━━━━━┳━━━━━━━━━━━━━━━━━━━━━━━━━━━━━━━━━━━━━━━━━━━━━━━━━━━━━┓\n",
       "┃<span style=\"font-weight: bold\"> Tokenizer (type)                                   </span>┃<span style=\"font-weight: bold\">                                             Vocab # </span>┃\n",
       "┡━━━━━━━━━━━━━━━━━━━━━━━━━━━━━━━━━━━━━━━━━━━━━━━━━━━━╇━━━━━━━━━━━━━━━━━━━━━━━━━━━━━━━━━━━━━━━━━━━━━━━━━━━━━┩\n",
       "│ gemma_tokenizer (<span style=\"color: #0087ff; text-decoration-color: #0087ff\">GemmaTokenizer</span>)                   │                                             <span style=\"color: #00af00; text-decoration-color: #00af00\">256,000</span> │\n",
       "└────────────────────────────────────────────────────┴─────────────────────────────────────────────────────┘\n",
       "</pre>\n"
      ],
      "text/plain": [
       "┏━━━━━━━━━━━━━━━━━━━━━━━━━━━━━━━━━━━━━━━━━━━━━━━━━━━━┳━━━━━━━━━━━━━━━━━━━━━━━━━━━━━━━━━━━━━━━━━━━━━━━━━━━━━┓\n",
       "┃\u001b[1m \u001b[0m\u001b[1mTokenizer (type)                                  \u001b[0m\u001b[1m \u001b[0m┃\u001b[1m \u001b[0m\u001b[1m                                            Vocab #\u001b[0m\u001b[1m \u001b[0m┃\n",
       "┡━━━━━━━━━━━━━━━━━━━━━━━━━━━━━━━━━━━━━━━━━━━━━━━━━━━━╇━━━━━━━━━━━━━━━━━━━━━━━━━━━━━━━━━━━━━━━━━━━━━━━━━━━━━┩\n",
       "│ gemma_tokenizer (\u001b[38;5;33mGemmaTokenizer\u001b[0m)                   │                                             \u001b[38;5;34m256,000\u001b[0m │\n",
       "└────────────────────────────────────────────────────┴─────────────────────────────────────────────────────┘\n"
      ]
     },
     "metadata": {},
     "output_type": "display_data"
    },
    {
     "data": {
      "text/html": [
       "<pre style=\"white-space:pre;overflow-x:auto;line-height:normal;font-family:Menlo,'DejaVu Sans Mono',consolas,'Courier New',monospace\"><span style=\"font-weight: bold\">Model: \"gemma_causal_lm\"</span>\n",
       "</pre>\n"
      ],
      "text/plain": [
       "\u001b[1mModel: \"gemma_causal_lm\"\u001b[0m\n"
      ]
     },
     "metadata": {},
     "output_type": "display_data"
    },
    {
     "data": {
      "text/html": [
       "<pre style=\"white-space:pre;overflow-x:auto;line-height:normal;font-family:Menlo,'DejaVu Sans Mono',consolas,'Courier New',monospace\">┏━━━━━━━━━━━━━━━━━━━━━━━━━━━━━━━┳━━━━━━━━━━━━━━━━━━━━━━━━━━━┳━━━━━━━━━━━━━━━━━┳━━━━━━━━━━━━━━━━━━━━━━━━━━━━┓\n",
       "┃<span style=\"font-weight: bold\"> Layer (type)                  </span>┃<span style=\"font-weight: bold\"> Output Shape              </span>┃<span style=\"font-weight: bold\">         Param # </span>┃<span style=\"font-weight: bold\"> Connected to               </span>┃\n",
       "┡━━━━━━━━━━━━━━━━━━━━━━━━━━━━━━━╇━━━━━━━━━━━━━━━━━━━━━━━━━━━╇━━━━━━━━━━━━━━━━━╇━━━━━━━━━━━━━━━━━━━━━━━━━━━━┩\n",
       "│ padding_mask (<span style=\"color: #0087ff; text-decoration-color: #0087ff\">InputLayer</span>)     │ (<span style=\"color: #00d7ff; text-decoration-color: #00d7ff\">None</span>, <span style=\"color: #00d7ff; text-decoration-color: #00d7ff\">None</span>)              │               <span style=\"color: #00af00; text-decoration-color: #00af00\">0</span> │ -                          │\n",
       "├───────────────────────────────┼───────────────────────────┼─────────────────┼────────────────────────────┤\n",
       "│ token_ids (<span style=\"color: #0087ff; text-decoration-color: #0087ff\">InputLayer</span>)        │ (<span style=\"color: #00d7ff; text-decoration-color: #00d7ff\">None</span>, <span style=\"color: #00d7ff; text-decoration-color: #00d7ff\">None</span>)              │               <span style=\"color: #00af00; text-decoration-color: #00af00\">0</span> │ -                          │\n",
       "├───────────────────────────────┼───────────────────────────┼─────────────────┼────────────────────────────┤\n",
       "│ gemma_backbone                │ (<span style=\"color: #00d7ff; text-decoration-color: #00d7ff\">None</span>, <span style=\"color: #00d7ff; text-decoration-color: #00d7ff\">None</span>, <span style=\"color: #00af00; text-decoration-color: #00af00\">2048</span>)        │   <span style=\"color: #00af00; text-decoration-color: #00af00\">2,507,877,376</span> │ padding_mask[<span style=\"color: #00af00; text-decoration-color: #00af00\">0</span>][<span style=\"color: #00af00; text-decoration-color: #00af00\">0</span>],        │\n",
       "│ (<span style=\"color: #0087ff; text-decoration-color: #0087ff\">GemmaBackbone</span>)               │                           │                 │ token_ids[<span style=\"color: #00af00; text-decoration-color: #00af00\">0</span>][<span style=\"color: #00af00; text-decoration-color: #00af00\">0</span>]            │\n",
       "├───────────────────────────────┼───────────────────────────┼─────────────────┼────────────────────────────┤\n",
       "│ token_embedding               │ (<span style=\"color: #00d7ff; text-decoration-color: #00d7ff\">None</span>, <span style=\"color: #00d7ff; text-decoration-color: #00d7ff\">None</span>, <span style=\"color: #00af00; text-decoration-color: #00af00\">256000</span>)      │     <span style=\"color: #00af00; text-decoration-color: #00af00\">524,288,000</span> │ gemma_backbone[<span style=\"color: #00af00; text-decoration-color: #00af00\">0</span>][<span style=\"color: #00af00; text-decoration-color: #00af00\">0</span>]       │\n",
       "│ (<span style=\"color: #0087ff; text-decoration-color: #0087ff\">ReversibleEmbedding</span>)         │                           │                 │                            │\n",
       "└───────────────────────────────┴───────────────────────────┴─────────────────┴────────────────────────────┘\n",
       "</pre>\n"
      ],
      "text/plain": [
       "┏━━━━━━━━━━━━━━━━━━━━━━━━━━━━━━━┳━━━━━━━━━━━━━━━━━━━━━━━━━━━┳━━━━━━━━━━━━━━━━━┳━━━━━━━━━━━━━━━━━━━━━━━━━━━━┓\n",
       "┃\u001b[1m \u001b[0m\u001b[1mLayer (type)                 \u001b[0m\u001b[1m \u001b[0m┃\u001b[1m \u001b[0m\u001b[1mOutput Shape             \u001b[0m\u001b[1m \u001b[0m┃\u001b[1m \u001b[0m\u001b[1m        Param #\u001b[0m\u001b[1m \u001b[0m┃\u001b[1m \u001b[0m\u001b[1mConnected to              \u001b[0m\u001b[1m \u001b[0m┃\n",
       "┡━━━━━━━━━━━━━━━━━━━━━━━━━━━━━━━╇━━━━━━━━━━━━━━━━━━━━━━━━━━━╇━━━━━━━━━━━━━━━━━╇━━━━━━━━━━━━━━━━━━━━━━━━━━━━┩\n",
       "│ padding_mask (\u001b[38;5;33mInputLayer\u001b[0m)     │ (\u001b[38;5;45mNone\u001b[0m, \u001b[38;5;45mNone\u001b[0m)              │               \u001b[38;5;34m0\u001b[0m │ -                          │\n",
       "├───────────────────────────────┼───────────────────────────┼─────────────────┼────────────────────────────┤\n",
       "│ token_ids (\u001b[38;5;33mInputLayer\u001b[0m)        │ (\u001b[38;5;45mNone\u001b[0m, \u001b[38;5;45mNone\u001b[0m)              │               \u001b[38;5;34m0\u001b[0m │ -                          │\n",
       "├───────────────────────────────┼───────────────────────────┼─────────────────┼────────────────────────────┤\n",
       "│ gemma_backbone                │ (\u001b[38;5;45mNone\u001b[0m, \u001b[38;5;45mNone\u001b[0m, \u001b[38;5;34m2048\u001b[0m)        │   \u001b[38;5;34m2,507,877,376\u001b[0m │ padding_mask[\u001b[38;5;34m0\u001b[0m][\u001b[38;5;34m0\u001b[0m],        │\n",
       "│ (\u001b[38;5;33mGemmaBackbone\u001b[0m)               │                           │                 │ token_ids[\u001b[38;5;34m0\u001b[0m][\u001b[38;5;34m0\u001b[0m]            │\n",
       "├───────────────────────────────┼───────────────────────────┼─────────────────┼────────────────────────────┤\n",
       "│ token_embedding               │ (\u001b[38;5;45mNone\u001b[0m, \u001b[38;5;45mNone\u001b[0m, \u001b[38;5;34m256000\u001b[0m)      │     \u001b[38;5;34m524,288,000\u001b[0m │ gemma_backbone[\u001b[38;5;34m0\u001b[0m][\u001b[38;5;34m0\u001b[0m]       │\n",
       "│ (\u001b[38;5;33mReversibleEmbedding\u001b[0m)         │                           │                 │                            │\n",
       "└───────────────────────────────┴───────────────────────────┴─────────────────┴────────────────────────────┘\n"
      ]
     },
     "metadata": {},
     "output_type": "display_data"
    },
    {
     "data": {
      "text/html": [
       "<pre style=\"white-space:pre;overflow-x:auto;line-height:normal;font-family:Menlo,'DejaVu Sans Mono',consolas,'Courier New',monospace\"><span style=\"font-weight: bold\"> Total params: </span><span style=\"color: #00af00; text-decoration-color: #00af00\">2,507,877,376</span> (9.34 GB)\n",
       "</pre>\n"
      ],
      "text/plain": [
       "\u001b[1m Total params: \u001b[0m\u001b[38;5;34m2,507,877,376\u001b[0m (9.34 GB)\n"
      ]
     },
     "metadata": {},
     "output_type": "display_data"
    },
    {
     "data": {
      "text/html": [
       "<pre style=\"white-space:pre;overflow-x:auto;line-height:normal;font-family:Menlo,'DejaVu Sans Mono',consolas,'Courier New',monospace\"><span style=\"font-weight: bold\"> Trainable params: </span><span style=\"color: #00af00; text-decoration-color: #00af00\">1,704,960</span> (6.50 MB)\n",
       "</pre>\n"
      ],
      "text/plain": [
       "\u001b[1m Trainable params: \u001b[0m\u001b[38;5;34m1,704,960\u001b[0m (6.50 MB)\n"
      ]
     },
     "metadata": {},
     "output_type": "display_data"
    },
    {
     "data": {
      "text/html": [
       "<pre style=\"white-space:pre;overflow-x:auto;line-height:normal;font-family:Menlo,'DejaVu Sans Mono',consolas,'Courier New',monospace\"><span style=\"font-weight: bold\"> Non-trainable params: </span><span style=\"color: #00af00; text-decoration-color: #00af00\">2,506,172,416</span> (9.34 GB)\n",
       "</pre>\n"
      ],
      "text/plain": [
       "\u001b[1m Non-trainable params: \u001b[0m\u001b[38;5;34m2,506,172,416\u001b[0m (9.34 GB)\n"
      ]
     },
     "metadata": {},
     "output_type": "display_data"
    }
   ],
   "source": [
    "# Enable LoRA for the model and set the LoRA rank to 5.\n",
    "gemma_lm.backbone.enable_lora(rank=5)\n",
    "gemma_lm.summary()"
   ]
  },
  {
   "cell_type": "markdown",
   "id": "6e149fae",
   "metadata": {
    "papermill": {
     "duration": 0.011919,
     "end_time": "2024-04-01T14:35:36.227749",
     "exception": false,
     "start_time": "2024-04-01T14:35:36.215830",
     "status": "completed"
    },
    "tags": []
   },
   "source": [
    "The total trainable parameters is 1.7 M (or 6.5 MB).  \n",
    "This is less than 0.06% of the 2,5G (9.35 GB) total trainable parameters."
   ]
  },
  {
   "cell_type": "markdown",
   "id": "10105e07",
   "metadata": {
    "papermill": {
     "duration": 0.011843,
     "end_time": "2024-04-01T14:35:36.251637",
     "exception": false,
     "start_time": "2024-04-01T14:35:36.239794",
     "status": "completed"
    },
    "tags": []
   },
   "source": [
    "## Run the fine-tuning sequence"
   ]
  },
  {
   "cell_type": "code",
   "execution_count": 11,
   "id": "47b51763",
   "metadata": {
    "execution": {
     "iopub.execute_input": "2024-04-01T14:35:36.277235Z",
     "iopub.status.busy": "2024-04-01T14:35:36.276578Z",
     "iopub.status.idle": "2024-04-01T14:56:10.675172Z",
     "shell.execute_reply": "2024-04-01T14:56:10.674208Z"
    },
    "papermill": {
     "duration": 1234.413658,
     "end_time": "2024-04-01T14:56:10.677198",
     "exception": false,
     "start_time": "2024-04-01T14:35:36.263540",
     "status": "completed"
    },
    "tags": []
   },
   "outputs": [
    {
     "name": "stdout",
     "output_type": "stream",
     "text": [
      "Epoch 1/10\n",
      "\u001b[1m166/166\u001b[0m \u001b[32m━━━━━━━━━━━━━━━━━━━━\u001b[0m\u001b[37m\u001b[0m \u001b[1m143s\u001b[0m 733ms/step - loss: 0.5137 - sparse_categorical_accuracy: 0.5402\n",
      "Epoch 2/10\n",
      "\u001b[1m166/166\u001b[0m \u001b[32m━━━━━━━━━━━━━━━━━━━━\u001b[0m\u001b[37m\u001b[0m \u001b[1m121s\u001b[0m 728ms/step - loss: 0.4342 - sparse_categorical_accuracy: 0.5783\n",
      "Epoch 3/10\n",
      "\u001b[1m166/166\u001b[0m \u001b[32m━━━━━━━━━━━━━━━━━━━━\u001b[0m\u001b[37m\u001b[0m \u001b[1m121s\u001b[0m 728ms/step - loss: 0.4123 - sparse_categorical_accuracy: 0.5927\n",
      "Epoch 4/10\n",
      "\u001b[1m166/166\u001b[0m \u001b[32m━━━━━━━━━━━━━━━━━━━━\u001b[0m\u001b[37m\u001b[0m \u001b[1m121s\u001b[0m 728ms/step - loss: 0.3994 - sparse_categorical_accuracy: 0.6016\n",
      "Epoch 5/10\n",
      "\u001b[1m166/166\u001b[0m \u001b[32m━━━━━━━━━━━━━━━━━━━━\u001b[0m\u001b[37m\u001b[0m \u001b[1m121s\u001b[0m 728ms/step - loss: 0.3898 - sparse_categorical_accuracy: 0.6081\n",
      "Epoch 6/10\n",
      "\u001b[1m166/166\u001b[0m \u001b[32m━━━━━━━━━━━━━━━━━━━━\u001b[0m\u001b[37m\u001b[0m \u001b[1m121s\u001b[0m 728ms/step - loss: 0.3777 - sparse_categorical_accuracy: 0.6162\n",
      "Epoch 7/10\n",
      "\u001b[1m166/166\u001b[0m \u001b[32m━━━━━━━━━━━━━━━━━━━━\u001b[0m\u001b[37m\u001b[0m \u001b[1m121s\u001b[0m 728ms/step - loss: 0.3622 - sparse_categorical_accuracy: 0.6280\n",
      "Epoch 8/10\n",
      "\u001b[1m166/166\u001b[0m \u001b[32m━━━━━━━━━━━━━━━━━━━━\u001b[0m\u001b[37m\u001b[0m \u001b[1m121s\u001b[0m 728ms/step - loss: 0.3435 - sparse_categorical_accuracy: 0.6436\n",
      "Epoch 9/10\n",
      "\u001b[1m166/166\u001b[0m \u001b[32m━━━━━━━━━━━━━━━━━━━━\u001b[0m\u001b[37m\u001b[0m \u001b[1m121s\u001b[0m 728ms/step - loss: 0.3208 - sparse_categorical_accuracy: 0.6625\n",
      "Epoch 10/10\n",
      "\u001b[1m166/166\u001b[0m \u001b[32m━━━━━━━━━━━━━━━━━━━━\u001b[0m\u001b[37m\u001b[0m \u001b[1m121s\u001b[0m 728ms/step - loss: 0.2951 - sparse_categorical_accuracy: 0.6858\n"
     ]
    },
    {
     "data": {
      "text/plain": [
       "<keras.src.callbacks.history.History at 0x7843602a77f0>"
      ]
     },
     "execution_count": 11,
     "metadata": {},
     "output_type": "execute_result"
    }
   ],
   "source": [
    "# Limit the input sequence length to 512 (to control memory usage).\n",
    "gemma_lm.preprocessor.sequence_length = Config.sequence_length \n",
    "\n",
    "# Compile the model with loss, optimizer, and metric\n",
    "gemma_lm.compile(\n",
    "    loss=keras.losses.SparseCategoricalCrossentropy(from_logits=True),\n",
    "    optimizer=keras.optimizers.Adam(learning_rate=8e-5),\n",
    "    weighted_metrics=[keras.metrics.SparseCategoricalAccuracy()],\n",
    ")\n",
    "\n",
    "# Train model\n",
    "gemma_lm.fit(data, epochs=Config.epochs, batch_size=Config.batch_size)"
   ]
  },
  {
   "cell_type": "markdown",
   "id": "d00ea8b8",
   "metadata": {
    "papermill": {
     "duration": 0.15443,
     "end_time": "2024-04-01T14:56:10.984522",
     "exception": false,
     "start_time": "2024-04-01T14:56:10.830092",
     "status": "completed"
    },
    "tags": []
   },
   "source": [
    "# Test the fine-tuned model"
   ]
  },
  {
   "cell_type": "markdown",
   "id": "1b5a4302",
   "metadata": {
    "papermill": {
     "duration": 0.151045,
     "end_time": "2024-04-01T14:56:11.337734",
     "exception": false,
     "start_time": "2024-04-01T14:56:11.186689",
     "status": "completed"
    },
    "tags": []
   },
   "source": [
    "## Define the specialized class"
   ]
  },
  {
   "cell_type": "code",
   "execution_count": 12,
   "id": "39619548",
   "metadata": {
    "execution": {
     "iopub.execute_input": "2024-04-01T14:56:11.648728Z",
     "iopub.status.busy": "2024-04-01T14:56:11.648319Z",
     "iopub.status.idle": "2024-04-01T14:56:11.654588Z",
     "shell.execute_reply": "2024-04-01T14:56:11.653731Z"
    },
    "papermill": {
     "duration": 0.161574,
     "end_time": "2024-04-01T14:56:11.656549",
     "exception": false,
     "start_time": "2024-04-01T14:56:11.494975",
     "status": "completed"
    },
    "tags": []
   },
   "outputs": [],
   "source": [
    "class GemmaQA:\n",
    "    def __init__(self, max_length=512):\n",
    "        self.max_length = max_length\n",
    "        self.prompt = template\n",
    "        self.gemma_lm = gemma_lm\n",
    "        \n",
    "    def query(self, question):\n",
    "        response = self.gemma_lm.generate(\n",
    "            self.prompt.format(\n",
    "                question=question,\n",
    "                answer=\"\"), \n",
    "            max_length=self.max_length)\n",
    "        display(Markdown(colorize_text(response)))\n",
    "        "
   ]
  },
  {
   "cell_type": "code",
   "execution_count": 13,
   "id": "fbe1abc9",
   "metadata": {
    "execution": {
     "iopub.execute_input": "2024-04-01T14:56:11.964817Z",
     "iopub.status.busy": "2024-04-01T14:56:11.963964Z",
     "iopub.status.idle": "2024-04-01T14:56:11.968391Z",
     "shell.execute_reply": "2024-04-01T14:56:11.967471Z"
    },
    "papermill": {
     "duration": 0.159718,
     "end_time": "2024-04-01T14:56:11.970306",
     "exception": false,
     "start_time": "2024-04-01T14:56:11.810588",
     "status": "completed"
    },
    "tags": []
   },
   "outputs": [],
   "source": [
    "gemma_qa = GemmaQA()"
   ]
  },
  {
   "cell_type": "markdown",
   "id": "3a466e9b",
   "metadata": {
    "papermill": {
     "duration": 0.150668,
     "end_time": "2024-04-01T14:56:12.272702",
     "exception": false,
     "start_time": "2024-04-01T14:56:12.122034",
     "status": "completed"
    },
    "tags": []
   },
   "source": [
    "## Test 1"
   ]
  },
  {
   "cell_type": "code",
   "execution_count": 14,
   "id": "56f3ba82",
   "metadata": {
    "execution": {
     "iopub.execute_input": "2024-04-01T14:56:12.603092Z",
     "iopub.status.busy": "2024-04-01T14:56:12.602019Z",
     "iopub.status.idle": "2024-04-01T14:56:28.168789Z",
     "shell.execute_reply": "2024-04-01T14:56:28.167843Z"
    },
    "papermill": {
     "duration": 15.722022,
     "end_time": "2024-04-01T14:56:28.170876",
     "exception": false,
     "start_time": "2024-04-01T14:56:12.448854",
     "status": "completed"
    },
    "tags": []
   },
   "outputs": [
    {
     "data": {
      "text/markdown": [
       "\n",
       "\n",
       "**<font color='blue'>Question:</font>**\n",
       "How do we check if a variable follows the normal distribution? ‍⭐️\n",
       "\n",
       "**<font color='red'>Answer:</font>**\n",
       "1. Calculate the mean of the variable.\n",
       "2. Calculate the standard deviation of the variable.\n",
       "3. Calculate the standard error of the variable as follows: standard_error = standard_deviation / squareroot(n)\n",
       "4. Calculate z-score as: z-score = (x - mean) / standard_error\n",
       "5. If z-score > 2 or lower than -2, then the variable follows the normal distribution."
      ],
      "text/plain": [
       "<IPython.core.display.Markdown object>"
      ]
     },
     "metadata": {},
     "output_type": "display_data"
    }
   ],
   "source": [
    "row = df.iloc[5]\n",
    "gemma_qa.query(row.question)"
   ]
  },
  {
   "cell_type": "markdown",
   "id": "d73294c7",
   "metadata": {
    "papermill": {
     "duration": 0.165284,
     "end_time": "2024-04-01T14:56:28.486368",
     "exception": false,
     "start_time": "2024-04-01T14:56:28.321084",
     "status": "completed"
    },
    "tags": []
   },
   "source": [
    "## Test 2"
   ]
  },
  {
   "cell_type": "code",
   "execution_count": 15,
   "id": "ba8d55dc",
   "metadata": {
    "execution": {
     "iopub.execute_input": "2024-04-01T14:56:28.838426Z",
     "iopub.status.busy": "2024-04-01T14:56:28.837448Z",
     "iopub.status.idle": "2024-04-01T14:56:32.831461Z",
     "shell.execute_reply": "2024-04-01T14:56:32.830457Z"
    },
    "papermill": {
     "duration": 4.163582,
     "end_time": "2024-04-01T14:56:32.833512",
     "exception": false,
     "start_time": "2024-04-01T14:56:28.669930",
     "status": "completed"
    },
    "tags": []
   },
   "outputs": [
    {
     "data": {
      "text/markdown": [
       "\n",
       "\n",
       "**<font color='blue'>Question:</font>**\n",
       "What is SGD  —  stochastic gradient descent? What’s the difference with the usual gradient descent? ‍⭐️\n",
       "\n",
       "**<font color='red'>Answer:</font>**\n",
       "SGD stands for Stochastic Gradient Descent and it's an algorithm for training machine learning models. In this algorithm, the model parameters are updated for each training example. The difference with usual gradient descent is that in the former algorithm, the gradient descent is performed on a randomly sampled training example, while in the latter, the gradient is calculated on the entire training set. The goal of SGD is to find the global minimum, while the gradient descent tries to find the local minimum. \n",
       "\n",
       "**Disclaimer**\n",
       "**The answers provided here are our own research on Quora and are not official answers. Please consult an expert before making any buying/selling decision based on our research.**"
      ],
      "text/plain": [
       "<IPython.core.display.Markdown object>"
      ]
     },
     "metadata": {},
     "output_type": "display_data"
    }
   ],
   "source": [
    "row = df.iloc[10]\n",
    "gemma_qa.query(row.question)"
   ]
  },
  {
   "cell_type": "markdown",
   "id": "6f507043",
   "metadata": {
    "papermill": {
     "duration": 0.148956,
     "end_time": "2024-04-01T14:56:33.138748",
     "exception": false,
     "start_time": "2024-04-01T14:56:32.989792",
     "status": "completed"
    },
    "tags": []
   },
   "source": [
    "# Test 3"
   ]
  },
  {
   "cell_type": "code",
   "execution_count": 16,
   "id": "14437e84",
   "metadata": {
    "execution": {
     "iopub.execute_input": "2024-04-01T14:56:33.443039Z",
     "iopub.status.busy": "2024-04-01T14:56:33.442698Z",
     "iopub.status.idle": "2024-04-01T14:56:34.870501Z",
     "shell.execute_reply": "2024-04-01T14:56:34.869476Z"
    },
    "papermill": {
     "duration": 1.585151,
     "end_time": "2024-04-01T14:56:34.872732",
     "exception": false,
     "start_time": "2024-04-01T14:56:33.287581",
     "status": "completed"
    },
    "tags": []
   },
   "outputs": [
    {
     "data": {
      "text/markdown": [
       "\n",
       "\n",
       "**<font color='blue'>Question:</font>**\n",
       "How to validate your models? 👶\n",
       "\n",
       "**<font color='red'>Answer:</font>**\n",
       "Validation is the process of using a training set to build a model, and then using the model to predict on the validation set, and then using the validation loss as a metric to evaluate the model."
      ],
      "text/plain": [
       "<IPython.core.display.Markdown object>"
      ]
     },
     "metadata": {},
     "output_type": "display_data"
    }
   ],
   "source": [
    "row = df.iloc[15]\n",
    "gemma_qa.query(row.question)"
   ]
  },
  {
   "cell_type": "markdown",
   "id": "d7b01388",
   "metadata": {
    "papermill": {
     "duration": 0.151928,
     "end_time": "2024-04-01T14:56:35.182245",
     "exception": false,
     "start_time": "2024-04-01T14:56:35.030317",
     "status": "completed"
    },
    "tags": []
   },
   "source": [
    "## Fresh question 1"
   ]
  },
  {
   "cell_type": "code",
   "execution_count": 17,
   "id": "3e385df7",
   "metadata": {
    "execution": {
     "iopub.execute_input": "2024-04-01T14:56:35.489517Z",
     "iopub.status.busy": "2024-04-01T14:56:35.488744Z",
     "iopub.status.idle": "2024-04-01T14:56:36.612089Z",
     "shell.execute_reply": "2024-04-01T14:56:36.611077Z"
    },
    "papermill": {
     "duration": 1.279872,
     "end_time": "2024-04-01T14:56:36.614390",
     "exception": false,
     "start_time": "2024-04-01T14:56:35.334518",
     "status": "completed"
    },
    "tags": []
   },
   "outputs": [
    {
     "data": {
      "text/markdown": [
       "\n",
       "\n",
       "**<font color='blue'>Question:</font>**\n",
       "What is regularization?\n",
       "\n",
       "**<font color='red'>Answer:</font>**\n",
       "Regularization is a technique to reduce overfitting of the models. It does it by adding penalty terms to the original cost functions of the models."
      ],
      "text/plain": [
       "<IPython.core.display.Markdown object>"
      ]
     },
     "metadata": {},
     "output_type": "display_data"
    }
   ],
   "source": [
    "question = \"What is regularization?\"\n",
    "gemma_qa.query(question)"
   ]
  },
  {
   "cell_type": "markdown",
   "id": "1a13523c",
   "metadata": {
    "papermill": {
     "duration": 0.153585,
     "end_time": "2024-04-01T14:56:36.922364",
     "exception": false,
     "start_time": "2024-04-01T14:56:36.768779",
     "status": "completed"
    },
    "tags": []
   },
   "source": [
    "## Fresh question 2"
   ]
  },
  {
   "cell_type": "code",
   "execution_count": 18,
   "id": "f4de1c44",
   "metadata": {
    "execution": {
     "iopub.execute_input": "2024-04-01T14:56:37.234262Z",
     "iopub.status.busy": "2024-04-01T14:56:37.233399Z",
     "iopub.status.idle": "2024-04-01T14:56:38.907938Z",
     "shell.execute_reply": "2024-04-01T14:56:38.906892Z"
    },
    "papermill": {
     "duration": 1.83189,
     "end_time": "2024-04-01T14:56:38.910053",
     "exception": false,
     "start_time": "2024-04-01T14:56:37.078163",
     "status": "completed"
    },
    "tags": []
   },
   "outputs": [
    {
     "data": {
      "text/markdown": [
       "\n",
       "\n",
       "**<font color='blue'>Question:</font>**\n",
       "What is SVM?\n",
       "\n",
       "**<font color='red'>Answer:</font>**\n",
       "Support Vector Machine (SVM) is one of the supervised machine learning algorithms. It works on the concept of maximizing the margin for better classification. The model finds the optimal hyperplane that separates two classes of data points in a multi-dimensional space."
      ],
      "text/plain": [
       "<IPython.core.display.Markdown object>"
      ]
     },
     "metadata": {},
     "output_type": "display_data"
    }
   ],
   "source": [
    "question = \"What is SVM?\"\n",
    "gemma_qa.query(question)"
   ]
  },
  {
   "cell_type": "markdown",
   "id": "06f22f38",
   "metadata": {
    "papermill": {
     "duration": 0.153623,
     "end_time": "2024-04-01T14:56:39.224600",
     "exception": false,
     "start_time": "2024-04-01T14:56:39.070977",
     "status": "completed"
    },
    "tags": []
   },
   "source": [
    "## Fresh question 3"
   ]
  },
  {
   "cell_type": "code",
   "execution_count": 19,
   "id": "34b6f84f",
   "metadata": {
    "execution": {
     "iopub.execute_input": "2024-04-01T14:56:39.536101Z",
     "iopub.status.busy": "2024-04-01T14:56:39.535346Z",
     "iopub.status.idle": "2024-04-01T14:56:40.685546Z",
     "shell.execute_reply": "2024-04-01T14:56:40.684521Z"
    },
    "papermill": {
     "duration": 1.30817,
     "end_time": "2024-04-01T14:56:40.687531",
     "exception": false,
     "start_time": "2024-04-01T14:56:39.379361",
     "status": "completed"
    },
    "tags": []
   },
   "outputs": [
    {
     "data": {
      "text/markdown": [
       "\n",
       "\n",
       "**<font color='blue'>Question:</font>**\n",
       "What is Dropout?\n",
       "\n",
       "**<font color='red'>Answer:</font>**\n",
       "Dropout consists of a simple technique to reduce Overfitting. In this technique, we set some nodes in the network to 0, randomly or periodically."
      ],
      "text/plain": [
       "<IPython.core.display.Markdown object>"
      ]
     },
     "metadata": {},
     "output_type": "display_data"
    }
   ],
   "source": [
    "question = \"What is Dropout?\"\n",
    "gemma_qa.query(question)"
   ]
  },
  {
   "cell_type": "markdown",
   "id": "2bfda972",
   "metadata": {
    "papermill": {
     "duration": 0.203311,
     "end_time": "2024-04-01T14:56:41.043701",
     "exception": false,
     "start_time": "2024-04-01T14:56:40.840390",
     "status": "completed"
    },
    "tags": []
   },
   "source": [
    "# Conclusions\n",
    "\n",
    "\n",
    "We fine-tuned Gemma with a set of Data Science interview question and answers.   \n",
    "Then we tested the model with questions from the dataset used for fine-tuning.  \n",
    "At the end, we also tested with some questions that were not in the dataset."
   ]
  }
 ],
 "metadata": {
  "kaggle": {
   "accelerator": "gpu",
   "dataSources": [
    {
     "databundleVersionId": 7669720,
     "sourceId": 64148,
     "sourceType": "competition"
    },
    {
     "datasetId": 4498747,
     "sourceId": 7705679,
     "sourceType": "datasetVersion"
    },
    {
     "modelInstanceId": 5171,
     "sourceId": 11371,
     "sourceType": "modelInstanceVersion"
    }
   ],
   "dockerImageVersionId": 30674,
   "isGpuEnabled": true,
   "isInternetEnabled": true,
   "language": "python",
   "sourceType": "notebook"
  },
  "kernelspec": {
   "display_name": "Python 3",
   "language": "python",
   "name": "python3"
  },
  "language_info": {
   "codemirror_mode": {
    "name": "ipython",
    "version": 3
   },
   "file_extension": ".py",
   "mimetype": "text/x-python",
   "name": "python",
   "nbconvert_exporter": "python",
   "pygments_lexer": "ipython3",
   "version": "3.10.13"
  },
  "papermill": {
   "default_parameters": {},
   "duration": 1371.901561,
   "end_time": "2024-04-01T14:56:45.033311",
   "environment_variables": {},
   "exception": null,
   "input_path": "__notebook__.ipynb",
   "output_path": "__notebook__.ipynb",
   "parameters": {},
   "start_time": "2024-04-01T14:33:53.131750",
   "version": "2.5.0"
  },
  "widgets": {
   "application/vnd.jupyter.widget-state+json": {
    "state": {
     "039c70e36121408787e3ada6632719e5": {
      "model_module": "@jupyter-widgets/controls",
      "model_module_version": "1.5.0",
      "model_name": "FloatProgressModel",
      "state": {
       "_dom_classes": [],
       "_model_module": "@jupyter-widgets/controls",
       "_model_module_version": "1.5.0",
       "_model_name": "FloatProgressModel",
       "_view_count": null,
       "_view_module": "@jupyter-widgets/controls",
       "_view_module_version": "1.5.0",
       "_view_name": "ProgressView",
       "bar_style": "success",
       "description": "",
       "description_tooltip": null,
       "layout": "IPY_MODEL_69293b1034674bb9b983b5e962b28170",
       "max": 166.0,
       "min": 0.0,
       "orientation": "horizontal",
       "style": "IPY_MODEL_e7dd374813184a2fb3cba9534a111142",
       "value": 166.0
      }
     },
     "16d724f0a61a4d4fa73ab851bb4348d1": {
      "model_module": "@jupyter-widgets/base",
      "model_module_version": "1.2.0",
      "model_name": "LayoutModel",
      "state": {
       "_model_module": "@jupyter-widgets/base",
       "_model_module_version": "1.2.0",
       "_model_name": "LayoutModel",
       "_view_count": null,
       "_view_module": "@jupyter-widgets/base",
       "_view_module_version": "1.2.0",
       "_view_name": "LayoutView",
       "align_content": null,
       "align_items": null,
       "align_self": null,
       "border": null,
       "bottom": null,
       "display": null,
       "flex": null,
       "flex_flow": null,
       "grid_area": null,
       "grid_auto_columns": null,
       "grid_auto_flow": null,
       "grid_auto_rows": null,
       "grid_column": null,
       "grid_gap": null,
       "grid_row": null,
       "grid_template_areas": null,
       "grid_template_columns": null,
       "grid_template_rows": null,
       "height": null,
       "justify_content": null,
       "justify_items": null,
       "left": null,
       "margin": null,
       "max_height": null,
       "max_width": null,
       "min_height": null,
       "min_width": null,
       "object_fit": null,
       "object_position": null,
       "order": null,
       "overflow": null,
       "overflow_x": null,
       "overflow_y": null,
       "padding": null,
       "right": null,
       "top": null,
       "visibility": null,
       "width": null
      }
     },
     "45bc971f51e1405fa9d806e286970de5": {
      "model_module": "@jupyter-widgets/controls",
      "model_module_version": "1.5.0",
      "model_name": "HBoxModel",
      "state": {
       "_dom_classes": [],
       "_model_module": "@jupyter-widgets/controls",
       "_model_module_version": "1.5.0",
       "_model_name": "HBoxModel",
       "_view_count": null,
       "_view_module": "@jupyter-widgets/controls",
       "_view_module_version": "1.5.0",
       "_view_name": "HBoxView",
       "box_style": "",
       "children": [
        "IPY_MODEL_a3324f393eae4e21967530438b27c5d2",
        "IPY_MODEL_039c70e36121408787e3ada6632719e5",
        "IPY_MODEL_fb811569559d45a1b9397e31a8b0c6d4"
       ],
       "layout": "IPY_MODEL_d7ec270a98c44567a0447a5ee6598f03"
      }
     },
     "56136758d08145c7b559ca6e8776a241": {
      "model_module": "@jupyter-widgets/controls",
      "model_module_version": "1.5.0",
      "model_name": "DescriptionStyleModel",
      "state": {
       "_model_module": "@jupyter-widgets/controls",
       "_model_module_version": "1.5.0",
       "_model_name": "DescriptionStyleModel",
       "_view_count": null,
       "_view_module": "@jupyter-widgets/base",
       "_view_module_version": "1.2.0",
       "_view_name": "StyleView",
       "description_width": ""
      }
     },
     "69293b1034674bb9b983b5e962b28170": {
      "model_module": "@jupyter-widgets/base",
      "model_module_version": "1.2.0",
      "model_name": "LayoutModel",
      "state": {
       "_model_module": "@jupyter-widgets/base",
       "_model_module_version": "1.2.0",
       "_model_name": "LayoutModel",
       "_view_count": null,
       "_view_module": "@jupyter-widgets/base",
       "_view_module_version": "1.2.0",
       "_view_name": "LayoutView",
       "align_content": null,
       "align_items": null,
       "align_self": null,
       "border": null,
       "bottom": null,
       "display": null,
       "flex": null,
       "flex_flow": null,
       "grid_area": null,
       "grid_auto_columns": null,
       "grid_auto_flow": null,
       "grid_auto_rows": null,
       "grid_column": null,
       "grid_gap": null,
       "grid_row": null,
       "grid_template_areas": null,
       "grid_template_columns": null,
       "grid_template_rows": null,
       "height": null,
       "justify_content": null,
       "justify_items": null,
       "left": null,
       "margin": null,
       "max_height": null,
       "max_width": null,
       "min_height": null,
       "min_width": null,
       "object_fit": null,
       "object_position": null,
       "order": null,
       "overflow": null,
       "overflow_x": null,
       "overflow_y": null,
       "padding": null,
       "right": null,
       "top": null,
       "visibility": null,
       "width": null
      }
     },
     "6f9eabaa0fd9457b8616d84c0d6b5652": {
      "model_module": "@jupyter-widgets/controls",
      "model_module_version": "1.5.0",
      "model_name": "DescriptionStyleModel",
      "state": {
       "_model_module": "@jupyter-widgets/controls",
       "_model_module_version": "1.5.0",
       "_model_name": "DescriptionStyleModel",
       "_view_count": null,
       "_view_module": "@jupyter-widgets/base",
       "_view_module_version": "1.2.0",
       "_view_name": "StyleView",
       "description_width": ""
      }
     },
     "a3324f393eae4e21967530438b27c5d2": {
      "model_module": "@jupyter-widgets/controls",
      "model_module_version": "1.5.0",
      "model_name": "HTMLModel",
      "state": {
       "_dom_classes": [],
       "_model_module": "@jupyter-widgets/controls",
       "_model_module_version": "1.5.0",
       "_model_name": "HTMLModel",
       "_view_count": null,
       "_view_module": "@jupyter-widgets/controls",
       "_view_module_version": "1.5.0",
       "_view_name": "HTMLView",
       "description": "",
       "description_tooltip": null,
       "layout": "IPY_MODEL_16d724f0a61a4d4fa73ab851bb4348d1",
       "placeholder": "​",
       "style": "IPY_MODEL_56136758d08145c7b559ca6e8776a241",
       "value": "100%"
      }
     },
     "d7ec270a98c44567a0447a5ee6598f03": {
      "model_module": "@jupyter-widgets/base",
      "model_module_version": "1.2.0",
      "model_name": "LayoutModel",
      "state": {
       "_model_module": "@jupyter-widgets/base",
       "_model_module_version": "1.2.0",
       "_model_name": "LayoutModel",
       "_view_count": null,
       "_view_module": "@jupyter-widgets/base",
       "_view_module_version": "1.2.0",
       "_view_name": "LayoutView",
       "align_content": null,
       "align_items": null,
       "align_self": null,
       "border": null,
       "bottom": null,
       "display": null,
       "flex": null,
       "flex_flow": null,
       "grid_area": null,
       "grid_auto_columns": null,
       "grid_auto_flow": null,
       "grid_auto_rows": null,
       "grid_column": null,
       "grid_gap": null,
       "grid_row": null,
       "grid_template_areas": null,
       "grid_template_columns": null,
       "grid_template_rows": null,
       "height": null,
       "justify_content": null,
       "justify_items": null,
       "left": null,
       "margin": null,
       "max_height": null,
       "max_width": null,
       "min_height": null,
       "min_width": null,
       "object_fit": null,
       "object_position": null,
       "order": null,
       "overflow": null,
       "overflow_x": null,
       "overflow_y": null,
       "padding": null,
       "right": null,
       "top": null,
       "visibility": null,
       "width": null
      }
     },
     "e7dd374813184a2fb3cba9534a111142": {
      "model_module": "@jupyter-widgets/controls",
      "model_module_version": "1.5.0",
      "model_name": "ProgressStyleModel",
      "state": {
       "_model_module": "@jupyter-widgets/controls",
       "_model_module_version": "1.5.0",
       "_model_name": "ProgressStyleModel",
       "_view_count": null,
       "_view_module": "@jupyter-widgets/base",
       "_view_module_version": "1.2.0",
       "_view_name": "StyleView",
       "bar_color": null,
       "description_width": ""
      }
     },
     "f7710c9a62d244f9b3214d44663a119a": {
      "model_module": "@jupyter-widgets/base",
      "model_module_version": "1.2.0",
      "model_name": "LayoutModel",
      "state": {
       "_model_module": "@jupyter-widgets/base",
       "_model_module_version": "1.2.0",
       "_model_name": "LayoutModel",
       "_view_count": null,
       "_view_module": "@jupyter-widgets/base",
       "_view_module_version": "1.2.0",
       "_view_name": "LayoutView",
       "align_content": null,
       "align_items": null,
       "align_self": null,
       "border": null,
       "bottom": null,
       "display": null,
       "flex": null,
       "flex_flow": null,
       "grid_area": null,
       "grid_auto_columns": null,
       "grid_auto_flow": null,
       "grid_auto_rows": null,
       "grid_column": null,
       "grid_gap": null,
       "grid_row": null,
       "grid_template_areas": null,
       "grid_template_columns": null,
       "grid_template_rows": null,
       "height": null,
       "justify_content": null,
       "justify_items": null,
       "left": null,
       "margin": null,
       "max_height": null,
       "max_width": null,
       "min_height": null,
       "min_width": null,
       "object_fit": null,
       "object_position": null,
       "order": null,
       "overflow": null,
       "overflow_x": null,
       "overflow_y": null,
       "padding": null,
       "right": null,
       "top": null,
       "visibility": null,
       "width": null
      }
     },
     "fb811569559d45a1b9397e31a8b0c6d4": {
      "model_module": "@jupyter-widgets/controls",
      "model_module_version": "1.5.0",
      "model_name": "HTMLModel",
      "state": {
       "_dom_classes": [],
       "_model_module": "@jupyter-widgets/controls",
       "_model_module_version": "1.5.0",
       "_model_name": "HTMLModel",
       "_view_count": null,
       "_view_module": "@jupyter-widgets/controls",
       "_view_module_version": "1.5.0",
       "_view_name": "HTMLView",
       "description": "",
       "description_tooltip": null,
       "layout": "IPY_MODEL_f7710c9a62d244f9b3214d44663a119a",
       "placeholder": "​",
       "style": "IPY_MODEL_6f9eabaa0fd9457b8616d84c0d6b5652",
       "value": " 166/166 [00:00&lt;00:00, 8533.26it/s]"
      }
     }
    },
    "version_major": 2,
    "version_minor": 0
   }
  }
 },
 "nbformat": 4,
 "nbformat_minor": 5
}
