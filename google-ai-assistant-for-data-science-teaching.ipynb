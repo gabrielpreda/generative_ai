{
 "cells": [
  {
   "cell_type": "markdown",
   "id": "fa62e03f",
   "metadata": {
    "_cell_guid": "b1076dfc-b9ad-4769-8c92-a6c4dae69d19",
    "_uuid": "8f2839f25d086af736a60e9eeb907d3b93b6e0e5",
    "papermill": {
     "duration": 0.010018,
     "end_time": "2024-04-07T09:26:46.841077",
     "exception": false,
     "start_time": "2024-04-07T09:26:46.831059",
     "status": "completed"
    },
    "tags": []
   },
   "source": [
    "<center><h1>Google AI Assistant for Data Science teaching</h1></center>\n",
    "\n",
    "<center><img src=\"https://res.infoq.com/news/2024/02/google-gemma-open-model/en/headerimage/generatedHeaderImage-1708977571481.jpg\" width=\"400\"></center>\n",
    "\n",
    "# Introduction\n",
    "\n",
    "This Notebook will build an AI Assistant for Data Science teaching.\n",
    "\n",
    "## The method\n",
    "\n",
    "We will fine-tune a LLM with Data Science questions and answers. Then we will create a custom class that will query this model.\n",
    "\n",
    "## The model\n",
    "\n",
    "As model, we will use Gemma model, fine-tuned with our Data Science Q&A data, using LoRA.\n",
    "\n",
    "## The data\n",
    "\n",
    "As data for fine-tuning Gemma, we will use [Data Science Q&A Treasury](https://www.kaggle.com/datasets/memocan/data-science-interview-q-and-a-treasury) dataset. This dataset contains over 150 questions and answering about Data Science.\n",
    "\n",
    "## Previous work\n",
    "\n",
    "This work is largely based on previous work. Here I list the sources:\n",
    "\n",
    "1. Gemma Model Card, Kaggle Models, https://www.kaggle.com/models/google/gemma\n",
    "2. Kaggle QA with Gemma - KerasNLP Starter, Kaggle Code, https://www.kaggle.com/code/awsaf49/kaggle-qa-with-gemma-kerasnlp-starter (Version 11)\n",
    "3. Fine-tune Gemma models in Keras using LoRA, Kaggle Code, https://www.kaggle.com/code/nilaychauhan/fine-tune-gemma-models-in-keras-using-lora (Version 1)\n",
    "4. Edward J. Hu, Yelong Shen, Phillip Wallis, Zeyuan Allen-Zhu, Yuanzhi Li, Shean Wang, Lu Wang, Weizhu Chen, LoRA: Low-Rank Adaptation of Large Language Models, ArXiv, https://arxiv.org/pdf/2106.09685.pdf\n",
    "5. Abheesht Sharma, Matthew Watson, Parameter-efficient fine-tuning of GPT-2 with LoRA, https://keras.io/examples/nlp/parameter_efficient_finetuning_of_gpt2_with_lora/\n",
    "6. Keras 3 API documentation / KerasNLP / Models / Gemma, https://keras.io/api/keras_nlp/models/gemma/   \n",
    "7. Understanding LoRA with a minimal example, https://blogs.rstudio.com/ai/posts/2023-06-22-understanding-lora/\n"
   ]
  },
  {
   "cell_type": "markdown",
   "id": "8aa0e427",
   "metadata": {
    "papermill": {
     "duration": 0.009225,
     "end_time": "2024-04-07T09:26:46.859990",
     "exception": false,
     "start_time": "2024-04-07T09:26:46.850765",
     "status": "completed"
    },
    "tags": []
   },
   "source": [
    "# Introduction about Gemma\n",
    "\n",
    "\n",
    "Gemma is a collection of lightweight source generative AI models designed to be used mostly by developers and researchers. Created by Google DeepMind research lab that also developed Gemini, Gemma is available in several versions, with 2B and 7B parameters, as following:\n",
    "\n",
    "| Model                  | Parameters      | Tuned versions    | Description                                    | Recomemnded target platforms       |\n",
    "|------------------------|-----------------|-------------------|------------------------------------------------|------------------------------------|\n",
    "| `gemma_2b_en`          | 2.51B           | Pretrained        | 18-layer Gemma model (Gemma with 2B parameters)|Mobile devices and laptops          |\n",
    "| `gemma_instruct_2b_en` | 2.51B           | Instruction tuned | 18-layer Gemma model (Gemma with 2B parameters)| Mobile devices and laptops         | \n",
    "| `gemma_7b_en`          | 8.54B           | Pretrained        | 28-layer Gemma model (Gemma with 7B parameters)| Desktop computers and small servers|\n",
    "| `gemma_instruct_7b_en` | 8.54B           | Instruction tuned | 28-layer Gemma model (Gemma with 7B parameters)| Desktop computers and small servers|\n",
    "\n",
    "\n",
    "For this notebook, we will fine-tune `gemma_2b_en` model, one of the `2B` parameters Gemma models."
   ]
  },
  {
   "cell_type": "markdown",
   "id": "76094e4d",
   "metadata": {
    "papermill": {
     "duration": 0.009132,
     "end_time": "2024-04-07T09:26:46.878595",
     "exception": false,
     "start_time": "2024-04-07T09:26:46.869463",
     "status": "completed"
    },
    "tags": []
   },
   "source": [
    "# LoRA introduction\n",
    "\n",
    "LoRA stands for Low-Rank Adaptation. It is a method used to fine-tune large language models (LLMs) by freezing the weights of the LLM and injecting trainable rank-decomposition matrices.   \n",
    "The number of trainable parameters during fine-tunning will decrease therefore considerably.   \n",
    "According to LoRA paper, this number decreases 10,000 times, and the computational resources size decreases 3 times. "
   ]
  },
  {
   "cell_type": "markdown",
   "id": "4ce30f27",
   "metadata": {
    "papermill": {
     "duration": 0.009163,
     "end_time": "2024-04-07T09:26:46.898414",
     "exception": false,
     "start_time": "2024-04-07T09:26:46.889251",
     "status": "completed"
    },
    "tags": []
   },
   "source": [
    "# Installations and configurations"
   ]
  },
  {
   "cell_type": "code",
   "execution_count": 1,
   "id": "2d49cd4b",
   "metadata": {
    "execution": {
     "iopub.execute_input": "2024-04-07T09:26:46.918616Z",
     "iopub.status.busy": "2024-04-07T09:26:46.918249Z",
     "iopub.status.idle": "2024-04-07T09:27:18.940260Z",
     "shell.execute_reply": "2024-04-07T09:27:18.938866Z"
    },
    "papermill": {
     "duration": 32.035233,
     "end_time": "2024-04-07T09:27:18.943018",
     "exception": false,
     "start_time": "2024-04-07T09:26:46.907785",
     "status": "completed"
    },
    "tags": []
   },
   "outputs": [
    {
     "name": "stdout",
     "output_type": "stream",
     "text": [
      "\u001b[31mERROR: pip's dependency resolver does not currently take into account all the packages that are installed. This behaviour is the source of the following dependency conflicts.\r\n",
      "tensorflow-decision-forests 1.8.1 requires wurlitzer, which is not installed.\u001b[0m\u001b[31m\r\n",
      "\u001b[0m\u001b[31mERROR: pip's dependency resolver does not currently take into account all the packages that are installed. This behaviour is the source of the following dependency conflicts.\r\n",
      "tensorflow-decision-forests 1.8.1 requires wurlitzer, which is not installed.\r\n",
      "tensorflow 2.15.0 requires keras<2.16,>=2.15.0, but you have keras 3.1.1 which is incompatible.\u001b[0m\u001b[31m\r\n",
      "\u001b[0m"
     ]
    }
   ],
   "source": [
    "# Install Keras 3 last. See https://keras.io/getting_started/ for more details.\n",
    "!pip install -q -U keras-nlp\n",
    "!pip install -q -U keras>=3"
   ]
  },
  {
   "cell_type": "code",
   "execution_count": 2,
   "id": "d784d548",
   "metadata": {
    "execution": {
     "iopub.execute_input": "2024-04-07T09:27:18.967691Z",
     "iopub.status.busy": "2024-04-07T09:27:18.967302Z",
     "iopub.status.idle": "2024-04-07T09:27:32.595502Z",
     "shell.execute_reply": "2024-04-07T09:27:32.594547Z"
    },
    "papermill": {
     "duration": 13.643208,
     "end_time": "2024-04-07T09:27:32.597882",
     "exception": false,
     "start_time": "2024-04-07T09:27:18.954674",
     "status": "completed"
    },
    "tags": []
   },
   "outputs": [
    {
     "name": "stderr",
     "output_type": "stream",
     "text": [
      "2024-04-07 09:27:23.212348: E external/local_xla/xla/stream_executor/cuda/cuda_dnn.cc:9261] Unable to register cuDNN factory: Attempting to register factory for plugin cuDNN when one has already been registered\n",
      "2024-04-07 09:27:23.212447: E external/local_xla/xla/stream_executor/cuda/cuda_fft.cc:607] Unable to register cuFFT factory: Attempting to register factory for plugin cuFFT when one has already been registered\n",
      "2024-04-07 09:27:23.334555: E external/local_xla/xla/stream_executor/cuda/cuda_blas.cc:1515] Unable to register cuBLAS factory: Attempting to register factory for plugin cuBLAS when one has already been registered\n"
     ]
    }
   ],
   "source": [
    "import os\n",
    "os.environ[\"KERAS_BACKEND\"] = \"jax\" # you can also use tensorflow or torch\n",
    "os.environ[\"XLA_PYTHON_CLIENT_MEM_FRACTION\"] = \"1.00\" # avoid memory fragmentation on JAX backend.\n",
    "\n",
    "import keras\n",
    "import keras_nlp\n",
    "\n",
    "import numpy as np\n",
    "import pandas as pd\n",
    "from tqdm.notebook import tqdm\n",
    "from time import time\n",
    "tqdm.pandas() # progress bar for pandas\n",
    "\n",
    "from IPython.display import display, Markdown"
   ]
  },
  {
   "cell_type": "code",
   "execution_count": 3,
   "id": "27da9ba7",
   "metadata": {
    "execution": {
     "iopub.execute_input": "2024-04-07T09:27:32.619707Z",
     "iopub.status.busy": "2024-04-07T09:27:32.619128Z",
     "iopub.status.idle": "2024-04-07T09:27:32.623995Z",
     "shell.execute_reply": "2024-04-07T09:27:32.623156Z"
    },
    "papermill": {
     "duration": 0.017379,
     "end_time": "2024-04-07T09:27:32.625880",
     "exception": false,
     "start_time": "2024-04-07T09:27:32.608501",
     "status": "completed"
    },
    "tags": []
   },
   "outputs": [],
   "source": [
    "class Config:\n",
    "    seed = 42\n",
    "    dataset_path = \"/kaggle/input/data-science-interview-q-and-a-treasury/dataset.csv\"\n",
    "    preset = \"gemma_2b_en\" # name of pretrained Gemma\n",
    "    sequence_length = 512 # max size of input sequence for training\n",
    "    batch_size = 1 # size of the input batch in training\n",
    "    epochs = 10 # number of epochs to train"
   ]
  },
  {
   "cell_type": "code",
   "execution_count": 4,
   "id": "f14da233",
   "metadata": {
    "execution": {
     "iopub.execute_input": "2024-04-07T09:27:32.646475Z",
     "iopub.status.busy": "2024-04-07T09:27:32.646190Z",
     "iopub.status.idle": "2024-04-07T09:27:32.650529Z",
     "shell.execute_reply": "2024-04-07T09:27:32.649650Z"
    },
    "papermill": {
     "duration": 0.016805,
     "end_time": "2024-04-07T09:27:32.652404",
     "exception": false,
     "start_time": "2024-04-07T09:27:32.635599",
     "status": "completed"
    },
    "tags": []
   },
   "outputs": [],
   "source": [
    "keras.utils.set_random_seed(Config.seed)"
   ]
  },
  {
   "cell_type": "markdown",
   "id": "c214c396",
   "metadata": {
    "papermill": {
     "duration": 0.009619,
     "end_time": "2024-04-07T09:27:32.671721",
     "exception": false,
     "start_time": "2024-04-07T09:27:32.662102",
     "status": "completed"
    },
    "tags": []
   },
   "source": [
    "Let's define as well a small utility function for the output."
   ]
  },
  {
   "cell_type": "code",
   "execution_count": 5,
   "id": "574a4da3",
   "metadata": {
    "execution": {
     "iopub.execute_input": "2024-04-07T09:27:32.692133Z",
     "iopub.status.busy": "2024-04-07T09:27:32.691853Z",
     "iopub.status.idle": "2024-04-07T09:27:32.697030Z",
     "shell.execute_reply": "2024-04-07T09:27:32.696193Z"
    },
    "papermill": {
     "duration": 0.017492,
     "end_time": "2024-04-07T09:27:32.698826",
     "exception": false,
     "start_time": "2024-04-07T09:27:32.681334",
     "status": "completed"
    },
    "tags": []
   },
   "outputs": [],
   "source": [
    "def colorize_text(text):\n",
    "    for word, color in zip([\"Question\", \"Answer\", \"Total time\"], [\"blue\", \"red\" \"blue\"]):\n",
    "        text = text.replace(f\"\\n\\n{word}:\", f\"\\n\\n**<font color='{color}'>{word}:</font>**\")\n",
    "    return text"
   ]
  },
  {
   "cell_type": "markdown",
   "id": "449f935b",
   "metadata": {
    "papermill": {
     "duration": 0.009308,
     "end_time": "2024-04-07T09:27:32.717942",
     "exception": false,
     "start_time": "2024-04-07T09:27:32.708634",
     "status": "completed"
    },
    "tags": []
   },
   "source": [
    "# Load the data  \n",
    "\n",
    "We load the data we will use for fine-tunning with LoRA."
   ]
  },
  {
   "cell_type": "code",
   "execution_count": 6,
   "id": "787b242b",
   "metadata": {
    "execution": {
     "iopub.execute_input": "2024-04-07T09:27:32.738922Z",
     "iopub.status.busy": "2024-04-07T09:27:32.738118Z",
     "iopub.status.idle": "2024-04-07T09:27:32.770369Z",
     "shell.execute_reply": "2024-04-07T09:27:32.769473Z"
    },
    "papermill": {
     "duration": 0.044904,
     "end_time": "2024-04-07T09:27:32.772434",
     "exception": false,
     "start_time": "2024-04-07T09:27:32.727530",
     "status": "completed"
    },
    "tags": []
   },
   "outputs": [
    {
     "data": {
      "text/html": [
       "<div>\n",
       "<style scoped>\n",
       "    .dataframe tbody tr th:only-of-type {\n",
       "        vertical-align: middle;\n",
       "    }\n",
       "\n",
       "    .dataframe tbody tr th {\n",
       "        vertical-align: top;\n",
       "    }\n",
       "\n",
       "    .dataframe thead th {\n",
       "        text-align: right;\n",
       "    }\n",
       "</style>\n",
       "<table border=\"1\" class=\"dataframe\">\n",
       "  <thead>\n",
       "    <tr style=\"text-align: right;\">\n",
       "      <th></th>\n",
       "      <th>question</th>\n",
       "      <th>answer</th>\n",
       "    </tr>\n",
       "  </thead>\n",
       "  <tbody>\n",
       "    <tr>\n",
       "      <th>0</th>\n",
       "      <td>What is supervised machine learning? 👶</td>\n",
       "      <td>Supervised learning is a type of machine learn...</td>\n",
       "    </tr>\n",
       "    <tr>\n",
       "      <th>1</th>\n",
       "      <td>What is regression? Which models can you use t...</td>\n",
       "      <td>Regression is a part of supervised ML. Regress...</td>\n",
       "    </tr>\n",
       "    <tr>\n",
       "      <th>2</th>\n",
       "      <td>What is linear regression? When do we use it? 👶</td>\n",
       "      <td>Linear regression is a model that assumes a li...</td>\n",
       "    </tr>\n",
       "    <tr>\n",
       "      <th>3</th>\n",
       "      <td>What are the main assumptions of linear regres...</td>\n",
       "      <td>There are several assumptions of linear regres...</td>\n",
       "    </tr>\n",
       "    <tr>\n",
       "      <th>4</th>\n",
       "      <td>What’s the normal distribution? Why do we care...</td>\n",
       "      <td>The normal distribution is a continuous probab...</td>\n",
       "    </tr>\n",
       "  </tbody>\n",
       "</table>\n",
       "</div>"
      ],
      "text/plain": [
       "                                            question  \\\n",
       "0             What is supervised machine learning? 👶   \n",
       "1  What is regression? Which models can you use t...   \n",
       "2    What is linear regression? When do we use it? 👶   \n",
       "3  What are the main assumptions of linear regres...   \n",
       "4  What’s the normal distribution? Why do we care...   \n",
       "\n",
       "                                              answer  \n",
       "0  Supervised learning is a type of machine learn...  \n",
       "1  Regression is a part of supervised ML. Regress...  \n",
       "2  Linear regression is a model that assumes a li...  \n",
       "3  There are several assumptions of linear regres...  \n",
       "4  The normal distribution is a continuous probab...  "
      ]
     },
     "execution_count": 6,
     "metadata": {},
     "output_type": "execute_result"
    }
   ],
   "source": [
    "df = pd.read_csv(f\"{Config.dataset_path}\")\n",
    "df.head()"
   ]
  },
  {
   "cell_type": "markdown",
   "id": "9363de34",
   "metadata": {
    "papermill": {
     "duration": 0.009685,
     "end_time": "2024-04-07T09:27:32.792422",
     "exception": false,
     "start_time": "2024-04-07T09:27:32.782737",
     "status": "completed"
    },
    "tags": []
   },
   "source": [
    "# Fine-tune Gemma\n",
    "\n",
    "We prepare a template and generate a prompt using this template from each row in the dataset."
   ]
  },
  {
   "cell_type": "code",
   "execution_count": 7,
   "id": "cf0cb21d",
   "metadata": {
    "execution": {
     "iopub.execute_input": "2024-04-07T09:27:32.814006Z",
     "iopub.status.busy": "2024-04-07T09:27:32.813259Z",
     "iopub.status.idle": "2024-04-07T09:27:32.842843Z",
     "shell.execute_reply": "2024-04-07T09:27:32.841995Z"
    },
    "papermill": {
     "duration": 0.043311,
     "end_time": "2024-04-07T09:27:32.845651",
     "exception": false,
     "start_time": "2024-04-07T09:27:32.802340",
     "status": "completed"
    },
    "tags": []
   },
   "outputs": [
    {
     "data": {
      "application/vnd.jupyter.widget-view+json": {
       "model_id": "e1a194c37eaa4534ace1214c79d1ab7d",
       "version_major": 2,
       "version_minor": 0
      },
      "text/plain": [
       "  0%|          | 0/166 [00:00<?, ?it/s]"
      ]
     },
     "metadata": {},
     "output_type": "display_data"
    }
   ],
   "source": [
    "template = \"\\n\\nQuestion:\\n{question}\\n\\nAnswer:\\n{answer}\"\n",
    "df[\"prompt\"] = df.progress_apply(lambda row: template.format(question=row.question,\n",
    "                                                             answer=row.answer), axis=1)\n",
    "data = df.prompt.tolist()"
   ]
  },
  {
   "cell_type": "markdown",
   "id": "c098a9e0",
   "metadata": {
    "papermill": {
     "duration": 0.00988,
     "end_time": "2024-04-07T09:27:32.865768",
     "exception": false,
     "start_time": "2024-04-07T09:27:32.855888",
     "status": "completed"
    },
    "tags": []
   },
   "source": [
    "## Initialize the code for Gemma Causal LM\n",
    "\n",
    "We initialize `GemmaCausalML` with `gemma_2b_en` model."
   ]
  },
  {
   "cell_type": "code",
   "execution_count": 8,
   "id": "576c507f",
   "metadata": {
    "execution": {
     "iopub.execute_input": "2024-04-07T09:27:32.887172Z",
     "iopub.status.busy": "2024-04-07T09:27:32.886858Z",
     "iopub.status.idle": "2024-04-07T09:28:28.866250Z",
     "shell.execute_reply": "2024-04-07T09:28:28.865319Z"
    },
    "papermill": {
     "duration": 55.992316,
     "end_time": "2024-04-07T09:28:28.868118",
     "exception": false,
     "start_time": "2024-04-07T09:27:32.875802",
     "status": "completed"
    },
    "tags": []
   },
   "outputs": [
    {
     "name": "stderr",
     "output_type": "stream",
     "text": [
      "Attaching 'config.json' from model 'keras/gemma/keras/gemma_2b_en/2' to your Kaggle notebook...\n",
      "Attaching 'config.json' from model 'keras/gemma/keras/gemma_2b_en/2' to your Kaggle notebook...\n",
      "Attaching 'model.weights.h5' from model 'keras/gemma/keras/gemma_2b_en/2' to your Kaggle notebook...\n",
      "Attaching 'tokenizer.json' from model 'keras/gemma/keras/gemma_2b_en/2' to your Kaggle notebook...\n",
      "Attaching 'assets/tokenizer/vocabulary.spm' from model 'keras/gemma/keras/gemma_2b_en/2' to your Kaggle notebook...\n",
      "normalizer.cc(51) LOG(INFO) precompiled_charsmap is empty. use identity normalization.\n"
     ]
    },
    {
     "data": {
      "text/html": [
       "<pre style=\"white-space:pre;overflow-x:auto;line-height:normal;font-family:Menlo,'DejaVu Sans Mono',consolas,'Courier New',monospace\"><span style=\"font-weight: bold\">Preprocessor: \"gemma_causal_lm_preprocessor\"</span>\n",
       "</pre>\n"
      ],
      "text/plain": [
       "\u001b[1mPreprocessor: \"gemma_causal_lm_preprocessor\"\u001b[0m\n"
      ]
     },
     "metadata": {},
     "output_type": "display_data"
    },
    {
     "data": {
      "text/html": [
       "<pre style=\"white-space:pre;overflow-x:auto;line-height:normal;font-family:Menlo,'DejaVu Sans Mono',consolas,'Courier New',monospace\">┏━━━━━━━━━━━━━━━━━━━━━━━━━━━━━━━━━━━━━━━━━━━━━━━━━━━━┳━━━━━━━━━━━━━━━━━━━━━━━━━━━━━━━━━━━━━━━━━━━━━━━━━━━━━┓\n",
       "┃<span style=\"font-weight: bold\"> Tokenizer (type)                                   </span>┃<span style=\"font-weight: bold\">                                             Vocab # </span>┃\n",
       "┡━━━━━━━━━━━━━━━━━━━━━━━━━━━━━━━━━━━━━━━━━━━━━━━━━━━━╇━━━━━━━━━━━━━━━━━━━━━━━━━━━━━━━━━━━━━━━━━━━━━━━━━━━━━┩\n",
       "│ gemma_tokenizer (<span style=\"color: #0087ff; text-decoration-color: #0087ff\">GemmaTokenizer</span>)                   │                                             <span style=\"color: #00af00; text-decoration-color: #00af00\">256,000</span> │\n",
       "└────────────────────────────────────────────────────┴─────────────────────────────────────────────────────┘\n",
       "</pre>\n"
      ],
      "text/plain": [
       "┏━━━━━━━━━━━━━━━━━━━━━━━━━━━━━━━━━━━━━━━━━━━━━━━━━━━━┳━━━━━━━━━━━━━━━━━━━━━━━━━━━━━━━━━━━━━━━━━━━━━━━━━━━━━┓\n",
       "┃\u001b[1m \u001b[0m\u001b[1mTokenizer (type)                                  \u001b[0m\u001b[1m \u001b[0m┃\u001b[1m \u001b[0m\u001b[1m                                            Vocab #\u001b[0m\u001b[1m \u001b[0m┃\n",
       "┡━━━━━━━━━━━━━━━━━━━━━━━━━━━━━━━━━━━━━━━━━━━━━━━━━━━━╇━━━━━━━━━━━━━━━━━━━━━━━━━━━━━━━━━━━━━━━━━━━━━━━━━━━━━┩\n",
       "│ gemma_tokenizer (\u001b[38;5;33mGemmaTokenizer\u001b[0m)                   │                                             \u001b[38;5;34m256,000\u001b[0m │\n",
       "└────────────────────────────────────────────────────┴─────────────────────────────────────────────────────┘\n"
      ]
     },
     "metadata": {},
     "output_type": "display_data"
    },
    {
     "data": {
      "text/html": [
       "<pre style=\"white-space:pre;overflow-x:auto;line-height:normal;font-family:Menlo,'DejaVu Sans Mono',consolas,'Courier New',monospace\"><span style=\"font-weight: bold\">Model: \"gemma_causal_lm\"</span>\n",
       "</pre>\n"
      ],
      "text/plain": [
       "\u001b[1mModel: \"gemma_causal_lm\"\u001b[0m\n"
      ]
     },
     "metadata": {},
     "output_type": "display_data"
    },
    {
     "data": {
      "text/html": [
       "<pre style=\"white-space:pre;overflow-x:auto;line-height:normal;font-family:Menlo,'DejaVu Sans Mono',consolas,'Courier New',monospace\">┏━━━━━━━━━━━━━━━━━━━━━━━━━━━━━━━┳━━━━━━━━━━━━━━━━━━━━━━━━━━━┳━━━━━━━━━━━━━━━━━┳━━━━━━━━━━━━━━━━━━━━━━━━━━━━┓\n",
       "┃<span style=\"font-weight: bold\"> Layer (type)                  </span>┃<span style=\"font-weight: bold\"> Output Shape              </span>┃<span style=\"font-weight: bold\">         Param # </span>┃<span style=\"font-weight: bold\"> Connected to               </span>┃\n",
       "┡━━━━━━━━━━━━━━━━━━━━━━━━━━━━━━━╇━━━━━━━━━━━━━━━━━━━━━━━━━━━╇━━━━━━━━━━━━━━━━━╇━━━━━━━━━━━━━━━━━━━━━━━━━━━━┩\n",
       "│ padding_mask (<span style=\"color: #0087ff; text-decoration-color: #0087ff\">InputLayer</span>)     │ (<span style=\"color: #00d7ff; text-decoration-color: #00d7ff\">None</span>, <span style=\"color: #00d7ff; text-decoration-color: #00d7ff\">None</span>)              │               <span style=\"color: #00af00; text-decoration-color: #00af00\">0</span> │ -                          │\n",
       "├───────────────────────────────┼───────────────────────────┼─────────────────┼────────────────────────────┤\n",
       "│ token_ids (<span style=\"color: #0087ff; text-decoration-color: #0087ff\">InputLayer</span>)        │ (<span style=\"color: #00d7ff; text-decoration-color: #00d7ff\">None</span>, <span style=\"color: #00d7ff; text-decoration-color: #00d7ff\">None</span>)              │               <span style=\"color: #00af00; text-decoration-color: #00af00\">0</span> │ -                          │\n",
       "├───────────────────────────────┼───────────────────────────┼─────────────────┼────────────────────────────┤\n",
       "│ gemma_backbone                │ (<span style=\"color: #00d7ff; text-decoration-color: #00d7ff\">None</span>, <span style=\"color: #00d7ff; text-decoration-color: #00d7ff\">None</span>, <span style=\"color: #00af00; text-decoration-color: #00af00\">2048</span>)        │   <span style=\"color: #00af00; text-decoration-color: #00af00\">2,506,172,416</span> │ padding_mask[<span style=\"color: #00af00; text-decoration-color: #00af00\">0</span>][<span style=\"color: #00af00; text-decoration-color: #00af00\">0</span>],        │\n",
       "│ (<span style=\"color: #0087ff; text-decoration-color: #0087ff\">GemmaBackbone</span>)               │                           │                 │ token_ids[<span style=\"color: #00af00; text-decoration-color: #00af00\">0</span>][<span style=\"color: #00af00; text-decoration-color: #00af00\">0</span>]            │\n",
       "├───────────────────────────────┼───────────────────────────┼─────────────────┼────────────────────────────┤\n",
       "│ token_embedding               │ (<span style=\"color: #00d7ff; text-decoration-color: #00d7ff\">None</span>, <span style=\"color: #00d7ff; text-decoration-color: #00d7ff\">None</span>, <span style=\"color: #00af00; text-decoration-color: #00af00\">256000</span>)      │     <span style=\"color: #00af00; text-decoration-color: #00af00\">524,288,000</span> │ gemma_backbone[<span style=\"color: #00af00; text-decoration-color: #00af00\">0</span>][<span style=\"color: #00af00; text-decoration-color: #00af00\">0</span>]       │\n",
       "│ (<span style=\"color: #0087ff; text-decoration-color: #0087ff\">ReversibleEmbedding</span>)         │                           │                 │                            │\n",
       "└───────────────────────────────┴───────────────────────────┴─────────────────┴────────────────────────────┘\n",
       "</pre>\n"
      ],
      "text/plain": [
       "┏━━━━━━━━━━━━━━━━━━━━━━━━━━━━━━━┳━━━━━━━━━━━━━━━━━━━━━━━━━━━┳━━━━━━━━━━━━━━━━━┳━━━━━━━━━━━━━━━━━━━━━━━━━━━━┓\n",
       "┃\u001b[1m \u001b[0m\u001b[1mLayer (type)                 \u001b[0m\u001b[1m \u001b[0m┃\u001b[1m \u001b[0m\u001b[1mOutput Shape             \u001b[0m\u001b[1m \u001b[0m┃\u001b[1m \u001b[0m\u001b[1m        Param #\u001b[0m\u001b[1m \u001b[0m┃\u001b[1m \u001b[0m\u001b[1mConnected to              \u001b[0m\u001b[1m \u001b[0m┃\n",
       "┡━━━━━━━━━━━━━━━━━━━━━━━━━━━━━━━╇━━━━━━━━━━━━━━━━━━━━━━━━━━━╇━━━━━━━━━━━━━━━━━╇━━━━━━━━━━━━━━━━━━━━━━━━━━━━┩\n",
       "│ padding_mask (\u001b[38;5;33mInputLayer\u001b[0m)     │ (\u001b[38;5;45mNone\u001b[0m, \u001b[38;5;45mNone\u001b[0m)              │               \u001b[38;5;34m0\u001b[0m │ -                          │\n",
       "├───────────────────────────────┼───────────────────────────┼─────────────────┼────────────────────────────┤\n",
       "│ token_ids (\u001b[38;5;33mInputLayer\u001b[0m)        │ (\u001b[38;5;45mNone\u001b[0m, \u001b[38;5;45mNone\u001b[0m)              │               \u001b[38;5;34m0\u001b[0m │ -                          │\n",
       "├───────────────────────────────┼───────────────────────────┼─────────────────┼────────────────────────────┤\n",
       "│ gemma_backbone                │ (\u001b[38;5;45mNone\u001b[0m, \u001b[38;5;45mNone\u001b[0m, \u001b[38;5;34m2048\u001b[0m)        │   \u001b[38;5;34m2,506,172,416\u001b[0m │ padding_mask[\u001b[38;5;34m0\u001b[0m][\u001b[38;5;34m0\u001b[0m],        │\n",
       "│ (\u001b[38;5;33mGemmaBackbone\u001b[0m)               │                           │                 │ token_ids[\u001b[38;5;34m0\u001b[0m][\u001b[38;5;34m0\u001b[0m]            │\n",
       "├───────────────────────────────┼───────────────────────────┼─────────────────┼────────────────────────────┤\n",
       "│ token_embedding               │ (\u001b[38;5;45mNone\u001b[0m, \u001b[38;5;45mNone\u001b[0m, \u001b[38;5;34m256000\u001b[0m)      │     \u001b[38;5;34m524,288,000\u001b[0m │ gemma_backbone[\u001b[38;5;34m0\u001b[0m][\u001b[38;5;34m0\u001b[0m]       │\n",
       "│ (\u001b[38;5;33mReversibleEmbedding\u001b[0m)         │                           │                 │                            │\n",
       "└───────────────────────────────┴───────────────────────────┴─────────────────┴────────────────────────────┘\n"
      ]
     },
     "metadata": {},
     "output_type": "display_data"
    },
    {
     "data": {
      "text/html": [
       "<pre style=\"white-space:pre;overflow-x:auto;line-height:normal;font-family:Menlo,'DejaVu Sans Mono',consolas,'Courier New',monospace\"><span style=\"font-weight: bold\"> Total params: </span><span style=\"color: #00af00; text-decoration-color: #00af00\">2,506,172,416</span> (9.34 GB)\n",
       "</pre>\n"
      ],
      "text/plain": [
       "\u001b[1m Total params: \u001b[0m\u001b[38;5;34m2,506,172,416\u001b[0m (9.34 GB)\n"
      ]
     },
     "metadata": {},
     "output_type": "display_data"
    },
    {
     "data": {
      "text/html": [
       "<pre style=\"white-space:pre;overflow-x:auto;line-height:normal;font-family:Menlo,'DejaVu Sans Mono',consolas,'Courier New',monospace\"><span style=\"font-weight: bold\"> Trainable params: </span><span style=\"color: #00af00; text-decoration-color: #00af00\">2,506,172,416</span> (9.34 GB)\n",
       "</pre>\n"
      ],
      "text/plain": [
       "\u001b[1m Trainable params: \u001b[0m\u001b[38;5;34m2,506,172,416\u001b[0m (9.34 GB)\n"
      ]
     },
     "metadata": {},
     "output_type": "display_data"
    },
    {
     "data": {
      "text/html": [
       "<pre style=\"white-space:pre;overflow-x:auto;line-height:normal;font-family:Menlo,'DejaVu Sans Mono',consolas,'Courier New',monospace\"><span style=\"font-weight: bold\"> Non-trainable params: </span><span style=\"color: #00af00; text-decoration-color: #00af00\">0</span> (0.00 B)\n",
       "</pre>\n"
      ],
      "text/plain": [
       "\u001b[1m Non-trainable params: \u001b[0m\u001b[38;5;34m0\u001b[0m (0.00 B)\n"
      ]
     },
     "metadata": {},
     "output_type": "display_data"
    }
   ],
   "source": [
    "gemma_lm = keras_nlp.models.GemmaCausalLM.from_preset(\"gemma_2b_en\")\n",
    "gemma_lm.summary()"
   ]
  },
  {
   "cell_type": "markdown",
   "id": "85388785",
   "metadata": {
    "papermill": {
     "duration": 0.011659,
     "end_time": "2024-04-07T09:28:28.891918",
     "exception": false,
     "start_time": "2024-04-07T09:28:28.880259",
     "status": "completed"
    },
    "tags": []
   },
   "source": [
    "## Gemma preprocessor"
   ]
  },
  {
   "cell_type": "code",
   "execution_count": 9,
   "id": "c991b292",
   "metadata": {
    "execution": {
     "iopub.execute_input": "2024-04-07T09:28:28.916681Z",
     "iopub.status.busy": "2024-04-07T09:28:28.916331Z",
     "iopub.status.idle": "2024-04-07T09:28:29.282907Z",
     "shell.execute_reply": "2024-04-07T09:28:29.281905Z"
    },
    "papermill": {
     "duration": 0.382166,
     "end_time": "2024-04-07T09:28:29.285866",
     "exception": false,
     "start_time": "2024-04-07T09:28:28.903700",
     "status": "completed"
    },
    "tags": []
   },
   "outputs": [],
   "source": [
    "x, y, sample_weight = gemma_lm.preprocessor(data[0:1])"
   ]
  },
  {
   "cell_type": "markdown",
   "id": "6e04571e",
   "metadata": {
    "papermill": {
     "duration": 0.016013,
     "end_time": "2024-04-07T09:28:29.318927",
     "exception": false,
     "start_time": "2024-04-07T09:28:29.302914",
     "status": "completed"
    },
    "tags": []
   },
   "source": [
    "## Enable LoRA for the model\n",
    "\n",
    "We set LoRA rank to 5. The higher the LoRA rank, the higher the number of trainable parameters."
   ]
  },
  {
   "cell_type": "code",
   "execution_count": 10,
   "id": "806abccc",
   "metadata": {
    "execution": {
     "iopub.execute_input": "2024-04-07T09:28:29.345319Z",
     "iopub.status.busy": "2024-04-07T09:28:29.344964Z",
     "iopub.status.idle": "2024-04-07T09:28:29.854369Z",
     "shell.execute_reply": "2024-04-07T09:28:29.853410Z"
    },
    "papermill": {
     "duration": 0.524612,
     "end_time": "2024-04-07T09:28:29.856470",
     "exception": false,
     "start_time": "2024-04-07T09:28:29.331858",
     "status": "completed"
    },
    "tags": []
   },
   "outputs": [
    {
     "data": {
      "text/html": [
       "<pre style=\"white-space:pre;overflow-x:auto;line-height:normal;font-family:Menlo,'DejaVu Sans Mono',consolas,'Courier New',monospace\"><span style=\"font-weight: bold\">Preprocessor: \"gemma_causal_lm_preprocessor\"</span>\n",
       "</pre>\n"
      ],
      "text/plain": [
       "\u001b[1mPreprocessor: \"gemma_causal_lm_preprocessor\"\u001b[0m\n"
      ]
     },
     "metadata": {},
     "output_type": "display_data"
    },
    {
     "data": {
      "text/html": [
       "<pre style=\"white-space:pre;overflow-x:auto;line-height:normal;font-family:Menlo,'DejaVu Sans Mono',consolas,'Courier New',monospace\">┏━━━━━━━━━━━━━━━━━━━━━━━━━━━━━━━━━━━━━━━━━━━━━━━━━━━━┳━━━━━━━━━━━━━━━━━━━━━━━━━━━━━━━━━━━━━━━━━━━━━━━━━━━━━┓\n",
       "┃<span style=\"font-weight: bold\"> Tokenizer (type)                                   </span>┃<span style=\"font-weight: bold\">                                             Vocab # </span>┃\n",
       "┡━━━━━━━━━━━━━━━━━━━━━━━━━━━━━━━━━━━━━━━━━━━━━━━━━━━━╇━━━━━━━━━━━━━━━━━━━━━━━━━━━━━━━━━━━━━━━━━━━━━━━━━━━━━┩\n",
       "│ gemma_tokenizer (<span style=\"color: #0087ff; text-decoration-color: #0087ff\">GemmaTokenizer</span>)                   │                                             <span style=\"color: #00af00; text-decoration-color: #00af00\">256,000</span> │\n",
       "└────────────────────────────────────────────────────┴─────────────────────────────────────────────────────┘\n",
       "</pre>\n"
      ],
      "text/plain": [
       "┏━━━━━━━━━━━━━━━━━━━━━━━━━━━━━━━━━━━━━━━━━━━━━━━━━━━━┳━━━━━━━━━━━━━━━━━━━━━━━━━━━━━━━━━━━━━━━━━━━━━━━━━━━━━┓\n",
       "┃\u001b[1m \u001b[0m\u001b[1mTokenizer (type)                                  \u001b[0m\u001b[1m \u001b[0m┃\u001b[1m \u001b[0m\u001b[1m                                            Vocab #\u001b[0m\u001b[1m \u001b[0m┃\n",
       "┡━━━━━━━━━━━━━━━━━━━━━━━━━━━━━━━━━━━━━━━━━━━━━━━━━━━━╇━━━━━━━━━━━━━━━━━━━━━━━━━━━━━━━━━━━━━━━━━━━━━━━━━━━━━┩\n",
       "│ gemma_tokenizer (\u001b[38;5;33mGemmaTokenizer\u001b[0m)                   │                                             \u001b[38;5;34m256,000\u001b[0m │\n",
       "└────────────────────────────────────────────────────┴─────────────────────────────────────────────────────┘\n"
      ]
     },
     "metadata": {},
     "output_type": "display_data"
    },
    {
     "data": {
      "text/html": [
       "<pre style=\"white-space:pre;overflow-x:auto;line-height:normal;font-family:Menlo,'DejaVu Sans Mono',consolas,'Courier New',monospace\"><span style=\"font-weight: bold\">Model: \"gemma_causal_lm\"</span>\n",
       "</pre>\n"
      ],
      "text/plain": [
       "\u001b[1mModel: \"gemma_causal_lm\"\u001b[0m\n"
      ]
     },
     "metadata": {},
     "output_type": "display_data"
    },
    {
     "data": {
      "text/html": [
       "<pre style=\"white-space:pre;overflow-x:auto;line-height:normal;font-family:Menlo,'DejaVu Sans Mono',consolas,'Courier New',monospace\">┏━━━━━━━━━━━━━━━━━━━━━━━━━━━━━━━┳━━━━━━━━━━━━━━━━━━━━━━━━━━━┳━━━━━━━━━━━━━━━━━┳━━━━━━━━━━━━━━━━━━━━━━━━━━━━┓\n",
       "┃<span style=\"font-weight: bold\"> Layer (type)                  </span>┃<span style=\"font-weight: bold\"> Output Shape              </span>┃<span style=\"font-weight: bold\">         Param # </span>┃<span style=\"font-weight: bold\"> Connected to               </span>┃\n",
       "┡━━━━━━━━━━━━━━━━━━━━━━━━━━━━━━━╇━━━━━━━━━━━━━━━━━━━━━━━━━━━╇━━━━━━━━━━━━━━━━━╇━━━━━━━━━━━━━━━━━━━━━━━━━━━━┩\n",
       "│ padding_mask (<span style=\"color: #0087ff; text-decoration-color: #0087ff\">InputLayer</span>)     │ (<span style=\"color: #00d7ff; text-decoration-color: #00d7ff\">None</span>, <span style=\"color: #00d7ff; text-decoration-color: #00d7ff\">None</span>)              │               <span style=\"color: #00af00; text-decoration-color: #00af00\">0</span> │ -                          │\n",
       "├───────────────────────────────┼───────────────────────────┼─────────────────┼────────────────────────────┤\n",
       "│ token_ids (<span style=\"color: #0087ff; text-decoration-color: #0087ff\">InputLayer</span>)        │ (<span style=\"color: #00d7ff; text-decoration-color: #00d7ff\">None</span>, <span style=\"color: #00d7ff; text-decoration-color: #00d7ff\">None</span>)              │               <span style=\"color: #00af00; text-decoration-color: #00af00\">0</span> │ -                          │\n",
       "├───────────────────────────────┼───────────────────────────┼─────────────────┼────────────────────────────┤\n",
       "│ gemma_backbone                │ (<span style=\"color: #00d7ff; text-decoration-color: #00d7ff\">None</span>, <span style=\"color: #00d7ff; text-decoration-color: #00d7ff\">None</span>, <span style=\"color: #00af00; text-decoration-color: #00af00\">2048</span>)        │   <span style=\"color: #00af00; text-decoration-color: #00af00\">2,507,877,376</span> │ padding_mask[<span style=\"color: #00af00; text-decoration-color: #00af00\">0</span>][<span style=\"color: #00af00; text-decoration-color: #00af00\">0</span>],        │\n",
       "│ (<span style=\"color: #0087ff; text-decoration-color: #0087ff\">GemmaBackbone</span>)               │                           │                 │ token_ids[<span style=\"color: #00af00; text-decoration-color: #00af00\">0</span>][<span style=\"color: #00af00; text-decoration-color: #00af00\">0</span>]            │\n",
       "├───────────────────────────────┼───────────────────────────┼─────────────────┼────────────────────────────┤\n",
       "│ token_embedding               │ (<span style=\"color: #00d7ff; text-decoration-color: #00d7ff\">None</span>, <span style=\"color: #00d7ff; text-decoration-color: #00d7ff\">None</span>, <span style=\"color: #00af00; text-decoration-color: #00af00\">256000</span>)      │     <span style=\"color: #00af00; text-decoration-color: #00af00\">524,288,000</span> │ gemma_backbone[<span style=\"color: #00af00; text-decoration-color: #00af00\">0</span>][<span style=\"color: #00af00; text-decoration-color: #00af00\">0</span>]       │\n",
       "│ (<span style=\"color: #0087ff; text-decoration-color: #0087ff\">ReversibleEmbedding</span>)         │                           │                 │                            │\n",
       "└───────────────────────────────┴───────────────────────────┴─────────────────┴────────────────────────────┘\n",
       "</pre>\n"
      ],
      "text/plain": [
       "┏━━━━━━━━━━━━━━━━━━━━━━━━━━━━━━━┳━━━━━━━━━━━━━━━━━━━━━━━━━━━┳━━━━━━━━━━━━━━━━━┳━━━━━━━━━━━━━━━━━━━━━━━━━━━━┓\n",
       "┃\u001b[1m \u001b[0m\u001b[1mLayer (type)                 \u001b[0m\u001b[1m \u001b[0m┃\u001b[1m \u001b[0m\u001b[1mOutput Shape             \u001b[0m\u001b[1m \u001b[0m┃\u001b[1m \u001b[0m\u001b[1m        Param #\u001b[0m\u001b[1m \u001b[0m┃\u001b[1m \u001b[0m\u001b[1mConnected to              \u001b[0m\u001b[1m \u001b[0m┃\n",
       "┡━━━━━━━━━━━━━━━━━━━━━━━━━━━━━━━╇━━━━━━━━━━━━━━━━━━━━━━━━━━━╇━━━━━━━━━━━━━━━━━╇━━━━━━━━━━━━━━━━━━━━━━━━━━━━┩\n",
       "│ padding_mask (\u001b[38;5;33mInputLayer\u001b[0m)     │ (\u001b[38;5;45mNone\u001b[0m, \u001b[38;5;45mNone\u001b[0m)              │               \u001b[38;5;34m0\u001b[0m │ -                          │\n",
       "├───────────────────────────────┼───────────────────────────┼─────────────────┼────────────────────────────┤\n",
       "│ token_ids (\u001b[38;5;33mInputLayer\u001b[0m)        │ (\u001b[38;5;45mNone\u001b[0m, \u001b[38;5;45mNone\u001b[0m)              │               \u001b[38;5;34m0\u001b[0m │ -                          │\n",
       "├───────────────────────────────┼───────────────────────────┼─────────────────┼────────────────────────────┤\n",
       "│ gemma_backbone                │ (\u001b[38;5;45mNone\u001b[0m, \u001b[38;5;45mNone\u001b[0m, \u001b[38;5;34m2048\u001b[0m)        │   \u001b[38;5;34m2,507,877,376\u001b[0m │ padding_mask[\u001b[38;5;34m0\u001b[0m][\u001b[38;5;34m0\u001b[0m],        │\n",
       "│ (\u001b[38;5;33mGemmaBackbone\u001b[0m)               │                           │                 │ token_ids[\u001b[38;5;34m0\u001b[0m][\u001b[38;5;34m0\u001b[0m]            │\n",
       "├───────────────────────────────┼───────────────────────────┼─────────────────┼────────────────────────────┤\n",
       "│ token_embedding               │ (\u001b[38;5;45mNone\u001b[0m, \u001b[38;5;45mNone\u001b[0m, \u001b[38;5;34m256000\u001b[0m)      │     \u001b[38;5;34m524,288,000\u001b[0m │ gemma_backbone[\u001b[38;5;34m0\u001b[0m][\u001b[38;5;34m0\u001b[0m]       │\n",
       "│ (\u001b[38;5;33mReversibleEmbedding\u001b[0m)         │                           │                 │                            │\n",
       "└───────────────────────────────┴───────────────────────────┴─────────────────┴────────────────────────────┘\n"
      ]
     },
     "metadata": {},
     "output_type": "display_data"
    },
    {
     "data": {
      "text/html": [
       "<pre style=\"white-space:pre;overflow-x:auto;line-height:normal;font-family:Menlo,'DejaVu Sans Mono',consolas,'Courier New',monospace\"><span style=\"font-weight: bold\"> Total params: </span><span style=\"color: #00af00; text-decoration-color: #00af00\">2,507,877,376</span> (9.34 GB)\n",
       "</pre>\n"
      ],
      "text/plain": [
       "\u001b[1m Total params: \u001b[0m\u001b[38;5;34m2,507,877,376\u001b[0m (9.34 GB)\n"
      ]
     },
     "metadata": {},
     "output_type": "display_data"
    },
    {
     "data": {
      "text/html": [
       "<pre style=\"white-space:pre;overflow-x:auto;line-height:normal;font-family:Menlo,'DejaVu Sans Mono',consolas,'Courier New',monospace\"><span style=\"font-weight: bold\"> Trainable params: </span><span style=\"color: #00af00; text-decoration-color: #00af00\">1,704,960</span> (6.50 MB)\n",
       "</pre>\n"
      ],
      "text/plain": [
       "\u001b[1m Trainable params: \u001b[0m\u001b[38;5;34m1,704,960\u001b[0m (6.50 MB)\n"
      ]
     },
     "metadata": {},
     "output_type": "display_data"
    },
    {
     "data": {
      "text/html": [
       "<pre style=\"white-space:pre;overflow-x:auto;line-height:normal;font-family:Menlo,'DejaVu Sans Mono',consolas,'Courier New',monospace\"><span style=\"font-weight: bold\"> Non-trainable params: </span><span style=\"color: #00af00; text-decoration-color: #00af00\">2,506,172,416</span> (9.34 GB)\n",
       "</pre>\n"
      ],
      "text/plain": [
       "\u001b[1m Non-trainable params: \u001b[0m\u001b[38;5;34m2,506,172,416\u001b[0m (9.34 GB)\n"
      ]
     },
     "metadata": {},
     "output_type": "display_data"
    }
   ],
   "source": [
    "# Enable LoRA for the model and set the LoRA rank to 5.\n",
    "gemma_lm.backbone.enable_lora(rank=5)\n",
    "gemma_lm.summary()"
   ]
  },
  {
   "cell_type": "markdown",
   "id": "e160d754",
   "metadata": {
    "papermill": {
     "duration": 0.012799,
     "end_time": "2024-04-07T09:28:29.882403",
     "exception": false,
     "start_time": "2024-04-07T09:28:29.869604",
     "status": "completed"
    },
    "tags": []
   },
   "source": [
    "The total trainable parameters is 1.7 M (or 6.5 MB).  \n",
    "This is less than 0.06% of the 2,5G (9.35 GB) total trainable parameters."
   ]
  },
  {
   "cell_type": "markdown",
   "id": "8504db1d",
   "metadata": {
    "papermill": {
     "duration": 0.012672,
     "end_time": "2024-04-07T09:28:29.907976",
     "exception": false,
     "start_time": "2024-04-07T09:28:29.895304",
     "status": "completed"
    },
    "tags": []
   },
   "source": [
    "## Run the fine-tuning sequence"
   ]
  },
  {
   "cell_type": "code",
   "execution_count": 11,
   "id": "734599ea",
   "metadata": {
    "execution": {
     "iopub.execute_input": "2024-04-07T09:28:29.936377Z",
     "iopub.status.busy": "2024-04-07T09:28:29.935456Z",
     "iopub.status.idle": "2024-04-07T09:49:26.276696Z",
     "shell.execute_reply": "2024-04-07T09:49:26.275708Z"
    },
    "papermill": {
     "duration": 1256.495683,
     "end_time": "2024-04-07T09:49:26.416560",
     "exception": false,
     "start_time": "2024-04-07T09:28:29.920877",
     "status": "completed"
    },
    "tags": []
   },
   "outputs": [
    {
     "name": "stdout",
     "output_type": "stream",
     "text": [
      "Epoch 1/10\n",
      "\u001b[1m166/166\u001b[0m \u001b[32m━━━━━━━━━━━━━━━━━━━━\u001b[0m\u001b[37m\u001b[0m \u001b[1m143s\u001b[0m 731ms/step - loss: 0.5137 - sparse_categorical_accuracy: 0.5402\n",
      "Epoch 2/10\n",
      "\u001b[1m166/166\u001b[0m \u001b[32m━━━━━━━━━━━━━━━━━━━━\u001b[0m\u001b[37m\u001b[0m \u001b[1m121s\u001b[0m 729ms/step - loss: 0.4342 - sparse_categorical_accuracy: 0.5783\n",
      "Epoch 3/10\n",
      "\u001b[1m166/166\u001b[0m \u001b[32m━━━━━━━━━━━━━━━━━━━━\u001b[0m\u001b[37m\u001b[0m \u001b[1m121s\u001b[0m 729ms/step - loss: 0.4123 - sparse_categorical_accuracy: 0.5927\n",
      "Epoch 4/10\n",
      "\u001b[1m166/166\u001b[0m \u001b[32m━━━━━━━━━━━━━━━━━━━━\u001b[0m\u001b[37m\u001b[0m \u001b[1m121s\u001b[0m 729ms/step - loss: 0.3994 - sparse_categorical_accuracy: 0.6016\n",
      "Epoch 5/10\n",
      "\u001b[1m166/166\u001b[0m \u001b[32m━━━━━━━━━━━━━━━━━━━━\u001b[0m\u001b[37m\u001b[0m \u001b[1m121s\u001b[0m 728ms/step - loss: 0.3898 - sparse_categorical_accuracy: 0.6081\n",
      "Epoch 6/10\n",
      "\u001b[1m166/166\u001b[0m \u001b[32m━━━━━━━━━━━━━━━━━━━━\u001b[0m\u001b[37m\u001b[0m \u001b[1m121s\u001b[0m 729ms/step - loss: 0.3777 - sparse_categorical_accuracy: 0.6162\n",
      "Epoch 7/10\n",
      "\u001b[1m166/166\u001b[0m \u001b[32m━━━━━━━━━━━━━━━━━━━━\u001b[0m\u001b[37m\u001b[0m \u001b[1m121s\u001b[0m 728ms/step - loss: 0.3622 - sparse_categorical_accuracy: 0.6280\n",
      "Epoch 8/10\n",
      "\u001b[1m166/166\u001b[0m \u001b[32m━━━━━━━━━━━━━━━━━━━━\u001b[0m\u001b[37m\u001b[0m \u001b[1m121s\u001b[0m 728ms/step - loss: 0.3435 - sparse_categorical_accuracy: 0.6435\n",
      "Epoch 9/10\n",
      "\u001b[1m166/166\u001b[0m \u001b[32m━━━━━━━━━━━━━━━━━━━━\u001b[0m\u001b[37m\u001b[0m \u001b[1m121s\u001b[0m 728ms/step - loss: 0.3208 - sparse_categorical_accuracy: 0.6625\n",
      "Epoch 10/10\n",
      "\u001b[1m166/166\u001b[0m \u001b[32m━━━━━━━━━━━━━━━━━━━━\u001b[0m\u001b[37m\u001b[0m \u001b[1m143s\u001b[0m 860ms/step - loss: 0.2951 - sparse_categorical_accuracy: 0.6858\n"
     ]
    },
    {
     "data": {
      "text/plain": [
       "<keras.src.callbacks.history.History at 0x7dd650206b30>"
      ]
     },
     "execution_count": 11,
     "metadata": {},
     "output_type": "execute_result"
    }
   ],
   "source": [
    "# Limit the input sequence length to 512 (to control memory usage).\n",
    "gemma_lm.preprocessor.sequence_length = Config.sequence_length \n",
    "\n",
    "# Compile the model with loss, optimizer, and metric\n",
    "gemma_lm.compile(\n",
    "    loss=keras.losses.SparseCategoricalCrossentropy(from_logits=True),\n",
    "    optimizer=keras.optimizers.Adam(learning_rate=8e-5),\n",
    "    weighted_metrics=[keras.metrics.SparseCategoricalAccuracy()],\n",
    ")\n",
    "\n",
    "# Train model\n",
    "gemma_lm.fit(data, epochs=Config.epochs, batch_size=Config.batch_size)"
   ]
  },
  {
   "cell_type": "markdown",
   "id": "26106c66",
   "metadata": {
    "papermill": {
     "duration": 0.197218,
     "end_time": "2024-04-07T09:49:26.764297",
     "exception": false,
     "start_time": "2024-04-07T09:49:26.567079",
     "status": "completed"
    },
    "tags": []
   },
   "source": [
    "# Test the fine-tuned model"
   ]
  },
  {
   "cell_type": "markdown",
   "id": "225e22a6",
   "metadata": {
    "papermill": {
     "duration": 0.151857,
     "end_time": "2024-04-07T09:49:27.066997",
     "exception": false,
     "start_time": "2024-04-07T09:49:26.915140",
     "status": "completed"
    },
    "tags": []
   },
   "source": [
    "## Define the specialized class"
   ]
  },
  {
   "cell_type": "code",
   "execution_count": 12,
   "id": "50544ac3",
   "metadata": {
    "execution": {
     "iopub.execute_input": "2024-04-07T09:49:27.368332Z",
     "iopub.status.busy": "2024-04-07T09:49:27.367433Z",
     "iopub.status.idle": "2024-04-07T09:49:27.374221Z",
     "shell.execute_reply": "2024-04-07T09:49:27.373297Z"
    },
    "papermill": {
     "duration": 0.158907,
     "end_time": "2024-04-07T09:49:27.376068",
     "exception": false,
     "start_time": "2024-04-07T09:49:27.217161",
     "status": "completed"
    },
    "tags": []
   },
   "outputs": [],
   "source": [
    "class GemmaQA:\n",
    "    def __init__(self, max_length=512):\n",
    "        self.max_length = max_length\n",
    "        self.prompt = \"\\n\\nQuestion:\\n{question}\\n\\nAnswer:\\n{answer}\"\n",
    "        self.gemma_lm = gemma_lm\n",
    "        \n",
    "    def query(self, question):\n",
    "        t_start = time()\n",
    "        response = self.gemma_lm.generate(\n",
    "            self.prompt.format(\n",
    "                question=question,\n",
    "                answer=\"\"), \n",
    "            max_length=self.max_length)\n",
    "        t_end = time()\n",
    "        display(Markdown(colorize_text(f\"{response}\\nTotal time: {round(t_end - t_start,2)} sec.\")))\n",
    "        "
   ]
  },
  {
   "cell_type": "code",
   "execution_count": 13,
   "id": "5bc68012",
   "metadata": {
    "execution": {
     "iopub.execute_input": "2024-04-07T09:49:27.678058Z",
     "iopub.status.busy": "2024-04-07T09:49:27.677378Z",
     "iopub.status.idle": "2024-04-07T09:49:27.681710Z",
     "shell.execute_reply": "2024-04-07T09:49:27.680802Z"
    },
    "papermill": {
     "duration": 0.157718,
     "end_time": "2024-04-07T09:49:27.683579",
     "exception": false,
     "start_time": "2024-04-07T09:49:27.525861",
     "status": "completed"
    },
    "tags": []
   },
   "outputs": [],
   "source": [
    "gemma_qa = GemmaQA()"
   ]
  },
  {
   "cell_type": "markdown",
   "id": "301f1d15",
   "metadata": {
    "papermill": {
     "duration": 0.151602,
     "end_time": "2024-04-07T09:49:27.984984",
     "exception": false,
     "start_time": "2024-04-07T09:49:27.833382",
     "status": "completed"
    },
    "tags": []
   },
   "source": [
    "## Test 1"
   ]
  },
  {
   "cell_type": "code",
   "execution_count": 14,
   "id": "46bd9ebe",
   "metadata": {
    "execution": {
     "iopub.execute_input": "2024-04-07T09:49:28.286673Z",
     "iopub.status.busy": "2024-04-07T09:49:28.285823Z",
     "iopub.status.idle": "2024-04-07T09:49:42.031218Z",
     "shell.execute_reply": "2024-04-07T09:49:42.030315Z"
    },
    "papermill": {
     "duration": 13.899549,
     "end_time": "2024-04-07T09:49:42.033313",
     "exception": false,
     "start_time": "2024-04-07T09:49:28.133764",
     "status": "completed"
    },
    "tags": []
   },
   "outputs": [
    {
     "data": {
      "text/markdown": [
       "\n",
       "\n",
       "**<font color='blue'>Question:</font>**\n",
       "What is linear regression? When do we use it? 👶\n",
       "\n",
       "**<font color='redblue'>Answer:</font>**\n",
       "Linear regression is a statistical method for predicting a single value for a new input, by solving a linear equation with known (or parameterized) constants, or feature values, or regression coefficients.\n",
       "Total time: 13.74 sec."
      ],
      "text/plain": [
       "<IPython.core.display.Markdown object>"
      ]
     },
     "metadata": {},
     "output_type": "display_data"
    }
   ],
   "source": [
    "row = df.iloc[2]\n",
    "gemma_qa.query(row.question)"
   ]
  },
  {
   "cell_type": "markdown",
   "id": "c7c68eef",
   "metadata": {
    "papermill": {
     "duration": 0.14953,
     "end_time": "2024-04-07T09:49:42.334866",
     "exception": false,
     "start_time": "2024-04-07T09:49:42.185336",
     "status": "completed"
    },
    "tags": []
   },
   "source": [
    "## Test 2"
   ]
  },
  {
   "cell_type": "code",
   "execution_count": 15,
   "id": "f4c0dacc",
   "metadata": {
    "execution": {
     "iopub.execute_input": "2024-04-07T09:49:42.639887Z",
     "iopub.status.busy": "2024-04-07T09:49:42.639017Z",
     "iopub.status.idle": "2024-04-07T09:49:45.599487Z",
     "shell.execute_reply": "2024-04-07T09:49:45.598520Z"
    },
    "papermill": {
     "duration": 3.115133,
     "end_time": "2024-04-07T09:49:45.602119",
     "exception": false,
     "start_time": "2024-04-07T09:49:42.486986",
     "status": "completed"
    },
    "tags": []
   },
   "outputs": [
    {
     "data": {
      "text/markdown": [
       "\n",
       "\n",
       "**<font color='blue'>Question:</font>**\n",
       "What is SGD  —  stochastic gradient descent? What’s the difference with the usual gradient descent? ‍⭐️\n",
       "\n",
       "**<font color='redblue'>Answer:</font>**\n",
       "Stochastic gradient descent is a variant of gradient descent where the gradient is calculated using only a random sample from the training set. This means that the update step is only based on a random sample from the training set. The usual gradient descent uses the whole training set to calculate the gradient. This means that the update step is based on all the training examples.\n",
       "\n",
       "The difference between SGD and gradient descent is that SGD is faster to compute, since it only requires one calculation of the gradient per iteration.\n",
       "Total time: 2.95 sec."
      ],
      "text/plain": [
       "<IPython.core.display.Markdown object>"
      ]
     },
     "metadata": {},
     "output_type": "display_data"
    }
   ],
   "source": [
    "row = df.iloc[10]\n",
    "gemma_qa.query(row.question)"
   ]
  },
  {
   "cell_type": "markdown",
   "id": "f7633862",
   "metadata": {
    "papermill": {
     "duration": 0.15419,
     "end_time": "2024-04-07T09:49:45.912861",
     "exception": false,
     "start_time": "2024-04-07T09:49:45.758671",
     "status": "completed"
    },
    "tags": []
   },
   "source": [
    "## Test 3"
   ]
  },
  {
   "cell_type": "code",
   "execution_count": 16,
   "id": "f54ecb66",
   "metadata": {
    "execution": {
     "iopub.execute_input": "2024-04-07T09:49:46.220732Z",
     "iopub.status.busy": "2024-04-07T09:49:46.220134Z",
     "iopub.status.idle": "2024-04-07T09:49:46.579736Z",
     "shell.execute_reply": "2024-04-07T09:49:46.578753Z"
    },
    "papermill": {
     "duration": 0.514468,
     "end_time": "2024-04-07T09:49:46.581785",
     "exception": false,
     "start_time": "2024-04-07T09:49:46.067317",
     "status": "completed"
    },
    "tags": []
   },
   "outputs": [
    {
     "data": {
      "text/markdown": [
       "\n",
       "\n",
       "**<font color='blue'>Question:</font>**\n",
       "How to validate your models? 👶\n",
       "\n",
       "**<font color='redblue'>Answer:</font>**\n",
       "Answer here\n",
       "Total time: 0.35 sec."
      ],
      "text/plain": [
       "<IPython.core.display.Markdown object>"
      ]
     },
     "metadata": {},
     "output_type": "display_data"
    }
   ],
   "source": [
    "row = df.iloc[15]\n",
    "gemma_qa.query(row.question)"
   ]
  },
  {
   "cell_type": "markdown",
   "id": "61253c55",
   "metadata": {
    "papermill": {
     "duration": 0.150583,
     "end_time": "2024-04-07T09:49:46.886529",
     "exception": false,
     "start_time": "2024-04-07T09:49:46.735946",
     "status": "completed"
    },
    "tags": []
   },
   "source": [
    "## Fresh question 1"
   ]
  },
  {
   "cell_type": "code",
   "execution_count": 17,
   "id": "09066103",
   "metadata": {
    "execution": {
     "iopub.execute_input": "2024-04-07T09:49:47.195173Z",
     "iopub.status.busy": "2024-04-07T09:49:47.194037Z",
     "iopub.status.idle": "2024-04-07T09:49:48.204322Z",
     "shell.execute_reply": "2024-04-07T09:49:48.203305Z"
    },
    "papermill": {
     "duration": 1.165337,
     "end_time": "2024-04-07T09:49:48.206230",
     "exception": false,
     "start_time": "2024-04-07T09:49:47.040893",
     "status": "completed"
    },
    "tags": []
   },
   "outputs": [
    {
     "data": {
      "text/markdown": [
       "\n",
       "\n",
       "**<font color='blue'>Question:</font>**\n",
       "What is regularization?\n",
       "\n",
       "**<font color='redblue'>Answer:</font>**\n",
       "Regularization is a technique for preventing your neural networks from overfitting. It does this by adding some penalty to your cost function.\n",
       "Total time: 1.0 sec."
      ],
      "text/plain": [
       "<IPython.core.display.Markdown object>"
      ]
     },
     "metadata": {},
     "output_type": "display_data"
    }
   ],
   "source": [
    "question = \"What is regularization?\"\n",
    "gemma_qa.query(question)"
   ]
  },
  {
   "cell_type": "markdown",
   "id": "4a6e03c5",
   "metadata": {
    "papermill": {
     "duration": 0.150582,
     "end_time": "2024-04-07T09:49:48.507782",
     "exception": false,
     "start_time": "2024-04-07T09:49:48.357200",
     "status": "completed"
    },
    "tags": []
   },
   "source": [
    "## Fresh question 2"
   ]
  },
  {
   "cell_type": "code",
   "execution_count": 18,
   "id": "873a9a03",
   "metadata": {
    "execution": {
     "iopub.execute_input": "2024-04-07T09:49:48.811278Z",
     "iopub.status.busy": "2024-04-07T09:49:48.810335Z",
     "iopub.status.idle": "2024-04-07T09:49:50.197492Z",
     "shell.execute_reply": "2024-04-07T09:49:50.196558Z"
    },
    "papermill": {
     "duration": 1.540764,
     "end_time": "2024-04-07T09:49:50.199558",
     "exception": false,
     "start_time": "2024-04-07T09:49:48.658794",
     "status": "completed"
    },
    "tags": []
   },
   "outputs": [
    {
     "data": {
      "text/markdown": [
       "\n",
       "\n",
       "**<font color='blue'>Question:</font>**\n",
       "What is SVM?\n",
       "\n",
       "**<font color='redblue'>Answer:</font>**\n",
       "Support Vector Machine (SVM) is a supervised machine learning algorithm that finds a optimal boundary between the data points, called support vectors, such that the data points closest to the boundary are called support vectors.\n",
       "Total time: 1.38 sec."
      ],
      "text/plain": [
       "<IPython.core.display.Markdown object>"
      ]
     },
     "metadata": {},
     "output_type": "display_data"
    }
   ],
   "source": [
    "question = \"What is SVM?\"\n",
    "gemma_qa.query(question)"
   ]
  },
  {
   "cell_type": "markdown",
   "id": "13b6dcd6",
   "metadata": {
    "papermill": {
     "duration": 0.149818,
     "end_time": "2024-04-07T09:49:50.500305",
     "exception": false,
     "start_time": "2024-04-07T09:49:50.350487",
     "status": "completed"
    },
    "tags": []
   },
   "source": [
    "## Fresh question 3"
   ]
  },
  {
   "cell_type": "code",
   "execution_count": 19,
   "id": "fdee45ed",
   "metadata": {
    "execution": {
     "iopub.execute_input": "2024-04-07T09:49:50.806484Z",
     "iopub.status.busy": "2024-04-07T09:49:50.806108Z",
     "iopub.status.idle": "2024-04-07T09:49:51.760890Z",
     "shell.execute_reply": "2024-04-07T09:49:51.759864Z"
    },
    "papermill": {
     "duration": 1.110689,
     "end_time": "2024-04-07T09:49:51.762948",
     "exception": false,
     "start_time": "2024-04-07T09:49:50.652259",
     "status": "completed"
    },
    "tags": []
   },
   "outputs": [
    {
     "data": {
      "text/markdown": [
       "\n",
       "\n",
       "**<font color='blue'>Question:</font>**\n",
       "What is Dropout?\n",
       "\n",
       "**<font color='redblue'>Answer:</font>**\n",
       "Dropout is a technique that randomly turns off connections between layers in a neural network, which prevents the network from overfitting.\n",
       "Total time: 0.95 sec."
      ],
      "text/plain": [
       "<IPython.core.display.Markdown object>"
      ]
     },
     "metadata": {},
     "output_type": "display_data"
    }
   ],
   "source": [
    "question = \"What is Dropout?\"\n",
    "gemma_qa.query(question)"
   ]
  },
  {
   "cell_type": "markdown",
   "id": "3166a1a7",
   "metadata": {
    "papermill": {
     "duration": 0.200591,
     "end_time": "2024-04-07T09:49:52.119322",
     "exception": false,
     "start_time": "2024-04-07T09:49:51.918731",
     "status": "completed"
    },
    "tags": []
   },
   "source": [
    "## Fresh question 4"
   ]
  },
  {
   "cell_type": "code",
   "execution_count": 20,
   "id": "594a8460",
   "metadata": {
    "execution": {
     "iopub.execute_input": "2024-04-07T09:49:52.426710Z",
     "iopub.status.busy": "2024-04-07T09:49:52.426000Z",
     "iopub.status.idle": "2024-04-07T09:49:54.029621Z",
     "shell.execute_reply": "2024-04-07T09:49:54.028625Z"
    },
    "papermill": {
     "duration": 1.759132,
     "end_time": "2024-04-07T09:49:54.032077",
     "exception": false,
     "start_time": "2024-04-07T09:49:52.272945",
     "status": "completed"
    },
    "tags": []
   },
   "outputs": [
    {
     "data": {
      "text/markdown": [
       "\n",
       "\n",
       "**<font color='blue'>Question:</font>**\n",
       "Please describe the principle of decision trees.\n",
       "\n",
       "**<font color='redblue'>Answer:</font>**\n",
       "A decision tree is a tree-structured prediction model in which the nodes represent the possible inputs (or features), the branches represent the application of a test on the input, and the leaves (or outcomes) represent the outcomes of the prediction.\n",
       "Total time: 1.6 sec."
      ],
      "text/plain": [
       "<IPython.core.display.Markdown object>"
      ]
     },
     "metadata": {},
     "output_type": "display_data"
    }
   ],
   "source": [
    "question = \"Please describe the principle of decision trees.\"\n",
    "gemma_qa.query(question)"
   ]
  },
  {
   "cell_type": "markdown",
   "id": "2efd15e4",
   "metadata": {
    "papermill": {
     "duration": 0.152209,
     "end_time": "2024-04-07T09:49:54.343553",
     "exception": false,
     "start_time": "2024-04-07T09:49:54.191344",
     "status": "completed"
    },
    "tags": []
   },
   "source": [
    "## Fresh question 5"
   ]
  },
  {
   "cell_type": "code",
   "execution_count": 21,
   "id": "b583952a",
   "metadata": {
    "execution": {
     "iopub.execute_input": "2024-04-07T09:49:54.650679Z",
     "iopub.status.busy": "2024-04-07T09:49:54.650022Z",
     "iopub.status.idle": "2024-04-07T09:49:56.686988Z",
     "shell.execute_reply": "2024-04-07T09:49:56.686025Z"
    },
    "papermill": {
     "duration": 2.19232,
     "end_time": "2024-04-07T09:49:56.689136",
     "exception": false,
     "start_time": "2024-04-07T09:49:54.496816",
     "status": "completed"
    },
    "tags": []
   },
   "outputs": [
    {
     "data": {
      "text/markdown": [
       "\n",
       "\n",
       "**<font color='blue'>Question:</font>**\n",
       "Please describe logistic regression principle.\n",
       "\n",
       "**<font color='redblue'>Answer:</font>**\n",
       "Logistic regression is a machine learning algorithm that is used for classification problems. It is also known as the logistic function or sigmoid function. The main idea behind logistic regression is to find a set of weights that minimizes the probability of a prediction being wrong. It is used when we have a binary dependent variable and many independent variables.\n",
       "Total time: 2.03 sec."
      ],
      "text/plain": [
       "<IPython.core.display.Markdown object>"
      ]
     },
     "metadata": {},
     "output_type": "display_data"
    }
   ],
   "source": [
    "question = \"Please describe logistic regression principle.\"\n",
    "gemma_qa.query(question)"
   ]
  },
  {
   "cell_type": "markdown",
   "id": "33a1aace",
   "metadata": {
    "papermill": {
     "duration": 0.154989,
     "end_time": "2024-04-07T09:49:57.006381",
     "exception": false,
     "start_time": "2024-04-07T09:49:56.851392",
     "status": "completed"
    },
    "tags": []
   },
   "source": [
    "# Conclusions\n",
    "\n",
    "\n",
    "We fine-tuned Gemma with a set of Data Science interview question and answers.   \n",
    "Then we tested the model with questions from the dataset used for fine-tuning.  \n",
    "At the end, we also tested with some free formulated questions, not from the dataset."
   ]
  }
 ],
 "metadata": {
  "kaggle": {
   "accelerator": "gpu",
   "dataSources": [
    {
     "databundleVersionId": 7669720,
     "sourceId": 64148,
     "sourceType": "competition"
    },
    {
     "datasetId": 4498747,
     "sourceId": 7705679,
     "sourceType": "datasetVersion"
    },
    {
     "modelInstanceId": 5171,
     "sourceId": 11371,
     "sourceType": "modelInstanceVersion"
    }
   ],
   "dockerImageVersionId": 30674,
   "isGpuEnabled": true,
   "isInternetEnabled": true,
   "language": "python",
   "sourceType": "notebook"
  },
  "kernelspec": {
   "display_name": "Python 3",
   "language": "python",
   "name": "python3"
  },
  "language_info": {
   "codemirror_mode": {
    "name": "ipython",
    "version": 3
   },
   "file_extension": ".py",
   "mimetype": "text/x-python",
   "name": "python",
   "nbconvert_exporter": "python",
   "pygments_lexer": "ipython3",
   "version": "3.10.13"
  },
  "papermill": {
   "default_parameters": {},
   "duration": 1396.928815,
   "end_time": "2024-04-07T09:50:01.004873",
   "environment_variables": {},
   "exception": null,
   "input_path": "__notebook__.ipynb",
   "output_path": "__notebook__.ipynb",
   "parameters": {},
   "start_time": "2024-04-07T09:26:44.076058",
   "version": "2.5.0"
  },
  "widgets": {
   "application/vnd.jupyter.widget-state+json": {
    "state": {
     "0720785f97c846f0a531535b8e251d03": {
      "model_module": "@jupyter-widgets/base",
      "model_module_version": "1.2.0",
      "model_name": "LayoutModel",
      "state": {
       "_model_module": "@jupyter-widgets/base",
       "_model_module_version": "1.2.0",
       "_model_name": "LayoutModel",
       "_view_count": null,
       "_view_module": "@jupyter-widgets/base",
       "_view_module_version": "1.2.0",
       "_view_name": "LayoutView",
       "align_content": null,
       "align_items": null,
       "align_self": null,
       "border": null,
       "bottom": null,
       "display": null,
       "flex": null,
       "flex_flow": null,
       "grid_area": null,
       "grid_auto_columns": null,
       "grid_auto_flow": null,
       "grid_auto_rows": null,
       "grid_column": null,
       "grid_gap": null,
       "grid_row": null,
       "grid_template_areas": null,
       "grid_template_columns": null,
       "grid_template_rows": null,
       "height": null,
       "justify_content": null,
       "justify_items": null,
       "left": null,
       "margin": null,
       "max_height": null,
       "max_width": null,
       "min_height": null,
       "min_width": null,
       "object_fit": null,
       "object_position": null,
       "order": null,
       "overflow": null,
       "overflow_x": null,
       "overflow_y": null,
       "padding": null,
       "right": null,
       "top": null,
       "visibility": null,
       "width": null
      }
     },
     "0a6bf3a9cd0d4fca9df477d9aee9d98f": {
      "model_module": "@jupyter-widgets/controls",
      "model_module_version": "1.5.0",
      "model_name": "HTMLModel",
      "state": {
       "_dom_classes": [],
       "_model_module": "@jupyter-widgets/controls",
       "_model_module_version": "1.5.0",
       "_model_name": "HTMLModel",
       "_view_count": null,
       "_view_module": "@jupyter-widgets/controls",
       "_view_module_version": "1.5.0",
       "_view_name": "HTMLView",
       "description": "",
       "description_tooltip": null,
       "layout": "IPY_MODEL_0720785f97c846f0a531535b8e251d03",
       "placeholder": "​",
       "style": "IPY_MODEL_6a41837f24634f83a21cb01f44e89788",
       "value": "100%"
      }
     },
     "1ceefb9262704ae1a6368a9476b1ecd1": {
      "model_module": "@jupyter-widgets/controls",
      "model_module_version": "1.5.0",
      "model_name": "FloatProgressModel",
      "state": {
       "_dom_classes": [],
       "_model_module": "@jupyter-widgets/controls",
       "_model_module_version": "1.5.0",
       "_model_name": "FloatProgressModel",
       "_view_count": null,
       "_view_module": "@jupyter-widgets/controls",
       "_view_module_version": "1.5.0",
       "_view_name": "ProgressView",
       "bar_style": "success",
       "description": "",
       "description_tooltip": null,
       "layout": "IPY_MODEL_597f0cd3674249db9cb689a9f80fc91b",
       "max": 166.0,
       "min": 0.0,
       "orientation": "horizontal",
       "style": "IPY_MODEL_cb0a04b3f4b34c989a40104707cf2c2f",
       "value": 166.0
      }
     },
     "4ef5dbfa59b143918d6eb444edce2cfa": {
      "model_module": "@jupyter-widgets/controls",
      "model_module_version": "1.5.0",
      "model_name": "HTMLModel",
      "state": {
       "_dom_classes": [],
       "_model_module": "@jupyter-widgets/controls",
       "_model_module_version": "1.5.0",
       "_model_name": "HTMLModel",
       "_view_count": null,
       "_view_module": "@jupyter-widgets/controls",
       "_view_module_version": "1.5.0",
       "_view_name": "HTMLView",
       "description": "",
       "description_tooltip": null,
       "layout": "IPY_MODEL_ff3b5502ecf34f0fb06994bf095f0ca2",
       "placeholder": "​",
       "style": "IPY_MODEL_d7bed0ba26e847fba206da9ab64d70c1",
       "value": " 166/166 [00:00&lt;00:00, 9042.27it/s]"
      }
     },
     "597f0cd3674249db9cb689a9f80fc91b": {
      "model_module": "@jupyter-widgets/base",
      "model_module_version": "1.2.0",
      "model_name": "LayoutModel",
      "state": {
       "_model_module": "@jupyter-widgets/base",
       "_model_module_version": "1.2.0",
       "_model_name": "LayoutModel",
       "_view_count": null,
       "_view_module": "@jupyter-widgets/base",
       "_view_module_version": "1.2.0",
       "_view_name": "LayoutView",
       "align_content": null,
       "align_items": null,
       "align_self": null,
       "border": null,
       "bottom": null,
       "display": null,
       "flex": null,
       "flex_flow": null,
       "grid_area": null,
       "grid_auto_columns": null,
       "grid_auto_flow": null,
       "grid_auto_rows": null,
       "grid_column": null,
       "grid_gap": null,
       "grid_row": null,
       "grid_template_areas": null,
       "grid_template_columns": null,
       "grid_template_rows": null,
       "height": null,
       "justify_content": null,
       "justify_items": null,
       "left": null,
       "margin": null,
       "max_height": null,
       "max_width": null,
       "min_height": null,
       "min_width": null,
       "object_fit": null,
       "object_position": null,
       "order": null,
       "overflow": null,
       "overflow_x": null,
       "overflow_y": null,
       "padding": null,
       "right": null,
       "top": null,
       "visibility": null,
       "width": null
      }
     },
     "6a41837f24634f83a21cb01f44e89788": {
      "model_module": "@jupyter-widgets/controls",
      "model_module_version": "1.5.0",
      "model_name": "DescriptionStyleModel",
      "state": {
       "_model_module": "@jupyter-widgets/controls",
       "_model_module_version": "1.5.0",
       "_model_name": "DescriptionStyleModel",
       "_view_count": null,
       "_view_module": "@jupyter-widgets/base",
       "_view_module_version": "1.2.0",
       "_view_name": "StyleView",
       "description_width": ""
      }
     },
     "b9a37c6316f440b6a1b3519cc2a71c1b": {
      "model_module": "@jupyter-widgets/base",
      "model_module_version": "1.2.0",
      "model_name": "LayoutModel",
      "state": {
       "_model_module": "@jupyter-widgets/base",
       "_model_module_version": "1.2.0",
       "_model_name": "LayoutModel",
       "_view_count": null,
       "_view_module": "@jupyter-widgets/base",
       "_view_module_version": "1.2.0",
       "_view_name": "LayoutView",
       "align_content": null,
       "align_items": null,
       "align_self": null,
       "border": null,
       "bottom": null,
       "display": null,
       "flex": null,
       "flex_flow": null,
       "grid_area": null,
       "grid_auto_columns": null,
       "grid_auto_flow": null,
       "grid_auto_rows": null,
       "grid_column": null,
       "grid_gap": null,
       "grid_row": null,
       "grid_template_areas": null,
       "grid_template_columns": null,
       "grid_template_rows": null,
       "height": null,
       "justify_content": null,
       "justify_items": null,
       "left": null,
       "margin": null,
       "max_height": null,
       "max_width": null,
       "min_height": null,
       "min_width": null,
       "object_fit": null,
       "object_position": null,
       "order": null,
       "overflow": null,
       "overflow_x": null,
       "overflow_y": null,
       "padding": null,
       "right": null,
       "top": null,
       "visibility": null,
       "width": null
      }
     },
     "cb0a04b3f4b34c989a40104707cf2c2f": {
      "model_module": "@jupyter-widgets/controls",
      "model_module_version": "1.5.0",
      "model_name": "ProgressStyleModel",
      "state": {
       "_model_module": "@jupyter-widgets/controls",
       "_model_module_version": "1.5.0",
       "_model_name": "ProgressStyleModel",
       "_view_count": null,
       "_view_module": "@jupyter-widgets/base",
       "_view_module_version": "1.2.0",
       "_view_name": "StyleView",
       "bar_color": null,
       "description_width": ""
      }
     },
     "d7bed0ba26e847fba206da9ab64d70c1": {
      "model_module": "@jupyter-widgets/controls",
      "model_module_version": "1.5.0",
      "model_name": "DescriptionStyleModel",
      "state": {
       "_model_module": "@jupyter-widgets/controls",
       "_model_module_version": "1.5.0",
       "_model_name": "DescriptionStyleModel",
       "_view_count": null,
       "_view_module": "@jupyter-widgets/base",
       "_view_module_version": "1.2.0",
       "_view_name": "StyleView",
       "description_width": ""
      }
     },
     "e1a194c37eaa4534ace1214c79d1ab7d": {
      "model_module": "@jupyter-widgets/controls",
      "model_module_version": "1.5.0",
      "model_name": "HBoxModel",
      "state": {
       "_dom_classes": [],
       "_model_module": "@jupyter-widgets/controls",
       "_model_module_version": "1.5.0",
       "_model_name": "HBoxModel",
       "_view_count": null,
       "_view_module": "@jupyter-widgets/controls",
       "_view_module_version": "1.5.0",
       "_view_name": "HBoxView",
       "box_style": "",
       "children": [
        "IPY_MODEL_0a6bf3a9cd0d4fca9df477d9aee9d98f",
        "IPY_MODEL_1ceefb9262704ae1a6368a9476b1ecd1",
        "IPY_MODEL_4ef5dbfa59b143918d6eb444edce2cfa"
       ],
       "layout": "IPY_MODEL_b9a37c6316f440b6a1b3519cc2a71c1b"
      }
     },
     "ff3b5502ecf34f0fb06994bf095f0ca2": {
      "model_module": "@jupyter-widgets/base",
      "model_module_version": "1.2.0",
      "model_name": "LayoutModel",
      "state": {
       "_model_module": "@jupyter-widgets/base",
       "_model_module_version": "1.2.0",
       "_model_name": "LayoutModel",
       "_view_count": null,
       "_view_module": "@jupyter-widgets/base",
       "_view_module_version": "1.2.0",
       "_view_name": "LayoutView",
       "align_content": null,
       "align_items": null,
       "align_self": null,
       "border": null,
       "bottom": null,
       "display": null,
       "flex": null,
       "flex_flow": null,
       "grid_area": null,
       "grid_auto_columns": null,
       "grid_auto_flow": null,
       "grid_auto_rows": null,
       "grid_column": null,
       "grid_gap": null,
       "grid_row": null,
       "grid_template_areas": null,
       "grid_template_columns": null,
       "grid_template_rows": null,
       "height": null,
       "justify_content": null,
       "justify_items": null,
       "left": null,
       "margin": null,
       "max_height": null,
       "max_width": null,
       "min_height": null,
       "min_width": null,
       "object_fit": null,
       "object_position": null,
       "order": null,
       "overflow": null,
       "overflow_x": null,
       "overflow_y": null,
       "padding": null,
       "right": null,
       "top": null,
       "visibility": null,
       "width": null
      }
     }
    },
    "version_major": 2,
    "version_minor": 0
   }
  }
 },
 "nbformat": 4,
 "nbformat_minor": 5
}
