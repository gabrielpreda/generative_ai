{
 "cells": [
  {
   "cell_type": "markdown",
   "id": "d910694d",
   "metadata": {
    "_cell_guid": "b1076dfc-b9ad-4769-8c92-a6c4dae69d19",
    "_uuid": "8f2839f25d086af736a60e9eeb907d3b93b6e0e5",
    "papermill": {
     "duration": 0.007985,
     "end_time": "2024-03-30T21:17:41.979232",
     "exception": false,
     "start_time": "2024-03-30T21:17:41.971247",
     "status": "completed"
    },
    "tags": []
   },
   "source": [
    "<h1>Gemma, please teach me Data Science!</h1>\n",
    "\n",
    "\n",
    "\n",
    "# Introduction\n",
    "\n",
    "This notebook aims to show how we can, with a very simple approach, to exploit the rich information that Gemma already acquired through training and answer questions about Data Science. Let's go!\n"
   ]
  },
  {
   "cell_type": "markdown",
   "id": "864c330b",
   "metadata": {
    "papermill": {
     "duration": 0.006692,
     "end_time": "2024-03-30T21:17:41.993129",
     "exception": false,
     "start_time": "2024-03-30T21:17:41.986437",
     "status": "completed"
    },
    "tags": []
   },
   "source": [
    "# Install resources\n",
    "\n",
    "We start with few logistic steps, installing the needed resources and preparing our tools.\n",
    "\n",
    "We will use Gemma through Keras interface.\n",
    "\n",
    "## Install Keras NLP and Keras"
   ]
  },
  {
   "cell_type": "code",
   "execution_count": 1,
   "id": "be66f6cb",
   "metadata": {
    "execution": {
     "iopub.execute_input": "2024-03-30T21:17:42.008837Z",
     "iopub.status.busy": "2024-03-30T21:17:42.008425Z",
     "iopub.status.idle": "2024-03-30T21:18:19.019588Z",
     "shell.execute_reply": "2024-03-30T21:18:19.018232Z"
    },
    "papermill": {
     "duration": 37.022289,
     "end_time": "2024-03-30T21:18:19.022493",
     "exception": false,
     "start_time": "2024-03-30T21:17:42.000204",
     "status": "completed"
    },
    "tags": []
   },
   "outputs": [
    {
     "name": "stdout",
     "output_type": "stream",
     "text": [
      "\u001b[31mERROR: pip's dependency resolver does not currently take into account all the packages that are installed. This behaviour is the source of the following dependency conflicts.\r\n",
      "tensorflow-decision-forests 1.8.1 requires wurlitzer, which is not installed.\u001b[0m\u001b[31m\r\n",
      "\u001b[0m\u001b[31mERROR: pip's dependency resolver does not currently take into account all the packages that are installed. This behaviour is the source of the following dependency conflicts.\r\n",
      "tensorflow-decision-forests 1.8.1 requires wurlitzer, which is not installed.\r\n",
      "tensorflow 2.15.0 requires keras<2.16,>=2.15.0, but you have keras 3.1.1 which is incompatible.\u001b[0m\u001b[31m\r\n",
      "\u001b[0m"
     ]
    }
   ],
   "source": [
    "!pip install -q -U keras-nlp\n",
    "!pip install -q -U keras>=3"
   ]
  },
  {
   "cell_type": "markdown",
   "id": "23d07bfd",
   "metadata": {
    "papermill": {
     "duration": 0.006865,
     "end_time": "2024-03-30T21:18:19.036677",
     "exception": false,
     "start_time": "2024-03-30T21:18:19.029812",
     "status": "completed"
    },
    "tags": []
   },
   "source": [
    "## Import packages"
   ]
  },
  {
   "cell_type": "code",
   "execution_count": 2,
   "id": "393d3bfe",
   "metadata": {
    "execution": {
     "iopub.execute_input": "2024-03-30T21:18:19.053129Z",
     "iopub.status.busy": "2024-03-30T21:18:19.052694Z",
     "iopub.status.idle": "2024-03-30T21:18:34.901425Z",
     "shell.execute_reply": "2024-03-30T21:18:34.900426Z"
    },
    "papermill": {
     "duration": 15.860271,
     "end_time": "2024-03-30T21:18:34.904183",
     "exception": false,
     "start_time": "2024-03-30T21:18:19.043912",
     "status": "completed"
    },
    "tags": []
   },
   "outputs": [
    {
     "name": "stderr",
     "output_type": "stream",
     "text": [
      "2024-03-30 21:18:21.090353: E external/local_xla/xla/stream_executor/cuda/cuda_dnn.cc:9261] Unable to register cuDNN factory: Attempting to register factory for plugin cuDNN when one has already been registered\n",
      "2024-03-30 21:18:21.090499: E external/local_xla/xla/stream_executor/cuda/cuda_fft.cc:607] Unable to register cuFFT factory: Attempting to register factory for plugin cuFFT when one has already been registered\n",
      "2024-03-30 21:18:21.237839: E external/local_xla/xla/stream_executor/cuda/cuda_blas.cc:1515] Unable to register cuBLAS factory: Attempting to register factory for plugin cuBLAS when one has already been registered\n"
     ]
    }
   ],
   "source": [
    "import keras\n",
    "import keras_nlp\n",
    "import os\n",
    "import warnings\n",
    "warnings.filterwarnings(\"ignore\")"
   ]
  },
  {
   "cell_type": "markdown",
   "id": "652f7814",
   "metadata": {
    "papermill": {
     "duration": 0.00702,
     "end_time": "2024-03-30T21:18:34.918627",
     "exception": false,
     "start_time": "2024-03-30T21:18:34.911607",
     "status": "completed"
    },
    "tags": []
   },
   "source": [
    "## Setup some environment variables"
   ]
  },
  {
   "cell_type": "code",
   "execution_count": 3,
   "id": "dc6c0809",
   "metadata": {
    "execution": {
     "iopub.execute_input": "2024-03-30T21:18:34.934980Z",
     "iopub.status.busy": "2024-03-30T21:18:34.934302Z",
     "iopub.status.idle": "2024-03-30T21:18:34.940257Z",
     "shell.execute_reply": "2024-03-30T21:18:34.938914Z"
    },
    "papermill": {
     "duration": 0.016694,
     "end_time": "2024-03-30T21:18:34.942489",
     "exception": false,
     "start_time": "2024-03-30T21:18:34.925795",
     "status": "completed"
    },
    "tags": []
   },
   "outputs": [],
   "source": [
    "# Select the desired backend for Keras. Options: \"jax\", \"tensorflow\", or \"torch\".\n",
    "os.environ[\"KERAS_BACKEND\"] = \"jax\"  # Adjust as needed.\n",
    "\n",
    "# Specific to the JAX backend, this setting helps avoid memory fragmentation, ensuring more efficient resource use.\n",
    "os.environ[\"XLA_PYTHON_CLIENT_MEM_FRACTION\"] = \"1.00\""
   ]
  },
  {
   "cell_type": "markdown",
   "id": "caba08a7",
   "metadata": {
    "papermill": {
     "duration": 0.006982,
     "end_time": "2024-03-30T21:18:34.956750",
     "exception": false,
     "start_time": "2024-03-30T21:18:34.949768",
     "status": "completed"
    },
    "tags": []
   },
   "source": [
    "## Load Gemma Causal LM\n",
    "\n",
    "We will try for this application `gemma_instruct_2b_en`."
   ]
  },
  {
   "cell_type": "code",
   "execution_count": 4,
   "id": "93656cb8",
   "metadata": {
    "execution": {
     "iopub.execute_input": "2024-03-30T21:18:34.973552Z",
     "iopub.status.busy": "2024-03-30T21:18:34.972949Z",
     "iopub.status.idle": "2024-03-30T21:20:00.084500Z",
     "shell.execute_reply": "2024-03-30T21:20:00.083474Z"
    },
    "papermill": {
     "duration": 85.123266,
     "end_time": "2024-03-30T21:20:00.087363",
     "exception": false,
     "start_time": "2024-03-30T21:18:34.964097",
     "status": "completed"
    },
    "tags": []
   },
   "outputs": [
    {
     "name": "stderr",
     "output_type": "stream",
     "text": [
      "Attaching 'config.json' from model 'keras/gemma/keras/gemma_instruct_2b_en/2' to your Kaggle notebook...\n",
      "Attaching 'config.json' from model 'keras/gemma/keras/gemma_instruct_2b_en/2' to your Kaggle notebook...\n",
      "Attaching 'model.weights.h5' from model 'keras/gemma/keras/gemma_instruct_2b_en/2' to your Kaggle notebook...\n",
      "Attaching 'tokenizer.json' from model 'keras/gemma/keras/gemma_instruct_2b_en/2' to your Kaggle notebook...\n",
      "Attaching 'assets/tokenizer/vocabulary.spm' from model 'keras/gemma/keras/gemma_instruct_2b_en/2' to your Kaggle notebook...\n",
      "normalizer.cc(51) LOG(INFO) precompiled_charsmap is empty. use identity normalization.\n"
     ]
    }
   ],
   "source": [
    "gemma_lm = keras_nlp.models.GemmaCausalLM.from_preset(\"gemma_instruct_2b_en\")"
   ]
  },
  {
   "cell_type": "markdown",
   "id": "8f476c4d",
   "metadata": {
    "papermill": {
     "duration": 0.00807,
     "end_time": "2024-03-30T21:20:00.104110",
     "exception": false,
     "start_time": "2024-03-30T21:20:00.096040",
     "status": "completed"
    },
    "tags": []
   },
   "source": [
    "# Setup the Q&A class\n",
    "\n",
    "\n",
    "We will setup a class for querying directly the Gemma model about Data Science."
   ]
  },
  {
   "cell_type": "code",
   "execution_count": 5,
   "id": "67c17653",
   "metadata": {
    "execution": {
     "iopub.execute_input": "2024-03-30T21:20:00.121952Z",
     "iopub.status.busy": "2024-03-30T21:20:00.121524Z",
     "iopub.status.idle": "2024-03-30T21:20:00.129600Z",
     "shell.execute_reply": "2024-03-30T21:20:00.128379Z"
    },
    "papermill": {
     "duration": 0.020189,
     "end_time": "2024-03-30T21:20:00.132388",
     "exception": false,
     "start_time": "2024-03-30T21:20:00.112199",
     "status": "completed"
    },
    "tags": []
   },
   "outputs": [],
   "source": [
    "class GemmaQA:\n",
    "    def __init__(self, max_length=512):\n",
    "        self.max_length = max_length\n",
    "        self.prompt = \"\"\"\n",
    "            You are an AI assistant designed to answer questions about Data Science.\n",
    "            Reasoning: If the question is not related to Data Science, simply state politely this.\n",
    "            If it is a complex question, think step by step. If needed, include your reasoning process.\n",
    "            Question: {question}\n",
    "            Answer:\n",
    "        \"\"\"\n",
    "        self.gemma_lm = gemma_lm\n",
    "        \n",
    "    def query(self, question):\n",
    "        response = self.gemma_lm.generate(\n",
    "            self.prompt.format(\n",
    "                question=question), \n",
    "            max_length=self.max_length)\n",
    "        print(response)\n",
    "        "
   ]
  },
  {
   "cell_type": "markdown",
   "id": "4aa7c446",
   "metadata": {
    "papermill": {
     "duration": 0.007843,
     "end_time": "2024-03-30T21:20:00.148286",
     "exception": false,
     "start_time": "2024-03-30T21:20:00.140443",
     "status": "completed"
    },
    "tags": []
   },
   "source": [
    "Let's initialize the class. Because we are not giving any parameters, the default initialization with `max_length` = 512 will be used."
   ]
  },
  {
   "cell_type": "code",
   "execution_count": 6,
   "id": "1ee80a4a",
   "metadata": {
    "execution": {
     "iopub.execute_input": "2024-03-30T21:20:00.165979Z",
     "iopub.status.busy": "2024-03-30T21:20:00.165560Z",
     "iopub.status.idle": "2024-03-30T21:20:00.170372Z",
     "shell.execute_reply": "2024-03-30T21:20:00.169330Z"
    },
    "papermill": {
     "duration": 0.016548,
     "end_time": "2024-03-30T21:20:00.172805",
     "exception": false,
     "start_time": "2024-03-30T21:20:00.156257",
     "status": "completed"
    },
    "tags": []
   },
   "outputs": [],
   "source": [
    "gemma_qanda = GemmaQA()"
   ]
  },
  {
   "cell_type": "markdown",
   "id": "4be84200",
   "metadata": {
    "papermill": {
     "duration": 0.007653,
     "end_time": "2024-03-30T21:20:00.188472",
     "exception": false,
     "start_time": "2024-03-30T21:20:00.180819",
     "status": "completed"
    },
    "tags": []
   },
   "source": [
    "# Test the model - ask few questions on Data Science"
   ]
  },
  {
   "cell_type": "markdown",
   "id": "df616c29",
   "metadata": {
    "papermill": {
     "duration": 0.007588,
     "end_time": "2024-03-30T21:20:00.204000",
     "exception": false,
     "start_time": "2024-03-30T21:20:00.196412",
     "status": "completed"
    },
    "tags": []
   },
   "source": [
    "## Question 1: Ask about sklearn\n",
    "\n",
    "Let's test first with a simple question about `sklearn`."
   ]
  },
  {
   "cell_type": "code",
   "execution_count": 7,
   "id": "ad52e532",
   "metadata": {
    "execution": {
     "iopub.execute_input": "2024-03-30T21:20:00.221035Z",
     "iopub.status.busy": "2024-03-30T21:20:00.220645Z",
     "iopub.status.idle": "2024-03-30T21:34:47.790916Z",
     "shell.execute_reply": "2024-03-30T21:34:47.788963Z"
    },
    "papermill": {
     "duration": 887.596425,
     "end_time": "2024-03-30T21:34:47.808151",
     "exception": false,
     "start_time": "2024-03-30T21:20:00.211726",
     "status": "completed"
    },
    "tags": []
   },
   "outputs": [
    {
     "name": "stderr",
     "output_type": "stream",
     "text": [
      "WARNING: All log messages before absl::InitializeLog() is called are written to STDERR\n",
      "I0000 00:00:1711833625.196517      18 device_compiler.h:186] Compiled cluster using XLA!  This line is logged at most once for the lifetime of the process.\n",
      "2024-03-30 21:20:25.241288: E external/local_xla/xla/stream_executor/stream_executor_internal.h:177] SetPriority unimplemented for this stream.\n"
     ]
    },
    {
     "name": "stdout",
     "output_type": "stream",
     "text": [
      "\n",
      "            You are an AI assistant designed to answer questions about Data Science.\n",
      "            Reasoning: If the question is not related to Data Science, simply state politely this.\n",
      "            If it is a complex question, think step by step. If needed, include your reasoning process.\n",
      "            Question: Please teach me how to do a train test split using sklearn\n",
      "            Answer:\n",
      "        Sure, here's a step-by-step explanation of how to perform a train-test split using the scikit-learn library in Python:\n",
      "\n",
      "**Step 1: Import the necessary libraries**\n",
      "\n",
      "```python\n",
      "import sklearn.model_selection as train_test_split\n",
      "```\n",
      "\n",
      "**Step 2: Load your data**\n",
      "\n",
      "```python\n",
      "X_train, X_test, y_train, y_test = train_test_split.train_test_split(X, y, test_size=0.2)\n",
      "```\n",
      "\n",
      "**Explanation:**\n",
      "\n",
      "* `train_test_split` is a function from the `sklearn.model_selection` module that performs the train-test split.\n",
      "* `X` is the feature data.\n",
      "* `y` is the target data.\n",
      "* `test_size` is the size of the test set. In this case, we set it to 20% of the data.\n",
      "\n",
      "**Step 3: Split the data into training and testing sets**\n",
      "\n",
      "The `train_test_split` function returns a tuple containing the training and testing sets.\n",
      "\n",
      "* `X_train` contains the training data.\n",
      "* `y_train` contains the corresponding target data for the training set.\n",
      "* `X_test` contains the testing data.\n",
      "* `y_test` contains the corresponding target data for the testing set.\n",
      "\n",
      "**Step 4: Check the split**\n",
      "\n",
      "You can check the split by printing the shape of the training and testing sets:\n",
      "\n",
      "```python\n",
      "print(f\"Number of training samples: {len(X_train)}\")\n",
      "print(f\"Number of testing samples: {len(X_test)}\")\n",
      "```\n",
      "\n",
      "**Step 5: Use the split data for training and testing**\n",
      "\n",
      "You can now use the split data for training your model and testing its performance on the held-out test set.\n",
      "\n",
      "**Additional Notes:**\n",
      "\n",
      "* You can adjust the `test_size` parameter to control the size of the test set.\n",
      "* You can\n"
     ]
    }
   ],
   "source": [
    "gemma_qanda.query(\"Please teach me how to do a train test split using sklearn\")"
   ]
  },
  {
   "cell_type": "markdown",
   "id": "561a5c5f",
   "metadata": {
    "papermill": {
     "duration": 0.008022,
     "end_time": "2024-03-30T21:34:47.824967",
     "exception": false,
     "start_time": "2024-03-30T21:34:47.816945",
     "status": "completed"
    },
    "tags": []
   },
   "source": [
    "## Question 2: Ask about bias and variance\n",
    "\n",
    "Now, let's ask something different. Will ask Gemma about bias and variance."
   ]
  },
  {
   "cell_type": "code",
   "execution_count": 8,
   "id": "90e7ed25",
   "metadata": {
    "execution": {
     "iopub.execute_input": "2024-03-30T21:34:47.845132Z",
     "iopub.status.busy": "2024-03-30T21:34:47.844343Z",
     "iopub.status.idle": "2024-03-30T21:45:19.335685Z",
     "shell.execute_reply": "2024-03-30T21:45:19.334758Z"
    },
    "papermill": {
     "duration": 631.513547,
     "end_time": "2024-03-30T21:45:19.346790",
     "exception": false,
     "start_time": "2024-03-30T21:34:47.833243",
     "status": "completed"
    },
    "tags": []
   },
   "outputs": [
    {
     "name": "stdout",
     "output_type": "stream",
     "text": [
      "\n",
      "            You are an AI assistant designed to answer questions about Data Science.\n",
      "            Reasoning: If the question is not related to Data Science, simply state politely this.\n",
      "            If it is a complex question, think step by step. If needed, include your reasoning process.\n",
      "            Question: Please explain to me the concepts of bias and variance\n",
      "            Answer:\n",
      "        Sure, here's a breakdown of the concepts of bias and variance:\n",
      "\n",
      "**Bias:**\n",
      "\n",
      "* Bias is a systematic error in a model that results from the training data.\n",
      "* It can be caused by factors such as:\n",
      "    * Choosing an inappropriate learning algorithm\n",
      "    * Using biased data\n",
      "    * Failing to account for important features\n",
      "* Bias can lead to unfair or inaccurate predictions.\n",
      "\n",
      "**Variance:**\n",
      "\n",
      "* Variance is a measure of how much the predicted value of a data point varies from one sample to another.\n",
      "* It can be calculated by looking at the spread of the data points in a distribution.\n",
      "* Higher variance indicates that the predicted value is more sensitive to changes in the data.\n",
      "\n",
      "**Relationship between bias and variance:**\n",
      "\n",
      "* Bias and variance are closely related. High bias can lead to high variance, while high variance can lead to high bias.\n",
      "* This is because bias can cause the model to make systematic errors, which can then be amplified by variance.\n",
      "\n",
      "**Example:**\n",
      "\n",
      "* A model that is biased towards a particular group of people may have high bias but low variance.\n",
      "* This is because the model is only making errors on a subset of the data, which is relatively consistent.\n",
      "\n",
      "**In summary:**\n",
      "\n",
      "* Bias is a systematic error in a model that results from the training data.\n",
      "* Variance is a measure of how much the predicted value of a data point varies from one sample to another.\n",
      "* Bias and variance are closely related, and high bias can lead to high variance.\n"
     ]
    }
   ],
   "source": [
    "gemma_qanda.query(\"Please explain to me the concepts of bias and variance\")"
   ]
  },
  {
   "cell_type": "markdown",
   "id": "b378ba28",
   "metadata": {
    "papermill": {
     "duration": 0.007791,
     "end_time": "2024-03-30T21:45:19.362851",
     "exception": false,
     "start_time": "2024-03-30T21:45:19.355060",
     "status": "completed"
    },
    "tags": []
   },
   "source": [
    "## Question 3: Ask about Dropout\n",
    "\n",
    "Let's ask something from Deep Learning, more specific, about Dropout layers."
   ]
  },
  {
   "cell_type": "code",
   "execution_count": 9,
   "id": "d4590d5d",
   "metadata": {
    "execution": {
     "iopub.execute_input": "2024-03-30T21:45:19.381608Z",
     "iopub.status.busy": "2024-03-30T21:45:19.381207Z",
     "iopub.status.idle": "2024-03-30T21:57:18.315935Z",
     "shell.execute_reply": "2024-03-30T21:57:18.314965Z"
    },
    "papermill": {
     "duration": 718.956261,
     "end_time": "2024-03-30T21:57:18.327698",
     "exception": false,
     "start_time": "2024-03-30T21:45:19.371437",
     "status": "completed"
    },
    "tags": []
   },
   "outputs": [
    {
     "name": "stdout",
     "output_type": "stream",
     "text": [
      "\n",
      "            You are an AI assistant designed to answer questions about Data Science.\n",
      "            Reasoning: If the question is not related to Data Science, simply state politely this.\n",
      "            If it is a complex question, think step by step. If needed, include your reasoning process.\n",
      "            Question: What is the role of Dropout layer added to a Deep Learning architecture?\n",
      "            Answer:\n",
      "        Sure, here's the answer to your question:\n",
      "\n",
      "**Role of Dropout Layer in Deep Learning Architecture:**\n",
      "\n",
      "The Dropout layer is a technique used in deep learning models to address overfitting and improve generalization performance. It involves randomly dropping out neurons or groups of neurons during training.\n",
      "\n",
      "**Step 1: Initialization:**\n",
      "- Before the model is trained, the dropout rate is set, which is a probability determined by the user.\n",
      "- The dropout layer randomly selects neurons to keep during each training iteration.\n",
      "- The number of neurons dropped out is equal to the dropout rate multiplied by the total number of neurons in the layer.\n",
      "\n",
      "**Step 2: Training:**\n",
      "- During training, the model randomly drops out neurons during each iteration.\n",
      "- This means that some neurons are not used for calculation during each step.\n",
      "- The model is essentially training a smaller subset of neurons, which can help to prevent overfitting.\n",
      "\n",
      "**Step 3: Backpropagation:**\n",
      "- Dropout is applied during backpropagation, the process by which the model updates its weights and biases to minimize the error between the model's predictions and the actual target values.\n",
      "- During backpropagation, the dropout layer helps to ensure that the model updates weights that are most relevant to the task at hand.\n",
      "\n",
      "**Benefits of Dropout:**\n",
      "\n",
      "- Reduces overfitting by preventing the model from memorizing specific training patterns.\n",
      "- Improves generalization performance by exposing the model to a wider range of data.\n",
      "- Reduces computational cost by reducing the number of computations required for backpropagation.\n",
      "\n",
      "**Conclusion:**\n",
      "\n",
      "The Dropout layer is an important technique in deep learning that helps to address overfitting and improve generalization performance. By randomly dropping out neurons during training, it forces the model to learn more robust representations of the data.\n"
     ]
    }
   ],
   "source": [
    "gemma_qanda.query(\"What is the role of Dropout layer added to a Deep Learning architecture?\")"
   ]
  },
  {
   "cell_type": "markdown",
   "id": "b1e08ae3",
   "metadata": {
    "papermill": {
     "duration": 0.008541,
     "end_time": "2024-03-30T21:57:18.344840",
     "exception": false,
     "start_time": "2024-03-30T21:57:18.336299",
     "status": "completed"
    },
    "tags": []
   },
   "source": [
    "## Question 4: Ask about model calibration\n",
    "\n",
    "Now, let's ask a more advanced question."
   ]
  },
  {
   "cell_type": "code",
   "execution_count": 10,
   "id": "ff77d86c",
   "metadata": {
    "execution": {
     "iopub.execute_input": "2024-03-30T21:57:18.364743Z",
     "iopub.status.busy": "2024-03-30T21:57:18.363990Z",
     "iopub.status.idle": "2024-03-30T22:10:53.329761Z",
     "shell.execute_reply": "2024-03-30T22:10:53.328746Z"
    },
    "papermill": {
     "duration": 814.987793,
     "end_time": "2024-03-30T22:10:53.341496",
     "exception": false,
     "start_time": "2024-03-30T21:57:18.353703",
     "status": "completed"
    },
    "tags": []
   },
   "outputs": [
    {
     "name": "stdout",
     "output_type": "stream",
     "text": [
      "\n",
      "            You are an AI assistant designed to answer questions about Data Science.\n",
      "            Reasoning: If the question is not related to Data Science, simply state politely this.\n",
      "            If it is a complex question, think step by step. If needed, include your reasoning process.\n",
      "            Question: Could you explain, in the context of Data Science, what is model calibration?\n",
      "            Answer:\n",
      "        Sure, here's a comprehensive explanation of model calibration in the context of Data Science:\n",
      "\n",
      "**Model Calibration**\n",
      "\n",
      "Model calibration is the process of adjusting the parameters of a machine learning model to improve its performance on unseen data. This is a crucial step in the data science workflow, as it ensures that the model is accurate and reliable.\n",
      "\n",
      "**Key Concepts:**\n",
      "\n",
      "* **Model Parameters:** These are the internal settings of the model that determine its behavior. For example, in linear regression, the model parameters are the slope and intercept.\n",
      "* **Calibration Data:** This is a set of data that is specifically designed to be difficult for the model to learn from. It is often used to fine-tune the model's parameters.\n",
      "* **Calibration Algorithm:** This is a set of instructions that guide the model to learn from the calibration data. There are various calibration algorithms available, each with its own strengths and weaknesses.\n",
      "* **Model Performance:** After calibration, the model is evaluated on a separate test dataset. This allows us to measure its accuracy and performance.\n",
      "\n",
      "**Steps in Model Calibration:**\n",
      "\n",
      "1. **Data Preparation:** Clean and prepare the calibration data for modeling.\n",
      "2. **Model Selection:** Choose an appropriate model for calibration.\n",
      "3. **Parameter Initialization:** Set the initial values of the model parameters.\n",
      "4. **Calibration Loop:**\n",
      "   a. Train the model on the calibration data.\n",
      "   b. Evaluate the model's performance on the validation data.\n",
      "   c. Adjust the model parameters based on the validation data.\n",
      "5. **Final Model:** After the calibration process is complete, the model is saved and used for prediction.\n",
      "\n",
      "**Benefits of Model Calibration:**\n",
      "\n",
      "* Improves model accuracy and performance.\n",
      "* Reduces overfitting and improvesgeneralizability.\n",
      "* Helps to identify and address model biases.\n",
      "\n",
      "**Note:** Model calibration can be a complex and iterative process, especially for complex models. The specific steps and algorithms used will vary depending on the model and the data.\n"
     ]
    }
   ],
   "source": [
    "gemma_qanda.query(\"Could you explain, in the context of Data Science, what is model calibration?\")"
   ]
  },
  {
   "cell_type": "markdown",
   "id": "6feeee0d",
   "metadata": {
    "papermill": {
     "duration": 0.00833,
     "end_time": "2024-03-30T22:10:53.358377",
     "exception": false,
     "start_time": "2024-03-30T22:10:53.350047",
     "status": "completed"
    },
    "tags": []
   },
   "source": [
    "# Conclusions\n",
    "\n",
    "In this first attempt to create a simple tool to answer to our questions about Data Science, we tested the capability of Gemma model to answer to few questions related to Data Science directly, without prompting it with some special documentation.\n",
    "\n",
    "The results were quite good, actually unexpected good, considering that we were just using a system prompt adapted to the task. Maybe the last question could have been answered better, but, well, how many of us have actually used Platt calibrations curves or other method for model calibration? Btw., here is a good article describing the concepts related to model calibration: [A Comprehensive Guide on Model Calibration: What, When, and How](https://towardsdatascience.com/a-comprehensive-guide-on-model-calibration-part-1-of-4-73466eb5e09a)\n",
    "\n",
    "The results shows that Gemma was trained well with data about Data Science domain. To further extend and maybe take it up-to-date, we can ingest recent information about Data Science in a vector database and create a Retrieval Augmented Generation system.\n"
   ]
  }
 ],
 "metadata": {
  "kaggle": {
   "accelerator": "none",
   "dataSources": [
    {
     "databundleVersionId": 7669720,
     "sourceId": 64148,
     "sourceType": "competition"
    },
    {
     "modelInstanceId": 5388,
     "sourceId": 11372,
     "sourceType": "modelInstanceVersion"
    }
   ],
   "dockerImageVersionId": 30673,
   "isGpuEnabled": false,
   "isInternetEnabled": true,
   "language": "python",
   "sourceType": "notebook"
  },
  "kernelspec": {
   "display_name": "Python 3",
   "language": "python",
   "name": "python3"
  },
  "language_info": {
   "codemirror_mode": {
    "name": "ipython",
    "version": 3
   },
   "file_extension": ".py",
   "mimetype": "text/x-python",
   "name": "python",
   "nbconvert_exporter": "python",
   "pygments_lexer": "ipython3",
   "version": "3.10.13"
  },
  "papermill": {
   "default_parameters": {},
   "duration": 3197.806152,
   "end_time": "2024-03-30T22:10:56.741268",
   "environment_variables": {},
   "exception": null,
   "input_path": "__notebook__.ipynb",
   "output_path": "__notebook__.ipynb",
   "parameters": {},
   "start_time": "2024-03-30T21:17:38.935116",
   "version": "2.5.0"
  }
 },
 "nbformat": 4,
 "nbformat_minor": 5
}
